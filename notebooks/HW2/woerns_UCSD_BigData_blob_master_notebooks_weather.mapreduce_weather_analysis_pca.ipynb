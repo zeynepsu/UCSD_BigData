{
 "metadata": {
  "name": "",
  "signature": "sha256:9f87da6245a43b12ce5e7c4ebf434dd4f1b49c9765ce121ae81f0acd26cd7687"
 },
 "nbformat": 3,
 "nbformat_minor": 0,
 "worksheets": [
  {
   "cells": [
    {
     "cell_type": "heading",
     "level": 1,
     "metadata": {},
     "source": [
      "Weather Analysis using MapReduce (Part 3)"
     ]
    },
    {
     "cell_type": "code",
     "collapsed": false,
     "input": [
      "import pandas as pd\n",
      "import numpy as np\n",
      "import sklearn as sk\n",
      "\n",
      "print 'pandas version: ',pd.__version__\n",
      "print 'numpy version:',np.__version__\n",
      "print 'sklearn version:',sk.__version__"
     ],
     "language": "python",
     "metadata": {},
     "outputs": [
      {
       "output_type": "stream",
       "stream": "stdout",
       "text": [
        "pandas version:  0.13.1\n",
        "numpy version: 1.8.1\n",
        "sklearn version: 0.14.1\n"
       ]
      }
     ],
     "prompt_number": 1
    },
    {
     "cell_type": "code",
     "collapsed": false,
     "input": [
      "import sys\n",
      "home_dir='/home/ubuntu/UCSD_BigData'\n",
      "sys.path.append(home_dir+'/utils')\n",
      "from find_waiting_flow import *\n",
      "from AWS_keypair_management import *"
     ],
     "language": "python",
     "metadata": {},
     "outputs": [],
     "prompt_number": 2
    },
    {
     "cell_type": "heading",
     "level": 2,
     "metadata": {},
     "source": [
      "3. Principal component analysis (PCA)"
     ]
    },
    {
     "cell_type": "markdown",
     "metadata": {},
     "source": [
      "The covariance matrix of a $M\\times N$ matrix $X$ can be computed via\n",
      "\n",
      "$$ Cov(X) = \\frac{1}{N}\\sum^N_{i=1} (\\boldsymbol{x_i}-\\boldsymbol{\\mu}) (\\boldsymbol{x_i}-\\boldsymbol{\\mu})^T $$\n",
      "\n",
      "where $\\boldsymbol{x_i}, i = 1,...,N$ are the column vectors of matrix $X$ and \n",
      "\n",
      "$$\\boldsymbol{\\mu}=\\frac{1}{N}\\sum^N_{i=1} \\boldsymbol{x_i}$$\n",
      "\n",
      "is the mean vector of all column vectors of matrix $X$.\n",
      "\n",
      "As the covariance matrix is symmetric, it is sufficient to compute the upper diagonal elements instead of the whole matrix. This will save computational resources by roughly a factor of two."
     ]
    },
    {
     "cell_type": "markdown",
     "metadata": {},
     "source": [
      "We want to use these equations to compute the covariance matrix with MapReduce. First, we need to create a look up table that we will include as an additional file to the job. It contains the mapping information for each station to its partition, as well as the number of measurements within each partition. The number of measurements within each partition will be necessary to compute the mean vector."
     ]
    },
    {
     "cell_type": "markdown",
     "metadata": {},
     "source": [
      "To create the lookup table, we need to import the ``dfFinal`` and ``dfPartition`` dataframe from the previous part into our notebook."
     ]
    },
    {
     "cell_type": "code",
     "collapsed": false,
     "input": [
      "import pickle\n",
      "\n",
      "dfFinal = pickle.load(open('finalTable.pkl', 'rb'))\n",
      "dfPartition = pickle.load(open('partitionTable.pkl', 'rb'))"
     ],
     "language": "python",
     "metadata": {},
     "outputs": [],
     "prompt_number": 3
    },
    {
     "cell_type": "code",
     "collapsed": false,
     "input": [
      "dfLookup = dfFinal.ix[:,['station','partitionID']]\n",
      "dfLookup = dfLookup.join(dfPartition,on='partitionID')\n",
      "dfLookup.set_index('station',drop=True,inplace=True)\n",
      "dfLookup.head()"
     ],
     "language": "python",
     "metadata": {},
     "outputs": [
      {
       "html": [
        "<div style=\"max-height:1000px;max-width:1500px;overflow:auto;\">\n",
        "<table border=\"1\" class=\"dataframe\">\n",
        "  <thead>\n",
        "    <tr style=\"text-align: right;\">\n",
        "      <th></th>\n",
        "      <th>partitionID</th>\n",
        "      <th>N_TMIN365</th>\n",
        "    </tr>\n",
        "    <tr>\n",
        "      <th>station</th>\n",
        "      <th></th>\n",
        "      <th></th>\n",
        "    </tr>\n",
        "  </thead>\n",
        "  <tbody>\n",
        "    <tr>\n",
        "      <th>AJ000037668</th>\n",
        "      <td> 7126</td>\n",
        "      <td> 60590</td>\n",
        "    </tr>\n",
        "    <tr>\n",
        "      <th>AJ000037679</th>\n",
        "      <td> 3565</td>\n",
        "      <td> 48545</td>\n",
        "    </tr>\n",
        "    <tr>\n",
        "      <th>AJ000037734</th>\n",
        "      <td> 7125</td>\n",
        "      <td> 45260</td>\n",
        "    </tr>\n",
        "    <tr>\n",
        "      <th>AJ000037756</th>\n",
        "      <td> 3563</td>\n",
        "      <td> 60590</td>\n",
        "    </tr>\n",
        "    <tr>\n",
        "      <th>AJ000037844</th>\n",
        "      <td> 3563</td>\n",
        "      <td> 60590</td>\n",
        "    </tr>\n",
        "  </tbody>\n",
        "</table>\n",
        "<p>5 rows \u00d7 2 columns</p>\n",
        "</div>"
       ],
       "metadata": {},
       "output_type": "pyout",
       "prompt_number": 4,
       "text": [
        "             partitionID  N_TMIN365\n",
        "station                            \n",
        "AJ000037668         7126      60590\n",
        "AJ000037679         3565      48545\n",
        "AJ000037734         7125      45260\n",
        "AJ000037756         3563      60590\n",
        "AJ000037844         3563      60590\n",
        "\n",
        "[5 rows x 2 columns]"
       ]
      }
     ],
     "prompt_number": 4
    },
    {
     "cell_type": "code",
     "collapsed": false,
     "input": [
      "# Create pickle file\n",
      "dfLookup.to_pickle('partitions.pkl')\n",
      "# Gunzip pickle file\n",
      "!gzip partitions.pkl -f"
     ],
     "language": "python",
     "metadata": {},
     "outputs": [],
     "prompt_number": 5
    },
    {
     "cell_type": "code",
     "collapsed": false,
     "input": [
      "%ls partitions.pkl.gz -l"
     ],
     "language": "python",
     "metadata": {},
     "outputs": [
      {
       "output_type": "stream",
       "stream": "stdout",
       "text": [
        "-rw-rw-r-- 1 ubuntu ubuntu 606580 May 25 08:29 partitions.pkl.gz\r\n"
       ]
      }
     ],
     "prompt_number": 6
    },
    {
     "cell_type": "markdown",
     "metadata": {},
     "source": [
      "Second, we will separate the task of computing the covariance matrix of the partitions into two MapReduce jobs. The first job ``mr_weather_mean.py`` computes the mean vector for each partition."
     ]
    },
    {
     "cell_type": "code",
     "collapsed": false,
     "input": [
      "%%writefile mr_weather_mean.py\n",
      "\"\"\"\n",
      "compute mean vector for each partition\n",
      "\"\"\"\n",
      "import sys\n",
      "sys.path.append('/usr/lib/python2.7/dist-packages')\n",
      "from mrjob.job import MRJob\n",
      "import re\n",
      "from sys import stderr\n",
      "import pickle, gzip\n",
      "import pandas\n",
      "import numpy as np\n",
      "\n",
      "class MRWeatherMean(MRJob):\n",
      "\n",
      "    #This adds options --stations for the location of where to get the lookup file\n",
      "    def configure_options(self):\n",
      "        super(MRWeatherMean,self).configure_options()\n",
      "        self.add_file_option('--partitions')\n",
      "    #This loads the lookup file into a field on the object\n",
      "    def mapper_init(self):\n",
      "        f = gzip.open( self.options.partitions, \"rb\" )\n",
      "        pickleFile = pickle.Unpickler(f)\n",
      "        self.partitions = pickleFile.load()\n",
      "        f.close()\n",
      "\n",
      "    def mapper(self, _, line):\n",
      "        try:\n",
      "            self.increment_counter('MrJob Counters','mapper',1)\n",
      "            elements=line.split(',')       \n",
      "            if elements[0]=='station':\n",
      "                yield ('header',1)\n",
      "            else:\n",
      "                if elements[1]=='TMIN':\n",
      "                    partitionID = int(self.partitions.ix[elements[0],'partitionID'])\n",
      "                    N = (self.partitions.ix[elements[0],'N_TMIN365'])/365\n",
      "                    mvalues = np.array(elements[3:])\n",
      "                    if np.where(mvalues=='',True,False).any():\n",
      "                        yield ('incomplete',1)\n",
      "                    else:\n",
      "                        # Only consider complete series\n",
      "                        mvalues = mvalues.astype(np.float)\n",
      "                        mvalues = mvalues/N\n",
      "                        for i in xrange(365):\n",
      "                            yield ((partitionID,i+1),mvalues[i])\n",
      "                else:\n",
      "                    yield ('other',1)\n",
      "        except Exception, e:\n",
      "            stderr.write('Error in line:\\n'+line+'\\n')\n",
      "            stderr.write(str(e)+'\\n')\n",
      "            self.increment_counter('MrJob Counters','mapper-error',1)\n",
      "            yield ('error',1)\n",
      "            \n",
      "    def combiner(self, word, counts):\n",
      "        self.increment_counter('MrJob Counters','combiner',1)\n",
      "        yield (word,sum(counts))\n",
      "\n",
      "    def reducer(self, word, counts):\n",
      "        self.increment_counter('MrJob Counters','reducer',1)\n",
      "        yield (word,sum(counts))\n",
      "\n",
      "if __name__ == '__main__':\n",
      "    MRWeatherMean.run()"
     ],
     "language": "python",
     "metadata": {},
     "outputs": [
      {
       "output_type": "stream",
       "stream": "stdout",
       "text": [
        "Overwriting mr_weather_mean.py\n"
       ]
      }
     ],
     "prompt_number": 7
    },
    {
     "cell_type": "markdown",
     "metadata": {},
     "source": [
      "Before running on EMR, test locally:"
     ]
    },
    {
     "cell_type": "code",
     "collapsed": false,
     "input": [
      "!python mr_weather_mean.py --partitions partitions.pkl.gz \\\n",
      "/home/ubuntu/woerns/UCSD_BigData/data/weather/ALL.head.csv > TMINmean_test"
     ],
     "language": "python",
     "metadata": {},
     "outputs": [
      {
       "output_type": "stream",
       "stream": "stdout",
       "text": [
        "using configs in /home/ubuntu/.mrjob.conf\r\n",
        "creating tmp directory /tmp/mr_weather_mean.ubuntu.20140527.062333.948591\r\n"
       ]
      },
      {
       "output_type": "stream",
       "stream": "stdout",
       "text": [
        "writing to /tmp/mr_weather_mean.ubuntu.20140527.062333.948591/step-0-mapper_part-00000\r\n"
       ]
      },
      {
       "output_type": "stream",
       "stream": "stdout",
       "text": [
        "Counters from step 1:\r\n",
        "  MrJob Counters:\r\n",
        "    combiner: 1098\r\n",
        "    mapper: 1000\r\n",
        "writing to /tmp/mr_weather_mean.ubuntu.20140527.062333.948591/step-0-mapper-sorted\r\n",
        "> sort /tmp/mr_weather_mean.ubuntu.20140527.062333.948591/step-0-mapper_part-00000\r\n"
       ]
      },
      {
       "output_type": "stream",
       "stream": "stdout",
       "text": [
        "writing to /tmp/mr_weather_mean.ubuntu.20140527.062333.948591/step-0-reducer_part-00000\r\n"
       ]
      },
      {
       "output_type": "stream",
       "stream": "stdout",
       "text": [
        "Counters from step 1:\r\n",
        "  MrJob Counters:\r\n",
        "    combiner: 1098\r\n",
        "    mapper: 1000\r\n",
        "    reducer: 1098\r\n",
        "Moving /tmp/mr_weather_mean.ubuntu.20140527.062333.948591/step-0-reducer_part-00000 -> /tmp/mr_weather_mean.ubuntu.20140527.062333.948591/output/part-00000\r\n",
        "Streaming final output from /tmp/mr_weather_mean.ubuntu.20140527.062333.948591/output\r\n",
        "removing tmp directory /tmp/mr_weather_mean.ubuntu.20140527.062333.948591\r\n"
       ]
      }
     ],
     "prompt_number": 10
    },
    {
     "cell_type": "code",
     "collapsed": false,
     "input": [
      "Creds= pickle.load(open('/home/ubuntu/Vault/Creds.pkl','rb'))\n",
      "pair=Creds['mrjob']\n",
      "key_id=pair['key_id']\n",
      "secret_key=pair['secret_key']\n",
      "\n",
      "job_flow_id=find_waiting_flow(key_id,secret_key)"
     ],
     "language": "python",
     "metadata": {},
     "outputs": [],
     "prompt_number": 11
    },
    {
     "cell_type": "code",
     "collapsed": false,
     "input": [
      "!python mr_weather_mean.py --partitions partitions.pkl.gz \\\n",
      "-r emr --emr-job-flow-id $job_flow_id hdfs:/weather/weather.csv > TMINmean    "
     ],
     "language": "python",
     "metadata": {},
     "outputs": [
      {
       "output_type": "stream",
       "stream": "stdout",
       "text": [
        "using configs in /home/ubuntu/.mrjob.conf\r\n"
       ]
      },
      {
       "output_type": "stream",
       "stream": "stdout",
       "text": [
        "creating tmp directory /tmp/mr_weather_mean.ubuntu.20140527.024952.071051\r\n"
       ]
      },
      {
       "output_type": "stream",
       "stream": "stdout",
       "text": [
        "Copying non-input files into s3://woerns.bucket/scratch/mr_weather_mean.ubuntu.20140527.024952.071051/files/\r\n"
       ]
      },
      {
       "output_type": "stream",
       "stream": "stdout",
       "text": [
        "Adding our job to existing job flow j-6T8VIKMY8RHX\r\n"
       ]
      },
      {
       "output_type": "stream",
       "stream": "stdout",
       "text": [
        "Job launched 30.7s ago, status RUNNING: Running step\r\n"
       ]
      },
      {
       "output_type": "stream",
       "stream": "stdout",
       "text": [
        "Job launched 61.4s ago, status RUNNING: Running step\r\n"
       ]
      },
      {
       "output_type": "stream",
       "stream": "stdout",
       "text": [
        "Job launched 92.1s ago, status RUNNING: Running step\r\n"
       ]
      },
      {
       "output_type": "stream",
       "stream": "stdout",
       "text": [
        "Job launched 122.7s ago, status RUNNING: Running step\r\n"
       ]
      },
      {
       "output_type": "stream",
       "stream": "stdout",
       "text": [
        "Job launched 153.4s ago, status RUNNING: Running step\r\n"
       ]
      },
      {
       "output_type": "stream",
       "stream": "stdout",
       "text": [
        "Job launched 184.0s ago, status RUNNING: Running step\r\n"
       ]
      },
      {
       "output_type": "stream",
       "stream": "stdout",
       "text": [
        "Job launched 214.6s ago, status RUNNING: Running step\r\n"
       ]
      },
      {
       "output_type": "stream",
       "stream": "stdout",
       "text": [
        "Job launched 245.3s ago, status RUNNING: Running step\r\n"
       ]
      },
      {
       "output_type": "stream",
       "stream": "stdout",
       "text": [
        "Job launched 276.0s ago, status RUNNING: Running step\r\n"
       ]
      },
      {
       "output_type": "stream",
       "stream": "stdout",
       "text": [
        "Job launched 306.7s ago, status RUNNING: Running step\r\n"
       ]
      },
      {
       "output_type": "stream",
       "stream": "stdout",
       "text": [
        "Job launched 337.4s ago, status RUNNING: Running step\r\n"
       ]
      },
      {
       "output_type": "stream",
       "stream": "stdout",
       "text": [
        "Job launched 368.1s ago, status RUNNING: Running step\r\n"
       ]
      },
      {
       "output_type": "stream",
       "stream": "stdout",
       "text": [
        "Job launched 398.8s ago, status RUNNING: Running step\r\n"
       ]
      },
      {
       "output_type": "stream",
       "stream": "stdout",
       "text": [
        "Job launched 429.5s ago, status RUNNING: Running step\r\n"
       ]
      },
      {
       "output_type": "stream",
       "stream": "stdout",
       "text": [
        "Job launched 460.1s ago, status RUNNING: Running step\r\n"
       ]
      },
      {
       "output_type": "stream",
       "stream": "stdout",
       "text": [
        "Job launched 490.8s ago, status RUNNING: Running step\r\n"
       ]
      },
      {
       "output_type": "stream",
       "stream": "stdout",
       "text": [
        "Job launched 521.5s ago, status RUNNING: Running step\r\n"
       ]
      },
      {
       "output_type": "stream",
       "stream": "stdout",
       "text": [
        "Job launched 552.2s ago, status RUNNING: Running step\r\n"
       ]
      },
      {
       "output_type": "stream",
       "stream": "stdout",
       "text": [
        "Job launched 582.8s ago, status RUNNING: Running step\r\n"
       ]
      }
     ]
    },
    {
     "cell_type": "markdown",
     "metadata": {},
     "source": [
      "After successfully running the job, we can load the results into a dataframe"
     ]
    },
    {
     "cell_type": "code",
     "collapsed": false,
     "input": [
      "dfMean = pd.read_csv('TMINmean',delimiter=r\"[\\[,\\]\\t]+\",header=None,names=['prefix','partitionID','day','TMINmean'])\n",
      "# remove unecessary entries from MapReduce output\n",
      "dfMean = dfMean[dfMean.ix[:,'prefix'] != '\"header\"']\n",
      "dfMean = dfMean[dfMean.ix[:,'prefix'] != '\"other\"']\n",
      "dfMean = dfMean[dfMean.ix[:,'prefix'] != '\"incomplete\"'] \n",
      "dfMean = pd.pivot_table(dfMean,values='TMINmean',rows='partitionID',cols='day')\n",
      "dfMean.head()"
     ],
     "language": "python",
     "metadata": {},
     "outputs": [
      {
       "html": [
        "<div style=\"max-height:1000px;max-width:1500px;overflow:auto;\">\n",
        "<table border=\"1\" class=\"dataframe\">\n",
        "  <thead>\n",
        "    <tr style=\"text-align: right;\">\n",
        "      <th>day</th>\n",
        "      <th>1.0</th>\n",
        "      <th>2.0</th>\n",
        "      <th>3.0</th>\n",
        "      <th>4.0</th>\n",
        "      <th>5.0</th>\n",
        "      <th>6.0</th>\n",
        "      <th>7.0</th>\n",
        "      <th>8.0</th>\n",
        "      <th>9.0</th>\n",
        "      <th>10.0</th>\n",
        "      <th>11.0</th>\n",
        "      <th>12.0</th>\n",
        "      <th>13.0</th>\n",
        "      <th>14.0</th>\n",
        "      <th>15.0</th>\n",
        "      <th>16.0</th>\n",
        "      <th>17.0</th>\n",
        "      <th>18.0</th>\n",
        "      <th>19.0</th>\n",
        "      <th>20.0</th>\n",
        "      <th></th>\n",
        "    </tr>\n",
        "    <tr>\n",
        "      <th>partitionID</th>\n",
        "      <th></th>\n",
        "      <th></th>\n",
        "      <th></th>\n",
        "      <th></th>\n",
        "      <th></th>\n",
        "      <th></th>\n",
        "      <th></th>\n",
        "      <th></th>\n",
        "      <th></th>\n",
        "      <th></th>\n",
        "      <th></th>\n",
        "      <th></th>\n",
        "      <th></th>\n",
        "      <th></th>\n",
        "      <th></th>\n",
        "      <th></th>\n",
        "      <th></th>\n",
        "      <th></th>\n",
        "      <th></th>\n",
        "      <th></th>\n",
        "    </tr>\n",
        "  </thead>\n",
        "  <tbody>\n",
        "    <tr>\n",
        "      <th>1815</th>\n",
        "      <td>-12.415604</td>\n",
        "      <td>-12.436234</td>\n",
        "      <td>-11.016504</td>\n",
        "      <td>-12.338085</td>\n",
        "      <td>-12.748187</td>\n",
        "      <td>-13.462741</td>\n",
        "      <td>-14.000375</td>\n",
        "      <td>-16.967992</td>\n",
        "      <td>-15.975869</td>\n",
        "      <td>-15.456364</td>\n",
        "      <td>-15.263191</td>\n",
        "      <td>-16.344086</td>\n",
        "      <td>-15.239435</td>\n",
        "      <td>-14.991873</td>\n",
        "      <td>-15.587022</td>\n",
        "      <td>-17.348712</td>\n",
        "      <td>-16.310328</td>\n",
        "      <td>-15.066892</td>\n",
        "      <td>-15.959615</td>\n",
        "      <td>-15.360715</td>\n",
        "      <td>...</td>\n",
        "    </tr>\n",
        "    <tr>\n",
        "      <th>2047</th>\n",
        "      <td> 33.482676</td>\n",
        "      <td> 33.365762</td>\n",
        "      <td> 33.032941</td>\n",
        "      <td> 33.779655</td>\n",
        "      <td> 33.731012</td>\n",
        "      <td> 33.617512</td>\n",
        "      <td> 33.532173</td>\n",
        "      <td> 33.406725</td>\n",
        "      <td> 33.379416</td>\n",
        "      <td> 33.540707</td>\n",
        "      <td> 33.895716</td>\n",
        "      <td> 33.812084</td>\n",
        "      <td> 33.554361</td>\n",
        "      <td> 33.306878</td>\n",
        "      <td> 33.672128</td>\n",
        "      <td> 33.864994</td>\n",
        "      <td> 33.785629</td>\n",
        "      <td> 33.780509</td>\n",
        "      <td> 34.105649</td>\n",
        "      <td> 34.001536</td>\n",
        "      <td>...</td>\n",
        "    </tr>\n",
        "    <tr>\n",
        "      <th>2048</th>\n",
        "      <td> 25.095411</td>\n",
        "      <td> 25.074209</td>\n",
        "      <td> 25.405876</td>\n",
        "      <td> 25.182493</td>\n",
        "      <td> 24.834166</td>\n",
        "      <td> 24.823565</td>\n",
        "      <td> 24.606240</td>\n",
        "      <td> 24.817507</td>\n",
        "      <td> 24.685749</td>\n",
        "      <td> 24.833409</td>\n",
        "      <td> 24.579736</td>\n",
        "      <td> 24.834166</td>\n",
        "      <td> 25.225655</td>\n",
        "      <td> 25.160533</td>\n",
        "      <td> 25.206724</td>\n",
        "      <td> 25.012873</td>\n",
        "      <td> 24.669847</td>\n",
        "      <td> 24.989399</td>\n",
        "      <td> 24.919733</td>\n",
        "      <td> 24.513100</td>\n",
        "      <td>...</td>\n",
        "    </tr>\n",
        "    <tr>\n",
        "      <th>2049</th>\n",
        "      <td> 29.603733</td>\n",
        "      <td> 29.752743</td>\n",
        "      <td> 29.842803</td>\n",
        "      <td> 29.596365</td>\n",
        "      <td> 29.296709</td>\n",
        "      <td> 29.509579</td>\n",
        "      <td> 29.364664</td>\n",
        "      <td> 29.591452</td>\n",
        "      <td> 29.573440</td>\n",
        "      <td> 29.999181</td>\n",
        "      <td> 29.719993</td>\n",
        "      <td> 29.432618</td>\n",
        "      <td> 29.423612</td>\n",
        "      <td> 29.268872</td>\n",
        "      <td> 29.467005</td>\n",
        "      <td> 29.383494</td>\n",
        "      <td> 29.620927</td>\n",
        "      <td> 29.408875</td>\n",
        "      <td> 29.308171</td>\n",
        "      <td> 28.944654</td>\n",
        "      <td>...</td>\n",
        "    </tr>\n",
        "    <tr>\n",
        "      <th>2050</th>\n",
        "      <td> 28.760765</td>\n",
        "      <td> 29.104510</td>\n",
        "      <td> 29.257043</td>\n",
        "      <td> 29.062911</td>\n",
        "      <td> 28.884834</td>\n",
        "      <td> 28.817691</td>\n",
        "      <td> 28.510436</td>\n",
        "      <td> 28.343308</td>\n",
        "      <td> 28.488542</td>\n",
        "      <td> 28.475405</td>\n",
        "      <td> 28.720625</td>\n",
        "      <td> 28.545468</td>\n",
        "      <td> 28.552036</td>\n",
        "      <td> 28.503868</td>\n",
        "      <td> 28.341118</td>\n",
        "      <td> 28.106846</td>\n",
        "      <td> 28.506058</td>\n",
        "      <td> 28.579769</td>\n",
        "      <td> 28.527222</td>\n",
        "      <td> 28.260838</td>\n",
        "      <td>...</td>\n",
        "    </tr>\n",
        "  </tbody>\n",
        "</table>\n",
        "<p>5 rows \u00d7 365 columns</p>\n",
        "</div>"
       ],
       "metadata": {},
       "output_type": "pyout",
       "prompt_number": 12,
       "text": [
        "day                 1          2          3          4          5          6   \\\n",
        "partitionID                                                                     \n",
        "1815        -12.415604 -12.436234 -11.016504 -12.338085 -12.748187 -13.462741   \n",
        "2047         33.482676  33.365762  33.032941  33.779655  33.731012  33.617512   \n",
        "2048         25.095411  25.074209  25.405876  25.182493  24.834166  24.823565   \n",
        "2049         29.603733  29.752743  29.842803  29.596365  29.296709  29.509579   \n",
        "2050         28.760765  29.104510  29.257043  29.062911  28.884834  28.817691   \n",
        "\n",
        "day                 7          8          9          10         11         12  \\\n",
        "partitionID                                                                     \n",
        "1815        -14.000375 -16.967992 -15.975869 -15.456364 -15.263191 -16.344086   \n",
        "2047         33.532173  33.406725  33.379416  33.540707  33.895716  33.812084   \n",
        "2048         24.606240  24.817507  24.685749  24.833409  24.579736  24.834166   \n",
        "2049         29.364664  29.591452  29.573440  29.999181  29.719993  29.432618   \n",
        "2050         28.510436  28.343308  28.488542  28.475405  28.720625  28.545468   \n",
        "\n",
        "day                 13         14         15         16         17         18  \\\n",
        "partitionID                                                                     \n",
        "1815        -15.239435 -14.991873 -15.587022 -17.348712 -16.310328 -15.066892   \n",
        "2047         33.554361  33.306878  33.672128  33.864994  33.785629  33.780509   \n",
        "2048         25.225655  25.160533  25.206724  25.012873  24.669847  24.989399   \n",
        "2049         29.423612  29.268872  29.467005  29.383494  29.620927  29.408875   \n",
        "2050         28.552036  28.503868  28.341118  28.106846  28.506058  28.579769   \n",
        "\n",
        "day                 19         20      \n",
        "partitionID                            \n",
        "1815        -15.959615 -15.360715 ...  \n",
        "2047         34.105649  34.001536 ...  \n",
        "2048         24.919733  24.513100 ...  \n",
        "2049         29.308171  28.944654 ...  \n",
        "2050         28.527222  28.260838 ...  \n",
        "\n",
        "[5 rows x 365 columns]"
       ]
      }
     ],
     "prompt_number": 12
    },
    {
     "cell_type": "markdown",
     "metadata": {},
     "source": [
      "and plot the temperature curves for a selection of partitions."
     ]
    },
    {
     "cell_type": "code",
     "collapsed": false,
     "input": [
      "from datetime import date\n",
      "dates=[date.fromordinal(i) for i in range(1,366)]\n",
      "def plot_yearly_temperature(T,Nlow=0,Nup=10,ttl='',size=(10,7)):\n",
      "    T = np.array(T)\n",
      "    T = T[:,Nlow:Nup]\n",
      "    fig=plt.figure(1,figsize=size,dpi=300)\n",
      "    #fig, ax = plt.subplots(1)\n",
      "    if shape(T)[0] != 365:\n",
      "        raise ValueError(\"First dimension of T should be 365. Shape(T)=\"+str(shape(T)))\n",
      "    plot(dates,T);\n",
      "    # rotate and align the tick labels so they look better\n",
      "    fig.autofmt_xdate()\n",
      "    ylabel('Temperature')\n",
      "    grid()\n",
      "    title(ttl)"
     ],
     "language": "python",
     "metadata": {},
     "outputs": [],
     "prompt_number": 15
    },
    {
     "cell_type": "markdown",
     "metadata": {},
     "source": [
      "Plotting mean temperature for ten partitions"
     ]
    },
    {
     "cell_type": "code",
     "collapsed": false,
     "input": [
      "plot_yearly_temperature(dfMean.ix[:,:].transpose(),100,110,ttl='Mean temperature by partition')\n",
      "legend(dfMean.index.values) # partition number as legend"
     ],
     "language": "python",
     "metadata": {},
     "outputs": [
      {
       "metadata": {},
       "output_type": "pyout",
       "prompt_number": 16,
       "text": [
        "<matplotlib.legend.Legend at 0x114fe5d0>"
       ]
      },
      {
       "metadata": {},
       "output_type": "display_data",
       "png": "[encoded data removed]",
       "text": [
        "<matplotlib.figure.Figure at 0x114fe8d0>"
       ]
      }
     ],
     "prompt_number": 16
    },
    {
     "cell_type": "markdown",
     "metadata": {},
     "source": [
      "As we need the mean vector to compute the covariance matrix, we add it to our lookup table, which we will use for our second job - ``mr_weather_covariance.py``."
     ]
    },
    {
     "cell_type": "code",
     "collapsed": false,
     "input": [
      "dfLookup2 = dfLookup.join(dfMean,on='partitionID')\n",
      "dfLookup2.dropna(axis=0, how='any', inplace=True)\n",
      "dfLookup2.head()"
     ],
     "language": "python",
     "metadata": {},
     "outputs": [
      {
       "html": [
        "<div style=\"max-height:1000px;max-width:1500px;overflow:auto;\">\n",
        "<table border=\"1\" class=\"dataframe\">\n",
        "  <thead>\n",
        "    <tr style=\"text-align: right;\">\n",
        "      <th></th>\n",
        "      <th>partitionID</th>\n",
        "      <th>N_TMIN365</th>\n",
        "      <th>1.0</th>\n",
        "      <th>2.0</th>\n",
        "      <th>3.0</th>\n",
        "      <th>4.0</th>\n",
        "      <th>5.0</th>\n",
        "      <th>6.0</th>\n",
        "      <th>7.0</th>\n",
        "      <th>8.0</th>\n",
        "      <th>9.0</th>\n",
        "      <th>10.0</th>\n",
        "      <th>11.0</th>\n",
        "      <th>12.0</th>\n",
        "      <th>13.0</th>\n",
        "      <th>14.0</th>\n",
        "      <th>15.0</th>\n",
        "      <th>16.0</th>\n",
        "      <th>17.0</th>\n",
        "      <th>18.0</th>\n",
        "      <th></th>\n",
        "    </tr>\n",
        "    <tr>\n",
        "      <th>station</th>\n",
        "      <th></th>\n",
        "      <th></th>\n",
        "      <th></th>\n",
        "      <th></th>\n",
        "      <th></th>\n",
        "      <th></th>\n",
        "      <th></th>\n",
        "      <th></th>\n",
        "      <th></th>\n",
        "      <th></th>\n",
        "      <th></th>\n",
        "      <th></th>\n",
        "      <th></th>\n",
        "      <th></th>\n",
        "      <th></th>\n",
        "      <th></th>\n",
        "      <th></th>\n",
        "      <th></th>\n",
        "      <th></th>\n",
        "      <th></th>\n",
        "    </tr>\n",
        "  </thead>\n",
        "  <tbody>\n",
        "    <tr>\n",
        "      <th>AJ000037679</th>\n",
        "      <td> 3565</td>\n",
        "      <td> 48545</td>\n",
        "      <td>-5.651104</td>\n",
        "      <td>-6.475382</td>\n",
        "      <td>-6.290323</td>\n",
        "      <td>-6.546689</td>\n",
        "      <td>-6.983022</td>\n",
        "      <td>-6.872666</td>\n",
        "      <td> -7.614601</td>\n",
        "      <td> -7.505093</td>\n",
        "      <td>-7.411715</td>\n",
        "      <td>-7.387097</td>\n",
        "      <td> -7.339559</td>\n",
        "      <td> -7.442275</td>\n",
        "      <td> -6.898981</td>\n",
        "      <td>-7.249576</td>\n",
        "      <td>-7.756367</td>\n",
        "      <td> -7.912564</td>\n",
        "      <td> -7.971986</td>\n",
        "      <td> -7.725806</td>\n",
        "      <td>...</td>\n",
        "    </tr>\n",
        "    <tr>\n",
        "      <th>AJ000037756</th>\n",
        "      <td> 3563</td>\n",
        "      <td> 60590</td>\n",
        "      <td>-7.615272</td>\n",
        "      <td>-7.847640</td>\n",
        "      <td>-8.057226</td>\n",
        "      <td>-7.883178</td>\n",
        "      <td>-7.522325</td>\n",
        "      <td>-8.051759</td>\n",
        "      <td> -9.016767</td>\n",
        "      <td> -9.399490</td>\n",
        "      <td>-9.342081</td>\n",
        "      <td>-9.957171</td>\n",
        "      <td>-10.014580</td>\n",
        "      <td> -9.246401</td>\n",
        "      <td> -8.988518</td>\n",
        "      <td>-9.250046</td>\n",
        "      <td>-9.435939</td>\n",
        "      <td>-10.537634</td>\n",
        "      <td>-10.068343</td>\n",
        "      <td> -9.492437</td>\n",
        "      <td>...</td>\n",
        "    </tr>\n",
        "    <tr>\n",
        "      <th>AJ000037844</th>\n",
        "      <td> 3563</td>\n",
        "      <td> 60590</td>\n",
        "      <td>-7.615272</td>\n",
        "      <td>-7.847640</td>\n",
        "      <td>-8.057226</td>\n",
        "      <td>-7.883178</td>\n",
        "      <td>-7.522325</td>\n",
        "      <td>-8.051759</td>\n",
        "      <td> -9.016767</td>\n",
        "      <td> -9.399490</td>\n",
        "      <td>-9.342081</td>\n",
        "      <td>-9.957171</td>\n",
        "      <td>-10.014580</td>\n",
        "      <td> -9.246401</td>\n",
        "      <td> -8.988518</td>\n",
        "      <td>-9.250046</td>\n",
        "      <td>-9.435939</td>\n",
        "      <td>-10.537634</td>\n",
        "      <td>-10.068343</td>\n",
        "      <td> -9.492437</td>\n",
        "      <td>...</td>\n",
        "    </tr>\n",
        "    <tr>\n",
        "      <th>AJ000037866</th>\n",
        "      <td> 3563</td>\n",
        "      <td> 60590</td>\n",
        "      <td>-7.615272</td>\n",
        "      <td>-7.847640</td>\n",
        "      <td>-8.057226</td>\n",
        "      <td>-7.883178</td>\n",
        "      <td>-7.522325</td>\n",
        "      <td>-8.051759</td>\n",
        "      <td> -9.016767</td>\n",
        "      <td> -9.399490</td>\n",
        "      <td>-9.342081</td>\n",
        "      <td>-9.957171</td>\n",
        "      <td>-10.014580</td>\n",
        "      <td> -9.246401</td>\n",
        "      <td> -8.988518</td>\n",
        "      <td>-9.250046</td>\n",
        "      <td>-9.435939</td>\n",
        "      <td>-10.537634</td>\n",
        "      <td>-10.068343</td>\n",
        "      <td> -9.492437</td>\n",
        "      <td>...</td>\n",
        "    </tr>\n",
        "    <tr>\n",
        "      <th>AJ000037888</th>\n",
        "      <td> 3560</td>\n",
        "      <td> 76650</td>\n",
        "      <td>-8.578256</td>\n",
        "      <td>-8.687276</td>\n",
        "      <td>-9.239845</td>\n",
        "      <td>-9.119624</td>\n",
        "      <td>-9.469086</td>\n",
        "      <td>-9.148746</td>\n",
        "      <td>-10.445042</td>\n",
        "      <td>-10.485364</td>\n",
        "      <td>-9.581840</td>\n",
        "      <td>-9.616189</td>\n",
        "      <td> -9.812575</td>\n",
        "      <td>-11.376941</td>\n",
        "      <td>-10.590651</td>\n",
        "      <td>-9.975358</td>\n",
        "      <td>-9.284648</td>\n",
        "      <td>-10.224014</td>\n",
        "      <td>-11.014038</td>\n",
        "      <td>-10.427121</td>\n",
        "      <td>...</td>\n",
        "    </tr>\n",
        "  </tbody>\n",
        "</table>\n",
        "<p>5 rows \u00d7 367 columns</p>\n",
        "</div>"
       ],
       "metadata": {},
       "output_type": "pyout",
       "prompt_number": 17,
       "text": [
        "             partitionID  N_TMIN365       1.0       2.0       3.0       4.0  \\\n",
        "station                                                                       \n",
        "AJ000037679         3565      48545 -5.651104 -6.475382 -6.290323 -6.546689   \n",
        "AJ000037756         3563      60590 -7.615272 -7.847640 -8.057226 -7.883178   \n",
        "AJ000037844         3563      60590 -7.615272 -7.847640 -8.057226 -7.883178   \n",
        "AJ000037866         3563      60590 -7.615272 -7.847640 -8.057226 -7.883178   \n",
        "AJ000037888         3560      76650 -8.578256 -8.687276 -9.239845 -9.119624   \n",
        "\n",
        "                  5.0       6.0        7.0        8.0       9.0      10.0  \\\n",
        "station                                                                     \n",
        "AJ000037679 -6.983022 -6.872666  -7.614601  -7.505093 -7.411715 -7.387097   \n",
        "AJ000037756 -7.522325 -8.051759  -9.016767  -9.399490 -9.342081 -9.957171   \n",
        "AJ000037844 -7.522325 -8.051759  -9.016767  -9.399490 -9.342081 -9.957171   \n",
        "AJ000037866 -7.522325 -8.051759  -9.016767  -9.399490 -9.342081 -9.957171   \n",
        "AJ000037888 -9.469086 -9.148746 -10.445042 -10.485364 -9.581840 -9.616189   \n",
        "\n",
        "                  11.0       12.0       13.0      14.0      15.0       16.0  \\\n",
        "station                                                                       \n",
        "AJ000037679  -7.339559  -7.442275  -6.898981 -7.249576 -7.756367  -7.912564   \n",
        "AJ000037756 -10.014580  -9.246401  -8.988518 -9.250046 -9.435939 -10.537634   \n",
        "AJ000037844 -10.014580  -9.246401  -8.988518 -9.250046 -9.435939 -10.537634   \n",
        "AJ000037866 -10.014580  -9.246401  -8.988518 -9.250046 -9.435939 -10.537634   \n",
        "AJ000037888  -9.812575 -11.376941 -10.590651 -9.975358 -9.284648 -10.224014   \n",
        "\n",
        "                  17.0       18.0      \n",
        "station                                \n",
        "AJ000037679  -7.971986  -7.725806 ...  \n",
        "AJ000037756 -10.068343  -9.492437 ...  \n",
        "AJ000037844 -10.068343  -9.492437 ...  \n",
        "AJ000037866 -10.068343  -9.492437 ...  \n",
        "AJ000037888 -11.014038 -10.427121 ...  \n",
        "\n",
        "[5 rows x 367 columns]"
       ]
      }
     ],
     "prompt_number": 17
    },
    {
     "cell_type": "code",
     "collapsed": false,
     "input": [
      "# Create pickle file\n",
      "dfLookup2.to_pickle('lookup.pkl')\n",
      "# Gunzip pickle file\n",
      "!gzip lookup.pkl -f"
     ],
     "language": "python",
     "metadata": {},
     "outputs": [],
     "prompt_number": 18
    },
    {
     "cell_type": "code",
     "collapsed": false,
     "input": [
      "%ls lookup.pkl.gz -l"
     ],
     "language": "python",
     "metadata": {},
     "outputs": [
      {
       "output_type": "stream",
       "stream": "stdout",
       "text": [
        "-rw-rw-r-- 1 ubuntu ubuntu 70624211 May 27 05:05 lookup.pkl.gz\r\n"
       ]
      }
     ],
     "prompt_number": 19
    },
    {
     "cell_type": "markdown",
     "metadata": {},
     "source": [
      "A quick check if the file has been serialized and converted properly:"
     ]
    },
    {
     "cell_type": "code",
     "collapsed": false,
     "input": [
      "import gzip\n",
      "\n",
      "f = gzip.open( 'lookup.pkl.gz', \"rb\" )\n",
      "pickleFile = pickle.Unpickler(f)\n",
      "partitions = pickleFile.load()\n",
      "f.close()\n",
      "\n",
      "partitions.head()"
     ],
     "language": "python",
     "metadata": {},
     "outputs": [
      {
       "html": [
        "<div style=\"max-height:1000px;max-width:1500px;overflow:auto;\">\n",
        "<table border=\"1\" class=\"dataframe\">\n",
        "  <thead>\n",
        "    <tr style=\"text-align: right;\">\n",
        "      <th></th>\n",
        "      <th>partitionID</th>\n",
        "      <th>N_TMIN365</th>\n",
        "      <th>1.0</th>\n",
        "      <th>2.0</th>\n",
        "      <th>3.0</th>\n",
        "      <th>4.0</th>\n",
        "      <th>5.0</th>\n",
        "      <th>6.0</th>\n",
        "      <th>7.0</th>\n",
        "      <th>8.0</th>\n",
        "      <th>9.0</th>\n",
        "      <th>10.0</th>\n",
        "      <th>11.0</th>\n",
        "      <th>12.0</th>\n",
        "      <th>13.0</th>\n",
        "      <th>14.0</th>\n",
        "      <th>15.0</th>\n",
        "      <th>16.0</th>\n",
        "      <th>17.0</th>\n",
        "      <th>18.0</th>\n",
        "      <th></th>\n",
        "    </tr>\n",
        "    <tr>\n",
        "      <th>station</th>\n",
        "      <th></th>\n",
        "      <th></th>\n",
        "      <th></th>\n",
        "      <th></th>\n",
        "      <th></th>\n",
        "      <th></th>\n",
        "      <th></th>\n",
        "      <th></th>\n",
        "      <th></th>\n",
        "      <th></th>\n",
        "      <th></th>\n",
        "      <th></th>\n",
        "      <th></th>\n",
        "      <th></th>\n",
        "      <th></th>\n",
        "      <th></th>\n",
        "      <th></th>\n",
        "      <th></th>\n",
        "      <th></th>\n",
        "      <th></th>\n",
        "    </tr>\n",
        "  </thead>\n",
        "  <tbody>\n",
        "    <tr>\n",
        "      <th>AJ000037679</th>\n",
        "      <td> 3565</td>\n",
        "      <td> 48545</td>\n",
        "      <td>-5.390283</td>\n",
        "      <td>-6.176518</td>\n",
        "      <td>-6.000000</td>\n",
        "      <td>-6.244534</td>\n",
        "      <td>-6.660729</td>\n",
        "      <td>-6.555466</td>\n",
        "      <td>-7.263158</td>\n",
        "      <td> -7.158704</td>\n",
        "      <td>-7.069636</td>\n",
        "      <td>-7.046154</td>\n",
        "      <td>-7.000810</td>\n",
        "      <td> -7.098785</td>\n",
        "      <td> -6.580567</td>\n",
        "      <td>-6.914980</td>\n",
        "      <td>-7.398381</td>\n",
        "      <td> -7.547368</td>\n",
        "      <td> -7.604049</td>\n",
        "      <td>-7.369231</td>\n",
        "      <td>...</td>\n",
        "    </tr>\n",
        "    <tr>\n",
        "      <th>AJ000037756</th>\n",
        "      <td> 3563</td>\n",
        "      <td> 60590</td>\n",
        "      <td>-7.263798</td>\n",
        "      <td>-7.485441</td>\n",
        "      <td>-7.685354</td>\n",
        "      <td>-7.519339</td>\n",
        "      <td>-7.175141</td>\n",
        "      <td>-7.680139</td>\n",
        "      <td>-8.600608</td>\n",
        "      <td> -8.965667</td>\n",
        "      <td>-8.910908</td>\n",
        "      <td>-9.497610</td>\n",
        "      <td>-9.552369</td>\n",
        "      <td> -8.819644</td>\n",
        "      <td> -8.573664</td>\n",
        "      <td>-8.823120</td>\n",
        "      <td>-9.000435</td>\n",
        "      <td>-10.051282</td>\n",
        "      <td> -9.603651</td>\n",
        "      <td>-9.054324</td>\n",
        "      <td>...</td>\n",
        "    </tr>\n",
        "    <tr>\n",
        "      <th>AJ000037844</th>\n",
        "      <td> 3563</td>\n",
        "      <td> 60590</td>\n",
        "      <td>-7.263798</td>\n",
        "      <td>-7.485441</td>\n",
        "      <td>-7.685354</td>\n",
        "      <td>-7.519339</td>\n",
        "      <td>-7.175141</td>\n",
        "      <td>-7.680139</td>\n",
        "      <td>-8.600608</td>\n",
        "      <td> -8.965667</td>\n",
        "      <td>-8.910908</td>\n",
        "      <td>-9.497610</td>\n",
        "      <td>-9.552369</td>\n",
        "      <td> -8.819644</td>\n",
        "      <td> -8.573664</td>\n",
        "      <td>-8.823120</td>\n",
        "      <td>-9.000435</td>\n",
        "      <td>-10.051282</td>\n",
        "      <td> -9.603651</td>\n",
        "      <td>-9.054324</td>\n",
        "      <td>...</td>\n",
        "    </tr>\n",
        "    <tr>\n",
        "      <th>AJ000037866</th>\n",
        "      <td> 3563</td>\n",
        "      <td> 60590</td>\n",
        "      <td>-7.263798</td>\n",
        "      <td>-7.485441</td>\n",
        "      <td>-7.685354</td>\n",
        "      <td>-7.519339</td>\n",
        "      <td>-7.175141</td>\n",
        "      <td>-7.680139</td>\n",
        "      <td>-8.600608</td>\n",
        "      <td> -8.965667</td>\n",
        "      <td>-8.910908</td>\n",
        "      <td>-9.497610</td>\n",
        "      <td>-9.552369</td>\n",
        "      <td> -8.819644</td>\n",
        "      <td> -8.573664</td>\n",
        "      <td>-8.823120</td>\n",
        "      <td>-9.000435</td>\n",
        "      <td>-10.051282</td>\n",
        "      <td> -9.603651</td>\n",
        "      <td>-9.054324</td>\n",
        "      <td>...</td>\n",
        "    </tr>\n",
        "    <tr>\n",
        "      <th>AJ000037888</th>\n",
        "      <td> 3560</td>\n",
        "      <td> 76650</td>\n",
        "      <td>-8.182336</td>\n",
        "      <td>-8.286325</td>\n",
        "      <td>-8.813390</td>\n",
        "      <td>-8.698718</td>\n",
        "      <td>-9.032051</td>\n",
        "      <td>-8.726496</td>\n",
        "      <td>-9.962963</td>\n",
        "      <td>-10.001425</td>\n",
        "      <td>-9.139601</td>\n",
        "      <td>-9.172365</td>\n",
        "      <td>-9.359687</td>\n",
        "      <td>-10.851852</td>\n",
        "      <td>-10.101852</td>\n",
        "      <td>-9.514957</td>\n",
        "      <td>-8.856125</td>\n",
        "      <td> -9.752137</td>\n",
        "      <td>-10.505698</td>\n",
        "      <td>-9.945869</td>\n",
        "      <td>...</td>\n",
        "    </tr>\n",
        "  </tbody>\n",
        "</table>\n",
        "<p>5 rows \u00d7 367 columns</p>\n",
        "</div>"
       ],
       "metadata": {},
       "output_type": "pyout",
       "prompt_number": 21,
       "text": [
        "             partitionID  N_TMIN365       1.0       2.0       3.0       4.0  \\\n",
        "station                                                                       \n",
        "AJ000037679         3565      48545 -5.390283 -6.176518 -6.000000 -6.244534   \n",
        "AJ000037756         3563      60590 -7.263798 -7.485441 -7.685354 -7.519339   \n",
        "AJ000037844         3563      60590 -7.263798 -7.485441 -7.685354 -7.519339   \n",
        "AJ000037866         3563      60590 -7.263798 -7.485441 -7.685354 -7.519339   \n",
        "AJ000037888         3560      76650 -8.182336 -8.286325 -8.813390 -8.698718   \n",
        "\n",
        "                  5.0       6.0       7.0        8.0       9.0      10.0  \\\n",
        "station                                                                    \n",
        "AJ000037679 -6.660729 -6.555466 -7.263158  -7.158704 -7.069636 -7.046154   \n",
        "AJ000037756 -7.175141 -7.680139 -8.600608  -8.965667 -8.910908 -9.497610   \n",
        "AJ000037844 -7.175141 -7.680139 -8.600608  -8.965667 -8.910908 -9.497610   \n",
        "AJ000037866 -7.175141 -7.680139 -8.600608  -8.965667 -8.910908 -9.497610   \n",
        "AJ000037888 -9.032051 -8.726496 -9.962963 -10.001425 -9.139601 -9.172365   \n",
        "\n",
        "                 11.0       12.0       13.0      14.0      15.0       16.0  \\\n",
        "station                                                                      \n",
        "AJ000037679 -7.000810  -7.098785  -6.580567 -6.914980 -7.398381  -7.547368   \n",
        "AJ000037756 -9.552369  -8.819644  -8.573664 -8.823120 -9.000435 -10.051282   \n",
        "AJ000037844 -9.552369  -8.819644  -8.573664 -8.823120 -9.000435 -10.051282   \n",
        "AJ000037866 -9.552369  -8.819644  -8.573664 -8.823120 -9.000435 -10.051282   \n",
        "AJ000037888 -9.359687 -10.851852 -10.101852 -9.514957 -8.856125  -9.752137   \n",
        "\n",
        "                  17.0      18.0      \n",
        "station                               \n",
        "AJ000037679  -7.604049 -7.369231 ...  \n",
        "AJ000037756  -9.603651 -9.054324 ...  \n",
        "AJ000037844  -9.603651 -9.054324 ...  \n",
        "AJ000037866  -9.603651 -9.054324 ...  \n",
        "AJ000037888 -10.505698 -9.945869 ...  \n",
        "\n",
        "[5 rows x 367 columns]"
       ]
      }
     ],
     "prompt_number": 21
    },
    {
     "cell_type": "markdown",
     "metadata": {},
     "source": [
      "Having set up the new lookup table, we can run the following job on EMR"
     ]
    },
    {
     "cell_type": "code",
     "collapsed": false,
     "input": [
      "%%writefile mr_weather_covariance.py\n",
      "\"\"\"\n",
      "compute covariance matrix of data\n",
      "\"\"\"\n",
      "import sys\n",
      "sys.path.append('/usr/lib/python2.7/dist-packages')\n",
      "from mrjob.job import MRJob\n",
      "import re\n",
      "from sys import stderr\n",
      "import pickle, gzip\n",
      "import pandas\n",
      "import numpy as np\n",
      "\n",
      "class MRWeatherCovariance(MRJob):\n",
      "\n",
      "    #This adds options --stations for the location of where to get the lookup file\n",
      "    def configure_options(self):\n",
      "        super(MRWeatherCovariance,self).configure_options()\n",
      "        self.add_file_option('--lookup')\n",
      "    #This loads the lookup file into a field on the object\n",
      "    def mapper_init(self):\n",
      "        f = gzip.open( self.options.lookup, \"rb\" )\n",
      "        pickleFile = pickle.Unpickler(f)\n",
      "        self.lookup = pickleFile.load()\n",
      "        f.close()\n",
      "\n",
      "    def mapper(self, _, line):\n",
      "        try:\n",
      "            self.increment_counter('MrJob Counters','mapper',1)\n",
      "            elements=line.split(',')       \n",
      "            if elements[0]=='station':\n",
      "                yield ('header',1)\n",
      "            else:\n",
      "                if elements[1]=='TMIN':\n",
      "                    partitionID = int(self.lookup.ix[elements[0],'partitionID'])\n",
      "                    N = (self.lookup.ix[elements[0],'N_TMIN365'])/365\n",
      "                    mvalues = np.array(elements[3:])\n",
      "                    if np.where(mvalues=='',True,False).any():\n",
      "                        yield ('incomplete',1)\n",
      "                    else:\n",
      "                        # Only consider complete series\n",
      "                        mvalues = mvalues.astype(np.float)\n",
      "                        mean = np.array(self.lookup.ix[elements[0],1:365])\n",
      "                        # Substract mean\n",
      "                        mvalues = mvalues - mean\n",
      "                        for i in xrange(365):\n",
      "                            for j in xrange(i,365): \n",
      "                                product = mvalues[j]*mvalues[i]\n",
      "                                yield ((partitionID,i,j),product/N)\n",
      "                else:\n",
      "                    yield ('other',1)\n",
      "        except Exception, e:\n",
      "            stderr.write('Error in line:\\n'+line+'\\n')\n",
      "            stderr.write(str(e)+'\\n')\n",
      "            self.increment_counter('MrJob Counters','mapper-error',1)\n",
      "            yield ('error',1)\n",
      "            \n",
      "    def combiner(self, word, counts):\n",
      "        self.increment_counter('MrJob Counters','combiner',1)\n",
      "        yield (word, sum(counts))\n",
      "\n",
      "    def reducer(self, word, counts):\n",
      "        self.increment_counter('MrJob Counters','reducer',1)\n",
      "        yield (word, sum(counts))\n",
      "\n",
      "if __name__ == '__main__':\n",
      "    MRWeatherCovariance.run()"
     ],
     "language": "python",
     "metadata": {},
     "outputs": [
      {
       "output_type": "stream",
       "stream": "stdout",
       "text": [
        "Overwriting mr_weather_covariance.py\n"
       ]
      }
     ],
     "prompt_number": 17
    },
    {
     "cell_type": "markdown",
     "metadata": {},
     "source": [
      "Unfortunately, I couldn't run the job ``mr_weather_covariance.py`` on the job flow properly. However, it worked locally on the sample data set. Therefore, I will continue with the analysis with the data generated from the sample data set."
     ]
    },
    {
     "cell_type": "code",
     "collapsed": false,
     "input": [
      "!python mr_weather_covariance.py --lookup lookup.pkl.gz \\\n",
      "-r emr --emr-job-flow-id $job_flow_id hdfs:/weather/weather.csv > TMINcov2"
     ],
     "language": "python",
     "metadata": {},
     "outputs": []
    },
    {
     "cell_type": "code",
     "collapsed": false,
     "input": [
      "!python mr_weather_covariance.py --lookup lookup.pkl.gz \\\n",
      "/home/ubuntu/woerns/UCSD_BigData/data/weather/ALL.head.csv > TMINcov"
     ],
     "language": "python",
     "metadata": {},
     "outputs": [
      {
       "output_type": "stream",
       "stream": "stdout",
       "text": [
        "using configs in /home/ubuntu/.mrjob.conf\r\n"
       ]
      },
      {
       "output_type": "stream",
       "stream": "stdout",
       "text": [
        "creating tmp directory /tmp/mr_weather_covariance.ubuntu.20140527.062822.223531\r\n",
        "writing to /tmp/mr_weather_covariance.ubuntu.20140527.062822.223531/step-0-mapper_part-00000\r\n"
       ]
      },
      {
       "output_type": "stream",
       "stream": "stdout",
       "text": [
        "Counters from step 1:\r\n",
        "  MrJob Counters:\r\n",
        "    combiner: 3828\r\n",
        "    mapper: 1000\r\n",
        "writing to /tmp/mr_weather_covariance.ubuntu.20140527.062822.223531/step-0-mapper-sorted\r\n",
        "> sort /tmp/mr_weather_covariance.ubuntu.20140527.062822.223531/step-0-mapper_part-00000\r\n"
       ]
      },
      {
       "output_type": "stream",
       "stream": "stdout",
       "text": [
        "writing to /tmp/mr_weather_covariance.ubuntu.20140527.062822.223531/step-0-reducer_part-00000\r\n"
       ]
      },
      {
       "output_type": "stream",
       "stream": "stdout",
       "text": [
        "Counters from step 1:\r\n",
        "  MrJob Counters:\r\n",
        "    combiner: 3828\r\n",
        "    mapper: 1000\r\n"
       ]
      },
      {
       "output_type": "stream",
       "stream": "stdout",
       "text": [
        "    reducer: 3828\r\n",
        "Moving /tmp/mr_weather_covariance.ubuntu.20140527.062822.223531/step-0-reducer_part-00000 -> /tmp/mr_weather_covariance.ubuntu.20140527.062822.223531/output/part-00000\r\n",
        "Streaming final output from /tmp/mr_weather_covariance.ubuntu.20140527.062822.223531/output\r\n",
        "removing tmp directory /tmp/mr_weather_covariance.ubuntu.20140527.062822.223531\r\n"
       ]
      }
     ],
     "prompt_number": 1
    },
    {
     "cell_type": "markdown",
     "metadata": {},
     "source": [
      "We load the covariance matrix elements for each partition into a dataframe."
     ]
    },
    {
     "cell_type": "code",
     "collapsed": false,
     "input": [
      "dfCov = pd.read_csv('TMINcov',delimiter=r\"[\\[,\\]\\t]+\",header=None,names=['prefix','partitionID','i','j','cov'])\n",
      "dfCov = dfCov[2:].reset_index(drop=True).drop('prefix',1) # remove unecessary entries from MapReduce output\n",
      "dfCov = pd.pivot_table(dfCov,values='cov',rows=['partitionID','i'],cols='j')\n",
      "dfCov = dfCov.reset_index('i')\n",
      "\n",
      "# Store in pickle file for later usage\n",
      "dfCov.to_pickle('covTable.pkl')\n",
      "\n",
      "dfCov.head(10)"
     ],
     "language": "python",
     "metadata": {},
     "outputs": [
      {
       "html": [
        "<div style=\"max-height:1000px;max-width:1500px;overflow:auto;\">\n",
        "<table border=\"1\" class=\"dataframe\">\n",
        "  <thead>\n",
        "    <tr style=\"text-align: right;\">\n",
        "      <th>j</th>\n",
        "      <th>i</th>\n",
        "      <th>0.0</th>\n",
        "      <th>1.0</th>\n",
        "      <th>2.0</th>\n",
        "      <th>3.0</th>\n",
        "      <th>4.0</th>\n",
        "      <th>5.0</th>\n",
        "      <th>6.0</th>\n",
        "      <th>7.0</th>\n",
        "      <th>8.0</th>\n",
        "      <th>9.0</th>\n",
        "      <th>10.0</th>\n",
        "      <th>11.0</th>\n",
        "      <th>12.0</th>\n",
        "      <th>13.0</th>\n",
        "      <th>14.0</th>\n",
        "      <th>15.0</th>\n",
        "      <th>16.0</th>\n",
        "      <th>17.0</th>\n",
        "      <th>18.0</th>\n",
        "      <th></th>\n",
        "    </tr>\n",
        "    <tr>\n",
        "      <th>partitionID</th>\n",
        "      <th></th>\n",
        "      <th></th>\n",
        "      <th></th>\n",
        "      <th></th>\n",
        "      <th></th>\n",
        "      <th></th>\n",
        "      <th></th>\n",
        "      <th></th>\n",
        "      <th></th>\n",
        "      <th></th>\n",
        "      <th></th>\n",
        "      <th></th>\n",
        "      <th></th>\n",
        "      <th></th>\n",
        "      <th></th>\n",
        "      <th></th>\n",
        "      <th></th>\n",
        "      <th></th>\n",
        "      <th></th>\n",
        "      <th></th>\n",
        "    </tr>\n",
        "  </thead>\n",
        "  <tbody>\n",
        "    <tr>\n",
        "      <th>2116</th>\n",
        "      <td> 0</td>\n",
        "      <td> 287.347305</td>\n",
        "      <td> 168.477370</td>\n",
        "      <td> 151.877791</td>\n",
        "      <td> 124.737145</td>\n",
        "      <td> 118.561481</td>\n",
        "      <td> 107.213381</td>\n",
        "      <td>  222.157046</td>\n",
        "      <td>  89.215827</td>\n",
        "      <td> 106.664802</td>\n",
        "      <td>  79.443966</td>\n",
        "      <td> 114.284790</td>\n",
        "      <td>  75.583364</td>\n",
        "      <td>  36.320732</td>\n",
        "      <td>  20.034976</td>\n",
        "      <td>  59.391286</td>\n",
        "      <td>  77.986715</td>\n",
        "      <td>  59.471531</td>\n",
        "      <td>  40.517616</td>\n",
        "      <td>  49.342311</td>\n",
        "      <td>...</td>\n",
        "    </tr>\n",
        "    <tr>\n",
        "      <th>2116</th>\n",
        "      <td> 1</td>\n",
        "      <td>        NaN</td>\n",
        "      <td> 257.520914</td>\n",
        "      <td> 184.113276</td>\n",
        "      <td> 181.141169</td>\n",
        "      <td> 162.371128</td>\n",
        "      <td> 146.315383</td>\n",
        "      <td>  242.403251</td>\n",
        "      <td>  99.591466</td>\n",
        "      <td>  81.661532</td>\n",
        "      <td>  61.369829</td>\n",
        "      <td>  68.521496</td>\n",
        "      <td>  95.048722</td>\n",
        "      <td>  56.813072</td>\n",
        "      <td>  88.702407</td>\n",
        "      <td>  76.282292</td>\n",
        "      <td>  85.928141</td>\n",
        "      <td>  74.840221</td>\n",
        "      <td>  58.143543</td>\n",
        "      <td>  35.753690</td>\n",
        "      <td>...</td>\n",
        "    </tr>\n",
        "    <tr>\n",
        "      <th>2116</th>\n",
        "      <td> 2</td>\n",
        "      <td>        NaN</td>\n",
        "      <td>        NaN</td>\n",
        "      <td> 254.064539</td>\n",
        "      <td> 171.767176</td>\n",
        "      <td> 204.041222</td>\n",
        "      <td> 159.660683</td>\n",
        "      <td>  227.094812</td>\n",
        "      <td>  89.003392</td>\n",
        "      <td> 135.179405</td>\n",
        "      <td>  82.972131</td>\n",
        "      <td>  98.783450</td>\n",
        "      <td>  91.515759</td>\n",
        "      <td>  32.049295</td>\n",
        "      <td>  59.274776</td>\n",
        "      <td>  83.779242</td>\n",
        "      <td>  97.928245</td>\n",
        "      <td> 103.805350</td>\n",
        "      <td>  88.024089</td>\n",
        "      <td>  52.359326</td>\n",
        "      <td>...</td>\n",
        "    </tr>\n",
        "    <tr>\n",
        "      <th>2116</th>\n",
        "      <td> 3</td>\n",
        "      <td>        NaN</td>\n",
        "      <td>        NaN</td>\n",
        "      <td>        NaN</td>\n",
        "      <td> 249.131383</td>\n",
        "      <td> 169.012477</td>\n",
        "      <td> 139.433077</td>\n",
        "      <td>  224.736047</td>\n",
        "      <td>  52.733626</td>\n",
        "      <td>  44.523763</td>\n",
        "      <td>  50.620249</td>\n",
        "      <td>  49.010140</td>\n",
        "      <td>  55.935216</td>\n",
        "      <td> -14.053262</td>\n",
        "      <td>  -0.027499</td>\n",
        "      <td>  29.060932</td>\n",
        "      <td>  68.571443</td>\n",
        "      <td>  72.720731</td>\n",
        "      <td>  30.028211</td>\n",
        "      <td> -24.334083</td>\n",
        "      <td>...</td>\n",
        "    </tr>\n",
        "    <tr>\n",
        "      <th>2116</th>\n",
        "      <td> 4</td>\n",
        "      <td>        NaN</td>\n",
        "      <td>        NaN</td>\n",
        "      <td>        NaN</td>\n",
        "      <td>        NaN</td>\n",
        "      <td> 287.583820</td>\n",
        "      <td> 242.093190</td>\n",
        "      <td>  357.125287</td>\n",
        "      <td> 137.818603</td>\n",
        "      <td> 112.760374</td>\n",
        "      <td> 113.571153</td>\n",
        "      <td> 145.824979</td>\n",
        "      <td> 122.708736</td>\n",
        "      <td>  61.198785</td>\n",
        "      <td>  86.257185</td>\n",
        "      <td>  93.676144</td>\n",
        "      <td> 127.184516</td>\n",
        "      <td> 138.001862</td>\n",
        "      <td>  72.198703</td>\n",
        "      <td>  46.314861</td>\n",
        "      <td>...</td>\n",
        "    </tr>\n",
        "    <tr>\n",
        "      <th>2116</th>\n",
        "      <td> 5</td>\n",
        "      <td>        NaN</td>\n",
        "      <td>        NaN</td>\n",
        "      <td>        NaN</td>\n",
        "      <td>        NaN</td>\n",
        "      <td>        NaN</td>\n",
        "      <td> 321.650012</td>\n",
        "      <td>  384.703038</td>\n",
        "      <td> 144.371037</td>\n",
        "      <td> 141.379188</td>\n",
        "      <td> 132.230678</td>\n",
        "      <td> 140.332668</td>\n",
        "      <td> 122.342482</td>\n",
        "      <td>  62.653176</td>\n",
        "      <td>  99.508083</td>\n",
        "      <td> 113.056840</td>\n",
        "      <td> 161.604298</td>\n",
        "      <td> 171.912753</td>\n",
        "      <td> 106.531495</td>\n",
        "      <td>  81.536494</td>\n",
        "      <td>...</td>\n",
        "    </tr>\n",
        "    <tr>\n",
        "      <th>2116</th>\n",
        "      <td> 6</td>\n",
        "      <td>        NaN</td>\n",
        "      <td>        NaN</td>\n",
        "      <td>        NaN</td>\n",
        "      <td>        NaN</td>\n",
        "      <td>        NaN</td>\n",
        "      <td>        NaN</td>\n",
        "      <td> 1172.646539</td>\n",
        "      <td> 186.514390</td>\n",
        "      <td> 224.481831</td>\n",
        "      <td> 211.310430</td>\n",
        "      <td> 281.403663</td>\n",
        "      <td> 171.539168</td>\n",
        "      <td> 127.839281</td>\n",
        "      <td> 159.652178</td>\n",
        "      <td> 153.777985</td>\n",
        "      <td> 211.092851</td>\n",
        "      <td> 163.645282</td>\n",
        "      <td> 175.284998</td>\n",
        "      <td> 144.156885</td>\n",
        "      <td>...</td>\n",
        "    </tr>\n",
        "    <tr>\n",
        "      <th>2116</th>\n",
        "      <td> 7</td>\n",
        "      <td>        NaN</td>\n",
        "      <td>        NaN</td>\n",
        "      <td>        NaN</td>\n",
        "      <td>        NaN</td>\n",
        "      <td>        NaN</td>\n",
        "      <td>        NaN</td>\n",
        "      <td>         NaN</td>\n",
        "      <td> 279.731512</td>\n",
        "      <td> 144.519454</td>\n",
        "      <td> 141.843788</td>\n",
        "      <td> 195.222012</td>\n",
        "      <td> 120.764580</td>\n",
        "      <td> 104.771950</td>\n",
        "      <td>  86.009238</td>\n",
        "      <td>  52.443978</td>\n",
        "      <td>  90.363425</td>\n",
        "      <td>  82.974659</td>\n",
        "      <td>  24.920974</td>\n",
        "      <td>  59.856036</td>\n",
        "      <td>...</td>\n",
        "    </tr>\n",
        "    <tr>\n",
        "      <th>2116</th>\n",
        "      <td> 8</td>\n",
        "      <td>        NaN</td>\n",
        "      <td>        NaN</td>\n",
        "      <td>        NaN</td>\n",
        "      <td>        NaN</td>\n",
        "      <td>        NaN</td>\n",
        "      <td>        NaN</td>\n",
        "      <td>         NaN</td>\n",
        "      <td>        NaN</td>\n",
        "      <td> 276.283854</td>\n",
        "      <td> 215.140098</td>\n",
        "      <td> 235.682189</td>\n",
        "      <td> 161.859239</td>\n",
        "      <td>  93.084075</td>\n",
        "      <td> 109.836881</td>\n",
        "      <td> 112.436651</td>\n",
        "      <td> 120.311934</td>\n",
        "      <td>  82.688154</td>\n",
        "      <td>  76.390831</td>\n",
        "      <td>  63.218593</td>\n",
        "      <td>...</td>\n",
        "    </tr>\n",
        "    <tr>\n",
        "      <th>2116</th>\n",
        "      <td> 9</td>\n",
        "      <td>        NaN</td>\n",
        "      <td>        NaN</td>\n",
        "      <td>        NaN</td>\n",
        "      <td>        NaN</td>\n",
        "      <td>        NaN</td>\n",
        "      <td>        NaN</td>\n",
        "      <td>         NaN</td>\n",
        "      <td>        NaN</td>\n",
        "      <td>        NaN</td>\n",
        "      <td> 292.462290</td>\n",
        "      <td> 214.308569</td>\n",
        "      <td> 127.150558</td>\n",
        "      <td>  77.890287</td>\n",
        "      <td>  77.530751</td>\n",
        "      <td>  80.098329</td>\n",
        "      <td> 118.333002</td>\n",
        "      <td> 101.707496</td>\n",
        "      <td>  64.934347</td>\n",
        "      <td>  73.060556</td>\n",
        "      <td>...</td>\n",
        "    </tr>\n",
        "  </tbody>\n",
        "</table>\n",
        "<p>10 rows \u00d7 51 columns</p>\n",
        "</div>"
       ],
       "metadata": {},
       "output_type": "pyout",
       "prompt_number": 10,
       "text": [
        "j            i         0.0         1.0         2.0         3.0         4.0  \\\n",
        "partitionID                                                                  \n",
        "2116         0  287.347305  168.477370  151.877791  124.737145  118.561481   \n",
        "2116         1         NaN  257.520914  184.113276  181.141169  162.371128   \n",
        "2116         2         NaN         NaN  254.064539  171.767176  204.041222   \n",
        "2116         3         NaN         NaN         NaN  249.131383  169.012477   \n",
        "2116         4         NaN         NaN         NaN         NaN  287.583820   \n",
        "2116         5         NaN         NaN         NaN         NaN         NaN   \n",
        "2116         6         NaN         NaN         NaN         NaN         NaN   \n",
        "2116         7         NaN         NaN         NaN         NaN         NaN   \n",
        "2116         8         NaN         NaN         NaN         NaN         NaN   \n",
        "2116         9         NaN         NaN         NaN         NaN         NaN   \n",
        "\n",
        "j                   5.0          6.0         7.0         8.0         9.0  \\\n",
        "partitionID                                                                \n",
        "2116         107.213381   222.157046   89.215827  106.664802   79.443966   \n",
        "2116         146.315383   242.403251   99.591466   81.661532   61.369829   \n",
        "2116         159.660683   227.094812   89.003392  135.179405   82.972131   \n",
        "2116         139.433077   224.736047   52.733626   44.523763   50.620249   \n",
        "2116         242.093190   357.125287  137.818603  112.760374  113.571153   \n",
        "2116         321.650012   384.703038  144.371037  141.379188  132.230678   \n",
        "2116                NaN  1172.646539  186.514390  224.481831  211.310430   \n",
        "2116                NaN          NaN  279.731512  144.519454  141.843788   \n",
        "2116                NaN          NaN         NaN  276.283854  215.140098   \n",
        "2116                NaN          NaN         NaN         NaN  292.462290   \n",
        "\n",
        "j                  10.0        11.0        12.0        13.0        14.0  \\\n",
        "partitionID                                                               \n",
        "2116         114.284790   75.583364   36.320732   20.034976   59.391286   \n",
        "2116          68.521496   95.048722   56.813072   88.702407   76.282292   \n",
        "2116          98.783450   91.515759   32.049295   59.274776   83.779242   \n",
        "2116          49.010140   55.935216  -14.053262   -0.027499   29.060932   \n",
        "2116         145.824979  122.708736   61.198785   86.257185   93.676144   \n",
        "2116         140.332668  122.342482   62.653176   99.508083  113.056840   \n",
        "2116         281.403663  171.539168  127.839281  159.652178  153.777985   \n",
        "2116         195.222012  120.764580  104.771950   86.009238   52.443978   \n",
        "2116         235.682189  161.859239   93.084075  109.836881  112.436651   \n",
        "2116         214.308569  127.150558   77.890287   77.530751   80.098329   \n",
        "\n",
        "j                  15.0        16.0        17.0        18.0      \n",
        "partitionID                                                      \n",
        "2116          77.986715   59.471531   40.517616   49.342311 ...  \n",
        "2116          85.928141   74.840221   58.143543   35.753690 ...  \n",
        "2116          97.928245  103.805350   88.024089   52.359326 ...  \n",
        "2116          68.571443   72.720731   30.028211  -24.334083 ...  \n",
        "2116         127.184516  138.001862   72.198703   46.314861 ...  \n",
        "2116         161.604298  171.912753  106.531495   81.536494 ...  \n",
        "2116         211.092851  163.645282  175.284998  144.156885 ...  \n",
        "2116          90.363425   82.974659   24.920974   59.856036 ...  \n",
        "2116         120.311934   82.688154   76.390831   63.218593 ...  \n",
        "2116         118.333002  101.707496   64.934347   73.060556 ...  \n",
        "\n",
        "[10 rows x 51 columns]"
       ]
      }
     ],
     "prompt_number": 10
    },
    {
     "cell_type": "markdown",
     "metadata": {},
     "source": [
      "Note that we only computed the upper diagonal elements as the covariance matrix is symmetric. \n",
      "\n",
      "The function below will fill up the empty entries."
     ]
    },
    {
     "cell_type": "code",
     "collapsed": false,
     "input": [
      "# Fill up symmetric entries\n",
      "def fill_cov(cov):\n",
      "    for i in xrange(1,shape(cov)[0]):\n",
      "        for j in xrange(i):\n",
      "            cov[i][j] = cov[j][i]        \n",
      "    return cov"
     ],
     "language": "python",
     "metadata": {},
     "outputs": [],
     "prompt_number": 11
    },
    {
     "cell_type": "markdown",
     "metadata": {},
     "source": [
      "Before proceeding to the last section, let us perform the final step of PCA, that is computing the eigenvectors and eigenvalues of the covariance matrix, for a single partition."
     ]
    },
    {
     "cell_type": "code",
     "collapsed": false,
     "input": [
      "cov = np.array(dfCov.ix['2116',:])\n",
      "cov = fill_cov(cov)"
     ],
     "language": "python",
     "metadata": {},
     "outputs": [],
     "prompt_number": 18
    },
    {
     "cell_type": "markdown",
     "metadata": {},
     "source": [
      "Here, we will use singular value decomposition."
     ]
    },
    {
     "cell_type": "code",
     "collapsed": false,
     "input": [
      "U,S,V=np.linalg.svd(cov)"
     ],
     "language": "python",
     "metadata": {},
     "outputs": [],
     "prompt_number": 13
    },
    {
     "cell_type": "markdown",
     "metadata": {},
     "source": [
      "We can look at the explained variance"
     ]
    },
    {
     "cell_type": "code",
     "collapsed": false,
     "input": [
      "explainedVar = cumsum(S)/sum(S)\n",
      "plot(explainedVar)\n",
      "xlabel('Number of eigenvectors')\n",
      "ylabel('Explained variance')\n",
      "xlim([1,len(S)])\n",
      "grid()"
     ],
     "language": "python",
     "metadata": {},
     "outputs": [
      {
       "metadata": {},
       "output_type": "display_data",
       "png": "[encoded data removed]",
       "text": [
        "<matplotlib.figure.Figure at 0x5049b10>"
       ]
      }
     ],
     "prompt_number": 14
    },
    {
     "cell_type": "markdown",
     "metadata": {},
     "source": [
      "and compute the minimum number of eigenvectors needed, such that at least 99% of variance is explained."
     ]
    },
    {
     "cell_type": "code",
     "collapsed": false,
     "input": [
      "k = find(explainedVar>=0.99)[0]\n",
      "print k"
     ],
     "language": "python",
     "metadata": {},
     "outputs": [
      {
       "output_type": "stream",
       "stream": "stdout",
       "text": [
        "31\n"
       ]
      }
     ],
     "prompt_number": 16
    }
   ],
   "metadata": {}
  }
 ]
}