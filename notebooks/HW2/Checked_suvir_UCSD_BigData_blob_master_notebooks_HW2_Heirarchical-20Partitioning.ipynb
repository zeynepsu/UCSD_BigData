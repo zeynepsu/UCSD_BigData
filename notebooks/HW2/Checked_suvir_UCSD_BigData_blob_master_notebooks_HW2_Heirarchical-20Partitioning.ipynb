{
 "metadata": {
  "name": "",
  "signature": "sha256:89a0d68d652a17bcfa6aeb4fca48e014cd5138392bc353ef7d904727e4343ab4"
 },
 "nbformat": 3,
 "nbformat_minor": 0,
 "worksheets": [
  {
   "cells": [
    {
     "cell_type": "code",
     "collapsed": false,
     "input": [
      "from mpl_toolkits.basemap import Basemap\n",
      "import pickle\n",
      "import pandas as pd\n",
      "import numpy as np\n",
      "import sklearn as sk"
     ],
     "language": "python",
     "metadata": {},
     "outputs": [],
     "prompt_number": 23
    },
    {
     "cell_type": "markdown",
     "metadata": {},
     "source": [
      "##Reading in StationStatistics and Station Info data"
     ]
    },
    {
     "cell_type": "code",
     "collapsed": false,
     "input": [
      "import pickle,zlib,base64\n",
      "station_stats={}\n",
      "f=open('data/StationStatistics_temp','r')\n",
      "l=f.readlines()\n",
      "f.close()\n",
      "for line in l:\n",
      "    line = line.strip()\n",
      "    station = line.split('\\t')[0]\n",
      "    data = line.split('\\t')[1]\n",
      "    station_stats[station[1:-1]]=pickle.loads(zlib.decompress(base64.b64decode(data[1:-1])))"
     ],
     "language": "python",
     "metadata": {},
     "outputs": [],
     "prompt_number": 8
    },
    {
     "cell_type": "code",
     "collapsed": false,
     "input": [
      "for k in station_stats.keys()[:1]:\n",
      "    print k,station_stats[k]"
     ],
     "language": "python",
     "metadata": {},
     "outputs": [
      {
       "output_type": "stream",
       "stream": "stdout",
       "text": [
        "CA004035200 {(u'TMIN', 1994): 355, (u'PRCP', 1967): 214, (u'TMAX', 1965): 150, (u'MDPR', 1963): 1, (u'PRCP', 1992): 177, (u'TMIN', 1980): 211, (u'PRCP', 1972): 358, (u'MDPR', 1972): 1, (u'PRCP', 1962): 365, (u'PRCP', 1974): 243, (u'TMAX', 1981): 90, (u'TMIN', 1963): 364, (u'PRCP', 1995): 304, (u'TMIN', 1958): 365, (u'TMIN', 1969): 361, (u'PRCP', 1971): 364, (u'PRCP', 1956): 362, (u'MDPR', 1956): 1, (u'PRCP', 1961): 365, (u'TMAX', 1955): 365, (u'TMIN', 1960): 361, (u'TMIN', 1974): 245, (u'PRCP', 1955): 361, (u'TMAX', 1961): 345, (u'MDPR', 1959): 2, (u'TMAX', 1956): 365, (u'TMAX', 1992): 181, (u'TMAX', 1971): 349, (u'TMIN', 1965): 150, (u'TMAX', 1975): 59, (u'MDPR', 1968): 1, (u'PRCP', 1981): 90, (u'TMAX', 1962): 363, (u'TMAX', 1972): 363, (u'TMIN', 1954): 184, (u'TMIN', 1981): 90, (u'PRCP', 1975): 59, (u'TMIN', 1992): 180, (u'PRCP', 1965): 151, (u'TMAX', 1967): 205, (u'TMAX', 1995): 289, (u'TMIN', 1959): 365, (u'PRCP', 1993): 302, (u'TMIN', 1970): 362, (u'PRCP', 1970): 365, (u'PRCP', 1959): 361, (u'MDPR', 1955): 1, (u'PRCP', 1960): 365, (u'TMIN', 1961): 364, (u'TMIN', 1956): 364, (u'TMIN', 1975): 59, (u'PRCP', 1969): 365, (u'PRCP', 1954): 184, (u'TMAX', 1957): 364, (u'TMAX', 1968): 354, (u'PRCP', 1973): 329, (u'TMIN', 1972): 362, (u'PRCP', 1980): 212, (u'TMAX', 1963): 365, (u'TMAX', 1958): 365, (u'PRCP', 1994): 362, (u'TMIN', 1955): 364, (u'TMAX', 1993): 300, (u'TMIN', 1993): 296, (u'PRCP', 1964): 365, (u'TMAX', 1964): 362, (u'TMAX', 1974): 245, (u'TMIN', 1971): 357, (u'TMAX', 1994): 352, (u'PRCP', 1958): 365, (u'PRCP', 1963): 363, (u'TMAX', 1980): 210, (u'TMIN', 1962): 364, (u'TMIN', 1957): 364, (u'TMIN', 1968): 358, (u'PRCP', 1968): 363, (u'TMIN', 1995): 287, (u'PRCP', 1957): 365, (u'TMAX', 1954): 184, (u'TMAX', 1969): 356, (u'TMIN', 1967): 207, (u'TMIN', 1973): 313, (u'TMAX', 1960): 354, (u'TMAX', 1959): 364, (u'TMAX', 1973): 313, (u'TMAX', 1970): 362, (u'TMIN', 1964): 363}\n"
       ]
      }
     ],
     "prompt_number": 25
    },
    {
     "cell_type": "code",
     "collapsed": false,
     "input": [
      "print len(station_stats.keys())"
     ],
     "language": "python",
     "metadata": {},
     "outputs": [
      {
       "output_type": "stream",
       "stream": "stdout",
       "text": [
        "85284\n"
       ]
      }
     ],
     "prompt_number": 10
    },
    {
     "cell_type": "code",
     "collapsed": false,
     "input": [
      "station_info=pickle.load(open('/home/ubuntu/yfreund/notebooks/weather.mapreduce/stations.pkl','rb'))\n",
      "station_info.head()"
     ],
     "language": "python",
     "metadata": {},
     "outputs": [
      {
       "html": [
        "<div style=\"max-height:1000px;max-width:1500px;overflow:auto;\">\n",
        "<table border=\"1\" class=\"dataframe\">\n",
        "  <thead>\n",
        "    <tr style=\"text-align: right;\">\n",
        "      <th></th>\n",
        "      <th>latitude</th>\n",
        "      <th>longitude</th>\n",
        "      <th>elevation</th>\n",
        "      <th>state</th>\n",
        "      <th>name</th>\n",
        "      <th>GSNFLAG</th>\n",
        "      <th>HCNFLAG</th>\n",
        "      <th>WMOID</th>\n",
        "    </tr>\n",
        "  </thead>\n",
        "  <tbody>\n",
        "    <tr>\n",
        "      <th>ACW00011604</th>\n",
        "      <td> 17.1167</td>\n",
        "      <td>-61.7833</td>\n",
        "      <td>   10.1</td>\n",
        "      <td> NaN</td>\n",
        "      <td> ST JOHNS COOLIDGE FLD</td>\n",
        "      <td> NaN</td>\n",
        "      <td> NaN</td>\n",
        "      <td>   NaN</td>\n",
        "    </tr>\n",
        "    <tr>\n",
        "      <th>ACW00011647</th>\n",
        "      <td> 17.1333</td>\n",
        "      <td>-61.7833</td>\n",
        "      <td>   19.2</td>\n",
        "      <td> NaN</td>\n",
        "      <td>              ST JOHNS</td>\n",
        "      <td> NaN</td>\n",
        "      <td> NaN</td>\n",
        "      <td>   NaN</td>\n",
        "    </tr>\n",
        "    <tr>\n",
        "      <th>AE000041196</th>\n",
        "      <td> 25.3330</td>\n",
        "      <td> 55.5170</td>\n",
        "      <td>   34.0</td>\n",
        "      <td> NaN</td>\n",
        "      <td>   SHARJAH INTER. AIRP</td>\n",
        "      <td> GSN</td>\n",
        "      <td> NaN</td>\n",
        "      <td> 41196</td>\n",
        "    </tr>\n",
        "    <tr>\n",
        "      <th>AF000040930</th>\n",
        "      <td> 35.3170</td>\n",
        "      <td> 69.0170</td>\n",
        "      <td> 3366.0</td>\n",
        "      <td> NaN</td>\n",
        "      <td>          NORTH-SALANG</td>\n",
        "      <td> GSN</td>\n",
        "      <td> NaN</td>\n",
        "      <td> 40930</td>\n",
        "    </tr>\n",
        "    <tr>\n",
        "      <th>AG000060390</th>\n",
        "      <td> 36.7167</td>\n",
        "      <td>  3.2500</td>\n",
        "      <td>   24.0</td>\n",
        "      <td> NaN</td>\n",
        "      <td>    ALGER-DAR EL BEIDA</td>\n",
        "      <td> GSN</td>\n",
        "      <td> NaN</td>\n",
        "      <td> 60390</td>\n",
        "    </tr>\n",
        "  </tbody>\n",
        "</table>\n",
        "<p>5 rows \u00d7 8 columns</p>\n",
        "</div>"
       ],
       "metadata": {},
       "output_type": "pyout",
       "prompt_number": 11,
       "text": [
        "             latitude  longitude  elevation state                   name  \\\n",
        "ACW00011604   17.1167   -61.7833       10.1   NaN  ST JOHNS COOLIDGE FLD   \n",
        "ACW00011647   17.1333   -61.7833       19.2   NaN               ST JOHNS   \n",
        "AE000041196   25.3330    55.5170       34.0   NaN    SHARJAH INTER. AIRP   \n",
        "AF000040930   35.3170    69.0170     3366.0   NaN           NORTH-SALANG   \n",
        "AG000060390   36.7167     3.2500       24.0   NaN     ALGER-DAR EL BEIDA   \n",
        "\n",
        "            GSNFLAG HCNFLAG  WMOID  \n",
        "ACW00011604     NaN     NaN    NaN  \n",
        "ACW00011647     NaN     NaN    NaN  \n",
        "AE000041196     GSN     NaN  41196  \n",
        "AF000040930     GSN     NaN  40930  \n",
        "AG000060390     GSN     NaN  60390  \n",
        "\n",
        "[5 rows x 8 columns]"
       ]
      }
     ],
     "prompt_number": 11
    },
    {
     "cell_type": "code",
     "collapsed": false,
     "input": [
      "def get_station_info(station):\n",
      "    try:\n",
      "        return station_info.loc[unicode(station)]\n",
      "    except:\n",
      "        print \"Error:\",station\n",
      "get_station_info('CA004035200')\n",
      "#get_station_info('dummy')"
     ],
     "language": "python",
     "metadata": {},
     "outputs": [
      {
       "metadata": {},
       "output_type": "pyout",
       "prompt_number": 12,
       "text": [
        "latitude      49.17\n",
        "longitude   -104.58\n",
        "elevation       695\n",
        "state           NaN\n",
        "name         MINTON\n",
        "GSNFLAG         NaN\n",
        "HCNFLAG         NaN\n",
        "WMOID           NaN\n",
        "Name: CA004035200, dtype: object"
       ]
      }
     ],
     "prompt_number": 12
    },
    {
     "cell_type": "markdown",
     "metadata": {},
     "source": [
      "## Computing total count of measurements for each station\n",
      "\n",
      "We only consider stations that have a record of at least 1 year with > 180 recorded measurements."
     ]
    },
    {
     "cell_type": "code",
     "collapsed": false,
     "input": [
      "total_measurements={}\n",
      "for k in station_stats.keys():\n",
      "    total_measurements[k]=0\n",
      "    for measurement in station_stats[k].keys():\n",
      "        #Only considering TMAX and TMIN measurements because thats how we will train the model\n",
      "        if int(station_stats[k][measurement])>=180: \n",
      "            total_measurements[k] += 1"
     ],
     "language": "python",
     "metadata": {},
     "outputs": [],
     "prompt_number": 38
    },
    {
     "cell_type": "code",
     "collapsed": false,
     "input": [
      "total_measurements['CA004035200']"
     ],
     "language": "python",
     "metadata": {},
     "outputs": [
      {
       "metadata": {},
       "output_type": "pyout",
       "prompt_number": 39,
       "text": [
        "71"
       ]
      }
     ],
     "prompt_number": 39
    },
    {
     "cell_type": "markdown",
     "metadata": {},
     "source": [
      "We remove all stations which did not match the above condition i.e. Atleast 1 year with more than 180 readings"
     ]
    },
    {
     "cell_type": "code",
     "collapsed": false,
     "input": [
      "total_measurements = {key:value for key,value in total_measurements.items() if value>0}\n",
      "len(total_measurements.keys())"
     ],
     "language": "python",
     "metadata": {},
     "outputs": [
      {
       "metadata": {},
       "output_type": "pyout",
       "prompt_number": 43,
       "text": [
        "79454"
       ]
      }
     ],
     "prompt_number": 43
    },
    {
     "cell_type": "code",
     "collapsed": false,
     "input": [
      "total_all_buckets = 0\n",
      "for value in total_measurements.values():\n",
      "    total_all_buckets += value\n",
      "print total_all_buckets\n",
      "#total_measurements.values()"
     ],
     "language": "python",
     "metadata": {},
     "outputs": [
      {
       "output_type": "stream",
       "stream": "stdout",
       "text": [
        "6164776\n"
       ]
      }
     ],
     "prompt_number": 46
    },
    {
     "cell_type": "markdown",
     "metadata": {},
     "source": [
      "## Dividing the stations into buckets"
     ]
    },
    {
     "cell_type": "code",
     "collapsed": false,
     "input": [
      "some_dict={'a':1000,'b':1,'c':500}\n",
      "sorted(some_dict, key=some_dict.__getitem__)"
     ],
     "language": "python",
     "metadata": {},
     "outputs": [
      {
       "metadata": {},
       "output_type": "pyout",
       "prompt_number": 47,
       "text": [
        "['b', 'c', 'a']"
       ]
      }
     ],
     "prompt_number": 47
    },
    {
     "cell_type": "code",
     "collapsed": false,
     "input": [
      "toggle={}\n",
      "toggle['longitude']='latitude'\n",
      "toggle['latitude']='longitude'\n",
      "\n",
      "def partition(station_list,mode):\n",
      "    global buckets\n",
      "    \"\"\"\n",
      "    Base case : If total measurements in this station list touches K, return\n",
      "    \"\"\"\n",
      "    if bucket_total(station_list)<15000:\n",
      "        print \"Added stations to bucket:\",len(station_list),\"No. of buckets\",len(buckets)\n",
      "        buckets.append(station_list)\n",
      "        return\n",
      "    \n",
      "    sort_on={}\n",
      "    for station in station_list:\n",
      "        sort_on[station]=get_station_info(station)[mode]\n",
      "    sorted_stations=sorted(sort_on,key=sort_on.__getitem__)\n",
      "    \n",
      "    cumsum=0\n",
      "    for station in sorted_stations:\n",
      "        cumsum += total_measurements[station]\n",
      "    \n",
      "    partition_on_value = cumsum/2\n",
      "    \n",
      "    print \"Partitioning on this :\",partition_on_value\n",
      "    \n",
      "    another_sum=0\n",
      "    left_stations=[]\n",
      "    right_stations=[]\n",
      "    for station in sorted_stations:\n",
      "        if another_sum>=partition_on_value:\n",
      "            right_stations.append(station)\n",
      "        else:\n",
      "            another_sum += total_measurements[station]\n",
      "            left_stations.append(station)\n",
      "    \n",
      "    print \"Split like this :\",len(left_stations),len(right_stations)\n",
      "    \n",
      "    partition(left_stations,toggle[mode])\n",
      "    partition(right_stations,toggle[mode])\n",
      "\n",
      "def bucket_total(station_list):\n",
      "    \"\"\"\n",
      "    Find sum of all measurements for stations in a bucket\n",
      "    \"\"\"\n",
      "    return sum(total_measurements[station] for station in station_list)"
     ],
     "language": "python",
     "metadata": {},
     "outputs": [],
     "prompt_number": 56
    },
    {
     "cell_type": "code",
     "collapsed": false,
     "input": [
      "partition_record={}\n",
      "partition_count=0\n",
      "buckets=[]\n",
      "diff_history=[-1,-2]\n",
      "alert_flag=False\n",
      "\n",
      "#all_stations=station_stats.keys()\n",
      "all_stations=list(set(station_info.index).intersection(set(total_measurements.keys())))\n",
      "#del all_stations[all_stations.index('station')]\n",
      "print len(all_stations)\n",
      "#partition(-90,all_stations,'longitude')\n",
      "#print partition_record\n",
      "partition(all_stations,'longitude')"
     ],
     "language": "python",
     "metadata": {},
     "outputs": [
      {
       "output_type": "stream",
       "stream": "stdout",
       "text": [
        "79454\n",
        "Partitioning on this :"
       ]
      },
      {
       "output_type": "stream",
       "stream": "stdout",
       "text": [
        " 3082388\n",
        "Split like this : 31246 48208\n",
        "Partitioning on this :"
       ]
      },
      {
       "output_type": "stream",
       "stream": "stdout",
       "text": [
        " 1541269\n",
        "Split like this : 15647 15599\n",
        "Partitioning on this :"
       ]
      },
      {
       "output_type": "stream",
       "stream": "stdout",
       "text": [
        " 770643\n",
        "Split like this : 7935 7712\n",
        "Partitioning on this :"
       ]
      },
      {
       "output_type": "stream",
       "stream": "stdout",
       "text": [
        " 385345\n",
        "Split like this : 3778 4157\n",
        "Partitioning on this :"
       ]
      },
      {
       "output_type": "stream",
       "stream": "stdout",
       "text": [
        " 192785\n",
        "Split like this : 1831 1947\n",
        "Partitioning on this :"
       ]
      },
      {
       "output_type": "stream",
       "stream": "stdout",
       "text": [
        " 96504\n",
        "Split like this : 905 926\n",
        "Partitioning on this :"
       ]
      },
      {
       "output_type": "stream",
       "stream": "stdout",
       "text": [
        " 48323\n",
        "Split like this : 444 461\n",
        "Partitioning on this :"
       ]
      },
      {
       "output_type": "stream",
       "stream": "stdout",
       "text": [
        " 24275\n",
        "Split like this : 229 215\n",
        "Partitioning on this : 12169\n",
        "Split like this : 120 109\n",
        "Added stations to bucket: 120 No. of buckets 0\n",
        "Added stations to bucket: 109 No. of buckets 1\n",
        "Partitioning on this :"
       ]
      },
      {
       "output_type": "stream",
       "stream": "stdout",
       "text": [
        " 12106\n",
        "Split like this : 89 126\n",
        "Added stations to bucket: 89 No. of buckets 2\n",
        "Added stations to bucket: 126 No. of buckets 3\n",
        "Partitioning on this :"
       ]
      },
      {
       "output_type": "stream",
       "stream": "stdout",
       "text": [
        " 24048\n",
        "Split like this : 269 192\n",
        "Partitioning on this :"
       ]
      },
      {
       "output_type": "stream",
       "stream": "stdout",
       "text": [
        " 12049\n",
        "Split like this : 148 121\n",
        "Added stations to bucket: 148 No. of buckets 4\n",
        "Added stations to bucket: 121 No. of buckets 5\n",
        "Partitioning on this : 11999\n",
        "Split like this : 99 93\n",
        "Added stations to bucket: 99 No. of buckets 6\n",
        "Added stations to bucket: 93 No. of buckets 7\n",
        "Partitioning on this :"
       ]
      },
      {
       "output_type": "stream",
       "stream": "stdout",
       "text": [
        " 48180\n",
        "Split like this : 446 480\n",
        "Partitioning on this :"
       ]
      },
      {
       "output_type": "stream",
       "stream": "stdout",
       "text": [
        " 24158\n",
        "Split like this : 208 238\n",
        "Partitioning on this : 12095\n",
        "Split like this : 90 118\n",
        "Added stations to bucket: 90 No. of buckets 8\n",
        "Added stations to bucket: 118 No. of buckets 9\n",
        "Partitioning on this :"
       ]
      },
      {
       "output_type": "stream",
       "stream": "stdout",
       "text": [
        " 12063\n",
        "Split like this : 115 123\n",
        "Added stations to bucket: 115 No. of buckets 10\n",
        "Added stations to bucket: 123 No. of buckets 11\n",
        "Partitioning on this :"
       ]
      },
      {
       "output_type": "stream",
       "stream": "stdout",
       "text": [
        " 24022\n",
        "Split like this : 283 197\n",
        "Partitioning on this :"
       ]
      },
      {
       "output_type": "stream",
       "stream": "stdout",
       "text": [
        " 12016\n",
        "Split like this : 86 197\n",
        "Added stations to bucket: 86 No. of buckets 12\n",
        "Added stations to bucket: 197 No. of buckets 13\n",
        "Partitioning on this : 12005\n",
        "Split like this : 105 92\n",
        "Added stations to bucket: 105 No. of buckets 14\n",
        "Added stations to bucket: 92 No. of buckets 15\n",
        "Partitioning on this :"
       ]
      },
      {
       "output_type": "stream",
       "stream": "stdout",
       "text": [
        " 96281\n",
        "Split like this : 1071 876\n",
        "Partitioning on this :"
       ]
      },
      {
       "output_type": "stream",
       "stream": "stdout",
       "text": [
        " 48266\n",
        "Split like this : 606 465\n",
        "Partitioning on this :"
       ]
      },
      {
       "output_type": "stream",
       "stream": "stdout",
       "text": [
        " 24196\n",
        "Split like this : 201 405\n",
        "Partitioning on this : 12362\n",
        "Split like this : 103 98\n",
        "Added stations to bucket: 103 No. of buckets 16\n",
        "Added stations to bucket: 98 No. of buckets 17\n",
        "Partitioning on this :"
       ]
      },
      {
       "output_type": "stream",
       "stream": "stdout",
       "text": [
        " 11834\n",
        "Split like this : 187 218\n",
        "Added stations to bucket: 187 No. of buckets 18\n",
        "Added stations to bucket: 218 No. of buckets 19\n",
        "Partitioning on this :"
       ]
      },
      {
       "output_type": "stream",
       "stream": "stdout",
       "text": [
        " 24070\n",
        "Split like this : 266 199\n",
        "Partitioning on this :"
       ]
      },
      {
       "output_type": "stream",
       "stream": "stdout",
       "text": [
        " 12160\n",
        "Split like this : 112 154\n",
        "Added stations to bucket: 112 No. of buckets 20\n",
        "Added stations to bucket: 154 No. of buckets 21\n",
        "Partitioning on this : 11909\n",
        "Split like this : 102 97\n",
        "Added stations to bucket: 102 No. of buckets 22\n",
        "Added stations to bucket: 97 No. of buckets 23\n",
        "Partitioning on this :"
       ]
      },
      {
       "output_type": "stream",
       "stream": "stdout",
       "text": [
        " 48015\n",
        "Split like this : 477 399\n",
        "Partitioning on this :"
       ]
      },
      {
       "output_type": "stream",
       "stream": "stdout",
       "text": [
        " 24130\n",
        "Split like this : 188 289\n",
        "Partitioning on this : 12114\n",
        "Split like this : 87 101\n",
        "Added stations to bucket: 87 No. of buckets 24\n",
        "Added stations to bucket: 101 No. of buckets 25\n",
        "Partitioning on this :"
       ]
      },
      {
       "output_type": "stream",
       "stream": "stdout",
       "text": [
        " 12016\n",
        "Split like this : 75 214\n",
        "Added stations to bucket: 75 No. of buckets 26\n",
        "Added stations to bucket: 214 No. of buckets 27\n",
        "Partitioning on this :"
       ]
      },
      {
       "output_type": "stream",
       "stream": "stdout",
       "text": [
        " 23884\n",
        "Split like this : 223 176\n",
        "Partitioning on this : 11945\n",
        "Split like this : 127 96\n",
        "Added stations to bucket: 127 No. of buckets 28\n",
        "Added stations to bucket: 96 No. of buckets 29\n",
        "Partitioning on this :"
       ]
      },
      {
       "output_type": "stream",
       "stream": "stdout",
       "text": [
        " 11939\n",
        "Split like this : 82 94\n",
        "Added stations to bucket: 82 No. of buckets 30\n",
        "Added stations to bucket: 94 No. of buckets 31\n",
        "Partitioning on this :"
       ]
      },
      {
       "output_type": "stream",
       "stream": "stdout",
       "text": [
        " 192559\n",
        "Split like this : 1715 2442\n",
        "Partitioning on this :"
       ]
      },
      {
       "output_type": "stream",
       "stream": "stdout",
       "text": [
        " 96452\n",
        "Split like this : 831 884\n",
        "Partitioning on this :"
       ]
      },
      {
       "output_type": "stream",
       "stream": "stdout",
       "text": [
        " 48278\n",
        "Split like this : 435 396\n",
        "Partitioning on this :"
       ]
      },
      {
       "output_type": "stream",
       "stream": "stdout",
       "text": [
        " 24200\n",
        "Split like this : 227 208\n",
        "Partitioning on this : 12107\n",
        "Split like this : 139 88\n",
        "Added stations to bucket: 139 No. of buckets 32\n",
        "Added stations to bucket: 88 No. of buckets 33\n",
        "Partitioning on this :"
       ]
      },
      {
       "output_type": "stream",
       "stream": "stdout",
       "text": [
        " 12093\n",
        "Split like this : 107 101\n",
        "Added stations to bucket: 107 No. of buckets 34\n",
        "Added stations to bucket: 101 No. of buckets 35\n",
        "Partitioning on this :"
       ]
      },
      {
       "output_type": "stream",
       "stream": "stdout",
       "text": [
        " 24078\n",
        "Split like this : 214 182\n",
        "Partitioning on this : 12192\n",
        "Split like this : 90 124\n",
        "Added stations to bucket: 90 No. of buckets 36\n",
        "Added stations to bucket: 124 No. of buckets 37\n",
        "Partitioning on this :"
       ]
      },
      {
       "output_type": "stream",
       "stream": "stdout",
       "text": [
        " 11886\n",
        "Split like this : 108 74\n",
        "Added stations to bucket: 108 No. of buckets 38\n",
        "Added stations to bucket: 74 No. of buckets 39\n",
        "Partitioning on this :"
       ]
      },
      {
       "output_type": "stream",
       "stream": "stdout",
       "text": [
        " 48173\n",
        "Split like this : 460 424\n",
        "Partitioning on this :"
       ]
      },
      {
       "output_type": "stream",
       "stream": "stdout",
       "text": [
        " 24136\n",
        "Split like this : 247 213\n",
        "Partitioning on this :"
       ]
      },
      {
       "output_type": "stream",
       "stream": "stdout",
       "text": [
        " 12150\n",
        "Split like this : 138 109\n",
        "Added stations to bucket: 138 No. of buckets 40\n",
        "Added stations to bucket: 109 No. of buckets 41\n",
        "Partitioning on this : 11986\n",
        "Split like this : 111 102\n",
        "Added stations to bucket: 111 No. of buckets 42\n",
        "Added stations to bucket: 102 No. of buckets 43\n",
        "Partitioning on this :"
       ]
      },
      {
       "output_type": "stream",
       "stream": "stdout",
       "text": [
        " 24037\n",
        "Split like this : 198 226\n",
        "Partitioning on this : 12031\n",
        "Split like this : 110 88\n",
        "Added stations to bucket: 110 No. of buckets 44\n",
        "Added stations to bucket: 88 No. of buckets 45\n",
        "Partitioning on this :"
       ]
      },
      {
       "output_type": "stream",
       "stream": "stdout",
       "text": [
        " 12006\n",
        "Split like this : 149 77\n",
        "Added stations to bucket: 149 No. of buckets 46\n",
        "Added stations to bucket: 77 No. of buckets 47\n",
        "Partitioning on this :"
       ]
      },
      {
       "output_type": "stream",
       "stream": "stdout",
       "text": [
        " 96107\n",
        "Split like this : 900 1542\n",
        "Partitioning on this :"
       ]
      },
      {
       "output_type": "stream",
       "stream": "stdout",
       "text": [
        " 48261\n",
        "Split like this : 441 459\n",
        "Partitioning on this :"
       ]
      },
      {
       "output_type": "stream",
       "stream": "stdout",
       "text": [
        " 24298\n",
        "Split like this : 215 226\n",
        "Partitioning on this : 12150\n",
        "Split like this : 87 128\n",
        "Added stations to bucket: 87 No. of buckets 48\n",
        "Added stations to bucket: 128 No. of buckets 49\n",
        "Partitioning on this :"
       ]
      },
      {
       "output_type": "stream",
       "stream": "stdout",
       "text": [
        " 12148\n",
        "Split like this : 108 118\n",
        "Added stations to bucket: 108 No. of buckets 50\n",
        "Added stations to bucket: 118 No. of buckets 51\n",
        "Partitioning on this :"
       ]
      },
      {
       "output_type": "stream",
       "stream": "stdout",
       "text": [
        " 23962\n",
        "Split like this : 200 259\n",
        "Partitioning on this : 12057\n",
        "Split like this : 101 99\n",
        "Added stations to bucket: 101 No. of buckets 52\n",
        "Added stations to bucket: 99 No. of buckets 53\n",
        "Partitioning on this :"
       ]
      },
      {
       "output_type": "stream",
       "stream": "stdout",
       "text": [
        " 11905\n",
        "Split like this : 141 118\n",
        "Added stations to bucket: 141 No. of buckets 54\n",
        "Added stations to bucket: 118 No. of buckets 55\n",
        "Partitioning on this :"
       ]
      },
      {
       "output_type": "stream",
       "stream": "stdout",
       "text": [
        " 47846\n",
        "Split like this : 608 934\n",
        "Partitioning on this :"
       ]
      },
      {
       "output_type": "stream",
       "stream": "stdout",
       "text": [
        " 23978\n",
        "Split like this : 282 326\n",
        "Partitioning on this :"
       ]
      },
      {
       "output_type": "stream",
       "stream": "stdout",
       "text": [
        " 12126\n",
        "Split like this : 120 162\n",
        "Added stations to bucket: 120 No. of buckets 56\n",
        "Added stations to bucket: 162 No. of buckets 57\n",
        "Partitioning on this :"
       ]
      },
      {
       "output_type": "stream",
       "stream": "stdout",
       "text": [
        " 11852\n",
        "Split like this : 124 202\n",
        "Added stations to bucket: 124 No. of buckets 58\n",
        "Added stations to bucket: 202 No. of buckets 59\n",
        "Partitioning on this :"
       ]
      },
      {
       "output_type": "stream",
       "stream": "stdout",
       "text": [
        " 23868\n",
        "Split like this : 356 578\n",
        "Partitioning on this :"
       ]
      },
      {
       "output_type": "stream",
       "stream": "stdout",
       "text": [
        " 12170\n",
        "Split like this : 245 111\n",
        "Added stations to bucket: 245 No. of buckets 60\n",
        "Added stations to bucket: 111 No. of buckets 61\n",
        "Partitioning on this :"
       ]
      },
      {
       "output_type": "stream",
       "stream": "stdout",
       "text": [
        " 11698\n",
        "Split like this : 436 142\n",
        "Added stations to bucket: 436 No. of buckets 62\n",
        "Added stations to bucket: 142 No. of buckets 63\n",
        "Partitioning on this :"
       ]
      },
      {
       "output_type": "stream",
       "stream": "stdout",
       "text": [
        " 385298\n",
        "Split like this : 3888 3824\n",
        "Partitioning on this :"
       ]
      },
      {
       "output_type": "stream",
       "stream": "stdout",
       "text": [
        " 192683\n",
        "Split like this : 2216 1672\n",
        "Partitioning on this :"
       ]
      },
      {
       "output_type": "stream",
       "stream": "stdout",
       "text": [
        " 96595\n",
        "Split like this : 1381 835\n",
        "Partitioning on this :"
       ]
      },
      {
       "output_type": "stream",
       "stream": "stdout",
       "text": [
        " 48309\n",
        "Split like this : 811 570\n",
        "Partitioning on this :"
       ]
      },
      {
       "output_type": "stream",
       "stream": "stdout",
       "text": [
        " 24164\n",
        "Split like this : 229 582\n",
        "Partitioning on this : 12140\n",
        "Split like this : 113 116\n",
        "Added stations to bucket: 113 No. of buckets 64\n",
        "Added stations to bucket: 116 No. of buckets 65\n",
        "Partitioning on this :"
       ]
      },
      {
       "output_type": "stream",
       "stream": "stdout",
       "text": [
        " 12024\n",
        "Split like this : 247 335\n",
        "Added stations to bucket: 247 No. of buckets 66\n",
        "Added stations to bucket: 335 No. of buckets 67\n",
        "Partitioning on this :"
       ]
      },
      {
       "output_type": "stream",
       "stream": "stdout",
       "text": [
        " 24145\n",
        "Split like this : 229 341\n",
        "Partitioning on this : 12092\n",
        "Split like this : 125 104\n",
        "Added stations to bucket: 125 No. of buckets 68\n",
        "Added stations to bucket: 104 No. of buckets 69\n",
        "Partitioning on this :"
       ]
      },
      {
       "output_type": "stream",
       "stream": "stdout",
       "text": [
        " 12052\n",
        "Split like this : 177 164\n",
        "Added stations to bucket: 177 No. of buckets 70\n",
        "Added stations to bucket: 164 No. of buckets 71\n",
        "Partitioning on this :"
       ]
      },
      {
       "output_type": "stream",
       "stream": "stdout",
       "text": [
        " 48286\n",
        "Split like this : 416 419\n",
        "Partitioning on this :"
       ]
      },
      {
       "output_type": "stream",
       "stream": "stdout",
       "text": [
        " 24157\n",
        "Split like this : 217 199\n",
        "Partitioning on this : 12122\n",
        "Split like this : 111 106\n",
        "Added stations to bucket: 111 No. of buckets 72\n",
        "Added stations to bucket: 106 No. of buckets 73\n",
        "Partitioning on this :"
       ]
      },
      {
       "output_type": "stream",
       "stream": "stdout",
       "text": [
        " 12035\n",
        "Split like this : 68 131\n",
        "Added stations to bucket: 68 No. of buckets 74\n",
        "Added stations to bucket: 131 No. of buckets 75\n",
        "Partitioning on this :"
       ]
      },
      {
       "output_type": "stream",
       "stream": "stdout",
       "text": [
        " 24128\n",
        "Split like this : 237 182\n",
        "Partitioning on this : 12368\n",
        "Split like this : 134 103\n",
        "Added stations to bucket: 134 No. of buckets 76\n",
        "Added stations to bucket: 103 No. of buckets 77\n",
        "Partitioning on this :"
       ]
      },
      {
       "output_type": "stream",
       "stream": "stdout",
       "text": [
        " 11760\n",
        "Split like this : 107 75\n",
        "Added stations to bucket: 107 No. of buckets 78\n",
        "Added stations to bucket: 75 No. of buckets 79\n",
        "Partitioning on this :"
       ]
      },
      {
       "output_type": "stream",
       "stream": "stdout",
       "text": [
        " 96088\n",
        "Split like this : 913 759\n",
        "Partitioning on this :"
       ]
      },
      {
       "output_type": "stream",
       "stream": "stdout",
       "text": [
        " 48057\n",
        "Split like this : 430 483\n",
        "Partitioning on this :"
       ]
      },
      {
       "output_type": "stream",
       "stream": "stdout",
       "text": [
        " 24061\n",
        "Split like this : 208 222\n",
        "Partitioning on this : 12047\n",
        "Split like this : 105 103\n",
        "Added stations to bucket: 105 No. of buckets 80\n",
        "Added stations to bucket: 103 No. of buckets 81\n",
        "Partitioning on this :"
       ]
      },
      {
       "output_type": "stream",
       "stream": "stdout",
       "text": [
        " 12014\n",
        "Split like this : 108 114\n",
        "Added stations to bucket: 108 No. of buckets 82\n",
        "Added stations to bucket: 114 No. of buckets 83\n",
        "Partitioning on this :"
       ]
      },
      {
       "output_type": "stream",
       "stream": "stdout",
       "text": [
        " 23995\n",
        "Split like this : 305 178\n",
        "Partitioning on this :"
       ]
      },
      {
       "output_type": "stream",
       "stream": "stdout",
       "text": [
        " 12235\n",
        "Split like this : 117 188\n",
        "Added stations to bucket: 117 No. of buckets 84\n",
        "Added stations to bucket: 188 No. of buckets 85\n",
        "Partitioning on this : 11760\n",
        "Split like this : 89 89\n",
        "Added stations to bucket: 89 No. of buckets 86\n",
        "Added stations to bucket: 89 No. of buckets 87\n",
        "Partitioning on this :"
       ]
      },
      {
       "output_type": "stream",
       "stream": "stdout",
       "text": [
        " 48031\n",
        "Split like this : 348 411\n",
        "Partitioning on this :"
       ]
      },
      {
       "output_type": "stream",
       "stream": "stdout",
       "text": [
        " 24089\n",
        "Split like this : 206 142\n",
        "Partitioning on this : 12174\n",
        "Split like this : 102 104\n",
        "Added stations to bucket: 102 No. of buckets 88\n",
        "Added stations to bucket: 104 No. of buckets 89\n",
        "Partitioning on this :"
       ]
      },
      {
       "output_type": "stream",
       "stream": "stdout",
       "text": [
        " 11915\n",
        "Split like this : 80 62\n",
        "Added stations to bucket: 80 No. of buckets 90\n",
        "Added stations to bucket: 62 No. of buckets 91\n",
        "Partitioning on this :"
       ]
      },
      {
       "output_type": "stream",
       "stream": "stdout",
       "text": [
        " 23941\n",
        "Split like this : 210 201\n",
        "Partitioning on this : 11975\n",
        "Split like this : 113 97\n",
        "Added stations to bucket: 113 No. of buckets 92\n",
        "Added stations to bucket: 97 No. of buckets 93\n",
        "Partitioning on this :"
       ]
      },
      {
       "output_type": "stream",
       "stream": "stdout",
       "text": [
        " 11966\n",
        "Split like this : 85 116\n",
        "Added stations to bucket: 85 No. of buckets 94\n",
        "Added stations to bucket: 116 No. of buckets 95\n",
        "Partitioning on this :"
       ]
      },
      {
       "output_type": "stream",
       "stream": "stdout",
       "text": [
        " 192614\n",
        "Split like this : 1860 1964\n",
        "Partitioning on this :"
       ]
      },
      {
       "output_type": "stream",
       "stream": "stdout",
       "text": [
        " 96310\n",
        "Split like this : 807 1053\n",
        "Partitioning on this :"
       ]
      },
      {
       "output_type": "stream",
       "stream": "stdout",
       "text": [
        " 48261\n",
        "Split like this : 402 405\n",
        "Partitioning on this :"
       ]
      },
      {
       "output_type": "stream",
       "stream": "stdout",
       "text": [
        " 24168\n",
        "Split like this : 232 170\n",
        "Partitioning on this : 12144\n",
        "Split like this : 95 137\n",
        "Added stations to bucket: 95 No. of buckets 96\n",
        "Added stations to bucket: 137 No. of buckets 97\n",
        "Partitioning on this :"
       ]
      },
      {
       "output_type": "stream",
       "stream": "stdout",
       "text": [
        " 12023\n",
        "Split like this : 73 97\n",
        "Added stations to bucket: 73 No. of buckets 98\n",
        "Added stations to bucket: 97 No. of buckets 99\n",
        "Partitioning on this :"
       ]
      },
      {
       "output_type": "stream",
       "stream": "stdout",
       "text": [
        " 24093\n",
        "Split like this : 189 216\n",
        "Partitioning on this : 12084\n",
        "Split like this : 92 97\n",
        "Added stations to bucket: 92 No. of buckets 100\n",
        "Added stations to bucket: 97 No. of buckets 101\n",
        "Partitioning on this :"
       ]
      },
      {
       "output_type": "stream",
       "stream": "stdout",
       "text": [
        " 12009\n",
        "Split like this : 86 130\n",
        "Added stations to bucket: 86 No. of buckets 102\n",
        "Added stations to bucket: 130 No. of buckets 103\n",
        "Partitioning on this :"
       ]
      },
      {
       "output_type": "stream",
       "stream": "stdout",
       "text": [
        " 48048\n",
        "Split like this : 553 500\n",
        "Partitioning on this :"
       ]
      },
      {
       "output_type": "stream",
       "stream": "stdout",
       "text": [
        " 24080\n",
        "Split like this : 340 213\n",
        "Partitioning on this :"
       ]
      },
      {
       "output_type": "stream",
       "stream": "stdout",
       "text": [
        " 12387\n",
        "Split like this : 176 164\n",
        "Added stations to bucket: 176 No. of buckets 104\n",
        "Added stations to bucket: 164 No. of buckets 105\n",
        "Partitioning on this : 11693\n",
        "Split like this : 113 100\n",
        "Added stations to bucket: 113 No. of buckets 106\n",
        "Added stations to bucket: 100 No. of buckets 107\n",
        "Partitioning on this :"
       ]
      },
      {
       "output_type": "stream",
       "stream": "stdout",
       "text": [
        " 23968\n",
        "Split like this : 220 280\n",
        "Partitioning on this : 11995\n",
        "Split like this : 99 121\n",
        "Added stations to bucket: 99 No. of buckets 108\n",
        "Added stations to bucket: 121 No. of buckets 109\n",
        "Partitioning on this :"
       ]
      },
      {
       "output_type": "stream",
       "stream": "stdout",
       "text": [
        " 11973\n",
        "Split like this : 127 153\n",
        "Added stations to bucket: 127 No. of buckets 110\n",
        "Added stations to bucket: 153 No. of buckets 111\n",
        "Partitioning on this :"
       ]
      },
      {
       "output_type": "stream",
       "stream": "stdout",
       "text": [
        " 96304\n",
        "Split like this : 1034 930\n",
        "Partitioning on this :"
       ]
      },
      {
       "output_type": "stream",
       "stream": "stdout",
       "text": [
        " 48184\n",
        "Split like this : 458 576\n",
        "Partitioning on this :"
       ]
      },
      {
       "output_type": "stream",
       "stream": "stdout",
       "text": [
        " 24127\n",
        "Split like this : 180 278\n",
        "Partitioning on this : 12105\n",
        "Split like this : 115 65\n",
        "Added stations to bucket: 115 No. of buckets 112\n",
        "Added stations to bucket: 65 No. of buckets 113\n",
        "Partitioning on this :"
       ]
      },
      {
       "output_type": "stream",
       "stream": "stdout",
       "text": [
        " 12022\n",
        "Split like this : 171 107\n",
        "Added stations to bucket: 171 No. of buckets 114\n",
        "Added stations to bucket: 107 No. of buckets 115\n",
        "Partitioning on this :"
       ]
      },
      {
       "output_type": "stream",
       "stream": "stdout",
       "text": [
        " 24057\n",
        "Split like this : 313 263\n",
        "Partitioning on this :"
       ]
      },
      {
       "output_type": "stream",
       "stream": "stdout",
       "text": [
        " 12030\n",
        "Split like this : 95 218\n",
        "Added stations to bucket: 95 No. of buckets 116\n",
        "Added stations to bucket: 218 No. of buckets 117\n",
        "Partitioning on this :"
       ]
      },
      {
       "output_type": "stream",
       "stream": "stdout",
       "text": [
        " 12027\n",
        "Split like this : 82 181\n",
        "Added stations to bucket: 82 No. of buckets 118\n",
        "Added stations to bucket: 181 No. of buckets 119\n",
        "Partitioning on this :"
       ]
      },
      {
       "output_type": "stream",
       "stream": "stdout",
       "text": [
        " 48120\n",
        "Split like this : 486 444\n",
        "Partitioning on this :"
       ]
      },
      {
       "output_type": "stream",
       "stream": "stdout",
       "text": [
        " 24149\n",
        "Split like this : 276 210\n",
        "Partitioning on this :"
       ]
      },
      {
       "output_type": "stream",
       "stream": "stdout",
       "text": [
        " 12154\n",
        "Split like this : 146 130\n",
        "Added stations to bucket: 146 No. of buckets 120\n",
        "Added stations to bucket: 130 No. of buckets 121\n",
        "Partitioning on this : 11994\n",
        "Split like this : 127 83\n",
        "Added stations to bucket: 127 No. of buckets 122\n",
        "Added stations to bucket: 83 No. of buckets 123\n",
        "Partitioning on this :"
       ]
      },
      {
       "output_type": "stream",
       "stream": "stdout",
       "text": [
        " 23971\n",
        "Split like this : 206 238\n",
        "Partitioning on this : 12302\n",
        "Split like this : 92 114\n",
        "Added stations to bucket: 92 No. of buckets 124\n",
        "Added stations to bucket: 114 No. of buckets 125\n",
        "Partitioning on this :"
       ]
      },
      {
       "output_type": "stream",
       "stream": "stdout",
       "text": [
        " 11669\n",
        "Split like this : 115 123\n",
        "Added stations to bucket: 115 No. of buckets 126\n",
        "Added stations to bucket: 123 No. of buckets 127\n",
        "Partitioning on this :"
       ]
      },
      {
       "output_type": "stream",
       "stream": "stdout",
       "text": [
        " 770626\n",
        "Split like this : 7816 7783\n",
        "Partitioning on this :"
       ]
      },
      {
       "output_type": "stream",
       "stream": "stdout",
       "text": [
        " 385352\n",
        "Split like this : 3493 4323\n",
        "Partitioning on this :"
       ]
      },
      {
       "output_type": "stream",
       "stream": "stdout",
       "text": [
        " 192681\n",
        "Split like this : 1876 1617\n",
        "Partitioning on this :"
       ]
      },
      {
       "output_type": "stream",
       "stream": "stdout",
       "text": [
        " 96422\n",
        "Split like this : 927 949\n",
        "Partitioning on this :"
       ]
      },
      {
       "output_type": "stream",
       "stream": "stdout",
       "text": [
        " 48219\n",
        "Split like this : 532 395\n",
        "Partitioning on this :"
       ]
      },
      {
       "output_type": "stream",
       "stream": "stdout",
       "text": [
        " 24110\n",
        "Split like this : 264 268\n",
        "Partitioning on this :"
       ]
      },
      {
       "output_type": "stream",
       "stream": "stdout",
       "text": [
        " 12078\n",
        "Split like this : 140 124\n",
        "Added stations to bucket: 140 No. of buckets 128\n",
        "Added stations to bucket: 124 No. of buckets 129\n",
        "Partitioning on this :"
       ]
      },
      {
       "output_type": "stream",
       "stream": "stdout",
       "text": [
        " 12032\n",
        "Split like this : 138 130\n",
        "Added stations to bucket: 138 No. of buckets 130\n",
        "Added stations to bucket: 130 No. of buckets 131\n",
        "Partitioning on this :"
       ]
      },
      {
       "output_type": "stream",
       "stream": "stdout",
       "text": [
        " 24109\n",
        "Split like this : 194 201\n",
        "Partitioning on this : 12272\n",
        "Split like this : 111 83\n",
        "Added stations to bucket: 111 No. of buckets 132\n",
        "Added stations to bucket: 83 No. of buckets 133\n",
        "Partitioning on this :"
       ]
      },
      {
       "output_type": "stream",
       "stream": "stdout",
       "text": [
        " 11837\n",
        "Split like this : 114 87\n",
        "Added stations to bucket: 114 No. of buckets 134\n",
        "Added stations to bucket: 87 No. of buckets 135\n",
        "Partitioning on this :"
       ]
      },
      {
       "output_type": "stream",
       "stream": "stdout",
       "text": [
        " 48202\n",
        "Split like this : 582 367\n",
        "Partitioning on this :"
       ]
      },
      {
       "output_type": "stream",
       "stream": "stdout",
       "text": [
        " 24230\n",
        "Split like this : 342 240\n",
        "Partitioning on this :"
       ]
      },
      {
       "output_type": "stream",
       "stream": "stdout",
       "text": [
        " 12163\n",
        "Split like this : 230 112\n",
        "Added stations to bucket: 230 No. of buckets 136\n",
        "Added stations to bucket: 112 No. of buckets 137\n",
        "Partitioning on this : 12067\n",
        "Split like this : 130 110\n",
        "Added stations to bucket: 130 No. of buckets 138\n",
        "Added stations to bucket: 110 No. of buckets 139\n",
        "Partitioning on this :"
       ]
      },
      {
       "output_type": "stream",
       "stream": "stdout",
       "text": [
        " 23972\n",
        "Split like this : 187 180\n",
        "Partitioning on this : 12274\n",
        "Split like this : 103 84\n",
        "Added stations to bucket: 103 No. of buckets 140\n",
        "Added stations to bucket: 84 No. of buckets 141\n",
        "Partitioning on this :"
       ]
      },
      {
       "output_type": "stream",
       "stream": "stdout",
       "text": [
        " 11698\n",
        "Split like this : 79 101\n",
        "Added stations to bucket: 79 No. of buckets 142\n",
        "Added stations to bucket: 101 No. of buckets 143\n",
        "Partitioning on this :"
       ]
      },
      {
       "output_type": "stream",
       "stream": "stdout",
       "text": [
        " 96259\n",
        "Split like this : 804 813\n",
        "Partitioning on this :"
       ]
      },
      {
       "output_type": "stream",
       "stream": "stdout",
       "text": [
        " 48130\n",
        "Split like this : 387 417\n",
        "Partitioning on this :"
       ]
      },
      {
       "output_type": "stream",
       "stream": "stdout",
       "text": [
        " 24252\n",
        "Split like this : 225 162\n",
        "Partitioning on this : 12129\n",
        "Split like this : 110 115\n",
        "Added stations to bucket: 110 No. of buckets 144\n",
        "Added stations to bucket: 115 No. of buckets 145\n",
        "Partitioning on this :"
       ]
      },
      {
       "output_type": "stream",
       "stream": "stdout",
       "text": [
        " 12122\n",
        "Split like this : 74 88\n",
        "Added stations to bucket: 74 No. of buckets 146\n",
        "Added stations to bucket: 88 No. of buckets 147\n",
        "Partitioning on this :"
       ]
      },
      {
       "output_type": "stream",
       "stream": "stdout",
       "text": [
        " 23878\n",
        "Split like this : 219 198\n",
        "Partitioning on this : 11945\n",
        "Split like this : 113 106\n",
        "Added stations to bucket: 113 No. of buckets 148\n",
        "Added stations to bucket: 106 No. of buckets 149\n",
        "Partitioning on this :"
       ]
      },
      {
       "output_type": "stream",
       "stream": "stdout",
       "text": [
        " 11933\n",
        "Split like this : 87 111\n",
        "Added stations to bucket: 87 No. of buckets 150\n",
        "Added stations to bucket: 111 No. of buckets 151\n",
        "Partitioning on this :"
       ]
      },
      {
       "output_type": "stream",
       "stream": "stdout",
       "text": [
        " 48129\n",
        "Split like this : 404 409\n",
        "Partitioning on this :"
       ]
      },
      {
       "output_type": "stream",
       "stream": "stdout",
       "text": [
        " 24088\n",
        "Split like this : 187 217\n",
        "Partitioning on this : 12062\n",
        "Split like this : 98 89\n",
        "Added stations to bucket: 98 No. of buckets 152\n",
        "Added stations to bucket: 89 No. of buckets 153\n",
        "Partitioning on this :"
       ]
      },
      {
       "output_type": "stream",
       "stream": "stdout",
       "text": [
        " 12026\n",
        "Split like this : 94 123\n",
        "Added stations to bucket: 94 No. of buckets 154\n",
        "Added stations to bucket: 123 No. of buckets 155\n",
        "Partitioning on this :"
       ]
      },
      {
       "output_type": "stream",
       "stream": "stdout",
       "text": [
        " 24040\n",
        "Split like this : 204 205\n",
        "Partitioning on this : 12309\n",
        "Split like this : 88 116\n",
        "Added stations to bucket: 88 No. of buckets 156\n",
        "Added stations to bucket: 116 No. of buckets 157\n",
        "Partitioning on this :"
       ]
      },
      {
       "output_type": "stream",
       "stream": "stdout",
       "text": [
        " 11731\n",
        "Split like this : 101 104\n",
        "Added stations to bucket: 101 No. of buckets 158\n",
        "Added stations to bucket: 104 No. of buckets 159\n",
        "Partitioning on this :"
       ]
      },
      {
       "output_type": "stream",
       "stream": "stdout",
       "text": [
        " 192671\n",
        "Split like this : 2244 2079\n",
        "Partitioning on this :"
       ]
      },
      {
       "output_type": "stream",
       "stream": "stdout",
       "text": [
        " 96502\n",
        "Split like this : 1208 1036\n",
        "Partitioning on this :"
       ]
      },
      {
       "output_type": "stream",
       "stream": "stdout",
       "text": [
        " 48278\n",
        "Split like this : 618 590\n",
        "Partitioning on this :"
       ]
      },
      {
       "output_type": "stream",
       "stream": "stdout",
       "text": [
        " 24217\n",
        "Split like this : 287 331\n",
        "Partitioning on this :"
       ]
      },
      {
       "output_type": "stream",
       "stream": "stdout",
       "text": [
        " 12116\n",
        "Split like this : 127 160\n",
        "Added stations to bucket: 127 No. of buckets 160\n",
        "Added stations to bucket: 160 No. of buckets 161\n",
        "Partitioning on this :"
       ]
      },
      {
       "output_type": "stream",
       "stream": "stdout",
       "text": [
        " 12101\n",
        "Split like this : 143 188\n",
        "Added stations to bucket: 143 No. of buckets 162\n",
        "Added stations to bucket: 188 No. of buckets 163\n",
        "Partitioning on this :"
       ]
      },
      {
       "output_type": "stream",
       "stream": "stdout",
       "text": [
        " 24060\n",
        "Split like this : 282 308\n",
        "Partitioning on this :"
       ]
      },
      {
       "output_type": "stream",
       "stream": "stdout",
       "text": [
        " 12070\n",
        "Split like this : 195 87\n",
        "Added stations to bucket: 195 No. of buckets 164\n",
        "Added stations to bucket: 87 No. of buckets 165\n",
        "Partitioning on this :"
       ]
      },
      {
       "output_type": "stream",
       "stream": "stdout",
       "text": [
        " 11990\n",
        "Split like this : 176 132\n",
        "Added stations to bucket: 176 No. of buckets 166\n",
        "Added stations to bucket: 132 No. of buckets 167\n",
        "Partitioning on this :"
       ]
      },
      {
       "output_type": "stream",
       "stream": "stdout",
       "text": [
        " 48224\n",
        "Split like this : 505 531\n",
        "Partitioning on this :"
       ]
      },
      {
       "output_type": "stream",
       "stream": "stdout",
       "text": [
        " 24119\n",
        "Split like this : 261 244\n",
        "Partitioning on this :"
       ]
      },
      {
       "output_type": "stream",
       "stream": "stdout",
       "text": [
        " 12124\n",
        "Split like this : 113 148\n",
        "Added stations to bucket: 113 No. of buckets 168\n",
        "Added stations to bucket: 148 No. of buckets 169\n",
        "Partitioning on this : 11995\n",
        "Split like this : 121 123\n",
        "Added stations to bucket: 121 No. of buckets 170\n",
        "Added stations to bucket: 123 No. of buckets 171\n",
        "Partitioning on this :"
       ]
      },
      {
       "output_type": "stream",
       "stream": "stdout",
       "text": [
        " 24105\n",
        "Split like this : 260 271\n",
        "Partitioning on this :"
       ]
      },
      {
       "output_type": "stream",
       "stream": "stdout",
       "text": [
        " 12063\n",
        "Split like this : 107 153\n",
        "Added stations to bucket: 107 No. of buckets 172\n",
        "Added stations to bucket: 153 No. of buckets 173\n",
        "Partitioning on this :"
       ]
      },
      {
       "output_type": "stream",
       "stream": "stdout",
       "text": [
        " 12042\n",
        "Split like this : 133 138\n",
        "Added stations to bucket: 133 No. of buckets 174\n",
        "Added stations to bucket: 138 No. of buckets 175\n",
        "Partitioning on this :"
       ]
      },
      {
       "output_type": "stream",
       "stream": "stdout",
       "text": [
        " 96168\n",
        "Split like this : 756 1323\n",
        "Partitioning on this :"
       ]
      },
      {
       "output_type": "stream",
       "stream": "stdout",
       "text": [
        " 48118\n",
        "Split like this : 386 370\n",
        "Partitioning on this :"
       ]
      },
      {
       "output_type": "stream",
       "stream": "stdout",
       "text": [
        " 24108\n",
        "Split like this : 177 209\n",
        "Partitioning on this : 12240\n",
        "Split like this : 86 91\n",
        "Added stations to bucket: 86 No. of buckets 176\n",
        "Added stations to bucket: 91 No. of buckets 177\n",
        "Partitioning on this :"
       ]
      },
      {
       "output_type": "stream",
       "stream": "stdout",
       "text": [
        " 11867\n",
        "Split like this : 100 109\n",
        "Added stations to bucket: 100 No. of buckets 178\n",
        "Added stations to bucket: 109 No. of buckets 179\n",
        "Partitioning on this :"
       ]
      },
      {
       "output_type": "stream",
       "stream": "stdout",
       "text": [
        " 24010\n",
        "Split like this : 195 175\n",
        "Partitioning on this : 12069\n",
        "Split like this : 100 95\n",
        "Added stations to bucket: 100 No. of buckets 180\n",
        "Added stations to bucket: 95 No. of buckets 181\n",
        "Partitioning on this :"
       ]
      },
      {
       "output_type": "stream",
       "stream": "stdout",
       "text": [
        " 11940\n",
        "Split like this : 91 84\n",
        "Added stations to bucket: 91 No. of buckets 182\n",
        "Added stations to bucket: 84 No. of buckets 183\n",
        "Partitioning on this :"
       ]
      },
      {
       "output_type": "stream",
       "stream": "stdout",
       "text": [
        " 48050\n",
        "Split like this : 670 653\n",
        "Partitioning on this :"
       ]
      },
      {
       "output_type": "stream",
       "stream": "stdout",
       "text": [
        " 24036\n",
        "Split like this : 285 385\n",
        "Partitioning on this :"
       ]
      },
      {
       "output_type": "stream",
       "stream": "stdout",
       "text": [
        " 12062\n",
        "Split like this : 142 143\n",
        "Added stations to bucket: 142 No. of buckets 184\n",
        "Added stations to bucket: 143 No. of buckets 185\n",
        "Partitioning on this :"
       ]
      },
      {
       "output_type": "stream",
       "stream": "stdout",
       "text": [
        " 11974\n",
        "Split like this : 173 212\n",
        "Added stations to bucket: 173 No. of buckets 186\n",
        "Added stations to bucket: 212 No. of buckets 187\n",
        "Partitioning on this :"
       ]
      },
      {
       "output_type": "stream",
       "stream": "stdout",
       "text": [
        " 24014\n",
        "Split like this : 300 353\n",
        "Partitioning on this :"
       ]
      },
      {
       "output_type": "stream",
       "stream": "stdout",
       "text": [
        " 12010\n",
        "Split like this : 166 134\n",
        "Added stations to bucket: 166 No. of buckets 188\n",
        "Added stations to bucket: 134 No. of buckets 189\n",
        "Partitioning on this :"
       ]
      },
      {
       "output_type": "stream",
       "stream": "stdout",
       "text": [
        " 12003\n",
        "Split like this : 179 174\n",
        "Added stations to bucket: 179 No. of buckets 190\n",
        "Added stations to bucket: 174 No. of buckets 191\n",
        "Partitioning on this :"
       ]
      },
      {
       "output_type": "stream",
       "stream": "stdout",
       "text": [
        " 385274\n",
        "Split like this : 4546 3237\n",
        "Partitioning on this :"
       ]
      },
      {
       "output_type": "stream",
       "stream": "stdout",
       "text": [
        " 192684\n",
        "Split like this : 2698 1848\n",
        "Partitioning on this :"
       ]
      },
      {
       "output_type": "stream",
       "stream": "stdout",
       "text": [
        " 96560\n",
        "Split like this : 1708 990\n",
        "Partitioning on this :"
       ]
      },
      {
       "output_type": "stream",
       "stream": "stdout",
       "text": [
        " 48463\n",
        "Split like this : 982 726\n",
        "Partitioning on this :"
       ]
      },
      {
       "output_type": "stream",
       "stream": "stdout",
       "text": [
        " 24363\n",
        "Split like this : 542 440\n",
        "Partitioning on this :"
       ]
      },
      {
       "output_type": "stream",
       "stream": "stdout",
       "text": [
        " 12186\n",
        "Split like this : 253 289\n",
        "Added stations to bucket: 253 No. of buckets 192\n",
        "Added stations to bucket: 289 No. of buckets 193\n",
        "Partitioning on this :"
       ]
      },
      {
       "output_type": "stream",
       "stream": "stdout",
       "text": [
        " 12177\n",
        "Split like this : 287 153\n",
        "Added stations to bucket: 287 No. of buckets 194\n",
        "Added stations to bucket: 153 No. of buckets 195\n",
        "Partitioning on this :"
       ]
      },
      {
       "output_type": "stream",
       "stream": "stdout",
       "text": [
        " 24099\n",
        "Split like this : 378 348\n",
        "Partitioning on this :"
       ]
      },
      {
       "output_type": "stream",
       "stream": "stdout",
       "text": [
        " 12063\n",
        "Split like this : 164 214\n",
        "Added stations to bucket: 164 No. of buckets 196\n",
        "Added stations to bucket: 214 No. of buckets 197\n",
        "Partitioning on this :"
       ]
      },
      {
       "output_type": "stream",
       "stream": "stdout",
       "text": [
        " 12036\n",
        "Split like this : 163 185\n",
        "Added stations to bucket: 163 No. of buckets 198\n",
        "Added stations to bucket: 185 No. of buckets 199\n",
        "Partitioning on this :"
       ]
      },
      {
       "output_type": "stream",
       "stream": "stdout",
       "text": [
        " 48097\n",
        "Split like this : 545 445\n",
        "Partitioning on this :"
       ]
      },
      {
       "output_type": "stream",
       "stream": "stdout",
       "text": [
        " 24066\n",
        "Split like this : 282 263\n",
        "Partitioning on this :"
       ]
      },
      {
       "output_type": "stream",
       "stream": "stdout",
       "text": [
        " 12171\n",
        "Split like this : 129 153\n",
        "Added stations to bucket: 129 No. of buckets 200\n",
        "Added stations to bucket: 153 No. of buckets 201\n",
        "Partitioning on this :"
       ]
      },
      {
       "output_type": "stream",
       "stream": "stdout",
       "text": [
        " 11895\n",
        "Split like this : 158 105\n",
        "Added stations to bucket: 158 No. of buckets 202\n",
        "Added stations to bucket: 105 No. of buckets 203\n",
        "Partitioning on this :"
       ]
      },
      {
       "output_type": "stream",
       "stream": "stdout",
       "text": [
        " 24030\n",
        "Split like this : 257 188\n",
        "Partitioning on this :"
       ]
      },
      {
       "output_type": "stream",
       "stream": "stdout",
       "text": [
        " 12049\n",
        "Split like this : 135 122\n",
        "Added stations to bucket: 135 No. of buckets 204\n",
        "Added stations to bucket: 122 No. of buckets 205\n",
        "Partitioning on this : 11981\n",
        "Split like this : 90 98\n",
        "Added stations to bucket: 90 No. of buckets 206\n",
        "Added stations to bucket: 98 No. of buckets 207\n",
        "Partitioning on this :"
       ]
      },
      {
       "output_type": "stream",
       "stream": "stdout",
       "text": [
        " 96124\n",
        "Split like this : 1080 768\n",
        "Partitioning on this :"
       ]
      },
      {
       "output_type": "stream",
       "stream": "stdout",
       "text": [
        " 48062\n",
        "Split like this : 327 753\n",
        "Partitioning on this :"
       ]
      },
      {
       "output_type": "stream",
       "stream": "stdout",
       "text": [
        " 24100\n",
        "Split like this : 175 152\n",
        "Partitioning on this : 12072\n",
        "Split like this : 85 90\n",
        "Added stations to bucket: 85 No. of buckets 208\n",
        "Added stations to bucket: 90 No. of buckets 209\n",
        "Partitioning on this :"
       ]
      },
      {
       "output_type": "stream",
       "stream": "stdout",
       "text": [
        " 12028\n",
        "Split like this : 83 69\n",
        "Added stations to bucket: 83 No. of buckets 210\n",
        "Added stations to bucket: 69 No. of buckets 211\n",
        "Partitioning on this :"
       ]
      },
      {
       "output_type": "stream",
       "stream": "stdout",
       "text": [
        " 23962\n",
        "Split like this : 330 423\n",
        "Partitioning on this :"
       ]
      },
      {
       "output_type": "stream",
       "stream": "stdout",
       "text": [
        " 12022\n",
        "Split like this : 150 180\n",
        "Added stations to bucket: 150 No. of buckets 212\n",
        "Added stations to bucket: 180 No. of buckets 213\n",
        "Partitioning on this :"
       ]
      },
      {
       "output_type": "stream",
       "stream": "stdout",
       "text": [
        " 11940\n",
        "Split like this : 113 310\n",
        "Added stations to bucket: 113 No. of buckets 214\n",
        "Added stations to bucket: 310 No. of buckets 215\n",
        "Partitioning on this :"
       ]
      },
      {
       "output_type": "stream",
       "stream": "stdout",
       "text": [
        " 48062\n",
        "Split like this : 266 502\n",
        "Partitioning on this :"
       ]
      },
      {
       "output_type": "stream",
       "stream": "stdout",
       "text": [
        " 24240\n",
        "Split like this : 148 118\n",
        "Partitioning on this : 12396\n",
        "Split like this : 75 73\n",
        "Added stations to bucket: 75 No. of buckets 216\n",
        "Added stations to bucket: 73 No. of buckets 217\n",
        "Partitioning on this :"
       ]
      },
      {
       "output_type": "stream",
       "stream": "stdout",
       "text": [
        " 11843\n",
        "Split like this : 55 63\n",
        "Added stations to bucket: 55 No. of buckets 218\n",
        "Added stations to bucket: 63 No. of buckets 219\n",
        "Partitioning on this :"
       ]
      },
      {
       "output_type": "stream",
       "stream": "stdout",
       "text": [
        " 23822\n",
        "Split like this : 323 179\n",
        "Partitioning on this :"
       ]
      },
      {
       "output_type": "stream",
       "stream": "stdout",
       "text": [
        " 12077\n",
        "Split like this : 75 248\n",
        "Added stations to bucket: 75 No. of buckets 220\n",
        "Added stations to bucket: 248 No. of buckets 221\n",
        "Partitioning on this : 11744\n",
        "Split like this : 75 104\n",
        "Added stations to bucket: 75 No. of buckets 222\n",
        "Added stations to bucket: 104 No. of buckets 223\n",
        "Partitioning on this :"
       ]
      },
      {
       "output_type": "stream",
       "stream": "stdout",
       "text": [
        " 192590\n",
        "Split like this : 1673 1564\n",
        "Partitioning on this :"
       ]
      },
      {
       "output_type": "stream",
       "stream": "stdout",
       "text": [
        " 96386\n",
        "Split like this : 754 919\n",
        "Partitioning on this :"
       ]
      },
      {
       "output_type": "stream",
       "stream": "stdout",
       "text": [
        " 48265\n",
        "Split like this : 418 336\n",
        "Partitioning on this :"
       ]
      },
      {
       "output_type": "stream",
       "stream": "stdout",
       "text": [
        " 24243\n",
        "Split like this : 227 191\n",
        "Partitioning on this : 12143\n",
        "Split like this : 109 118\n",
        "Added stations to bucket: 109 No. of buckets 224\n",
        "Added stations to bucket: 118 No. of buckets 225\n",
        "Partitioning on this :"
       ]
      },
      {
       "output_type": "stream",
       "stream": "stdout",
       "text": [
        " 12099\n",
        "Split like this : 98 93\n",
        "Added stations to bucket: 98 No. of buckets 226\n",
        "Added stations to bucket: 93 No. of buckets 227\n",
        "Partitioning on this :"
       ]
      },
      {
       "output_type": "stream",
       "stream": "stdout",
       "text": [
        " 24022\n",
        "Split like this : 181 155\n",
        "Partitioning on this : 12057\n",
        "Split like this : 98 83\n",
        "Added stations to bucket: 98 No. of buckets 228\n",
        "Added stations to bucket: 83 No. of buckets 229\n",
        "Partitioning on this :"
       ]
      },
      {
       "output_type": "stream",
       "stream": "stdout",
       "text": [
        " 11965\n",
        "Split like this : 82 73\n",
        "Added stations to bucket: 82 No. of buckets 230\n",
        "Added stations to bucket: 73 No. of buckets 231\n",
        "Partitioning on this :"
       ]
      },
      {
       "output_type": "stream",
       "stream": "stdout",
       "text": [
        " 48120\n",
        "Split like this : 459 460\n",
        "Partitioning on this :"
       ]
      },
      {
       "output_type": "stream",
       "stream": "stdout",
       "text": [
        " 24061\n",
        "Split like this : 169 290\n",
        "Partitioning on this : 12035\n",
        "Split like this : 86 83\n",
        "Added stations to bucket: 86 No. of buckets 232\n",
        "Added stations to bucket: 83 No. of buckets 233\n",
        "Partitioning on this :"
       ]
      },
      {
       "output_type": "stream",
       "stream": "stdout",
       "text": [
        " 12026\n",
        "Split like this : 146 144\n",
        "Added stations to bucket: 146 No. of buckets 234\n",
        "Added stations to bucket: 144 No. of buckets 235\n",
        "Partitioning on this :"
       ]
      },
      {
       "output_type": "stream",
       "stream": "stdout",
       "text": [
        " 24059\n",
        "Split like this : 138 322\n",
        "Partitioning on this : 12136\n",
        "Split like this : 72 66\n",
        "Added stations to bucket: 72 No. of buckets 236\n",
        "Added stations to bucket: 66 No. of buckets 237\n",
        "Partitioning on this :"
       ]
      },
      {
       "output_type": "stream",
       "stream": "stdout",
       "text": [
        " 11923\n",
        "Split like this : 145 177\n",
        "Added stations to bucket: 145 No. of buckets 238\n",
        "Added stations to bucket: 177 No. of buckets 239\n",
        "Partitioning on this :"
       ]
      },
      {
       "output_type": "stream",
       "stream": "stdout",
       "text": [
        " 96204\n",
        "Split like this : 749 815\n",
        "Partitioning on this :"
       ]
      },
      {
       "output_type": "stream",
       "stream": "stdout",
       "text": [
        " 48305\n",
        "Split like this : 437 312\n",
        "Partitioning on this :"
       ]
      },
      {
       "output_type": "stream",
       "stream": "stdout",
       "text": [
        " 24271\n",
        "Split like this : 202 235\n",
        "Partitioning on this : 12141\n",
        "Split like this : 72 130\n",
        "Added stations to bucket: 72 No. of buckets 240\n",
        "Added stations to bucket: 130 No. of buckets 241\n",
        "Partitioning on this :"
       ]
      },
      {
       "output_type": "stream",
       "stream": "stdout",
       "text": [
        " 12130\n",
        "Split like this : 77 158\n",
        "Added stations to bucket: 77 No. of buckets 242\n",
        "Added stations to bucket: 158 No. of buckets 243\n",
        "Partitioning on this :"
       ]
      },
      {
       "output_type": "stream",
       "stream": "stdout",
       "text": [
        " 24033\n",
        "Split like this : 164 148\n",
        "Partitioning on this : 12059\n",
        "Split like this : 87 77\n",
        "Added stations to bucket: 87 No. of buckets 244\n",
        "Added stations to bucket: 77 No. of buckets 245\n",
        "Partitioning on this :"
       ]
      },
      {
       "output_type": "stream",
       "stream": "stdout",
       "text": [
        " 11974\n",
        "Split like this : 76 72\n",
        "Added stations to bucket: 76 No. of buckets 246\n",
        "Added stations to bucket: 72 No. of buckets 247\n",
        "Partitioning on this :"
       ]
      },
      {
       "output_type": "stream",
       "stream": "stdout",
       "text": [
        " 47899\n",
        "Split like this : 401 414\n",
        "Partitioning on this :"
       ]
      },
      {
       "output_type": "stream",
       "stream": "stdout",
       "text": [
        " 24008\n",
        "Split like this : 152 249\n",
        "Partitioning on this : 12051\n",
        "Split like this : 76 76\n",
        "Added stations to bucket: 76 No. of buckets 248\n",
        "Added stations to bucket: 76 No. of buckets 249\n",
        "Partitioning on this :"
       ]
      },
      {
       "output_type": "stream",
       "stream": "stdout",
       "text": [
        " 11957\n",
        "Split like this : 127 122\n",
        "Added stations to bucket: 127 No. of buckets 250\n",
        "Added stations to bucket: 122 No. of buckets 251\n",
        "Partitioning on this :"
       ]
      },
      {
       "output_type": "stream",
       "stream": "stdout",
       "text": [
        " 23890\n",
        "Split like this : 152 262\n",
        "Partitioning on this : 12002\n",
        "Split like this : 71 81\n",
        "Added stations to bucket: 71 No. of buckets 252\n",
        "Added stations to bucket: 81 No. of buckets 253\n",
        "Partitioning on this :"
       ]
      },
      {
       "output_type": "stream",
       "stream": "stdout",
       "text": [
        " 11888\n",
        "Split like this : 105 157\n",
        "Added stations to bucket: 105 No. of buckets 254\n",
        "Added stations to bucket: 157 No. of buckets 255\n",
        "Partitioning on this :"
       ]
      },
      {
       "output_type": "stream",
       "stream": "stdout",
       "text": [
        " 1541118\n",
        "Split like this : 32059 16149\n",
        "Partitioning on this :"
       ]
      },
      {
       "output_type": "stream",
       "stream": "stdout",
       "text": [
        " 770621\n",
        "Split like this : 15302 16757\n",
        "Partitioning on this :"
       ]
      },
      {
       "output_type": "stream",
       "stream": "stdout",
       "text": [
        " 385329\n",
        "Split like this : 9753 5549\n",
        "Partitioning on this :"
       ]
      },
      {
       "output_type": "stream",
       "stream": "stdout",
       "text": [
        " 192687\n",
        "Split like this : 6392 3361\n",
        "Partitioning on this :"
       ]
      },
      {
       "output_type": "stream",
       "stream": "stdout",
       "text": [
        " 96385\n",
        "Split like this : 3018 3374\n",
        "Partitioning on this :"
       ]
      },
      {
       "output_type": "stream",
       "stream": "stdout",
       "text": [
        " 48211\n",
        "Split like this : 1604 1414\n",
        "Partitioning on this :"
       ]
      },
      {
       "output_type": "stream",
       "stream": "stdout",
       "text": [
        " 24118\n",
        "Split like this : 776 828\n",
        "Partitioning on this :"
       ]
      },
      {
       "output_type": "stream",
       "stream": "stdout",
       "text": [
        " 12061\n",
        "Split like this : 379 397\n",
        "Added stations to bucket: 379 No. of buckets 256\n",
        "Added stations to bucket: 397 No. of buckets 257\n",
        "Partitioning on this :"
       ]
      },
      {
       "output_type": "stream",
       "stream": "stdout",
       "text": [
        " 12057\n",
        "Split like this : 440 388\n",
        "Added stations to bucket: 440 No. of buckets 258\n",
        "Added stations to bucket: 388 No. of buckets 259\n",
        "Partitioning on this :"
       ]
      },
      {
       "output_type": "stream",
       "stream": "stdout",
       "text": [
        " 24092\n",
        "Split like this : 681 733\n",
        "Partitioning on this :"
       ]
      },
      {
       "output_type": "stream",
       "stream": "stdout",
       "text": [
        " 12056\n",
        "Split like this : 342 339\n",
        "Added stations to bucket: 342 No. of buckets 260\n",
        "Added stations to bucket: 339 No. of buckets 261\n",
        "Partitioning on this :"
       ]
      },
      {
       "output_type": "stream",
       "stream": "stdout",
       "text": [
        " 12036\n",
        "Split like this : 397 336\n",
        "Added stations to bucket: 397 No. of buckets 262\n",
        "Added stations to bucket: 336 No. of buckets 263\n",
        "Partitioning on this :"
       ]
      },
      {
       "output_type": "stream",
       "stream": "stdout",
       "text": [
        " 48174\n",
        "Split like this : 2022 1352\n",
        "Partitioning on this :"
       ]
      },
      {
       "output_type": "stream",
       "stream": "stdout",
       "text": [
        " 24087\n",
        "Split like this : 1047 975\n",
        "Partitioning on this :"
       ]
      },
      {
       "output_type": "stream",
       "stream": "stdout",
       "text": [
        " 12049\n",
        "Split like this : 589 458\n",
        "Added stations to bucket: 589 No. of buckets 264\n",
        "Added stations to bucket: 458 No. of buckets 265\n",
        "Partitioning on this :"
       ]
      },
      {
       "output_type": "stream",
       "stream": "stdout",
       "text": [
        " 12038\n",
        "Split like this : 507 468\n",
        "Added stations to bucket: 507 No. of buckets 266\n",
        "Added stations to bucket: 468 No. of buckets 267\n",
        "Partitioning on this :"
       ]
      },
      {
       "output_type": "stream",
       "stream": "stdout",
       "text": [
        " 24087\n",
        "Split like this : 814 538\n",
        "Partitioning on this :"
       ]
      },
      {
       "output_type": "stream",
       "stream": "stdout",
       "text": [
        " 12044\n",
        "Split like this : 416 398\n",
        "Added stations to bucket: 416 No. of buckets 268\n",
        "Added stations to bucket: 398 No. of buckets 269\n",
        "Partitioning on this :"
       ]
      },
      {
       "output_type": "stream",
       "stream": "stdout",
       "text": [
        " 12042\n",
        "Split like this : 320 218\n",
        "Added stations to bucket: 320 No. of buckets 270\n",
        "Added stations to bucket: 218 No. of buckets 271\n",
        "Partitioning on this :"
       ]
      },
      {
       "output_type": "stream",
       "stream": "stdout",
       "text": [
        " 96301\n",
        "Split like this : 1385 1976\n",
        "Partitioning on this :"
       ]
      },
      {
       "output_type": "stream",
       "stream": "stdout",
       "text": [
        " 48159\n",
        "Split like this : 651 734\n",
        "Partitioning on this :"
       ]
      },
      {
       "output_type": "stream",
       "stream": "stdout",
       "text": [
        " 24085\n",
        "Split like this : 288 363\n",
        "Partitioning on this :"
       ]
      },
      {
       "output_type": "stream",
       "stream": "stdout",
       "text": [
        " 12079\n",
        "Split like this : 146 142\n",
        "Added stations to bucket: 146 No. of buckets 272\n",
        "Added stations to bucket: 142 No. of buckets 273\n",
        "Partitioning on this :"
       ]
      },
      {
       "output_type": "stream",
       "stream": "stdout",
       "text": [
        " 12005\n",
        "Split like this : 211 152\n",
        "Added stations to bucket: 211 No. of buckets 274\n",
        "Added stations to bucket: 152 No. of buckets 275\n",
        "Partitioning on this :"
       ]
      },
      {
       "output_type": "stream",
       "stream": "stdout",
       "text": [
        " 24074\n",
        "Split like this : 373 361\n",
        "Partitioning on this :"
       ]
      },
      {
       "output_type": "stream",
       "stream": "stdout",
       "text": [
        " 12058\n",
        "Split like this : 145 228\n",
        "Added stations to bucket: 145 No. of buckets 276\n",
        "Added stations to bucket: 228 No. of buckets 277\n",
        "Partitioning on this :"
       ]
      },
      {
       "output_type": "stream",
       "stream": "stdout",
       "text": [
        " 12016\n",
        "Split like this : 159 202\n",
        "Added stations to bucket: 159 No. of buckets 278\n",
        "Added stations to bucket: 202 No. of buckets 279\n",
        "Partitioning on this :"
       ]
      },
      {
       "output_type": "stream",
       "stream": "stdout",
       "text": [
        " 48142\n",
        "Split like this : 1001 975\n",
        "Partitioning on this :"
       ]
      },
      {
       "output_type": "stream",
       "stream": "stdout",
       "text": [
        " 24086\n",
        "Split like this : 511 490\n",
        "Partitioning on this :"
       ]
      },
      {
       "output_type": "stream",
       "stream": "stdout",
       "text": [
        " 12065\n",
        "Split like this : 347 164\n",
        "Added stations to bucket: 347 No. of buckets 280\n",
        "Added stations to bucket: 164 No. of buckets 281\n",
        "Partitioning on this :"
       ]
      },
      {
       "output_type": "stream",
       "stream": "stdout",
       "text": [
        " 12021\n",
        "Split like this : 222 268\n",
        "Added stations to bucket: 222 No. of buckets 282\n",
        "Added stations to bucket: 268 No. of buckets 283\n",
        "Partitioning on this :"
       ]
      },
      {
       "output_type": "stream",
       "stream": "stdout",
       "text": [
        " 24056\n",
        "Split like this : 438 537\n",
        "Partitioning on this :"
       ]
      },
      {
       "output_type": "stream",
       "stream": "stdout",
       "text": [
        " 12045\n",
        "Split like this : 245 193\n",
        "Added stations to bucket: 245 No. of buckets 284\n",
        "Added stations to bucket: 193 No. of buckets 285\n",
        "Partitioning on this :"
       ]
      },
      {
       "output_type": "stream",
       "stream": "stdout",
       "text": [
        " 12011\n",
        "Split like this : 307 230\n",
        "Added stations to bucket: 307 No. of buckets 286\n",
        "Added stations to bucket: 230 No. of buckets 287\n",
        "Partitioning on this :"
       ]
      },
      {
       "output_type": "stream",
       "stream": "stdout",
       "text": [
        " 192642\n",
        "Split like this : 2284 3265\n",
        "Partitioning on this :"
       ]
      },
      {
       "output_type": "stream",
       "stream": "stdout",
       "text": [
        " 96421\n",
        "Split like this : 1157 1127\n",
        "Partitioning on this :"
       ]
      },
      {
       "output_type": "stream",
       "stream": "stdout",
       "text": [
        " 48508\n",
        "Split like this : 548 609\n",
        "Partitioning on this :"
       ]
      },
      {
       "output_type": "stream",
       "stream": "stdout",
       "text": [
        " 24281\n",
        "Split like this : 351 197\n",
        "Partitioning on this :"
       ]
      },
      {
       "output_type": "stream",
       "stream": "stdout",
       "text": [
        " 12241\n",
        "Split like this : 153 198\n",
        "Added stations to bucket: 153 No. of buckets 288\n",
        "Added stations to bucket: 198 No. of buckets 289\n",
        "Partitioning on this : 12040\n",
        "Split like this : 92 105\n",
        "Added stations to bucket: 92 No. of buckets 290\n",
        "Added stations to bucket: 105 No. of buckets 291\n",
        "Partitioning on this :"
       ]
      },
      {
       "output_type": "stream",
       "stream": "stdout",
       "text": [
        " 24227\n",
        "Split like this : 323 286\n",
        "Partitioning on this :"
       ]
      },
      {
       "output_type": "stream",
       "stream": "stdout",
       "text": [
        " 12202\n",
        "Split like this : 157 166\n",
        "Added stations to bucket: 157 No. of buckets 292\n",
        "Added stations to bucket: 166 No. of buckets 293\n",
        "Partitioning on this :"
       ]
      },
      {
       "output_type": "stream",
       "stream": "stdout",
       "text": [
        " 12025\n",
        "Split like this : 160 126\n",
        "Added stations to bucket: 160 No. of buckets 294\n",
        "Added stations to bucket: 126 No. of buckets 295\n",
        "Partitioning on this :"
       ]
      },
      {
       "output_type": "stream",
       "stream": "stdout",
       "text": [
        " 47912\n",
        "Split like this : 629 498\n",
        "Partitioning on this :"
       ]
      },
      {
       "output_type": "stream",
       "stream": "stdout",
       "text": [
        " 24049\n",
        "Split like this : 265 364\n",
        "Partitioning on this :"
       ]
      },
      {
       "output_type": "stream",
       "stream": "stdout",
       "text": [
        " 12180\n",
        "Split like this : 129 136\n",
        "Added stations to bucket: 129 No. of buckets 296\n",
        "Added stations to bucket: 136 No. of buckets 297\n",
        "Partitioning on this :"
       ]
      },
      {
       "output_type": "stream",
       "stream": "stdout",
       "text": [
        " 11869\n",
        "Split like this : 185 179\n",
        "Added stations to bucket: 185 No. of buckets 298\n",
        "Added stations to bucket: 179 No. of buckets 299\n",
        "Partitioning on this :"
       ]
      },
      {
       "output_type": "stream",
       "stream": "stdout",
       "text": [
        " 23863\n",
        "Split like this : 222 276\n",
        "Partitioning on this : 11954\n",
        "Split like this : 95 127\n",
        "Added stations to bucket: 95 No. of buckets 300\n",
        "Added stations to bucket: 127 No. of buckets 301\n",
        "Partitioning on this :"
       ]
      },
      {
       "output_type": "stream",
       "stream": "stdout",
       "text": [
        " 11909\n",
        "Split like this : 156 120\n",
        "Added stations to bucket: 156 No. of buckets 302\n",
        "Added stations to bucket: 120 No. of buckets 303\n",
        "Partitioning on this :"
       ]
      },
      {
       "output_type": "stream",
       "stream": "stdout",
       "text": [
        " 96221\n",
        "Split like this : 1652 1613\n",
        "Partitioning on this :"
       ]
      },
      {
       "output_type": "stream",
       "stream": "stdout",
       "text": [
        " 48129\n",
        "Split like this : 654 998\n",
        "Partitioning on this :"
       ]
      },
      {
       "output_type": "stream",
       "stream": "stdout",
       "text": [
        " 24072\n",
        "Split like this : 185 469\n",
        "Partitioning on this : 12193\n",
        "Split like this : 79 106\n",
        "Added stations to bucket: 79 No. of buckets 304\n",
        "Added stations to bucket: 106 No. of buckets 305\n",
        "Partitioning on this :"
       ]
      },
      {
       "output_type": "stream",
       "stream": "stdout",
       "text": [
        " 11878\n",
        "Split like this : 199 270\n",
        "Added stations to bucket: 199 No. of buckets 306\n",
        "Added stations to bucket: 270 No. of buckets 307\n",
        "Partitioning on this :"
       ]
      },
      {
       "output_type": "stream",
       "stream": "stdout",
       "text": [
        " 24057\n",
        "Split like this : 513 485\n",
        "Partitioning on this :"
       ]
      },
      {
       "output_type": "stream",
       "stream": "stdout",
       "text": [
        " 12047\n",
        "Split like this : 271 242\n",
        "Added stations to bucket: 271 No. of buckets 308\n",
        "Added stations to bucket: 242 No. of buckets 309\n",
        "Partitioning on this :"
       ]
      },
      {
       "output_type": "stream",
       "stream": "stdout",
       "text": [
        " 12010\n",
        "Split like this : 258 227\n",
        "Added stations to bucket: 258 No. of buckets 310\n",
        "Added stations to bucket: 227 No. of buckets 311\n",
        "Partitioning on this :"
       ]
      },
      {
       "output_type": "stream",
       "stream": "stdout",
       "text": [
        " 48091\n",
        "Split like this : 735 878\n",
        "Partitioning on this :"
       ]
      },
      {
       "output_type": "stream",
       "stream": "stdout",
       "text": [
        " 24076\n",
        "Split like this : 406 329\n",
        "Partitioning on this :"
       ]
      },
      {
       "output_type": "stream",
       "stream": "stdout",
       "text": [
        " 12120\n",
        "Split like this : 125 281\n",
        "Added stations to bucket: 125 No. of buckets 312\n",
        "Added stations to bucket: 281 No. of buckets 313\n",
        "Partitioning on this :"
       ]
      },
      {
       "output_type": "stream",
       "stream": "stdout",
       "text": [
        " 11955\n",
        "Split like this : 120 209\n",
        "Added stations to bucket: 120 No. of buckets 314\n",
        "Added stations to bucket: 209 No. of buckets 315\n",
        "Partitioning on this :"
       ]
      },
      {
       "output_type": "stream",
       "stream": "stdout",
       "text": [
        " 24015\n",
        "Split like this : 466 412\n",
        "Partitioning on this :"
       ]
      },
      {
       "output_type": "stream",
       "stream": "stdout",
       "text": [
        " 12012\n",
        "Split like this : 216 250\n",
        "Added stations to bucket: 216 No. of buckets 316\n",
        "Added stations to bucket: 250 No. of buckets 317\n",
        "Partitioning on this :"
       ]
      },
      {
       "output_type": "stream",
       "stream": "stdout",
       "text": [
        " 12003\n",
        "Split like this : 266 146\n",
        "Added stations to bucket: 266 No. of buckets 318\n",
        "Added stations to bucket: 146 No. of buckets 319\n",
        "Partitioning on this :"
       ]
      },
      {
       "output_type": "stream",
       "stream": "stdout",
       "text": [
        " 385292\n",
        "Split like this : 8269 8488\n",
        "Partitioning on this :"
       ]
      },
      {
       "output_type": "stream",
       "stream": "stdout",
       "text": [
        " 192658\n",
        "Split like this : 3705 4564\n",
        "Partitioning on this :"
       ]
      },
      {
       "output_type": "stream",
       "stream": "stdout",
       "text": [
        " 96335\n",
        "Split like this : 1799 1906\n",
        "Partitioning on this :"
       ]
      },
      {
       "output_type": "stream",
       "stream": "stdout",
       "text": [
        " 48180\n",
        "Split like this : 880 919\n",
        "Partitioning on this :"
       ]
      },
      {
       "output_type": "stream",
       "stream": "stdout",
       "text": [
        " 24115\n",
        "Split like this : 421 459\n",
        "Partitioning on this :"
       ]
      },
      {
       "output_type": "stream",
       "stream": "stdout",
       "text": [
        " 12059\n",
        "Split like this : 235 186\n",
        "Added stations to bucket: 235 No. of buckets 320\n",
        "Added stations to bucket: 186 No. of buckets 321\n",
        "Partitioning on this :"
       ]
      },
      {
       "output_type": "stream",
       "stream": "stdout",
       "text": [
        " 12056\n",
        "Split like this : 239 220\n",
        "Added stations to bucket: 239 No. of buckets 322\n",
        "Added stations to bucket: 220 No. of buckets 323\n",
        "Partitioning on this :"
       ]
      },
      {
       "output_type": "stream",
       "stream": "stdout",
       "text": [
        " 24065\n",
        "Split like this : 500 419\n",
        "Partitioning on this :"
       ]
      },
      {
       "output_type": "stream",
       "stream": "stdout",
       "text": [
        " 12063\n",
        "Split like this : 237 263\n",
        "Added stations to bucket: 237 No. of buckets 324\n",
        "Added stations to bucket: 263 No. of buckets 325\n",
        "Partitioning on this :"
       ]
      },
      {
       "output_type": "stream",
       "stream": "stdout",
       "text": [
        " 12001\n",
        "Split like this : 200 219\n",
        "Added stations to bucket: 200 No. of buckets 326\n",
        "Added stations to bucket: 219 No. of buckets 327\n",
        "Partitioning on this :"
       ]
      },
      {
       "output_type": "stream",
       "stream": "stdout",
       "text": [
        " 48154\n",
        "Split like this : 1055 851\n",
        "Partitioning on this :"
       ]
      },
      {
       "output_type": "stream",
       "stream": "stdout",
       "text": [
        " 24080\n",
        "Split like this : 529 526\n",
        "Partitioning on this :"
       ]
      },
      {
       "output_type": "stream",
       "stream": "stdout",
       "text": [
        " 12043\n",
        "Split like this : 278 251\n",
        "Added stations to bucket: 278 No. of buckets 328\n",
        "Added stations to bucket: 251 No. of buckets 329\n",
        "Partitioning on this :"
       ]
      },
      {
       "output_type": "stream",
       "stream": "stdout",
       "text": [
        " 12037\n",
        "Split like this : 281 245\n",
        "Added stations to bucket: 281 No. of buckets 330\n",
        "Added stations to bucket: 245 No. of buckets 331\n",
        "Partitioning on this :"
       ]
      },
      {
       "output_type": "stream",
       "stream": "stdout",
       "text": [
        " 24074\n",
        "Split like this : 458 393\n",
        "Partitioning on this :"
       ]
      },
      {
       "output_type": "stream",
       "stream": "stdout",
       "text": [
        " 12037\n",
        "Split like this : 231 227\n",
        "Added stations to bucket: 231 No. of buckets 332\n",
        "Added stations to bucket: 227 No. of buckets 333\n",
        "Partitioning on this :"
       ]
      },
      {
       "output_type": "stream",
       "stream": "stdout",
       "text": [
        " 12037\n",
        "Split like this : 173 220\n",
        "Added stations to bucket: 173 No. of buckets 334\n",
        "Added stations to bucket: 220 No. of buckets 335\n",
        "Partitioning on this :"
       ]
      },
      {
       "output_type": "stream",
       "stream": "stdout",
       "text": [
        " 96323\n",
        "Split like this : 2314 2250\n",
        "Partitioning on this :"
       ]
      },
      {
       "output_type": "stream",
       "stream": "stdout",
       "text": [
        " 48174\n",
        "Split like this : 1163 1151\n",
        "Partitioning on this :"
       ]
      },
      {
       "output_type": "stream",
       "stream": "stdout",
       "text": [
        " 24101\n",
        "Split like this : 605 558\n",
        "Partitioning on this :"
       ]
      },
      {
       "output_type": "stream",
       "stream": "stdout",
       "text": [
        " 12093\n",
        "Split like this : 300 305\n",
        "Added stations to bucket: 300 No. of buckets 336\n",
        "Added stations to bucket: 305 No. of buckets 337\n",
        "Partitioning on this :"
       ]
      },
      {
       "output_type": "stream",
       "stream": "stdout",
       "text": [
        " 12008\n",
        "Split like this : 299 259\n",
        "Added stations to bucket: 299 No. of buckets 338\n",
        "Added stations to bucket: 259 No. of buckets 339\n",
        "Partitioning on this :"
       ]
      },
      {
       "output_type": "stream",
       "stream": "stdout",
       "text": [
        " 24073\n",
        "Split like this : 613 538\n",
        "Partitioning on this :"
       ]
      },
      {
       "output_type": "stream",
       "stream": "stdout",
       "text": [
        " 12133\n",
        "Split like this : 329 284\n",
        "Added stations to bucket: 329 No. of buckets 340\n",
        "Added stations to bucket: 284 No. of buckets 341\n",
        "Partitioning on this :"
       ]
      },
      {
       "output_type": "stream",
       "stream": "stdout",
       "text": [
        " 11940\n",
        "Split like this : 255 283\n",
        "Added stations to bucket: 255 No. of buckets 342\n",
        "Added stations to bucket: 283 No. of buckets 343\n",
        "Partitioning on this :"
       ]
      },
      {
       "output_type": "stream",
       "stream": "stdout",
       "text": [
        " 48148\n",
        "Split like this : 1007 1243\n",
        "Partitioning on this :"
       ]
      },
      {
       "output_type": "stream",
       "stream": "stdout",
       "text": [
        " 24080\n",
        "Split like this : 499 508\n",
        "Partitioning on this :"
       ]
      },
      {
       "output_type": "stream",
       "stream": "stdout",
       "text": [
        " 12086\n",
        "Split like this : 220 279\n",
        "Added stations to bucket: 220 No. of buckets 344\n",
        "Added stations to bucket: 279 No. of buckets 345\n",
        "Partitioning on this :"
       ]
      },
      {
       "output_type": "stream",
       "stream": "stdout",
       "text": [
        " 11994\n",
        "Split like this : 266 242\n",
        "Added stations to bucket: 266 No. of buckets 346\n",
        "Added stations to bucket: 242 No. of buckets 347\n",
        "Partitioning on this :"
       ]
      },
      {
       "output_type": "stream",
       "stream": "stdout",
       "text": [
        " 24068\n",
        "Split like this : 624 619\n",
        "Partitioning on this :"
       ]
      },
      {
       "output_type": "stream",
       "stream": "stdout",
       "text": [
        " 12070\n",
        "Split like this : 327 297\n",
        "Added stations to bucket: 327 No. of buckets 348\n",
        "Added stations to bucket: 297 No. of buckets 349\n",
        "Partitioning on this :"
       ]
      },
      {
       "output_type": "stream",
       "stream": "stdout",
       "text": [
        " 11998\n",
        "Split like this : 298 321\n",
        "Added stations to bucket: 298 No. of buckets 350\n",
        "Added stations to bucket: 321 No. of buckets 351\n",
        "Partitioning on this :"
       ]
      },
      {
       "output_type": "stream",
       "stream": "stdout",
       "text": [
        " 192634\n",
        "Split like this : 4012 4476\n",
        "Partitioning on this :"
       ]
      },
      {
       "output_type": "stream",
       "stream": "stdout",
       "text": [
        " 96333\n",
        "Split like this : 2035 1977\n",
        "Partitioning on this :"
       ]
      },
      {
       "output_type": "stream",
       "stream": "stdout",
       "text": [
        " 48176\n",
        "Split like this : 1032 1003\n",
        "Partitioning on this :"
       ]
      },
      {
       "output_type": "stream",
       "stream": "stdout",
       "text": [
        " 24116\n",
        "Split like this : 534 498\n",
        "Partitioning on this :"
       ]
      },
      {
       "output_type": "stream",
       "stream": "stdout",
       "text": [
        " 12091\n",
        "Split like this : 273 261\n",
        "Added stations to bucket: 273 No. of buckets 352\n",
        "Added stations to bucket: 261 No. of buckets 353\n",
        "Partitioning on this :"
       ]
      },
      {
       "output_type": "stream",
       "stream": "stdout",
       "text": [
        " 12025\n",
        "Split like this : 241 257\n",
        "Added stations to bucket: 241 No. of buckets 354\n",
        "Added stations to bucket: 257 No. of buckets 355\n",
        "Partitioning on this :"
       ]
      },
      {
       "output_type": "stream",
       "stream": "stdout",
       "text": [
        " 24060\n",
        "Split like this : 484 519\n",
        "Partitioning on this :"
       ]
      },
      {
       "output_type": "stream",
       "stream": "stdout",
       "text": [
        " 12052\n",
        "Split like this : 226 258\n",
        "Added stations to bucket: 226 No. of buckets 356\n",
        "Added stations to bucket: 258 No. of buckets 357\n",
        "Partitioning on this :"
       ]
      },
      {
       "output_type": "stream",
       "stream": "stdout",
       "text": [
        " 12008\n",
        "Split like this : 284 235\n",
        "Added stations to bucket: 284 No. of buckets 358\n",
        "Added stations to bucket: 235 No. of buckets 359\n",
        "Partitioning on this :"
       ]
      },
      {
       "output_type": "stream",
       "stream": "stdout",
       "text": [
        " 48156\n",
        "Split like this : 976 1001\n",
        "Partitioning on this :"
       ]
      },
      {
       "output_type": "stream",
       "stream": "stdout",
       "text": [
        " 24143\n",
        "Split like this : 558 418\n",
        "Partitioning on this :"
       ]
      },
      {
       "output_type": "stream",
       "stream": "stdout",
       "text": [
        " 12108\n",
        "Split like this : 245 313\n",
        "Added stations to bucket: 245 No. of buckets 360\n",
        "Added stations to bucket: 313 No. of buckets 361\n",
        "Partitioning on this :"
       ]
      },
      {
       "output_type": "stream",
       "stream": "stdout",
       "text": [
        " 12035\n",
        "Split like this : 127 291\n",
        "Added stations to bucket: 127 No. of buckets 362\n",
        "Added stations to bucket: 291 No. of buckets 363\n",
        "Partitioning on this :"
       ]
      },
      {
       "output_type": "stream",
       "stream": "stdout",
       "text": [
        " 24013\n",
        "Split like this : 482 519\n",
        "Partitioning on this :"
       ]
      },
      {
       "output_type": "stream",
       "stream": "stdout",
       "text": [
        " 12014\n",
        "Split like this : 226 256\n",
        "Added stations to bucket: 226 No. of buckets 364\n",
        "Added stations to bucket: 256 No. of buckets 365\n",
        "Partitioning on this :"
       ]
      },
      {
       "output_type": "stream",
       "stream": "stdout",
       "text": [
        " 11999\n",
        "Split like this : 226 293\n",
        "Added stations to bucket: 226 No. of buckets 366\n",
        "Added stations to bucket: 293 No. of buckets 367\n",
        "Partitioning on this :"
       ]
      },
      {
       "output_type": "stream",
       "stream": "stdout",
       "text": [
        " 96301\n",
        "Split like this : 2364 2112\n",
        "Partitioning on this :"
       ]
      },
      {
       "output_type": "stream",
       "stream": "stdout",
       "text": [
        " 48175\n",
        "Split like this : 1059 1305\n",
        "Partitioning on this :"
       ]
      },
      {
       "output_type": "stream",
       "stream": "stdout",
       "text": [
        " 24095\n",
        "Split like this : 527 532\n",
        "Partitioning on this :"
       ]
      },
      {
       "output_type": "stream",
       "stream": "stdout",
       "text": [
        " 12087\n",
        "Split like this : 256 271\n",
        "Added stations to bucket: 256 No. of buckets 368\n",
        "Added stations to bucket: 271 No. of buckets 369\n",
        "Partitioning on this :"
       ]
      },
      {
       "output_type": "stream",
       "stream": "stdout",
       "text": [
        " 12007\n",
        "Split like this : 253 279\n",
        "Added stations to bucket: 253 No. of buckets 370\n",
        "Added stations to bucket: 279 No. of buckets 371\n",
        "Partitioning on this :"
       ]
      },
      {
       "output_type": "stream",
       "stream": "stdout",
       "text": [
        " 24080\n",
        "Split like this : 674 631\n",
        "Partitioning on this :"
       ]
      },
      {
       "output_type": "stream",
       "stream": "stdout",
       "text": [
        " 12041\n",
        "Split like this : 368 306\n",
        "Added stations to bucket: 368 No. of buckets 372\n",
        "Added stations to bucket: 306 No. of buckets 373\n",
        "Partitioning on this :"
       ]
      },
      {
       "output_type": "stream",
       "stream": "stdout",
       "text": [
        " 12039\n",
        "Split like this : 291 340\n",
        "Added stations to bucket: 291 No. of buckets 374\n",
        "Added stations to bucket: 340 No. of buckets 375\n",
        "Partitioning on this :"
       ]
      },
      {
       "output_type": "stream",
       "stream": "stdout",
       "text": [
        " 48126\n",
        "Split like this : 1140 972\n",
        "Partitioning on this :"
       ]
      },
      {
       "output_type": "stream",
       "stream": "stdout",
       "text": [
        " 24071\n",
        "Split like this : 571 569\n",
        "Partitioning on this :"
       ]
      },
      {
       "output_type": "stream",
       "stream": "stdout",
       "text": [
        " 12039\n",
        "Split like this : 270 301\n",
        "Added stations to bucket: 270 No. of buckets 376\n",
        "Added stations to bucket: 301 No. of buckets 377\n",
        "Partitioning on this :"
       ]
      },
      {
       "output_type": "stream",
       "stream": "stdout",
       "text": [
        " 12032\n",
        "Split like this : 278 291\n",
        "Added stations to bucket: 278 No. of buckets 378\n",
        "Added stations to bucket: 291 No. of buckets 379\n",
        "Partitioning on this :"
       ]
      },
      {
       "output_type": "stream",
       "stream": "stdout",
       "text": [
        " 24055\n",
        "Split like this : 548 424\n",
        "Partitioning on this :"
       ]
      },
      {
       "output_type": "stream",
       "stream": "stdout",
       "text": [
        " 12030\n",
        "Split like this : 270 278\n",
        "Added stations to bucket: 270 No. of buckets 380\n",
        "Added stations to bucket: 278 No. of buckets 381\n",
        "Partitioning on this :"
       ]
      },
      {
       "output_type": "stream",
       "stream": "stdout",
       "text": [
        " 12024\n",
        "Split like this : 253 171\n",
        "Added stations to bucket: 253 No. of buckets 382\n",
        "Added stations to bucket: 171 No. of buckets 383\n",
        "Partitioning on this :"
       ]
      },
      {
       "output_type": "stream",
       "stream": "stdout",
       "text": [
        " 770497\n",
        "Split like this : 8795 7354\n",
        "Partitioning on this :"
       ]
      },
      {
       "output_type": "stream",
       "stream": "stdout",
       "text": [
        " 385340\n",
        "Split like this : 4591 4204\n",
        "Partitioning on this :"
       ]
      },
      {
       "output_type": "stream",
       "stream": "stdout",
       "text": [
        " 192692\n",
        "Split like this : 2609 1982\n",
        "Partitioning on this :"
       ]
      },
      {
       "output_type": "stream",
       "stream": "stdout",
       "text": [
        " 96375\n",
        "Split like this : 1592 1017\n",
        "Partitioning on this :"
       ]
      },
      {
       "output_type": "stream",
       "stream": "stdout",
       "text": [
        " 48195\n",
        "Split like this : 890 702\n",
        "Partitioning on this :"
       ]
      },
      {
       "output_type": "stream",
       "stream": "stdout",
       "text": [
        " 24258\n",
        "Split like this : 521 369\n",
        "Partitioning on this :"
       ]
      },
      {
       "output_type": "stream",
       "stream": "stdout",
       "text": [
        " 12161\n",
        "Split like this : 325 196\n",
        "Added stations to bucket: 325 No. of buckets 384\n",
        "Added stations to bucket: 196 No. of buckets 385\n",
        "Partitioning on this :"
       ]
      },
      {
       "output_type": "stream",
       "stream": "stdout",
       "text": [
        " 12097\n",
        "Split like this : 206 163\n",
        "Added stations to bucket: 206 No. of buckets 386\n",
        "Added stations to bucket: 163 No. of buckets 387\n",
        "Partitioning on this :"
       ]
      },
      {
       "output_type": "stream",
       "stream": "stdout",
       "text": [
        " 23937\n",
        "Split like this : 363 339\n",
        "Partitioning on this :"
       ]
      },
      {
       "output_type": "stream",
       "stream": "stdout",
       "text": [
        " 12198\n",
        "Split like this : 184 179\n",
        "Added stations to bucket: 184 No. of buckets 388\n",
        "Added stations to bucket: 179 No. of buckets 389\n",
        "Partitioning on this :"
       ]
      },
      {
       "output_type": "stream",
       "stream": "stdout",
       "text": [
        " 11738\n",
        "Split like this : 191 148\n",
        "Added stations to bucket: 191 No. of buckets 390\n",
        "Added stations to bucket: 148 No. of buckets 391\n",
        "Partitioning on this :"
       ]
      },
      {
       "output_type": "stream",
       "stream": "stdout",
       "text": [
        " 48179\n",
        "Split like this : 587 430\n",
        "Partitioning on this :"
       ]
      },
      {
       "output_type": "stream",
       "stream": "stdout",
       "text": [
        " 24106\n",
        "Split like this : 280 307\n",
        "Partitioning on this :"
       ]
      },
      {
       "output_type": "stream",
       "stream": "stdout",
       "text": [
        " 12120\n",
        "Split like this : 149 131\n",
        "Added stations to bucket: 149 No. of buckets 392\n",
        "Added stations to bucket: 131 No. of buckets 393\n",
        "Partitioning on this :"
       ]
      },
      {
       "output_type": "stream",
       "stream": "stdout",
       "text": [
        " 11986\n",
        "Split like this : 174 133\n",
        "Added stations to bucket: 174 No. of buckets 394\n",
        "Added stations to bucket: 133 No. of buckets 395\n",
        "Partitioning on this :"
       ]
      },
      {
       "output_type": "stream",
       "stream": "stdout",
       "text": [
        " 24073\n",
        "Split like this : 226 204\n",
        "Partitioning on this : 12227\n",
        "Split like this : 138 88\n",
        "Added stations to bucket: 138 No. of buckets 396\n",
        "Added stations to bucket: 88 No. of buckets 397\n",
        "Partitioning on this :"
       ]
      },
      {
       "output_type": "stream",
       "stream": "stdout",
       "text": [
        " 11845\n",
        "Split like this : 111 93\n",
        "Added stations to bucket: 111 No. of buckets 398\n",
        "Added stations to bucket: 93 No. of buckets 399\n",
        "Partitioning on this :"
       ]
      },
      {
       "output_type": "stream",
       "stream": "stdout",
       "text": [
        " 96317\n",
        "Split like this : 1009 973\n",
        "Partitioning on this :"
       ]
      },
      {
       "output_type": "stream",
       "stream": "stdout",
       "text": [
        " 48164\n",
        "Split like this : 485 524\n",
        "Partitioning on this :"
       ]
      },
      {
       "output_type": "stream",
       "stream": "stdout",
       "text": [
        " 24299\n",
        "Split like this : 278 207\n",
        "Partitioning on this :"
       ]
      },
      {
       "output_type": "stream",
       "stream": "stdout",
       "text": [
        " 12150\n",
        "Split like this : 121 157\n",
        "Added stations to bucket: 121 No. of buckets 400\n",
        "Added stations to bucket: 157 No. of buckets 401\n",
        "Partitioning on this : 12149\n",
        "Split like this : 104 103\n",
        "Added stations to bucket: 104 No. of buckets 402\n",
        "Added stations to bucket: 103 No. of buckets 403\n",
        "Partitioning on this :"
       ]
      },
      {
       "output_type": "stream",
       "stream": "stdout",
       "text": [
        " 23864\n",
        "Split like this : 286 238\n",
        "Partitioning on this :"
       ]
      },
      {
       "output_type": "stream",
       "stream": "stdout",
       "text": [
        " 11933\n",
        "Split like this : 157 129\n",
        "Added stations to bucket: 157 No. of buckets 404\n",
        "Added stations to bucket: 129 No. of buckets 405\n",
        "Partitioning on this : 11931\n",
        "Split like this : 106 132\n",
        "Added stations to bucket: 106 No. of buckets 406\n",
        "Added stations to bucket: 132 No. of buckets 407\n",
        "Partitioning on this :"
       ]
      },
      {
       "output_type": "stream",
       "stream": "stdout",
       "text": [
        " 48153\n",
        "Split like this : 416 557\n",
        "Partitioning on this :"
       ]
      },
      {
       "output_type": "stream",
       "stream": "stdout",
       "text": [
        " 24082\n",
        "Split like this : 221 195\n",
        "Partitioning on this : 12148\n",
        "Split like this : 103 118\n",
        "Added stations to bucket: 103 No. of buckets 408\n",
        "Added stations to bucket: 118 No. of buckets 409\n",
        "Partitioning on this :"
       ]
      },
      {
       "output_type": "stream",
       "stream": "stdout",
       "text": [
        " 11934\n",
        "Split like this : 95 100\n",
        "Added stations to bucket: 95 No. of buckets 410\n",
        "Added stations to bucket: 100 No. of buckets 411\n",
        "Partitioning on this :"
       ]
      },
      {
       "output_type": "stream",
       "stream": "stdout",
       "text": [
        " 24070\n",
        "Split like this : 270 287\n",
        "Partitioning on this :"
       ]
      },
      {
       "output_type": "stream",
       "stream": "stdout",
       "text": [
        " 12102\n",
        "Split like this : 146 124\n",
        "Added stations to bucket: 146 No. of buckets 412\n",
        "Added stations to bucket: 124 No. of buckets 413\n",
        "Partitioning on this :"
       ]
      },
      {
       "output_type": "stream",
       "stream": "stdout",
       "text": [
        " 11968\n",
        "Split like this : 160 127\n",
        "Added stations to bucket: 160 No. of buckets 414\n",
        "Added stations to bucket: 127 No. of buckets 415\n",
        "Partitioning on this :"
       ]
      },
      {
       "output_type": "stream",
       "stream": "stdout",
       "text": [
        " 192648\n",
        "Split like this : 2016 2188\n",
        "Partitioning on this :"
       ]
      },
      {
       "output_type": "stream",
       "stream": "stdout",
       "text": [
        " 96568\n",
        "Split like this : 1050 966\n",
        "Partitioning on this :"
       ]
      },
      {
       "output_type": "stream",
       "stream": "stdout",
       "text": [
        " 48443\n",
        "Split like this : 634 416\n",
        "Partitioning on this :"
       ]
      },
      {
       "output_type": "stream",
       "stream": "stdout",
       "text": [
        " 24535\n",
        "Split like this : 309 325\n",
        "Partitioning on this :"
       ]
      },
      {
       "output_type": "stream",
       "stream": "stdout",
       "text": [
        " 12426\n",
        "Split like this : 221 88\n",
        "Added stations to bucket: 221 No. of buckets 416\n",
        "Added stations to bucket: 88 No. of buckets 417\n",
        "Partitioning on this :"
       ]
      },
      {
       "output_type": "stream",
       "stream": "stdout",
       "text": [
        " 12109\n",
        "Split like this : 216 109\n",
        "Added stations to bucket: 216 No. of buckets 418\n",
        "Added stations to bucket: 109 No. of buckets 419\n",
        "Partitioning on this :"
       ]
      },
      {
       "output_type": "stream",
       "stream": "stdout",
       "text": [
        " 23908\n",
        "Split like this : 180 236\n",
        "Partitioning on this : 12170\n",
        "Split like this : 103 77\n",
        "Added stations to bucket: 103 No. of buckets 420\n",
        "Added stations to bucket: 77 No. of buckets 421\n",
        "Partitioning on this :"
       ]
      },
      {
       "output_type": "stream",
       "stream": "stdout",
       "text": [
        " 11738\n",
        "Split like this : 106 130\n",
        "Added stations to bucket: 106 No. of buckets 422\n",
        "Added stations to bucket: 130 No. of buckets 423\n",
        "Partitioning on this :"
       ]
      },
      {
       "output_type": "stream",
       "stream": "stdout",
       "text": [
        " 48124\n",
        "Split like this : 424 542\n",
        "Partitioning on this :"
       ]
      },
      {
       "output_type": "stream",
       "stream": "stdout",
       "text": [
        " 24086\n",
        "Split like this : 235 189\n",
        "Partitioning on this : 12220\n",
        "Split like this : 125 110\n",
        "Added stations to bucket: 125 No. of buckets 424\n",
        "Added stations to bucket: 110 No. of buckets 425\n",
        "Partitioning on this :"
       ]
      },
      {
       "output_type": "stream",
       "stream": "stdout",
       "text": [
        " 11866\n",
        "Split like this : 106 83\n",
        "Added stations to bucket: 106 No. of buckets 426\n",
        "Added stations to bucket: 83 No. of buckets 427\n",
        "Partitioning on this :"
       ]
      },
      {
       "output_type": "stream",
       "stream": "stdout",
       "text": [
        " 24038\n",
        "Split like this : 308 234\n",
        "Partitioning on this :"
       ]
      },
      {
       "output_type": "stream",
       "stream": "stdout",
       "text": [
        " 12063\n",
        "Split like this : 159 149\n",
        "Added stations to bucket: 159 No. of buckets 428\n",
        "Added stations to bucket: 149 No. of buckets 429\n",
        "Partitioning on this : 11975\n",
        "Split like this : 99 135\n",
        "Added stations to bucket: 99 No. of buckets 430\n",
        "Added stations to bucket: 135 No. of buckets 431\n",
        "Partitioning on this :"
       ]
      },
      {
       "output_type": "stream",
       "stream": "stdout",
       "text": [
        " 96080\n",
        "Split like this : 979 1209\n",
        "Partitioning on this :"
       ]
      },
      {
       "output_type": "stream",
       "stream": "stdout",
       "text": [
        " 48094\n",
        "Split like this : 433 546\n",
        "Partitioning on this :"
       ]
      },
      {
       "output_type": "stream",
       "stream": "stdout",
       "text": [
        " 24100\n",
        "Split like this : 204 229\n",
        "Partitioning on this : 12330\n",
        "Split like this : 98 106\n",
        "Added stations to bucket: 98 No. of buckets 432\n",
        "Added stations to bucket: 106 No. of buckets 433\n",
        "Partitioning on this :"
       ]
      },
      {
       "output_type": "stream",
       "stream": "stdout",
       "text": [
        " 11770\n",
        "Split like this : 100 129\n",
        "Added stations to bucket: 100 No. of buckets 434\n",
        "Added stations to bucket: 129 No. of buckets 435\n",
        "Partitioning on this :"
       ]
      },
      {
       "output_type": "stream",
       "stream": "stdout",
       "text": [
        " 23994\n",
        "Split like this : 279 267\n",
        "Partitioning on this :"
       ]
      },
      {
       "output_type": "stream",
       "stream": "stdout",
       "text": [
        " 12012\n",
        "Split like this : 127 152\n",
        "Added stations to bucket: 127 No. of buckets 436\n",
        "Added stations to bucket: 152 No. of buckets 437\n",
        "Partitioning on this :"
       ]
      },
      {
       "output_type": "stream",
       "stream": "stdout",
       "text": [
        " 11982\n",
        "Split like this : 114 153\n",
        "Added stations to bucket: 114 No. of buckets 438\n",
        "Added stations to bucket: 153 No. of buckets 439\n",
        "Partitioning on this :"
       ]
      },
      {
       "output_type": "stream",
       "stream": "stdout",
       "text": [
        " 47985\n",
        "Split like this : 602 607\n",
        "Partitioning on this :"
       ]
      },
      {
       "output_type": "stream",
       "stream": "stdout",
       "text": [
        " 24000\n",
        "Split like this : 272 330\n",
        "Partitioning on this :"
       ]
      },
      {
       "output_type": "stream",
       "stream": "stdout",
       "text": [
        " 12191\n",
        "Split like this : 152 120\n",
        "Added stations to bucket: 152 No. of buckets 440\n",
        "Added stations to bucket: 120 No. of buckets 441\n",
        "Partitioning on this :"
       ]
      },
      {
       "output_type": "stream",
       "stream": "stdout",
       "text": [
        " 11809\n",
        "Split like this : 171 159\n",
        "Added stations to bucket: 171 No. of buckets 442\n",
        "Added stations to bucket: 159 No. of buckets 443\n",
        "Partitioning on this :"
       ]
      },
      {
       "output_type": "stream",
       "stream": "stdout",
       "text": [
        " 23985\n",
        "Split like this : 321 286\n",
        "Partitioning on this :"
       ]
      },
      {
       "output_type": "stream",
       "stream": "stdout",
       "text": [
        " 12022\n",
        "Split like this : 155 166\n",
        "Added stations to bucket: 155 No. of buckets 444\n",
        "Added stations to bucket: 166 No. of buckets 445\n",
        "Partitioning on this :"
       ]
      },
      {
       "output_type": "stream",
       "stream": "stdout",
       "text": [
        " 11962\n",
        "Split like this : 158 128\n",
        "Added stations to bucket: 158 No. of buckets 446\n",
        "Added stations to bucket: 128 No. of buckets 447\n",
        "Partitioning on this :"
       ]
      },
      {
       "output_type": "stream",
       "stream": "stdout",
       "text": [
        " 385157\n",
        "Split like this : 4049 3305\n",
        "Partitioning on this :"
       ]
      },
      {
       "output_type": "stream",
       "stream": "stdout",
       "text": [
        " 192586\n",
        "Split like this : 2010 2039\n",
        "Partitioning on this :"
       ]
      },
      {
       "output_type": "stream",
       "stream": "stdout",
       "text": [
        " 96295\n",
        "Split like this : 1041 969\n",
        "Partitioning on this :"
       ]
      },
      {
       "output_type": "stream",
       "stream": "stdout",
       "text": [
        " 48150\n",
        "Split like this : 554 487\n",
        "Partitioning on this :"
       ]
      },
      {
       "output_type": "stream",
       "stream": "stdout",
       "text": [
        " 24086\n",
        "Split like this : 264 290\n",
        "Partitioning on this :"
       ]
      },
      {
       "output_type": "stream",
       "stream": "stdout",
       "text": [
        " 12070\n",
        "Split like this : 155 109\n",
        "Added stations to bucket: 155 No. of buckets 448\n",
        "Added stations to bucket: 109 No. of buckets 449\n",
        "Partitioning on this :"
       ]
      },
      {
       "output_type": "stream",
       "stream": "stdout",
       "text": [
        " 12016\n",
        "Split like this : 146 144\n",
        "Added stations to bucket: 146 No. of buckets 450\n",
        "Added stations to bucket: 144 No. of buckets 451\n",
        "Partitioning on this :"
       ]
      },
      {
       "output_type": "stream",
       "stream": "stdout",
       "text": [
        " 24064\n",
        "Split like this : 245 242\n",
        "Partitioning on this : 12033\n",
        "Split like this : 123 122\n",
        "Added stations to bucket: 123 No. of buckets 452\n",
        "Added stations to bucket: 122 No. of buckets 453\n",
        "Partitioning on this :"
       ]
      },
      {
       "output_type": "stream",
       "stream": "stdout",
       "text": [
        " 12031\n",
        "Split like this : 118 124\n",
        "Added stations to bucket: 118 No. of buckets 454\n",
        "Added stations to bucket: 124 No. of buckets 455\n",
        "Partitioning on this :"
       ]
      },
      {
       "output_type": "stream",
       "stream": "stdout",
       "text": [
        " 48145\n",
        "Split like this : 412 557\n",
        "Partitioning on this :"
       ]
      },
      {
       "output_type": "stream",
       "stream": "stdout",
       "text": [
        " 24153\n",
        "Split like this : 217 195\n",
        "Partitioning on this : 12076\n",
        "Split like this : 107 110\n",
        "Added stations to bucket: 107 No. of buckets 456\n",
        "Added stations to bucket: 110 No. of buckets 457\n",
        "Partitioning on this :"
       ]
      },
      {
       "output_type": "stream",
       "stream": "stdout",
       "text": [
        " 12077\n",
        "Split like this : 93 102\n",
        "Added stations to bucket: 93 No. of buckets 458\n",
        "Added stations to bucket: 102 No. of buckets 459\n",
        "Partitioning on this :"
       ]
      },
      {
       "output_type": "stream",
       "stream": "stdout",
       "text": [
        " 23991\n",
        "Split like this : 281 276\n",
        "Partitioning on this :"
       ]
      },
      {
       "output_type": "stream",
       "stream": "stdout",
       "text": [
        " 12017\n",
        "Split like this : 124 157\n",
        "Added stations to bucket: 124 No. of buckets 460\n",
        "Added stations to bucket: 157 No. of buckets 461\n",
        "Partitioning on this :"
       ]
      },
      {
       "output_type": "stream",
       "stream": "stdout",
       "text": [
        " 11974\n",
        "Split like this : 145 131\n",
        "Added stations to bucket: 145 No. of buckets 462\n",
        "Added stations to bucket: 131 No. of buckets 463\n",
        "Partitioning on this :"
       ]
      },
      {
       "output_type": "stream",
       "stream": "stdout",
       "text": [
        " 96291\n",
        "Split like this : 1071 968\n",
        "Partitioning on this :"
       ]
      },
      {
       "output_type": "stream",
       "stream": "stdout",
       "text": [
        " 48169\n",
        "Split like this : 506 565\n",
        "Partitioning on this :"
       ]
      },
      {
       "output_type": "stream",
       "stream": "stdout",
       "text": [
        " 24144\n",
        "Split like this : 233 273\n",
        "Partitioning on this : 12107\n",
        "Split like this : 86 147\n",
        "Added stations to bucket: 86 No. of buckets 464\n",
        "Added stations to bucket: 147 No. of buckets 465\n",
        "Partitioning on this :"
       ]
      },
      {
       "output_type": "stream",
       "stream": "stdout",
       "text": [
        " 12037\n",
        "Split like this : 130 143\n",
        "Added stations to bucket: 130 No. of buckets 466\n",
        "Added stations to bucket: 143 No. of buckets 467\n",
        "Partitioning on this :"
       ]
      },
      {
       "output_type": "stream",
       "stream": "stdout",
       "text": [
        " 24025\n",
        "Split like this : 251 314\n",
        "Partitioning on this :"
       ]
      },
      {
       "output_type": "stream",
       "stream": "stdout",
       "text": [
        " 12031\n",
        "Split like this : 133 118\n",
        "Added stations to bucket: 133 No. of buckets 468\n",
        "Added stations to bucket: 118 No. of buckets 469\n",
        "Partitioning on this :"
       ]
      },
      {
       "output_type": "stream",
       "stream": "stdout",
       "text": [
        " 11994\n",
        "Split like this : 220 94\n",
        "Added stations to bucket: 220 No. of buckets 470\n",
        "Added stations to bucket: 94 No. of buckets 471\n",
        "Partitioning on this :"
       ]
      },
      {
       "output_type": "stream",
       "stream": "stdout",
       "text": [
        " 48122\n",
        "Split like this : 548 420\n",
        "Partitioning on this :"
       ]
      },
      {
       "output_type": "stream",
       "stream": "stdout",
       "text": [
        " 24170\n",
        "Split like this : 301 247\n",
        "Partitioning on this :"
       ]
      },
      {
       "output_type": "stream",
       "stream": "stdout",
       "text": [
        " 12088\n",
        "Split like this : 162 139\n",
        "Added stations to bucket: 162 No. of buckets 472\n",
        "Added stations to bucket: 139 No. of buckets 473\n",
        "Partitioning on this :"
       ]
      },
      {
       "output_type": "stream",
       "stream": "stdout",
       "text": [
        " 12082\n",
        "Split like this : 103 144\n",
        "Added stations to bucket: 103 No. of buckets 474\n",
        "Added stations to bucket: 144 No. of buckets 475\n",
        "Partitioning on this :"
       ]
      },
      {
       "output_type": "stream",
       "stream": "stdout",
       "text": [
        " 23951\n",
        "Split like this : 201 219\n",
        "Partitioning on this : 12035\n",
        "Split like this : 78 123\n",
        "Added stations to bucket: 78 No. of buckets 476\n",
        "Added stations to bucket: 123 No. of buckets 477\n",
        "Partitioning on this :"
       ]
      },
      {
       "output_type": "stream",
       "stream": "stdout",
       "text": [
        " 11916\n",
        "Split like this : 111 108\n",
        "Added stations to bucket: 111 No. of buckets 478\n",
        "Added stations to bucket: 108 No. of buckets 479\n",
        "Partitioning on this :"
       ]
      },
      {
       "output_type": "stream",
       "stream": "stdout",
       "text": [
        " 192570\n",
        "Split like this : 1740 1565\n",
        "Partitioning on this :"
       ]
      },
      {
       "output_type": "stream",
       "stream": "stdout",
       "text": [
        " 96352\n",
        "Split like this : 921 819\n",
        "Partitioning on this :"
       ]
      },
      {
       "output_type": "stream",
       "stream": "stdout",
       "text": [
        " 48220\n",
        "Split like this : 572 349\n",
        "Partitioning on this :"
       ]
      },
      {
       "output_type": "stream",
       "stream": "stdout",
       "text": [
        " 24155\n",
        "Split like this : 292 280\n",
        "Partitioning on this :"
       ]
      },
      {
       "output_type": "stream",
       "stream": "stdout",
       "text": [
        " 12105\n",
        "Split like this : 135 157\n",
        "Added stations to bucket: 135 No. of buckets 480\n",
        "Added stations to bucket: 157 No. of buckets 481\n",
        "Partitioning on this :"
       ]
      },
      {
       "output_type": "stream",
       "stream": "stdout",
       "text": [
        " 12049\n",
        "Split like this : 126 154\n",
        "Added stations to bucket: 126 No. of buckets 482\n",
        "Added stations to bucket: 154 No. of buckets 483\n",
        "Partitioning on this :"
       ]
      },
      {
       "output_type": "stream",
       "stream": "stdout",
       "text": [
        " 24065\n",
        "Split like this : 162 187\n",
        "Partitioning on this : 12100\n",
        "Split like this : 96 66\n",
        "Added stations to bucket: 96 No. of buckets 484\n",
        "Added stations to bucket: 66 No. of buckets 485\n",
        "Partitioning on this :"
       ]
      },
      {
       "output_type": "stream",
       "stream": "stdout",
       "text": [
        " 11964\n",
        "Split like this : 100 87\n",
        "Added stations to bucket: 100 No. of buckets 486\n",
        "Added stations to bucket: 87 No. of buckets 487\n",
        "Partitioning on this :"
       ]
      },
      {
       "output_type": "stream",
       "stream": "stdout",
       "text": [
        " 48132\n",
        "Split like this : 444 375\n",
        "Partitioning on this :"
       ]
      },
      {
       "output_type": "stream",
       "stream": "stdout",
       "text": [
        " 24094\n",
        "Split like this : 230 214\n",
        "Partitioning on this : 12154\n",
        "Split like this : 118 112\n",
        "Added stations to bucket: 118 No. of buckets 488\n",
        "Added stations to bucket: 112 No. of buckets 489\n",
        "Partitioning on this :"
       ]
      },
      {
       "output_type": "stream",
       "stream": "stdout",
       "text": [
        " 11940\n",
        "Split like this : 109 105\n",
        "Added stations to bucket: 109 No. of buckets 490\n",
        "Added stations to bucket: 105 No. of buckets 491\n",
        "Partitioning on this :"
       ]
      },
      {
       "output_type": "stream",
       "stream": "stdout",
       "text": [
        " 24038\n",
        "Split like this : 167 208\n",
        "Partitioning on this : 12062\n",
        "Split like this : 89 78\n",
        "Added stations to bucket: 89 No. of buckets 492\n",
        "Added stations to bucket: 78 No. of buckets 493\n",
        "Partitioning on this :"
       ]
      },
      {
       "output_type": "stream",
       "stream": "stdout",
       "text": [
        " 11976\n",
        "Split like this : 107 101\n",
        "Added stations to bucket: 107 No. of buckets 494\n",
        "Added stations to bucket: 101 No. of buckets 495\n",
        "Partitioning on this :"
       ]
      },
      {
       "output_type": "stream",
       "stream": "stdout",
       "text": [
        " 96218\n",
        "Split like this : 893 672\n",
        "Partitioning on this :"
       ]
      },
      {
       "output_type": "stream",
       "stream": "stdout",
       "text": [
        " 48244\n",
        "Split like this : 528 365\n",
        "Partitioning on this :"
       ]
      },
      {
       "output_type": "stream",
       "stream": "stdout",
       "text": [
        " 24211\n",
        "Split like this : 288 240\n",
        "Partitioning on this :"
       ]
      },
      {
       "output_type": "stream",
       "stream": "stdout",
       "text": [
        " 12115\n",
        "Split like this : 149 139\n",
        "Added stations to bucket: 149 No. of buckets 496\n",
        "Added stations to bucket: 139 No. of buckets 497\n",
        "Partitioning on this : 12096\n",
        "Split like this : 114 126\n",
        "Added stations to bucket: 114 No. of buckets 498\n",
        "Added stations to bucket: 126 No. of buckets 499\n",
        "Partitioning on this :"
       ]
      },
      {
       "output_type": "stream",
       "stream": "stdout",
       "text": [
        " 24032\n",
        "Split like this : 190 175\n",
        "Partitioning on this : 12048\n",
        "Split like this : 108 82\n",
        "Added stations to bucket: 108 No. of buckets 500\n",
        "Added stations to bucket: 82 No. of buckets 501\n",
        "Partitioning on this :"
       ]
      },
      {
       "output_type": "stream",
       "stream": "stdout",
       "text": [
        " 11984\n",
        "Split like this : 97 78\n",
        "Added stations to bucket: 97 No. of buckets 502\n",
        "Added stations to bucket: 78 No. of buckets 503\n",
        "Partitioning on this :"
       ]
      },
      {
       "output_type": "stream",
       "stream": "stdout",
       "text": [
        " 47974\n",
        "Split like this : 387 285\n",
        "Partitioning on this :"
       ]
      },
      {
       "output_type": "stream",
       "stream": "stdout",
       "text": [
        " 24065\n",
        "Split like this : 224 163\n",
        "Partitioning on this : 12051\n",
        "Split like this : 133 91\n",
        "Added stations to bucket: 133 No. of buckets 504\n",
        "Added stations to bucket: 91 No. of buckets 505\n",
        "Partitioning on this :"
       ]
      },
      {
       "output_type": "stream",
       "stream": "stdout",
       "text": [
        " 12014\n",
        "Split like this : 89 74\n",
        "Added stations to bucket: 89 No. of buckets 506\n",
        "Added stations to bucket: 74 No. of buckets 507\n",
        "Partitioning on this :"
       ]
      },
      {
       "output_type": "stream",
       "stream": "stdout",
       "text": [
        " 23909\n",
        "Split like this : 152 133\n",
        "Partitioning on this : 12089\n",
        "Split like this : 84 68\n",
        "Added stations to bucket: 84 No. of buckets 508\n",
        "Added stations to bucket: 68 No. of buckets 509\n",
        "Partitioning on this :"
       ]
      },
      {
       "output_type": "stream",
       "stream": "stdout",
       "text": [
        " 11820\n",
        "Split like this : 64 69\n",
        "Added stations to bucket: 64 No. of buckets 510\n",
        "Added stations to bucket: 69 No. of buckets 511\n"
       ]
      }
     ],
     "prompt_number": 57
    },
    {
     "cell_type": "code",
     "collapsed": false,
     "input": [
      "heirarchy={}\n",
      "for i in range(len(buckets)):\n",
      "    for station in buckets[i]:\n",
      "        heirarchy[station]=i"
     ],
     "language": "python",
     "metadata": {},
     "outputs": [],
     "prompt_number": 61
    },
    {
     "cell_type": "code",
     "collapsed": false,
     "input": [
      "len(heirarchy.keys())"
     ],
     "language": "python",
     "metadata": {},
     "outputs": [
      {
       "metadata": {},
       "output_type": "pyout",
       "prompt_number": 62,
       "text": [
        "79454"
       ]
      }
     ],
     "prompt_number": 62
    },
    {
     "cell_type": "markdown",
     "metadata": {},
     "source": [
      "##Visualizing the buckets of stations"
     ]
    },
    {
     "cell_type": "code",
     "collapsed": false,
     "input": [
      "lons = []\n",
      "lats = []\n",
      "for station in heirarchy.keys():\n",
      "    lons.append(get_station_info(station)['longitude'])\n",
      "    lats.append(get_station_info(station)['latitude'])\n",
      "plot_data=heirarchy.values()"
     ],
     "language": "python",
     "metadata": {},
     "outputs": [],
     "prompt_number": 65
    },
    {
     "cell_type": "code",
     "collapsed": false,
     "input": [
      "lonmin=-180;lonmax=180;latsmin=-80;latsmax=80;\n",
      "plt.figure(figsize=(15,10),dpi=300)\n",
      "m = Basemap(projection='merc',llcrnrlat=latsmin,urcrnrlat=latsmax,\\\n",
      "            llcrnrlon=lonmin,urcrnrlon=lonmax,lat_ts=20,resolution='i')\n",
      "m.drawcoastlines()\n",
      "m.fillcontinents(color='white')#,lake_color='aqua')\n",
      "\n",
      "# draw parallels and meridians.\n",
      "parallels = np.arange(-80,81,10.)\n",
      "# labels = [left,right,top,bottom]\n",
      "m.drawparallels(parallels,labels=[False,True,True,False])\n",
      "meridians = np.arange(10.,351.,20.)\n",
      "m.drawmeridians(meridians,labels=[True,False,False,True])\n",
      "\n",
      "m.drawmapboundary(fill_color='black')#fill_color='aqua'#\n",
      "\n",
      "# draw map with markers for locations\n",
      "colors=plot_data\n",
      "x,y=m(lons,lats)\n",
      "cs=m.scatter(x,y,c=colors,marker='o',cmap=cm.prism,lw=0,zorder=2,s=10)\n",
      "colbar = m.colorbar(cs,location='bottom',pad=\"5%\")\n",
      "\n",
      "plt.title('Buckets of station')\n",
      "plt.show()"
     ],
     "language": "python",
     "metadata": {},
     "outputs": [
      {
       "metadata": {},
       "output_type": "display_data",
       "png": "[encoded data removed]",
       "text": [
        "<matplotlib.figure.Figure at 0xa2bbb690>"
       ]
      }
     ],
     "prompt_number": 74
    },
    {
     "cell_type": "markdown",
     "metadata": {},
     "source": [
      "## Saving the heirarchy using pickle"
     ]
    },
    {
     "cell_type": "code",
     "collapsed": false,
     "input": [
      "import pickle\n",
      "f=open('heirarchy','wb')\n",
      "pickle.dump(heirarchy,f)\n",
      "f.close()"
     ],
     "language": "python",
     "metadata": {},
     "outputs": [],
     "prompt_number": 68
    },
    {
     "cell_type": "code",
     "collapsed": false,
     "input": [
      "import pickle\n",
      "f=open('heirarchy','rb')\n",
      "r_heirarchy=pickle.load(f)"
     ],
     "language": "python",
     "metadata": {},
     "outputs": [],
     "prompt_number": 69
    },
    {
     "cell_type": "code",
     "collapsed": false,
     "input": [
      "heirarchy==r_heirarchy"
     ],
     "language": "python",
     "metadata": {},
     "outputs": [
      {
       "metadata": {},
       "output_type": "pyout",
       "prompt_number": 70,
       "text": [
        "True"
       ]
      }
     ],
     "prompt_number": 70
    }
   ],
   "metadata": {}
  }
 ]
}