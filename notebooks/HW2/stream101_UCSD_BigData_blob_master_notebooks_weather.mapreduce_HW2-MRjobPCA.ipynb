{
 "metadata": {
  "name": "",
  "signature": "sha256:b847b90a7d892312576158f2e70eddf67a99dd831392c378c9bb34a487ccb8a6"
 },
 "nbformat": 3,
 "nbformat_minor": 0,
 "worksheets": [
  {
   "cells": [
    {
     "cell_type": "markdown",
     "metadata": {},
     "source": [
      "##Part2: Perform PCA on MapReduce\n",
      "This notebook takes the result from part 1 as input and perform PCA analysis on a MapReduce framework. We independently apply PCA for each partition.\n"
     ]
    },
    {
     "cell_type": "code",
     "collapsed": false,
     "input": [
      "import pandas as pd\n",
      "import numpy as np\n",
      "import sklearn as sk\n",
      "import sys,os\n",
      "\n",
      "cwd=os.getcwd()\n",
      "path=cwd.split('/')\n",
      "home_dir='/'.join(path[:-2])\n",
      "print home_dir\n",
      "sys.path.append(home_dir+'/utils')\n",
      "from find_waiting_flow import *\n",
      "from AWS_keypair_management import *"
     ],
     "language": "python",
     "metadata": {},
     "outputs": [
      {
       "output_type": "stream",
       "stream": "stdout",
       "text": [
        "/home/ubuntu/UCSD_BigData\n"
       ]
      }
     ],
     "prompt_number": 23
    },
    {
     "cell_type": "code",
     "collapsed": false,
     "input": [
      "import pickle\n",
      "Creds= pickle.load(open('/home/ubuntu/Vault/Creds.pkl','rb'))\n",
      "print Creds.keys()\n",
      "print Creds['mrjob'].keys()\n",
      "pair=Creds['mrjob']\n",
      "key_id=pair['key_id']\n",
      "secret_key=pair['secret_key']\n",
      "ID=pair['ID']\n",
      "print ID\n",
      "\n",
      "job_flow_id=find_waiting_flow(key_id,secret_key)\n",
      "print job_flow_id"
     ],
     "language": "python",
     "metadata": {},
     "outputs": [
      {
       "output_type": "stream",
       "stream": "stdout",
       "text": [
        "['launcher', 'mrjob']\n",
        "['key_id', 'secret_key', 's3_logs', 'ID', 's3_scratch']\n",
        "x7jin\n",
        "<boto.emr.emrobject.JobFlow object at 0x5032350>"
       ]
      },
      {
       "output_type": "stream",
       "stream": "stdout",
       "text": [
        " no_script.yoavfreund.20140526.014348.966938 j-6T8VIKMY8RHX WAITING\n",
        "<boto.emr.emrobject.JobFlow object at 0x5059a50> no_script.yoavfreund.20140526.014403.503214 j-31UKS93V80CN7 WAITING\n",
        "j-31UKS93V80CN7\n"
       ]
      }
     ],
     "prompt_number": 24
    },
    {
     "cell_type": "code",
     "collapsed": false,
     "input": [
      "data_dir=home_dir+'/data/weather'\n",
      "print data_dir\n",
      "%cd $data_dir"
     ],
     "language": "python",
     "metadata": {},
     "outputs": [
      {
       "output_type": "stream",
       "stream": "stdout",
       "text": [
        "/home/ubuntu/UCSD_BigData/data/weather\n",
        "/home/ubuntu/UCSD_BigData/data/weather\n"
       ]
      }
     ],
     "prompt_number": 25
    },
    {
     "cell_type": "markdown",
     "metadata": {},
     "source": [
      "###Step 1: Merge the partition index of each station\n",
      "We first attach the raw measurements of each station with their partition index. The index information has been saved in station_weight.pkl. Now we use MapReduce to merge this index with each record in ALL.csv. "
     ]
    },
    {
     "cell_type": "code",
     "collapsed": false,
     "input": [
      "%%writefile MrjobPCA.py\n",
      "#!/usr/bin/python\n",
      "import re,pickle,base64,zlib\n",
      "from sys import stderr\n",
      "import sys\n",
      "sys.path.append('/usr/lib/python2.6/dist-packages') # a hack because anaconda made mrjob unreachable\n",
      "from mrjob.job import MRJob\n",
      "from mrjob.protocol import *\n",
      "import traceback\n",
      "from functools import wraps\n",
      "from sys import stderr\n",
      "import numpy as np\n",
      "\n",
      "\n",
      "\n",
      "def loads(eVal):\n",
      "    \"\"\" Decode a string into a value \"\"\"\n",
      "    return pickle.loads(zlib.decompress(base64.b64decode(eVal)))\n",
      "\n",
      "def dumps(Value):\n",
      "    \"\"\" Encode a value as a string \"\"\"\n",
      "    return base64.b64encode(zlib.compress(pickle.dumps(Value),9))\n",
      "\n",
      "def load(line):\n",
      "    (key,eVal)=line.split('\\t')\n",
      "    #Value=pickle.loads(zlib.decompress(base64.b64decode(eVal)))\n",
      "    return(key,loads(eVal))\n",
      "\n",
      "#Merge weather raw data with its node index\n",
      "class MRMerge(MRJob):\n",
      "    def __init__(self, *args, **kwargs):\n",
      "        super(MRMerge, self).__init__(*args, **kwargs)\n",
      "        self.partitions = {}\n",
      "    \n",
      "    def configure_options(self):\n",
      "        super(MRMerge,self).configure_options()\n",
      "        self.add_file_option('--partitions')\n",
      "        #This loads the lookup file into a field on the object\n",
      "        \n",
      "    def mapper_init(self):\n",
      "        f= open(self.options.partitions,'rb')\n",
      "        for line in f.readlines():\n",
      "            (station,Value)=load(line)\n",
      "            self.partitions[station] = Value['index']\n",
      "        f.close()\n",
      "    \n",
      "    def check_integrity(self,meas,year,days):\n",
      "        year=int(year)\n",
      "        if year<1000 or year > 2014: return False\n",
      "        if meas=='': return False\n",
      "        if len(days) != 365: return False\n",
      "        return True  \n",
      "     \n",
      "    def mapper(self, _, line):  # should output key,value\n",
      "        try:\n",
      "            self.increment_counter('MrJob Counters','mapper-all',1)\n",
      "            elements=line.split(',')\n",
      "            station = elements[0]\n",
      "            meas = elements[1]\n",
      "            year = elements[2]\n",
      "            days = elements[3:]\n",
      "            if self.check_integrity(meas,year,days)==True:\n",
      "                index = self.partitions[station]\n",
      "                v = {'year':year, 'meas':meas, 'index':index,'days':days}\n",
      "                yield(station,dumps(v))\n",
      "        except Exception as e: \n",
      "            self.increment_counter('MrJob Counters','mapper-error',1)\n",
      "            stderr.write('Error:')\n",
      "            stderr.write(str(e))\n",
      "            pass\n",
      "\n",
      "    def reducer(self,station,vectors):   \n",
      "        try:\n",
      "            self.increment_counter('MrJob Counters','reducer-all',1)\n",
      "            station_year={}\n",
      "            index = -1\n",
      "            for vector in vectors:\n",
      "                d = loads(vector)\n",
      "                year = d['year']\n",
      "                index = d['index']\n",
      "                if year not in station_year:\n",
      "                    station_year[year] = ['' for i in range(365*2)]\n",
      "                meas = d['meas']\n",
      "                if 'TMAX' == d['meas']:\n",
      "                    station_year[year][0:364] = d['days']  \n",
      "                elif 'TMIN' == d['meas']:\n",
      "                    station_year[year][365:]  = d['days']\n",
      "            for year in station_year:\n",
      "                yield (station, dumps({'index': index, 'year':year, 'data':station_year[year]}))\n",
      "        except Exception as e: \n",
      "            self.increment_counter('MrJob Counters','reducer-error',1)    \n",
      "            stderr.write('Error:')\n",
      "            stderr.write(str(e))\n",
      "            traceback.print_exc(file=stderr) \n",
      "            pass\n",
      "        \n",
      "    \n",
      "if __name__ == '__main__':\n",
      "    MRMerge.run()"
     ],
     "language": "python",
     "metadata": {},
     "outputs": [
      {
       "output_type": "stream",
       "stream": "stdout",
       "text": [
        "Overwriting MrjobPCA.py\n"
       ]
      }
     ],
     "prompt_number": 44
    },
    {
     "cell_type": "code",
     "collapsed": false,
     "input": [
      "!python MrjobPCA.py -r emr --emr-job-flow-id $job_flow_id  $data_dir/ALL.head.csv --partitions ./station_weight_v2.pkl "
     ],
     "language": "python",
     "metadata": {},
     "outputs": [
      {
       "output_type": "stream",
       "stream": "stdout",
       "text": [
        "using configs in /home/ubuntu/.mrjob.conf\r\n"
       ]
      },
      {
       "output_type": "stream",
       "stream": "stdout",
       "text": [
        "creating tmp directory /tmp/MrjobPCA.ubuntu.20140526.181110.383595\r\n"
       ]
      },
      {
       "output_type": "stream",
       "stream": "stdout",
       "text": [
        "Copying non-input files into s3://xinxin.bucket/scratch/MrjobPCA.ubuntu.20140526.181110.383595/files/\r\n"
       ]
      },
      {
       "output_type": "stream",
       "stream": "stdout",
       "text": [
        "Adding our job to existing job flow j-31UKS93V80CN7\r\n"
       ]
      },
      {
       "output_type": "stream",
       "stream": "stdout",
       "text": [
        "Job launched 30.5s ago, status RUNNING: Running step (MrjobPCA.ubuntu.20140526.181110.383595: Step 1 of 1)\r\n"
       ]
      },
      {
       "output_type": "stream",
       "stream": "stdout",
       "text": [
        "Job launched 61.2s ago, status RUNNING: Running step (MrjobPCA.ubuntu.20140526.181110.383595: Step 1 of 1)\r\n"
       ]
      },
      {
       "output_type": "stream",
       "stream": "stdout",
       "text": [
        "Job launched 91.7s ago, status RUNNING: Running step (MrjobPCA.ubuntu.20140526.181110.383595: Step 1 of 1)\r\n"
       ]
      },
      {
       "output_type": "stream",
       "stream": "stdout",
       "text": [
        "Job completed.\r\n",
        "Running time was 86.0s (not counting time spent waiting for the EC2 instances)\r\n",
        "ec2_key_pair_file not specified, going to S3\r\n",
        "Fetching counters from S3...\r\n",
        "Waiting 5.0s for S3 eventual consistency\r\n"
       ]
      },
      {
       "output_type": "stream",
       "stream": "stdout",
       "text": [
        "Counters may not have been uploaded to S3 yet. Try again in 5 minutes with: mrjob fetch-logs --counters j-31UKS93V80CN7\r\n",
        "Counters from step 1:\r\n",
        "  (no counters found)\r\n",
        "Streaming final output from s3://xinxin.bucket/scratch/MrjobPCA.ubuntu.20140526.181110.383595/output/\r\n"
       ]
      },
      {
       "output_type": "stream",
       "stream": "stdout",
       "text": [
        "\"IN003040900\"\t\"eNrTSCkw4ApWz8xLSa1Q5yow5PI0tuQqDlZPSSxJBPKNuDRyCoyBCoBsE67E9FE8ikfxKB7Fo3gUj+JRPIpHMVUxsPFdmZpYBGxwmwLb3YaWZuZAphlXsR4AeYH8SA==\"\r\n",
        "\"IN003040900\"\t\"eNrTSCkw4ApWz8xLSa1Q5yow5PI0tuQqDlZPSSxJBPKNuDRyCoyBCoBsE67E9FE8ikfxKB7Fo3gUj+JRPIpHMVUxsPFdmZpYBGxwmwLb3YaWpsZAphlXsR4AeVj8Qw==\"\r\n",
        "\"IN003040900\"\t\"eNrTSCkw4ApWz8xLSa1Q5yow5PI0tuQqDlZPSSxJBPKNuDRyCoyBCoBsE67E9FE8ikfxKB7Fo3gUj+JRPIpHMVUxsPFdmZpYBGxwmwLb3YaWpkZAphlXsR4AeVD8Qg==\"\r\n",
        "\"IN003040900\"\t\"eNrTSCkw4ApWz8xLSa1Q5yow5PI0tuQqDlZPSSxJBPKNuDRyCoyBCoBsE67E9FE8ikfxKB7Fo3gUj+JRPIpHMVUxsPFdmZpYBGxwmwLb3YaWJhZAphlXsR4AeXf8Rw==\"\r\n",
        "\"IN003040900\"\t\"eNrTSCkw4ApWz8xLSa1Q5yow5PI0tuQqDlZPSSxJBPKNuDRyCoyBCoBsE67E9FE8ikfxKB7Fo3gUj+JRPIpHMVUxsPFdmZpYBGxwmwLb3YaWJpZAphlXsR4AeX/8SA==\"\r\n",
        "\"IN003040900\"\t\"eNrTSCkw4ApWz8xLSa1Q5yow5PI0tuQqDlZPSSxJBPKNuDRyCoyBCoBsE67E9FE8ikfxKB7Fo3gUj+JRPIpHMVUxsPFdmZpYBGxwmwLb3YaWJkZAphlXsR4AeUf8QQ==\"\r\n",
        "\"IN003040900\"\t\"eNrTSCkw4ApWz8xLSa1Q5yow5PI0tuQqDlZPSSxJBPKNuDRyCoyBCoBsE67E9FE8ikfxKB7Fo3gUj+JRPIpHMVUxsPFdmZpYBGxwmwLb3YaWJsZAphlXsR4AeU/8Qg==\"\r\n",
        "\"IN003040900\"\t\"eNrTSCkw4ApWz8xLSa1Q5yow5PI0tuQqDlZPSSxJBPKNuDRyCoyBCoBsE67E9FE8ikfxKB7Fo3gUj+JRPIpHMVUxsPFdmZpYBGxwmwLb3YaWZmZAphlXsR4AeXn8Rw==\"\r\n",
        "\"IN003040900\"\t\"eNrTSCkw4ApWz8xLSa1Q5yow5PI0tuQqDlZPSSxJBPKNuDRyCoyBCoBsE67E9FE8ikfxKB7Fo3gUj+JRPIpHMVUxsPFdmZpYBGxwmwLb3YaWJoZAphlXsR4AeT/8QA==\"\r\n",
        "\"IN003040900\"\t\"eNrTSCkw4ApWz8xLSa1Q5yow5PI0tuQqDlZPSSxJBPKNuDRyCoyBCoBsE67E9FE8ikfxKB7Fo3gUj+JRPIpHMVUxsPFdmZpYBGxwmwLb3YaWJmZAphlXsR4AeWf8RQ==\"\r\n",
        "\"IN003040900\"\t\"eNrTSCkw4ApWz8xLSa1Q5yow5PI0tuQqDlZPSSxJBPKNuDRyCoyBCoBsE67E9FE8ikfxKB7Fo3gUj+JRPIpHMVUxsPFdmZpYBGxwmwLb3YaWJuZAphlXsR4AeW/8Rg==\"\r\n",
        "\"IN003040900\"\t\"eNrTSCkw4ApWz8xLSa1Q5yow5PI0tuQqDlZPSSxJBPKNuDRyCoyBCoBsE67E9FE8ikfxKB7Fo3gUj+JRPIpHMVUxsPFdmZpYBGxwmwLb3YaWJiZAphlXsR4AeVf8Qw==\"\r\n",
        "\"IN003040900\"\t\"eNrTSCkw4ApWz8xLSa1Q5yow5PI0tuQqDlZPSSxJBPKNuDRyCoyBCoBsE67E9FE8ikfxKB7Fo3gUj+JRPIpHMVUxsPFdmZpYBGxwmwLb3YaWJqZAphlXsR4AeV/8RA==\"\r\n",
        "\"IN003040900\"\t\"eNrTSCkw4ApWz8xLSa1Q5yow5PI0tuQqDlZPSSxJBPKNuDRyCoyBCoBsE67E9FE8ikfxKB7Fo3gUj+JRPIpHMVUxsPFdmZpYBGxwmwLb3YaWpqZAphlXsR4AeWj8RQ==\"\r\n",
        "\"IN003040900\"\t\"eNrTSCkw4ApWz8xLSa1Q5yow5PI0tuQqDlZPSSxJBPKNuDRyCoyBCoBsE67E9FE8ikfxKB7Fo3gUj+JRPIpHMVUxsPFdmZpYBGxwmwLb3YaWpiZAphlXsR4AeWD8RA==\"\r\n",
        "\"IN003040900\"\t\"eNrTSCkw4ApWz8xLSa1Q5yow5PI0tuQqDlZPSSxJBPKNuDRyCoyBCoBsE67E9FE8ikfxKB7Fo3gUj+JRPIpHMVUxsPFdmZpYBGxwmwLb3YaWpuZAphlXsR4AeXj8Rw==\"\r\n",
        "\"IN003040900\"\t\"eNrTSCkw4ApWz8xLSa1Q5yow5PI0tuQqDlZPSSxJBPKNuDRyCoyBCoBsE67E9FE8ikfxKB7Fo3gUj+JRPIpHMVUxsPFdmZpYBGxwmwLb3YaWpmZAphlXsR4AeXD8Rg==\"\r\n",
        "\"IN003040900\"\t\"eNrTSCkw4ApWz8xLSa1Q5yow5PI0tuQqDlZPSSxJBPKNuDRyCoyBCoBsE67E9FE8ikfxKB7Fo3gUj+JRPIpHMVUxsPFdmZpYBGxwmwLb3YaWxuZAphlXsR4AeWb8RQ==\"\r\n",
        "\"IN003040900\"\t\"eNrTSCkw4ApWz8xLSa1Q5yow5PI0tuQqDlZPSSxJBPKNuDRyCoyBCoBsE67E9FE8ikfxKB7Fo3gUj+JRPIpHMVUxsPFdmZpYBGxwmwLb3YaWxmZAphlXsR4AeV78RA==\"\r\n",
        "\"IN003040900\"\t\"eNrTSCkw4ApWz8xLSa1Q5yow5PI0tuQqDlZPSSxJBPKNuDRyCoyBCoBsE67E9FE8ikfxKB7Fo3gUj+JRPIpHMVUxsPFdmZpYBGxwmwLb3YaWxqZAphlXsR4AeVb8Qw==\"\r\n",
        "\"IN003040900\"\t\"eNrTSCkw4ApWz8xLSa1Q5yow5PI0tuQqDlZPSSxJBPKNuDRyCoyBCoBsE67E9FE8ikfxKB7Fo3gUj+JRPIpHMVUxsPFdmZpYBGxwmwLb3YaWxiZAphlXsR4AeU78Qg==\"\r\n",
        "\"IN003040900\"\t\"eNrTSCkw4ApWz8xLSa1Q5yow5PI0tuQqDlZPSSxJBPKNuDRyCoyBCoBsE67E9FE8ikfxKB7Fo3gUj+JRPIpHMVUxsPFdmZpYBGxwmwLb3YaWxpZAphlXsR4AeXb8Rw==\"\r\n",
        "\"IN003040900\"\t\"eNrTSCkw4ApWz8xLSa1Q5yow5PI0tuQqDlZPSSxJBPKNuDRyCoyBCoBsE67E9FE8ikfxKB7Fo3gUj+JRPIpHMVUxsPFdmZpYBGxwmwLb3YaWxhZAphlXsR4AeW78Rg==\"\r\n",
        "\"IN003040900\"\t\"eNrTSCkw4ApWz8xLSa1Q5yow5PI0tuQqDlZPSSxJBPKNuDRyCoyBCoBsE67E9FE8ikfxKB7Fo3gUj+JRPIpHMVUxsPFdmZpYBGxwmwLb3YaWppZAphlXsR4AeYj8SQ==\"\r\n",
        "\"IN003040900\"\t\"eNrTSCkw4ApWz8xLSa1Q5yow5PI0tuQqDlZPSSxJBPKNuDRyCoyBCoBsE67E9FE8ikfxKB7Fo3gUj+JRPIpHMVUxsPFdmZpYBGxwmwLb3YaWxsZAphlXsR4AeUb8QQ==\"\r\n",
        "\"IN003040900\"\t\"eNrTSCkw4ApWz8xLSa1Q5yow5PI0tuQqDlZPSSxJBPKNuDRyCoyBCoBsE67E9FE8ikfxKB7Fo3gUj+JRPIpHMVUxsPFdmZpYBGxwmwLb3YaWxkZAphlXsR4AeT78QA==\"\r\n",
        "\"IN003040900\"\t\"eNrTSCkw4ApWz8xLSa1Q5yow5PI0tuQqDlZPSSxJBPKNuDRyCoyBCoBsE67E9FE8ikfxKB7Fo3gUj+JRPIpHMVUxsPFdmZpYBGxwmwLb3YaWpoZAphlXsR4AeUj8QQ==\"\r\n",
        "\"IN003040900\"\t\"eNrTSCkw4ApWz8xLSa1Q5yow5PI0tuQqDlZPSSxJBPKNuDRyCoyBCoBsE67E9FE8ikfxKB7Fo3gUj+JRPIpHMVUxsPFdmZpYBGxwmwLb3YaWJgZAphlXsR4AeTf8Pw==\"\r\n",
        "\"IN003040900\"\t\"eNrTSCkw4ApWz8xLSa1Q5yow5PI0tuQqDlZPSSxJBPKNuDRyCoyBCoBsE67E9FE8ikfxKB7Fo3gUj+JRPIpHMVUxsPFdmZpYBGxwmwLb3YaWpgZAphlXsR4AeUD8QA==\"\r\n",
        "\"RSM00024933\"\t\"eNrTSCkw4ApWz8xLSa1Q5yow5PI0M+YqDlZPSSxJBPKNuDRyCoyBCoBsE67E9FE8ikfxKB7Fo3gUj+JRPIpHMVUxsPFdmZpYBGxwmwLb3YaW5mZAphlXsR4AVr38RQ==\"\r\n",
        "\"RSM00024933\"\t\"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\"\r\n",
        "\"RSM00024933\"\t\"eNrtmcFuHjcMhO9+EeeSYklJK+kRcs4TGEgQFCiKoOmhffuu5pv1Lxe9NwdffogriTOiuLOk/eHL9+Pp8/Ovv3/5+tfz0/d4+nSWpx+fn7+8/Ply2fn04bfv5VrwsRztsuvTyzXOUq5x83hc41PjkvMad8a1XuPBmlhrpsaR63kcGHVNRLDq0Eza0Exh2bmwA/A4FkgY/YhlAJ990YruPfI2DNqXYQbnMhIGJZaDNIOxXKcZzOUgi095LqNuR04zqHJw2nUu42Ygb2ag86QZtMWgwCBzuS5mkOsIBQYhBsUMjuW6OAZ9BaQ0e9Oyc3fdt4AUM+iLaDGDsrjV+xZkmIGOUB2DeizDt1AX0WoGoWUw6NoPgannjsBYkHVs91bBP9dEA168WnjROksDfWrC4G3tboD3RaQJew18cgWogayLbACPFfkm3LXi9KFXBE+jNk3kljhn2ZyewI4VzbM9DnCC3BadE+Cq9U77FbyTAy+0LuS6vHQBK3W6YLW2CzQX3y7I1DYhKgG7AIvWgte0+I7wGoNXVhqMC/DbHZ6+Vo47zMvb4MBiMcrjLgbHPRfR0R5HH75hOQJ+CmYY5sY65R0ifQVkOtXXcSYUisYOeV8hnw75kFF3w4mu4M77uhf0tNgs2tNR0A6BSzUOYQdjYSs2182+xjIOQQfP/ZJr3B4XecWMUGgs3IJT4QYbLtxvhmyaRemuRzKE34WD0KFsS+eIINmZyGJ9DamEbWneI84/58911AJZDCQZTY5JEAYJj8F7qRwMNDmVJoEm2wGaHPOUwW1NllWWMaP7isEMDIgwmpx8B9IM2AMDpVOgySaKJie3jCZn6prR5OSa0GRkPNBklDvQ5CD30ORouCZn9FpFMQMZaHJW0UGTHR00OaVVgSanXvmoZoCDtkWnPu7lniYQ/qISCIKHNGfn8wqNLv+IM1/xQJz5OgbqnProBOpsTshz6pUNJ/GB0fc9BKLjGga8k34TyCaE2kRPM5A3hLoEM/U/EjIJxdkeTyoIGPqaB/rtAyPgqUIhloLv/kpQZhycSXFAz5O8saI3lpkfy+q+B12nnLmVHaNvIUbcb2Nu2TGOLd4oe6ZSBWVPEm84VRQhtN0vH+J+RVrGueUn8h4I3+COCBqyTkiR9SAe6LqdzT0E0wQw6vaKIuzJqRH2e6ZvWTydJDob0h66/TysGIcMGAyM/JcsNR6jHYUSEC7Sm0Tr48DQHr2eidbb63g9fR5z222ZV+2QyHxQJqLzbKeelaQl5exkDdgNV5ZRdmyqkShnNPYAr09fopzwtXDqitPCCUkLp968tHBK0BLh5Fzo5mBRf3wA8y5lWTVfC5RENVlk0eQ54CqdkczOmseHLYInbeNs2WRbf/16J6JJVT5diasqdymvk9xlrMZ3RSej7Ks4vGKHYBJhitjGBkFXQdfxWiBkdeDVA2yFTbqGVeOTrmFxexexGMJm6GNrLGghuIjF6XgEoM3tAtBHqJ7x8HOXsXC661gaExeyJ5vao3pNl7K0LK5lPTO2eitdztKeZb+Pj3V3UTRBbiFg1ctWaWevW7OS3VXWyUo3c6C7zE11EulCtxzMzb1rG+ai+jpd6PL5yJF75zfuQlOsXe0myeB6NziDK14DuLUQNpr4ceIeInB0rUvnkK522eRylyDP8mZdfWO1PeZ3xTuxHJGKF0dEPWBOF/+KZDmOrZEthyOihC6Hb6dhvekx7wq4sK/tnamL4CjsMxc1Z+Vw29PwYi5Be2su0sFyd/z0p3fL37DKjnc3/Wojirv+UI1S3Pbzl4bivr9M5sabufnzV87vP+8/7z/vP+8/7z//38+Pz89/f335Q3+EXv8YuLoy/iIdTz9++QfK12Jy\"\r\n",
        "\"RSM00024933\"\t\"eNrTSCkw4ApWz8xLSa1Q5yow5PI0M+YqDlZPSSxJBPKNuDRyCoyBCoBsE67E9FE8ikfxKB7Fo3gUj+JRPIpHMVUxsPFdmZpYBGxwmwLb3YaWFmZAphlXsR4AVsb8Rg==\"\r\n",
        "\"RSM00024933\"\t\"eNrTSCkw4ApWz8xLSa1Q5yow5PI0M+YqDlZPSSxJBPKNuDRyCoyBCoBsE67E9FE8ikfxKB7Fo3gUj+JRPIpHMVUxsPFdmZpYBGxwmwLb3YaWFuZAphlXsR4AVs78Rw==\"\r\n",
        "\"RSM00024933\"\t\"eNrTSCkw4ApWz8xLSa1Q5yow5PI0M+YqDlZPSSxJBPKNuDRyCoyBCoBsE67E9FE8ikfxKB7Fo3gUj+JRPIpHMVUxsPFdmZpYBGxwmwLb3YaWFiZAphlXsR4AVrb8RA==\"\r\n",
        "\"RSM00024933\"\t\"eNrTSCkw4ApWz8xLSa1Q5yow5PI0M+YqDlZPSSxJBPKNuDRyCoyBCoBsE67E9FE8ikfxKB7Fo3gUj+JRPIpHMVUxsPFdmZpYBGxwmwLb3YaW5uZAphlXsR4AVsX8Rg==\"\r\n",
        "\"RSM00024933\"\t\"eNrTSCkw4ApWz8xLSa1Q5yow5PI0M+YqDlZPSSxJBPKNuDRyCoyBCoBsE67E9FE8ikfxKB7Fo3gUj+JRPIpHMVUxsPFdmZpYBGxwmwLb3YaWFkZAphlXsR4AVqb8Qg==\"\r\n",
        "\"RSM00024933\"\t\"eNrTSCkw4ApWz8xLSa1Q5yow5PI0M+YqDlZPSSxJBPKNuDRyCoyBCoBsE67E9FE8ikfxKB7Fo3gUj+JRPIpHMVUxsPFdmZpYBGxwmwLb3YaWFsZAphlXsR4AVq78Qw==\"\r\n",
        "\"RSM00024933\"\t\"eNrTSCkw4ApWz8xLSa1Q5yow5PI0M+YqDlZPSSxJBPKNuDRyCoyBCoBsE67E9FE8ikfxKB7Fo3gUj+JRPIpHMVUxsPFdmZpYBGxwmwLb3YaWFgZAphlXsR4AVpb8QA==\"\r\n",
        "\"RSM00024933\"\t\"eNrTSCkw4ApWz8xLSa1Q5yow5PI0M+YqDlZPSSxJBPKNuDRyCoyBCoBsE67E9FE8ikfxKB7Fo3gUj+JRPIpHMVUxsPFdmZpYBGxwmwLb3YaWFoZAphlXsR4AVp78QQ==\"\r\n",
        "\"RSM00024933\"\t\"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\"\r\n",
        "\"RSM00024933\"\t\"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\"\r\n",
        "\"RSM00024933\"\t\"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\"\r\n",
        "\"RSM00024933\"\t\"eNrtmEGOLScMRedvI/0nPyoMFLCEjHsFLfXXV6QoaqUzSHaf4p5LF1G28CZPuDD4YpuL/b69fxyP15ff/nj/8ffL4yM9fj3z4/P15f3tr7dLjse33z/ypfA9Sr/k8ni7xjnGNa4apx7X+PT4uMYNnZavcdc4crvGwzpl2jkQ2twoJYQ8d0qBEFLLCKeEZVwC1vPQGsxHpCk0C9N+AkA/5xgAYyoF9uOYy8P2Y6IM7Le5Imy+SqvsSzAfY2KJc9u4ea/prcB6QmvYF1PItp8myJy2nXPsM+v8Eop3mzCzz1+0GwBKaAMhmAOslzSPkof9NYVyWf/p6TgV17R/mQaKcRD2vIEqxnHO2JW6Rag4DepMg9JurxR2rhqDpM1xdRqUuW9Nt+dr3Hhwf83bF0W97jiqcSTNgIMJB+SYh6p9y7TqhGxKYCOpdQpOiFMzdoRicNoRzJQtCU5nxDHPftoRivUJgnOe6+zb2Akxxw3z03hzNky/N9vWd0zLcvPR88TUfPSsFed23IblolvZbwsynOawy65GmFXouu/gMWPU8x2WXpxoc+wM1AKs1nnc7rhLZ7t+3ddvjoe9fcwFw94+5mEGphWG4exP08QoN4yB6aqxD5zm6Ydtz8CPxT1zPG5HpOPwVZAg48rrdMj2yVi2e9VYppPuUTpkW1ckHbJd+d5Qgt06HkYLd5/aC+JLISQQXwIWxAdTwXu6egnaG+hUjCCcXzdisLcgKJ0TxGc4MF9ib6gvspZAfVBKgvpSYUYQruNKEIbG+rpPnCxhpt1IoT5xS4L5oMQE83HPEsyHlyG+U6vhvcETgPcDJYzD7fl2QPI6IQiweaYhgKFJrTgIei5K2tRgPd60BOt5N1jPPoT1LgAS8EFmN9KgYsdpgJqDIDWILxEEiA9yTTUIjzaoIODs8B10l+A724HvElkA4QXYILzAOxBeECAILx8IQpB1hxKEl0kyCC+aEgTCC2IH4UVCEIIQjycIb6mBgESE8gLUcF40zcB6xgbtBXkB7wUhgfiWAAJiCvGtNSDozPSvNFkLByeU0HdHwIJZxJe6Ycjh/X5/gqvc7Q05erLhmh4ssEvYqm2r+YJQ5fK++wVyDNcsaRd2v8COxjLZce2vRyGNBej+mdoyB2eaAsYGLSnM415wZa2+kLt6NgP+5MUP86dSLyDQEJ/Fke/Ui8NxU1V01DvwAYdGzRLanfxhElXqhUlU+RGQKE9tpO3+BiQaibIu3xka0CiXOeDRJZz3nQ84dK3p98UMSNRbm0T1dgckSvJH2Ac6qUmU+g8S5c6HWVSkEWZR79Zujg9oVAkV0KjiHbAojoZE/Z1HRC7L9yMSkCh1LByKv6gcrQ99o9+/yDigTvRhTnFYQJysNW8GSvmm5Cj2u1xg3sRGcRYitC11zJtK+ij2u9Sq/S6HwJt0CgFv2tXwJuVRwJtU59Bm47vsFxY07r3Gd6UUUCZFPkeXCnzZGMcW1jPfHB1n2fwAXXosy+gQbT6Tbowvwz9XTaa+wiWTxqs+lRB3bROQpY4HVaLvCpGNcLvCBk+qnAsKxMx3Uk2Lu+lI47tNQBGKVE0aFIo4BW6EInq9j+hCUUVg7JViwIe416VikofG1qxQKsWqGMVmMVbHJLguGnmxwlVjZLZyja7yO1w5+qpuNPjdN9EV5FXNSRobhOwiMslH+ViAqqSteeFFy8dCpV7scPneUXd0CtK59b/5WO2kGsBjwcPo2Iro7I5aDJvTXlLntDdT9IirsbZU/qMOns7U3lrn1VuL7rOb6wI4t9cl0cWuIlvr3GHnLs1YHZV2+WqykVZnI0e5zfYmq7Vhyp7JzAGlYRskYqnsTnvQTi+/SHCX09DLWzeY3WsH7XVevd2QdG7NV87GUdhlNagKg5turyt2CfiL2zzdl7y6bZC53U64a/XblV3qfu5y/u+Vf/48f54/z5/nz/Pn+fP18/n68s+Ptz/1aLbH7BT0H16+eo3PX/4FlWeLTA==\"\r\n",
        "\"RSM00024933\"\t\"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\"\r\n",
        "\"RSM00024933\"\t\"eNrtl0GOJScQRPf/Ij2btioTioIjzLpP0FKPLEuWNfJ4Yd/en3hRVcwJLEu9KIksICMygSD58vF9e7y9/PbHx7e/Xx7f4/G1lcePt5eP97/en3Y+vvz+vTwHPNv18f7rf/S9vbyO8aSw02zPZlMzan+2D9oxh3SG1Gdz0JwjYlvaoXaJbRp5IZQs80eRkTWnQU+OfRr7NTRbzB/NhnohkcckF93GZBTDxnSfEMmc4BmnxyiTcCaB9OkwIRJjQqWToI4lC+k0bBMonYcm36aQmjLcMymUzXNkhHMnw/g501SMv0+cUs1s4pQ7EW1mqUCiaBYcykQt3e5mWwxmqwo+ZrwV8JwRVrCPY7bL7bwukVciV3y13VmogO7yA6iSXZ15ZWc/My8j7o01ae+g7xN9X9D3enveQddvR6y2F34S2R2xhgs8FGhzyutk3pxyzWhOecgwstrelNNVM/LMQRN0kSOQBdBvQo2oNeQAuM64DuGGmkKN6e84l3m2hakEHYLcdbqEWDXguNbuEGJVk0h1+lhc7e4OnjZTB1Ah93LR7vXy1/e72Rg8mwKUZ+EpHX1chIbwyhwwgBONkXfuh+CamoLr08cQXJ8YQ3AoxnEPEF5s+k2Amw79Jsgurdji8hIbmBtGgYCUYfMRZwpxinJsRNqYQ3KRlg14HYfn6SY3GoaUaXUDKRsaFMLXAQ1EDF5oWCBFAfpeZYDecWV0evotSoF+HQolvb7qWORrk7Bmrr3lXo9Av2LHEImEBAoWQ1xRsDgw+uV+MBQN0VGJqWL0JrlAyQ6NRMicZITs6VvG6rBAJAWHimVljohkA6qDyxyTkDe0LHGNmoUUKZCzDOUFPUvygqBlMswMBIqkGRRNywMHMGBroGrJSqFqSaR70KONhqRlkTc0LfC2ezHEeve5o4fF2LnuWIwODjtiKNWWNvZd25Z40Lbo9LAKurkDbcudi5Mc6NKJdl0nvi/buhKInANsax6mznkeHBG7ZCuhdgk4elfYcVPxmFeKeFr2OGsI3xNWhvMhvFP8cN+XrYcAJsele0XkAA1M9j0i6Ex150Mp6HUh2308GEYuUJW+5qL3ZbcgiTnkDVFMyVggi1kxWBFdB4EwUhPE8J5QPIgj12YMH1BtkGGVEKglkuCskepJNDIGFU/c3tIq6Z5yC2NaJSvDrJJ4a7eCpVWyY/SbW1olqaRQSVYukUm7jrwlMMM5oKcurk+llGsrZdIDA91PaaVMvI3Fm6US1kkOdB+kZbJR8pU7iWmZrPTsS0Ytk+451prRFxXDxnWXJXWebsxEHLXuiTiqFEm08WC8pVxMkEZ3UHLQFjTrgi4G/8d1ZyeqSBYsipsCr7lQreUufmW74GHafpUU6UqPXXKWegD1uzpLF3uqv9PFno5A7i64NiwXmvK9XyTOsUvZlWfFp1S55tN+cM1HGlz0eYofHZriso/lcNmnM55n2afSN133dSr6eheB6cpPapTNxb4ouPjT3ZUu/8LOXe2zei4BUyV5Hi65AUYXnwEqty4FkzwdLvkPhYIsvnaMtvA9/OogGYeZcG6OsT5o+rai9bP417yeK7ZLRB+ebiYcv74v4L0tmwZ5fNVlkN1EWNZ+EtGscdUOr1aIcb8HfKxGLs+fRCtfka1R1/2EWL5ahEb7aZordIy+0BvnGoVeZOsale18oNIHkaJ7pyCZz4APWd6t2vQF0Xz2YTk1fvMdP1nesgWfY7X8VC4iXa7HMlauzM6nsm77cr6VtV/K+lhW6Vj8Wi4bKN6+A8uP1c7ccc/V8pXz1awneznrzs/v8/v8Pr/P7//z/Xh7+efb+5+S8XzouYzCl8ePX/4F33AKqQ==\"\r\n",
        "\"RSM00024933\"\t\"eNrTSCkw4ApWz8xLSa1Q5yow5PI0M+YqDlZPSSxJBPKNuDRyCoyBCoBsE67E9FE8ikfxKB7Fo3gUj+JRPIpHMVUxsPFdmZpYBGxwmwLb3YaWFhZAphlXsR4AVtb8SA==\"\r\n",
        "\"RSM00024933\"\t\"eNrTSCkw4ApWz8xLSa1Q5yow5PI0M+YqDlZPSSxJBPKNuDRyCoyBCoBsE67E9FE8ikfxKB7Fo3gUj+JRPIpHMVUxsPFdmZpYBGxwmwLb3YaWFpZAphlXsR4AVt78SQ==\"\r\n",
        "\"RSM00024933\"\t\"eNrTSCkw4ApWz8xLSa1Q5yow5PI0M+YqDlZPSSxJBPKNuDRyCoyBCoBsE67E9FE8ikfxKB7Fo3gUj+JRPIpHMVUxsPFdmZpYBGxwmwLb3UYGhgZAphlXsR4AVgj8MQ==\"\r\n",
        "\"RSM00024933\"\t\"eNrTSCkw4ApWz8xLSa1Q5yow5PI0M+YqDlZPSSxJBPKNuDRyCoyBCoBsE67E9FE8ikfxKB7Fo3gUj+JRPIpHMVUxsPFdmZpYBGxwmwLb3YaW5pZAphlXsR4AVtX8SA==\"\r\n",
        "\"RSM00024933\"\t\"eNrTSCkw4ApWz8xLSa1Q5yow5PI0M+YqDlZPSSxJBPKNuDRyCoyBCoBsE67E9FE8ikfxKB7Fo3gUj+JRPIpHMVUxsPFdmZpYBGxwmwLb3YaW5hZAphlXsR4AVs38Rw==\"\r\n",
        "\"RSM00024933\"\t\"eNrTSCkw4ApWz8xLSa1Q5yow5PI0M+YqDlZPSSxJBPKNuDRyCoyBCoBsE67E9FE8ikfxKB7Fo3gUj+JRPIpHMVUxsPFdmZpYBGxwmwLb3YaWFqZAphlXsR4AVr78RQ==\"\r\n",
        "\"RSM00024933\"\t\"eNrtmE2OHDcMRvd9EXvjoEiq9HOErH2CAWwYAYLAiLNIbp/m91hdck6QxSwaI1Wp9JEU9STOxy/fj8fnD7/98eXr3x8e3+3xa4/Hj88fvrz99fbs++Pj79/jOeCTxXr22+Mt2z3bp9quds/28+/Qs1jHsz15f2Z78V1EahzqdLWNdo4xf7x9GyUw8kEw20wFQzpMQ0tbOtZ50yw7TNAOTTCrM7OzyrYc5tgQZ75x2ztO58ipPcqHMzvtZV+Y54PLCnX66623lg+qM3p2KhhTs5YlMy2JsiRykrDSS4/Dq5OBitg7tQwrnQyssJk6cVth0oqrI62y4lBn3UNXftuOGpphaFadlGheq6JhZYkC1Fp5nNa3iseZ07debzJ0rWKhNW9lhWnYqtly6rMs0LCzLOANFsiAEwOUFSf6I+VP5BWHE/VTz8vJbEpaKXRWSlquVUdYYejoKmAd2ZUR6XFP35Ht6Vs/KyWyXU5n0DqyM03ouKxU6HfcW/o5KgFy3JC257Ah6UjlIWVPQ0d7OTCkK6khWddsFem0bEg1NFje5mTzeMnnmClFiU8pjpxlSlEJNKU4NFaKSv0pxUhDpyZras6X+VOCSoslB0eavwzzhQTJaQcvyWkRFw6m3JJc+rekpme1lvrqqfbtepCaS5rizVMCJaHjQFbZYId0TR7ZIWWSwI7XBg/R4yDCzCcTmE1DJp/Mrb2QlAqQW3oB5GCfSX3SjlcEDLyxDQy8TVkI3aAecAsEKqXUljIMla6W35Jr+GPKYINti5cssfScoNdX597BbfkN0Mz5hJ0UiJbnEomKvFyMlwnwwqKirxmBmmkbWbR9GEYoJSxIb6IM0BwnAJoT8sAK5Y4Bs1pyYGZEGpiVKDCzUz4BM2u8wQJWsL2w6tpwBtBMILW2JQE8G4oEOCP0Z6Wg5oZm4NvAmQ3Otbb5fZ7b2kE0KG8gzUj1ghoRAWtOEMBaxQquVRQBG8eRQbbrMGUZSDLY5p0Oy6BT0vrYRBNvV3hkX8cKVhnAudPBCvIGxjlLUZRjxeAcB6lBOk5kg3XBboJ2cTAByUCIAR6XD5sHwzR1ES80DOZFDcOCLgfhXsUO8oVJFPY5VxTo512JUPxrDFtb0sHA5wZWx7Y9sGpDyFNAyMlooNDhDzCs8MJDjlaDgOX2woLJBOt2wQGi63B3gOhGh1UQYvyos4ZO2ztYoMD70fc34461Q0R3pt5i4CDRgiuX7W+wIHRtgoqus8ULizpc3c57fby4OIY6ZGPQmTfg3XYLgKOJvu527zv3WgWJgkb2ncPGCpWfm6GwEQR6wVEp5gXHhg4WdO6TWDDkT9jmAmB8WqVOYUmiUVha6sCEybB+E9ljbOZcYKSztg5gvDp2H39eYNTO9wIj/gDGyaj7bHLueETwIqJ8hoh4CRG5+EJEVgYisswAkbDCw3rebjFoSP4Cw5oT4bqRz+0DrgOaqL9uPaeiDQy1gbwueeR/3fJI37rmEdLrnsc3rwOB6cfrZuR112MYl0wcrose6ziq8NEnw7ep4SBmg0ESpCjImJS/znqmGNtbWUDNMu57mM/jdbfyWZWGQj7rSFQ7XhcIn3UaqV1lBi/663LqRUB5BQBZu+TfdT3DlnVfPbnV+6rrwfWTgDJo+c9PIQB85Lbnq6ogUnld9vGu10A+u8oPRs67UsP/VbWASBmQ8lmSNPVsK5Hi8O27OCpZdNzH0fbq6ji3+ieOsofC7ij1ySxzqyt5UgWiljOqXqZwjaqYm3wJyPmpCTVRBXMzRmJPEx6iSubmfFc1M5ZX0RzOd7PU6e0FWvhPsanCmRI3qnIur67SWXQIr7VSjR6J0X1xsdf7lhrh18IrBlU/c0zGVUAHlfGxleFRJXQcvKudpVSNuOKjOauKbtr4UWU0/2wIyPp8J70qops2YlQV3YyRZYtOpagamotVtP+k9/vv/ff+e/+9//7/vx+fP/zz9e1PYdwfWQ4U4ePx45d/Ad/+Lok=\"\r\n",
        "\"RSM00024933\"\t\"eNrtV0mO3DAMvPsjPRcFokhtT8i5X9BAD4IAQTDI5JD8PmYVHXmekMAHA7SaYhW38szL8y1v99vX78/XX7ftTbbPTbf3++35+PnY38v28u1Nd4fdtu3x5Xqu5z967jfNbR/t6maZspsNp9J3s/O07OaAOXQ3J83p25LpnN0WnFt1u8DO8FG3ZXgUMZ57cKk8d0wBqEzcJWqBD2EFcSZ9hm9l5l1zG7hSYQNXmscsxDXHLUbb4xTiNscq7WR3xoQ9FofCfKunrsAtzc+V+Q7PXZlvcw6qJx/mq46rrDHKrY3xPRdlvtlxNXBhB67bRlzkaMRVv2vEFZwT1zy+Ebd47kZccz5G3Iq7xO04B64q7k6OhdewRr4epxK3ex1qWTWpges5VuIKzlnn6fWprPNwrMo6Y9bqYO8Qf676t7z61dhfzFgrq9eN/W2eS7PTOXErZpm43eO3vuatERf9anP1pRMXeXU52THP7t919agTd2JZ6rFSoo7XiY1+dGKjT53YmOk+l/8gNvoxZM3uYM7F4wzmjP0ZtmZ9LOwOP/YZPRzExl4OYpvnNE7YE9go0wQ0NnGWdXpapmmrMLMuF2BiVCYg1VlOTpY3aQLQsO+ZgwXdyCEcsAGZFDYwE/2Bmag5wMQ8Swao0Z+o9B8nOxYJGgXcBlOOmpESNYtXqFmISslKwnNAJ+yPULTSYLROt8xLI97oOPlGSaN2HZ5Ur/0NqVG/EhRXKGBpIAYVLMAoYfslvpFHKGkJIpXhg4ihuiWIYGdEgwimVzSIKHpCQTsS0OiEoIYUtdTpSCqdfgcT+pEJt0Z0fPgtmGBaxfKZswUTTLZYMIGOiAUTKINY9AZ7LxZVafzStEDnvYMLeNrBhW/zVOd6dAdBalAZ/GAFFeVvQWUihWrnllD7UvwUTFi9GkyEIclEoURCCUzG7ylFMFlBVSiDyVjNFnsCxRZKYVLuEMXw7xupFNaPgpiUdaAk7gjgQlFM/N4LZTEV7iiFMcWXm9KYCkvWj7IArx8dQpQeZVF+2eu5X72dp7H3D57RIXw5hTKZtOPeiLpwbcdRF/CkWCaruEe53N8Qc0Rd8EeMHJJ5PddzPddzPf/O836//X59/ICMtw3/OFLv+/b+6Q+PMyVS\"\r\n",
        "\"RSM00024933\"\t\"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\"\r\n",
        "\"RSM00024933\"\t\"eNrTSCkw4ApWz8xLSa1Q5yow5PI0M+YqDlZPSSxJBPKNuDRyCoyBCoBsE67E9FE8ikfxKB7Fo3gUj+JRPIpHMVUxsPFdmZpYBGxwmwLb3YaWloZAphlXsR4AVqf8Qg==\"\r\n",
        "\"RSM00024933\"\t\"eNrTSCkw4ApWz8xLSa1Q5yow5PI0M+YqDlZPSSxJBPKNuDRyCoyBCoBsE67E9FE8ikfxKB7Fo3gUj+JRPIpHMVUxsPFdmZpYBGxwmwLb3YaWlgZAphlXsR4AVp/8QQ==\"\r\n",
        "\"RSM00024933\"\t\"eNrTSCkw4ApWz8xLSa1Q5yow5PI0M+YqDlZPSSxJBPKNuDRyCoyBCoBsE67E9FE8ikfxKB7Fo3gUj+JRPIpHMVUxsPFdmZpYBGxwmwLb3YaWlsZAphlXsR4AVrf8RA==\"\r\n",
        "\"RSM00024933\"\t\"eNrTSCkw4ApWz8xLSa1Q5yow5PI0M+YqDlZPSSxJBPKNuDRyCoyBCoBsE67E9FE8ikfxKB7Fo3gUj+JRPIpHMVUxsPFdmZpYBGxwmwLb3YaWlkZAphlXsR4AVq/8Qw==\"\r\n",
        "\"RSM00024933\"\t\"eNrTSCkw4ApWz8xLSa1Q5yow5PI0M+YqDlZPSSxJBPKNuDRyCoyBCoBsE67E9FE8ikfxKB7Fo3gUj+JRPIpHMVUxsPFdmZpYBGxwmwLb3YaWlqZAphlXsR4AVsf8Rg==\"\r\n",
        "\"RSM00024933\"\t\"eNrTSCkw4ApWz8xLSa1Q5yow5PI0M+YqDlZPSSxJBPKNuDRyCoyBCoBsE67E9FE8ikfxKB7Fo3gUj+JRPIpHMVUxsPFdmZpYBGxwmwLb3YaWliZAphlXsR4AVr/8RQ==\"\r\n",
        "\"RSM00024933\"\t\"eNrTSCkw4ApWz8xLSa1Q5yow5PI0M+YqDlZPSSxJBPKNuDRyCoyBCoBsE67E9FE8ikfxKB7Fo3gUj+JRPIpHMVUxsPFdmZpYBGxwmwLb3YaWluZAphlXsR4AVtf8SA==\"\r\n",
        "\"RSM00024933\"\t\"eNrTSCkw4ApWz8xLSa1Q5yow5PI0M+YqDlZPSSxJBPKNuDRyCoyBCoBsE67E9FE8ikfxKB7Fo3gUj+JRPIpHMVUxsPFdmZpYBGxwmwLb3YaWlmZAphlXsR4AVs/8Rw==\"\r\n",
        "\"RSM00024933\"\t\"eNrTSCkw4ApWz8xLSa1Q5yow5PI0M+YqDlZPSSxJBPKNuDRyCoyBCoBsE67E9FE8ikfxKB7Fo3gUj+JRPIpHMVUxsPFdmZpYBGxwmwLb3YaWlpZAphlXsR4AVuf8Sg==\"\r\n",
        "\"RSM00024933\"\t\"eNrTSCkw4ApWz8xLSa1Q5yow5PI0M+YqDlZPSSxJBPKNuDRyCoyBCoBsE67E9FE8ikfxKB7Fo3gUj+JRPIpHMVUxsPFdmZpYBGxwmwLb3YaWlhZAphlXsR4AVt/8SQ==\"\r\n",
        "\"RSM00024933\"\t\"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\"\r\n",
        "\"RSM00024933\"\t\"eNrtmEuO3TYQRedvI+2JA1VR/GgJHnsFDdgwAgRBI51BsvuI91y1CMcIMsgsPRFYTyTrVpE8LL0PX162x+enn3/98vWPp8dLPD618nj9/PTl+ffn087Hh19eytnh4+inuT+ez2bs7WxX2mW2m9ptP5tdzRzjbA/aMduHf9+mlw1jP6YRNuZEkRh1eoviMTLwnS2mUW1oDN5L0dT4L7vGWMAxBcSxGLm5W5kGCkpMOWkFYwaTKChymlIwG9WD9Sve95je09771JV4LynjsDEdlm2ZtoQnmLoK3vfUm2JDY4i/HDkNK6Cb488ZcrECLUuxgjpjKVagldmtIGfIeyxJ3x1/n2N2r8A+ne5egSLDK9A1gRUoB7sVhLpZQdFsVlCmgrotQuu1ArNbTb+ZE1SvgLJTreBQt0tBnUazUL3xHtymtnoq+DZX7JuXLbQeFS2hmBtautpI0Z5rKIltztpQcsxJmw/CNlU1zxsa0myoW7cTnZHhwzOT1OxeG6VvPkpzTLf/GXzHf9XvVyJm+3I/23ifQjq+u4biWpnq9hxzH3U8H3PswLGSNrwJpqDhuNXGb59jB3516ka99Yy29Jdj9cbtXJ5x3JMfV7SzLacpPsin1vyQS0V3yGOZmT2cZnWWw6IprhzP9rj1Hd5sQszmQIFP3FHHJrc05Tar2vgVa7Z78wSztTd9sfU7Ded28HmTsQqAeFqZAHgQbvLOcx90dOwYUtEYRfhQ0shLevU7+xGrBJAHCiGelj0A3hmHDGUgiADgwUt4N+TD4RM/yIvKXPJ+Ti9D3hu9DoZIPcQb8gHwhpzDOw5YwDuSBO6qwoB2nSuh3QmTS4CHSnh3RiQD/+QI3gVXxB5LjuFdoBneAYWAd6ErIuDd1U0JSDIO75L8wbtMxQPvktTAu2Q7wLsUFwLeXd3YhAJuwLsUWKJ6B2JYgfID74LbtEoB6w/kuHKbM8CNSQbwD+VClAkoFyS7OQOKBsylrpwAc9mZmgx4AjKwMYEzoDdgLnXwA8yl7qyAc0HWelnkQDo7BXW5KTZgB+MD2uWufdvXNQB3Tju8i45BDppCgHjWBvJStIrhNWAMCkjiaIscsJe6EGKMRRvsy00hHFagCUw/hF78o1vBUHZgYFZtCSiYlW7eBbxhFzRmQwF7FxSmTl+CQiZIUJgCaYLC1FWdhqFSlZOGPnTUBblhNGqptvb1ZqDbWN8go1WVXJahqgkipk5+Rt4rluCQw5XgMBtvLIfZvBRUc/3mdeeXZT0SKAbZgIoUtGksEuGFRd6UZQK4GAOjrgZgpC40GHVEEjBGYzYUEC5kPI+tjLg3aJa8936WVQFwTIE9oSOHNKkFHQJojEE3FJBWs5GlNhuZYF8V7Llkkl/KWk396PEW5X5vGufXDGVr7O27URZzL17jB+nuSg9AZcnhKRVYwtNgH1ffKRjcKRJvnGpa03TDaG+3fRqmyln1vlHb14lKfvlGMChFa7sqVxmunTWTSSrlgFRXUcJRqXOxiINxK71KRX1ebHcxlq4U2QU91wpXA10xch3mVTMSgatGx+/C8WCmfhegeZWOyrJLR/Lk2tHGUrTmVT1uWKjguI1LhBIxroqOd65p2O/DRc3Bl9Tfini0uq4MlUg54Xp14CslJ2J/vEs/mhbHmrjGT2Up6PPYl4o+XYUedGxrpG+VKO/GkhIXo6FLoLgaTVvhLFRZTp7Glc1Kdnrui1Td3WWrt5eyWc7gG7MvX1vlKk21UctE8T8f43/70EcMn7Hbqk4SIr7ruuu4lqXq/bjzQRvlR1PvG/Ps/hCma/2vxL8/3h/vj/fH++P98X95vH5++vPr82+6SNtDfyioJDi/ml5/+guwolc1\"\r\n",
        "\"RSM00024933\"\t\"eNrtl0tuJjcMhPf/RTybCURKrccRZu0TGPAgCDAIjDiL5PZp1Ud1y9sJkGy8aEBsPVikqFLpy+tbejw//fb76/e/nh5v9vhW8+P9+en15c+X0/bHlx9v+Rxwtsvj5fnpq9V8tg/aRz/b9fHya/SV47Sb2s3OZr+bI2b49JLuKb3OHxZrl2n43ZvngpZj7vRshd5rxJg/A09p09gAmX603ejhSkagKtOvpy0It2sRbzNKdwwF4IGoz0U8hsm5HzFHi9xIvMwkOEg8axGQeFVPIOkznJy2YZncuKVpBIo0s5YDRZvoc0Q8ZBx3ClxDq4yqBQGhfcyRjSS3a4+mUdK2eAkMaYZYPDzJyJvbEi4VfIk9qTN7Bf/uMtoWa1n7oTk7giNtTo+VhRnNEQj6TMmxsqCeshXSsapUPTXSMbN9gKBr1EqBOsaWtBop8Amg2lZzc14NEDZzWgHRdR4YpfTU4857jT2YfioAssYDYG5HlXuf0Tc513ki9DIHtO1syHHDsaqr0aE58uuaIrdZTXk1LS+n030bkeZ5XolY6e8r47NNrHmG1PMNveNRZ6kTap+oOqG26bQT6piwer/g69z28eEwqwZGulM2AsMcO4RhohxCoC0a5Ypz4H9CGavaZjsyLQ5S0DpIQ1ErIEvyqNI8q0D/Yakr2cq9JfmFY5L+t6S2PFsRkyXSTYd8V9pX6INxW+jxX04WN/7X35kApdngYuti3sXF/2LVQ/mCw00HxEw91uiJ7OG8Yij/k7djEfIJd0OlBne7CSfc7aYU3twdIcHdfnC7UD0DAySdeRyaJOcOEp1ig7etCD28bUCCtyEsy4FCc+BtCMvgbXeuMxBwc8HbLpq1DIKOUTegkLYPhQ5r51iaPHCxwtoQlMHa3BUGa0c8sHbAgbW9cruCgHjKdX85lQ5zcyEazB3IYW4XVRrM7WJkO+7dEAcY7J1Ni0z2voslqgAWjysaFo99hsXPNWVc9QHF27HvDFQOS1pNH9wMjahUOgmusUMYsUPMjRIUXgide8xgdDfmtH21vpVfsHqRU3jdpTgMavcs9G1H0PKWzxYIMEAADbW6VVzQO8mB4I2ab7E76ulpS2i37QBA817oAYHY0nogoAcEiLUe54QFQADj9b5VXGc3RMMGxZOpEcdEmYLjAxo0z4VtEH1jFIyhG8vgeospEK7SCdlT1bB9Q+Wli6AdttdmeqIsq9owvYQZTP+VuZeuMubXu6Rkt63d77E4GBf7u5EBLQLh6si6+X25euheJtz3jcOYFZnKVXdghLzECHkpVRpkqaWWzkXV2n1re2hcchAaN+Ys5SPjuDMCTSpgSBLnoW0JamlboIS4tYSFf+RyqFv2aanbTNcSPUKdQ1YxkBQgv5e41daFus0YY5NNvuQtgYe+1UPFQ9/yDFj6Fr9L4FZ0f2h9yQ9fEvfAiq2IVZbUZ5WxvwKWzFWl+tK5Yfm2O0voOtbS+ww8NkntoXUdmCF2c8MKKAcWULKoxUPwZratxqNsaM2QuzCfh97lcvJQvD6ELDSvD0aCJfNuWro3VukfPHxIS4u0iMA8NDAc6i2wMC8ksEuxeIhgFwk4ZHmeJ/oiLxLD3tpWRK1v71NfmljXoIcqDnehi3PiDRfFArC+1LjS2derWGUV+njQtV4jch4SOXa29+1x7T3Klh0aH8p2yePoA0oVypH/Hxn5+X1+n9/n9/n9/Pf+/PT395c/ROPlIQmtC+vUve+//AMD6eCb\"\r\n",
        "\"RSM00024933\"\t\"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\"\r\n",
        "\"RSM00024933\"\t\"eNrtmE1uJDcMhfd9Ec9mgiL1U9IRZj0nMDCDIEAQGHEWye3TfB/VpZ4EyDYLLxqWShT5RFFPT/707e24fX355bdv3/98ub3Z7Usvt/evL99e/3i99/326de3cjf4XJrf+/X2Gu1Z7u0W7fvfrm929nv7VPs8783B52b39qR9xHc70r5Gx+iUcG6eIy06RR13jRDXZzizRqfLAdG9HdE5sxNQDABeZDbTW3Q8EVR1EsEY0QGBn+HN7wh+TvcegR0U5rF6bxtyT7OqeQuF3GcaaqzJMw89OgUUbuGtJAohL4niUIc8lENzMg89wJbMQ5VZIrAZnURQAnUZu1nmocZITQTaomrpOsxqIuiBreZOaFvq2omIU9uW79o3oPXcHYwciexUEBQPswaCYlEYzfaO55xw3VYONLLXQmsbnJY5GHJ9pjeZZQ5OmWUOWiSxZw60Pz1zYLFz3X/Y/g4KU/H3rIUZa+ptK9ye56FGrH4+nJjJdDw+KNMdMCrf83iMnRHwBM5Qm3z0yMAJkBGVd2Y2DnUSRwuEZ4bVATrPPIGB8CQbWBE/sA5SERbDQLLQBNLhT99wNcoWZNRtseF8gGeozUDTrKyO2ICRByQWObI2wn4+kuGx5qlcwCBTuYBYMn54mkqFkEwFbrGqKR866lNhlfapqMr6zKCiloMciD8OQqqZ1Qh/lQulHVkHdAirpsIWHCnuKSI7FLjSVmTVpMGKU98hRVgQTszvD0IygzwVfAgVrCgWM3tskzkfzmvv1gCzxtPHdDv/YT0EEuJ00uBPNeLaAnN/nrobKBeLVPNj52P991k/eGjEbRSFCN+vURGKQb4cZ4N8/STIXKbl0G5BwK4jZRAw9GkQMARu5co62wYJ26kFQ8IuajNIGHI1SNimgpdxLZnRBxpo3uqj3o2kQMhcqwYhuy4OqxeiLry1PueJjw0L7s8n8/NKGh/IU8N0bklr1ymcyhMkXSgUSNopDkgakjdI2lk8JL3MNpyYXmgOLEBTlV/IOpcEWec8yNorI06yGClbXiFqN0batst9r5tO3VAZfWybCkPbkLfz2MzgZ+ckQdBOicDQiQ2Kds4/FJ1FcGZFMAICmASKNpYNR7vJDJZO1GOv2uHbSiFm0x1ng4rVxWVByvvJxvz5pLE+aNqk5gyetsEIOZnyPo+t0JOndbcYRI0EtJm7Qmffldm23Z87W8w8Q0i4sW3rnFe2/MicSKQlbRdGQKAEOcRt2laHuO3ATAi0Aoe5J0KRG4O2wk9isH6Xp6RuxGSQYpK/eNkhcC4uR9RO2gDQrjrsbap5t41zHU07icStxXRBGIoKL+daELQFOavgYjj3cjlCyeqGcfhUdevoWNabTIqfvKSZfEkGh0N1zTkUqiJzGLRhUx63uMOdKGOoszGXWxrZrcAI5hSvYlQXZ66bVaapYHX3eCpYzYMvVURel0ZRJ18wzGjXc8WhSMIiXw3Rvx4yzE8JL/b3tl4SQtOWiJePtik2TwXbGVmagVkp2qje1jewqWHxMC6Z4ilhq3KdElbvHE8JS/X3hCCsKV/Bs+SrEMCKGAUH+JKw7F9f2hGLcQlWT/Waz56VDHXs0kWe4hU28pSvLkb1FLCFs5QK9m6j3v6486VhO2O5LUUpTRlreuT4uIT0/Zzri21PKh/5vKEmx/XOg+t8ZHY4FKliTc8KH0veC0UqWSP5S8vmvLmveq7saAOhyc8wzkw4VcHnkpdK/sz0cLbneu7gsm9PHJ8pqp2X5v769YfG1YMwRW7RO7YcWTFKcllKVwekLKnb6K2zw/O1pRd8rhewq3c+WY7/lncfv4/fx+/j9/H7f/3ev7789f31d9H4vIUW17+myl30vv/0N0tF/f0=\"\r\n",
        "\"RSM00024933\"\t\"eNrtmE2OHDcMhfd9EXvjQKR+SjpC1j7BADYGAYLAiLNIbp/i+1hdwhgIkGwzm4YoqfgeKemJ6o9fvpXH5w+//Pbl658fHt/s8fOoj++fP3x5+ePltP3x8ddv9ZzwqfZx2u3xEm3vZ7ur7aWe7aG2HfNsH/RbtCfzzc/2ol3DjxUZra4wLA0LwzE83Frlm6aRBC9HGKDXLgfA+whIS/zRwpi7kQxKTPOS1ALHbePsMLAe3zgMzIOBtww5GHjG7xGbj/QWdDwZrIjUMwUKzlc6iJEqBtFI9BFUKuj1kAG61wCsiX6Ep5rx4ynj77EsNdFL0K8zY9E00E047UR/DeTXhDfRbWm0QGyZiRmu2sUl4FvbUtn67iC5aIu0Y4usXWsROWrrRnZlur8l5CP8ddu7n2NWYsy3nhJue93QeybM5X4n2a/9qm+OjDIWsmfCVkTZr+UKsFESOTIzbEvy8A1n5IZpMloa4W0kgylvFwOdnmTQZCQD5XnkkincAwamNT9yobQCBwwODUBgqT/xlZsD/BapOQSvLB0CBwBo5f0AeUa0M09reJkZufpzf6i/5rmNNrA6dDOjDv8TVH16o848IWqDOqK9yr26WrVFW/t/+U1jJbQ+ErQSsYQ81RSw4loCFtgSsKlXuFMyUxRtk5aUfc8V9Qi4S4NKxYE0qAiZNbTSCY9p4wl59jxTcC7dMwfnCqlfBBBHhWNo40Fb0NpllsqoFTSUUYSt3z6RxcoU4WqLG6K48CPcpQiQRKXaUESDNIpoziyCluwbijj4pN/00EPEGTlczCfkKq6oYXpCDY1IyThn1VBEG4yA3jGEzsk3FNGLwkURbSjPKOJkQAQOkUQPJZrWiF1u0UCJniGBEEEBMw0oYA705y6xRg/4Ot2GCqLBhgo6F1/LVRdUv/e7QbCnobmd1dfhN3TOuUvRuXOvyiANxiXJgYMxOoeYGTrn+Q0LoVvG0DmbXKwGjtYLnauGAQMpu6FzFVB0rhLhyL2vJI88ewoOnasJunAgOuicsSnROeMCR+cyX0cywIABwaF0XMaWUkc8iJ0v0UHukjV6V9m+CF46QPG46gzJc5YEzXN2DaLnbBtU7zJgQDwI3+UaBmzgmQyU0ZUMtMAIXyYe5UuiSF+tGDBAm1C/XHr0zyTOhgKeSiFjbrleuR276qPC0qsKKtuBdCTQK9NyFVTelGTAtMwBI3nhqD5CBG1Rh837dDgyeG4hFWXsA12ejhCaM7JJglvdv+EsQCfFcFLijVssHDn0qtrNMgd4W9s3nqJEWZg7UURTEisGDCjxkETTHnU0EclwRDHrSlTx3NEyYDDxtrZc1+0seIpDFqapBxh1cxCyeAkJ4aKNp57IGPcwGazHPnc+hye+4UOdi06aRNPbjoFSDtp1y0HLi1FFM7WisXdSJUliqiRJRCXPa0QGBPSI8A4BowS3W/kcgbQszutG7RJIjP68mhx91M3gIY8ZtyTFkcgczBxoIBWSrZiVoEDHXY8qr6GRr45SCm+0t0W3ttnob7q7NlzWiGy4rBEPGFAyLVDvUlreUj5p27Mc8CwSnYG6+b7KxMrrpW9EFCMS+kmkjut5J2NuUWTFqIEQ0FfP8lde5xYe76IsKtSGjcDmM0c/puvgy40g+UBhP6nG8JnVtC5/n/Pt0wE6a3/xrau2l7e1LxBCkOWmqQT2LDiv6W13Tle+DTlA6z5w13tzHT+8av755w5ozf/w6eL1mUFXvS1L2UjW8vabWpi1v7F0tdSQ/Ds/S11to1jL9deAXqplD19P9Fr+bfjvP+8/7z/vP+8/7z//v5/vnz/89fXld92c8xHPAf1Ncr4bH99/+hsi80Ru\"\r\n",
        "\"RSM00024933\"\t\"eNrt1rEJgDAUhOH+FomVxESzg3UmeJAggkgwFrq9N4TlFR/cgzfAP5Tmkd1+lvo4tAlriujZFbuNd8BwtMgH7hm2iYiIiIjIrxjfb7WLwb2wu4P3gTOhjx9WD/wy\"\r\n",
        "\"RSM00024933\"\t\"eNrt1rEJgDAUhOH+FomVxESzg3UmeJAggkgwFrq9N4TlFR/cgzfAP5Tmkd1+lvo4tAlriujZFbuNd8BwtMgH7hm2iYiIiIjIrxjfb7WLwb2wu4P3kTOhjx9WF/wz\"\r\n",
        "\"RSM00024933\"\t\"eNrTSCkw4ApWz8xLSa1Q5yow5PI0M+YqDlZPSSxJBPKNuDRyCoyBCoBsE67E9FE8ikfxKB7Fo3gUj+JRPIpHMVUxsPFdmZpYBGxwmwLb3UYGBgZAphlXsR4AVf/8MA==\"\r\n",
        "\"RSM00024933\"\t\"eNrTSCkw4ApWz8xLSa1Q5yow5PI0M+YqDlZPSSxJBPKNuDRyCoyBCoBsE67E9FE8ikfxKB7Fo3gUj+JRPIpHMVUxsPFdmZpYBGxwmwLb3UYGBoZAphlXsR4AVgf8MQ==\"\r\n",
        "\"RSM00024933\"\t\"eNrt1rEJgDAUhOH+FomVxESzg3UmeJAggkgwFrq9N4TlFR/cgzfAP5Tmkd1+lvo4tAlriujZFbuNd8BwtMgH7hm2iYiIiIjIrxjfb7WLwb2wu4P3iTOhjx9WL/w2\"\r\n",
        "\"RSM00024933\"\t\"eNrTSCkw4ApWz8xLSa1Q5yow5PI0M+YqDlZPSSxJBPKNuDRyCoyBCoBsE67E9FE8ikfxKB7Fo3gUj+JRPIpHMVUxsPFdmZpYBGxwmwLb3UYGBuZAphlXsR4AVjf8Nw==\"\r\n",
        "\"RSM00024933\"\t\"eNrTSCkw4ApWz8xLSa1Q5yow5PI0M+YqDlZPSSxJBPKNuDRyCoyBCoBsE67E9FE8ikfxKB7Fo3gUj+JRPIpHMVUxsPFdmZpYBGxwmwLb3UYGBiZAphlXsR4AVh/8NA==\"\r\n",
        "\"RSM00024933\"\t\"eNrTSCkw4ApWz8xLSa1Q5yow5PI0M+YqDlZPSSxJBPKNuDRyCoyBCoBsE67E9FE8ikfxKB7Fo3gUj+JRPIpHMVUxsPFdmZpYBGxwmwLb3UYGBqZAphlXsR4AVif8NQ==\"\r\n",
        "\"RSM00024933\"\t\"eNrTSCkw4ApWz8xLSa1Q5yow5PI0M+YqDlZPSSxJBPKNuDRyCoyBCoBsE67E9FE8ikfxKB7Fo3gUj+JRPIpHMVUxsPFdmZpYBGxwmwLb3UYGBhZAphlXsR4AVj/8OA==\"\r\n",
        "\"RSM00024933\"\t\"eNrTSCkw4ApWz8xLSa1Q5yow5PI0M+YqDlZPSSxJBPKNuDRyCoyBCoBsE67E9FE8ikfxKB7Fo3gUj+JRPIpHMVUxsPFdmZpYBGxwmwLb3UYGBpZAphlXsR4AVkf8OQ==\"\r\n"
       ]
      },
      {
       "output_type": "stream",
       "stream": "stdout",
       "text": [
        "\"MX000008172\"\t\"eNrTSCkw4ApWz8xLSa1Q5yow5PI04ioOVk9JLEkEco24NHIKjIHyQLYJV2L6KB7Fo3gUj+JRPIpH8SgexaOYqhjY+K5MTSwCNrhNge1uQ0sTYyDTjKtYDwDTkfwI\"\r\n",
        "\"MX000008172\"\t\"eNrTSCkw4ApWz8xLSa1Q5yow5PI04ioOVk9JLEkEco24NHIKjIHyQLYJV2L6KB7Fo3gUj+JRPIpH8SgexaOYqhjY+K5MTSwCNrhNge1uQ0sTMyDTjKtYDwDTqfwL\"\r\n",
        "\"MX000008172\"\t\"eNrTSCkw4ApWz8xLSa1Q5yow5PI04ioOVk9JLEkEco24NHIKjIHyQLYJV2L6KB7Fo3gUj+JRPIpH8SgexaOYqhjY+K5MTSwCNrhNge1uQ0sTcyDTjKtYDwDTsfwM\"\r\n",
        "\"MX000008172\"\t\"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\"\r\n",
        "\"MX000008172\"\t\"eNrtmc2OJTUMRvf9Is3monLi/D0C63mCkQaNkBAaMSzg7eny+e612cOORUt2VRI7jnPsW/3Dl2/X26f3X3778vOf72/f7O2n9vb90/uXz398/lDb2w+/fusf7z9kf/v89f+/f/Xv03uz6yO0I8R2izNEv8WV4s6xJ0W7Ql4hW3neQr5C7rdsjAmTNvotY/OyWw6jduJ5WLUZcpi1Pm758LzdWYHdK2TstpBbrtN6GcNWm98ydsftT2Oz4U/Tbm9/Gtv1eI7dc6/Tw67ZPaZrvyG39KFj10LGbo8x2PXbhy678XylrY7dHmNOPnfs7vu5h10LP72lDy67McbTlo+yjg739s2xO0LW8caYk/4PxfleZ1iRS5xHsTtKnEeJ8+B81+3nwG6LudgdMR67634+sdsjH7G777mT/c6Qe64/sRu5MUeuOdlvjzWxGz5P8mrH+JPPF3bj+bKMyWqZA6tnni/PnFmjyNg9MWZlbqyy34Xdecv7ynzY2O33+N0ynrtn/Lfnme6RObaxG3Heq6yD3bhT+6Q/50ofjmU+nJZncXp57pkbZ+SaZ2b8z8oYnl3kk2dnF4YjoHZZRsWulqlrl2yvUDydsmuk53bNgqFrZTzs2pmcdpWdm+lKga4SczMddsyBXlrNvC4w8i6ZzTx8s3KzzHaGxmAYOWuCGDAUxS6UllfEWvWgeVUKUayVq21i2WDYrnNOZpQJZ2AXnj2VfwC8EM1AGlfBemV4n/XNSvpaL3gxcY1YAzYS2SCb9vNEG8N63mMT3Aivl1tnwpuWXiXWApwWOCXwQhx2noxDaVkUTZRjp2DONsqoC5SLYKMQxyrqTKzjgAU7Ct6smSjc4bV4F9XYZqndJuJ1lFmVVY5x7vrmFEXYI1TinhQBF6V6IPTpzaiKbmMUbdFPb3Zd4BRFACTWIqCUegow0PBte7nBUPD5ZpbobPUTKLu+qR6cUnJMLGTOqTEQDScdSY3BqTF4ApFhygOUXVglJsYWmpg4Rii6CyuUlo42MbGjKA+YUzsbMbGhrLyaTUy8mFNi0NTOSbFkSLPqgZjosYCYqDejKjPPp4mJhrIzLZuYiKOtnEJrpaNsrVC5wUTOtDWvw0YJSBOReEMMnAVoAAZNIx0eHjyZiFJ6vPZkYiwNExVRtXm0mjDR2EKvMYCJT2VXO6e8ERODlk3d3gkPxMQL5R/9rZfoeLkLzasHXu5Cg4lPpXoAE2nZ2yj9ZlPjx+ZgoqZ4nYIDtOTq/Ta998rGq41dbZ7i9KyHABK19KwOzF7neFVGnTNLuk2FINwBiTJzcjcAES/hoZFeagRJFXj4VGoA4KFCu2Z9g/nFL44agFW6k/bkYXi5S1Vqu9TFJh6SHfv/37P/0W9kzl6NNvIs8ippsHfJQgpMnCHlRRlBeeFncKO8kBBUl/i52yguGhOmFyuF6Wjx2xHTQg7Lk/Gq7vGTNSwjht0V4ofVr53CEmv1S5cpZCVzyGG7s8AsY8K2I4ft6G36VWyryY7nz3oSctidIfZwROUunuTGu410hHoyWSCM8ztZHwkufpRzi2MCxSTqaaeWSGbXyP0V/U4h0fOMeKeMTMawa+SdkVENCbuUEJ73sjEKCBGjfrAO5YPoUT34SEDx6BGmXjas0qHJbDhkKofkMByY69QNPdcxhxeUDaxRNSafLWaZHJY3skLN5LAcJadTMQgdBWPFQtSLzfP+gmqnXBBeqkV0yZ1ioeerPN/pBJWC/KBQ6JtKOWLKBOtQJQ7PPX1WjbhQyOyLVXWjmaI9x9FOtQoxjCrB16muMsFqKhMkvsoEt0ZlgoRQmcD9VT2gTOCzqoRWPhkUioScoUjsSJatIhkzVCOik+zqmdmMeuaFgnmyVkgzlF02A9K0GUGN1QQ15gA14nx6mX+87BKsHabPcovFNY3aubOTOefXlXFxAMKROViza4bS6zCvihIgvoCBtgCHg7bFoLJ7v5IuDttwBbYdnrdXqjqdssb46+RcWLtQZl4qB2yascuMYrnlNXe4hjW1yI1BvSpeNtFK3rtaZOKmFrmx8q7DTqatw7dITodv+NtbkXvZIYDDSQCnyTPzx3vZuQiHI2qOccTroT8/hcZiQI4zeEIu5gO5xYsaeC8p72qNpewXttzzxrkaY45KjbGUVkbVvUM69ltI56N88na1xZNR+8VSV1ccDYirK+asoB3rQjvJ1bh6Yr7rwruJPF8M9bnqDHIurgSwwxFYh7er3HRfSXiHdOwC0C3GjPJ85mmsVRfamdWrbluYk2I5amfn5LuYBnIaM4o8X52JQ7jO+F3kLKcO3ggSdONjOXCLH8YO3PjQfrzIdE2xTdDG+pBtMGanz4AtSvoAbHOFbC+fh3o2y4bpwRd4EPcYKF5WCi8enaXCjYfWSj8GiHvYDuWg8Mn/w5OvrcRhQDpWh3RaENQ92gzFcYhF5AQKTpBtA9o9JpNwo/PmvPqmoT4O2YpNgIcz8I7Jz6+kIeunWMgY14SVu4J1j4OJU0zAukewawC7x+ZNK7HtOoERir/OdaifY8Z8NSija+comF8YwXyk9QB3j7iDA9zpmL3sHdzFV/IB7R6dGaMqz9CjrXoQAE/bhHhSxlXcAXmPuL0D5GnPME+hHV5OEug9jDk1B0f20gPoaW839b5/ev/r58+/xz+P7v8P22mRnx/c+/7j35yVfQ8=\"\r\n",
        "\"MX000008172\"\t\"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\"\r\n",
        "\"MX000008172\"\t\"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\"\r\n",
        "\"MX000008172\"\t\"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\"\r\n"
       ]
      },
      {
       "output_type": "stream",
       "stream": "stdout",
       "text": [
        "\"MX000008172\"\t\"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\"\r\n",
        "\"MX000008172\"\t\"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\"\r\n",
        "\"MX000008172\"\t\"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\"\r\n",
        "\"MX000008172\"\t\"eNp9mkuOHjcMhPdzEXszQYsvSUfI2icwYCMIEARGnEVy+3i62KPPm2wCUqJYJUpdI/7Oxy/frpdPH37/88vXfz68fBsvv9rL908fvnz++/MP114+/vHNf8yPff1w4+XzD3O9mXmb882sN9OuN3OegHWb97J9B8SbOa7bttset+23bbedt+0n9xBk3bYwFXODDuWch8AA7NgHy4Q7bntg3E68+clvwLU8+a2QB7gGXNsnxq8T4+NUx+3kdz9rPc7ePRFTGEeVfQFrn3oGcGOc/GEYd9iBmDznFYXxCXth7T7jCdwch1sCN4GbcThnwq7DIbHfXKcmuU+eAm4N2HbylJ9zr0BMHv6Fy1zYb6HOhXs1r3Nv54At3JvndIwDd6LOs5Bzwl6nJhO4C/d54TtaqPNCnVdgbcIurJ2HzwLuwr3aqPMG7sb3u/3sfcfJuRMxBXsifmEc+x0XCj0uKscl6CUH2OMKOkKXqlxFSZrMtuhsgLZ0KVtrlxL8JF7D6eB6jwEdGaPokMFYTEAGRgZGBoZjH9KxR1fJwJLZWANq2ZCYdeGNp+CUb+cp+E8C7kjtwTVJp7hm0llMgO98tLBpJvDFjTDO8BSCNQjWQPLWFY1JZ+G6BL6AkbyJSQYtclrTKqdr2TLXMwmcFroOEwP99ZLUPc5GWIudZlrtesY443SCYcmZojMZtkC0VU9hkwxa99rh1zhZg0kGkwwmazBZg8kaTDJYZLDIYLEGiwwWGSyewiID6uBY/BoXT6GlUGfaWtgOa7DJYPMetB72DL8FKuJoSeywfRLYddHBTbTL6EATrTWxZ/AXyKiJdk2uWZyBItm46ECRjJpo1EQbZDBwCjaKM5MOGVATzaAHRk00w59gM+cMGRhrQE00IwMjAyMDJwPnKTgZOGvgZOBJhwx80lkMI4PgKVATjZpo1EQLMqAmWpBBsAZBBoFXvVETjZpoyXuQvIlJBkkGiUeJJWuQPIUkgyKDIoMigyKDIoPiTSzexGINigyKDCbvQWuisk2ewuRNnGTQmti9BU9hsgZ8Etokg0UGizVYrMHC+8D4MDS+DG0VnZ96HdaAr0PbZMD3oW3WYLMGfCLaTq7hPdg8BT4TbeNb8NZElzM4Y5xxOkEn6eAUnO9Ev/BG8muzyyMD9rg+UAOnJnprotq4kZwhA74Tne9EH7gHbvgW3HAT3Ywz7DsN98DZ8TpbXjcy4DvRjQwc7Yk7+k93noKj43YPhpFBN79qeKmJLk0cYiBN7GzSxG6YAx2htyZqTWuiiAab70hmY/sd7L+liY+z2b1fSJDs/dkMe/IUkjVI1iCLDhmwJfYkA2mifiRxaeJQAmliR4mATkSS+Cz56QeIwna6NVbZJIm3daO/KkZ6+KpU0sPHudFflVd6+MwEZ5IzN3xP3Og9vjB+w/fvIje6mEgKFS8l7HFCSwhfVQYJ4ePc0K/arISwJxYn9kksGew6SAYfxwApGWyUTXzJ4LOmuGZyZqFckkE5cYFBXIOOMcw5EwcnJINt99277fm+zZAGPgv2CZIEvrYzzsZCEqgVA+WPEYxKOsUwbD+kgE/YRlgroOzxfivi6ZNv2w+V/rlPdjIRwSV+vS0j+Jv4/fZcfw1JAh8H1z8kgc8MiyAJ1IUKSeDj4Aj8XMGQAKoc0j9lCp5/oAJSPy0OVEDa1+MJG8CBs39+ALxtHL1UTzklesqTwJXk6QZK8To+T/4Ebk7EYMN5PrmQ1il/ne89ChdOStfxARv7lcx1PAotkdNvnzpn8ZfKTdkD9tGZkMQpjxSuY7Bf6Vvb2C/0LSZwpW9to84LN3wBV/LW8Qm7zr6kbeImbRMHSZvybNRZyqa1EjbdsX7eyca92qjzxvlu1FmSNvqH5f0OkNcBzn7XyT5/yvI6B5xSs16bWFvvRFNi1jELa88fkhznD0lKyvTj8zCMA7f/xaJ/AT8qmqMQNDG+zgYGNiwNEwlpmNYaNtxPOIEZkaVinak4gT3b4gSwJV5t4+GQ/e8W7Tiizr1OB7YXbED7go1yB3Yd535lGMaBGzjmAG4AN4AbwA3gJnBzwAZuAle61ePATeBKtzoGuIlKF3AL+y3gSrfaxn4LuAXcAi50Kwu4Eyc8sd8J3In9Tux3AncCdwJ3AncCdwF38WZJuHoCwAvAC8AL3/EC8ALwwgFvAG9sGMKVG7gbuBu4G7gbF4vClRCuui7YA/YBrsthB2ISdsGesBfWAncAdwB3AHc4xoEr3eoY4A7gjgV7n82XAdgAbAA2ABuADcAGYKhWGYCNwFCtomqVGyaA7ECGaBVEqxytTkG1ylHrAHKcV0AFgANnHAEbwFEYx5ahWiXVUv48r4DKAdtg+3mbpkYCdiJbYXzCXsh23iBV561XeHMVusuSdrUdsM/bp6RdPT4ftv//3+cdXhK4187EmYkXeE3wm6jOdIwHxhN2HdQeQXXm+ftd6EBrnZdhrYHx8xKu7kB1uVbQyfeOpLoB1a7wSCtoXS303rXRe1c3oGLeDWiHOcOCYefhUt1/9sSkw9pvEJgXCMzr3Mx5GexzN2Y3n/2P6oljHhqqc5hT8vdkX5zhmoELMNmGzmF0nA6a4DmSDhmwD50DbfgcaMOnoQ2bNjhjnCGDNzn8/unDv18//3W7ef/vN8tup16+//IfV+yD+g==\"\r\n",
        "\"MX000008172\"\t\"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\"\r\n",
        "\"MX000008172\"\t\"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\"\r\n",
        "\"MX000008172\"\t\"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\"\r\n",
        "\"MX000008172\"\t\"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\"\r\n",
        "\"MX000008172\"\t\"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\"\r\n",
        "\"MX000008172\"\t\"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\"\r\n",
        "\"MX000008172\"\t\"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\"\r\n",
        "\"MX000008172\"\t\"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\"\r\n",
        "\"MX000008172\"\t\"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\"\r\n",
        "\"MX000008172\"\t\"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\"\r\n",
        "\"MX000008172\"\t\"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\"\r\n",
        "\"MX000008172\"\t\"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\"\r\n",
        "\"MX000008172\"\t\"eNrTSCkw4ApWz8xLSa1Q5yow5PI04ioOVk9JLEkEco24NHIKjIHyQLYJV2L6KB7Fo3gUj+JRPIpH8SgexaOYqhjY+K5MTSwCNrhNge1uQ0sTIyDTjKtYDwDTifwH\"\r\n",
        "\"MX000008172\"\t\"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\"\r\n",
        "\"MX000008172\"\t\"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\"\r\n"
       ]
      },
      {
       "output_type": "stream",
       "stream": "stdout",
       "text": [
        "\"MX000008172\"\t\"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\"\r\n",
        "\"MX000008172\"\t\"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\"\r\n",
        "\"MX000008172\"\t\"eNrtmE1uWzEMhPe+iLtxIZL6PULXOUGAFEWBogiaLtrb10+jF305QYsiCwMzMi2KpDSi/OHpOV0erl+/P33+db082+WTX14erk+PPx/v1C8fvj3H/fs7zpfHL++f989/9Hm4ek73rV0OaOOAdcJ6wDZhO2DfBkOwHIclAducLh0m5hPPX1pM3CeWyzm5le3eKsYbcAceG3sCNmAHDmCE6vLrE8tvmVh+Y+IO+7FxpG0TtucJ+I3AeAaG36jADfMj3kC8GfFm22vOvteTA+Pwm+E3112j3IDl1yYe276kPV4Qb3HgwDaC31L2/KXufVLgt8BvGRvXtG0q/FbHeGDPZmDt5bnfKjZz1W4uxxoq6luR54Y8N+S5+bZvyHPLwAVYeY7DV0N9G+rbxrbpadt0A/Y9Z48de1e8s+5d8cpG8bY5J/Lc+94nfWz7kfYahm2bgfoO+B2o71jnd/4W52i0XetB2RgbW0KBLaHClpwk9pos4RBbKvymkjSSzt+MvUozHGV7o11LvEwkSBC+Lf1a31SSRrPOb3C2bInYIsi+uZPEVmGTkGlzm5TM6lRfr0jvoWV/70o5F9FJVH0VgjJqS0eVoGDuqaS2pHT9htWnmFpg11sw98H9lxOJIcOS1JMw9xLVkxSSiqpIV0/SSQaIpHVNULgCiautSzJIMkkhqUivFNaUkENi3zud98//17mazrX6Bt2FpsZhbX11DidxkiDJJIWzVZJ5qnR41T9IPdQ/6Oiqf5CN+gfZqH9YOIAz7AvGKzD8qn9YvuC3w6/6hzXuGA9g+FX/sOwrcAOG3w6/A37VPyyMeAfiHfA7EK/6h9Xmw+/qH1QANRBd/X96NXK1D+td4BgP2GfgAlyBG3AHHq8LdXUNCxuwAwdwBoZfg1+1C8umAyNeh1/fBXZ1Cuvto02dRDKMCnDFRLgnfN3Wi+hMeZnvqLSL4LqtdfRct/VJcKZct/Vai27rk1T+hisIrmDd1iI5kRiJY+qMxGdIhOuy7jMa3dVDuAEj8xkVL8h8QcUL9MTXLS1vhbEX5F6X9HyAuO5oPTz1ClJ+pWYal5jJXlq2sAPH3gAVNa/wKxmrsm8Yn371yJWKCa9XkLABO3AA571+qdjCdcfSEO96BQmrznp0p3/hWrmtxczAb+vvACcJmr39M0VjyIEUVXmVoqpWHbnvyL0UVXNLUZcjSepNGZSmniSTlDdXpMZQh4E6SF0XHq9rjpTe5iKksDf9XSGJPQkWEhLZWxe5L+Tl4fr78+OPSetlPgr7JO3y8vEP6ePSzw==\"\r\n",
        "\"MX000008172\"\t\"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\"\r\n",
        "\"MX000008172\"\t\"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\"\r\n",
        "\"MX000008172\"\t\"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\"\r\n",
        "\"MX000008172\"\t\"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\"\r\n",
        "\"MX000008172\"\t\"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\"\r\n",
        "\"MX000008172\"\t\"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\"\r\n",
        "\"MX000008172\"\t\"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\"\r\n",
        "\"MX000008172\"\t\"eNrtmU2OHDcMhfdzkfGmA4nU7xGynhMMYCMIEARGnEVy+0zpsVrflBuOs8jOmwZZksgnSnoU1R8+fk5PL8+//v7x01/PT5/z08/29OXl+ePrn69vqj19+O2zv7VnS29qeXp9E/0Q6xL7IbYlpkPsS2yHOPbXeYj1kHLaX3OGbEvOS/YlL4e5QK6Q20aSO77Lq3wtt+MQLd0R2PK6cJttIyanZcllz8Iq+sipLC6ntgDbQJ/lNM9D9uXV1gQ9b5Bu275jso7Jet2+vMEm/PrAd/gtaY8tGbJBXn4PoeyIlQojiHCB0/Lm9Jdj0OXnWMmjee59UdMeVjNk23Gpvl3Wh1YXslohtx2+ig1XVzhsLWGd763oa0v7w0LShGqZbUDVHLL6LxdtwbC1Qq1drStKK2JtwDBC0tPu3/Oeere99N3Rp+wl63WD6lid3jeoLr9LhNuRtvkBtwNzHr6P4Cj3QzLqo0XRaERgIRk4iWPA9NyzmNicE1CmPfCjSU3fwZwI+FRAZKqhDxZiAsacIIqUwCAp7xE52TaVUyxGXQqQRbMgdCntsr1yWkg821LGvTkGz/ti5ZwezTwfHPneZMaSZVGlTSkYHc0VUEWZ2sc5I0RZpHnan2BQw3bNYs5oMBgTd0YQ7KsYBYVKRoiEOog0Bg+axa7JwaWy6PkxB329f2Iw0brT0u7rkXwqlfbIqMJxMPF3gTht7eV3LY84O6Yu0o4VKWDLLNqODSHejnkFnjBQaaABadB3KINjJqwFXaulghlz5YkQYwecitOfRdLhRyx9dutYgEoEdSIgjQiCm4WtEUEDQebGrdaIoHHDBzlHN24z0XMADX4Ohawgho61JEXnft0fsht0rV0uvj4VYumDyoTdwWgMYhmMhng7nA5GY1S2NLb0b+9YLYco/FS4UDNdiUpUfip2SQx5kiLmw6OqyAanh8I9NEkUQevaHOJ1zdNS+jYZmLheC2nies3KDq5/R06WCi3jSmaJd0HR/KkMOsMRN11+w5luv+EnSD0U/y5i+fHzH3/Oy41l3u9ZVViUFaoCWFdYFBZhAFcrM9zyTTkyTJtRcewRIxzlRxUnUWJEQ98FjDJjyHMXTua42pmqDG0jf1fdOBA7LpUWhYam7Jz/PcG9PN/iywJxEzplr5tmp+wV1VNmw0Jx0+yUvG7CGpaFQsnrFmiVvW4xKaWve5swaCbKX4FO+StcKX+digG38tep7MrFamVDo2UhEAClr5vXpRCA0le0KH0FTqWvCInS19mtsKUCtNJXBCvSl+Sg5SXvK6RF7pKc97w62FgffBvo+z5qvT4o6CxSl2TAUOIS8D6/ee5kXvlMAVE6U9iGbThKZvEdIJTK4nuDTQAaeHGwsd8cbKbtYOZvlq82AUZJSxtUdYdmOyv6IzrKUPF9bMBzY/GUIOf7WFciKpIdcrnj8VTfg/VIQpI75AHD88FcZTsnyPli+6wzluzX+8H6SlMVI4Eq9wdB9jze70gPQtXjyN7GjpLDDYCCTCXDMEoNF5UKqpg05AEZK+Pw6/AbPCrZ0Qf4HX4d03csio/3odDTju9HKi/7gHgBAnFoyH59HllfEYOoAyQ3jLwshZ6fRKfRA9EQmapP3WTiFViqXzZUxe6oFR0BQ1wa8riguT7b6GmrIS4tQ7aL/4aD0/h9H5wY2a4udqr1dkXVsEYi2ZB3tnWVByH79tSx1qoIlNxdtBoD+uWK4iLXeArseLfweMqJB0AgGMYGPGf64LviqFQax/R9YfBBAIMAJiIw4X8iAtM3FfvkxE7ulIIYnOQpZVDZ4S8J78dF/BkNBtnvZksqHFDR0NjQqQz0mht7yYkKXq9LPF+HAve5cEhlr8YW+s+DCu56xTh7w4tysR38Ys5ee/8VsWPIdC96jNH0zptmcXp3xN7t36/eMu6E5lwaZ2yca+OMjROduFOWy96VpWR8x74o+1wWcHApOJelMDC6ep7KoMLIVEamcmNUbgzdPEddMs5kqVgYcWXIWJeKXalbp053aXjILKLHU6Hzhl3ZGPmGQ9HgvPUfZeP/WIvqDxfd5W+hoJgofV/OihJN/BXDRe1nLSNtZ7iiXHMLhfVU0SX+bBqXIq/0uZ2N/c6jEqUo45ymhn3V7ve8WZR3YnLKO7ewi9qmHHnny8vz359e/1jqOP5unLMvZT59+ekf3D4ukQ==\"\r\n",
        "\"MX000008172\"\t\"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\"\r\n",
        "\"MX000008172\"\t\"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\"\r\n",
        "\"MX000008172\"\t\"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\"\r\n",
        "\"MX000008172\"\t\"eNplmk2uHbkNhedvI+6JA4mkSGkJPfYKDLgRBAgCI51BsvvYdVitL50ZT5ESf0SdK1XdX759Hx9fPv3tH99++/enj+/z41f7+P3Lp29f//X1B7SPX/7+3X/oZ44fMD6+vuK6Yj7i/inWFfc1OI9YP8U5rsWcj7we2a75dMiPSxuPvCAn5MerzUd+3Jo/8uPX7Kds49rbvDGYQfYbjyFVQ66WkAsy0rVzZR+Q543H4dcdz5GvI1/Pm5cjX4dfh99AnQN1DtQ5kG8E5IWxWNxAviG/T2whv/G0BfJdE8/l98lxwe8K2Mjvk9dSvrKR3/PI+8az0Fc57pw5b93Sbq3S79hEnXPd+if6KtHNqb564sxz5Ro3tpo3nrKbV/nNqwKbZd2aVMIGdS7kW+jnPW4MG3217caz/eay48a2163JRr67bgx7wx51PljfMyEbbFDnEze2A78Hfk/d3j4bzw+4YmADz4GM5zBqnJogWARJIP/NT5tAFRcTibrUklPc9WoUQZOaEwRma/5qTRIUwebUB06NEYjFXmAEThCYTUz2gqQZa2Bo9mmMwBlB89kRMALHbE1pSs5ZA5Gaa+XEai/YNOMqiNheMGEmans1ThCIWuzWsYneOurgKgQjEMP1GFFcB7rYB4t9IJbrqUVzrp8o8dwLkoA1ENW5elRc17OJ7F7AGiQjEN/1bCK8nk2M92rYieK8Dkek95odaIoRFPug2AfFCER9L2ANin1QXIXiKhT7YDOCzRps1mBzN4oE+3CwyQebe0E8+PrZ1ByeLkDB83A3HkZwGMEhHzQf9hhG0IzYU5ORDnajDURgzYkNjMAJghMsgrx+jJxoA4xkA3vBJiOYjKA50QUYwQQf2AQjWXNig6LZ5gSMoDmxD3PYjdac2GZOTRAsmrEGxggMfWDNiX1qHBjTnNgAjGTkRHPsBSMnmqMPzLkKzlVw1iAYQbAGgd8FIycaOdGCfRA4alpzYmtYg2AnrkHACBZrsFiDFQRchcVVWFyFxRos1iBZg+QqkBMtGUEyguQqkBMtcT6xZATJGhRrUJOAq1DcC+LEF3AVinuhuAoFPrBiBJsRbK7CZgTbCbgbN2uwWQNyopETbeM0bM2JKtVhBIcRHHbiYSeSE+3glGbkRGtObA36wMmJPhCBDzCSkxN9oAY+FsckNbx3NSc2wCr4xAnFyYlOTvTmxAZBs8XZkrMVNZsarII3J/ZFc8KPGc1Yg+ZE5WOLgFfP5sSemjUwRtCcKI3jPuZuBH5vKy5OfAHu3O7JMdiN7psAv84erEHw5h2sQbAGETRbnI01CPZBX4QVdd+EBdYgmAS4LPly3viDGtzDXZz4TlAEm2POvQd7X4oVdeK25skI+l7cIDgBbuQuTnxnK5o9ETzS4/6zBogQP8tGhPhqjOBx/7lfbTzuP2sJRIgvSILiBJsTHJiJED9rdUWILzACRrAZgQjx1TCCzQhEiJ2pCLHHHNZAhPgCI3DMJkJ8wSJIjimkcBiBCFGaECEq6hiTGiNADUKE+GrWnTpEiK+mOGbTD1YhJiOY6IOYRuA0C0w9FzVJwAgmI5iMwBiBCPEFRsAaWFDDCIw1ECG+mk0NV8EHAfogRIjtVIT4aoJAEfSLO9bAi1NvzsYaiBC71sEa/CTEv75btx85jVmJWNQkQRGgHyPACrG4FovdsNgNi92wghpGIFrsfBcjEC2+gBEkK/G+LHxk06n8kR//KmrfnSWLEiUz/b45S94wOve5GFFrSEKMguf30vzIcaPr46HkvEvWluzD2lCc61N8qKREhy0bbJB4vzWUzLKLCtuoblwbifdrQ70hHtdGLKjgDvImBwY5MM6CVUKuG4UIsOXHs94Rj+t5if30TlnkV5Id9gF5wT5hf/0u0Z7eTY+7HmvC75yQb6nXhF8Rnuac8Cu60zvxWZh/w+bc2ER1ejG/RHVy0F86NFN/6lBIYjql0N865ENE14qCj41pz7URybU8IRtkv/M4ai1+axl+xW4tb4zFGgdz7q8dDeC5P3e0AjkHvzsEfAd884PH6nOeRixkvVDwPuVphOisjZD2QtoLLSYq6+cod5/vtHB9vmswCewOSbhOuM7/+dyCtBO+k2nnASgWvZB3sdH47WMVvBcS748fPVUR0H1hycVkLXPFN6u+0WwbzsVl/UEp8Zy+N7ptw/WB64MuP/R8sLVPULEIUPWDDXaY9kGz5bjOc0zIcJ7jpp0jqFgESVCY61JajvvrkXNAhu9pkB3y3WM5F+SEzc06J7LOeSuedndY2oQMx4bdnRZQLMh3h6UVJqJnMFqC0RKMln5/PVKMprL4ZfH0+6uVYjR9nfSCzcbzc5/HuGNj4rlB9js24JcntIzERHAcG8/heA3I9+cy1/3ZyuWwwdkw1yLAySxXUbMx/v5kZsJ3or/6sioZSYPMUmT2uQcnJqLnhOdEZxc8F8rNe2qWEwQB866kpgg2AU6kuQcBzua5jcAJ4s+n9tyMY+f/61mLjZtCbpr1nVWavrM2QPv9ZLg/5m91ELANRXQq9mEUh1EcRFG8t9aYBEbgf06zRhDgBl8jCYpgEyCpwkGuxHr6wD/v0bX6HyuSA/YLzxPP648urrkx5+3JMvRE2d2KJdZr+W7FsntLKbt3hcIprqxg/8Px718+/ee3r/984Pn5N59T6/nHwvj4/S//Bbn2lMQ=\"\r\n",
        "\"MX000008172\"\t\"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\"\r\n",
        "\"MX000008172\"\t\"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\"\r\n",
        "\"MX000008172\"\t\"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\"\r\n",
        "\"MX000008172\"\t\"eNptmU2OHDcMRvdzkfFmAomUKOkIWfsEBmwEAYLAiLNIbp/p+ljDNxlvGmTphxRFvaKqP3393p4+P//+59dv/zw/fe9Pv9rTj8/PX7/8/eVVtadPf3z313az9qqOpy+fn/t+iPMS4yHGJa6HuC5xPsRd4rlEf4i91bjeH/K5RKs5uj9ka5cMi31Cvmxav+TLqBzsG/Jl1sZDtga5QzbIXmNtlA82yzeL8sFW+WAb88jutXKX3Wvp3iFb2XLY9QF5Qo7yxxdkRNlPhXa08nn0mmfA7kCcB9Y7Zvk5AjLsjg35VBxmq+fzstuv/Z2GPo4s0v5ecZsTfQJjV61r7kqleWotAbvRIRtkrDdG7VHAbgTmRF7FrjgE7K4GWeu95l+I8/Iau2B3YX9X4PlCf9hdiPPGejfyeSOft0OG3T0hB/rI7hXnjXzep54fnKMDu8dqzuPoPyAjrw7sHtg9GzLO0WtUqciyaNGshvTmVAaVWRZ7C7Ygr3vblXi9Yad7kkstHTnWE17Z4hwzYFT8SqOdHiTBsttmC2LfjTEwxiAxliiVB+JkgiyVyW7BlkWFEDV6QJz15JlmcyRedxI8kZZjJhXGIKmWb4BNhR4IbNkyQNQutHm+NpwK8yDpppUOejAYgwScYj3wJumJuHwldXRLyMm3yRgIc67XlTiXvgl0t7LYbbPlQBHsbqVToQfBPAjGIImX3YCeHtyFhJ42OKknJbGXCjMxwSejix4k+rIbTyPh1xfPwmImLubBBog6Cdg3ebDpwR4sFED9vpkHmzHYPI0kYT/Mg2RhttAD0rAfxuCQB4ceJBEVkMNMPPDAkompdCrAsSUTVb+QidYmW8ADa4sTbI5hVdVxGq2zrhITdTStIwZGJhqZaB0vfeuLE9ADMtGMMTDGwHAWzBiDZKIKN5tU8Po3MTHdMeyCkYnmLC2dMfB3xSWrS2cMfFIJKtwFpwdkoiUTtYRBD4axG3eBTLTBXRg4jTYWW1jkkok2uQsTPLAJHlgyURGdgy2TSnA2ejBRDtlEfWCB02hBD4IeBGNAJlpMzkYPkonymky0ZGLeBugBmWgLb2dLJsrOwrvRyERbzIPFGCzuAplom7tAJhrLQtuoR20zBpse7GC3d3cdUNk2qlITE7taDu4ddlCIWzIxx6A0tUMinWC3xRby4CATveF+6Q03EG+8cjV44I2XrsZbVwtODSJ522w55Zt38MA773zd2IJM9E4P+uRsOI3OOtE7PUgm6k5ojUpHQAyVqouJuiO6mHi3gIlOJjrvvG6bY5AH/u7a6513XWM37oIPKvTg3eX33e3XN5UDdwbzQEzUQoVE3T5dSLyHDMRjTCpIRB8MQSIxFYaAN2HnVdgnPcjLcLdLoQdCYs9PAVH3XueF2Cc9mDwKwU0IFKouJOYE4eyG7wAe7z5A4MuHB2MgJF7Sq/nfXFR80TBR8UU9RcW75XLiRb6KirdyOfEij0TFuyU4wWLLpp3LAzUIilqqmJgTi4k5YtO+mJgNk70C68tHi8qu9pyKEZHdZKRkOiRE3opjpULkrdCj89GjByj//2h/9ALKEDQ1/2idilFxjhllYLRJJThmUdnsBg+HoPkypSAqo9OD7lTkgb53dXogaN4TLLZsjkGiDmMMjDEwJOoQNHMCG+xGDyz+fxKGve3Lx98axwgZh3ulzXgQ9afD3ag4lfF2DIbT0xuul7zQab8xc2S1qQ+F7S27R9aaki/T2sD7y+IlD8gTYxEheTK4UfcHxkuuAzWEVZlJqkrmyifsi6k5eNb6kqiSsW7xNPtj3QGQjegftjfowIOp7xcXcCO5KvlyY0teeI71ax65t/Luf8kIv2iq7RJMFaOFfRdKs09AXuWDOJoy7AKjQxhVH1E0n+uji1/yKD/3hBwVB7FTPqimzHlO9T9Yr2ipdR3YFSt7fowe6IQFq5jMAQt9sN+nEm22SrTZKtCzleEpIGb/8WZrCodyaLba4Ska6qt223h+ShYKU67CZXaD7JBHzSkK5tha8OwLz2FXBFSNMUXAru/vWTZmi5UJATBlmDauOf8mSWVR2RVWO2i4+SYF63YYF9LSKx8cQfOOkDut598l+TcEzQtrsjIqv6ewlrJDHvBEXMvBAZm2RbR7BDZ8YsNn/SU2JxY+keIzy0StIsvEVFAmziwTZXDSuriWYwJ3thn4D2MGHAg6IJjJ42Dgs0jMiet4z0DSCWd6LpylTNvi2a3Q+OLqF60vWhfUbmWzG5N+M+k3or/pwKYDm3m3sfUbW79x0jezbmPnD3P+wPhB5A8O3MGBO1y66JZrEt7uP8m48QcpH61RKevRKuejOZ4PyBNycKJFBSsPQC46ki56R0OtPLrj+YA83xgSvd4nIcqlXOVL9Eq4sDrnYbBr2O4wp4J8C4NpQS7l9faaCiAuhDjJJFx4p0Ljjog7Iu7F9vB6eweKtnCYdpgeVTzGoOVRb7O4/zO5ZBgeWPOA4bHQp853DCbZ5KJnYT0mkmxWwRJzQIbliY2eC8+rcAhxTR5Fvb/j/o/kkg3PYTcG+iDUgV0O2I2N/qjBA0iLVRVLLGMnXKVi4RoRKNICRVqgSAtedmPxGqD4PKD2209u47E7FfvYXoVzbNzCY080xEeDi303W07dl+Kghg7efePglhfH2a0K2ODVNw425uDkJ/AkV0G3eMldDcZXYyD0F3wr9CzedBdvuqt9uOWtttheRfxqcOVBvx+fn//99uWvS+1Pj49Dq1+KPf345T+9N3ya\"\r\n",
        "\"MX000008172\"\t\"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\"\r\n",
        "\"MX000008172\"\t\"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\"\r\n",
        "\"MX000008172\"\t\"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\"\r\n"
       ]
      },
      {
       "output_type": "stream",
       "stream": "stdout",
       "text": [
        "\"USC00211063\"\t\"eNpVmk2uHbkNhedvI+5JBxJFUtISMvYKDLhhBAgCI84g2X1e8RyVjmelWyXxR9RXJOv+8f1n+/j65R//+v7Xf798/Owffx/t49fXL9+//efb59g+/vjnz/H5wJ9jfA7949vXL9k/r+K5ap8X+Vz8aevzctZlrycXrqd9Xu+6XvtZv8l1xzP9Wa8b1qnJfWCAO86lHhE9MMj5DCC7t0ePDunbn+ulUyC+r2dl+5T/o6b1ZwWDCiXUSgN7FDbI7/4sZi5mWYhdRtvLeIN8K2WMCpSdtmXOaNQ5n0GJj7qE9GelMe6vJbskD0iuX2n3Y8Gg2Fp7yTWExqONN3G09+snN3kINpfLHCaXwk65jzDP4z2Op1xDeLnMS3gtG+01JkryeFwSdgMJcvGz3/Uirj6Rd5uiZJaYWDJ130ey3ZjM/rotS2g5IYd4JCG14iNDQiohtpTP+e5PrndTsqSWvvM4+bnucijsLjKHbP70u1sz7jr0b61TQuvhklnhNEtmabvaO23dUFqfEn9gQmmwxuvsVTJ5Qktm+Xfla9Gar6C1Xk+vklkxs0tmL0m7hOKMw7n19B545PHh9lfFHdeyLVbueT20JYT3vtefG/La01t/DerNrqzexqtxb1dwb/Hq+en7msDZ2NXaj97gMtCkbXgKoILNWAzY4gLA1hnAblAH2OokXSnQASdgCx7swJZRztIFoAHUsSZyQK0OxwBbnANwEaJGDTAIvZM6Z0JOqQNwUVGAy+A3gAsb3AGuXgTqgxrgsXEjrANfZw40gEOAsAHAg2EUCojR16AYLQXGaAIwRve6agCQcQHXXQDKziDFO64auPrA1QfBIKw5xBl8AKAZB0MCCUwzvr3UB6CaQdGYemep0C13gDaDbmDbuVMaDGwj+HbuuPgagKNQAM5weEg4Lr3E17nF7Kk+AOgoFKQzxDVQN7A0UHfmqAZT4wC4G7wDDRA7YB6XBvUodKkGy8SepafxgK8cAvJx6ZW69BSzl8YBCMhzupsOuvgNGBwIWHBwYDWA8NwJMRssHDjbgOGAOptvGsjZsLTyC+BwIPMAD60WMAAR8WYAIhxizfWORKKBiXCigYmIayMT+ZicBQMT4TcDE7k0mDiQPHWJAwMTKQdMPHPyRoiRiYkMbekd9YGpBiY8MKZyfAw+gKvAREOWByYiQszkLBiYiONstu5LwsBEBIWBibwDJiJ2jOkctgRMpN+Y0kEdMJH2KBMNTBxMR3UXhu4CmQitXSLR3GRpMPEM5DQamIhM28BE2gMmGnPgJUFBJsI4MhGbBSZyS8hEmEAmco6Lq8hE2EMmwlIyEcaRiVxANUiNg+xi6cn4Srcc97VrYCK3EUw8d9QHZCLvLAlYZaIdJpbWU+Ngqg+m+mDqWZihc/QsTNVgLn1MzwKYSN3ARFYvZCLibQ1ZmkyE49fNQA1IxFvXgEQ6h0jkYEvoEIkcMD3AAJsABfbN0AxEhC4AIsulfOsEY27IldYt3PbNSAdgiJxjNElNBrPDxGBcRQZgeAbxajVa3jqrTSm0gELe2DfFrmoLNIQ6hCF+t1sx1Xjcimt0vzUfM8SSdOraXgOpscYpbHFHSp4BGKIWGnaLnmEmRSELW05xHYQoBhbCH3YLggESVvwOkw1gUVvymBpWWA5gkA4cQ5R/MEgPnl/ilgGDJS5UYI3LwdLBvoXWcKnABstcSGadC+eQhWW1S30NEsIggHDh9ynl+HprpgEKoqgPFf1AkKZBfNyCDGoDhnzab7Q8KGR3Ave00I9bgY5QJ7D0Zciz+IVerH5hCGjISEptcQyWwHhjDhbBgwtSCXgv52/zWK4hbJK7AV+xIMabYZySGL5jUQxijlMWc96pi8sCkPFdM6VLNOaUYn2cYOJo62g1tWF11WyZyltsPcF/y9UTi7pwlL89OaUXNBb9gi7P+m2Dtp7U3bVlY7KrW0mxpTEyWEdzC3ZKK2OQl3TzW01jpI0wb03M9sZGWCnszSQcHNxEz86bSzPLW4id3lLaG054oqFEeHZK2y8vnB1B9KPelmB1lLqpLKITKZ6friD6TV1aC37wGVh/ivbkJxpevzUG3VQPAhSvBz8IxYKnOQjDTE+On/YgpJm0rfz0BzFriVIm/VEnSrH46NLt9HFapHhw6P4Nl3D3EbpIXga4otTHRZKPfQnmJCnuuISog6QlxOVd4u76UJy2lXvqsvI6dfYLOX2/HPa4nR6P+yJzpJN8ZrwNRmfTEBvHriED6PCTD87fRroFoVuQckA9pZXnKa8zJ0HZGHXxWMq71IFPRKY0ER3oREgBnBAIbEIEoIlF5+1eOhPJcva8PXkHLCF3pqwz3+TOH0z+OJvH2/dN5kvEP5z8wS1k83jdJrmzwMZpBymxCStkjZvMORiJqFxLntmiDPDINnK/ukI9IJLX46apzvK65DyAfPXGonmTQgcjkS46c0ouclurAT6iRc2GY7WlmVKW1cGUsqHT7W+mFADjuZG3+RBt3oZlNMmnA1TE/C5d1mDHEe1vdhxL4egqnx1HDlQBdhyhc5+69NKlb0oXbDhCm9NwrF68mQ7GLTWCDUeYxuKad1LnTLHApOkaJhVFsOFYexbacAw2HLFPLK45R0qaGCHqjBQ5Q/eADUcuLRHg7QZ+gIJwh0tZGS5lZbhUFeEqn6U1F5u3Kgy2Gylz34IlQmqqYGkNA0I9EOqBk06WBhH6mDS+Ayyko2KpUN2DlAZHsN0Is1NaLJFSWUWqD1hac5AiNOdtvkQuiTbQkHeIQ5gwpfEdBCIcP1WD6bqA+mDqQZgXRzH1IIKHcBR5iIVZWOMgL/niEUva3gEWYuGlQbAEpbH0GCwNwqVBsKW4jS1drmBhzc9fQ8wEDLnVW749BEHIpVWDrQdxy7eHbJfI2YQEqdV1KgqzyTnMJm22bELiBAtLzWy3tEp+fMENRWF26Sxkl28/SRSWmdlvayFJQk6RAMh+PyVmv++j1C8vCRBCht0PTwkMQhwoCN1NTScEDQN5DSQgiI+IdvOwBAKx1FDLh8gmADF7qOOH6yDu6U0AEGoNEa7fW5LfW/CU31QgXT6jAn/QSvOI9PsOTpf3T7rIdsmDU5PABPtQuebDPrzDz5ucTzElhLfAwfPp9lbVGZKPJjuMuL7NmAxxQywxhOkgZDAdhL0pbYVME1NOOljXKv18UsaUvJl5pvxlIXNJ5pop3z5z6vfs2aWSylNIY49PIQ1/TEmMc8pn/Jz6x4mcUqjlb1V0TsmL8xTRcMvqN7PP+uTMfeI3cqkOkmU0gneFDuTvI7mkPsglH/dzaWjspiqygsb2bNPB0IE0u5IVNAxhAQ03bW1v5FYdtvyjYjapEeYpnjGQIn7y+0v9D+CtnGsQsouz6Tf/Jp/D56mb8beCpk2N2aVUnF3+yTJZOGM9bTlOls1YvIfeSfnPzXzQ+Ovrl//99e3fNVwfD1t36f6Jx19/+z9BM6OT\"\r\n",
        "\"USC00211063\"\t\"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\"\r\n",
        "\"USC00211063\"\t\"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\"\r\n",
        "\"USC00211063\"\t\"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\"\r\n"
       ]
      },
      {
       "output_type": "stream",
       "stream": "stdout",
       "text": [
        "\"USC00211063\"\t\"eNpVmkGOJLkNRfd1kZ5NDUIUSUlH8LpP0EAPCgYGRsPthX17Z/B/hX7uQimJpCjqhcjIP37+uj6+f/vnv37+9d9vH7/axz/69fH7+7efP/7z49W2jz/+/tVfAz7bmK+2f/x4nqOec7we835s99O4n8xeT/N+yvZ6Wpx0y7/quff7uYmwZmi4342OBoZR53XdDSq9H0up1eSBIaW3leJPCILqvu6lXMcM26rvCQbVhlFUfd0qDKrj1mwholJEjWftNsVsK9X3zA7F6zaoQ3Hc0rsdKR1qrZbTueJ56+rQa7X8TsUYNsR/nbrL4X2JP5zrrlU4F17LcBgwb3O9n6W664wQlZ5nz33IbGgvg53Kb0PievYoSnPtStDh9XPprX2IUgvPx0vrFxxXpkYprp5SiwAsrXB3rLPrWfPK31laYXzaoyr72cyUTc4425OyyVlKS1HO87ieEB8XbL+FjCbPdoaUzhI9/DyWxnLiwCmqTRulsPw55rOaUQpbuX9CYwmZ7Rk9DeF4L3j245/pz+JnPDbNPO6ZOLpl9pyPk2fpLO+sl8ov+L88t9qzjGVH0ILasnhhTzE8HitXHjiMs+trnhHrkf3yZA0pJ7WracOOze0qvQZoXP6Y2a7QUcAGaTTOVrULO1uB266FRg0DtaxW1IAtA2uALYOdwBac0JqsvAFbJB3AxRU0tQDowrlvYJeVk5qpBaCXwVDQC+BooBfNAb0M0oAvq9Bppj4AwKx2uAFhW9oSh3Qe5bIaGNs96gOAjCsFyGgoQEamA2QNFgBkdAhABhg3gMwgDSCzipTmGgauPgDJaChQRtuAsg5fA2Wd0obOmbLBrrtAnEEagGZ4zwBpXCmYBnw2Uo0N+IDDNA5wrLglANvWg13A4oA2hiXgxmGgG9jQwDeKThfRIBxdBcQxKHKotCmxA87x/IB0lAbU8ciBdXTv6CIAvGP0gnhbgO4CoNfh0aFxQPBBAMkH0VN3AfCzgWtAlxgF/mgbANixp1N9AAbuOeABHAIMdnh0XTIMFOTiwMEOhyz1AUhIaUDhnpMS5GvonClWg4joMSARPQYkYtkGJCJCjEhkj58gNzCx42pDJhqGjeMQAxNhm10SidaEB0YmQhqZiBtU69rjIrrFOVnGyxwMBRPhHWtqAZjIZYOJCBcDE+F4MzmNZvJaMDIR5pCJWDaZyGFyFoxM5F1xiQAyEXq6vBesy4vJurwQjUzEssHELS1PxFsfKnqeIDdlopGJsNqbCHDdBTKRPfJeMA9ZqasPyESsh0yE1ZuJtY1kIhsaiWAibvQGJtIhZCJ7QnvyUMzARLxPjZc9OBFM5HpSfUAmwjspRLLUXUg/LyMDE3F1NjAR9yoDE/GaMjAR9zMDE2nbkLuY8frH5ODc/2ycq66BiLByhE5gKoVRQwwbUzWu59po5CFGgYdcGHiI6AIO+ewiCjTcjTxvKwMNuSzQEC92k0uhAYY76Wmyf0tDkLdC9qgBgCHVAIbcpSVXUgMMuUzCsJR23g8DyZY4oF8Cgg4YNjYk2eiAIeKxA4a4kfVr6LBzE+9gIdU02YEOFiIpIwqtniXn6DupxQymeBiW2sP4q+d5UiJoXU9G1cFCpJI7ua1ZTG6ZcHZJpbu5pLqd+S3sNsnzug1Ja/tOcil+ySwmuvRD1xy7P8kuRtIQKHjPd5nw7pH5JnOoOkn0O1NeiGDKi2FMeWE9U17oZc7LnNu1hzbAoZ5qrb+l3cx8y4XMfDEsLsm0e9AZdWI7E2Cm8aElhx4uhZAOOCKywUbKG09i3WO+yV4nQvKk3z2bakn1Q6ofUiOT+TCA3pkRd4oYb4WJqQKXxhnoyC7QkVszWAjAWgfNQKyCkJ88u2MfkTIEkPzEHbIPBgW63uogY72VSC51O0jJiJmm2iaPKnwNWu5lz1AF4CVrO+DlbkwVv7S8A2JuZatpdK03Q1aXQk5frrux9t5AJl2CIAA4P/Hm6yDnM3LJSL8ucaUDnrTTL3tr6fb45YIBv7RI5Ve+zRuydX7Nt9LUkpPvLA6C6r7Lg7Bs1wfZUpA5YVp+9w3T0k2YotrFKiF1nXPrrBKWW50krWWZhIibqeVEKSphJmfGCdJEQwtmJvHhT7EQwpdW2bqcGN8lw1oqMQoPdbWBEK0FEaEs7KU4ZNcMyzgClJKlbOcuZVr3pj1Su3OXV5q7OsHjeNGf2p3f7PxyH9I5nzekg5/YYeKzZoUQ3EM9EF0bfl6jzkwbsvLoC3UAycnpUiv2VAekFG2d5EQ1HOTkFNmAlOWnaCczMebU2DwPtH3IyscpmjpgieAZ/VxFndXE2kVwEkJBSUT1GKJg7sq033x83w8wkkXdJlqmqAcf+fu5ybpeJZ1XSRg/T9XQmVfj+VwkfZ1yry+5RDuLizhRvEdiM3iPhOkAIufLJc7XKaa6lBgdJEQpmXdIVq3bqd0FKIjC9XUWHpfrDFl5gH8Ts8e5m8alBetLtLdTsY4mJesA9qikST03mlbLAT12pNTch8idz4mIJtlLmGQvYXKBDyCPCq2fLQlzbZygCwCP04cOmrISW+Jg0A5hFl2u7wHaYRcDtJvo8JMlRZeiWoB2HDXOt4Uuhc3oqt4v8YWfy3sAddhGF+Wua/fQhoR8uGRP4ZK8hKv6kHpaMH9mw04RL0JOfIRaEJI+BVCH93CExh7zZ35dWdJIKa8HP5ggZFhT5BcY3X/mz1hPnsJ+kHacMlTy1J4lnhpqANNnbMHQACD0oHNIAh/MoLGcoRYwg6a0qY0l0nYKXWubwp6YuglTihgB8MFRU0OQ4KPkIXZO3QOgj3OW4kfhF4AfbF7nE1Ks84EjluSvsaSEEvy6wh6pIMSSEMhLvphd+skM8ENw5dW1IXXtvKSCkkyg8YnsGtqYx5q85BQkM2g2mgxrpj3yhSVBwIkOOYbJDyxY2k6hy7Q2tSEbkPvaVwIIQXwqVAimSRUjCUH4w85Xtbwh+OWIMDgVKGTv3C/dPeaT3yfX8x7OflK3JBNLJ5GI5y4isBEAI2wFF2EqsMjf5QqUXT5nsrJYOl2+lidvgBDlJtPBRXaciMwbi19v1z3cpdJTJgzVMc/tLX1JA4SE70K+rSYACfdHl2d/3tIZ51KQIdlAxrmKJdiI7eY1sA585rmLJSuLNUgvgZn9uC2lipB57qCZKSvaqTOmzJMVZKp23gRh19D8PZk5s0vygGTezJ6QLC3H2xftIQlVDjViZ80IqZ01w7dTM8ScWshIps3I5pJps3FeSDUomTYDq8m8GTXkZOKM4m7uzBnbvzRDTGbOu8XMBFYzc0YGnMyceW6X/qUhd+YM3DBzpmVLs9VcS7ZgXFJkGpeaMnbijL8APIkzWi7J+GDiDJeNnThTyhBHDCbOcNJg4gyjx06cIbO92dIkXxpNibEna6FlNC1vjF2MpODx1jffWkvKVsP0Pyfjxunv79/+99ePf1fTPu4bxoxq9I/ff/4fW7Gyng==\"\r\n",
        "\"USC00211063\"\t\"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\"\r\n",
        "\"USC00211063\"\t\"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\"\r\n",
        "\"USC00211063\"\t\"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\"\r\n",
        "\"USC00211063\"\t\"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\"\r\n",
        "\"USC00211063\"\t\"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\"\r\n",
        "\"USC00211063\"\t\"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\"\r\n",
        "\"USC00211063\"\t\"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\"\r\n",
        "\"USC00211063\"\t\"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\"\r\n",
        "\"USC00211063\"\t\"eNpVWkuOJbkN3NdFejZjSKRISUfwuk/QQA8KBgyj4fbCvr0rFaHHeJuC9CTxJ2Ykg1l//PzVPr5/+8e/fv71328fv/rH3719/P7+7eeP//z4mtvHH//85V8b/uzuX/Px8eMZr/01jjM2f8aJccuv8cSeeMYLY1tf4y3j3nigPZMuUrudyR7P2LHQnzFUr8eKDtWPgn40nxH1zmd89B7L+lE77XHmKB2PZIPK45NBI7ZAI/ZA47HXjsbHWPtS+Eld2IbxMd7o7zHCrsOPYG+MyiPD6fAx0MVhdz0ydBdc7idgnnJE3Pb1iotD+RE0moyh+pgxjNY+8R0u2sYonwaDfTalnJ5lxFiyB5rP9UerMEevPSEhD68wB/QeGyJKV6TkTkwJcqyyNKA5n9+zvUKRvRTkl+JPy1rzGh7dJ0h5VEPO2XsilEcvxCwmATMBp476Y9Vsr1PzaD8RmPbaO/0lax69x8159J4Un9R7pJUiyFmyBqXn99Vex1evLcsqQ5bL7+P1OKyjGOFdRzMe5UXvHpMXtJ47Wxt7HqN3K5Ebao8z+6jtJ4obas+97qO2H7075GzK70dvP7m1Re/eZdvXo1BG9HY0W2CCQOP5b17ne4PygABonwAkqAcGNfh9otrb0gksACQBxe6kizlAsc4VL886cKwnVqL87ICyK21WxDrg7J7ZdVcdkNYREIDaXZHwd8Aa1ADWgKOANcg1ybgOUAMOdaAawgRQwwmvfOuANETPmefnACCNdwFIu5PAlR3bAWm8P2DaXUH44QhgjaKBawZjhiYAkM3hC5DNEH4g2912LHBED9h2z+Bpg/9At3tmi23BBDhnAHDUA4Sj1YC4Oxk6CQkIUI7+xBSlQDmmRmgKAue4DUjHO0+T3ALOMTlTLQDW3UlKQFItyCXOAekMGQGsuxOgHWyb+hgS8bgNFuCZnCF6gHuGpJr6GE61ALBnyDfgHm9uqQWAPl7jclG61IKlMSD+wWoCIPXAAkQUEEjRW29hax4ABek2YJACgIN3gkyEp0BCpwBkImzb+ixsuQVrTSe9RBvB8NhmzSvFrA09E+WpAQxhjrWpK2KBEQyhp7cKvPWuE9OJ12UZwNBPWhrAEFdiXfLA7rsPk6VKt4gGGPIMwNBRvQEMz8ifAqD+3ps2wCJuzSxUUlYWGoART7wBGBlAICN9ATRSO7Dxruh1XHA8ogmOB1nMJSHMBZrMp4pe4ghlbpE5BKAMEIlXnAEi74rAgw15QduQN5SN1G2z3vU2ViGPDbWAEIkVQiRLaquXuQEiO1dGvZgNEImXn4UUCQaIpFJCJLIntggAROKdbwqRRojENQMi72RIdFIAylLgwQiRnEidYLcYPOawHCRd6LqitzDVAkIk3J7yqrSZkvOESHg6NR8JkfAUEMmrX5oHS29haR6sIaECRPJIVm1iQEi6c2vEY8DSNHgQ8iYqyiJjsQhlrBa5+WyDt4BJ/h6vUtlYLsJugCQCB4xEwm6plbxJHjggEvocELkw9pLrTRLRb7kIOpd1Vw6EREC9VbXkAEj8DnzE74DHkw/eixV4L1rgLBT7GceLtvCHLErnykYd8PgnZWwhitaKHvklwGCgVtTMSYEh2ooUOUAR4TMhgk4GDNdIgWEMKTACQArMSS8676TAEE0ODDMvB8Z1kATzUL44vvtUDr2UapMIAz+cVBiPopMMw6IhnNTJhnlo6LYQVeTDMIiEmNx9qQAhpk5ODOtIiuE5WTH0kBbTCxJjsHwi4hEd0o5go4BmUCbscOqGIY6rIkfGq8QvTYbCNA0babKx+8DGCKUEOf4JAuDxJXNKh8Hz7WJy62w26Ro5MPI2OExbH1NvBiDJ8M2Q8M3UyZRrmpqgc8vTsvRmlubGpdAwaPnbjNGAj4tdMdi3+JhC2ZrS5/LFaCCKa6vM3aS35ps3g8za2i/aGo0tLTLfoeJ3vs2YIsj1vd5mjMhJtdGatohal0sa7fYV0GPyt7UhDowWbzPaktDAoKC92NablK1rXVNksGmIJBzsGt6Zqz52DukDe4dAgEEcxZWMPt9m6037lq7TIJai+UUsBUgNk3bLsOovDfYTMQ4Z5+0tjgdJP4cJkIwHT18/Yf+uBB4EVXjqXSemE6/UGK7dvdtYPOY+mPpShjgTWtHac+3zEVkRnqF2jK4rVjJhM8CVq9X9GqNwbYyUsTgPXKWcLaaHGhDS8huEVYTzwirODLEzqhcyQoqLEVVcjBD1oS3W1B4roPQcZomJ5qm/XqbjwdDPt/uGFUBTPFLAUo5nxQk4ynH1Y8asfswAgvJ3K/mAT0RpjlfDcrDCPAFjgYn9Yhv7jtgvwDlWNVvHqtJmLFG8RPEa8ruEHXDJjvJ89WAHoJLjXXsAk/gdIInnn8UkLAVEcmFU1TfYfMR9ACDxSLCaxHhJJrCcPM4Fy0m0pFtpjya9vwAsoukNUDzmRpPOZ7CYRJucxSRX1suUaLvK7uitjI8uxWyw9Qi72HpEE50VJQWEnlEDtPUYXfwPbT2GSTkdbD3iDFuPXPGib2FDVyT+weKW29QCk/5vmMaA/UeMuwhzNcCF0wQ5NrdF1fCBcpK++dTJUp2aAqPpRJhloJjE6zaGi20AvI0jIXYONYDkGuEgueY2vYPQLAhpvgdAj6aRXENASAM6WEpym3SAg+SaK0siRXLNDzNqQUoDOlIvgeQa8SC5Rk6lNBgipcEQqRakfPOI1BiQXMM2Jdeh5DqmpgHJNR7RGe8toRdNhYFAQ4qfMtZbmUL3g2QbAVp6KyTb0LuEDAcgEbm86jNQrJTfpwSRzUj4Q6oNT/lBBrbs6ssHYBGR3uriri9BsYvlBUAR+gCKPFyfVwOYiI/ATZIhybDx6UwYdgokJiER43hpSyAiv+RNGa/XmyObaO4FBdlVMdn1EdpFca+vINlFcU8RWu/c7NVVyF6voAQKnlin1asvrVh9nqQ6lcAn6wHIBBpCl1Xtk0L006boqpdBWnUW0ps4zGYjFqwMcil8khUgzHtgUM27BQlXtSTk6VkPCa7Fq+eRLtfyAGTVs2dZP0AnOTdXvMrOHEMnIV9p5eMtUfKYcAk3Jru4fIaUZnkrQ0ys/r8gw3UydBJVcCc/RSOLQoh3kmojCqEWsDiEoakBIM3mxIWoZI63WbzNUth5XpbNmfLKvCwbs8uyYQlZ9p1ZUYQky0Z+kWUDiZM0G4iWUwlUkmgDmZNMGxiVrBgB1MmSEZCVq7+tmWpYb1Eh275r8SaFbBvwQLZtPLfUh8u2D/zlbhojsm3uJNumFNJt6tvjTYo0hnJL+yG39Mdy67/E5GXbR9m8bPscm29seza5ntnkUZmXa58wzwdFf3//9r+/fvz7TPPjeUt0rM2P33/7Pz2+l2E=\"\r\n",
        "\"USC00211063\"\t\"eNrtlz0OwjAMRndfJF1AsZ2f9gjMPUGkVAgJoYgywO2xEwbuUC9P70usDFk+earNw+puj7q9HTSEC3vYV1fLq0gmmO6NZeCEmCUHKOLMorEromgaqgNZlUhs7odJ7xdVfd1DuRoMBoPBcExILRIv2oc4ijMEDTRCTBp4hN60GH79OmuI/yHZjxoMBoPhsJB99bOVpxZill2VPPbanGE/fwGKy43b\"\r\n",
        "\"USC00211063\"\t\"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\"\r\n",
        "\"USC00211063\"\t\"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\"\r\n",
        "\"USC00211063\"\t\"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\"\r\n",
        "\"USC00211063\"\t\"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\"\r\n",
        "\"USC00211063\"\t\"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\"\r\n",
        "\"USC00211063\"\t\"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\"\r\n",
        "\"USC00211063\"\t\"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\"\r\n",
        "\"USC00211063\"\t\"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\"\r\n",
        "\"USC00211063\"\t\"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\"\r\n",
        "\"USC00211063\"\t\"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\"\r\n",
        "\"USC00211063\"\t\"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\"\r\n",
        "\"USC00211063\"\t\"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\"\r\n",
        "\"USC00211063\"\t\"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\"\r\n",
        "\"USC00211063\"\t\"eNplmkGu3roNhed3I3mTFJZIUdISOs4KAuQhKFAUQdNBu/te8xyZx+1M+i2RFCl/Fqn/jx+/ro9vX/72jx9//vvLx6/28Ve7Pn5/+/Lj+7++f/b7xx9//2WfA1r77PnH929fbH+2xt3q67MVd+trNufdzIGrftzZbPMWfmV7XHe7YUi/2z3bcTctm9vvtmNISmwDciIFQWnzHDZLWRPFDZrN7mWk5ltBh96c2aF35O/2rK07Vd16+3gW1VNrWtxTJyZCJWZC5byH2CXtJm0oXfd4k9UatabtNuRBPN6xWc0lI+jjXKpDb0PAWo1yKG6p2U2nuHZEtYc43SdH5Xyon7exvmvGkBCPT+U/u8R59MeBw6opu2rUZhlR4Rvl7pGKMSL13prirPlui8LgxsrfrfweXtZH6kyDI55YxxQpq7ZMYK3pkHmVlNmk3R8x0yrw02ujzPEsf6bSdS9zptK0cK7HqpkqU+NKjdiYqz1uW1B43f5Z9vhn+bNb1iizV5Qda0q7PLv2Y96+avG7lZt3rwVvq/dou4yXcO7y7Z6Pop06M8Z7P+tp1/XsHIKjPe5oV5e2Pc5rl0t7PD77dMvj1XZNGZO6QZorlWeYGigFtIBSmAtKsQ0vg17g1KfR2RkyCmvGmoApqAOmzoyNUWkUQIXpcACMBaqoEKxqHAXtsB20IjHJK3ZSfYdKMKvBt4AWwQpqdTwBtjrsB7f6BUqbiAa5zjDwEuEBus4cWID1AF+ng+2G9YBfPTdWA786eA6ANcwBwDq8BoD1fC+aD5VGZqd3XH0Agh0BsABBB8M4ZzSZQ4CxY2IbIHY6sAAhAcd6vhwNIDt6ljgRMKM54BkDDKDxWxfqAyCN7g36AN9HWIAoEGuwAGBr2IcgG60G2hj6eckTwI0eBd0MPgDfuFIAjisl4aAHjDsC0gLDssG5I2DLpgDrDMsm7DAHuDO4Crw7w/ApwT4A8wzrAfQMtq2pT5aKBoQQeqCP6wH76N7dZYds3QfbJYxbfQAA0mogkIYSgtjxxGA6pF9XmdMv8UEHBCG6g4KW0e7AoOE8cslO7FfUpuggoeXe6dcqh3SwEIZ2wNAycr3xk5NKgUMsoTcr9/Ymb2Nv4oPeQkXP2hQdRKRtICIQ0EFE2gYkUhqYeJ6YPlEfgInWIS3EIWQirO5LnwgPOpkIV5kQqZOJCAmYyPiQibANTMSm6GDiGTYlcmQirDbhQScTc/N1l7exexc9ysQOJtI7rhaQiQudKeshE7FSVwuGnDw6mAg89dG1YxJGHuywe4d8F/oQInUykcOWhIRMhNLQKJCJiDaZiDnBL3OuJ+TL3MFEfOc6mUgBUxYHJnI9h4n5hEyEQ8DExmxALSAToXSqBWDimRMqbcrmm/o2TrVg6T4gE+EQMJECwES8PkAiVgMiNg4K2W1LY8CDIDY/iEh/goiNuU6rT1Hfcjrom2dQzHHx9B7iqK27AETE9iAQoWU/9htwiHOuXU0e9OfIZoAh0h8DDGGjAYaNw6J8YYDhGbbKert2ecmafBAMMERgrMnxzHg4hB7AMCNmYCFSNqCQ2aGcwo0pLHTsOqcZQEi7uhwKjIdDDrPyxTkbZnvU4d2Awa8cNeuYbkxnMxDGfJa5qqQ7Zk07kmYZc9q03yTlMea0kMykFr5gWkth6zn7U+B+ag3maoP/b35poCHU3TD8GZK92E3E/OX8TF+6GvakvKn75LzwAJNeOAp4hGRmvdg/oKOh3SXxBxzpjeESDua92FhDYzOmDltPDmVD1PO4mGaBjNlivs/fmfDj5WECjGXFeA0MSfONeTB3NjNh1ihi60hmwxDJdBjcM+DxK1hnzInxcTVmxfgAGQj5FR8QmyEFIJtMySlzaQgnTUEEgMkjczXVt/prJG2B55kwn2dD9hqTZi6IaTN273o5ZdESSGT2zGfMn8FvYwYNZhtzaBx6jFk0bT55NJTvlyl7qs176X4FO7/idOAXvYL6zUVbFmpGXfzuF21BpehyscwvRig3hF/x0vCqEF3rVZWSIpGzEIglOEuBOBs4i4GnZ6+eq5Ch2k5JEOs5NcHc7U6kNva2Fsj6pSUu0gS7ylkfPM9M19r91RsSdSddM7BOusKurvFx4hXfRidfT6+9el19aabRImRPbwi/nJjFq+3kLIUIzNyeUpoTsbkQl4KPs34Id7tU0/zUDxFOf1lweIp1HJ4iEi7fGmcVkULGJcjw0TS4o796rx1ysAp1p54IM0e8ypxVS3UBq99g/Xm8gF3OzwXmnfpi7hAylsNMPBquT6rc5xHSns+nwk8unu19ytU+1RBiFQ962QljAFa4HVjFdgRU+Xs8xxEHUPn7kvFV/fMbpT+PEXDQzdPzE3/pJZRnT0x2aY9SAJgm23zVuc9BUo6v75uDonDTrpOB77o38F11T99VCfRd9TjXA6ezCkkNVQt0njiz7gxmst3qKD8uOXINViGzgg1aov4NViZLxhUiaT7rHNeSdq15AJEoeQOQGHNOmim0mXa8tLUqag+QMT022hSzTxUSOuScP3jUzOgOHjX5RNV3WXeXRGecS5NUAxqeKbOKnYNlSJjGMiTsBws5x+SsO0BCIHmYFEIHOEijWYakgFDRctYftrSzpeOSbg6m3LCAKTdEM+XGSlmGhAUu6eZwyTYGIAhgDZdS8AAD2QECcavCjBuSmXFj/pBcaww1gFVI2MkqJDuS7w6yj9K2dEKDwIwb1zTMuBHFkIRrMOPmsKHDQkVP8UdIHXQw44bSqUGYasFUHwB8XA8zbj7RjTjl9R9zytYB/WjolKRr8MYF0pZuxHPpgiemHddhkvGOFSq6bnvGKv4MZtyYzowbjmLGDWO2emDri7A1Bsy44dwtECL/YPJeqkbexGDOnfYHEciO5Lxxsu6ZneJvXJXzBhjI2fP5ZgQYiPs1MBBjWtE3hIEBBuL2+Ubg+Qzy/s8La9FkA8S5j4HAWV6KtkT6fngZLD7mmF53UAEMYnz/PwvIQrTlpryHSJ4irT6+0bd8XdNqsJB3mK1GWn11w+o6NVh6RFvewGDlMRdjdfIIW/L7rt+9PkEBAkKZ1zVuuNVSzzEQg6TcEB4yY5Y2wA8Blnw6Rn3wQ9LpOCe/FDqq0BBD1nxz7zmyUF7Ibe6o68cYSx9skc5yYz4IiXz0Mieq1BLh8rtaAP+drDq1Rh0943W5fDJqqD2nLvZaHUJj1sknpvhhurSH3GbLvzRiTkkKYsofCYJ5NCLCNJqv+0mjExjBNPr0TM7ZcdJovIF69RxL/7gRa76EaEYfS7O02FL3id30Pr5LthHMok/vZcgeKiPEqj1f45a6fWs+P08OnRbPk0Pjmv7k0Lj4Pzk0rvufHDpv/E8OfUFmyErnK4eeJ4emvi12zqZ/9JgniWavv0aa/lHBK+maJ4fmrJclbb5kfFry+9uX//z5/Z/Z3fd/gvYc+X+H6+P3X/4LAXqmlA==\"\r\n",
        "\"USC00211063\"\t\"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\"\r\n",
        "\"USC00211063\"\t\"eNrtV7tqBDEM7P0je80Gy7L8+ITU9wULd4RACEsuRfL3sUcmVhvSuhCM9uSZ8XJo2Mvt9O66vb7f7l+bO8k9s3eP63Y7Po/WB3d5O7kNNBzd8bJq1apVq/5U1425bVDpKOWGUkd7KA1mQDwtgKU2WOcA+Y4zIP0yUJjDxAZDbifMiLKEjlWSlFJFyafeqCzpkTqpgldr1DGUd7gIYRzAD2x4g4qXftkAcZ1RbQZpNrgYXCdmFcY7Y5omeAiL740KB9yB159s1apVq/4RUppCLGYT6+auseNs1j4Xu4qraaKfVJFMzsSxvUEWR2wgaGK0YzLI0IzUQu7EYQBZENVAgM044hJJJ356FjUQ4FnUQACZjPjIOBINs4g5b+4veSaRlHlJUXEQJW9ukoa4768lDXFQJRVn2EpNvH1xfd+Pj95J+9qimnv2peQeTz+s91qy\"\r\n",
        "\"USC00211063\"\t\"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\"\r\n",
        "\"USC00211063\"\t\"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\"\r\n",
        "\"USC00211063\"\t\"eNpVWkuuJLkN3L+LvNmMIZEUJR3B6z5BAz1oGDCMhtsL+/Z+xQilonZipcS/Iklm/fHjV/v49vmPf/3467+fH7/6x9+9ffz+9vnj+3++f9H28cc/f/nXhrm+qPj4/u3zzz6/lqOW9vo1a7n8azlrWXvXa9n712rXjxEv9u21rlO9v5YjX0urvS+23WuDvZaU5i/GHfI6jkJiL+59Cvt15XeIzRdXa48A69jykmAmfMxJ1C7KznoC2b5f67wSDJJHe62XsIXk3l62eYMaL0ber6pu94BDdBnqcR3rQ34vwSXXIbec5EvW+3F5tMe50S+TgKPLxPAbzKC57WVKQOp6mRt5TYwpDop11QzYW9JGu4eHmDtM9vg9O0py8R/j0XmUWKgz5pMRo4RWREfJLO9liazoZEncL4FZAisp059jWeIqGDmQE8UC8vA75dXvJdAqkFkSrayfJbKMnP2m2YSRr93Tn0SfcX8dj9YzH2unZPBcdPJrvZ8tq93Arf6Ys+zx3vJHpRXXsgUri/eClWXZmljXTV2y3g+b3W4QdsnspctGEpVrt1+9dlxRG2LLcTsffTekVqw2pFZG72vpl7xne28QS8Ie5/V23dtbPDejt3GRpOXVubf53I3elki7d6Z3kQx0gjG9i2QAFEEJEGU8XrKNT/JmUQdEIXU6MMqIgVsIolQ5vwOn4OVupk/8OrFbCGsAlcECIJWRQWngUBRY5VAUYMUzACty8y5CAVe9rlYHXp0nEvYOxOqVkd3z5lUHaJ0zS/zmWwgAFyMe6gNg19nm4mugl0Eo0OsQKcYBv3CZO/DrMFANhly1DgizugMdGEbWADG6CihGbsCxcybFb4AyGgcwo0OGagBAMyQoIM2RSAA1T2xzJTQTAW0OS5N5UHIIbsgdRbdOeAMxNQpAOLIGxNFSghyMmyGs51AioU45BGBnuK5AO4MJUwC2A/B4MYB4h4AGfN+7JDlwj0kO4HMEa6kPlmoA7DsMthCAP2oN/HPYszUKQED6GhBIh+whxgEEqdvW2wgcPMS+3AxICEsNUAjHG6Cw84nfyFkTPLA29EzerDLAISy1tq53DIAIE+yUa7UNkAiHGCCRZ1i0kZAoGDARUGPERLKWKBgxEZUUMRFPrAlrYKKxdjPhBkw8Z0IUtXEjZ8BEh9+IiQZu6gNgIre5RsG7+NoFkcz9ZrwBE8+ZcV8F5hoFYCLNJibCBGAidQv1QWgUQn0QroRgooVGIfJCtIWgssW6cGvERJwZchuNmAgGw26tYUN9QEwEt6EaABMZRpZ3sGcsfbLv/TFgInDUskuSp5Qjli4MgIkMPTCRwWK9xyfzFn8GTETRY8BEcCYk4gggkdpMASQDJHb2B+oCQiKJlGATEqHaXErsp541loBIvXWbJwMgwrXAQyjJMhCmLKl2bclLyZZKZynIJ1sIVoPYxnIQAWA9CKHbhduW16JttR9wSDdtTYEtLyUDHGKbEw6LtbeuhCShAw65juszb0OJVGLeK+FEwwbilsPeJQDO+hCtGftXEv60GA4shC5dOmZnB8sTU5+U+BLeb23qwEF0a25vfaRJB8gmlk/i9lxutzJ2k67O2cXCRraxPL9vY+/sY6ENYBC7Xij4k7rCBEAhbHMZGTj7Wajq6gK2tCSkt3Q2tXU+mqylj/eQ7tK1sXV2tmyth9jA1hbA4ae5hRvY3Z5n7OerHPLT4dYjtrgkOE6AX9jlov/wEW/UuE2jD43GYC5Ax0E9YOXYMpRwIOLZCUhkB+/5pkm6ziMy3qghIxDPVC1TMwPASEtzq7TZ1HdsiAEbPk2GBj797dnxCbhAEz5KJabafTpkOG++xWbRJ0id1fXcOvcEYxN/o0KmS76GegFg+Sfed74YH0DSWm/yoAuhYze1dXf1+qYuiM+mLoWgvs+NKZ57qA07Neb7LVf2kmhtHUEFkJMjoCYpG83E8Gg6AosWkhrRzgDOisqbwNHm28Yl2RBtK9VPztY5YChjEF0zJbrL8C/eRoFxZoEw7gwDy8/Rp+RDcB7IuRYnglCFgFo3KwioEM1mu4yxO44MC900lMCEo5bzIlEQTUnsC35BNIXbvesTkQ4gLd1db234mwdcLksQSRMMloTJZQ4bIWPJIJYyC8I00kRTsCCakoW80IJoyjNTifW8GSLunCeIo1h/KfCzbPwZOlWNIVPSIKLyeFw/DXmvBOEUkXnB6c/jPB5UnxxILTYp79hImesF8RTeShlfBtGUw9IhqhNLHU/k/RaEUm7TqEzVYParO4TNOyePA6WlkowYY47n7RuAUfKe8vt6ysQAgmIN/IRiq9/9UmLGutPUYMeN34fwyadsCiAm1zLzCJaXiBrLSxL9qbsDUIkTAErk+ZbqNlhb4nBet0GzLZYDJcli33Fyu6XFAEKWJaPdMfIAPHIqDXQsRuNUlniQcmLqg3Ur6AFcxGgcqFg5PrpU1oN1JY5z8IhBeL8zz9Flbg4whFaAQopYT1E6+m0qBkeO5ZthMm0dbK+hCEeOUB04iHp/mPQVw2TAPGzqmXWdYnd0P4CD0MW7rKWnGBw3whKOG6GxjhsHx43cNkUVX+LU85Wk9IqmRBd381MJGISMXEfEbUpGqP1srUlM3baUkFHbGNLVjNGVkMZ2DOkrB7GPX02GPkkJ4VANdNw4AHt0YqoPAHs4AtRDQAB60CUl9fkVBa5NjUCqdLbV8Awgj+qzrybRldAcYF+NLAfc0ZYpXzjGTGUg49YxVYO5hWBjDQZLNVimTzQL2VvjQrG3JiGjhbGmEktZ39HC0A8tY8st2Hr/t+Yg0Q/uAPrxiPS143xugZQl+m8JQbamRFfC7ucy6auzySVMoh8+BbdUYuq2pU/2TZvsEoDUDy/ZbwYm8Q/f4oB/3DSel1b2+1UtgX9cryetU9rqJP5h3a+BZrKWwKfJayelp05+bsGJi7xp0swma0A4xG8BlJwr1mmpABPQBxuAfFwPWefzekvCXmnkt/BKzhNrT0g3kCG1Z7Lyg5tY+JGIW8wkMa8UDBEe4vBY8s113wC94A413qn0oCCRD2u7wWLNVzyl5EugHj7vAvQQLGAef1+SfuO+cJNfjOv37PK7CE5J99Sgp7j+fFup9bwFWb7w7ilCyml5y6xkmQePnA/I+PYs9W5OqXdzyiAjp/77gr0yb9ZplklJ156nV8Yj9sq86UvK3VzaAeTyt436z4hc441KGTskW2Xc3iX/j0g2ynjCPplEl6Rjlwzlt6bj1m4oT48M57JHhg6nRebGJQ16nh4Z39pbk2Z0sknGK2ayS8YIYLJLxgx/skvG2H2ySz4UmyJ88GebjIH2bDpimm3LIGF2He3Mp03GM5Nhwez+RoVKOANH/K+gp2rddYwx2SYfeVs1M02TeRplcDn/n4G88wca+OwFlL+/ff7vr+//LnJ81FAVXPLj99/+D/Btr9M=\"\r\n",
        "\"USC00211063\"\t\"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"
       ]
      },
      {
       "output_type": "stream",
       "stream": "stdout",
       "text": [
        "gyCuzQsMhJKx0aTY7h5DQPzQAofYDGBlB4OJh0IX1GULi2NRjSwnVoF9KNCVkDNq7KxFKqAfYcMM3Xbq9DtA7x6Tb6wA97gzVgENIpM2QMWgf0vL3oUnAhpt3ZBzezxAyo0vsQ6iJfSSk3+qKfX1qFkzNAoAfvyoVCnT229xY1VV19tsg1qWEYG9fmgXst2HNkpFDXxoDQiCJKb45HXcaQAyEHGIgTNv6HG7p+Pt2wasdSnSJtTbdHUiIgJ6eG1dk7jMuafkHkTCPDSBh5tq46h0wgINc18BhEAd5ecrGehQZQEEwJQhCD4Igv/dZxWUABHmlMHi06vRGG7KuymScQrElsaW2yF84ekwFrL6BDRPTOXfEx8eQdb13BwCQ6yn8l3xfNCmMBnttiIZKHR816807XESz107LvcuZ+q48AH2ZciM/LGvFNlzMB88Q86P9+3zIp1biYHJmechrXb6o8jYifQpE3FlPhTQ4dsSn2qu07+KFLl6QAnB0lc0KkER95xss+rixlKgv++OGv8diqHP67JTFqSPWosOob6EjvzWTB7wzRI/TZ+Oa/MFgsM0Gk6m5MCU9CYJYu2iLNGCnjYSa0rGMKR/6B9tswMqYmpKny4ZodtnYYpeN0CzT7+auO/HGoUtvM06LDfuXVOKDHfY5qE/GVi3YYMMq9tewavu/a/2xpYMbbLIBFafHhrg9peMe7LHJdcvfSuZ1Scc0L20l56Vzh3n5G6VOmWyxgf7zGm/UlKHHvIHy15dPf3//+v8k90e+d1PeCyx//ecfxPmUtw==\"\r\n",
        "\"USC00211063\"\t\"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\"\r\n",
        "\"USC00211063\"\t\"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\"\r\n",
        "\"USC00211063\"\t\"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\"\r\n",
        "\"USC00211063\"\t\"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\"\r\n",
        "\"USC00211063\"\t\"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\"\r\n",
        "\"USC00211063\"\t\"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\"\r\n",
        "\"IN020061900\"\t\"eNrTSCkw4ApWz8xLSa1Q5yow5PI0tuAqDlZPSSxJBPKNuDRyCoyBCoBsE67E9FE8ikfxKB7Fo3gUj+JRPIpHMVUxsPFdmZpYBGxwmwLb3YaWhpZAphlXsR4Abcz8RA==\"\r\n",
        "\"IN020061900\"\t\"eNrTSCkw4ApWz8xLSa1Q5yow5PI0tuAqDlZPSSxJBPKNuDRyCoyBCoBsE67E9FE8ikfxKB7Fo3gUj+JRPIpHMVUxsPFdmZpYBGxwmwLb3YaWZuZAphlXsR4Aben8Rw==\"\r\n",
        "\"IN020061900\"\t\"eNrTSCkw4ApWz8xLSa1Q5yow5PI0tuAqDlZPSSxJBPKNuDRyCoyBCoBsE67E9FE8ikfxKB7Fo3gUj+JRPIpHMVUxsPFdmZpYBGxwmwLb3YaWxqZAphlXsR4Abb78Qg==\"\r\n",
        "\"IN020061900\"\t\"eNrTSCkw4ApWz8xLSa1Q5yow5PI0tuAqDlZPSSxJBPKNuDRyCoyBCoBsE67E9FE8ikfxKB7Fo3gUj+JRPIpHMVUxsPFdmZpYBGxwmwLb3YaWZgZAphlXsR4AbbH8QA==\"\r\n",
        "\"IN020061900\"\t\"eNrTSCkw4ApWz8xLSa1Q5yow5PI0tuAqDlZPSSxJBPKNuDRyCoyBCoBsE67E9FE8ikfxKB7Fo3gUj+JRPIpHMVUxsPFdmZpYBGxwmwLb3YaWxiZAphlXsR4Abbb8QQ==\"\r\n",
        "\"IN020061900\"\t\"eNrTSCkw4ApWz8xLSa1Q5yow5PI0tuAqDlZPSSxJBPKNuDRyCoyBCoBsE67E9FE8ikfxKB7Fo3gUj+JRPIpHMVUxsPFdmZpYBGxwmwLb3YaWZoZAphlXsR4Abbn8QQ==\"\r\n",
        "\"IN020061900\"\t\"eNrTSCkw4ApWz8xLSa1Q5yow5PI0tuAqDlZPSSxJBPKNuDRyCoyBCoBsE67E9FE8ikfxKB7Fo3gUj+JRPIpHMVUxsPFdmZpYBGxwmwLb3YaWRgZAphlXsR4AbY38PA==\"\r\n",
        "\"IN020061900\"\t\"eNrTSCkw4ApWz8xLSa1Q5yow5PI0tuAqDlZPSSxJBPKNuDRyCoyBCoBsE67E9FE8ikfxKB7Fo3gUj+JRPIpHMVUxsPFdmZpYBGxwmwLb3YaWRoZAphlXsR4AbZX8PQ==\"\r\n",
        "\"IN020061900\"\t\"eNrTSCkw4ApWz8xLSa1Q5yow5PI0tuAqDlZPSSxJBPKNuDRyCoyBCoBsE67E9FE8ikfxKB7Fo3gUj+JRPIpHMVUxsPFdmZpYBGxwmwLb3YaWRkZAphlXsR4AbZ38Pg==\"\r\n",
        "\"IN020061900\"\t\"eNrTSCkw4ApWz8xLSa1Q5yow5PI0tuAqDlZPSSxJBPKNuDRyCoyBCoBsE67E9FE8ikfxKB7Fo3gUj+JRPIpHMVUxsPFdmZpYBGxwmwLb3YaWRsZAphlXsR4AbaX8Pw==\"\r\n",
        "\"IN020061900\"\t\"eNrTSCkw4ApWz8xLSa1Q5yow5PI0tuAqDlZPSSxJBPKNuDRyCoyBCoBsE67E9FE8ikfxKB7Fo3gUj+JRPIpHMVUxsPFdmZpYBGxwmwLb3YaWRiZAphlXsR4Aba38QA==\"\r\n",
        "\"IN020061900\"\t\"eNrTSCkw4ApWz8xLSa1Q5yow5PI0tuAqDlZPSSxJBPKNuDRyCoyBCoBsE67E9FE8ikfxKB7Fo3gUj+JRPIpHMVUxsPFdmZpYBGxwmwLb3YaWZkZAphlXsR4AbcH8Qg==\"\r\n",
        "\"IN020061900\"\t\"eNrTSCkw4ApWz8xLSa1Q5yow5PI0tuAqDlZPSSxJBPKNuDRyCoyBCoBsE67E9FE8ikfxKB7Fo3gUj+JRPIpHMVUxsPFdmZpYBGxwmwLb3YaWRmZAphlXsR4Abb38Qg==\"\r\n",
        "\"IN020061900\"\t\"eNrTSCkw4ApWz8xLSa1Q5yow5PI0tuAqDlZPSSxJBPKNuDRyCoyBCoBsE67E9FE8ikfxKB7Fo3gUj+JRPIpHMVUxsPFdmZpYBGxwmwLb3YaWRuZAphlXsR4AbcX8Qw==\"\r\n",
        "\"IN020061900\"\t\"eNrTSCkw4ApWz8xLSa1Q5yow5PI0tuAqDlZPSSxJBPKNuDRyCoyBCoBsE67E9FE8ikfxKB7Fo3gUj+JRPIpHMVUxsPFdmZpYBGxwmwLb3YaWRhZAphlXsR4Abc38RA==\"\r\n",
        "\"IN020061900\"\t\"eNrTSCkw4ApWz8xLSa1Q5yow5PI0tuAqDlZPSSxJBPKNuDRyCoyBCoBsE67E9FE8ikfxKB7Fo3gUj+JRPIpHMVUxsPFdmZpYBGxwmwLb3YaWRpZAphlXsR4AbdX8RQ==\"\r\n",
        "\"IN020061900\"\t\"eNrTSCkw4ApWz8xLSa1Q5yow5PI0tuAqDlZPSSxJBPKNuDRyCoyBCoBsE67E9FE8ikfxKB7Fo3gUj+JRPIpHMVUxsPFdmZpYBGxwmwLb3YaWZsZAphlXsR4Abcn8Qw==\"\r\n",
        "\"IN020061900\"\t\"eNrTSCkw4ApWz8xLSa1Q5yow5PI0tuAqDlZPSSxJBPKNuDRyCoyBCoBsE67E9FE8ikfxKB7Fo3gUj+JRPIpHMVUxsPFdmZpYBGxwmwLb3YaWhhZAphlXsR4AbcT8Qw==\"\r\n",
        "\"IN020061900\"\t\"eNrTSCkw4ApWz8xLSa1Q5yow5PI0tuAqDlZPSSxJBPKNuDRyCoyBCoBsE67E9FE8ikfxKB7Fo3gUj+JRPIpHMVUxsPFdmZpYBGxwmwLb3YaWJhZAphlXsR4Abd/8Rg==\"\r\n",
        "\"IN020061900\"\t\"eNrTSCkw4ApWz8xLSa1Q5yow5PI0tuAqDlZPSSxJBPKNuDRyCoyBCoBsE67E9FE8ikfxKB7Fo3gUj+JRPIpHMVUxsPFdmZpYBGxwmwLb3YaWJpZAphlXsR4Abef8Rw==\"\r\n",
        "\"IN020061900\"\t\"eNrTSCkw4ApWz8xLSa1Q5yow5PI0tuAqDlZPSSxJBPKNuDRyCoyBCoBsE67E9FE8ikfxKB7Fo3gUj+JRPIpHMVUxsPFdmZpYBGxwmwLb3YaWZhZAphlXsR4AbfH8SA==\"\r\n",
        "\"IN020061900\"\t\"eNrTSCkw4ApWz8xLSa1Q5yow5PI0tuAqDlZPSSxJBPKNuDRyCoyBCoBsE67E9FE8ikfxKB7Fo3gUj+JRPIpHMVUxsPFdmZpYBGxwmwLb3YaWZpZAphlXsR4Abfn8SQ==\"\r\n",
        "\"IN020061900\"\t\"eNrTSCkw4ApWz8xLSa1Q5yow5PI0tuAqDlZPSSxJBPKNuDRyCoyBCoBsE67E9FE8ikfxKB7Fo3gUj+JRPIpHMVUxsPFdmZpYBGxwmwLb3YaWJkZAphlXsR4Aba/8QA==\"\r\n",
        "\"IN020061900\"\t\"eNrTSCkw4ApWz8xLSa1Q5yow5PI0tuAqDlZPSSxJBPKNuDRyCoyBCoBsE67E9FE8ikfxKB7Fo3gUj+JRPIpHMVUxsPFdmZpYBGxwmwLb3YaWJsZAphlXsR4Abbf8QQ==\"\r\n",
        "\"IN020061900\"\t\"eNrTSCkw4ApWz8xLSa1Q5yow5PI0tuAqDlZPSSxJBPKNuDRyCoyBCoBsE67E9FE8ikfxKB7Fo3gUj+JRPIpHMVUxsPFdmZpYBGxwmwLb3YaWJgZAphlXsR4AbZ/8Pg==\"\r\n",
        "\"IN020061900\"\t\"eNrTSCkw4ApWz8xLSa1Q5yow5PI0tuAqDlZPSSxJBPKNuDRyCoyBCoBsE67E9FE8ikfxKB7Fo3gUj+JRPIpHMVUxsPFdmZpYBGxwmwLb3YaWJoZAphlXsR4Abaf8Pw==\"\r\n",
        "\"IN020061900\"\t\"eNrTSCkw4ApWz8xLSa1Q5yow5PI0tuAqDlZPSSxJBPKNuDRyCoyBCoBsE67E9FE8ikfxKB7Fo3gUj+JRPIpHMVUxsPFdmZpYBGxwmwLb3YaWJmZAphlXsR4Abc/8RA==\"\r\n",
        "\"IN020061900\"\t\"eNrTSCkw4ApWz8xLSa1Q5yow5PI0tuAqDlZPSSxJBPKNuDRyCoyBCoBsE67E9FE8ikfxKB7Fo3gUj+JRPIpHMVUxsPFdmZpYBGxwmwLb3YaWJuZAphlXsR4Abdf8RQ==\"\r\n",
        "\"IN020061900\"\t\"eNrTSCkw4ApWz8xLSa1Q5yow5PI0tuAqDlZPSSxJBPKNuDRyCoyBCoBsE67E9FE8ikfxKB7Fo3gUj+JRPIpHMVUxsPFdmZpYBGxwmwLb3YaWJiZAphlXsR4Abb/8Qg==\"\r\n",
        "\"IN020061900\"\t\"eNrTSCkw4ApWz8xLSa1Q5yow5PI0tuAqDlZPSSxJBPKNuDRyCoyBCoBsE67E9FE8ikfxKB7Fo3gUj+JRPIpHMVUxsPFdmZpYBGxwmwLb3YaWJqZAphlXsR4Abcf8Qw==\"\r\n",
        "\"IN020061900\"\t\"eNrTSCkw4ApWz8xLSa1Q5yow5PI0tuAqDlZPSSxJBPKNuDRyCoyBCoBsE67E9FE8ikfxKB7Fo3gUj+JRPIpHMVUxsPFdmZpYBGxwmwLb3YaWpqZAphlXsR4AbdD8RA==\"\r\n",
        "\"IN020061900\"\t\"eNrTSCkw4ApWz8xLSa1Q5yow5PI0tuAqDlZPSSxJBPKNuDRyCoyBCoBsE67E9FE8ikfxKB7Fo3gUj+JRPIpHMVUxsPFdmZpYBGxwmwLb3YaWpiZAphlXsR4Abcj8Qw==\"\r\n",
        "\"IN020061900\"\t\"eNrTSCkw4ApWz8xLSa1Q5yow5PI0tuAqDlZPSSxJBPKNuDRyCoyBCoBsE67E9FE8ikfxKB7Fo3gUj+JRPIpHMVUxsPFdmZpYBGxwmwLb3YaWpuZAphlXsR4AbeD8Rg==\"\r\n",
        "\"IN020061900\"\t\"eNrTSCkw4ApWz8xLSa1Q5yow5PI0tuAqDlZPSSxJBPKNuDRyCoyBCoBsE67E9FE8ikfxKB7Fo3gUj+JRPIpHMVUxsPFdmZpYBGxwmwLb3YaWpmZAphlXsR4Abdj8RQ==\"\r\n",
        "\"IN020061900\"\t\"eNrTSCkw4ApWz8xLSa1Q5yow5PI0tuAqDlZPSSxJBPKNuDRyCoyBCoBsE67E9FE8ikfxKB7Fo3gUj+JRPIpHMVUxsPFdmZpYBGxwmwLb3YaWpoZAphlXsR4AbbD8QA==\"\r\n",
        "\"IN020061900\"\t\"eNrTSCkw4ApWz8xLSa1Q5yow5PI0tuAqDlZPSSxJBPKNuDRyCoyBCoBsE67E9FE8ikfxKB7Fo3gUj+JRPIpHMVUxsPFdmZpYBGxwmwLb3YaWpgZAphlXsR4Abaj8Pw==\"\r\n",
        "\"IN020061900\"\t\"eNrTSCkw4ApWz8xLSa1Q5yow5PI0tuAqDlZPSSxJBPKNuDRyCoyBCoBsE67E9FE8ikfxKB7Fo3gUj+JRPIpHMVUxsPFdmZpYBGxwmwLb3YaWpsZAphlXsR4AbcD8Qg==\"\r\n",
        "\"IN020061900\"\t\"eNrTSCkw4ApWz8xLSa1Q5yow5PI0tuAqDlZPSSxJBPKNuDRyCoyBCoBsE67E9FE8ikfxKB7Fo3gUj+JRPIpHMVUxsPFdmZpYBGxwmwLb3YaWpkZAphlXsR4Abbj8QQ==\"\r\n",
        "\"IN020061900\"\t\"eNrTSCkw4ApWz8xLSa1Q5yow5PI0tuAqDlZPSSxJBPKNuDRyCoyBCoBsE67E9FE8ikfxKB7Fo3gUj+JRPIpHMVUxsPFdmZpYBGxwmwLb3YaWxpZAphlXsR4Abd78Rg==\"\r\n",
        "\"IN020061900\"\t\"eNrTSCkw4ApWz8xLSa1Q5yow5PI0tuAqDlZPSSxJBPKNuDRyCoyBCoBsE67E9FE8ikfxKB7Fo3gUj+JRPIpHMVUxsPFdmZpYBGxwmwLb3YaWxhZAphlXsR4Abdb8RQ==\"\r\n",
        "\"IN020061900\"\t\"eNrTSCkw4ApWz8xLSa1Q5yow5PI0tuAqDlZPSSxJBPKNuDRyCoyBCoBsE67E9FE8ikfxKB7Fo3gUj+JRPIpHMVUxsPFdmZpYBGxwmwLb3YaWppZAphlXsR4AbfD8SA==\"\r\n",
        "\"IN020061900\"\t\"eNrTSCkw4ApWz8xLSa1Q5yow5PI0tuAqDlZPSSxJBPKNuDRyCoyBCoBsE67E9FE8ikfxKB7Fo3gUj+JRPIpHMVUxsPFdmZpYBGxwmwLb3YaWphZAphlXsR4Abej8Rw==\"\r\n",
        "\"IN020061900\"\t\"eNrTSCkw4ApWz8xLSa1Q5yow5PI0tuAqDlZPSSxJBPKNuDRyCoyBCoBsE67E9FE8ikfxKB7Fo3gUj+JRPIpHMVUxsPFdmZpYBGxwmwLb3YaWhuZAphlXsR4Abbz8Qg==\"\r\n",
        "\"IN020061900\"\t\"eNrTSCkw4ApWz8xLSa1Q5yow5PI0tuAqDlZPSSxJBPKNuDRyCoyBCoBsE67E9FE8ikfxKB7Fo3gUj+JRPIpHMVUxsPFdmZpYBGxwmwLb3YaWhmZAphlXsR4AbbT8QQ==\"\r\n",
        "\"IN020061900\"\t\"eNrTSCkw4ApWz8xLSa1Q5yow5PI0tuAqDlZPSSxJBPKNuDRyCoyBCoBsE67E9FE8ikfxKB7Fo3gUj+JRPIpHMVUxsPFdmZpYBGxwmwLb3YaWxsZAphlXsR4Aba78QA==\"\r\n",
        "\"IN020061900\"\t\"eNrTSCkw4ApWz8xLSa1Q5yow5PI0tuAqDlZPSSxJBPKNuDRyCoyBCoBsE67E9FE8ikfxKB7Fo3gUj+JRPIpHMVUxsPFdmZpYBGxwmwLb3YaWxkZAphlXsR4Abab8Pw==\"\r\n",
        "\"IN020061900\"\t\"eNrTSCkw4ApWz8xLSa1Q5yow5PI0tuAqDlZPSSxJBPKNuDRyCoyBCoBsE67E9FE8ikfxKB7Fo3gUj+JRPIpHMVUxsPFdmZpYBGxwmwLb3YaWxoZAphlXsR4AbZ78Pg==\"\r\n",
        "\"IN020061900\"\t\"eNrTSCkw4ApWz8xLSa1Q5yow5PI0tuAqDlZPSSxJBPKNuDRyCoyBCoBsE67E9FE8ikfxKB7Fo3gUj+JRPIpHMVUxsPFdmZpYBGxwmwLb3YaW5gZAphlXsR4Abbr8QQ==\"\r\n",
        "\"IN020061900\"\t\"eNrTSCkw4ApWz8xLSa1Q5yow5PI0tuAqDlZPSSxJBPKNuDRyCoyBCoBsE67E9FE8ikfxKB7Fo3gUj+JRPIpHMVUxsPFdmZpYBGxwmwLb3YaWZiZAphlXsR4AbdH8RA==\"\r\n",
        "\"IN020061900\"\t\"eNrTSCkw4ApWz8xLSa1Q5yow5PI0tuAqDlZPSSxJBPKNuDRyCoyBCoBsE67E9FE8ikfxKB7Fo3gUj+JRPIpHMVUxsPFdmZpYBGxwmwLb3YaWxmZAphlXsR4Abcb8Qw==\"\r\n",
        "\"IN020061900\"\t\"eNrTSCkw4ApWz8xLSa1Q5yow5PI0tuAqDlZPSSxJBPKNuDRyCoyBCoBsE67E9FE8ikfxKB7Fo3gUj+JRPIpHMVUxsPFdmZpYBGxwmwLb3YaWxgZAphlXsR4AbZb8PQ==\"\r\n",
        "\"IN020061900\"\t\"eNrTSCkw4ApWz8xLSa1Q5yow5PI0tuAqDlZPSSxJBPKNuDRyCoyBCoBsE67E9FE8ikfxKB7Fo3gUj+JRPIpHMVUxsPFdmZpYBGxwmwLb3YaWZqZAphlXsR4Abdn8RQ==\"\r\n",
        "\"IN020061900\"\t\"eNrTSCkw4ApWz8xLSa1Q5yow5PI0tuAqDlZPSSxJBPKNuDRyCoyBCoBsE67E9FE8ikfxKB7Fo3gUj+JRPIpHMVUxsPFdmZpYBGxwmwLb3YaWxuZAphlXsR4Abc78RA==\"\r\n",
        "\"IN020061900\"\t\"eNrTSCkw4ApWz8xLSa1Q5yow5PI0tuAqDlZPSSxJBPKNuDRyCoyBCoBsE67E9FE8ikfxKB7Fo3gUj+JRPIpHMVUxsPFdmZpYBGxwmwLb3YaWZmZAphlXsR4AbeH8Rg==\"\r\n",
        "\"IN020061900\"\t\"eNrTSCkw4ApWz8xLSa1Q5yow5PI0tuAqDlZPSSxJBPKNuDRyCoyBCoBsE67E9FE8ikfxKB7Fo3gUj+JRPIpHMVUxsPFdmZpYBGxwmwLb3YaWRqZAphlXsR4AbbX8QQ==\"\r\n"
       ]
      },
      {
       "output_type": "stream",
       "stream": "stdout",
       "text": [
        "\"ASN00088093\"\t\"eNrTSCkw4ApWz8xLSa1Q5yow5PI0MeAqDlZPSSxJBPKNuDRyCoyBCoBsE67E9FE8ikfxKB7Fo3gUj+JRPIpHMVUxsPFdmZpYBGxwmwLb3YaWhkZAphlXsR4AHG38Ng==\"\r\n",
        "\"ASN00088093\"\t\"eNrTSCkw4ApWz8xLSa1Q5yow5PI0MeAqDlZPSSxJBPKNuDRyCoyBCoBsE67E9FE8ikfxKB7Fo3gUj+JRPIpHMVUxsPFdmZpYBGxwmwLb3YaWhhZAphlXsR4AHJ38PA==\"\r\n",
        "\"ASN00088093\"\t\"eNrTSCkw4ApWz8xLSa1Q5yow5PI0MeAqDlZPSSxJBPKNuDRyCoyBCoBsE67E9FE8ikfxKB7Fo3gUj+JRPIpHMVUxsPFdmZpYBGxwmwLb3YaWxiZAphlXsR4AHI/8Og==\"\r\n",
        "\"ASN00088093\"\t\"eNrTSCkw4ApWz8xLSa1Q5yow5PI0MeAqDlZPSSxJBPKNuDRyCoyBCoBsE67E9FE8ikfxKB7Fo3gUj+JRPIpHMVUxsPFdmZpYBGxwmwLb3YaWhgZAphlXsR4AHF38NA==\"\r\n",
        "\"ASN00088093\"\t\"eNrTSCkw4ApWz8xLSa1Q5yow5PI0MeAqDlZPSSxJBPKNuDRyCoyBCoBsE67E9FE8ikfxKB7Fo3gUj+JRPIpHMVUxsPFdmZpYBGxwmwLb3YaWhiZAphlXsR4AHH38OA==\"\r\n",
        "\"ASN00088093\"\t\"eNrTSCkw4ApWz8xLSa1Q5yow5PI0MeAqDlZPSSxJBPKNuDRyCoyBCoBsE67E9FE8ikfxKB7Fo3gUj+JRPIpHMVUxsPFdmZpYBGxwmwLb3YaWBmZAphlXsR4AHIT8OQ==\"\r\n",
        "\"ASN00088093\"\t\"eNrTSCkw4ApWz8xLSa1Q5yow5PI0MeAqDlZPSSxJBPKNuDRyCoyBCoBsE67E9FE8ikfxKB7Fo3gUj+JRPIpHMVUxsPFdmZpYBGxwmwLb3YaWBhZAphlXsR4AHJT8Ow==\"\r\n",
        "\"ASN00088093\"\t\"eNrTSCkw4ApWz8xLSa1Q5yow5PI0MeAqDlZPSSxJBPKNuDRyCoyBCoBsE67E9FE8ikfxKB7Fo3gUj+JRPIpHMVUxsPFdmZpYBGxwmwLb3YaWBpZAphlXsR4AHJz8PA==\"\r\n",
        "\"ASN00088093\"\t\"eNrTSCkw4ApWz8xLSa1Q5yow5PI0MeAqDlZPSSxJBPKNuDRyCoyBCoBsE67E9FE8ikfxKB7Fo3gUj+JRPIpHMVUxsPFdmZpYBGxwmwLb3YaWhoZAphlXsR4AHGX8NQ==\"\r\n",
        "\"ASN00088093\"\t\"eNrTSCkw4ApWz8xLSa1Q5yow5PI0MeAqDlZPSSxJBPKNuDRyCoyBCoBsE67E9FE8ikfxKB7Fo3gUj+JRPIpHMVUxsPFdmZpYBGxwmwLb3YaWBuZAphlXsR4AHIz8Og==\"\r\n",
        "\"ASN00088093\"\t\"eNrTSCkw4ApWz8xLSa1Q5yow5PI0MeAqDlZPSSxJBPKNuDRyCoyBCoBsE67E9FE8ikfxKB7Fo3gUj+JRPIpHMVUxsPFdmZpYBGxwmwLb3YaWBiZAphlXsR4AHHT8Nw==\"\r\n",
        "\"ASN00088093\"\t\"eNrTSCkw4ApWz8xLSa1Q5yow5PI0MeAqDlZPSSxJBPKNuDRyCoyBCoBsE67E9FE8ikfxKB7Fo3gUj+JRPIpHMVUxsPFdmZpYBGxwmwLb3YaWBqZAphlXsR4AHHz8OA==\"\r\n",
        "\"ASN00088093\"\t\"eNrTSCkw4ApWz8xLSa1Q5yow5PI0MeAqDlZPSSxJBPKNuDRyCoyBCoBsE67E9FE8ikfxKB7Fo3gUj+JRPIpHMVUxsPFdmZpYBGxwmwLb3YaWhqZAphlXsR4AHIX8OQ==\"\r\n",
        "\"ASN00088093\"\t\"eNrTSCkw4ApWz8xLSa1Q5yow5PI0MeAqDlZPSSxJBPKNuDRyCoyBCoBsE67E9FE8ikfxKB7Fo3gUj+JRPIpHMVUxsPFdmZpYBGxwmwLb3YaWhsZAphlXsR4AHHX8Nw==\"\r\n",
        "\"ASN00088093\"\t\"eNrTSCkw4ApWz8xLSa1Q5yow5PI0MeAqDlZPSSxJBPKNuDRyCoyBCoBsE67E9FE8ikfxKB7Fo3gUj+JRPIpHMVUxsPFdmZpYBGxwmwLb3YaWhuZAphlXsR4AHJX8Ow==\"\r\n",
        "\"ASN00088093\"\t\"eNrTSCkw4ApWz8xLSa1Q5yow5PI0MeAqDlZPSSxJBPKNuDRyCoyBCoBsE67E9FE8ikfxKB7Fo3gUj+JRPIpHMVUxsPFdmZpYBGxwmwLb3YaWhmZAphlXsR4AHI38Og==\"\r\n",
        "\"USC00415427\"\t\"eNrTSCkw4ApWz8xLSa1Q5yow5PI0NOAqDlZPSSxJBPKNuDRyCoyBCoBsE67E9FE8ikfxKB7Fo3gUj+JRPIpHMVUxsPFdmZpYBGxwmwLb3UYGhoZAphlXsR4A+Tz8Kg==\"\r\n",
        "\"USC00415427\"\t\"eNrTSCkw4ApWz8xLSa1Q5yow5PI0NOAqDlZPSSxJBPKNuDRyCoyBCoBsE67E9FE8ikfxKB7Fo3gUj+JRPIpHMVUxsPFdmZpYBGxwmwLb3UYGhgZAphlXsR4A+TT8KQ==\"\r\n",
        "\"USC00415427\"\t\"eNrt1ssJgDAQhOH7NBJPkofag+dUsJAggkgwHrR7pwiPc/hgFraAfyjNI7v9LPVxaAFr8OjZFbuNd8RwtMQH7gm2iYiIiIjIrxjfb7WLwT2zu6MPiXNBHz/5TPws\"\r\n",
        "\"USC00415427\"\t\"eNrTSCkw4ApWz8xLSa1Q5yow5PI0NOAqDlZPSSxJBPKNuDRyCoyBCoBsE67E9FE8ikfxKB7Fo3gUj+JRPIpHMVUxsPFdmZpYBGxwmwLb3UYGhkZAphlXsR4A+UT8Kw==\"\r\n",
        "\"USC00415427\"\t\"eNrTSCkw4ApWz8xLSa1Q5yow5PI0NOAqDlZPSSxJBPKNuDRyCoyBCoBsE67E9FE8ikfxKB7Fo3gUj+JRPIpHMVUxsPFdmZpYBGxwmwLb3YaWloZAphlXsR4A+dP8Og==\"\r\n",
        "\"USC00415427\"\t\"eNrTSCkw4ApWz8xLSa1Q5yow5PI0NOAqDlZPSSxJBPKNuDRyCoyBCoBsE67E9FE8ikfxKB7Fo3gUj+JRPIpHMVUxsPFdmZpYBGxwmwLb3YaWlgZAphlXsR4A+cv8OQ==\"\r\n",
        "\"USC00415427\"\t\"eNrTSCkw4ApWz8xLSa1Q5yow5PI0NOAqDlZPSSxJBPKNuDRyCoyBCoBsE67E9FE8ikfxKB7Fo3gUj+JRPIpHMVUxsPFdmZpYBGxwmwLb3YaWlsZAphlXsR4A+eP8PA==\"\r\n",
        "\"USC00415427\"\t\"eNrTSCkw4ApWz8xLSa1Q5yow5PI0NOAqDlZPSSxJBPKNuDRyCoyBCoBsE67E9FE8ikfxKB7Fo3gUj+JRPIpHMVUxsPFdmZpYBGxwmwLb3YaWlkZAphlXsR4A+dv8Ow==\"\r\n",
        "\"USC00415427\"\t\"eNrTSCkw4ApWz8xLSa1Q5yow5PI0NOAqDlZPSSxJBPKNuDRyCoyBCoBsE67E9FE8ikfxKB7Fo3gUj+JRPIpHMVUxsPFdmZpYBGxwmwLb3YaWlqZAphlXsR4A+fP8Pg==\"\r\n",
        "\"USC00415427\"\t\"eNrTSCkw4ApWz8xLSa1Q5yow5PI0NOAqDlZPSSxJBPKNuDRyCoyBCoBsE67E9FE8ikfxKB7Fo3gUj+JRPIpHMVUxsPFdmZpYBGxwmwLb3YaWliZAphlXsR4A+ev8PQ==\"\r\n",
        "\"USC00415427\"\t\"eNrTSCkw4ApWz8xLSa1Q5yow5PI0NOAqDlZPSSxJBPKNuDRyCoyBCoBsE67E9FE8ikfxKB7Fo3gUj+JRPIpHMVUxsPFdmZpYBGxwmwLb3YaWluZAphlXsR4A+gP8QA==\"\r\n",
        "\"USC00415427\"\t\"eNrTSCkw4ApWz8xLSa1Q5yow5PI0NOAqDlZPSSxJBPKNuDRyCoyBCoBsE67E9FE8ikfxKB7Fo3gUj+JRPIpHMVUxsPFdmZpYBGxwmwLb3YaWlmZAphlXsR4A+fv8Pw==\"\r\n",
        "\"USC00415427\"\t\"eNrTSCkw4ApWz8xLSa1Q5yow5PI0NOAqDlZPSSxJBPKNuDRyCoyBCoBsE67E9FE8ikfxKB7Fo3gUj+JRPIpHMVUxsPFdmZpYBGxwmwLb3YaWlpZAphlXsR4A+hP8Qg==\"\r\n",
        "\"USC00415427\"\t\"eNrTSCkw4ApWz8xLSa1Q5yow5PI0NOAqDlZPSSxJBPKNuDRyCoyBCoBsE67E9FE8ikfxKB7Fo3gUj+JRPIpHMVUxsPFdmZpYBGxwmwLb3YaWlhZAphlXsR4A+gv8QQ==\"\r\n",
        "\"USC00415427\"\t\"eNrTSCkw4ApWz8xLSa1Q5yow5PI0NOAqDlZPSSxJBPKNuDRyCoyBCoBsE67E9FE8ikfxKB7Fo3gUj+JRPIpHMVUxsPFdmZpYBGxwmwLb3UYGBkZAphlXsR4A+Tv8Kg==\"\r\n",
        "\"USC00415427\"\t\"eNrTSCkw4ApWz8xLSa1Q5yow5PI0NOAqDlZPSSxJBPKNuDRyCoyBCoBsE67E9FE8ikfxKB7Fo3gUj+JRPIpHMVUxsPFdmZpYBGxwmwLb3UYGBsZAphlXsR4A+UP8Kw==\"\r\n",
        "\"USC00415427\"\t\"eNrTSCkw4ApWz8xLSa1Q5yow5PI0NOAqDlZPSSxJBPKNuDRyCoyBCoBsE67E9FE8ikfxKB7Fo3gUj+JRPIpHMVUxsPFdmZpYBGxwmwLb3UYGBgZAphlXsR4A+Sv8KA==\"\r\n",
        "\"USC00415427\"\t\"eNrTSCkw4ApWz8xLSa1Q5yow5PI0NOAqDlZPSSxJBPKNuDRyCoyBCoBsE67E9FE8ikfxKB7Fo3gUj+JRPIpHMVUxsPFdmZpYBGxwmwLb3UYGBoZAphlXsR4A+TP8KQ==\"\r\n",
        "\"USC00415427\"\t\"eNrTSCkw4ApWz8xLSa1Q5yow5PI0NOAqDlZPSSxJBPKNuDRyCoyBCoBsE67E9FE8ikfxKB7Fo3gUj+JRPIpHMVUxsPFdmZpYBGxwmwLb3UYGBmZAphlXsR4A+Vv8Lg==\"\r\n",
        "\"USC00415427\"\t\"eNrTSCkw4ApWz8xLSa1Q5yow5PI0NOAqDlZPSSxJBPKNuDRyCoyBCoBsE67E9FE8ikfxKB7Fo3gUj+JRPIpHMVUxsPFdmZpYBGxwmwLb3UYGBuZAphlXsR4A+WP8Lw==\"\r\n",
        "\"USC00415427\"\t\"eNrTSCkw4ApWz8xLSa1Q5yow5PI0NOAqDlZPSSxJBPKNuDRyCoyBCoBsE67E9FE8ikfxKB7Fo3gUj+JRPIpHMVUxsPFdmZpYBGxwmwLb3UYGBiZAphlXsR4A+Uv8LA==\"\r\n",
        "\"USC00415427\"\t\"eNrTSCkw4ApWz8xLSa1Q5yow5PI0NOAqDlZPSSxJBPKNuDRyCoyBCoBsE67E9FE8ikfxKB7Fo3gUj+JRPIpHMVUxsPFdmZpYBGxwmwLb3UYGBqZAphlXsR4A+VP8LQ==\"\r\n",
        "\"USC00415427\"\t\"eNrTSCkw4ApWz8xLSa1Q5yow5PI0NOAqDlZPSSxJBPKNuDRyCoyBCoBsE67E9FE8ikfxKB7Fo3gUj+JRPIpHMVUxsPFdmZpYBGxwmwLb3UYGBhZAphlXsR4A+Wv8MA==\"\r\n",
        "\"USC00415427\"\t\"eNrTSCkw4ApWz8xLSa1Q5yow5PI0NOAqDlZPSSxJBPKNuDRyCoyBCoBsE67E9FE8ikfxKB7Fo3gUj+JRPIpHMVUxsPFdmZpYBGxwmwLb3UYGBpZAphlXsR4A+XP8MQ==\"\r\n"
       ]
      },
      {
       "output_type": "stream",
       "stream": "stdout",
       "text": [
        "\"ASN00009024\"\t\"eNrTSCkw4ApWz8xLSa1Q5yow5PI0NuUqDlZPSSxJBPKNuDRyCoyBCoBsE67E9FE8ikfxKB7Fo3gUj+JRPIpHMVUxsPFdmZpYBGxwmwLb3YaWJsZAphlXsR4ASu/8Pg==\"\r\n",
        "\"ASN00009024\"\t\"eNrTSCkw4ApWz8xLSa1Q5yow5PI0NuUqDlZPSSxJBPKNuDRyCoyBCoBsE67E9FE8ikfxKB7Fo3gUj+JRPIpHMVUxsPFdmZpYBGxwmwLb3YaWluZAphlXsR4ASzz8Rw==\"\r\n",
        "\"ASN00009024\"\t\"eNrTSCkw4ApWz8xLSa1Q5yow5PI0NuUqDlZPSSxJBPKNuDRyCoyBCoBsE67E9FE8ikfxKB7Fo3gUj+JRPIpHMVUxsPFdmZpYBGxwmwLb3YaWJmZAphlXsR4ASwf8QQ==\"\r\n",
        "\"ASN00009024\"\t\"eNrTSCkw4ApWz8xLSa1Q5yow5PI0NuUqDlZPSSxJBPKNuDRyCoyBCoBsE67E9FE8ikfxKB7Fo3gUj+JRPIpHMVUxsPFdmZpYBGxwmwLb3YaWJuZAphlXsR4ASw/8Qg==\"\r\n",
        "\"ASN00009024\"\t\"eNrTSCkw4ApWz8xLSa1Q5yow5PI0NuUqDlZPSSxJBPKNuDRyCoyBCoBsE67E9FE8ikfxKB7Fo3gUj+JRPIpHMVUxsPFdmZpYBGxwmwLb3YaWZkZAphlXsR4ASvn8Pw==\"\r\n",
        "\"ASN00009024\"\t\"eNrTSCkw4ApWz8xLSa1Q5yow5PI0NuUqDlZPSSxJBPKNuDRyCoyBCoBsE67E9FE8ikfxKB7Fo3gUj+JRPIpHMVUxsPFdmZpYBGxwmwLb3YaWZsZAphlXsR4ASwH8QA==\"\r\n",
        "\"ASN00009024\"\t\"eNrTSCkw4ApWz8xLSa1Q5yow5PI0NuUqDlZPSSxJBPKNuDRyCoyBCoBsE67E9FE8ikfxKB7Fo3gUj+JRPIpHMVUxsPFdmZpYBGxwmwLb3YaWFmZAphlXsR4ASyv8RQ==\"\r\n",
        "\"ASN00009024\"\t\"eNrTSCkw4ApWz8xLSa1Q5yow5PI0NuUqDlZPSSxJBPKNuDRyCoyBCoBsE67E9FE8ikfxKB7Fo3gUj+JRPIpHMVUxsPFdmZpYBGxwmwLb3YaWFuZAphlXsR4ASzP8Rg==\"\r\n",
        "\"ASN00009024\"\t\"eNrTSCkw4ApWz8xLSa1Q5yow5PI0NuUqDlZPSSxJBPKNuDRyCoyBCoBsE67E9FE8ikfxKB7Fo3gUj+JRPIpHMVUxsPFdmZpYBGxwmwLb3YaWFiZAphlXsR4ASxv8Qw==\"\r\n",
        "\"ASN00009024\"\t\"eNrTSCkw4ApWz8xLSa1Q5yow5PI0NuUqDlZPSSxJBPKNuDRyCoyBCoBsE67E9FE8ikfxKB7Fo3gUj+JRPIpHMVUxsPFdmZpYBGxwmwLb3YaWFqZAphlXsR4ASyP8RA==\"\r\n",
        "\"ASN00009024\"\t\"eNrTSCkw4ApWz8xLSa1Q5yow5PI0NuUqDlZPSSxJBPKNuDRyCoyBCoBsE67E9FE8ikfxKB7Fo3gUj+JRPIpHMVUxsPFdmZpYBGxwmwLb3YaWFkZAphlXsR4ASwv8QQ==\"\r\n",
        "\"ASN00009024\"\t\"eNrTSCkw4ApWz8xLSa1Q5yow5PI0NuUqDlZPSSxJBPKNuDRyCoyBCoBsE67E9FE8ikfxKB7Fo3gUj+JRPIpHMVUxsPFdmZpYBGxwmwLb3YaWFsZAphlXsR4ASxP8Qg==\"\r\n",
        "\"ASN00009024\"\t\"eNrTSCkw4ApWz8xLSa1Q5yow5PI0NuUqDlZPSSxJBPKNuDRyCoyBCoBsE67E9FE8ikfxKB7Fo3gUj+JRPIpHMVUxsPFdmZpYBGxwmwLb3YaWFgZAphlXsR4ASvv8Pw==\"\r\n",
        "\"ASN00009024\"\t\"eNrTSCkw4ApWz8xLSa1Q5yow5PI0NuUqDlZPSSxJBPKNuDRyCoyBCoBsE67E9FE8ikfxKB7Fo3gUj+JRPIpHMVUxsPFdmZpYBGxwmwLb3YaWFoZAphlXsR4ASwP8QA==\"\r\n",
        "\"ASN00009024\"\t\"eNrTSCkw4ApWz8xLSa1Q5yow5PI0NuUqDlZPSSxJBPKNuDRyCoyBCoBsE67E9FE8ikfxKB7Fo3gUj+JRPIpHMVUxsPFdmZpYBGxwmwLb3YaWZiZAphlXsR4ASwn8QQ==\"\r\n",
        "\"ASN00009024\"\t\"eNrTSCkw4ApWz8xLSa1Q5yow5PI0NuUqDlZPSSxJBPKNuDRyCoyBCoBsE67E9FE8ikfxKB7Fo3gUj+JRPIpHMVUxsPFdmZpYBGxwmwLb3YaWZqZAphlXsR4ASxH8Qg==\"\r\n",
        "\"ASN00009024\"\t\"eNrTSCkw4ApWz8xLSa1Q5yow5PI0NuUqDlZPSSxJBPKNuDRyCoyBCoBsE67E9FE8ikfxKB7Fo3gUj+JRPIpHMVUxsPFdmZpYBGxwmwLb3YaWZmZAphlXsR4ASxn8Qw==\"\r\n",
        "\"ASN00009024\"\t\"eNrTSCkw4ApWz8xLSa1Q5yow5PI0NuUqDlZPSSxJBPKNuDRyCoyBCoBsE67E9FE8ikfxKB7Fo3gUj+JRPIpHMVUxsPFdmZpYBGxwmwLb3YaWZuZAphlXsR4ASyH8RA==\"\r\n",
        "\"ASN00009024\"\t\"eNrTSCkw4ApWz8xLSa1Q5yow5PI0NuUqDlZPSSxJBPKNuDRyCoyBCoBsE67E9FE8ikfxKB7Fo3gUj+JRPIpHMVUxsPFdmZpYBGxwmwLb3YaWZgZAphlXsR4ASun8PQ==\"\r\n",
        "\"ASN00009024\"\t\"eNrTSCkw4ApWz8xLSa1Q5yow5PI0NuUqDlZPSSxJBPKNuDRyCoyBCoBsE67E9FE8ikfxKB7Fo3gUj+JRPIpHMVUxsPFdmZpYBGxwmwLb3YaWZoZAphlXsR4ASvH8Pg==\"\r\n",
        "\"ASN00009024\"\t\"eNrTSCkw4ApWz8xLSa1Q5yow5PI0NuUqDlZPSSxJBPKNuDRyCoyBCoBsE67E9FE8ikfxKB7Fo3gUj+JRPIpHMVUxsPFdmZpYBGxwmwLb3YaWFhZAphlXsR4ASzv8Rw==\"\r\n",
        "\"ASN00009024\"\t\"eNrTSCkw4ApWz8xLSa1Q5yow5PI0NuUqDlZPSSxJBPKNuDRyCoyBCoBsE67E9FE8ikfxKB7Fo3gUj+JRPIpHMVUxsPFdmZpYBGxwmwLb3YaWFpZAphlXsR4AS0P8SA==\"\r\n",
        "\"ASN00009024\"\t\"eNrTSCkw4ApWz8xLSa1Q5yow5PI0NuUqDlZPSSxJBPKNuDRyCoyBCoBsE67E9FE8ikfxKB7Fo3gUj+JRPIpHMVUxsPFdmZpYBGxwmwLb3YaWlmZAphlXsR4ASzT8Rg==\"\r\n",
        "\"ASN00009024\"\t\"eNrTSCkw4ApWz8xLSa1Q5yow5PI0NuUqDlZPSSxJBPKNuDRyCoyBCoBsE67E9FE8ikfxKB7Fo3gUj+JRPIpHMVUxsPFdmZpYBGxwmwLb3YaWJpZAphlXsR4ASx/8RA==\"\r\n",
        "\"ASN00009024\"\t\"eNrTSCkw4ApWz8xLSa1Q5yow5PI0NuUqDlZPSSxJBPKNuDRyCoyBCoBsE67E9FE8ikfxKB7Fo3gUj+JRPIpHMVUxsPFdmZpYBGxwmwLb3UYGhoZAphlXsR4ASnX8MQ==\"\r\n",
        "\"ASN00009024\"\t\"eNrTSCkw4ApWz8xLSa1Q5yow5PI0NuUqDlZPSSxJBPKNuDRyCoyBCoBsE67E9FE8ikfxKB7Fo3gUj+JRPIpHMVUxsPFdmZpYBGxwmwLb3UYGhgZAphlXsR4ASm38MA==\"\r\n",
        "\"ASN00009024\"\t\"eNrTSCkw4ApWz8xLSa1Q5yow5PI0NuUqDlZPSSxJBPKNuDRyCoyBCoBsE67E9FE8ikfxKB7Fo3gUj+JRPIpHMVUxsPFdmZpYBGxwmwLb3UYGhkZAphlXsR4ASn38Mg==\"\r\n",
        "\"ASN00009024\"\t\"eNrTSCkw4ApWz8xLSa1Q5yow5PI0NuUqDlZPSSxJBPKNuDRyCoyBCoBsE67E9FE8ikfxKB7Fo3gUj+JRPIpHMVUxsPFdmZpYBGxwmwLb3YaWlpZAphlXsR4AS0z8SQ==\"\r\n",
        "\"ASN00009024\"\t\"eNrTSCkw4ApWz8xLSa1Q5yow5PI0NuUqDlZPSSxJBPKNuDRyCoyBCoBsE67E9FE8ikfxKB7Fo3gUj+JRPIpHMVUxsPFdmZpYBGxwmwLb3YaWJqZAphlXsR4ASv/8QA==\"\r\n",
        "\"ASN00009024\"\t\"eNrTSCkw4ApWz8xLSa1Q5yow5PI0NuUqDlZPSSxJBPKNuDRyCoyBCoBsE67E9FE8ikfxKB7Fo3gUj+JRPIpHMVUxsPFdmZpYBGxwmwLb3YaWJhZAphlXsR4ASxf8Qw==\"\r\n",
        "\"ASN00009024\"\t\"eNrTSCkw4ApWz8xLSa1Q5yow5PI0NuUqDlZPSSxJBPKNuDRyCoyBCoBsE67E9FE8ikfxKB7Fo3gUj+JRPIpHMVUxsPFdmZpYBGxwmwLb3YaWpqZAphlXsR4ASwj8QQ==\"\r\n",
        "\"ASN00009024\"\t\"eNrTSCkw4ApWz8xLSa1Q5yow5PI0NuUqDlZPSSxJBPKNuDRyCoyBCoBsE67E9FE8ikfxKB7Fo3gUj+JRPIpHMVUxsPFdmZpYBGxwmwLb3YaWpiZAphlXsR4ASwD8QA==\"\r\n",
        "\"ASN00009024\"\t\"eNrTSCkw4ApWz8xLSa1Q5yow5PI0NuUqDlZPSSxJBPKNuDRyCoyBCoBsE67E9FE8ikfxKB7Fo3gUj+JRPIpHMVUxsPFdmZpYBGxwmwLb3YaWpuZAphlXsR4ASxj8Qw==\"\r\n",
        "\"ASN00009024\"\t\"eNrTSCkw4ApWz8xLSa1Q5yow5PI0NuUqDlZPSSxJBPKNuDRyCoyBCoBsE67E9FE8ikfxKB7Fo3gUj+JRPIpHMVUxsPFdmZpYBGxwmwLb3YaWpmZAphlXsR4ASxD8Qg==\"\r\n",
        "\"ASN00009024\"\t\"eNrTSCkw4ApWz8xLSa1Q5yow5PI0NuUqDlZPSSxJBPKNuDRyCoyBCoBsE67E9FE8ikfxKB7Fo3gUj+JRPIpHMVUxsPFdmZpYBGxwmwLb3YaWpoZAphlXsR4ASuj8PQ==\"\r\n",
        "\"ASN00009024\"\t\"eNrTSCkw4ApWz8xLSa1Q5yow5PI0NuUqDlZPSSxJBPKNuDRyCoyBCoBsE67E9FE8ikfxKB7Fo3gUj+JRPIpHMVUxsPFdmZpYBGxwmwLb3YaWpgZAphlXsR4ASuD8PA==\"\r\n",
        "\"ASN00009024\"\t\"eNrTSCkw4ApWz8xLSa1Q5yow5PI0NuUqDlZPSSxJBPKNuDRyCoyBCoBsE67E9FE8ikfxKB7Fo3gUj+JRPIpHMVUxsPFdmZpYBGxwmwLb3YaWpsZAphlXsR4ASvj8Pw==\"\r\n",
        "\"ASN00009024\"\t\"eNrTSCkw4ApWz8xLSa1Q5yow5PI0NuUqDlZPSSxJBPKNuDRyCoyBCoBsE67E9FE8ikfxKB7Fo3gUj+JRPIpHMVUxsPFdmZpYBGxwmwLb3YaWpkZAphlXsR4ASvD8Pg==\"\r\n",
        "\"ASN00009024\"\t\"eNrTSCkw4ApWz8xLSa1Q5yow5PI0NuUqDlZPSSxJBPKNuDRyCoyBCoBsE67E9FE8ikfxKB7Fo3gUj+JRPIpHMVUxsPFdmZpYBGxwmwLb3YaWZhZAphlXsR4ASyn8RQ==\"\r\n",
        "\"ASN00009024\"\t\"eNrTSCkw4ApWz8xLSa1Q5yow5PI0NuUqDlZPSSxJBPKNuDRyCoyBCoBsE67E9FE8ikfxKB7Fo3gUj+JRPIpHMVUxsPFdmZpYBGxwmwLb3YaWJiZAphlXsR4ASvf8Pw==\"\r\n",
        "\"ASN00009024\"\t\"eNrTSCkw4ApWz8xLSa1Q5yow5PI0NuUqDlZPSSxJBPKNuDRyCoyBCoBsE67E9FE8ikfxKB7Fo3gUj+JRPIpHMVUxsPFdmZpYBGxwmwLb3YaWppZAphlXsR4ASyj8RQ==\"\r\n",
        "\"ASN00009024\"\t\"eNrTSCkw4ApWz8xLSa1Q5yow5PI0NuUqDlZPSSxJBPKNuDRyCoyBCoBsE67E9FE8ikfxKB7Fo3gUj+JRPIpHMVUxsPFdmZpYBGxwmwLb3YaWphZAphlXsR4ASyD8RA==\"\r\n",
        "\"ASN00009024\"\t\"eNrTSCkw4ApWz8xLSa1Q5yow5PI0NuUqDlZPSSxJBPKNuDRyCoyBCoBsE67E9FE8ikfxKB7Fo3gUj+JRPIpHMVUxsPFdmZpYBGxwmwLb3YaWlhZAphlXsR4AS0T8SA==\"\r\n",
        "\"ASN00009024\"\t\"eNrTSCkw4ApWz8xLSa1Q5yow5PI0NuUqDlZPSSxJBPKNuDRyCoyBCoBsE67E9FE8ikfxKB7Fo3gUj+JRPIpHMVUxsPFdmZpYBGxwmwLb3YaWloZAphlXsR4ASwz8QQ==\"\r\n",
        "\"ASN00009024\"\t\"eNrTSCkw4ApWz8xLSa1Q5yow5PI0NuUqDlZPSSxJBPKNuDRyCoyBCoBsE67E9FE8ikfxKB7Fo3gUj+JRPIpHMVUxsPFdmZpYBGxwmwLb3YaWlgZAphlXsR4ASwT8QA==\"\r\n",
        "\"ASN00009024\"\t\"eNrTSCkw4ApWz8xLSa1Q5yow5PI0NuUqDlZPSSxJBPKNuDRyCoyBCoBsE67E9FE8ikfxKB7Fo3gUj+JRPIpHMVUxsPFdmZpYBGxwmwLb3YaWlsZAphlXsR4ASxz8Qw==\"\r\n",
        "\"ASN00009024\"\t\"eNrTSCkw4ApWz8xLSa1Q5yow5PI0NuUqDlZPSSxJBPKNuDRyCoyBCoBsE67E9FE8ikfxKB7Fo3gUj+JRPIpHMVUxsPFdmZpYBGxwmwLb3YaWlkZAphlXsR4ASxT8Qg==\"\r\n",
        "\"ASN00009024\"\t\"eNrTSCkw4ApWz8xLSa1Q5yow5PI0NuUqDlZPSSxJBPKNuDRyCoyBCoBsE67E9FE8ikfxKB7Fo3gUj+JRPIpHMVUxsPFdmZpYBGxwmwLb3YaWlqZAphlXsR4ASyz8RQ==\"\r\n",
        "\"ASN00009024\"\t\"eNrTSCkw4ApWz8xLSa1Q5yow5PI0NuUqDlZPSSxJBPKNuDRyCoyBCoBsE67E9FE8ikfxKB7Fo3gUj+JRPIpHMVUxsPFdmZpYBGxwmwLb3YaWliZAphlXsR4ASyT8RA==\"\r\n",
        "\"ASN00009024\"\t\"eNrTSCkw4ApWz8xLSa1Q5yow5PI0NuUqDlZPSSxJBPKNuDRyCoyBCoBsE67E9FE8ikfxKB7Fo3gUj+JRPIpHMVUxsPFdmZpYBGxwmwLb3YaW5pZAphlXsR4ASzr8Rw==\"\r\n",
        "\"ASN00009024\"\t\"eNrTSCkw4ApWz8xLSa1Q5yow5PI0NuUqDlZPSSxJBPKNuDRyCoyBCoBsE67E9FE8ikfxKB7Fo3gUj+JRPIpHMVUxsPFdmZpYBGxwmwLb3YaW5hZAphlXsR4ASzL8Rg==\"\r\n",
        "\"ASN00009024\"\t\"eNrTSCkw4ApWz8xLSa1Q5yow5PI0NuUqDlZPSSxJBPKNuDRyCoyBCoBsE67E9FE8ikfxKB7Fo3gUj+JRPIpHMVUxsPFdmZpYBGxwmwLb3YaW5uZAphlXsR4ASyr8RQ==\"\r\n",
        "\"ASN00009024\"\t\"eNrTSCkw4ApWz8xLSa1Q5yow5PI0NuUqDlZPSSxJBPKNuDRyCoyBCoBsE67E9FE8ikfxKB7Fo3gUj+JRPIpHMVUxsPFdmZpYBGxwmwLb3YaW5mZAphlXsR4ASyL8RA==\"\r\n",
        "\"ASN00009024\"\t\"eNrTSCkw4ApWz8xLSa1Q5yow5PI0NuUqDlZPSSxJBPKNuDRyCoyBCoBsE67E9FE8ikfxKB7Fo3gUj+JRPIpHMVUxsPFdmZpYBGxwmwLb3YaW5qZAphlXsR4ASxr8Qw==\"\r\n",
        "\"ASN00009024\"\t\"eNrTSCkw4ApWz8xLSa1Q5yow5PI0NuUqDlZPSSxJBPKNuDRyCoyBCoBsE67E9FE8ikfxKB7Fo3gUj+JRPIpHMVUxsPFdmZpYBGxwmwLb3YaW5iZAphlXsR4ASxL8Qg==\"\r\n",
        "\"ASN00009024\"\t\"eNrTSCkw4ApWz8xLSa1Q5yow5PI0NuUqDlZPSSxJBPKNuDRyCoyBCoBsE67E9FE8ikfxKB7Fo3gUj+JRPIpHMVUxsPFdmZpYBGxwmwLb3YaW5sZAphlXsR4ASwr8QQ==\"\r\n",
        "\"ASN00009024\"\t\"eNrTSCkw4ApWz8xLSa1Q5yow5PI0NuUqDlZPSSxJBPKNuDRyCoyBCoBsE67E9FE8ikfxKB7Fo3gUj+JRPIpHMVUxsPFdmZpYBGxwmwLb3YaW5kZAphlXsR4ASwL8QA==\"\r\n",
        "\"ASN00009024\"\t\"eNrTSCkw4ApWz8xLSa1Q5yow5PI0NuUqDlZPSSxJBPKNuDRyCoyBCoBsE67E9FE8ikfxKB7Fo3gUj+JRPIpHMVUxsPFdmZpYBGxwmwLb3YaW5oZAphlXsR4ASvr8Pw==\"\r\n",
        "\"ASN00009024\"\t\"eNrTSCkw4ApWz8xLSa1Q5yow5PI0NuUqDlZPSSxJBPKNuDRyCoyBCoBsE67E9FE8ikfxKB7Fo3gUj+JRPIpHMVUxsPFdmZpYBGxwmwLb3YaW5gZAphlXsR4ASvL8Pg==\"\r\n",
        "\"ASN00009024\"\t\"eNrt1rEJgDAUhOH+FomVxMS4g3UmeJAggkgwFrq9N4TlFR/cgzfAP5Tmkd1+lvo4tAlrTOjZFbuNd8BwtMgH7hm2iYiIiIjIrxjfb7WLwZ3Y3cH7wLmgjx9KdPwx\"\r\n",
        "\"ASN00009024\"\t\"eNrt1rEJgDAUhOH+FomVxMS4g3UmeJAggkgwFrq9N4TlFR/cgzfAP5Tmkd1+lvo4tAlrTOjZFbuNd8BwtMgH7hm2iYiIiIjIrxjfb7WLwZ3Y3cH7yLmgjx9KfPwy\"\r\n",
        "\"ASN00009024\"\t\"eNrTSCkw4ApWz8xLSa1Q5yow5PI0NuUqDlZPSSxJBPKNuDRyCoyBCoBsE67E9FE8ikfxKB7Fo3gUj+JRPIpHMVUxsPFdmZpYBGxwmwLb3UYGBgZAphlXsR4ASmT8Lw==\"\r\n",
        "\"ASN00009024\"\t\"eNrTSCkw4ApWz8xLSa1Q5yow5PI0NuUqDlZPSSxJBPKNuDRyCoyBCoBsE67E9FE8ikfxKB7Fo3gUj+JRPIpHMVUxsPFdmZpYBGxwmwLb3UYGBoZAphlXsR4ASmz8MA==\"\r\n",
        "\"ASN00009024\"\t\"eNrTSCkw4ApWz8xLSa1Q5yow5PI0NuUqDlZPSSxJBPKNuDRyCoyBCoBsE67E9FE8ikfxKB7Fo3gUj+JRPIpHMVUxsPFdmZpYBGxwmwLb3UYGBmZAphlXsR4ASpT8NQ==\"\r\n",
        "\"ASN00009024\"\t\"eNrTSCkw4ApWz8xLSa1Q5yow5PI0NuUqDlZPSSxJBPKNuDRyCoyBCoBsE67E9FE8ikfxKB7Fo3gUj+JRPIpHMVUxsPFdmZpYBGxwmwLb3UYGBuZAphlXsR4ASpz8Ng==\"\r\n",
        "\"ASN00009024\"\t\"eNrTSCkw4ApWz8xLSa1Q5yow5PI0NuUqDlZPSSxJBPKNuDRyCoyBCoBsE67E9FE8ikfxKB7Fo3gUj+JRPIpHMVUxsPFdmZpYBGxwmwLb3UYGBiZAphlXsR4ASoT8Mw==\"\r\n",
        "\"ASN00009024\"\t\"eNrt1rEJgDAUhOH+FomVxMS4g3UmeJAggkgwFrq9N4TlFR/cgzfAP5Tmkd1+lvo4tAlrTOjZFbuNd8BwtMgH7hm2iYiIiIjIrxjfb7WLwZ3Y3cH7xLmgjx9KjPw0\"\r\n",
        "\"ASN00009024\"\t\"eNrTSCkw4ApWz8xLSa1Q5yow5PI0NuUqDlZPSSxJBPKNuDRyCoyBCoBsE67E9FE8ikfxKB7Fo3gUj+JRPIpHMVUxsPFdmZpYBGxwmwLb3YaWZpZAphlXsR4ASzH8Rg==\"\r\n",
        "\"ASN00009024\"\t\"eNrTSCkw4ApWz8xLSa1Q5yow5PI0NuUqDlZPSSxJBPKNuDRyCoyBCoBsE67E9FE8ikfxKB7Fo3gUj+JRPIpHMVUxsPFdmZpYBGxwmwLb3UYGBhZAphlXsR4ASqT8Nw==\"\r\n",
        "\"ASN00009024\"\t\"eNrTSCkw4ApWz8xLSa1Q5yow5PI0NuUqDlZPSSxJBPKNuDRyCoyBCoBsE67E9FE8ikfxKB7Fo3gUj+JRPIpHMVUxsPFdmZpYBGxwmwLb3UYGBpZAphlXsR4ASqz8OA==\"\r\n"
       ]
      },
      {
       "output_type": "stream",
       "stream": "stdout",
       "text": [
        "\"ASN00054128\"\t\"eNrTSCkw4ApWz8xLSa1Q5yow5PI0MeMqDlZPSSxJBPKNuDRyCoyBCoBsE67E9FE8ikfxKB7Fo3gUj+JRPIpHMVUxsPFdmZpYBGxwmwLb3YaWFmZAJrBNrgcAYlz8Rw==\"\r\n",
        "\"ASN00054128\"\t\"eNrTSCkw4ApWz8xLSa1Q5yow5PI0MeMqDlZPSSxJBPKNuDRyCoyBCoBsE67E9FE8ikfxKB7Fo3gUj+JRPIpHMVUxsPFdmZpYBGxwmwLb3YaWFuZAJrBNrgcAYmT8SA==\"\r\n",
        "\"ASN00054128\"\t\"eNrTSCkw4ApWz8xLSa1Q5yow5PI0MeMqDlZPSSxJBPKNuDRyCoyBCoBsE67E9FE8ikfxKB7Fo3gUj+JRPIpHMVUxsPFdmZpYBGxwmwLb3YaWFiZAJrBNrgcAYkz8RQ==\"\r\n",
        "\"ASN00054128\"\t\"eNrTSCkw4ApWz8xLSa1Q5yow5PI0MeMqDlZPSSxJBPKNuDRyCoyBCoBsE67E9FE8ikfxKB7Fo3gUj+JRPIpHMVUxsPFdmZpYBGxwmwLb3YaW5uZAJrBNrgcAYlv8Rw==\"\r\n",
        "\"ASN00054128\"\t\"eNrTSCkw4ApWz8xLSa1Q5yow5PI0MeMqDlZPSSxJBPKNuDRyCoyBCoBsE67E9FE8ikfxKB7Fo3gUj+JRPIpHMVUxsPFdmZpYBGxwmwLb3YaWFkZAJrBNrgcAYjz8Qw==\"\r\n",
        "\"ASN00054128\"\t\"eNrTSCkw4ApWz8xLSa1Q5yow5PI0MeMqDlZPSSxJBPKNuDRyCoyBCoBsE67E9FE8ikfxKB7Fo3gUj+JRPIpHMVUxsPFdmZpYBGxwmwLb3YaWZpZAJrBNrgcAYmL8SA==\"\r\n",
        "\"ASN00054128\"\t\"eNrTSCkw4ApWz8xLSa1Q5yow5PI0MeMqDlZPSSxJBPKNuDRyCoyBCoBsE67E9FE8ikfxKB7Fo3gUj+JRPIpHMVUxsPFdmZpYBGxwmwLb3YaWFgZAJrBNrgcAYiz8QQ==\"\r\n",
        "\"ASN00054128\"\t\"eNrTSCkw4ApWz8xLSa1Q5yow5PI0MeMqDlZPSSxJBPKNuDRyCoyBCoBsE67E9FE8ikfxKB7Fo3gUj+JRPIpHMVUxsPFdmZpYBGxwmwLb3YaWFoZAJrBNrgcAYjT8Qg==\"\r\n",
        "\"ASN00054128\"\t\"eNrTSCkw4ApWz8xLSa1Q5yow5PI0MeMqDlZPSSxJBPKNuDRyCoyBCoBsE67E9FE8ikfxKB7Fo3gUj+JRPIpHMVUxsPFdmZpYBGxwmwLb3YaWFhZAJrBNrgcAYmz8SQ==\"\r\n",
        "\"ASN00054128\"\t\"eNrTSCkw4ApWz8xLSa1Q5yow5PI0MeMqDlZPSSxJBPKNuDRyCoyBCoBsE67E9FE8ikfxKB7Fo3gUj+JRPIpHMVUxsPFdmZpYBGxwmwLb3YaWFpZAJrBNrgcAYnT8Sg==\"\r\n",
        "\"ASN00054128\"\t\"eNrTSCkw4ApWz8xLSa1Q5yow5PI0MeMqDlZPSSxJBPKNuDRyCoyBCoBsE67E9FE8ikfxKB7Fo3gUj+JRPIpHMVUxsPFdmZpYBGxwmwLb3UYGhoZAJrBNrgcAYab8Mw==\"\r\n",
        "\"ASN00054128\"\t\"eNrTSCkw4ApWz8xLSa1Q5yow5PI0MeMqDlZPSSxJBPKNuDRyCoyBCoBsE67E9FE8ikfxKB7Fo3gUj+JRPIpHMVUxsPFdmZpYBGxwmwLb3UYGhgZAJrBNrgcAYZ78Mg==\"\r\n",
        "\"ASN00054128\"\t\"eNrTSCkw4ApWz8xLSa1Q5yow5PI0MeMqDlZPSSxJBPKNuDRyCoyBCoBsE67E9FE8ikfxKB7Fo3gUj+JRPIpHMVUxsPFdmZpYBGxwmwLb3UYGhkZAJrBNrgcAYa78NA==\"\r\n",
        "\"ASN00054128\"\t\"eNrTSCkw4ApWz8xLSa1Q5yow5PI0MeMqDlZPSSxJBPKNuDRyCoyBCoBsE67E9FE8ikfxKB7Fo3gUj+JRPIpHMVUxsPFdmZpYBGxwmwLb3YaW5hZAJrBNrgcAYmP8SA==\"\r\n",
        "\"ASN00054128\"\t\"eNrTSCkw4ApWz8xLSa1Q5yow5PI0MeMqDlZPSSxJBPKNuDRyCoyBCoBsE67E9FE8ikfxKB7Fo3gUj+JRPIpHMVUxsPFdmZpYBGxwmwLb3UYGBqZAJrBNrgcAYb38Ng==\"\r\n",
        "\"ASN00054128\"\t\"eNrTSCkw4ApWz8xLSa1Q5yow5PI0MeMqDlZPSSxJBPKNuDRyCoyBCoBsE67E9FE8ikfxKB7Fo3gUj+JRPIpHMVUxsPFdmZpYBGxwmwLb3YaWFqZAJrBNrgcAYlT8Rg==\"\r\n",
        "\"ASN00054128\"\t\"eNrTSCkw4ApWz8xLSa1Q5yow5PI0MeMqDlZPSSxJBPKNuDRyCoyBCoBsE67E9FE8ikfxKB7Fo3gUj+JRPIpHMVUxsPFdmZpYBGxwmwLb3YaWFsZAJrBNrgcAYkT8RA==\"\r\n",
        "\"ASN00054128\"\t\"eNrTSCkw4ApWz8xLSa1Q5yow5PI0MeMqDlZPSSxJBPKNuDRyCoyBCoBsE67E9FE8ikfxKB7Fo3gUj+JRPIpHMVUxsPFdmZpYBGxwmwLb3YaWliZAJrBNrgcAYlX8Rg==\"\r\n",
        "\"ASN00054128\"\t\"eNrTSCkw4ApWz8xLSa1Q5yow5PI0MeMqDlZPSSxJBPKNuDRyCoyBCoBsE67E9FE8ikfxKB7Fo3gUj+JRPIpHMVUxsPFdmZpYBGxwmwLb3YaWloZAJrBNrgcAYj38Qw==\"\r\n",
        "\"ASN00054128\"\t\"eNrTSCkw4ApWz8xLSa1Q5yow5PI0MeMqDlZPSSxJBPKNuDRyCoyBCoBsE67E9FE8ikfxKB7Fo3gUj+JRPIpHMVUxsPFdmZpYBGxwmwLb3YaWlgZAJrBNrgcAYjX8Qg==\"\r\n",
        "\"ASN00054128\"\t\"eNrTSCkw4ApWz8xLSa1Q5yow5PI0MeMqDlZPSSxJBPKNuDRyCoyBCoBsE67E9FE8ikfxKB7Fo3gUj+JRPIpHMVUxsPFdmZpYBGxwmwLb3YaWlsZAJrBNrgcAYk38RQ==\"\r\n",
        "\"ASN00054128\"\t\"eNrTSCkw4ApWz8xLSa1Q5yow5PI0MeMqDlZPSSxJBPKNuDRyCoyBCoBsE67E9FE8ikfxKB7Fo3gUj+JRPIpHMVUxsPFdmZpYBGxwmwLb3YaWlkZAJrBNrgcAYkX8RA==\"\r\n",
        "\"ASN00054128\"\t\"eNrTSCkw4ApWz8xLSa1Q5yow5PI0MeMqDlZPSSxJBPKNuDRyCoyBCoBsE67E9FE8ikfxKB7Fo3gUj+JRPIpHMVUxsPFdmZpYBGxwmwLb3YaWlqZAJrBNrgcAYl38Rw==\"\r\n",
        "\"ASN00054128\"\t\"eNrTSCkw4ApWz8xLSa1Q5yow5PI0MeMqDlZPSSxJBPKNuDRyCoyBCoBsE67E9FE8ikfxKB7Fo3gUj+JRPIpHMVUxsPFdmZpYBGxwmwLb3YaW5pZAJrBNrgcAYmv8SQ==\"\r\n",
        "\"ASN00054128\"\t\"eNrTSCkw4ApWz8xLSa1Q5yow5PI0MeMqDlZPSSxJBPKNuDRyCoyBCoBsE67E9FE8ikfxKB7Fo3gUj+JRPIpHMVUxsPFdmZpYBGxwmwLb3YaWluZAJrBNrgcAYm38SQ==\"\r\n",
        "\"ASN00054128\"\t\"eNrTSCkw4ApWz8xLSa1Q5yow5PI0MeMqDlZPSSxJBPKNuDRyCoyBCoBsE67E9FE8ikfxKB7Fo3gUj+JRPIpHMVUxsPFdmZpYBGxwmwLb3YaWlmZAJrBNrgcAYmX8SA==\"\r\n",
        "\"ASN00054128\"\t\"eNrTSCkw4ApWz8xLSa1Q5yow5PI0MeMqDlZPSSxJBPKNuDRyCoyBCoBsE67E9FE8ikfxKB7Fo3gUj+JRPIpHMVUxsPFdmZpYBGxwmwLb3YaWlpZAJrBNrgcAYn38Sw==\"\r\n",
        "\"ASN00054128\"\t\"eNrTSCkw4ApWz8xLSa1Q5yow5PI0MeMqDlZPSSxJBPKNuDRyCoyBCoBsE67E9FE8ikfxKB7Fo3gUj+JRPIpHMVUxsPFdmZpYBGxwmwLb3YaW5mZAJrBNrgcAYlP8Rg==\"\r\n",
        "\"ASN00054128\"\t\"eNrTSCkw4ApWz8xLSa1Q5yow5PI0MeMqDlZPSSxJBPKNuDRyCoyBCoBsE67E9FE8ikfxKB7Fo3gUj+JRPIpHMVUxsPFdmZpYBGxwmwLb3YaW5qZAJrBNrgcAYkv8RQ==\"\r\n",
        "\"ASN00054128\"\t\"eNrTSCkw4ApWz8xLSa1Q5yow5PI0MeMqDlZPSSxJBPKNuDRyCoyBCoBsE67E9FE8ikfxKB7Fo3gUj+JRPIpHMVUxsPFdmZpYBGxwmwLb3YaW5iZAJrBNrgcAYkP8RA==\"\r\n",
        "\"ASN00054128\"\t\"eNrTSCkw4ApWz8xLSa1Q5yow5PI0MeMqDlZPSSxJBPKNuDRyCoyBCoBsE67E9FE8ikfxKB7Fo3gUj+JRPIpHMVUxsPFdmZpYBGxwmwLb3YaW5sZAJrBNrgcAYjv8Qw==\"\r\n",
        "\"ASN00054128\"\t\"eNrTSCkw4ApWz8xLSa1Q5yow5PI0MeMqDlZPSSxJBPKNuDRyCoyBCoBsE67E9FE8ikfxKB7Fo3gUj+JRPIpHMVUxsPFdmZpYBGxwmwLb3YaW5kZAJrBNrgcAYjP8Qg==\"\r\n",
        "\"ASN00054128\"\t\"eNrTSCkw4ApWz8xLSa1Q5yow5PI0MeMqDlZPSSxJBPKNuDRyCoyBCoBsE67E9FE8ikfxKB7Fo3gUj+JRPIpHMVUxsPFdmZpYBGxwmwLb3YaW5oZAJrBNrgcAYiv8QQ==\"\r\n",
        "\"ASN00054128\"\t\"eNrTSCkw4ApWz8xLSa1Q5yow5PI0MeMqDlZPSSxJBPKNuDRyCoyBCoBsE67E9FE8ikfxKB7Fo3gUj+JRPIpHMVUxsPFdmZpYBGxwmwLb3YaW5gZAJrBNrgcAYiP8QA==\"\r\n",
        "\"ASN00054128\"\t\"eNrTSCkw4ApWz8xLSa1Q5yow5PI0MeMqDlZPSSxJBPKNuDRyCoyBCoBsE67E9FE8ikfxKB7Fo3gUj+JRPIpHMVUxsPFdmZpYBGxwmwLb3UYGBkZAJrBNrgcAYaX8Mw==\"\r\n",
        "\"ASN00054128\"\t\"eNrTSCkw4ApWz8xLSa1Q5yow5PI0MeMqDlZPSSxJBPKNuDRyCoyBCoBsE67E9FE8ikfxKB7Fo3gUj+JRPIpHMVUxsPFdmZpYBGxwmwLb3UYGBsZAJrBNrgcAYa38NA==\"\r\n",
        "\"ASN00054128\"\t\"eNrt1sEJgDAMheF7FklPEmt1B8+dINBSBJGiHnR73xAe3+GDF8gAfyjdJOt2lPqo9FHWtMiVtfjtuKOEvU94wE7ijYiIiIiIfoX4fqufCO4Z3R3NDBNNPnxhlfwx\"\r\n",
        "\"ASN00054128\"\t\"eNrTSCkw4ApWz8xLSa1Q5yow5PI0MeMqDlZPSSxJBPKNuDRyCoyBCoBsE67E9FE8ikfxKB7Fo3gUj+JRPIpHMVUxsPFdmZpYBGxwmwLb3UYGBoZAJrBNrgcAYZ38Mg==\"\r\n",
        "\"ASN00054128\"\t\"eNrTSCkw4ApWz8xLSa1Q5yow5PI0MeMqDlZPSSxJBPKNuDRyCoyBCoBsE67E9FE8ikfxKB7Fo3gUj+JRPIpHMVUxsPFdmZpYBGxwmwLb3UYGBmZAJrBNrgcAYcX8Nw==\"\r\n",
        "\"ASN00054128\"\t\"eNrTSCkw4ApWz8xLSa1Q5yow5PI0MeMqDlZPSSxJBPKNuDRyCoyBCoBsE67E9FE8ikfxKB7Fo3gUj+JRPIpHMVUxsPFdmZpYBGxwmwLb3UYGBuZAJrBNrgcAYc38OA==\"\r\n",
        "\"ASN00054128\"\t\"eNrTSCkw4ApWz8xLSa1Q5yow5PI0MeMqDlZPSSxJBPKNuDRyCoyBCoBsE67E9FE8ikfxKB7Fo3gUj+JRPIpHMVUxsPFdmZpYBGxwmwLb3UYGBiZAJrBNrgcAYbX8NQ==\"\r\n",
        "\"ASN00054128\"\t\"eNrTSCkw4ApWz8xLSa1Q5yow5PI0MeMqDlZPSSxJBPKNuDRyCoyBCoBsE67E9FE8ikfxKB7Fo3gUj+JRPIpHMVUxsPFdmZpYBGxwmwLb3YaWlhZAJrBNrgcAYnX8Sg==\"\r\n",
        "\"ASN00054128\"\t\"eNrTSCkw4ApWz8xLSa1Q5yow5PI0MeMqDlZPSSxJBPKNuDRyCoyBCoBsE67E9FE8ikfxKB7Fo3gUj+JRPIpHMVUxsPFdmZpYBGxwmwLb3UYGBhZAJrBNrgcAYdX8OQ==\"\r\n",
        "\"ASN00054128\"\t\"eNrTSCkw4ApWz8xLSa1Q5yow5PI0MeMqDlZPSSxJBPKNuDRyCoyBCoBsE67E9FE8ikfxKB7Fo3gUj+JRPIpHMVUxsPFdmZpYBGxwmwLb3UYGBpZAJrBNrgcAYd38Og==\"\r\n",
        "\"IN001092001\"\t\"eNrTSCkw4ApWz8xLSa1Q5yow5PI0tuAqDlZPSSxJBPKNuDRyCoyBCoBsE67E9FE8ikfxKB7Fo3gUj+JRPIpHMVUxsPFdmZpYBGxwmwLb3YaWZhZAphlXsR4AbfH8SA==\"\r\n",
        "\"IN001092001\"\t\"eNrTSCkw4ApWz8xLSa1Q5yow5PI0tuAqDlZPSSxJBPKNuDRyCoyBCoBsE67E9FE8ikfxKB7Fo3gUj+JRPIpHMVUxsPFdmZpYBGxwmwLb3YaWZpZAphlXsR4Abfn8SQ==\"\r\n",
        "\"IN001092001\"\t\"eNrTSCkw4ApWz8xLSa1Q5yow5PI0tuAqDlZPSSxJBPKNuDRyCoyBCoBsE67E9FE8ikfxKB7Fo3gUj+JRPIpHMVUxsPFdmZpYBGxwmwLb3YaWZiZAphlXsR4AbdH8RA==\"\r\n",
        "\"IN001092001\"\t\"eNrTSCkw4ApWz8xLSa1Q5yow5PI0tuAqDlZPSSxJBPKNuDRyCoyBCoBsE67E9FE8ikfxKB7Fo3gUj+JRPIpHMVUxsPFdmZpYBGxwmwLb3YaWZqZAphlXsR4Abdn8RQ==\"\r\n",
        "\"IN001092001\"\t\"eNrTSCkw4ApWz8xLSa1Q5yow5PI0tuAqDlZPSSxJBPKNuDRyCoyBCoBsE67E9FE8ikfxKB7Fo3gUj+JRPIpHMVUxsPFdmZpYBGxwmwLb3YaWZmZAphlXsR4AbeH8Rg==\"\r\n",
        "\"IN001092001\"\t\"eNrTSCkw4ApWz8xLSa1Q5yow5PI0tuAqDlZPSSxJBPKNuDRyCoyBCoBsE67E9FE8ikfxKB7Fo3gUj+JRPIpHMVUxsPFdmZpYBGxwmwLb3YaWZuZAphlXsR4Aben8Rw==\"\r\n",
        "\"IN001092001\"\t\"eNrTSCkw4ApWz8xLSa1Q5yow5PI0tuAqDlZPSSxJBPKNuDRyCoyBCoBsE67E9FE8ikfxKB7Fo3gUj+JRPIpHMVUxsPFdmZpYBGxwmwLb3YaWZgZAphlXsR4AbbH8QA==\"\r\n",
        "\"IN001092001\"\t\"eNrTSCkw4ApWz8xLSa1Q5yow5PI0tuAqDlZPSSxJBPKNuDRyCoyBCoBsE67E9FE8ikfxKB7Fo3gUj+JRPIpHMVUxsPFdmZpYBGxwmwLb3YaWZoZAphlXsR4Abbn8QQ==\"\r\n",
        "\"IN001092001\"\t\"eNrTSCkw4ApWz8xLSa1Q5yow5PI0tuAqDlZPSSxJBPKNuDRyCoyBCoBsE67E9FE8ikfxKB7Fo3gUj+JRPIpHMVUxsPFdmZpYBGxwmwLb3YaWZkZAphlXsR4AbcH8Qg==\"\r\n",
        "\"IN001092001\"\t\"eNrTSCkw4ApWz8xLSa1Q5yow5PI0tuAqDlZPSSxJBPKNuDRyCoyBCoBsE67E9FE8ikfxKB7Fo3gUj+JRPIpHMVUxsPFdmZpYBGxwmwLb3YaWZsZAphlXsR4Abcn8Qw==\"\r\n",
        "\"IN001092001\"\t\"eNrTSCkw4ApWz8xLSa1Q5yow5PI0tuAqDlZPSSxJBPKNuDRyCoyBCoBsE67E9FE8ikfxKB7Fo3gUj+JRPIpHMVUxsPFdmZpYBGxwmwLb3YaWpqZAphlXsR4AbdD8RA==\"\r\n",
        "\"IN001092001\"\t\"eNrTSCkw4ApWz8xLSa1Q5yow5PI0tuAqDlZPSSxJBPKNuDRyCoyBCoBsE67E9FE8ikfxKB7Fo3gUj+JRPIpHMVUxsPFdmZpYBGxwmwLb3YaWpiZAphlXsR4Abcj8Qw==\"\r\n",
        "\"IN001092001\"\t\"eNrTSCkw4ApWz8xLSa1Q5yow5PI0tuAqDlZPSSxJBPKNuDRyCoyBCoBsE67E9FE8ikfxKB7Fo3gUj+JRPIpHMVUxsPFdmZpYBGxwmwLb3YaWpuZAphlXsR4AbeD8Rg==\"\r\n",
        "\"IN001092001\"\t\"eNrTSCkw4ApWz8xLSa1Q5yow5PI0tuAqDlZPSSxJBPKNuDRyCoyBCoBsE67E9FE8ikfxKB7Fo3gUj+JRPIpHMVUxsPFdmZpYBGxwmwLb3YaWpmZAphlXsR4Abdj8RQ==\"\r\n",
        "\"IN001092001\"\t\"eNrTSCkw4ApWz8xLSa1Q5yow5PI0tuAqDlZPSSxJBPKNuDRyCoyBCoBsE67E9FE8ikfxKB7Fo3gUj+JRPIpHMVUxsPFdmZpYBGxwmwLb3YaWpsZAphlXsR4AbcD8Qg==\"\r\n",
        "\"IN001092001\"\t\"eNrTSCkw4ApWz8xLSa1Q5yow5PI0tuAqDlZPSSxJBPKNuDRyCoyBCoBsE67E9FE8ikfxKB7Fo3gUj+JRPIpHMVUxsPFdmZpYBGxwmwLb3YaWpkZAphlXsR4Abbj8QQ==\"\r\n",
        "\"IN001092001\"\t\"eNrTSCkw4ApWz8xLSa1Q5yow5PI0tuAqDlZPSSxJBPKNuDRyCoyBCoBsE67E9FE8ikfxKB7Fo3gUj+JRPIpHMVUxsPFdmZpYBGxwmwLb3YaW5gZAphlXsR4Abbr8QQ==\"\r\n",
        "\"IN001092001\"\t\"eNrTSCkw4ApWz8xLSa1Q5yow5PI0tuAqDlZPSSxJBPKNuDRyCoyBCoBsE67E9FE8ikfxKB7Fo3gUj+JRPIpHMVUxsPFdmZpYBGxwmwLb3YaWppZAphlXsR4AbfD8SA==\"\r\n",
        "\"IN001092001\"\t\"eNrTSCkw4ApWz8xLSa1Q5yow5PI0tuAqDlZPSSxJBPKNuDRyCoyBCoBsE67E9FE8ikfxKB7Fo3gUj+JRPIpHMVUxsPFdmZpYBGxwmwLb3YaWphZAphlXsR4Abej8Rw==\"\r\n",
        "\"USC00500433\"\t\"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\"\r\n",
        "\"USC00500433\"\t\"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\"\r\n",
        "\"USC00500433\"\t\"eNrtWEuOYzcM3Psino0DkdT3CFn3CRrogREgCBrpLJLbx1LJqpq5wQDePFASxSKpJ77i+/bxmS5v1z/++vj+7/XyaZff3S5fb9eP93/eH2O/fPvzMx4K3h+jfHl/u0Y8pDKlUh9SPXNtSkuvn7mxpDEtJ4p21s0pBhUWUM5TLMeqEcoadReY+xQXmtn0O1FcaLfpqy+0NKXg5AK7WZty4baFthQWGNY7xXFwg2DB0GKBlYkWQTEfz+MBdndZqhQbzfSTi2A2czqz2TjLbOagyGPLhFzu5nriyTy+3Glx8MjTUSiMsvhxpMTJSMnHbinHWKnUZYCFOS08wJqOsYoDxDQjrISrmft4gpX5rISrhKuEa4Rrdt7txuBaUOQRNt6DVmmh0W6nyFR2nl433ho/djtj67wLfaG1NctU9nbC7J3iOOJYaHVGPBZane4MP66P4CzRRuEtrtRtx7Mh11zvOYOzxFxacpkP3uoklz0VkXl8ltoJwVI/3lpilGaCa4JrLnKIvHDb8sGYWbMqOk3kTh9QaSB7EnnhdlQ2l3lcubQMoeAYvN4VB6lAzdnbG91D2YEbLqkOgUbl2bIzRSEhh4QcRear7G1MRUjIKD7QR/WBnyg/hgKMArQX+FYZShAizgKM+rN1muwVYJSggY9BYgAoQrBZ5IxRhrAXdaivZKEQwT4q0Z7HbU0w1CUalCPsQD3CDhQkpAgFydYNN5SkJT2A76/n6/l6vp6/7BNc2SanultVJl4PfTZwqxt4eSXfsU2vViEGv9oyCbmBYW05RCeT1YNkbZ0qOqRZBp61dQYJvYFqbe9Atm67b3BdQT+Arwko1w2fEJCu5x7EDZIB4gVeal0cAPe67Z4kidYwHTgTOqT5GZmmhqKDhj3tSvRDwIc2Qcy6J2mDQMUgSiOUsmwtMg/cggGiXt9gBxfbvVOSsH2ysec7AytmogtSdlvB+2Rl96cn6zzctCmzIuu7p6s6aDroakZdAlG7LbbhuyuEmjuz7Ls1RLS7Odwr0h26vAkOrvYcqANga3t/yHGEHEe4yBplZFkoYhaE7TloOuiSK2wckmowt50QULfnivPA4GJWV3LWwTmQswPz9WfwSeruUkB+fCUmzTsz240hwYDu7bwWuTsOwvccCOBkfE8X9qo4WKpoNpGlr5+s78cgJvfb4bp0Ll7lDKucYY2ffagsZ77rKOQqsvxmkCbVKwm/S5vqKKPQaS46IfNyo5scrZRRb4Lb+LPBm+B29v4uHaujhsIf6Vm9S7ydPZ1L2+q9iX22kt4l/7Aw5N6ggu55FlAfci5D0IdkG/Vz60jUQ//qDP5uSfxlFclEdpFDZHY5kdg9R6oitxexeD1fz9fzV35+vV3/+/7+9ypo/fKonSPjR/i4fP32Pzf4aIY=\"\r\n",
        "\"USC00500433\"\t\"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\"\r\n",
        "\"USC00500433\"\t\"eNp1mcuOJbcNhvf9Iu3NMUriRdIjeD1PMMAYgwBGMMhkkbx9+ujXKX5uOztKoniT9BfJ+uXbj+vty/s//vnt9/+8v/1ob7/19vbzy/u3r//++jHub7/88cM+GPr8GPnb1y/v7h9UPClbH1Q+qb06bmruVfug1k21q8i2OfuT7DVrTzLbk/Qi49bZ8lbaRpGzyHWT/bqN6VtbG0+y16wV79YW15OMIrPIcdvQZ0lYt1zb2trTXtvaHvkkt7aHpk305t76noLtQ913i9qRRW6dm5qH6XBKxnqO563Wrz+ve4XYy2m3mvXijWLI+zi8QuzzDoVvp+NpV2yn8ykhWl2MOtCw4q0QRxRD1rYKcdSBxrotyzrQbEX226Es39LvuGTccdJtrTuU4zYkZ+2tUx3XbdNo94UcvWat7n6Fc8Tt9ihtoxwc9TxGvY953byz1Wxpm/U+5tY2nvbO0jbrxs46vDlLwrrJVYe32i1hlbZVvq3Stkrbqoe/6uWviuRatzntwuO/6rK0q4OnXmS7HPxAgAsQcA3MT/DXFW0CnW16aw3z0HtwZ2zawR/gSfBsvWvrFfgcetVewY8ArEOvAGhuO4VAh1/X59rKBEISKhQ69FY85qYnNq/iERJJgaBI/MIi8RscFhYdOsC/9c4daINeg16DXkeghT2ywaHX4bDgRzKFP2ceeoVAh0aghUGSLxA6gRMMtabvRueKccBgC45eg+RgQM0sUwLqk+qFS69Brx0Jx4VNZzd1J05a0HQcETi9uKB8XOASQrXzdZTvG47aoO+Dvo+jf1/NQd8H7viYFCZ43G+9CbJeAxmgr7pgq+lBCriOndMhbTIAE0c/cfST/k/qX9S/GgQvBkBQdoxZDp8FZ6+V5B6ewJocrGLr11XS+tVKWheyybYuaFNs+uUUEBQgC5RzCN7ayWYmRS9IE8KdlUYLWiebccW5EtDTaIGArinvEdL1HYMuqGv7fnRhXdtg10+ytdGuC+3aPsYuuGv76vaDd/v9d+Hdaw9OoXecQu+TA9yD/kq/9h6h3rHacA+7MQYCvuO2BVeSg0HRE9ER+h02wd9R6g22OU/BDUpPBnb2BPckVwZXJgcL0g4Qniy2ccCbGLTgAKFcOEAopQcID9uAC8GbGHwLBwvFloCjnoxBGsxJvoUDh4cNcNSJh/3g4WGjBQTEPoDG/QWIWjHu4VsYwT3JFd6DwZs4eAoT34MuRNTtn50LxkF9gbvw8NB5fzS64FAPRHCo1zYr5egCQ2lb9H1RtbBQjxB5XRcSSqqA8NCjLFoT/Ouet+sC3UBXsmNCwG2dXfXttyvAX3rtKo/tqvLDhH3iadAr5Nu2mYDvzBv4HfM4aRPqyVCB3tkwIbRCbUK8jX52AO9SwdfLM6R31qtwtl71j6HGtA7FHR4L6STTKssyqyzLrJINs0qjzSqNNgvMZ0XXBniqujVDeavqct6llCrUJ879qSb1qsYMpaZ51WPmcN+r/jOUm+Yww6tmsagqwqKUS8kpPLcAodxhdMxXpWuRoAforXxTC/V7osQXuJ1iXuD2kBECt9cAbh9sE513aS9g2+eciGxW3WsH1Laug2lbyhPSvhsqVzu4Jk7fqwMeDLUQVm07rAjEwCmMKhxtMBQCuYfCK5B76K4K5R66iEK5h26oUO61oo7HeX0CupcEWazrLqh76J4K6w6bwO7EWWj3kNVCu4feiNDuNZAJemELTRfh3TlOAd5LGM7klfftZst1z/uFy+AXWj5+sj7RaLdc6LdcCXqAluYdfb8QfRfqvQYNHZ8OGqoFe68NUYFz4d5rIMelvs0KtrcFD/sFNoHfsbJ3rhiUdlog/FOAvSdXBgeTg1XxNsQezTZnt82fIKhbrkdw0xO3X5y07bTizoC22aiNr6kJ5QyR84QEkseG8flRutNqx6m5/92+74QJ9wCdoKHnSJv/T//CFQgaHoht0Mqwz9LD/zITf5lJ0OPvY3KsmOhMrprPapB54t6f7HJLFv7q2qaDP0AnZOLJARM98dgBwA4A9oH3Buh1ZZSSOfDUB/QO+DugF/1AF8yKZ0Lv7IjYljwNu6rT6rOSOp/1rfU5QKO3Oxf6vIj2qn6krw6eavC60PXQ0Luqc+ZrYH6CrmQyBK2nwVyN3hCybv64DPyO+eoUBpLJQKcwrgkazexWHbtAMhlIJqPV7YpWqVW0gJwET51RIJcM5JLR0UXv0Ns7aAPt4K8OZXT42wd4JuahF6lkGPQKRuWLQa9V0h6Cyakef4Ie4JmgK4UNrwZlOMqUEBLupDq8qoVQ8njmA3SCHuCfULBqPqA4GuY7aBRmEVCsxPEwVWEWShwPPcFfbbpIKM5qyUbihE+HUPPQm3AYDcJIOJyIdFZLNsYFuoFGPRgCrrOAIx4BGkc8BuhqisbAE55VicaEw7PqwZg44YmeZEw0xGImB+OVv9YUCvGYXFkXB/B+VYkWC1FfcB5/OQL4FWtgnn+pCjcTxXBeVaIliuG86l3l5fjFhb+qV0LmAD1B17tK/OnIVn9YEj9Ys1VpmA16W5VR2RL0AA9+kbX6Kmevuih7w3x9HbPX9ym7gw78yMOPuY4/c31++tplr4ow7QJdOUFa/5wxSRqK4zQHHZBTmUraAA/lIAJeX8p0RB7VcCKzS0fk8es1vRA8HRHwyg/S8UM0oBc/YDOgl7namfHKVDOCg+TgcwqZMaEaZmSlKYm0LLN/TjbzVR1rn3MlqqTMJ9DdO88UqrI8KfBZWVUj5rjAJsxTapsCvYe4DIn0WXaIHHgOA5dh0Jcx6d72+BTJeuMskhPpW07k0jlxLyYDMnkyM18G//zy/t/fv/5rT4633YIX+3z7+ev/AJa3Lqo=\"\r\n",
        "\"USC00500433\"\t\"eNrtVsuO2zAMvPtHspcUoh6U9Ak95wsCZBEUKIpFt4f272uSMoe7x/bqg4IRTXNIOiDn5fGWttvl24/H6+/L9kbb10zb++3yuP+67/e8vXx/K7vDjut2f57nPOc5zz+e22XWfZI0RyxolB11R0NQHzuaapsyl5JAKopJcGOB2SNRgXP1CNQAGa8pGaUkGHQ0HWblYxJInlnOzpELrEaXBTbnyKDLHa8NTzgrG5FwlOTmonTcBYKuFI9WlK6qb/MkCuO17rmXAYfp1prctypbEYeaLR+BBVDZsvSkKpt+gsqwdkRQtiyNqNMdWgJUNhLiBrZWPEIDW2uwssdtHQ5ga9N9GWxMgNm/LBcvnisgamP2zFjZ5F/CA7FQWrdGCiJPpmc8L/6penWC3rwLnQG703ZU1kE2UNkg9x0727OHe/GIo8LaPnmhxtE/PRqASn6V+mZyr6s+m4Y1nZnPyXae85znf9WBbX1M6Il9MNsxiyc269Sh2dSKoTkxNPcdj62fyFcgpexvUirBH0OTUguYj1FPSSam/q7hSGkEkkBOUBFEGLFkskX3FVEgpxowpASZdNE9QqZdln2EOIFX1MvzQ57aF8rYv5SxgCljA5OpmeUTGmB65roeWPEmx0zTHJcZmmPOJm5sbZDIm4/NE5XznBx9NJ2r1WtyxxYNmeC5WjUmeVYQbE8y0bPscwVfDOZRY0aVQkwTQSvxGtoiOujIcllaSKxy6EHtMfyIbjNwmTA6LmGfkomjxWPyyMoxfbTSM4V0eMXUWuhGGwFjoRPHHnDsAedQi8ml41LjJX4L5s/tMe20PiKP6DtDESahltsSGBbAdNTxJP4lREu93y5/Xu8/9dq2vcBJpux5e//yF1W29KU=\"\r\n",
        "\"USC00500433\"\t\"eNrtWEuuGzEM2+ci6SaFJf+P0PU7wQNeERQoioe+Ltrbd0Z0TB6g3WUxAOORRcueoTj59PaeLi/Xbz/evv6+Xt7t8sXt8vFyfXv99Xr89sun7+/5CDhwubzen9fzel7/5Hq5jnm8VfVE5uOALaDZAXvA2g44AuZ8wIlYP1/UxGEzTOwndonJMh6Mls6MViWmSZ7OBRhoUzpx8HpgB28pJzbmcSeXC68XiZFaHbyxBd5lXHh9Euck2FhLFt6c965mKTdXwbLHGbT9XFoegkE7zi0piUsrttMXZ5pC1oJjjYmVo8JZgnOeu1cGI+RgqxRapdDqgklZy05Yg7KfS61NknTBgyFz52iJqRuLbM6JjYytyHDd7C0oYwNbl3yssslx9rQndjJ238vreafrQVhjWvC1eEOkxN45L/ja+Tj0uYNH0OWTYxih78Qj6OKpHqQbpBuN0zpHBysdc6eYQRdv77QdPJ0BmQE8wFn32ieqC8hHZo69KXNueOzB5rBkgl1w3lVZKnshlniCRxnxniNnl/ixV2tpchwatLDwQoOiDjNWaia80KA1l3tr0KAVMwRzdw0atLAxPzQIeTxLTJEY4YUGrZjghQxCg1aeyVqy8EKDEP/QoMB5H5xBhEI7DCKEnA8RCiz7nIUXIoS5EKEbJkCFbjgl6NAtKoMOARadEMxBACVa4V1jhtw4mO+R4m5FVrqEKSqDMGF1pzDdNyVuZ8ldn73+eT2v/+AfobZo+1ClyiZstavjG2LtpPUben9YFlu9H9jZF9D8o70auj8YWpXxJpgN0tqQcdHSLjbHYAEQBA+ARXS6DuvskwYbsGKamFwYgXWDzdLEChi8AMZhBham+bAhFcMPLCwVwxGgmiG88AQLT9pHm0K8bEFMnlIxjMEaL1vQ4QzQwaac8ZRuOQf1eXKnHe4g1uyJ9XpyicmCi2B2S09N8vTdFzwNiZ+PZxNxcAi4ZyZYuI3OxOEQogO6VcFtb5HDIcReOBzCmktn4uIQHA5hYToEh0NYHy9ld3MXh+DeJKYL5l67R7/ECa3Pn8TIzE7pyycgRtjXx0rsJnxCdGLPfMI8C/vyCbFa+ATgIryFNtfhElaM8MrnihdZP7o+drjwCfMyBNOfeKW79kpf5FV4YQlWTOGOrQxy1tCwNatLzODKK92gQ8HWR6XReHijLfMmZbeiQVJ3a4K7YLojXx8xMb40LPJAwkAACcOKepYYOWdI2G0lkpJPCXtsDighZLeVb9L+OaQsntRhzA0le8TIAiBl4BxVdgFadsNDDzG74TSgZo8fIMe+Q84WC/TshhKmy4KhaI85RbKdNd7FNjqUbS1pdr0z9M4kV4a6PX6Y/jhW8fFy/fP19Wf8PP/FPDQ1/ig4NO7j81/WCb5R\"\r\n",
        "\"USC00500433\"\t\"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\"\r\n",
        "\"USC00500433\"\t\"eNrTSCkw4ApWz8xLSa1Q5yow5PI0MuQqDlZPSSxJBPKNuDRyCoyBCoBsE67E9FE8ikfxKB7Fo3gUj+JRPIpHMVUxsPFdmZpYBGxwmwLb3YaWhpZAphlXsR4AEQv8PA==\"\r\n",
        "\"USC00500433\"\t\"eNrVWU2OpbcN3PdF2ps2JP7o5whezwkGGKMRwAgGGS+c2+dJpaeq7skiS2fzwEdRKpKSSpS+X759Ly9fXv/xz2+///X68r2+/Gb15ceX129f//z6+G8vv/zx3R8GEY9/8fL1y6v7Q8ol1fqQ2pLKQ+hb1R/SuI3zdqhliXuUWqk1ir5EsyUGxaRBo9g52AbzucR5u9lGs7FEohnRjGi20dqSHmDvnTYbMHfL1uYK0zZgW9HZBhwL2xme1+uRG7VOMe5gnhQbu9EHHxSZzCjX+6g37fFAe7dkk7NDXPTIm5po1DLAYICxIdsaPMt1L5nRZIBJtOT85UbrW2wUGWBy/nKj9eVZ22hLeGC9/y1/zspodlPUOMWN+W5cwa0xwM4RBm05xb1QrHc/dU4xmvzOfg9acQ10ruG+IcfuNu7C7fPOyihXOxjgsOv0cNrGDXvk9X8QbXTaDo4wr+0s13bWazA32twGfiFm0CCvk7PdgCbIp6z1O7l+J+EebTSppd5RarFrX4uLnqC1cBnX0q5ftXSxGQpAaqi1iFzFCOyHUSujrVWQQYA7yFqbyF36DrGftDEN2c4q2nGCCeteOBVc+DSLOwEVCw0+GdduNYkadAg/jHRRQYjQgxE3uVSXmMGJGAekePQp3oEXj3dgRngHakSk4MbH1OzTo9AI9AijMBkJ5HgwQI8VZwsIsmLVgCJP1kCSzz5D+wD/HFky38mlXdNkrHTxOENbUv9o9Nm1RZcbqPO0NIm/VYEBV8ExkNXxuGn8TfGbxg/SqvvsqE3jB3GdnIG6ztCHvM4fzUDXDBz2OgPAAywkMNjBAYdVHPdgsZoYQD0Ak52WcU7I7QHY7LgDPjtDD83B0DUw1IOhORjqwZAtP2UKwG5HNi7HKVwzZddN2fFTdt2UXQeOO/bc8VZIqlaEaqyQxU1IzkByR07t0C6CgeWO0VCjSaMqZGOV/GrCclYFuoZ0TronLGfCciYsZ8JyZmQaM243M8E1F5lHl4HhkC9rohdcE1zjaWlgONg7z0tzE72LnjWBueC6lJngt9NXCk3wG+QQXNDbkQU3XGQyq0WKvsmYghtD7Cd9S5a4lmR0kxrQwGpHH7eys0zRN7HvYjPEhieJNVnToDP43GR+wWZYD42npzXBbSywrWmVL7iNBYN1VrwGFsN9AiR29C56ibezRLPeRJZ4+xB5cpzBys/AXfBnCO5wsQmRU8ZpvOIMXs5s8Hpmi7Nw43mDYhHXe6fBIq/1/6PR9uQNQy8ae//7lun/ezm/FwCI+A0ZBBM/g24adNc/O6Fve4EuMn4/o+x+XnhX81JFb7eXL0ZGL3VoT5eDoY+cz6uqlyZDdQGF4WAYDpZ+2zvIF03/DAK+hpNyJ/fK9e2Lr98/4IK1zwhNRuiiH6KfDHmx9vuHdDvIG0n1U6HuMcDezwZ0OS0yQ27i2iLwZ4RQDBmPDwXu3OXukgWwOBwDi7+de3zcuTrJOPDg9KcVWpBF7xIlaP3MhtzpHbyOseRW76dshd5FlkW2eP04dXJ6xpRHhZAt7Ivkmf4dMbj+/AHZH+OUvCRZyBfbIwkfsZ/d4nMDAkpeGP3Ut9DLs8c6DD4sU4woE7eOhTsDO5nb/L8kAQfFcar55w3aPrl5o2hoxrQi4tZkJptOK06Rp9kUxC6OIujOasG77LbutESQXdImZ4p3SVvvnxfkwZUVf6rjLQ++jfmQt6p1vnwcYXya36vn+46P/Km1fY5idGkVr4ZM55QHtFlFlie0KW9oOsHgaUQxJc+zi8xT3qe+pHH/RyFuFBMbFz0f76KwiovCaipQLx9ZXtMKq6lAuYxxahW9iewiC26VN77KlRDgXTztVT4cRpV4TXBNcMG3R+8iC65x44Zx44W8jgZ49ozJKj2cVVy45NnJJ+GCK4+k4YLrkmeXPJ9qeefBWaWHVMsh1XKEiY2LPkROsWGVHtFFL7ghuCm4yao10kQW3IzLdbt0DbDkMWy38VjzLS+Sj3mR4kErIleReRWM5iKHyHIVjMarYDRuqTgvAHtfR+NVMDofQKLLXHcTWZDBcgi1cy+HPF5G7x/fXaNL4rss8CGJHyzbY8gpEIPP/wE2w6AjpXOTJ/EuNnx3isEn6wCDQT8l31PyPV30gjuFSeTOH5P3shAGC3nYTDDYzl6WKg/23NFZyCRZQvqmyKwVsnTRDxlHcOWLTgqDZRXc6mIjuDXla4LgVvkwIF92sgquyZcIq6I30cvHCJOvEcbvVinlYloXWXDBYIhFPvGkfONJZ6WaLrguX8s8RW53UaZ86Un51JPOkzFD4g3euzNMPrjox5fg+CHzG036dhl/iL3g6hcf/eSTrIwz+f0hkzVAZoq+idxFHiJP9gVvQS/FXzbJcxPcJriLt07F8nPdkq19rlGzdf0zWAHns4bbGF3K4exyT8lu2uLaErwC5KK1/+8L8o8vr//+/eu/djDt5ZHSWfcSeBDzj1//A48phBI=\"\r\n",
        "\"USC00500433\"\t\"eNrtV8tu3DAMvO+PbC5biJSoxyf0vF+wQIKgQFEETQ/t39fSaDls+gfBHgyMaYpDUjY1fnp+S6fr+duP55ff59ObnL6qnN6v5+fbr9txr6en72/5cDhwOd1eH9fjelyf5rqeJaXj07YFRQ5YJ+zjQG0ZtR+ww7UecNBVEj1Egl3pLjnYwShtYiO7gDNP2MJSsKpOHGg1MYwKw2ig1czUtARsAdfgv3hHmTAUq4u2Te+8WNtMJos7ZyVclHVmlYsXlI1w8dmMmxth57LFZrOWstjqLLeIExelA9lKoYNxWfXUS6ND93TKcF9bbGVWYUKr0pqd2Mhmiy3Pd8UW29oqYyutew7GTtbkxVeyVdZWM32LU1TzimslbJ5k7QzGTjZ2srGTTWldbOuNaPsFndAYgbW15um07lW04Tn05A6dbF3dt2c6FM+hGyNUQrDNzep4KWfFfbh1JE9yiFMMdnJkDzaKRxhGWL3i0bwPoxMO9z2+spXwguIekvieSMoeTxL3TpKFMDX4tODTQ8xBO8YMxgDGzBoac8q87kQQWAI5Zs1exL0UzJo9slpY272rIoFcU8DCQjFsEH8Om8dp8rge12dUSA3feMQWMI8igYjYmIeRKM8HgYy4YNBASKyDTqAksBhSAgTQEtvfOHSgJra9cfDlMEVzGGRBUQgkxbaHQQZR0WEvzKeEAVpq8GkhZii4hIKNp71AXCAO1AVygLyAedFekM8UGK930w4XDg/j+SgW5rfxhBSIDbSjhrIhN7ZP9nMNemNvDxQHUq88lqW2ELPPFCuFg9RwYkJ8bLzYL3BqGirbpnB6QYiArVmwh9OrhepbDzzjnpHntew9dKKH47vrxwqgUbAFECkX6HELuAbcQtOgVC6bczA2fKdkcQsKnNLl3ost9pVpj9CW8V9RI3wR0DKbGWrmgs0bOyf8VmxJg18JNkW3ptGF/9mf9acBaYMqNYUCFOIGXAp1c9lhkMWO3+PNQE/wE5MC24oiEtq0/3Q0UELq4M1RiQstLFw6XyF5LuuTVdl7hZsekxjhiaZ4I2wYdM8m1hzy0xKf2Mf3WzEpd/4YlfeVRxrv1/Ofl9vPdTtOB9vQlfwxL9+//AU7XEyU\"\r\n",
        "\"USC00500433\"\t\"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\"\r\n",
        "\"USC00500433\"\t\"eNrtWEmOGzEMvPsjzqUDkdqfkLNfYGAGRoAgGGRySH6flqhmlT35wfgilCSKqyxW+8vLWzhdzt9/vrz+OZ/e5PRN5fR+Ob9cf1/3uZ6+/HiLu4DqPkun6+Uc447yQNp2VAZKaUd1rg255qj7rgRfFJl6+oAKGAeUOuA0VAaahkQGnJY2E6iEm+EpM+2F4fg0tw0de0DXm83nAVV3XiNgAszuqhYPWSsEGmB3GHcTN3I4ipuM6lvmaJyGt2kjJlrPELRNi3p6EKtvzozF5oGZA/AlYTUJoLpHCZGn5EVKU3keWUsFAhWrKG2CtRxwMcSVZfVU5AhPx9mMZOeMszCZYTI3wO4aSvDVApNFXVmJgLBWkL2C0pZprYy8FLM2rlBBgDXglosbrtNaGQHW6Hor0lkzBAoEqlehNsDuAg2xNXENDbG1iNWESzfUNFSwFUhVnG2AMNlhsosLdJjs0aPqyfX27InrBXBaq/P337Da3YSE4MsSxKUlKK0jSAnJqyIhk55CuBJu9O6gjCK4qGKvkOm0Z8jO2ju01lFLsSRPVEbOn+NzfI7P8TOOByUzHrYw8zAjYoap74sKYSWZgyD8b1g8ToyirQOZFBXCaK6ijXAHjlBsyhZTM3xQNQx+LsJOBBeWCDYsxteWPGVncrWVu23xXcqR8bXZc5IQD1bKaSLOKCnxTiY6bMTtEDOibB3MyNsx6SCWYgRuKTAKt1k3NBJ3TCKfSXxmUdaZg1xYjKm6cTnTRdEXqsVgc7f7XT1Wbis5dh0K58M43oqtENOWUnhSqQDG9TajG8b21sT43tJmjG+rMzbjfJvRFWN9u+qpu3JJjPqtHFR2odbHQGpDyIfN/piFRjlqdF+bPqozdrhwohw1Tkvjq9juvqf4h2wcce30cNhyi6a5053tHxwa3NFX7Cb1REuWpJ5ZIWes02+6N/bnMUsa6DMvgMhqUFqPhKlmGqhmGgputBq3NN/VyKU5qqHTdyZKpMYul2Kjl0soIu8qVB5dn30mhWdEpdL1WArbfSHuy6FCTq0H1M6p3P+U7pNHD7IqJWl9Gk/VmkmGnKR3V7Wxyf7h12sbMVAiIt0EjfoY1zoRsf7sw8/xOT7Hz8zBj4eUm0jkHha5hxEb1dg+PsfU6DVx0zi69HyoFyOt9pdppLaYiIFpynB2dS7zL7HniVxa5NQcT+zMIqfznyDN3OcWOV1/2kY+w309Z95hB3J97DG5oXXeOT446vvl/Pf1+mtO5bQf6ZrnRE/vX/8BQXMw0A==\"\r\n",
        "\"USC00500433\"\t\"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\"\r\n",
        "\"USC00500433\"\t\"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\"\r\n",
        "\"USC00500433\"\t\"eNrtVruOGzEM7PdHfI0DURL1+ITU/gIDPhgBguCQS5H8fZaklsO7/rptiNGa4owoWZqXx1vabpcfvx6vfy/bG23fM23vt8vj/ue+j/P28vOt7Am17qO63W+XUnbEgnLeUfNv3dFwNAVRl8pJ4LUJJIVEgrNiLUVFcBKkTKxQqZrmKlceAjuqDUCjk9ycAMlF5OzFspKxTMvVV5MZ0xog2PJwZXn6MksCVDZJLdl5S3HlBU0sDGhtnAJ3sqc0AGFxF6y0TC9Yk6uvO/dz0YruGmABRFmbxc5dsZsV21mxn3V6LiuvngsmV8PZ28oFCRXTsGgGG3ckDMDpzW4JkLxuy57bCmB1OY0BcXpaR7GBYtjPnryR2u5OH7dD+9ixvx3d7WhsZ+9Fb37wenfGPlxSx1IHNnSQ1x1gG8WLjeoUQ9kE7FzPM5zhDGc4w1eE4yLuMDLDHme9zMeEqZkwIhO3+Qy2Z+p1ftUXYdprr+/AZMNyuU8lvXbNX25E64zDMs0ZTFVKmEqJUJNShkxKJQ4qZFDiOGjBxfU4ZcQsE9A07XB7qmb5PX1ZaRk+02mO72qll9Mx0Wb7Fo8ZvyOtx8GIg9B2MgO4fskUB7EFOTSfclRgVvCY0+KcqCCP+EtUYKZwLdts4erOchZqVki84dN2T3nNIK7qhUO3SmxD6UG4OMNVY6XO9WF9NXtccRapUpBaYS7InOL6XgOGlaIanLgZxVV0BDw/aRLD+FzLs5LiG58fDi7HveF4Oji2hWNbzEbaCjl2xZzkajNHGnOTVqvRpy6JqTx0rn+NmctjUIPGFpW0oEQ85nlVnuEMZzjDl4T32+Xf6/233rZj2+/zue7kub1/+w91Gmot\"\r\n",
        "\"USC00500433\"\t\"eNrtWDuOHTcQzN9FVskz2N38HsHxnmABCYIBwxAsB/btPWRxWCVtamebDGr4yP6RrK55nz5/S4/Xl9/++Pzl75fHN3v86vb4/vry+e2vt+vdH59+/xbXBO/XW368XcgvVCYq9UJ1oogLtYP6RDlfaEzU5lpLhLbgtGO+DKUJY8LaJlyOqk1YuKwSLl+W1rpOa3TndOd0534i8yDMx7OXk4TXk6O3E48vbzEmHCf2SMdF2DEWThjHWGQuKyeGYHKxvE3Qj9sYZ31OZ1FevrA1zgnBUWQ20eXqa17+njYt5ip4eZwR5eXSZsiZ6RW6LHRZnDBO2Uo+gZRCC5UWGkd5UMo4sKZTtmoc9XP4Kr3VfOKthbCeyGqjhX5KXOmtpRNv49Y1Pxva6K3xAjR6a/TWGmHnMnrr6Wxp57Hsfg5VjxNkZyV74dxKuG/BmsHk+jhpDG7csON5+Alt8FwOJjcKYT2hDV7w0emCJ/O6j7zNyQS7zOG9s5RlTjmOroxkTiMtpC7jzNJ+4BZjUcy4jQZ+May2LKuLTKpCLJtl1hUx0Mz9yyBBgWl6LGwMxMU3yGbP57aakwDMeYwMhLPnsNYmlGMhfkE6mC+sY0I7FpJySMpgnr4KH03s80RZ8ARbFr+Zh8rAQLtA4CAYzZIwGGgvqIKV0HOXHwYjLUnagngucrwK74+BirbRUmRSZSlAR4gUfLSxtK4q56uSJAyctA9Ilf41aenrLODH4+Px8fjPH/fNR8/fd66Su6TrW2UjNun7hsaPcXR+NJ/mMkea1Wz+t4JaLCISwKABNm5n4h7op50atADGIQZAN10i6CKKu3SOLgwuisA6lap1ybx3sSmdY0ibhixAbEP8TmGwS/1EtNAHT5gekh4kwvI+jpA0SIQn+tlg1p5Yd0/Ud54oJ32KhK/b2mJXT1QnnqgrPVVZ1WROl/FBzQ6pgPEtFVZUUyncHmEBegEC2U3cWxFz9edAIRruZfK1MDXD8bD8QznAqEssjlik+O4hy7JMLbfREwXGqy5GSAjD977A66rMEx85EBT3y4rniQ8oSIonvpBC6wJRcb+Ud3FDXDz3F5dUN7rgwRMBdQF7UBfbEuTF9gR5sZOY+uK4RYz6oeNZY4DQ2ElCaNwvg56LRFFkZ4rszP41mEfJ7/IvRV8QCBKF7tgpTOFxr9wjcmMgP7YR6A/cK78FyMJyRPZnEcYp5r1WsSqHZleqdn0ZtNekHuDKjV2SaCGR4VPpftHtaPXnGja5Pk2PJ8hyH9yuVQBdLh727oLfEUeXUvTyLmVw58a6TEvR5YCCPBHFkCiGRDHkUAzxD9bcyYE2N5aboZUZQ0/U+iNg0ucPGUYywX6ii8QP1wB9blxkDoOI1GSc9BmgT8wxHoQw8fsDfa5VoM+1dWFkrAB77lXi3fh1GdYFs/bhSTAbZrjLuGTtkrX8sxNeBbNhhnfBknUkwSbYBYvfEL8hficbfsi3j8fH4//6LNj3rJEbQpgs2NIip5taf3oKC04BcugX13zLkP1PbuhL1pdCNRJbgOCP3Nze2+zUBQEZsvpIQIYgjyJ8V1yw/LNchHeKsHwRNRhFWkfpgod0mS05UKopOb6/vvzz5e3P9eqPa82IZe1SHd9/+RdcMGZB\"\r\n",
        "\"USC00500433\"\t\"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\"\r\n",
        "\"USC00500433\"\t\"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\"\r\n",
        "\"USC00500433\"\t\"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\"\r\n",
        "\"USC00500433\"\t\"eNrtWMuO3EYMvM+PjC9jNNnvT8h5v2CBNRYGjGCRzSH5+6hZLVXFZ/s2BwGlXjaLzZGKpf3y9pFuL/fvf759++d++7DbH263z5f72+vfr8e93778+MhHwIHL7fX9eT2v5/VLrpe7p3S8VnVBm+WALeDIB+wMGAHLCpiMtRS42cIWOM+FPXBtC2fBQWk+FgZnXkQG0tYX7ohfrBa0FrQ2md8T97pxr4N3REyWeOH1ypq9Mb93wYM1O3i7HziD19bebIKde3OWdfDaqi1XiRHe3FlnHqwzg9cXb5HzFulzcVnPzFkKz1gq+1Oa7JU+F+Etk7gm1l+lz9WZp4I3rV7V4I3218o21CYpO49VQYsncBK3xPhmLKE5qVpmngba1YVWCYW1dVbThuyczNgTK+h2HaQHaV9Zer6S98JVUvbGbcLYB5fnBUe6UgwjDLp4u0bmatDF7zmCLh7HEXTxi4zOWOnqIN1MV4ppV8WTdDMzlqeblQGNGfrFPAdj5wUP+qtMS+ymJT+VB297Cla84akIDl6oSQpiKEWCKIFjyPrkOmQJ65Al5IEsbYznJ2qALIVAQZUewAft+17ZgV0SC/nWpoiBNm0ZNMZAm3A4aBMk0aUZ0CbIqTfBwgttgjxCmxADbcI6tAlc0CY05tSmwIU1Q5v23sYfDtrkwEP2ynmXNp1dQiQUKpJtgYpNRcghUDu8slgIFIotfMas8CEzCBTiIVAby6EhUGhwlSesPmf+83pev8FH4j3F1N/vXRMs09D22N83k/Pd9uCPcWw6+a1xTlnjGDaM/nNH5eQzjP+9Q+mbaEnjfDSd/wYDcN7QAljPsqNokJLDCGzCbQVQY9fDdzE9Bj+AzDAEKF4cgQ1hH8oursCGNB6+YJtpOfiQyQFngHhYA/yYU+yWzaw34msNDmGb+ildn10KnENvaBRcjIKLUfDkEpOvqjwVwZxbnjgvPXFeOkzCjuep3Tg63GiIHCYB8TAJMaYcJgGfE1Ylj/Aau+3iD9w4stxpThz+AJ8Z8AfY68Lrwuv0Ir6/XYIX/mDnH9cIdeecdvgD5IQ/QM3wBxvTl3imGXP4A+SEP0CdWc4Lf7DjJ/Psb5eoYX+7BNe2Blin03VYg71Xft9CE+iFJtD3twvyTPaqJsHG+OqCs8QU1lblvJCxKGGp2LtDyx5gXFr289LEDT4wo4oH2r4ULRTz3LCXo6IHyoC4PcANdTtTVb1pevO/bONysA55w/qWt9jQ5Xfo9KUOcUOPIW4b19Mg+1K2d+/y8G15i7ND3TbhZCHQtt0giNsuF+p23tAi+ii6pWoUzo5HZHTpFxTu/Av4cQJo3COEySFyu+FQub1nSgEQOdQ/q+DGM0Li9rq8eHNeeXJKgu3qVV4C9/ly//fb619xu/7Dechsi5ty+/z6H/iEw7c=\"\r\n",
        "removing tmp directory /tmp/MrjobPCA.ubuntu.20140526.181110.383595\r\n",
        "Removing all files in s3://xinxin.bucket/scratch/MrjobPCA.ubuntu.20140526.181110.383595/\r\n"
       ]
      }
     ],
     "prompt_number": 47
    },
    {
     "cell_type": "code",
     "collapsed": false,
     "input": [
      "!python MrjobPCA.py -r emr --emr-job-flow-id $job_flow_id  s3://xinxin.bucket/data/ALL.csv --partitions ./station_weight.pkl > ALL_Merged.pkl"
     ],
     "language": "python",
     "metadata": {},
     "outputs": [
      {
       "output_type": "stream",
       "stream": "stdout",
       "text": [
        "using configs in /home/ubuntu/.mrjob.conf\r\n"
       ]
      },
      {
       "output_type": "stream",
       "stream": "stdout",
       "text": [
        "creating tmp directory /tmp/MrjobPCA.ubuntu.20140526.181707.913351\r\n"
       ]
      },
      {
       "output_type": "stream",
       "stream": "stdout",
       "text": [
        "Copying non-input files into s3://xinxin.bucket/scratch/MrjobPCA.ubuntu.20140526.181707.913351/files/\r\n"
       ]
      },
      {
       "output_type": "stream",
       "stream": "stdout",
       "text": [
        "Adding our job to existing job flow j-31UKS93V80CN7\r\n"
       ]
      },
      {
       "output_type": "stream",
       "stream": "stdout",
       "text": [
        "Job launched 30.7s ago, status RUNNING: Running step (MrjobPCA.ubuntu.20140526.181707.913351: Step 1 of 1)\r\n"
       ]
      },
      {
       "output_type": "stream",
       "stream": "stdout",
       "text": [
        "Job launched 61.3s ago, status RUNNING: Running step (MrjobPCA.ubuntu.20140526.181707.913351: Step 1 of 1)\r\n"
       ]
      },
      {
       "output_type": "stream",
       "stream": "stdout",
       "text": [
        "Job launched 91.9s ago, status RUNNING: Running step (MrjobPCA.ubuntu.20140526.181707.913351: Step 1 of 1)\r\n"
       ]
      },
      {
       "output_type": "stream",
       "stream": "stdout",
       "text": [
        "Job launched 122.5s ago, status RUNNING: Running step (MrjobPCA.ubuntu.20140526.181707.913351: Step 1 of 1)\r\n"
       ]
      },
      {
       "output_type": "stream",
       "stream": "stdout",
       "text": [
        "Job launched 153.0s ago, status RUNNING: Running step (MrjobPCA.ubuntu.20140526.181707.913351: Step 1 of 1)\r\n"
       ]
      },
      {
       "output_type": "stream",
       "stream": "stdout",
       "text": [
        "Job launched 183.6s ago, status RUNNING: Running step (MrjobPCA.ubuntu.20140526.181707.913351: Step 1 of 1)\r\n"
       ]
      },
      {
       "output_type": "stream",
       "stream": "stdout",
       "text": [
        "Job launched 214.1s ago, status RUNNING: Running step (MrjobPCA.ubuntu.20140526.181707.913351: Step 1 of 1)\r\n"
       ]
      },
      {
       "output_type": "stream",
       "stream": "stdout",
       "text": [
        "Job launched 244.7s ago, status RUNNING: Running step (MrjobPCA.ubuntu.20140526.181707.913351: Step 1 of 1)\r\n"
       ]
      },
      {
       "output_type": "stream",
       "stream": "stdout",
       "text": [
        "Job launched 275.2s ago, status RUNNING: Running step (MrjobPCA.ubuntu.20140526.181707.913351: Step 1 of 1)\r\n"
       ]
      },
      {
       "output_type": "stream",
       "stream": "stdout",
       "text": [
        "Job launched 305.8s ago, status RUNNING: Running step (MrjobPCA.ubuntu.20140526.181707.913351: Step 1 of 1)\r\n"
       ]
      },
      {
       "output_type": "stream",
       "stream": "stdout",
       "text": [
        "Job launched 336.4s ago, status RUNNING: Running step (MrjobPCA.ubuntu.20140526.181707.913351: Step 1 of 1)\r\n"
       ]
      },
      {
       "output_type": "stream",
       "stream": "stdout",
       "text": [
        "Job launched 367.0s ago, status RUNNING: Running step (MrjobPCA.ubuntu.20140526.181707.913351: Step 1 of 1)\r\n"
       ]
      },
      {
       "output_type": "stream",
       "stream": "stdout",
       "text": [
        "Job launched 397.7s ago, status RUNNING: Running step (MrjobPCA.ubuntu.20140526.181707.913351: Step 1 of 1)\r\n"
       ]
      },
      {
       "output_type": "stream",
       "stream": "stdout",
       "text": [
        "Job launched 428.2s ago, status RUNNING: Running step (MrjobPCA.ubuntu.20140526.181707.913351: Step 1 of 1)\r\n"
       ]
      },
      {
       "output_type": "stream",
       "stream": "stdout",
       "text": [
        "Job launched 458.7s ago, status RUNNING: Running step (MrjobPCA.ubuntu.20140526.181707.913351: Step 1 of 1)\r\n"
       ]
      },
      {
       "output_type": "stream",
       "stream": "stdout",
       "text": [
        "Job launched 489.3s ago, status RUNNING: Running step (MrjobPCA.ubuntu.20140526.181707.913351: Step 1 of 1)\r\n"
       ]
      },
      {
       "output_type": "stream",
       "stream": "stdout",
       "text": [
        "Job launched 520.0s ago, status RUNNING: Running step (MrjobPCA.ubuntu.20140526.181707.913351: Step 1 of 1)\r\n"
       ]
      },
      {
       "output_type": "stream",
       "stream": "stdout",
       "text": [
        "Job launched 550.6s ago, status RUNNING: Running step (MrjobPCA.ubuntu.20140526.181707.913351: Step 1 of 1)\r\n"
       ]
      },
      {
       "output_type": "stream",
       "stream": "stdout",
       "text": [
        "Job launched 581.1s ago, status RUNNING: Running step (MrjobPCA.ubuntu.20140526.181707.913351: Step 1 of 1)\r\n"
       ]
      },
      {
       "output_type": "stream",
       "stream": "stdout",
       "text": [
        "Job launched 611.7s ago, status RUNNING: Running step (MrjobPCA.ubuntu.20140526.181707.913351: Step 1 of 1)\r\n"
       ]
      },
      {
       "output_type": "stream",
       "stream": "stdout",
       "text": [
        "Job launched 642.3s ago, status RUNNING: Running step (MrjobPCA.ubuntu.20140526.181707.913351: Step 1 of 1)\r\n"
       ]
      },
      {
       "output_type": "stream",
       "stream": "stdout",
       "text": [
        "Job launched 672.9s ago, status RUNNING: Running step (MrjobPCA.ubuntu.20140526.181707.913351: Step 1 of 1)\r\n"
       ]
      },
      {
       "output_type": "stream",
       "stream": "stdout",
       "text": [
        "Job launched 703.5s ago, status RUNNING: Running step (MrjobPCA.ubuntu.20140526.181707.913351: Step 1 of 1)\r\n"
       ]
      },
      {
       "output_type": "stream",
       "stream": "stdout",
       "text": [
        "Job launched 734.1s ago, status RUNNING: Running step (MrjobPCA.ubuntu.20140526.181707.913351: Step 1 of 1)\r\n"
       ]
      },
      {
       "output_type": "stream",
       "stream": "stdout",
       "text": [
        "Job launched 764.5s ago, status RUNNING: Running step (MrjobPCA.ubuntu.20140526.181707.913351: Step 1 of 1)\r\n"
       ]
      },
      {
       "output_type": "stream",
       "stream": "stdout",
       "text": [
        "Job launched 795.1s ago, status RUNNING: Running step (MrjobPCA.ubuntu.20140526.181707.913351: Step 1 of 1)\r\n"
       ]
      },
      {
       "output_type": "stream",
       "stream": "stdout",
       "text": [
        "Job launched 825.6s ago, status RUNNING: Running step (MrjobPCA.ubuntu.20140526.181707.913351: Step 1 of 1)\r\n"
       ]
      },
      {
       "output_type": "stream",
       "stream": "stdout",
       "text": [
        "Job launched 856.2s ago, status RUNNING: Running step (MrjobPCA.ubuntu.20140526.181707.913351: Step 1 of 1)\r\n"
       ]
      },
      {
       "output_type": "stream",
       "stream": "stdout",
       "text": [
        "Job launched 886.7s ago, status RUNNING: Running step (MrjobPCA.ubuntu.20140526.181707.913351: Step 1 of 1)\r\n"
       ]
      },
      {
       "output_type": "stream",
       "stream": "stdout",
       "text": [
        "Job launched 917.3s ago, status RUNNING: Running step (MrjobPCA.ubuntu.20140526.181707.913351: Step 1 of 1)\r\n"
       ]
      },
      {
       "output_type": "stream",
       "stream": "stdout",
       "text": [
        "Job launched 947.9s ago, status RUNNING: Running step (MrjobPCA.ubuntu.20140526.181707.913351: Step 1 of 1)\r\n"
       ]
      },
      {
       "output_type": "stream",
       "stream": "stdout",
       "text": [
        "Job launched 978.4s ago, status RUNNING: Running step (MrjobPCA.ubuntu.20140526.181707.913351: Step 1 of 1)\r\n"
       ]
      },
      {
       "output_type": "stream",
       "stream": "stdout",
       "text": [
        "Job launched 1009.0s ago, status RUNNING: Running step (MrjobPCA.ubuntu.20140526.181707.913351: Step 1 of 1)\r\n"
       ]
      },
      {
       "output_type": "stream",
       "stream": "stdout",
       "text": [
        "Job launched 1039.6s ago, status RUNNING: Running step (MrjobPCA.ubuntu.20140526.181707.913351: Step 1 of 1)\r\n"
       ]
      },
      {
       "output_type": "stream",
       "stream": "stdout",
       "text": [
        "Job launched 1070.2s ago, status RUNNING: Running step (MrjobPCA.ubuntu.20140526.181707.913351: Step 1 of 1)\r\n"
       ]
      },
      {
       "output_type": "stream",
       "stream": "stdout",
       "text": [
        "Job launched 1100.7s ago, status RUNNING: Running step (MrjobPCA.ubuntu.20140526.181707.913351: Step 1 of 1)\r\n"
       ]
      },
      {
       "output_type": "stream",
       "stream": "stdout",
       "text": [
        "Job launched 1131.3s ago, status RUNNING: Running step (MrjobPCA.ubuntu.20140526.181707.913351: Step 1 of 1)\r\n"
       ]
      },
      {
       "output_type": "stream",
       "stream": "stdout",
       "text": [
        "Job launched 1161.9s ago, status RUNNING: Running step (MrjobPCA.ubuntu.20140526.181707.913351: Step 1 of 1)\r\n"
       ]
      },
      {
       "output_type": "stream",
       "stream": "stdout",
       "text": [
        "Job launched 1192.4s ago, status RUNNING: Running step (MrjobPCA.ubuntu.20140526.181707.913351: Step 1 of 1)\r\n"
       ]
      },
      {
       "output_type": "stream",
       "stream": "stdout",
       "text": [
        "Job launched 1223.0s ago, status RUNNING: Running step (MrjobPCA.ubuntu.20140526.181707.913351: Step 1 of 1)\r\n"
       ]
      },
      {
       "output_type": "stream",
       "stream": "stdout",
       "text": [
        "Job launched 1253.6s ago, status RUNNING: Running step (MrjobPCA.ubuntu.20140526.181707.913351: Step 1 of 1)\r\n"
       ]
      },
      {
       "output_type": "stream",
       "stream": "stdout",
       "text": [
        "Job launched 1284.2s ago, status RUNNING: Running step (MrjobPCA.ubuntu.20140526.181707.913351: Step 1 of 1)\r\n"
       ]
      },
      {
       "output_type": "stream",
       "stream": "stdout",
       "text": [
        "Job launched 1314.7s ago, status RUNNING: Running step (MrjobPCA.ubuntu.20140526.181707.913351: Step 1 of 1)\r\n"
       ]
      },
      {
       "output_type": "stream",
       "stream": "stdout",
       "text": [
        "Job launched 1345.3s ago, status RUNNING: Running step (MrjobPCA.ubuntu.20140526.181707.913351: Step 1 of 1)\r\n"
       ]
      },
      {
       "output_type": "stream",
       "stream": "stdout",
       "text": [
        "Job launched 1375.8s ago, status RUNNING: Running step (MrjobPCA.ubuntu.20140526.181707.913351: Step 1 of 1)\r\n"
       ]
      },
      {
       "output_type": "stream",
       "stream": "stdout",
       "text": [
        "Job launched 1406.3s ago, status RUNNING: Running step (MrjobPCA.ubuntu.20140526.181707.913351: Step 1 of 1)\r\n"
       ]
      },
      {
       "output_type": "stream",
       "stream": "stdout",
       "text": [
        "Job launched 1436.9s ago, status RUNNING: Running step (MrjobPCA.ubuntu.20140526.181707.913351: Step 1 of 1)\r\n"
       ]
      },
      {
       "output_type": "stream",
       "stream": "stdout",
       "text": [
        "Job launched 1467.5s ago, status RUNNING: Running step (MrjobPCA.ubuntu.20140526.181707.913351: Step 1 of 1)\r\n"
       ]
      },
      {
       "output_type": "stream",
       "stream": "stdout",
       "text": [
        "Job launched 1498.1s ago, status RUNNING: Running step (MrjobPCA.ubuntu.20140526.181707.913351: Step 1 of 1)\r\n"
       ]
      },
      {
       "output_type": "stream",
       "stream": "stdout",
       "text": [
        "Job launched 1528.7s ago, status RUNNING: Running step (MrjobPCA.ubuntu.20140526.181707.913351: Step 1 of 1)\r\n"
       ]
      },
      {
       "output_type": "stream",
       "stream": "stdout",
       "text": [
        "Job launched 1559.3s ago, status RUNNING: Running step (MrjobPCA.ubuntu.20140526.181707.913351: Step 1 of 1)\r\n"
       ]
      },
      {
       "output_type": "stream",
       "stream": "stdout",
       "text": [
        "Job launched 1589.9s ago, status RUNNING: Running step (MrjobPCA.ubuntu.20140526.181707.913351: Step 1 of 1)\r\n"
       ]
      },
      {
       "output_type": "stream",
       "stream": "stdout",
       "text": [
        "Job launched 1620.4s ago, status RUNNING: Running step (MrjobPCA.ubuntu.20140526.181707.913351: Step 1 of 1)\r\n"
       ]
      },
      {
       "output_type": "stream",
       "stream": "stdout",
       "text": [
        "Job launched 1651.0s ago, status RUNNING: Running step (MrjobPCA.ubuntu.20140526.181707.913351: Step 1 of 1)\r\n"
       ]
      },
      {
       "output_type": "stream",
       "stream": "stdout",
       "text": [
        "Job launched 1681.6s ago, status RUNNING: Running step (MrjobPCA.ubuntu.20140526.181707.913351: Step 1 of 1)\r\n"
       ]
      },
      {
       "output_type": "stream",
       "stream": "stdout",
       "text": [
        "Job launched 1712.2s ago, status RUNNING: Running step (MrjobPCA.ubuntu.20140526.181707.913351: Step 1 of 1)\r\n"
       ]
      },
      {
       "output_type": "stream",
       "stream": "stdout",
       "text": [
        "Job launched 1742.8s ago, status RUNNING: Running step (MrjobPCA.ubuntu.20140526.181707.913351: Step 1 of 1)\r\n"
       ]
      },
      {
       "output_type": "stream",
       "stream": "stdout",
       "text": [
        "Job launched 1773.4s ago, status RUNNING: Running step (MrjobPCA.ubuntu.20140526.181707.913351: Step 1 of 1)\r\n"
       ]
      },
      {
       "output_type": "stream",
       "stream": "stdout",
       "text": [
        "Job launched 1804.0s ago, status RUNNING: Running step (MrjobPCA.ubuntu.20140526.181707.913351: Step 1 of 1)\r\n"
       ]
      },
      {
       "output_type": "stream",
       "stream": "stdout",
       "text": [
        "Job launched 1834.6s ago, status RUNNING: Running step (MrjobPCA.ubuntu.20140526.181707.913351: Step 1 of 1)\r\n"
       ]
      },
      {
       "output_type": "stream",
       "stream": "stdout",
       "text": [
        "Job launched 1865.3s ago, status RUNNING: Running step (MrjobPCA.ubuntu.20140526.181707.913351: Step 1 of 1)\r\n"
       ]
      },
      {
       "output_type": "stream",
       "stream": "stdout",
       "text": [
        "Job launched 1895.9s ago, status RUNNING: Running step (MrjobPCA.ubuntu.20140526.181707.913351: Step 1 of 1)\r\n"
       ]
      },
      {
       "output_type": "stream",
       "stream": "stdout",
       "text": [
        "Job launched 1926.5s ago, status RUNNING: Running step (MrjobPCA.ubuntu.20140526.181707.913351: Step 1 of 1)\r\n"
       ]
      },
      {
       "output_type": "stream",
       "stream": "stdout",
       "text": [
        "Job launched 1957.1s ago, status RUNNING: Running step (MrjobPCA.ubuntu.20140526.181707.913351: Step 1 of 1)\r\n"
       ]
      },
      {
       "output_type": "stream",
       "stream": "stdout",
       "text": [
        "Job launched 1987.7s ago, status RUNNING: Running step (MrjobPCA.ubuntu.20140526.181707.913351: Step 1 of 1)\r\n"
       ]
      },
      {
       "output_type": "stream",
       "stream": "stdout",
       "text": [
        "Job launched 2018.3s ago, status RUNNING: Running step (MrjobPCA.ubuntu.20140526.181707.913351: Step 1 of 1)\r\n"
       ]
      },
      {
       "output_type": "stream",
       "stream": "stdout",
       "text": [
        "Job launched 2049.0s ago, status RUNNING: Running step (MrjobPCA.ubuntu.20140526.181707.913351: Step 1 of 1)\r\n"
       ]
      },
      {
       "output_type": "stream",
       "stream": "stdout",
       "text": [
        "Job launched 2079.6s ago, status RUNNING: Running step (MrjobPCA.ubuntu.20140526.181707.913351: Step 1 of 1)\r\n"
       ]
      },
      {
       "output_type": "stream",
       "stream": "stdout",
       "text": [
        "Job launched 2110.2s ago, status RUNNING: Running step (MrjobPCA.ubuntu.20140526.181707.913351: Step 1 of 1)\r\n"
       ]
      },
      {
       "output_type": "stream",
       "stream": "stdout",
       "text": [
        "Job launched 2140.8s ago, status RUNNING: Running step (MrjobPCA.ubuntu.20140526.181707.913351: Step 1 of 1)\r\n"
       ]
      },
      {
       "output_type": "stream",
       "stream": "stdout",
       "text": [
        "Job launched 2171.4s ago, status RUNNING: Running step (MrjobPCA.ubuntu.20140526.181707.913351: Step 1 of 1)\r\n"
       ]
      },
      {
       "output_type": "stream",
       "stream": "stdout",
       "text": [
        "Job launched 2202.0s ago, status RUNNING: Running step (MrjobPCA.ubuntu.20140526.181707.913351: Step 1 of 1)\r\n"
       ]
      },
      {
       "output_type": "stream",
       "stream": "stdout",
       "text": [
        "Job launched 2232.5s ago, status RUNNING: Running step (MrjobPCA.ubuntu.20140526.181707.913351: Step 1 of 1)\r\n"
       ]
      },
      {
       "output_type": "stream",
       "stream": "stdout",
       "text": [
        "Job launched 2263.2s ago, status RUNNING: Running step (MrjobPCA.ubuntu.20140526.181707.913351: Step 1 of 1)\r\n"
       ]
      },
      {
       "output_type": "stream",
       "stream": "stdout",
       "text": [
        "Job launched 2293.7s ago, status RUNNING: Running step (MrjobPCA.ubuntu.20140526.181707.913351: Step 1 of 1)\r\n"
       ]
      },
      {
       "output_type": "stream",
       "stream": "stdout",
       "text": [
        "Job launched 2324.3s ago, status RUNNING: Running step (MrjobPCA.ubuntu.20140526.181707.913351: Step 1 of 1)\r\n"
       ]
      },
      {
       "output_type": "stream",
       "stream": "stdout",
       "text": [
        "Job launched 2354.9s ago, status RUNNING: Running step (MrjobPCA.ubuntu.20140526.181707.913351: Step 1 of 1)\r\n"
       ]
      },
      {
       "output_type": "stream",
       "stream": "stdout",
       "text": [
        "Job launched 2385.5s ago, status RUNNING: Running step (MrjobPCA.ubuntu.20140526.181707.913351: Step 1 of 1)\r\n"
       ]
      },
      {
       "output_type": "stream",
       "stream": "stdout",
       "text": [
        "Job launched 2416.0s ago, status RUNNING: Running step (MrjobPCA.ubuntu.20140526.181707.913351: Step 1 of 1)\r\n"
       ]
      },
      {
       "output_type": "stream",
       "stream": "stdout",
       "text": [
        "Job launched 2446.7s ago, status RUNNING: Running step (MrjobPCA.ubuntu.20140526.181707.913351: Step 1 of 1)\r\n"
       ]
      },
      {
       "output_type": "stream",
       "stream": "stdout",
       "text": [
        "Job launched 2477.3s ago, status RUNNING: Running step (MrjobPCA.ubuntu.20140526.181707.913351: Step 1 of 1)\r\n"
       ]
      },
      {
       "output_type": "stream",
       "stream": "stdout",
       "text": [
        "Job launched 2508.0s ago, status RUNNING: Running step (MrjobPCA.ubuntu.20140526.181707.913351: Step 1 of 1)\r\n"
       ]
      },
      {
       "output_type": "stream",
       "stream": "stdout",
       "text": [
        "Job launched 2538.5s ago, status RUNNING: Running step (MrjobPCA.ubuntu.20140526.181707.913351: Step 1 of 1)\r\n"
       ]
      },
      {
       "output_type": "stream",
       "stream": "stdout",
       "text": [
        "Job launched 2569.1s ago, status RUNNING: Running step (MrjobPCA.ubuntu.20140526.181707.913351: Step 1 of 1)\r\n"
       ]
      },
      {
       "output_type": "stream",
       "stream": "stdout",
       "text": [
        "Job launched 2599.6s ago, status RUNNING: Running step (MrjobPCA.ubuntu.20140526.181707.913351: Step 1 of 1)\r\n"
       ]
      },
      {
       "output_type": "stream",
       "stream": "stdout",
       "text": [
        "Job launched 2630.2s ago, status RUNNING: Running step (MrjobPCA.ubuntu.20140526.181707.913351: Step 1 of 1)\r\n"
       ]
      },
      {
       "output_type": "stream",
       "stream": "stdout",
       "text": [
        "Job launched 2660.8s ago, status RUNNING: Running step (MrjobPCA.ubuntu.20140526.181707.913351: Step 1 of 1)\r\n"
       ]
      },
      {
       "output_type": "stream",
       "stream": "stdout",
       "text": [
        "Job launched 2691.3s ago, status RUNNING: Running step (MrjobPCA.ubuntu.20140526.181707.913351: Step 1 of 1)\r\n"
       ]
      },
      {
       "output_type": "stream",
       "stream": "stdout",
       "text": [
        "Job launched 2721.9s ago, status RUNNING: Running step (MrjobPCA.ubuntu.20140526.181707.913351: Step 1 of 1)\r\n"
       ]
      },
      {
       "output_type": "stream",
       "stream": "stdout",
       "text": [
        "Job launched 2752.4s ago, status RUNNING: Running step (MrjobPCA.ubuntu.20140526.181707.913351: Step 1 of 1)\r\n"
       ]
      },
      {
       "output_type": "stream",
       "stream": "stdout",
       "text": [
        "Job launched 2783.0s ago, status RUNNING: Running step (MrjobPCA.ubuntu.20140526.181707.913351: Step 1 of 1)\r\n"
       ]
      },
      {
       "output_type": "stream",
       "stream": "stdout",
       "text": [
        "Job launched 2813.6s ago, status RUNNING: Running step (MrjobPCA.ubuntu.20140526.181707.913351: Step 1 of 1)\r\n"
       ]
      },
      {
       "output_type": "stream",
       "stream": "stdout",
       "text": [
        "Job launched 2844.1s ago, status RUNNING: Running step (MrjobPCA.ubuntu.20140526.181707.913351: Step 1 of 1)\r\n"
       ]
      },
      {
       "output_type": "stream",
       "stream": "stdout",
       "text": [
        "Job launched 2874.8s ago, status RUNNING: Running step (MrjobPCA.ubuntu.20140526.181707.913351: Step 1 of 1)\r\n"
       ]
      },
      {
       "output_type": "stream",
       "stream": "stdout",
       "text": [
        "Job launched 2905.4s ago, status RUNNING: Running step (MrjobPCA.ubuntu.20140526.181707.913351: Step 1 of 1)\r\n"
       ]
      },
      {
       "output_type": "stream",
       "stream": "stdout",
       "text": [
        "Job launched 2935.9s ago, status RUNNING: Running step (MrjobPCA.ubuntu.20140526.181707.913351: Step 1 of 1)\r\n"
       ]
      },
      {
       "output_type": "stream",
       "stream": "stdout",
       "text": [
        "Job launched 2966.6s ago, status RUNNING: Running step (MrjobPCA.ubuntu.20140526.181707.913351: Step 1 of 1)\r\n"
       ]
      },
      {
       "output_type": "stream",
       "stream": "stdout",
       "text": [
        "Job launched 2997.1s ago, status RUNNING: Running step (MrjobPCA.ubuntu.20140526.181707.913351: Step 1 of 1)\r\n"
       ]
      },
      {
       "output_type": "stream",
       "stream": "stdout",
       "text": [
        "Job launched 3027.8s ago, status RUNNING: Running step (MrjobPCA.ubuntu.20140526.181707.913351: Step 1 of 1)\r\n"
       ]
      },
      {
       "output_type": "stream",
       "stream": "stdout",
       "text": [
        "Job launched 3058.5s ago, status RUNNING: Running step (MrjobPCA.ubuntu.20140526.181707.913351: Step 1 of 1)\r\n"
       ]
      },
      {
       "output_type": "stream",
       "stream": "stdout",
       "text": [
        "Job launched 3089.1s ago, status RUNNING: Running step (MrjobPCA.ubuntu.20140526.181707.913351: Step 1 of 1)\r\n"
       ]
      },
      {
       "output_type": "stream",
       "stream": "stdout",
       "text": [
        "Job launched 3119.6s ago, status RUNNING: Running step (MrjobPCA.ubuntu.20140526.181707.913351: Step 1 of 1)\r\n"
       ]
      },
      {
       "output_type": "stream",
       "stream": "stdout",
       "text": [
        "Job launched 3150.2s ago, status RUNNING: Running step (MrjobPCA.ubuntu.20140526.181707.913351: Step 1 of 1)\r\n"
       ]
      },
      {
       "output_type": "stream",
       "stream": "stdout",
       "text": [
        "Job launched 3181.0s ago, status RUNNING: Running step (MrjobPCA.ubuntu.20140526.181707.913351: Step 1 of 1)\r\n"
       ]
      },
      {
       "output_type": "stream",
       "stream": "stdout",
       "text": [
        "Job launched 3211.6s ago, status RUNNING: Running step (MrjobPCA.ubuntu.20140526.181707.913351: Step 1 of 1)\r\n"
       ]
      },
      {
       "output_type": "stream",
       "stream": "stdout",
       "text": [
        "Job launched 3242.2s ago, status RUNNING: Running step (MrjobPCA.ubuntu.20140526.181707.913351: Step 1 of 1)\r\n"
       ]
      },
      {
       "output_type": "stream",
       "stream": "stdout",
       "text": [
        "Job launched 3272.9s ago, status RUNNING: Running step (MrjobPCA.ubuntu.20140526.181707.913351: Step 1 of 1)\r\n"
       ]
      },
      {
       "output_type": "stream",
       "stream": "stdout",
       "text": [
        "Job launched 3303.4s ago, status RUNNING: Running step (MrjobPCA.ubuntu.20140526.181707.913351: Step 1 of 1)\r\n"
       ]
      },
      {
       "output_type": "stream",
       "stream": "stdout",
       "text": [
        "Job launched 3334.0s ago, status RUNNING: Running step (MrjobPCA.ubuntu.20140526.181707.913351: Step 1 of 1)\r\n"
       ]
      },
      {
       "output_type": "stream",
       "stream": "stdout",
       "text": [
        "Job launched 3364.7s ago, status RUNNING: Running step (MrjobPCA.ubuntu.20140526.181707.913351: Step 1 of 1)\r\n"
       ]
      },
      {
       "output_type": "stream",
       "stream": "stdout",
       "text": [
        "Job launched 3395.2s ago, status RUNNING: Running step (MrjobPCA.ubuntu.20140526.181707.913351: Step 1 of 1)\r\n"
       ]
      },
      {
       "output_type": "stream",
       "stream": "stdout",
       "text": [
        "Job launched 3425.8s ago, status RUNNING: Running step (MrjobPCA.ubuntu.20140526.181707.913351: Step 1 of 1)\r\n"
       ]
      },
      {
       "output_type": "stream",
       "stream": "stdout",
       "text": [
        "Job launched 3456.3s ago, status RUNNING: Running step (MrjobPCA.ubuntu.20140526.181707.913351: Step 1 of 1)\r\n"
       ]
      },
      {
       "output_type": "stream",
       "stream": "stdout",
       "text": [
        "Job launched 3486.9s ago, status RUNNING: Running step (MrjobPCA.ubuntu.20140526.181707.913351: Step 1 of 1)\r\n"
       ]
      },
      {
       "output_type": "stream",
       "stream": "stdout",
       "text": [
        "Job launched 3517.4s ago, status RUNNING: Running step (MrjobPCA.ubuntu.20140526.181707.913351: Step 1 of 1)\r\n"
       ]
      },
      {
       "output_type": "stream",
       "stream": "stdout",
       "text": [
        "Job launched 3548.0s ago, status RUNNING: Running step (MrjobPCA.ubuntu.20140526.181707.913351: Step 1 of 1)\r\n"
       ]
      },
      {
       "output_type": "stream",
       "stream": "stdout",
       "text": [
        "Job launched 3578.6s ago, status RUNNING: Running step (MrjobPCA.ubuntu.20140526.181707.913351: Step 1 of 1)\r\n"
       ]
      },
      {
       "output_type": "stream",
       "stream": "stdout",
       "text": [
        "Job launched 3609.1s ago, status RUNNING: Running step (MrjobPCA.ubuntu.20140526.181707.913351: Step 1 of 1)\r\n"
       ]
      },
      {
       "output_type": "stream",
       "stream": "stdout",
       "text": [
        "Job launched 3639.7s ago, status RUNNING: Running step (MrjobPCA.ubuntu.20140526.181707.913351: Step 1 of 1)\r\n"
       ]
      },
      {
       "output_type": "stream",
       "stream": "stdout",
       "text": [
        "Job launched 3670.2s ago, status RUNNING: Running step (MrjobPCA.ubuntu.20140526.181707.913351: Step 1 of 1)\r\n"
       ]
      },
      {
       "output_type": "stream",
       "stream": "stdout",
       "text": [
        "Job launched 3700.7s ago, status RUNNING: Running step (MrjobPCA.ubuntu.20140526.181707.913351: Step 1 of 1)\r\n"
       ]
      },
      {
       "output_type": "stream",
       "stream": "stdout",
       "text": [
        "Job launched 3731.3s ago, status RUNNING: Running step (MrjobPCA.ubuntu.20140526.181707.913351: Step 1 of 1)\r\n"
       ]
      },
      {
       "output_type": "stream",
       "stream": "stdout",
       "text": [
        "Job launched 3761.9s ago, status RUNNING: Running step (MrjobPCA.ubuntu.20140526.181707.913351: Step 1 of 1)\r\n"
       ]
      },
      {
       "output_type": "stream",
       "stream": "stdout",
       "text": [
        "Job launched 3792.5s ago, status RUNNING: Running step (MrjobPCA.ubuntu.20140526.181707.913351: Step 1 of 1)\r\n"
       ]
      },
      {
       "output_type": "stream",
       "stream": "stdout",
       "text": [
        "Job launched 3823.1s ago, status RUNNING: Running step (MrjobPCA.ubuntu.20140526.181707.913351: Step 1 of 1)\r\n"
       ]
      },
      {
       "output_type": "stream",
       "stream": "stdout",
       "text": [
        "Job launched 3853.7s ago, status RUNNING: Running step (MrjobPCA.ubuntu.20140526.181707.913351: Step 1 of 1)\r\n"
       ]
      },
      {
       "output_type": "stream",
       "stream": "stdout",
       "text": [
        "Job launched 3884.2s ago, status RUNNING: Running step (MrjobPCA.ubuntu.20140526.181707.913351: Step 1 of 1)\r\n"
       ]
      },
      {
       "output_type": "stream",
       "stream": "stdout",
       "text": [
        "Job launched 3914.9s ago, status RUNNING: Running step (MrjobPCA.ubuntu.20140526.181707.913351: Step 1 of 1)\r\n"
       ]
      },
      {
       "output_type": "stream",
       "stream": "stdout",
       "text": [
        "Job launched 3945.4s ago, status RUNNING: Running step (MrjobPCA.ubuntu.20140526.181707.913351: Step 1 of 1)\r\n"
       ]
      },
      {
       "output_type": "stream",
       "stream": "stdout",
       "text": [
        "Job launched 3975.9s ago, status RUNNING: Running step (MrjobPCA.ubuntu.20140526.181707.913351: Step 1 of 1)\r\n"
       ]
      },
      {
       "output_type": "stream",
       "stream": "stdout",
       "text": [
        "Job launched 4006.5s ago, status RUNNING: Running step (MrjobPCA.ubuntu.20140526.181707.913351: Step 1 of 1)\r\n"
       ]
      },
      {
       "output_type": "stream",
       "stream": "stdout",
       "text": [
        "Job launched 4037.2s ago, status RUNNING: Running step (MrjobPCA.ubuntu.20140526.181707.913351: Step 1 of 1)\r\n"
       ]
      },
      {
       "output_type": "stream",
       "stream": "stdout",
       "text": [
        "Job launched 4067.9s ago, status RUNNING: Running step (MrjobPCA.ubuntu.20140526.181707.913351: Step 1 of 1)\r\n"
       ]
      },
      {
       "output_type": "stream",
       "stream": "stdout",
       "text": [
        "Job launched 4098.5s ago, status RUNNING: Running step (MrjobPCA.ubuntu.20140526.181707.913351: Step 1 of 1)\r\n"
       ]
      },
      {
       "output_type": "stream",
       "stream": "stdout",
       "text": [
        "Job launched 4129.0s ago, status RUNNING: Running step (MrjobPCA.ubuntu.20140526.181707.913351: Step 1 of 1)\r\n"
       ]
      },
      {
       "output_type": "stream",
       "stream": "stdout",
       "text": [
        "Job launched 4159.6s ago, status RUNNING: Running step (MrjobPCA.ubuntu.20140526.181707.913351: Step 1 of 1)\r\n"
       ]
      },
      {
       "output_type": "stream",
       "stream": "stdout",
       "text": [
        "Job launched 4190.2s ago, status RUNNING: Running step (MrjobPCA.ubuntu.20140526.181707.913351: Step 1 of 1)\r\n"
       ]
      },
      {
       "output_type": "stream",
       "stream": "stdout",
       "text": [
        "Job launched 4220.8s ago, status RUNNING: Running step (MrjobPCA.ubuntu.20140526.181707.913351: Step 1 of 1)\r\n"
       ]
      },
      {
       "output_type": "stream",
       "stream": "stdout",
       "text": [
        "Job launched 4251.3s ago, status RUNNING: Running step (MrjobPCA.ubuntu.20140526.181707.913351: Step 1 of 1)\r\n"
       ]
      },
      {
       "output_type": "stream",
       "stream": "stdout",
       "text": [
        "Job launched 4281.9s ago, status RUNNING: Running step (MrjobPCA.ubuntu.20140526.181707.913351: Step 1 of 1)\r\n"
       ]
      },
      {
       "output_type": "stream",
       "stream": "stdout",
       "text": [
        "Job launched 4312.5s ago, status RUNNING: Running step (MrjobPCA.ubuntu.20140526.181707.913351: Step 1 of 1)\r\n"
       ]
      },
      {
       "output_type": "stream",
       "stream": "stdout",
       "text": [
        "Job launched 4343.1s ago, status RUNNING: Running step (MrjobPCA.ubuntu.20140526.181707.913351: Step 1 of 1)\r\n"
       ]
      },
      {
       "output_type": "stream",
       "stream": "stdout",
       "text": [
        "Job launched 4373.6s ago, status RUNNING: Running step (MrjobPCA.ubuntu.20140526.181707.913351: Step 1 of 1)\r\n"
       ]
      },
      {
       "output_type": "stream",
       "stream": "stdout",
       "text": [
        "Job launched 4404.1s ago, status RUNNING: Running step (MrjobPCA.ubuntu.20140526.181707.913351: Step 1 of 1)\r\n"
       ]
      },
      {
       "output_type": "stream",
       "stream": "stdout",
       "text": [
        "Job launched 4434.8s ago, status RUNNING: Running step (MrjobPCA.ubuntu.20140526.181707.913351: Step 1 of 1)\r\n"
       ]
      },
      {
       "output_type": "stream",
       "stream": "stdout",
       "text": [
        "Job launched 4465.4s ago, status RUNNING: Running step (MrjobPCA.ubuntu.20140526.181707.913351: Step 1 of 1)\r\n"
       ]
      },
      {
       "output_type": "stream",
       "stream": "stdout",
       "text": [
        "Job launched 4495.9s ago, status RUNNING: Running step (MrjobPCA.ubuntu.20140526.181707.913351: Step 1 of 1)\r\n"
       ]
      },
      {
       "output_type": "stream",
       "stream": "stdout",
       "text": [
        "Job launched 4526.4s ago, status RUNNING: Running step (MrjobPCA.ubuntu.20140526.181707.913351: Step 1 of 1)\r\n"
       ]
      },
      {
       "output_type": "stream",
       "stream": "stdout",
       "text": [
        "Job launched 4557.0s ago, status RUNNING: Running step (MrjobPCA.ubuntu.20140526.181707.913351: Step 1 of 1)\r\n"
       ]
      },
      {
       "output_type": "stream",
       "stream": "stdout",
       "text": [
        "Job launched 4587.6s ago, status RUNNING: Running step (MrjobPCA.ubuntu.20140526.181707.913351: Step 1 of 1)\r\n"
       ]
      },
      {
       "output_type": "stream",
       "stream": "stdout",
       "text": [
        "Job launched 4618.2s ago, status RUNNING: Running step (MrjobPCA.ubuntu.20140526.181707.913351: Step 1 of 1)\r\n"
       ]
      },
      {
       "output_type": "stream",
       "stream": "stdout",
       "text": [
        "Job launched 4648.7s ago, status RUNNING: Running step (MrjobPCA.ubuntu.20140526.181707.913351: Step 1 of 1)\r\n"
       ]
      },
      {
       "output_type": "stream",
       "stream": "stdout",
       "text": [
        "Job launched 4679.4s ago, status RUNNING: Running step (MrjobPCA.ubuntu.20140526.181707.913351: Step 1 of 1)\r\n"
       ]
      },
      {
       "output_type": "stream",
       "stream": "stdout",
       "text": [
        "Job launched 4709.9s ago, status RUNNING: Running step (MrjobPCA.ubuntu.20140526.181707.913351: Step 1 of 1)\r\n"
       ]
      },
      {
       "output_type": "stream",
       "stream": "stdout",
       "text": [
        "Job launched 4740.5s ago, status RUNNING: Running step (MrjobPCA.ubuntu.20140526.181707.913351: Step 1 of 1)\r\n"
       ]
      },
      {
       "output_type": "stream",
       "stream": "stdout",
       "text": [
        "Job launched 4771.0s ago, status RUNNING: Running step (MrjobPCA.ubuntu.20140526.181707.913351: Step 1 of 1)\r\n"
       ]
      },
      {
       "output_type": "stream",
       "stream": "stdout",
       "text": [
        "Job launched 4801.6s ago, status RUNNING: Running step (MrjobPCA.ubuntu.20140526.181707.913351: Step 1 of 1)\r\n"
       ]
      },
      {
       "output_type": "stream",
       "stream": "stdout",
       "text": [
        "Job launched 4832.1s ago, status RUNNING: Running step (MrjobPCA.ubuntu.20140526.181707.913351: Step 1 of 1)\r\n"
       ]
      },
      {
       "output_type": "stream",
       "stream": "stdout",
       "text": [
        "Job launched 4862.7s ago, status RUNNING: Running step (MrjobPCA.ubuntu.20140526.181707.913351: Step 1 of 1)\r\n"
       ]
      },
      {
       "output_type": "stream",
       "stream": "stdout",
       "text": [
        "Job launched 4893.3s ago, status RUNNING: Running step (MrjobPCA.ubuntu.20140526.181707.913351: Step 1 of 1)\r\n"
       ]
      },
      {
       "output_type": "stream",
       "stream": "stdout",
       "text": [
        "Job launched 4923.8s ago, status RUNNING: Running step (MrjobPCA.ubuntu.20140526.181707.913351: Step 1 of 1)\r\n"
       ]
      },
      {
       "output_type": "stream",
       "stream": "stdout",
       "text": [
        "Job launched 4954.4s ago, status RUNNING: Running step (MrjobPCA.ubuntu.20140526.181707.913351: Step 1 of 1)\r\n"
       ]
      },
      {
       "output_type": "stream",
       "stream": "stdout",
       "text": [
        "Job launched 4985.0s ago, status RUNNING: Running step (MrjobPCA.ubuntu.20140526.181707.913351: Step 1 of 1)\r\n"
       ]
      },
      {
       "output_type": "stream",
       "stream": "stdout",
       "text": [
        "Job launched 5015.7s ago, status RUNNING: Running step (MrjobPCA.ubuntu.20140526.181707.913351: Step 1 of 1)\r\n"
       ]
      },
      {
       "output_type": "stream",
       "stream": "stdout",
       "text": [
        "Job launched 5046.3s ago, status RUNNING: Running step (MrjobPCA.ubuntu.20140526.181707.913351: Step 1 of 1)\r\n"
       ]
      },
      {
       "output_type": "stream",
       "stream": "stdout",
       "text": [
        "Job launched 5076.9s ago, status RUNNING: Running step (MrjobPCA.ubuntu.20140526.181707.913351: Step 1 of 1)\r\n"
       ]
      },
      {
       "output_type": "stream",
       "stream": "stdout",
       "text": [
        "Job launched 5107.4s ago, status RUNNING: Running step (MrjobPCA.ubuntu.20140526.181707.913351: Step 1 of 1)\r\n"
       ]
      },
      {
       "output_type": "stream",
       "stream": "stdout",
       "text": [
        "Job launched 5138.0s ago, status RUNNING: Running step (MrjobPCA.ubuntu.20140526.181707.913351: Step 1 of 1)\r\n"
       ]
      },
      {
       "output_type": "stream",
       "stream": "stdout",
       "text": [
        "Job launched 5168.7s ago, status RUNNING: Running step (MrjobPCA.ubuntu.20140526.181707.913351: Step 1 of 1)\r\n"
       ]
      },
      {
       "output_type": "stream",
       "stream": "stdout",
       "text": [
        "Job launched 5199.3s ago, status RUNNING: Running step (MrjobPCA.ubuntu.20140526.181707.913351: Step 1 of 1)\r\n"
       ]
      },
      {
       "output_type": "stream",
       "stream": "stdout",
       "text": [
        "Job launched 5229.8s ago, status RUNNING: Running step (MrjobPCA.ubuntu.20140526.181707.913351: Step 1 of 1)\r\n"
       ]
      },
      {
       "output_type": "stream",
       "stream": "stdout",
       "text": [
        "Job launched 5260.4s ago, status RUNNING: Running step (MrjobPCA.ubuntu.20140526.181707.913351: Step 1 of 1)\r\n"
       ]
      },
      {
       "output_type": "stream",
       "stream": "stdout",
       "text": [
        "Job launched 5290.9s ago, status RUNNING: Running step (MrjobPCA.ubuntu.20140526.181707.913351: Step 1 of 1)\r\n"
       ]
      },
      {
       "output_type": "stream",
       "stream": "stdout",
       "text": [
        "Job launched 5321.5s ago, status RUNNING: Running step (MrjobPCA.ubuntu.20140526.181707.913351: Step 1 of 1)\r\n"
       ]
      },
      {
       "output_type": "stream",
       "stream": "stdout",
       "text": [
        "Job launched 5352.0s ago, status RUNNING: Running step (MrjobPCA.ubuntu.20140526.181707.913351: Step 1 of 1)\r\n"
       ]
      },
      {
       "output_type": "stream",
       "stream": "stdout",
       "text": [
        "Job launched 5382.6s ago, status RUNNING: Running step (MrjobPCA.ubuntu.20140526.181707.913351: Step 1 of 1)\r\n"
       ]
      },
      {
       "output_type": "stream",
       "stream": "stdout",
       "text": [
        "Job launched 5413.2s ago, status RUNNING: Running step (MrjobPCA.ubuntu.20140526.181707.913351: Step 1 of 1)\r\n"
       ]
      },
      {
       "output_type": "stream",
       "stream": "stdout",
       "text": [
        "Job launched 5443.8s ago, status RUNNING: Running step (MrjobPCA.ubuntu.20140526.181707.913351: Step 1 of 1)\r\n"
       ]
      },
      {
       "output_type": "stream",
       "stream": "stdout",
       "text": [
        "Job launched 5474.4s ago, status RUNNING: Running step (MrjobPCA.ubuntu.20140526.181707.913351: Step 1 of 1)\r\n"
       ]
      },
      {
       "output_type": "stream",
       "stream": "stdout",
       "text": [
        "Job launched 5505.0s ago, status RUNNING: Running step (MrjobPCA.ubuntu.20140526.181707.913351: Step 1 of 1)\r\n"
       ]
      },
      {
       "output_type": "stream",
       "stream": "stdout",
       "text": [
        "Job launched 5535.6s ago, status RUNNING: Running step (MrjobPCA.ubuntu.20140526.181707.913351: Step 1 of 1)\r\n"
       ]
      },
      {
       "output_type": "stream",
       "stream": "stdout",
       "text": [
        "Job launched 5566.3s ago, status RUNNING: Running step (MrjobPCA.ubuntu.20140526.181707.913351: Step 1 of 1)\r\n"
       ]
      },
      {
       "output_type": "stream",
       "stream": "stdout",
       "text": [
        "Job launched 5596.9s ago, status RUNNING: Running step (MrjobPCA.ubuntu.20140526.181707.913351: Step 1 of 1)\r\n"
       ]
      },
      {
       "output_type": "stream",
       "stream": "stdout",
       "text": [
        "Job launched 5627.5s ago, status RUNNING: Running step (MrjobPCA.ubuntu.20140526.181707.913351: Step 1 of 1)\r\n"
       ]
      },
      {
       "output_type": "stream",
       "stream": "stdout",
       "text": [
        "Job launched 5658.2s ago, status RUNNING: Running step (MrjobPCA.ubuntu.20140526.181707.913351: Step 1 of 1)\r\n"
       ]
      },
      {
       "output_type": "stream",
       "stream": "stdout",
       "text": [
        "Job launched 5688.8s ago, status RUNNING: Running step (MrjobPCA.ubuntu.20140526.181707.913351: Step 1 of 1)\r\n"
       ]
      },
      {
       "output_type": "stream",
       "stream": "stdout",
       "text": [
        "Job launched 5719.4s ago, status RUNNING: Running step (MrjobPCA.ubuntu.20140526.181707.913351: Step 1 of 1)\r\n"
       ]
      },
      {
       "output_type": "stream",
       "stream": "stdout",
       "text": [
        "Job launched 5750.0s ago, status RUNNING: Running step (MrjobPCA.ubuntu.20140526.181707.913351: Step 1 of 1)\r\n"
       ]
      },
      {
       "output_type": "stream",
       "stream": "stdout",
       "text": [
        "Job launched 5780.7s ago, status RUNNING: Running step (MrjobPCA.ubuntu.20140526.181707.913351: Step 1 of 1)\r\n"
       ]
      },
      {
       "output_type": "stream",
       "stream": "stdout",
       "text": [
        "Job launched 5811.3s ago, status RUNNING: Running step (MrjobPCA.ubuntu.20140526.181707.913351: Step 1 of 1)\r\n"
       ]
      },
      {
       "output_type": "stream",
       "stream": "stdout",
       "text": [
        "Job launched 5841.9s ago, status RUNNING: Running step (MrjobPCA.ubuntu.20140526.181707.913351: Step 1 of 1)\r\n"
       ]
      },
      {
       "output_type": "stream",
       "stream": "stdout",
       "text": [
        "Job launched 5872.5s ago, status RUNNING: Running step (MrjobPCA.ubuntu.20140526.181707.913351: Step 1 of 1)\r\n"
       ]
      },
      {
       "output_type": "stream",
       "stream": "stdout",
       "text": [
        "Job launched 5903.1s ago, status RUNNING: Running step (MrjobPCA.ubuntu.20140526.181707.913351: Step 1 of 1)\r\n"
       ]
      },
      {
       "output_type": "stream",
       "stream": "stdout",
       "text": [
        "Job launched 5933.6s ago, status RUNNING: Running step (MrjobPCA.ubuntu.20140526.181707.913351: Step 1 of 1)\r\n"
       ]
      },
      {
       "output_type": "stream",
       "stream": "stdout",
       "text": [
        "Job launched 5964.2s ago, status RUNNING: Running step (MrjobPCA.ubuntu.20140526.181707.913351: Step 1 of 1)\r\n"
       ]
      },
      {
       "output_type": "stream",
       "stream": "stdout",
       "text": [
        "Job launched 5994.9s ago, status RUNNING: Running step (MrjobPCA.ubuntu.20140526.181707.913351: Step 1 of 1)\r\n"
       ]
      },
      {
       "output_type": "stream",
       "stream": "stdout",
       "text": [
        "Job launched 6025.6s ago, status RUNNING: Running step (MrjobPCA.ubuntu.20140526.181707.913351: Step 1 of 1)\r\n"
       ]
      },
      {
       "output_type": "stream",
       "stream": "stdout",
       "text": [
        "Job launched 6056.2s ago, status RUNNING: Running step (MrjobPCA.ubuntu.20140526.181707.913351: Step 1 of 1)\r\n"
       ]
      },
      {
       "output_type": "stream",
       "stream": "stdout",
       "text": [
        "Job launched 6086.8s ago, status RUNNING: Running step (MrjobPCA.ubuntu.20140526.181707.913351: Step 1 of 1)\r\n"
       ]
      },
      {
       "output_type": "stream",
       "stream": "stdout",
       "text": [
        "Job launched 6117.4s ago, status RUNNING: Running step (MrjobPCA.ubuntu.20140526.181707.913351: Step 1 of 1)\r\n"
       ]
      },
      {
       "output_type": "stream",
       "stream": "stdout",
       "text": [
        "Job launched 6148.0s ago, status RUNNING: Running step (MrjobPCA.ubuntu.20140526.181707.913351: Step 1 of 1)\r\n"
       ]
      },
      {
       "output_type": "stream",
       "stream": "stdout",
       "text": [
        "Job launched 6178.7s ago, status RUNNING: Running step (MrjobPCA.ubuntu.20140526.181707.913351: Step 1 of 1)\r\n"
       ]
      }
     ]
    },
    {
     "cell_type": "markdown",
     "metadata": {},
     "source": [
      "Note: This code merged the index to ALL.head.csv quickly, but somehow the merging on the full dataset takes too long and has no sign to stop. (The job flow status becomes non-available, that might be the reason)."
     ]
    },
    {
     "cell_type": "markdown",
     "metadata": {},
     "source": [
      "###Step2: Perform PCA through MapReduce###\n",
      "Because the mrjob in step 1 has not completed yet at the time I write the PCA code, I temporarily put the algorithm and time complexity analysis here. Will add result after step 1 completes.\n",
      "\n",
      "####Compute the covariance matrix (for each partition)\n",
      "Covariance matrix can be computed as \n",
      "$\\sum_{} = \\frac{1}{m} \\sum_{i=1}^m (X_i X_i^T) - \\mu \\mu^T$. The mean vector $\\mu$ can be computed as $\\mu = \\frac{1}{m} \\sum_{i=1}^m x_i$.\n",
      "Therefore the summation form of the above equations can be mapped to several mappers and then reducer just sum up the all the results from mappers to produce the final matrix. In order to relieve the load of reducers, we use combiners to sum up partial results.\n",
      "\n",
      "####Compute eigenvectors (for each partition)\n",
      "Reducer is in charge of computing the eigenvectos. We direclty apply\n",
      "U,D,V=np.linalg.svd(cov) on the covariance matrix.\n",
      "\n",
      "####Time complexity analysis\n",
      "Here we do a simple algorithm time complexity analysis. Suppose we have $m$ training examples and the data dimension is $n$, and there are $P$ mappers. To simplify the scenario, we assume a signle core model for each physical node. On a single node, the time complexity of covariance computations and eigenvecotr computation are $O(mn^2)$ and $O(n^3)$ separately, so the total time complexity is: \n",
      "$$O(mn^2 + n^3)$$ \n",
      "On mapreduce framework, the theoretical time complexity is: $$O(\\frac{mn^2}{P} + n^3)$$ \n",
      "Since $n>>m$ in our case, the ideal speedup that could be obtained by using MapReduce is $P$. \n",
      "\n",
      "In practice, the disk and network I/O communication overhead defintely cannot be overlooked. So an intuitive hypothesis based on the analysis is that it may not be a good idea to perform mapreduce when $P$ is small. \n",
      "\n",
      "(Xinxin's note: possible to look at the time overhead of the disk and network I/O on EMR? possible to build a model to estimate the real-world time of a machine learning algorithm on MapReduce? how to make the algorithm more efficient considering I/O ?) \n"
     ]
    },
    {
     "cell_type": "code",
     "collapsed": false,
     "input": [
      "%%writefile MrjobPCA.py\n",
      "#!/usr/bin/python\n",
      "import re,pickle,base64,zlib\n",
      "from sys import stderr\n",
      "import sys\n",
      "sys.path.append('/usr/lib/python2.6/dist-packages') # a hack because anaconda made mrjob unreachable\n",
      "from mrjob.job import MRJob\n",
      "from mrjob.protocol import *\n",
      "import traceback\n",
      "from functools import wraps\n",
      "from sys import stderr\n",
      "import numpy as np\n",
      "\n",
      "def loads(eVal):\n",
      "    \"\"\" Decode a string into a value \"\"\"\n",
      "    return pickle.loads(zlib.decompress(base64.b64decode(eVal)))\n",
      "\n",
      "def load(line):\n",
      "    (key,eVal)=line.split('\\t')\n",
      "    Value=pickle.loads(zlib.decompress(base64.b64decode(eVal)))\n",
      "    return(key,Value)\n",
      "\n",
      "def dumps(Value):\n",
      "    \"\"\" Encode a value as a string \"\"\"\n",
      "    return base64.b64encode(zlib.compress(pickle.dumps(Value),9))\n",
      "\n",
      "\n",
      "#Merge weather raw data with its node index\n",
      "class MrjobPCA(MRJob):\n",
      "    def __init__(self, *args, **kwargs):\n",
      "        super(MRMerge, self).__init__(*args, **kwargs)\n",
      "     \n",
      "    def mapper(self, _, line):  # should output key,value\n",
      "        try:\n",
      "            self.increment_counter('MrJob Counters','mapper-all',1)\n",
      "            (station,value) = load(line)\n",
      "            index = value['index']\n",
      "            data = value['data']\n",
      "            outer = np.outer(data,data)\n",
      "            S = {'count': 1 ,'product':outer, 'sum':data}\n",
      "            yield(index, dumps(S))\n",
      "        except Exception as e: \n",
      "            self.increment_counter('MrJob Counters','mapper-error',1)\n",
      "           # stderr.write('Error:')\n",
      "           # stderr.write(str(e))\n",
      "            pass\n",
      "    \n",
      "    def combiner(self, index, vectors):\n",
      "        try:\n",
      "            self.increment_counter('MrJob Counters','combiner-all',1)\n",
      "            count = 0\n",
      "            outer = np.zeros([730,730])\n",
      "            sums = np.zeros(730)\n",
      "            for vecotr in vectors:\n",
      "                count += int(vector['count'])\n",
      "                outer = np.add(outer, vector['outer'])\n",
      "                sums = np.add(sums, vector['data'])\n",
      "            S = {'count': count,'product':outer, 'sum':sums}\n",
      "            yield(index, dumps(S))\n",
      "        except Exception as e: \n",
      "            self.increment_counter('MrJob Counters','combiner-error',1)\n",
      "            pass\n",
      "    \n",
      "    def reducer(self, index, vectors):\n",
      "        try:\n",
      "            self.increment_counter('MrJob Counters','reducer-all',1)\n",
      "            count = 0\n",
      "            outer = np.zeros([730,730])\n",
      "            sums = np.zeros(730)\n",
      "            for vecotr in vectors:\n",
      "                count += int(vector['count'])\n",
      "                outer = np.add(outer, vector['outer'])\n",
      "                sums = np.add(sums, vector['data'])\n",
      "            # Compute mean vector\n",
      "            mean = sums/count\n",
      "            # Compute covariance matrix\n",
      "            cov = outer/count - np.outer(mean, mean)\n",
      "            # Compute eigenvectors\n",
      "            U,D,V=np.linalg.svd(cov)\n",
      "            S = {'U':U, 'D':D, 'V':V}\n",
      "            yield(index, dumps(S))\n",
      "        except Exception as e: \n",
      "            self.increment_counter('MrJob Counters','reducer-error',1)\n",
      "            pass\n",
      "        \n",
      "if __name__ == '__main__':\n",
      "    MrjobPCA.run()"
     ],
     "language": "python",
     "metadata": {},
     "outputs": [
      {
       "output_type": "stream",
       "stream": "stdout",
       "text": [
        "Overwriting MrjobPCA.py\n"
       ]
      }
     ],
     "prompt_number": 55
    },
    {
     "cell_type": "code",
     "collapsed": false,
     "input": [],
     "language": "python",
     "metadata": {},
     "outputs": []
    }
   ],
   "metadata": {}
  }
 ]
}