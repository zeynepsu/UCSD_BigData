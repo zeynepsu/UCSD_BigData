{
 "metadata": {
  "name": "",
  "signature": "sha256:33a229c617ea429d9fef663b18c7cfae184d2c67d66142df982c9ffd9d179430"
 },
 "nbformat": 3,
 "nbformat_minor": 0,
 "worksheets": [
  {
   "cells": [
    {
     "cell_type": "code",
     "collapsed": false,
     "input": [
      "import pickle"
     ],
     "language": "python",
     "metadata": {},
     "outputs": [],
     "prompt_number": 1
    },
    {
     "cell_type": "code",
     "collapsed": false,
     "input": [
      "%%writefile PCA.py\n",
      "\n",
      "import cPickle as pickle\n",
      "from StringIO import StringIO\n",
      "import numpy as np\n",
      "from mrjob.job import MRJob\n",
      "from mrjob.protocol import PickleValueProtocol\n",
      "\n",
      "class PCA(MRJob):\n",
      "    INTERNAL_PROTOCOL = PickleValueProtocol\n",
      "    def mapper(self, _, line):\n",
      "        self.increment_counter('MrJob Counters','mapper',1)\n",
      "        xi = np.genfromtxt(StringIO(line),delimiter=\",\")\n",
      "        xi  = np.array(xi, ndmin=2)\n",
      "        cov = np.dot(xi.T, xi) \n",
      "        yield(None,cov)\n",
      "    \n",
      "    def reducer(self, key, cov):\n",
      "        self.increment_counter('MrJob Counters','reducer',1)\n",
      "        s = sum(cov)\n",
      "        print pickle.dumps(s)\n",
      "        yield(None,pickle.dumps(s))\n",
      "    \n",
      "if __name__ == '__main__':\n",
      "    PCA.run()"
     ],
     "language": "python",
     "metadata": {},
     "outputs": []
    },
    {
     "cell_type": "code",
     "collapsed": false,
     "input": [
      "def merge(l, r, newid):\n",
      "    prodl, meanl, sizel, prodr, meanr, sizer = prodx[l], meanx[l], sizex[l], prodx[r], meanx[r], sizex[r]\n",
      "    covl, covr = prodl/sizel - np.outer(meanl,meanl) , prodr/sizer - np.outer(meanr,meanr)\n",
      "    _, D1, _ = np.linalg.svd(covl)\n",
      "    _, D2, _ = np.linalg.svd(covr)\n",
      "    \n",
      "    cum1, cum2 = cumsum(D1[:])/sum(D1), cumsum(D2[:])/sum(D2)\n",
      "    k1, k2 = np.searchsorted(cum1, 0.99), np.searchsorted(cum2, 0.99)\n",
      "    \n",
      "    prod_merge = prodl + prodr\n",
      "    mean_merge = (sizel*meanl + sizer*meanr)/(sizel+sizer)\n",
      "    covar_merge = prod_merge/(sizel+sizer) - mean_merge\n",
      "    _, D, _ = np.linalg.svd(covar_merge)\n",
      "    cum = cumsum(D[:])/sum(D)\n",
      "    k3 = np.searchsorted(cum, 0.99)\n",
      "    \n",
      "    if(sizel*k1+(k1+1)*730 + sizer*k2+(k2+1)*730 >= (sizel+sizer)*k3 + (k3+1)*730):\n",
      "        prodx[newid], meanx[newid], sizex[newid] = prod_merge, mean_merge, (sizel+sizer)\n",
      "        return True\n",
      "    return False"
     ],
     "language": "python",
     "metadata": {},
     "outputs": [],
     "prompt_number": 56
    },
    {
     "cell_type": "markdown",
     "metadata": {},
     "source": [
      "#Clustering#"
     ]
    },
    {
     "cell_type": "markdown",
     "metadata": {},
     "source": [
      "<font color=green>\n",
      "Clustering steps - \n",
      "<ul>\n",
      "<li> Code in the previous notebook separates data for each partition obtained using hierarchical partitioning methods discussed earlier.\n",
      "<li> In the next step, a map reduce job(written below) finds covariance matrix for each partition.\n",
      "<li> We already found neighbors for each partition in the previous notebook. We now find MDL for each partition.\n",
      "<li> If P1 and P2 are neighbors, we check if MDL(P1+P2) < MDL(P1) + MDL(P2). If so, we merge P1 and P2. If not, we check other partitions.\n",
      "<li> This is done till no merging is possible.\n",
      "</ul>\n",
      "</font>"
     ]
    },
    {
     "cell_type": "code",
     "collapsed": false,
     "input": [
      "(stations, valid_years, neighbours, group2id) = pickle.load(open('partition_tree.pkl', 'rb')) \n",
      "c = pickle.load(open('final', 'rb') ) \n",
      "prod, mean, size = {}, {}, {}\n",
      "for each in c.keys():\n",
      "    (prod[int(each)], mean[int(each)], size[int(each)]) = c[each]\n",
      "\n"
     ],
     "language": "python",
     "metadata": {},
     "outputs": [],
     "prompt_number": 32
    },
    {
     "cell_type": "code",
     "collapsed": false,
     "input": [
      "prodx = prod.copy()\n",
      "meanx = mean.copy()\n",
      "sizex = size.copy()\n",
      "final_id = [group2id[i] for i in stations['group_id']]\n"
     ],
     "language": "python",
     "metadata": {},
     "outputs": [],
     "prompt_number": 54
    },
    {
     "cell_type": "code",
     "collapsed": false,
     "input": [
      "cannot_merge = dict([(g, []) for g in neighbours])\n",
      "while(True):\n",
      "    merged = False\n",
      "    for g1 in neighbours.keys(): \n",
      "        for g2 in neighbours[g1]:        \n",
      "            if(g1 in cannot_merge[g2]) : continue\n",
      "            if(merge(g1, g2, g1)):\n",
      "                print \"Merging \" + str(g1) + \" and \" + str(g2) + '\\n'\n",
      "                neighbours[g1].pop(neighbours[g1].index(g2))\n",
      "                neighbours[g2].pop(neighbours[g2].index(g1))\n",
      "                neighbours[g1] = neighbours[g1] + neighbours[g2]\n",
      "                for ng2 in neighbours[g2]:\n",
      "                    neighbours[ng2].pop(neighbours[ng2].index(g2))\n",
      "                    if not (g1 in neighbours[ng2]): neighbours[ng2].append(g1)\n",
      "                cannot_merge[g1] = []\n",
      "                del cannot_merge[g2]\n",
      "                del neighbours[g2]\n",
      "                for i in range(len(final_id)):\n",
      "                    if final_id[i]==g2:\n",
      "                        final_id[i]==g1\n",
      "                merged = True\n",
      "                break  \n",
      "            else : \n",
      "                print \"Cannot merge\"\n",
      "                cannot_merge[g1].append(g2)\n",
      "                cannot_merge[g2].append(g1)  \n",
      "        if merged: break\n",
      "    if(not merged): break"
     ],
     "language": "python",
     "metadata": {},
     "outputs": [
      {
       "output_type": "stream",
       "stream": "stdout",
       "text": [
        "Cannot merge\n",
        "Cannot merge"
       ]
      },
      {
       "output_type": "stream",
       "stream": "stdout",
       "text": [
        "\n",
        "Cannot merge"
       ]
      },
      {
       "output_type": "stream",
       "stream": "stdout",
       "text": [
        "\n",
        "Cannot merge"
       ]
      },
      {
       "output_type": "stream",
       "stream": "stdout",
       "text": [
        "\n"
       ]
      },
      {
       "ename": "KeyboardInterrupt",
       "evalue": "",
       "output_type": "pyerr",
       "traceback": [
        "\u001b[1;31m---------------------------------------------------------------------------\u001b[0m\n\u001b[1;31mKeyboardInterrupt\u001b[0m                         Traceback (most recent call last)",
        "\u001b[1;32m<ipython-input-59-7960cc439304>\u001b[0m in \u001b[0;36m<module>\u001b[1;34m()\u001b[0m\n\u001b[0;32m      5\u001b[0m         \u001b[1;32mfor\u001b[0m \u001b[0mg2\u001b[0m \u001b[1;32min\u001b[0m \u001b[0mneighbours\u001b[0m\u001b[1;33m[\u001b[0m\u001b[0mg1\u001b[0m\u001b[1;33m]\u001b[0m\u001b[1;33m:\u001b[0m\u001b[1;33m\u001b[0m\u001b[0m\n\u001b[0;32m      6\u001b[0m             \u001b[1;32mif\u001b[0m\u001b[1;33m(\u001b[0m\u001b[0mg1\u001b[0m \u001b[1;32min\u001b[0m \u001b[0mcannot_merge\u001b[0m\u001b[1;33m[\u001b[0m\u001b[0mg2\u001b[0m\u001b[1;33m]\u001b[0m\u001b[1;33m)\u001b[0m \u001b[1;33m:\u001b[0m \u001b[1;32mcontinue\u001b[0m\u001b[1;33m\u001b[0m\u001b[0m\n\u001b[1;32m----> 7\u001b[1;33m             \u001b[1;32mif\u001b[0m\u001b[1;33m(\u001b[0m\u001b[0mmerge\u001b[0m\u001b[1;33m(\u001b[0m\u001b[0mg1\u001b[0m\u001b[1;33m,\u001b[0m \u001b[0mg2\u001b[0m\u001b[1;33m,\u001b[0m \u001b[0mg1\u001b[0m\u001b[1;33m)\u001b[0m\u001b[1;33m)\u001b[0m\u001b[1;33m:\u001b[0m\u001b[1;33m\u001b[0m\u001b[0m\n\u001b[0m\u001b[0;32m      8\u001b[0m                 \u001b[1;32mprint\u001b[0m \u001b[1;34m\"Merging \"\u001b[0m \u001b[1;33m+\u001b[0m \u001b[0mstr\u001b[0m\u001b[1;33m(\u001b[0m\u001b[0mg1\u001b[0m\u001b[1;33m)\u001b[0m \u001b[1;33m+\u001b[0m \u001b[1;34m\" and \"\u001b[0m \u001b[1;33m+\u001b[0m \u001b[0mstr\u001b[0m\u001b[1;33m(\u001b[0m\u001b[0mg2\u001b[0m\u001b[1;33m)\u001b[0m \u001b[1;33m+\u001b[0m \u001b[1;34m'\\n'\u001b[0m\u001b[1;33m\u001b[0m\u001b[0m\n\u001b[0;32m      9\u001b[0m                 \u001b[0mneighbours\u001b[0m\u001b[1;33m[\u001b[0m\u001b[0mg1\u001b[0m\u001b[1;33m]\u001b[0m\u001b[1;33m.\u001b[0m\u001b[0mpop\u001b[0m\u001b[1;33m(\u001b[0m\u001b[0mneighbours\u001b[0m\u001b[1;33m[\u001b[0m\u001b[0mg1\u001b[0m\u001b[1;33m]\u001b[0m\u001b[1;33m.\u001b[0m\u001b[0mindex\u001b[0m\u001b[1;33m(\u001b[0m\u001b[0mg2\u001b[0m\u001b[1;33m)\u001b[0m\u001b[1;33m)\u001b[0m\u001b[1;33m\u001b[0m\u001b[0m\n",
        "\u001b[1;32m<ipython-input-56-9478b109189f>\u001b[0m in \u001b[0;36mmerge\u001b[1;34m(l, r, newid)\u001b[0m\n\u001b[0;32m      2\u001b[0m     \u001b[0mprodl\u001b[0m\u001b[1;33m,\u001b[0m \u001b[0mmeanl\u001b[0m\u001b[1;33m,\u001b[0m \u001b[0msizel\u001b[0m\u001b[1;33m,\u001b[0m \u001b[0mprodr\u001b[0m\u001b[1;33m,\u001b[0m \u001b[0mmeanr\u001b[0m\u001b[1;33m,\u001b[0m \u001b[0msizer\u001b[0m \u001b[1;33m=\u001b[0m \u001b[0mprodx\u001b[0m\u001b[1;33m[\u001b[0m\u001b[0ml\u001b[0m\u001b[1;33m]\u001b[0m\u001b[1;33m,\u001b[0m \u001b[0mmeanx\u001b[0m\u001b[1;33m[\u001b[0m\u001b[0ml\u001b[0m\u001b[1;33m]\u001b[0m\u001b[1;33m,\u001b[0m \u001b[0msizex\u001b[0m\u001b[1;33m[\u001b[0m\u001b[0ml\u001b[0m\u001b[1;33m]\u001b[0m\u001b[1;33m,\u001b[0m \u001b[0mprodx\u001b[0m\u001b[1;33m[\u001b[0m\u001b[0mr\u001b[0m\u001b[1;33m]\u001b[0m\u001b[1;33m,\u001b[0m \u001b[0mmeanx\u001b[0m\u001b[1;33m[\u001b[0m\u001b[0mr\u001b[0m\u001b[1;33m]\u001b[0m\u001b[1;33m,\u001b[0m \u001b[0msizex\u001b[0m\u001b[1;33m[\u001b[0m\u001b[0mr\u001b[0m\u001b[1;33m]\u001b[0m\u001b[1;33m\u001b[0m\u001b[0m\n\u001b[0;32m      3\u001b[0m     \u001b[0mcovl\u001b[0m\u001b[1;33m,\u001b[0m \u001b[0mcovr\u001b[0m \u001b[1;33m=\u001b[0m \u001b[0mprodl\u001b[0m\u001b[1;33m/\u001b[0m\u001b[0msizel\u001b[0m \u001b[1;33m-\u001b[0m \u001b[0mnp\u001b[0m\u001b[1;33m.\u001b[0m\u001b[0mouter\u001b[0m\u001b[1;33m(\u001b[0m\u001b[0mmeanl\u001b[0m\u001b[1;33m,\u001b[0m\u001b[0mmeanl\u001b[0m\u001b[1;33m)\u001b[0m \u001b[1;33m,\u001b[0m \u001b[0mprodr\u001b[0m\u001b[1;33m/\u001b[0m\u001b[0msizer\u001b[0m \u001b[1;33m-\u001b[0m \u001b[0mnp\u001b[0m\u001b[1;33m.\u001b[0m\u001b[0mouter\u001b[0m\u001b[1;33m(\u001b[0m\u001b[0mmeanr\u001b[0m\u001b[1;33m,\u001b[0m\u001b[0mmeanr\u001b[0m\u001b[1;33m)\u001b[0m\u001b[1;33m\u001b[0m\u001b[0m\n\u001b[1;32m----> 4\u001b[1;33m     \u001b[0m_\u001b[0m\u001b[1;33m,\u001b[0m \u001b[0mD1\u001b[0m\u001b[1;33m,\u001b[0m \u001b[0m_\u001b[0m \u001b[1;33m=\u001b[0m \u001b[0mnp\u001b[0m\u001b[1;33m.\u001b[0m\u001b[0mlinalg\u001b[0m\u001b[1;33m.\u001b[0m\u001b[0msvd\u001b[0m\u001b[1;33m(\u001b[0m\u001b[0mcovl\u001b[0m\u001b[1;33m)\u001b[0m\u001b[1;33m\u001b[0m\u001b[0m\n\u001b[0m\u001b[0;32m      5\u001b[0m     \u001b[0m_\u001b[0m\u001b[1;33m,\u001b[0m \u001b[0mD2\u001b[0m\u001b[1;33m,\u001b[0m \u001b[0m_\u001b[0m \u001b[1;33m=\u001b[0m \u001b[0mnp\u001b[0m\u001b[1;33m.\u001b[0m\u001b[0mlinalg\u001b[0m\u001b[1;33m.\u001b[0m\u001b[0msvd\u001b[0m\u001b[1;33m(\u001b[0m\u001b[0mcovr\u001b[0m\u001b[1;33m)\u001b[0m\u001b[1;33m\u001b[0m\u001b[0m\n\u001b[0;32m      6\u001b[0m \u001b[1;33m\u001b[0m\u001b[0m\n",
        "\u001b[1;32m/usr/local/lib/python2.7/dist-packages/numpy/linalg/linalg.pyc\u001b[0m in \u001b[0;36msvd\u001b[1;34m(a, full_matrices, compute_uv)\u001b[0m\n\u001b[0;32m   1325\u001b[0m \u001b[1;33m\u001b[0m\u001b[0m\n\u001b[0;32m   1326\u001b[0m         \u001b[0msignature\u001b[0m \u001b[1;33m=\u001b[0m \u001b[1;34m'D->DdD'\u001b[0m \u001b[1;32mif\u001b[0m \u001b[0misComplexType\u001b[0m\u001b[1;33m(\u001b[0m\u001b[0mt\u001b[0m\u001b[1;33m)\u001b[0m \u001b[1;32melse\u001b[0m \u001b[1;34m'd->ddd'\u001b[0m\u001b[1;33m\u001b[0m\u001b[0m\n\u001b[1;32m-> 1327\u001b[1;33m         \u001b[0mu\u001b[0m\u001b[1;33m,\u001b[0m \u001b[0ms\u001b[0m\u001b[1;33m,\u001b[0m \u001b[0mvt\u001b[0m \u001b[1;33m=\u001b[0m \u001b[0mgufunc\u001b[0m\u001b[1;33m(\u001b[0m\u001b[0ma\u001b[0m\u001b[1;33m,\u001b[0m \u001b[0msignature\u001b[0m\u001b[1;33m=\u001b[0m\u001b[0msignature\u001b[0m\u001b[1;33m,\u001b[0m \u001b[0mextobj\u001b[0m\u001b[1;33m=\u001b[0m\u001b[0mextobj\u001b[0m\u001b[1;33m)\u001b[0m\u001b[1;33m\u001b[0m\u001b[0m\n\u001b[0m\u001b[0;32m   1328\u001b[0m         \u001b[0mu\u001b[0m \u001b[1;33m=\u001b[0m \u001b[0mu\u001b[0m\u001b[1;33m.\u001b[0m\u001b[0mastype\u001b[0m\u001b[1;33m(\u001b[0m\u001b[0mresult_t\u001b[0m\u001b[1;33m)\u001b[0m\u001b[1;33m\u001b[0m\u001b[0m\n\u001b[0;32m   1329\u001b[0m         \u001b[0ms\u001b[0m \u001b[1;33m=\u001b[0m \u001b[0ms\u001b[0m\u001b[1;33m.\u001b[0m\u001b[0mastype\u001b[0m\u001b[1;33m(\u001b[0m\u001b[0m_realType\u001b[0m\u001b[1;33m(\u001b[0m\u001b[0mresult_t\u001b[0m\u001b[1;33m)\u001b[0m\u001b[1;33m)\u001b[0m\u001b[1;33m\u001b[0m\u001b[0m\n",
        "\u001b[1;31mKeyboardInterrupt\u001b[0m: "
       ]
      }
     ],
     "prompt_number": 59
    },
    {
     "cell_type": "code",
     "collapsed": false,
     "input": [],
     "language": "python",
     "metadata": {},
     "outputs": []
    }
   ],
   "metadata": {}
  }
 ]
}
