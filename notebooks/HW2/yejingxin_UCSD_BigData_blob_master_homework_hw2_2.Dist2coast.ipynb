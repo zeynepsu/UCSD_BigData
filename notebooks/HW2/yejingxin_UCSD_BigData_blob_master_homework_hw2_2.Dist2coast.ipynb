{
 "metadata": {
  "name": "",
  "signature": "sha256:c6dfb2ed16d724b43720ea9bd4978cd5d621807e86c6f7e7544115cbdab93138"
 },
 "nbformat": 3,
 "nbformat_minor": 0,
 "worksheets": [
  {
   "cells": [
    {
     "cell_type": "markdown",
     "metadata": {},
     "source": [
      "####From homework 1, I found that the stations that are near coast have small variation in tmax through out a year. It will make much more sense if I partition the data according to their distances to the coast.\n",
      "\n",
      "####Using the data set http://oceancolor.gsfc.nasa.gov/DOCS/DistFromCoast/, it is easy to obtain the distance to the nearest coast given longitude and latitude."
     ]
    },
    {
     "cell_type": "code",
     "collapsed": false,
     "input": [
      "import pandas as pd\n",
      "import numpy as np\n",
      "import sklearn as sk\n",
      "print 'pandas version: ',pd.__version__\n",
      "print 'numpy version:',np.__version__\n",
      "print 'sklearn version:',sk.__version__\n",
      "datadir = '/home/ubuntu/UCSD_BigData/data/weather/'\n",
      "hwdir = '/home/ubuntu/UCSD_BigData/homework/hw2/'"
     ],
     "language": "python",
     "metadata": {},
     "outputs": [
      {
       "output_type": "stream",
       "stream": "stdout",
       "text": [
        "pandas version:  0.13.1\n",
        "numpy version: 1.8.1\n",
        "sklearn version: 0.14.1\n"
       ]
      }
     ],
     "prompt_number": 1
    },
    {
     "cell_type": "markdown",
     "metadata": {},
     "source": [
      "### read station file"
     ]
    },
    {
     "cell_type": "code",
     "collapsed": false,
     "input": [
      "# Make all lines be of length 90 to solve problem wilth read_fwf\n",
      "out=open('ghcnd-stations_buffered.txt','w')\n",
      "for line in open(datadir+'ghcnd-stations.txt','r').readlines():\n",
      "    line=line.rstrip()\n",
      "    string=line+' '*(90-len(line))+'\\n'\n",
      "    out.write(string)\n",
      "out.close()\n",
      "colspecs = [(0, 11), (11, 21), (21, 31), (31, 38),(39,41),(41,72),(72,76),(76,80),(80,86)]\n",
      "stations = pd.read_fwf('ghcnd-stations_buffered.txt', colspecs=colspecs, header=None, index_col=0,\n",
      "                       names=['latitude','longitude','elevation','state','name','GSNFLAG','HCNFLAG','WMOID'])\n",
      "stations.head()"
     ],
     "language": "python",
     "metadata": {},
     "outputs": [
      {
       "html": [
        "<div style=\"max-height:1000px;max-width:1500px;overflow:auto;\">\n",
        "<table border=\"1\" class=\"dataframe\">\n",
        "  <thead>\n",
        "    <tr style=\"text-align: right;\">\n",
        "      <th></th>\n",
        "      <th>latitude</th>\n",
        "      <th>longitude</th>\n",
        "      <th>elevation</th>\n",
        "      <th>state</th>\n",
        "      <th>name</th>\n",
        "      <th>GSNFLAG</th>\n",
        "      <th>HCNFLAG</th>\n",
        "      <th>WMOID</th>\n",
        "    </tr>\n",
        "  </thead>\n",
        "  <tbody>\n",
        "    <tr>\n",
        "      <th>ACW00011604</th>\n",
        "      <td> 17.1167</td>\n",
        "      <td>-61.7833</td>\n",
        "      <td>   10.1</td>\n",
        "      <td> NaN</td>\n",
        "      <td> ST JOHNS COOLIDGE FLD</td>\n",
        "      <td> NaN</td>\n",
        "      <td> NaN</td>\n",
        "      <td>   NaN</td>\n",
        "    </tr>\n",
        "    <tr>\n",
        "      <th>ACW00011647</th>\n",
        "      <td> 17.1333</td>\n",
        "      <td>-61.7833</td>\n",
        "      <td>   19.2</td>\n",
        "      <td> NaN</td>\n",
        "      <td>              ST JOHNS</td>\n",
        "      <td> NaN</td>\n",
        "      <td> NaN</td>\n",
        "      <td>   NaN</td>\n",
        "    </tr>\n",
        "    <tr>\n",
        "      <th>AE000041196</th>\n",
        "      <td> 25.3330</td>\n",
        "      <td> 55.5170</td>\n",
        "      <td>   34.0</td>\n",
        "      <td> NaN</td>\n",
        "      <td>   SHARJAH INTER. AIRP</td>\n",
        "      <td> GSN</td>\n",
        "      <td> NaN</td>\n",
        "      <td> 41196</td>\n",
        "    </tr>\n",
        "    <tr>\n",
        "      <th>AF000040930</th>\n",
        "      <td> 35.3170</td>\n",
        "      <td> 69.0170</td>\n",
        "      <td> 3366.0</td>\n",
        "      <td> NaN</td>\n",
        "      <td>          NORTH-SALANG</td>\n",
        "      <td> GSN</td>\n",
        "      <td> NaN</td>\n",
        "      <td> 40930</td>\n",
        "    </tr>\n",
        "    <tr>\n",
        "      <th>AG000060390</th>\n",
        "      <td> 36.7167</td>\n",
        "      <td>  3.2500</td>\n",
        "      <td>   24.0</td>\n",
        "      <td> NaN</td>\n",
        "      <td>    ALGER-DAR EL BEIDA</td>\n",
        "      <td> GSN</td>\n",
        "      <td> NaN</td>\n",
        "      <td> 60390</td>\n",
        "    </tr>\n",
        "  </tbody>\n",
        "</table>\n",
        "<p>5 rows \u00d7 8 columns</p>\n",
        "</div>"
       ],
       "metadata": {},
       "output_type": "pyout",
       "prompt_number": 2,
       "text": [
        "             latitude  longitude  elevation state                   name  \\\n",
        "ACW00011604   17.1167   -61.7833       10.1   NaN  ST JOHNS COOLIDGE FLD   \n",
        "ACW00011647   17.1333   -61.7833       19.2   NaN               ST JOHNS   \n",
        "AE000041196   25.3330    55.5170       34.0   NaN    SHARJAH INTER. AIRP   \n",
        "AF000040930   35.3170    69.0170     3366.0   NaN           NORTH-SALANG   \n",
        "AG000060390   36.7167     3.2500       24.0   NaN     ALGER-DAR EL BEIDA   \n",
        "\n",
        "            GSNFLAG HCNFLAG  WMOID  \n",
        "ACW00011604     NaN     NaN    NaN  \n",
        "ACW00011647     NaN     NaN    NaN  \n",
        "AE000041196     GSN     NaN  41196  \n",
        "AF000040930     GSN     NaN  40930  \n",
        "AG000060390     GSN     NaN  60390  \n",
        "\n",
        "[5 rows x 8 columns]"
       ]
      }
     ],
     "prompt_number": 2
    },
    {
     "cell_type": "markdown",
     "metadata": {},
     "source": [
      "### read station counts and join into station pd.frame"
     ]
    },
    {
     "cell_type": "code",
     "collapsed": false,
     "input": [
      "# make all lines readable for pd.read_table\n",
      "out=open(hwdir+'Tmax_min_buffered.txt','w')\n",
      "for line in open(hwdir+'Tmax_min_counts.dat','r').readlines():\n",
      "    if not line.startswith('\"Useless Useless\"'):\n",
      "        line=line.replace('\"','')\n",
      "        line=line.replace('\\t',' ')\n",
      "        out.write(line)\n",
      "out.close()\n"
     ],
     "language": "python",
     "metadata": {},
     "outputs": [],
     "prompt_number": 3
    },
    {
     "cell_type": "code",
     "collapsed": false,
     "input": [
      "!head -10 Tmax_min_buffered.txt"
     ],
     "language": "python",
     "metadata": {},
     "outputs": [
      {
       "output_type": "stream",
       "stream": "stdout",
       "text": [
        "AE000041196 1959 692\r\n",
        "AE000041196 1984 568\r\n",
        "AE000041196 1995 575\r\n",
        "AE000041196 2006 547\r\n",
        "AG000060390 1943 724\r\n",
        "AG000060390 1954 730\r\n",
        "AG000060390 1965 730\r\n",
        "AG000060390 1976 730\r\n",
        "AG000060390 1987 730\r\n",
        "AG000060390 1990 730\r\n"
       ]
      }
     ],
     "prompt_number": 4
    },
    {
     "cell_type": "code",
     "collapsed": false,
     "input": [
      "header=['station','year','Ndays']\n",
      "# D=pandas.DataFrame(columns=header)\n",
      "Data = pd.read_table('Tmax_min_buffered.txt',header=None,names=header,sep=' ')\n",
      "Data.head()"
     ],
     "language": "python",
     "metadata": {},
     "outputs": [
      {
       "html": [
        "<div style=\"max-height:1000px;max-width:1500px;overflow:auto;\">\n",
        "<table border=\"1\" class=\"dataframe\">\n",
        "  <thead>\n",
        "    <tr style=\"text-align: right;\">\n",
        "      <th></th>\n",
        "      <th>station</th>\n",
        "      <th>year</th>\n",
        "      <th>Ndays</th>\n",
        "    </tr>\n",
        "  </thead>\n",
        "  <tbody>\n",
        "    <tr>\n",
        "      <th>0</th>\n",
        "      <td> AE000041196</td>\n",
        "      <td> 1959</td>\n",
        "      <td> 692</td>\n",
        "    </tr>\n",
        "    <tr>\n",
        "      <th>1</th>\n",
        "      <td> AE000041196</td>\n",
        "      <td> 1984</td>\n",
        "      <td> 568</td>\n",
        "    </tr>\n",
        "    <tr>\n",
        "      <th>2</th>\n",
        "      <td> AE000041196</td>\n",
        "      <td> 1995</td>\n",
        "      <td> 575</td>\n",
        "    </tr>\n",
        "    <tr>\n",
        "      <th>3</th>\n",
        "      <td> AE000041196</td>\n",
        "      <td> 2006</td>\n",
        "      <td> 547</td>\n",
        "    </tr>\n",
        "    <tr>\n",
        "      <th>4</th>\n",
        "      <td> AG000060390</td>\n",
        "      <td> 1943</td>\n",
        "      <td> 724</td>\n",
        "    </tr>\n",
        "  </tbody>\n",
        "</table>\n",
        "<p>5 rows \u00d7 3 columns</p>\n",
        "</div>"
       ],
       "metadata": {},
       "output_type": "pyout",
       "prompt_number": 5,
       "text": [
        "       station  year  Ndays\n",
        "0  AE000041196  1959    692\n",
        "1  AE000041196  1984    568\n",
        "2  AE000041196  1995    575\n",
        "3  AE000041196  2006    547\n",
        "4  AG000060390  1943    724\n",
        "\n",
        "[5 rows x 3 columns]"
       ]
      }
     ],
     "prompt_number": 5
    },
    {
     "cell_type": "code",
     "collapsed": false,
     "input": [
      "Djoined=Data.join(stations,on='station')\n",
      "Djoined=Djoined[['station','year','Ndays','latitude','longitude']]\n",
      "Djoined=Djoined.dropna(axis=0)\n",
      "#Djoined=Djoined.drop(Djoined.index[[53312]])\n",
      "Djoined.head()"
     ],
     "language": "python",
     "metadata": {},
     "outputs": [
      {
       "html": [
        "<div style=\"max-height:1000px;max-width:1500px;overflow:auto;\">\n",
        "<table border=\"1\" class=\"dataframe\">\n",
        "  <thead>\n",
        "    <tr style=\"text-align: right;\">\n",
        "      <th></th>\n",
        "      <th>station</th>\n",
        "      <th>year</th>\n",
        "      <th>Ndays</th>\n",
        "      <th>latitude</th>\n",
        "      <th>longitude</th>\n",
        "    </tr>\n",
        "  </thead>\n",
        "  <tbody>\n",
        "    <tr>\n",
        "      <th>0</th>\n",
        "      <td> AE000041196</td>\n",
        "      <td> 1959</td>\n",
        "      <td> 692</td>\n",
        "      <td> 25.3330</td>\n",
        "      <td> 55.517</td>\n",
        "    </tr>\n",
        "    <tr>\n",
        "      <th>1</th>\n",
        "      <td> AE000041196</td>\n",
        "      <td> 1984</td>\n",
        "      <td> 568</td>\n",
        "      <td> 25.3330</td>\n",
        "      <td> 55.517</td>\n",
        "    </tr>\n",
        "    <tr>\n",
        "      <th>2</th>\n",
        "      <td> AE000041196</td>\n",
        "      <td> 1995</td>\n",
        "      <td> 575</td>\n",
        "      <td> 25.3330</td>\n",
        "      <td> 55.517</td>\n",
        "    </tr>\n",
        "    <tr>\n",
        "      <th>3</th>\n",
        "      <td> AE000041196</td>\n",
        "      <td> 2006</td>\n",
        "      <td> 547</td>\n",
        "      <td> 25.3330</td>\n",
        "      <td> 55.517</td>\n",
        "    </tr>\n",
        "    <tr>\n",
        "      <th>4</th>\n",
        "      <td> AG000060390</td>\n",
        "      <td> 1943</td>\n",
        "      <td> 724</td>\n",
        "      <td> 36.7167</td>\n",
        "      <td>  3.250</td>\n",
        "    </tr>\n",
        "  </tbody>\n",
        "</table>\n",
        "<p>5 rows \u00d7 5 columns</p>\n",
        "</div>"
       ],
       "metadata": {},
       "output_type": "pyout",
       "prompt_number": 6,
       "text": [
        "       station  year  Ndays  latitude  longitude\n",
        "0  AE000041196  1959    692   25.3330     55.517\n",
        "1  AE000041196  1984    568   25.3330     55.517\n",
        "2  AE000041196  1995    575   25.3330     55.517\n",
        "3  AE000041196  2006    547   25.3330     55.517\n",
        "4  AG000060390  1943    724   36.7167      3.250\n",
        "\n",
        "[5 rows x 5 columns]"
       ]
      }
     ],
     "prompt_number": 6
    },
    {
     "cell_type": "code",
     "collapsed": false,
     "input": [
      "print shape(Data)\n",
      "print shape(Djoined)"
     ],
     "language": "python",
     "metadata": {},
     "outputs": [
      {
       "output_type": "stream",
       "stream": "stdout",
       "text": [
        "(919283, 3)\n",
        "(919283, 5)\n"
       ]
      }
     ],
     "prompt_number": 7
    },
    {
     "cell_type": "markdown",
     "metadata": {},
     "source": [
      "####Load the data set http://oceancolor.gsfc.nasa.gov/DOCS/DistFromCoast/.\n",
      "\n",
      "####File is too large to import, and the grid is fine enough, we can look up the table to find the distance2coast. The grid of the table is lon=-179.98:0.04:179.98, lat = -89.98:0.04:89.98, 9000 by 4500"
     ]
    },
    {
     "cell_type": "code",
     "collapsed": false,
     "input": [
      "lon_grid = np.arange(-179.98,180,0.04)\n",
      "lat_grid = np.arange(-89.98,90,0.04)\n",
      "print len(lon_grid),len(lat_grid)"
     ],
     "language": "python",
     "metadata": {},
     "outputs": [
      {
       "output_type": "stream",
       "stream": "stdout",
       "text": [
        "9000 4500\n"
       ]
      }
     ],
     "prompt_number": 8
    },
    {
     "cell_type": "code",
     "collapsed": false,
     "input": [
      "print round(2.4),round(2.5),round(2.6)"
     ],
     "language": "python",
     "metadata": {},
     "outputs": [
      {
       "output_type": "stream",
       "stream": "stdout",
       "text": [
        "2.0 3.0 3.0\n"
       ]
      }
     ],
     "prompt_number": 18
    },
    {
     "cell_type": "markdown",
     "metadata": {},
     "source": [
      "####According the data organization in dist2coast.txt, it is easy to write a function to figure out which linenumber it is given lat and lon."
     ]
    },
    {
     "cell_type": "code",
     "collapsed": false,
     "input": [
      "def findline(lon,lat):\n",
      "    #print lon, lat\n",
      "    if lon>179.98 or lat<-89.98 :\n",
      "        return int((lon+179.98)/0.04)+1+(int((-lat+89.98)/0.04))*9000\n",
      "    else:\n",
      "        return round((lon+179.98)/0.04)+1+(round((-lat+89.98)/0.04))*9000"
     ],
     "language": "python",
     "metadata": {},
     "outputs": [],
     "prompt_number": 7
    },
    {
     "cell_type": "code",
     "collapsed": false,
     "input": [
      "row = shape(Djoined)[0]\n",
      "index = np.zeros(row)\n",
      "for i in range(row):\n",
      "    index[i] = int(findline(Djoined.ix[i,'longitude'],Djoined.ix[i,'latitude']))\n",
      "    if i%1e5 == 0:\n",
      "        print i,row,Djoined.ix[i,'latitude'],Djoined.ix[i,'longitude'], index[i]"
     ],
     "language": "python",
     "metadata": {},
     "outputs": [
      {
       "output_type": "stream",
       "stream": "stdout",
       "text": [
        "0 919283 25.333 55.517 14549888.0\n",
        "100000"
       ]
      },
      {
       "output_type": "stream",
       "stream": "stdout",
       "text": [
        " 919283 44.4972 -108.3906 10234791.0\n",
        "200000"
       ]
      },
      {
       "output_type": "stream",
       "stream": "stdout",
       "text": [
        " 919283 41.15 -75.3667 10991616.0\n",
        "300000"
       ]
      },
      {
       "output_type": "stream",
       "stream": "stdout",
       "text": [
        " 919283 41.0103 -103.8769 11017904.0\n",
        "400000"
       ]
      },
      {
       "output_type": "stream",
       "stream": "stdout",
       "text": [
        " 919283 41.1947 -87.0578 10982324.0\n",
        "500000"
       ]
      },
      {
       "output_type": "stream",
       "stream": "stdout",
       "text": [
        " 919283 30.2333 -88.0167 13448300.0\n",
        "600000"
       ]
      },
      {
       "output_type": "stream",
       "stream": "stdout",
       "text": [
        " 919283 42.0828 12.2167 10777806.0\n",
        "700000"
       ]
      },
      {
       "output_type": "stream",
       "stream": "stdout",
       "text": [
        " 919283 51.65 -113.3 8623668.0\n",
        "800000"
       ]
      },
      {
       "output_type": "stream",
       "stream": "stdout",
       "text": [
        " 919283 29.3783 -100.9269 13636977.0\n",
        "900000"
       ]
      },
      {
       "output_type": "stream",
       "stream": "stdout",
       "text": [
        " 919283 46.0089 -121.2633 9892469.0\n"
       ]
      }
     ],
     "prompt_number": 8
    },
    {
     "cell_type": "code",
     "collapsed": false,
     "input": [
      "Djoined['line']=index\n",
      "Djoined=Djoined.dropna(axis=0)\n",
      "Djoined.head()"
     ],
     "language": "python",
     "metadata": {},
     "outputs": [
      {
       "html": [
        "<div style=\"max-height:1000px;max-width:1500px;overflow:auto;\">\n",
        "<table border=\"1\" class=\"dataframe\">\n",
        "  <thead>\n",
        "    <tr style=\"text-align: right;\">\n",
        "      <th></th>\n",
        "      <th>station</th>\n",
        "      <th>year</th>\n",
        "      <th>Ndays</th>\n",
        "      <th>latitude</th>\n",
        "      <th>longitude</th>\n",
        "      <th>line</th>\n",
        "    </tr>\n",
        "  </thead>\n",
        "  <tbody>\n",
        "    <tr>\n",
        "      <th>0</th>\n",
        "      <td> AE000041196</td>\n",
        "      <td> 1959</td>\n",
        "      <td> 692</td>\n",
        "      <td> 25.3330</td>\n",
        "      <td> 55.517</td>\n",
        "      <td> 14549888</td>\n",
        "    </tr>\n",
        "    <tr>\n",
        "      <th>1</th>\n",
        "      <td> AE000041196</td>\n",
        "      <td> 1984</td>\n",
        "      <td> 568</td>\n",
        "      <td> 25.3330</td>\n",
        "      <td> 55.517</td>\n",
        "      <td> 14549888</td>\n",
        "    </tr>\n",
        "    <tr>\n",
        "      <th>2</th>\n",
        "      <td> AE000041196</td>\n",
        "      <td> 1995</td>\n",
        "      <td> 575</td>\n",
        "      <td> 25.3330</td>\n",
        "      <td> 55.517</td>\n",
        "      <td> 14549888</td>\n",
        "    </tr>\n",
        "    <tr>\n",
        "      <th>3</th>\n",
        "      <td> AE000041196</td>\n",
        "      <td> 2006</td>\n",
        "      <td> 547</td>\n",
        "      <td> 25.3330</td>\n",
        "      <td> 55.517</td>\n",
        "      <td> 14549888</td>\n",
        "    </tr>\n",
        "    <tr>\n",
        "      <th>4</th>\n",
        "      <td> AG000060390</td>\n",
        "      <td> 1943</td>\n",
        "      <td> 724</td>\n",
        "      <td> 36.7167</td>\n",
        "      <td>  3.250</td>\n",
        "      <td> 11992582</td>\n",
        "    </tr>\n",
        "  </tbody>\n",
        "</table>\n",
        "<p>5 rows \u00d7 6 columns</p>\n",
        "</div>"
       ],
       "metadata": {},
       "output_type": "pyout",
       "prompt_number": 9,
       "text": [
        "       station  year  Ndays  latitude  longitude      line\n",
        "0  AE000041196  1959    692   25.3330     55.517  14549888\n",
        "1  AE000041196  1984    568   25.3330     55.517  14549888\n",
        "2  AE000041196  1995    575   25.3330     55.517  14549888\n",
        "3  AE000041196  2006    547   25.3330     55.517  14549888\n",
        "4  AG000060390  1943    724   36.7167      3.250  11992582\n",
        "\n",
        "[5 rows x 6 columns]"
       ]
      }
     ],
     "prompt_number": 9
    },
    {
     "cell_type": "code",
     "collapsed": false,
     "input": [
      "dist_data = np.zeros(9000*4500)\n",
      "for i, line in enumerate(open('dist2coast.txt','r')):\n",
      "    a,b,c=line.rstrip().split('\\t')\n",
      "    dist_data[i]=float(c)\n",
      "    if i%1e7 == 0:\n",
      "        print i"
     ],
     "language": "python",
     "metadata": {},
     "outputs": [
      {
       "output_type": "stream",
       "stream": "stdout",
       "text": [
        "0\n",
        "10000000"
       ]
      },
      {
       "output_type": "stream",
       "stream": "stdout",
       "text": [
        "\n",
        "20000000"
       ]
      },
      {
       "output_type": "stream",
       "stream": "stdout",
       "text": [
        "\n",
        "30000000"
       ]
      },
      {
       "output_type": "stream",
       "stream": "stdout",
       "text": [
        "\n",
        "40000000"
       ]
      },
      {
       "output_type": "stream",
       "stream": "stdout",
       "text": [
        "\n"
       ]
      }
     ],
     "prompt_number": 10
    },
    {
     "cell_type": "code",
     "collapsed": false,
     "input": [
      "distance = np.zeros(row)\n",
      "for i in range(row):\n",
      "    try:\n",
      "        distance[i] = dist_data[Djoined.ix[i,'line']]\n",
      "    except:\n",
      "        distance[i] = NaN"
     ],
     "language": "python",
     "metadata": {},
     "outputs": [],
     "prompt_number": 14
    },
    {
     "cell_type": "code",
     "collapsed": false,
     "input": [
      "distance = np.zeros(row)\n",
      "for i in range(row):\n",
      "    distance[i] = dist_data[Djoined.ix[i,'line']]"
     ],
     "language": "python",
     "metadata": {},
     "outputs": [],
     "prompt_number": 11
    },
    {
     "cell_type": "code",
     "collapsed": false,
     "input": [
      "Djoined['Dist2Coast']=distance\n",
      "Djoined=Djoined.dropna(axis=0)\n",
      "Djoined.head()"
     ],
     "language": "python",
     "metadata": {},
     "outputs": [
      {
       "html": [
        "<div style=\"max-height:1000px;max-width:1500px;overflow:auto;\">\n",
        "<table border=\"1\" class=\"dataframe\">\n",
        "  <thead>\n",
        "    <tr style=\"text-align: right;\">\n",
        "      <th></th>\n",
        "      <th>station</th>\n",
        "      <th>year</th>\n",
        "      <th>Ndays</th>\n",
        "      <th>latitude</th>\n",
        "      <th>longitude</th>\n",
        "      <th>line</th>\n",
        "      <th>Dist2Coast</th>\n",
        "    </tr>\n",
        "  </thead>\n",
        "  <tbody>\n",
        "    <tr>\n",
        "      <th>0</th>\n",
        "      <td> AE000041196</td>\n",
        "      <td> 1959</td>\n",
        "      <td> 692</td>\n",
        "      <td> 25.3330</td>\n",
        "      <td> 55.517</td>\n",
        "      <td> 14549888</td>\n",
        "      <td> 9.09454</td>\n",
        "    </tr>\n",
        "    <tr>\n",
        "      <th>1</th>\n",
        "      <td> AE000041196</td>\n",
        "      <td> 1984</td>\n",
        "      <td> 568</td>\n",
        "      <td> 25.3330</td>\n",
        "      <td> 55.517</td>\n",
        "      <td> 14549888</td>\n",
        "      <td> 9.09454</td>\n",
        "    </tr>\n",
        "    <tr>\n",
        "      <th>2</th>\n",
        "      <td> AE000041196</td>\n",
        "      <td> 1995</td>\n",
        "      <td> 575</td>\n",
        "      <td> 25.3330</td>\n",
        "      <td> 55.517</td>\n",
        "      <td> 14549888</td>\n",
        "      <td> 9.09454</td>\n",
        "    </tr>\n",
        "    <tr>\n",
        "      <th>3</th>\n",
        "      <td> AE000041196</td>\n",
        "      <td> 2006</td>\n",
        "      <td> 547</td>\n",
        "      <td> 25.3330</td>\n",
        "      <td> 55.517</td>\n",
        "      <td> 14549888</td>\n",
        "      <td> 9.09454</td>\n",
        "    </tr>\n",
        "    <tr>\n",
        "      <th>4</th>\n",
        "      <td> AG000060390</td>\n",
        "      <td> 1943</td>\n",
        "      <td> 724</td>\n",
        "      <td> 36.7167</td>\n",
        "      <td>  3.250</td>\n",
        "      <td> 11992582</td>\n",
        "      <td> 9.83851</td>\n",
        "    </tr>\n",
        "  </tbody>\n",
        "</table>\n",
        "<p>5 rows \u00d7 7 columns</p>\n",
        "</div>"
       ],
       "metadata": {},
       "output_type": "pyout",
       "prompt_number": 12,
       "text": [
        "       station  year  Ndays  latitude  longitude      line  Dist2Coast\n",
        "0  AE000041196  1959    692   25.3330     55.517  14549888     9.09454\n",
        "1  AE000041196  1984    568   25.3330     55.517  14549888     9.09454\n",
        "2  AE000041196  1995    575   25.3330     55.517  14549888     9.09454\n",
        "3  AE000041196  2006    547   25.3330     55.517  14549888     9.09454\n",
        "4  AG000060390  1943    724   36.7167      3.250  11992582     9.83851\n",
        "\n",
        "[5 rows x 7 columns]"
       ]
      }
     ],
     "prompt_number": 12
    },
    {
     "cell_type": "code",
     "collapsed": false,
     "input": [
      "import pickle\n",
      "pickle.dump( Djoined, open( \"dist2coast.pkl\", \"wb\" ) )"
     ],
     "language": "python",
     "metadata": {},
     "outputs": [],
     "prompt_number": 13
    }
   ],
   "metadata": {}
  }
 ]
}