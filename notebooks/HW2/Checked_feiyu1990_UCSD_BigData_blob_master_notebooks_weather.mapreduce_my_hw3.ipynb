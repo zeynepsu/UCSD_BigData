{
 "metadata": {
  "name": "",
  "signature": "sha256:de973f423cbb933160cb86b00247b4149fab54c28203372c69bf5b1758ba23e0"
 },
 "nbformat": 3,
 "nbformat_minor": 0,
 "worksheets": [
  {
   "cells": [
    {
     "cell_type": "heading",
     "level": 1,
     "metadata": {},
     "source": [
      "PCA"
     ]
    },
    {
     "cell_type": "markdown",
     "metadata": {},
     "source": [
      "###First, in EMR do PCA for (Tmin, Tmax) of stations in each area."
     ]
    },
    {
     "cell_type": "code",
     "collapsed": false,
     "input": [
      "import pandas as pd\n",
      "import numpy as np\n",
      "import sklearn as sk\n",
      "print 'pandas version: ',pd.__version__\n",
      "print 'numpy version:',np.__version__\n",
      "print 'sklearn version:',sk.__version__"
     ],
     "language": "python",
     "metadata": {},
     "outputs": [],
     "prompt_number": 130
    },
    {
     "cell_type": "code",
     "collapsed": false,
     "input": [
      "import sys\n",
      "home_dir='/home/ubuntu/UCSD_BigData'\n",
      "sys.path.append(home_dir+'/utils')\n",
      "from find_waiting_flow import *\n",
      "from AWS_keypair_management import *\n",
      "import pickle\n",
      "Creds= pickle.load(open('/home/ubuntu/Vault/Creds.pkl','rb'))\n",
      "print Creds.keys()\n",
      "print Creds['mrjob'].keys()\n",
      "pair=Creds['mrjob']\n",
      "key_id=pair['key_id']\n",
      "secret_key=pair['secret_key']\n",
      "ID=pair['ID']\n",
      "print ID,key_id"
     ],
     "language": "python",
     "metadata": {},
     "outputs": [],
     "prompt_number": 131
    },
    {
     "cell_type": "code",
     "collapsed": false,
     "input": [
      "%%writefile mr_weather_PCA.py\n",
      "#import collections\n",
      "#Codes = collections.defaultdict(lambda: -1,Codes)\n",
      "import sys\n",
      "import cPickle\n",
      "Dict = cPickle.load( open( \"stations_with_minmax.pkl\", \"rb\" ) )\n",
      "sys.path.append('/usr/lib/python2.6/dist-packages')\n",
      "from mrjob.job import MRJob\n",
      "import re,pickle,base64,zlib\n",
      "from sys import stderr\n",
      "import pandas as pd\n",
      "import numpy as np\n",
      "from sklearn.decomposition import PCA\n",
      "\n",
      "def my_pca(X,n):\n",
      "    pca = PCA(n_components=n, whiten=True)\n",
      "    pca.fit(X)\n",
      "    sum1 = 0\n",
      "    for i in range(n):\n",
      "        sum1 = sum1 + pca.explained_variance_ratio_[i]\n",
      "        if sum1 > 0.99:\n",
      "            break\n",
      "    return i,pca.components_\n",
      "\n",
      "class MR_Weather_pca(MRJob):\n",
      "    def my_mapper1(self, _, line):\n",
      "        self.increment_counter('MrJob Counters','my_mapper1',1)\n",
      "        elements=line.split(',')\n",
      "        if elements[1]=='TMAX' or elements[1]=='TMIN':\n",
      "            ndays = sum([e!='' for e in elements[3:]])\n",
      "            measure = 1\n",
      "            yield (elements[0],elements[2]), (measure,ndays,elements[3:])\n",
      "            \n",
      "    def my_reducer1(self, key, measures):\n",
      "        self.increment_counter('MrJob Counters','my_reducer1',1)\n",
      "        sum1 = 0; sum2 = 0; min_max = []\n",
      "        for nmeasure,ndays,measure in measures:\n",
      "            sum1 = sum1 + nmeasure; sum2 = sum2 + ndays; min_max = min_max + measure\n",
      "        if sum1 == 2 and sum2>150:\n",
      "            yield key, (Dict[key[0]],min_max)\n",
      "            \n",
      "    def my_mapper2(self, key, measures):\n",
      "        self.increment_counter('MrJob Counters','my_mapper2',1)\n",
      "        value = []\n",
      "        for i in measures[1]:\n",
      "            if i == '':\n",
      "                value.append(np.nan)\n",
      "            else:\n",
      "                value.append(float(i))\n",
      "        filled = pd.Series(value);filled = filled.interpolate();filled = filled.fillna(filled.mean())\n",
      "        yield measures[0], list(filled)\n",
      "    \n",
      "    def my_reducer2(self, area, measures):\n",
      "        self.increment_counter('MrJob Counters','my_reducer2',1)\n",
      "        data = list(measures)\n",
      "        data = np.array(data)\n",
      "        n,eigenvectors = my_pca(data, data.shape[1])\n",
      "        yield area, n\n",
      "    def steps(self):\n",
      "        return [self.mr(mapper=self.my_mapper1, reducer=self.my_reducer1),\n",
      "                self.mr(mapper=self.my_mapper2,reducer=self.my_reducer2)]\n",
      "if __name__ == '__main__':\n",
      "    MR_Weather_pca.run()"
     ],
     "language": "python",
     "metadata": {},
     "outputs": [
      {
       "output_type": "stream",
       "stream": "stdout",
       "text": [
        "Overwriting mr_weather_PCA.py\n"
       ]
      }
     ],
     "prompt_number": 132
    },
    {
     "cell_type": "code",
     "collapsed": false,
     "input": [
      "local_data='/home/ubuntu/UCSD_BigData/data/weather/ALL.head.csv'\n",
      "!python mr_weather_PCA.py $local_data > PCA_counts_local"
     ],
     "language": "python",
     "metadata": {},
     "outputs": [
      {
       "output_type": "stream",
       "stream": "stdout",
       "text": [
        "using configs in /home/ubuntu/.mrjob.conf\r\n",
        "creating tmp directory /tmp/mr_weather_PCA.ubuntu.20140527.043145.514175\r\n",
        "writing to /tmp/mr_weather_PCA.ubuntu.20140527.043145.514175/step-0-mapper_part-00000\r\n"
       ]
      },
      {
       "output_type": "stream",
       "stream": "stdout",
       "text": [
        "Counters from step 1:\r\n",
        "  MrJob Counters:\r\n",
        "    my_mapper1: 999\r\n",
        "writing to /tmp/mr_weather_PCA.ubuntu.20140527.043145.514175/step-0-mapper-sorted\r\n",
        "> sort /tmp/mr_weather_PCA.ubuntu.20140527.043145.514175/step-0-mapper_part-00000\r\n"
       ]
      },
      {
       "output_type": "stream",
       "stream": "stdout",
       "text": [
        "writing to /tmp/mr_weather_PCA.ubuntu.20140527.043145.514175/step-0-reducer_part-00000\r\n"
       ]
      },
      {
       "output_type": "stream",
       "stream": "stdout",
       "text": [
        "Counters from step 1:\r\n",
        "  MrJob Counters:\r\n",
        "    my_mapper1: 999\r\n",
        "    my_reducer1: 123\r\n",
        "writing to /tmp/mr_weather_PCA.ubuntu.20140527.043145.514175/step-1-mapper_part-00000\r\n"
       ]
      },
      {
       "output_type": "stream",
       "stream": "stdout",
       "text": [
        "Counters from step 2:\r\n",
        "  MrJob Counters:\r\n",
        "    my_mapper2: 104\r\n",
        "writing to /tmp/mr_weather_PCA.ubuntu.20140527.043145.514175/step-1-mapper-sorted\r\n",
        "> sort /tmp/mr_weather_PCA.ubuntu.20140527.043145.514175/step-1-mapper_part-00000\r\n"
       ]
      },
      {
       "output_type": "stream",
       "stream": "stdout",
       "text": [
        "writing to /tmp/mr_weather_PCA.ubuntu.20140527.043145.514175/step-1-reducer_part-00000\r\n",
        "Counters from step 2:\r\n",
        "  MrJob Counters:\r\n",
        "    my_mapper2: 104\r\n",
        "    my_reducer2: 3\r\n",
        "Moving /tmp/mr_weather_PCA.ubuntu.20140527.043145.514175/step-1-reducer_part-00000 -> /tmp/mr_weather_PCA.ubuntu.20140527.043145.514175/output/part-00000\r\n",
        "Streaming final output from /tmp/mr_weather_PCA.ubuntu.20140527.043145.514175/output\r\n",
        "removing tmp directory /tmp/mr_weather_PCA.ubuntu.20140527.043145.514175\r\n"
       ]
      }
     ],
     "prompt_number": 85
    },
    {
     "cell_type": "markdown",
     "metadata": {},
     "source": [
      "First debug on the local dataset. The result is as follows. The function returns each area code and its explanation length for 99%."
     ]
    },
    {
     "cell_type": "code",
     "collapsed": false,
     "input": [
      "!cat PCA_counts_local"
     ],
     "language": "python",
     "metadata": {},
     "outputs": [
      {
       "output_type": "stream",
       "stream": "stdout",
       "text": [
        "158.0\t36\r\n",
        "168.0\t17\r\n",
        "4.0\t40\r\n"
       ]
      }
     ],
     "prompt_number": 86
    },
    {
     "cell_type": "code",
     "collapsed": false,
     "input": [
      "#job_flow_id=find_waiting_flow(key_id,secret_key)\n",
      "#print job_flow_id\n",
      "#job_flow_id = 'j-2KCJE554SGITB'\n",
      "!python mr_weather_PCA.py -r emr --emr-job-flow-id j-6T8VIKMY8RHX --file stations_with_minmax.pkl hdfs:/weather/weather.csv > PCA_results"
     ],
     "language": "python",
     "metadata": {},
     "outputs": [
      {
       "output_type": "stream",
       "stream": "stdout",
       "text": [
        "using configs in /home/ubuntu/.mrjob.conf\r\n"
       ]
      },
      {
       "output_type": "stream",
       "stream": "stdout",
       "text": [
        "creating new scratch bucket mrjob-f2646beb6446970f\r\n",
        "using s3://mrjob-f2646beb6446970f/tmp/ as our scratch dir on S3\r\n"
       ]
      },
      {
       "output_type": "stream",
       "stream": "stdout",
       "text": [
        "creating tmp directory /tmp/mr_weather_PCA.ubuntu.20140527.043153.694408\r\n"
       ]
      },
      {
       "output_type": "stream",
       "stream": "stdout",
       "text": [
        "creating S3 bucket 'mrjob-f2646beb6446970f' to use as scratch space\r\n"
       ]
      },
      {
       "output_type": "stream",
       "stream": "stdout",
       "text": [
        "Copying non-input files into s3://mrjob-f2646beb6446970f/tmp/mr_weather_PCA.ubuntu.20140527.043153.694408/files/\r\n"
       ]
      },
      {
       "output_type": "stream",
       "stream": "stdout",
       "text": [
        "Adding our job to existing job flow j-6T8VIKMY8RHX\r\n"
       ]
      },
      {
       "output_type": "stream",
       "stream": "stdout",
       "text": [
        "Job launched 30.8s ago, status RUNNING: Running step\r\n"
       ]
      },
      {
       "output_type": "stream",
       "stream": "stdout",
       "text": [
        "Job launched 61.5s ago, status RUNNING: Running step\r\n"
       ]
      },
      {
       "output_type": "stream",
       "stream": "stdout",
       "text": [
        "Got retriable error: EmrResponseError: 400 Bad Request\r\n",
        "<ErrorResponse xmlns=\"http://elasticmapreduce.amazonaws.com/doc/2009-03-31\">\r\n",
        "  <Error>\r\n",
        "    <Type>Sender</Type>\r\n",
        "    <Code>Throttling</Code>\r\n",
        "    <Message>Rate exceeded</Message>\r\n",
        "  </Error>\r\n",
        "  <RequestId>0dfd3ea6-e558-11e3-b332-21d671b574dc</RequestId>\r\n",
        "</ErrorResponse>\r\n",
        "\r\n",
        "Backing off for 20.0 seconds\r\n"
       ]
      },
      {
       "output_type": "stream",
       "stream": "stdout",
       "text": [
        "Got retriable error: EmrResponseError: 400 Bad Request\r\n",
        "<ErrorResponse xmlns=\"http://elasticmapreduce.amazonaws.com/doc/2009-03-31\">\r\n",
        "  <Error>\r\n",
        "    <Type>Sender</Type>\r\n",
        "    <Code>Throttling</Code>\r\n",
        "    <Message>Rate exceeded</Message>\r\n",
        "  </Error>\r\n",
        "  <RequestId>19ee09a1-e558-11e3-8362-0f887c06ae20</RequestId>\r\n",
        "</ErrorResponse>\r\n",
        "\r\n",
        "Backing off for 30.0 seconds\r\n"
       ]
      },
      {
       "output_type": "stream",
       "stream": "stdout",
       "text": [
        "Job launched 142.3s ago, status RUNNING: Running step\r\n"
       ]
      },
      {
       "output_type": "stream",
       "stream": "stdout",
       "text": [
        "Got retriable error: EmrResponseError: 400 Bad Request\r\n",
        "<ErrorResponse xmlns=\"http://elasticmapreduce.amazonaws.com/doc/2009-03-31\">\r\n",
        "  <Error>\r\n",
        "    <Type>Sender</Type>\r\n",
        "    <Code>Throttling</Code>\r\n",
        "    <Message>Rate exceeded</Message>\r\n",
        "  </Error>\r\n",
        "  <RequestId>3e201791-e558-11e3-8362-0f887c06ae20</RequestId>\r\n",
        "</ErrorResponse>\r\n",
        "\r\n",
        "Backing off for 20.0 seconds\r\n"
       ]
      },
      {
       "output_type": "stream",
       "stream": "stdout",
       "text": [
        "Got retriable error: EmrResponseError: 400 Bad Request\r\n",
        "<ErrorResponse xmlns=\"http://elasticmapreduce.amazonaws.com/doc/2009-03-31\">\r\n",
        "  <Error>\r\n",
        "    <Type>Sender</Type>\r\n",
        "    <Code>Throttling</Code>\r\n",
        "    <Message>Rate exceeded</Message>\r\n",
        "  </Error>\r\n",
        "  <RequestId>4a1093f4-e558-11e3-8362-0f887c06ae20</RequestId>\r\n",
        "</ErrorResponse>\r\n",
        "\r\n",
        "Backing off for 30.0 seconds\r\n"
       ]
      },
      {
       "output_type": "stream",
       "stream": "stdout",
       "text": [
        "Got retriable error: EmrResponseError: 400 Bad Request\r\n",
        "<ErrorResponse xmlns=\"http://elasticmapreduce.amazonaws.com/doc/2009-03-31\">\r\n",
        "  <Error>\r\n",
        "    <Type>Sender</Type>\r\n",
        "    <Code>Throttling</Code>\r\n",
        "    <Message>Rate exceeded</Message>\r\n",
        "  </Error>\r\n",
        "  <RequestId>5bf7b583-e558-11e3-955c-1fb30f4201c5</RequestId>\r\n",
        "</ErrorResponse>\r\n",
        "\r\n",
        "Backing off for 45.0 seconds\r\n"
       ]
      },
      {
       "output_type": "stream",
       "stream": "stdout",
       "text": [
        "Got retriable error: EmrResponseError: 400 Bad Request\r\n",
        "<ErrorResponse xmlns=\"http://elasticmapreduce.amazonaws.com/doc/2009-03-31\">\r\n",
        "  <Error>\r\n",
        "    <Type>Sender</Type>\r\n",
        "    <Code>Throttling</Code>\r\n",
        "    <Message>Rate exceeded</Message>\r\n",
        "  </Error>\r\n",
        "  <RequestId>76d378ce-e558-11e3-b332-21d671b574dc</RequestId>\r\n",
        "</ErrorResponse>\r\n",
        "\r\n",
        "Backing off for 67.5 seconds\r\n"
       ]
      },
      {
       "output_type": "stream",
       "stream": "stdout",
       "text": [
        "Job launched 335.7s ago, status RUNNING: Running step (mr_weather_PCA.ubuntu.20140527.043153.694408: Step 1 of 2)\r\n"
       ]
      },
      {
       "output_type": "stream",
       "stream": "stdout",
       "text": [
        "Job launched 366.5s ago, status RUNNING: Running step (mr_weather_PCA.ubuntu.20140527.043153.694408: Step 1 of 2)\r\n"
       ]
      },
      {
       "output_type": "stream",
       "stream": "stdout",
       "text": [
        "Got retriable error: EmrResponseError: 400 Bad Request\r\n",
        "<ErrorResponse xmlns=\"http://elasticmapreduce.amazonaws.com/doc/2009-03-31\">\r\n",
        "  <Error>\r\n",
        "    <Type>Sender</Type>\r\n",
        "    <Code>Throttling</Code>\r\n",
        "    <Message>Rate exceeded</Message>\r\n",
        "  </Error>\r\n",
        "  <RequestId>c3cd96d5-e558-11e3-8c68-dfb11431f3fe</RequestId>\r\n",
        "</ErrorResponse>\r\n",
        "\r\n",
        "Backing off for 20.0 seconds\r\n"
       ]
      },
      {
       "output_type": "stream",
       "stream": "stdout",
       "text": [
        "Job launched 417.3s ago, status RUNNING: Running step (mr_weather_PCA.ubuntu.20140527.043153.694408: Step 1 of 2)\r\n"
       ]
      },
      {
       "output_type": "stream",
       "stream": "stdout",
       "text": [
        "Job launched 448.1s ago, status RUNNING: Running step (mr_weather_PCA.ubuntu.20140527.043153.694408: Step 1 of 2)\r\n"
       ]
      },
      {
       "output_type": "stream",
       "stream": "stdout",
       "text": [
        "Job launched 478.8s ago, status RUNNING: Running step (mr_weather_PCA.ubuntu.20140527.043153.694408: Step 1 of 2)\r\n"
       ]
      },
      {
       "output_type": "stream",
       "stream": "stdout",
       "text": [
        "Job launched 509.6s ago, status RUNNING: Running step (mr_weather_PCA.ubuntu.20140527.043153.694408: Step 2 of 2)\r\n"
       ]
      },
      {
       "output_type": "stream",
       "stream": "stdout",
       "text": [
        "Got retriable error: EmrResponseError: 400 Bad Request\r\n",
        "<ErrorResponse xmlns=\"http://elasticmapreduce.amazonaws.com/doc/2009-03-31\">\r\n",
        "  <Error>\r\n",
        "    <Type>Sender</Type>\r\n",
        "    <Code>Throttling</Code>\r\n",
        "    <Message>Rate exceeded</Message>\r\n",
        "  </Error>\r\n",
        "  <RequestId>1916040d-e559-11e3-abd6-21155152508b</RequestId>\r\n",
        "</ErrorResponse>\r\n",
        "\r\n",
        "Backing off for 20.0 seconds\r\n"
       ]
      },
      {
       "output_type": "stream",
       "stream": "stdout",
       "text": [
        "Job launched 560.4s ago, status RUNNING: Running step (mr_weather_PCA.ubuntu.20140527.043153.694408: Step 2 of 2)\r\n"
       ]
      },
      {
       "output_type": "stream",
       "stream": "stdout",
       "text": [
        "Job launched 591.2s ago, status RUNNING: Running step (mr_weather_PCA.ubuntu.20140527.043153.694408: Step 2 of 2)\r\n"
       ]
      },
      {
       "output_type": "stream",
       "stream": "stdout",
       "text": [
        "Job launched 621.9s ago, status RUNNING: Running step (mr_weather_PCA.ubuntu.20140527.043153.694408: Step 2 of 2)\r\n"
       ]
      },
      {
       "output_type": "stream",
       "stream": "stdout",
       "text": [
        "Job launched 652.7s ago, status RUNNING: Running step (mr_weather_PCA.ubuntu.20140527.043153.694408: Step 2 of 2)\r\n"
       ]
      },
      {
       "output_type": "stream",
       "stream": "stdout",
       "text": [
        "Job launched 683.5s ago, status RUNNING: Running step (mr_weather_PCA.ubuntu.20140527.043153.694408: Step 2 of 2)\r\n"
       ]
      },
      {
       "output_type": "stream",
       "stream": "stdout",
       "text": [
        "Job launched 714.1s ago, status RUNNING: Running step (mr_weather_PCA.ubuntu.20140527.043153.694408: Step 2 of 2)\r\n"
       ]
      },
      {
       "output_type": "stream",
       "stream": "stdout",
       "text": [
        "Job launched 744.8s ago, status RUNNING: Running step (mr_weather_PCA.ubuntu.20140527.043153.694408: Step 2 of 2)\r\n"
       ]
      },
      {
       "output_type": "stream",
       "stream": "stdout",
       "text": [
        "Job launched 775.5s ago, status RUNNING: Running step (mr_weather_PCA.ubuntu.20140527.043153.694408: Step 2 of 2)\r\n"
       ]
      },
      {
       "output_type": "stream",
       "stream": "stdout",
       "text": [
        "Got retriable error: EmrResponseError: 400 Bad Request\r\n",
        "<ErrorResponse xmlns=\"http://elasticmapreduce.amazonaws.com/doc/2009-03-31\">\r\n",
        "  <Error>\r\n",
        "    <Type>Sender</Type>\r\n",
        "    <Code>Throttling</Code>\r\n",
        "    <Message>Rate exceeded</Message>\r\n",
        "  </Error>\r\n",
        "  <RequestId>b7912758-e559-11e3-a13b-cf267f9d23d6</RequestId>\r\n",
        "</ErrorResponse>\r\n",
        "\r\n"
       ]
      },
      {
       "output_type": "stream",
       "stream": "stdout",
       "text": [
        "Backing off for 20.0 seconds\r\n"
       ]
      },
      {
       "output_type": "stream",
       "stream": "stdout",
       "text": [
        "Job launched 826.2s ago, status RUNNING: Running step (mr_weather_PCA.ubuntu.20140527.043153.694408: Step 2 of 2)\r\n"
       ]
      },
      {
       "output_type": "stream",
       "stream": "stdout",
       "text": [
        "Job launched 856.9s ago, status RUNNING: Running step (mr_weather_PCA.ubuntu.20140527.043153.694408: Step 2 of 2)\r\n"
       ]
      },
      {
       "output_type": "stream",
       "stream": "stdout",
       "text": [
        "Job launched 887.6s ago, status RUNNING: Running step (mr_weather_PCA.ubuntu.20140527.043153.694408: Step 2 of 2)\r\n"
       ]
      },
      {
       "output_type": "stream",
       "stream": "stdout",
       "text": [
        "Got retriable error: EmrResponseError: 400 Bad Request\r\n",
        "<ErrorResponse xmlns=\"http://elasticmapreduce.amazonaws.com/doc/2009-03-31\">\r\n",
        "  <Error>\r\n",
        "    <Type>Sender</Type>\r\n",
        "    <Code>Throttling</Code>\r\n",
        "    <Message>Rate exceeded</Message>\r\n",
        "  </Error>\r\n",
        "  <RequestId>fa6b8fcd-e559-11e3-abd6-21155152508b</RequestId>\r\n",
        "</ErrorResponse>\r\n",
        "\r\n",
        "Backing off for 20.0 seconds\r\n"
       ]
      },
      {
       "output_type": "stream",
       "stream": "stdout",
       "text": [
        "Job launched 938.4s ago, status RUNNING: Running step (mr_weather_PCA.ubuntu.20140527.043153.694408: Step 2 of 2)\r\n"
       ]
      },
      {
       "output_type": "stream",
       "stream": "stdout",
       "text": [
        "Job launched 969.0s ago, status RUNNING: Running step (mr_weather_PCA.ubuntu.20140527.043153.694408: Step 2 of 2)\r\n"
       ]
      },
      {
       "output_type": "stream",
       "stream": "stdout",
       "text": [
        "Job launched 999.8s ago, status RUNNING: Running step (mr_weather_PCA.ubuntu.20140527.043153.694408: Step 2 of 2)\r\n"
       ]
      },
      {
       "output_type": "stream",
       "stream": "stdout",
       "text": [
        "Job launched 1030.4s ago, status RUNNING: Running step (mr_weather_PCA.ubuntu.20140527.043153.694408: Step 2 of 2)\r\n"
       ]
      },
      {
       "output_type": "stream",
       "stream": "stdout",
       "text": [
        "Job completed.\r\n",
        "Running time was 837.0s (not counting time spent waiting for the EC2 instances)\r\n",
        "ec2_key_pair_file not specified, going to S3\r\n",
        "Fetching counters from S3...\r\n",
        "Waiting 5.0s for S3 eventual consistency\r\n"
       ]
      },
      {
       "output_type": "stream",
       "stream": "stdout",
       "text": [
        "Counters may not have been uploaded to S3 yet. Try again in 5 minutes with: mrjob fetch-logs --counters j-6T8VIKMY8RHX\r\n",
        "Counters from step 1:\r\n",
        "  (no counters found)\r\n",
        "Counters from step 2:\r\n",
        "  (no counters found)\r\n",
        "Streaming final output from s3://mrjob-f2646beb6446970f/tmp/mr_weather_PCA.ubuntu.20140527.043153.694408/output/\r\n"
       ]
      },
      {
       "output_type": "stream",
       "stream": "stdout",
       "text": [
        "removing tmp directory /tmp/mr_weather_PCA.ubuntu.20140527.043153.694408\r\n",
        "Removing all files in s3://mrjob-f2646beb6446970f/tmp/mr_weather_PCA.ubuntu.20140527.043153.694408/\r\n"
       ]
      }
     ],
     "prompt_number": 87
    },
    {
     "cell_type": "code",
     "collapsed": false,
     "input": [
      "!head -10 PCA_results"
     ],
     "language": "python",
     "metadata": {},
     "outputs": [
      {
       "output_type": "stream",
       "stream": "stdout",
       "text": [
        "106.0\t436\r\n",
        "117.0\t432\r\n",
        "120.0\t475\r\n",
        "128.0\t392\r\n",
        "131.0\t411\r\n",
        "139.0\t441\r\n",
        "142.0\t434\r\n",
        "153.0\t471\r\n",
        "16.0\t387\r\n",
        "164.0\t418\r\n"
       ]
      }
     ],
     "prompt_number": 92
    },
    {
     "cell_type": "markdown",
     "metadata": {},
     "source": [
      "**Yoav:** You did all of this work to find the PCA vectors. Why do you not keep the resulting eigenvectors and eigenvalues? (I would also keep the resulting covariance matrix to use for merge decision."
     ]
    },
    {
     "cell_type": "code",
     "collapsed": false,
     "input": [
      "length = []; area=[]\n",
      "for line in open('PCA_results','r').readlines():\n",
      "    line=line.split()\n",
      "    length.append(numpy.int(line[1]))\n",
      "    temp_area = numpy.float(line[0])\n",
      "    area.append(int(temp_area))\n",
      "print mean(length)"
     ],
     "language": "python",
     "metadata": {},
     "outputs": [
      {
       "output_type": "stream",
       "stream": "stdout",
       "text": [
        "428.359375\n"
       ]
      }
     ],
     "prompt_number": 133
    },
    {
     "cell_type": "markdown",
     "metadata": {},
     "source": [
      "As is shown above, the average explanation length for 99% is ~428.\n",
      "\n",
      "**Yoav:** 99% is probably too high of a threshold. I would look for a threhold that gives around 10 eigen-vectors."
     ]
    },
    {
     "cell_type": "code",
     "collapsed": false,
     "input": [
      "D = pd.DataFrame({'area': area, 'length': length})\n",
      "D.head()"
     ],
     "language": "python",
     "metadata": {},
     "outputs": [
      {
       "html": [
        "<div style=\"max-height:1000px;max-width:1500px;overflow:auto;\">\n",
        "<table border=\"1\" class=\"dataframe\">\n",
        "  <thead>\n",
        "    <tr style=\"text-align: right;\">\n",
        "      <th></th>\n",
        "      <th>area</th>\n",
        "      <th>length</th>\n",
        "    </tr>\n",
        "  </thead>\n",
        "  <tbody>\n",
        "    <tr>\n",
        "      <th>0</th>\n",
        "      <td> 106</td>\n",
        "      <td> 436</td>\n",
        "    </tr>\n",
        "    <tr>\n",
        "      <th>1</th>\n",
        "      <td> 117</td>\n",
        "      <td> 432</td>\n",
        "    </tr>\n",
        "    <tr>\n",
        "      <th>2</th>\n",
        "      <td> 120</td>\n",
        "      <td> 475</td>\n",
        "    </tr>\n",
        "    <tr>\n",
        "      <th>3</th>\n",
        "      <td> 128</td>\n",
        "      <td> 392</td>\n",
        "    </tr>\n",
        "    <tr>\n",
        "      <th>4</th>\n",
        "      <td> 131</td>\n",
        "      <td> 411</td>\n",
        "    </tr>\n",
        "  </tbody>\n",
        "</table>\n",
        "<p>5 rows \u00d7 2 columns</p>\n",
        "</div>"
       ],
       "metadata": {},
       "output_type": "pyout",
       "prompt_number": 134,
       "text": [
        "   area  length\n",
        "0   106     436\n",
        "1   117     432\n",
        "2   120     475\n",
        "3   128     392\n",
        "4   131     411\n",
        "\n",
        "[5 rows x 2 columns]"
       ]
      }
     ],
     "prompt_number": 134
    },
    {
     "cell_type": "code",
     "collapsed": false,
     "input": [
      "import matplotlib.pyplot as plt\n",
      "plt.figure()\n",
      "D['length'].hist()"
     ],
     "language": "python",
     "metadata": {},
     "outputs": [
      {
       "metadata": {},
       "output_type": "pyout",
       "prompt_number": 108,
       "text": [
        "<matplotlib.axes.AxesSubplot at 0x6102fd0>"
       ]
      },
      {
       "metadata": {},
       "output_type": "display_data",
       "png": "[encoded data removed]",
       "text": [
        "<matplotlib.figure.Figure at 0x6102cd0>"
       ]
      }
     ],
     "prompt_number": 108
    },
    {
     "cell_type": "markdown",
     "metadata": {},
     "source": [
      "The distribution of description length is more clearly shown in the histogram above."
     ]
    },
    {
     "cell_type": "markdown",
     "metadata": {},
     "source": [
      "###Second, merge the neighboring nodes to get lower description length."
     ]
    },
    {
     "cell_type": "markdown",
     "metadata": {},
     "source": [
      "First, try one iteration of merging. The area code I use is from 0-255, and neighboring area codes correspond to neighbouring areas on the globe. So the candidates of merging can be expressed as (0,1),(2,3), ... ,(254,255). The new area dictionary is easily obtained:"
     ]
    },
    {
     "cell_type": "code",
     "collapsed": false,
     "input": [
      "new_Dict = {}\n",
      "for i in Dict:\n",
      "    new_Dict[i] = np.int(np.floor(Dict[i]/2))"
     ],
     "language": "python",
     "metadata": {},
     "outputs": [],
     "prompt_number": 119
    },
    {
     "cell_type": "code",
     "collapsed": false,
     "input": [
      "pickle.dump(new_Dict, open('stations_new_dictionary.pkl', 'w'))"
     ],
     "language": "python",
     "metadata": {},
     "outputs": [],
     "prompt_number": 122
    },
    {
     "cell_type": "markdown",
     "metadata": {},
     "source": [
      "Then use the new area dictionary to run PCA."
     ]
    },
    {
     "cell_type": "code",
     "collapsed": false,
     "input": [
      "%%writefile mr_weather_PCA_merge.py\n",
      "#import collections\n",
      "#Codes = collections.defaultdict(lambda: -1,Codes)\n",
      "import sys\n",
      "import cPickle\n",
      "Dict = cPickle.load( open( \"stations_new_dictionary.pkl\", \"rb\" ) )\n",
      "sys.path.append('/usr/lib/python2.6/dist-packages')\n",
      "from mrjob.job import MRJob\n",
      "import re,pickle,base64,zlib\n",
      "from sys import stderr\n",
      "import pandas as pd\n",
      "import numpy as np\n",
      "from sklearn.decomposition import PCA\n",
      "\n",
      "def my_pca(X,n):\n",
      "    pca = PCA(n_components=n, whiten=True)\n",
      "    pca.fit(X)\n",
      "    sum1 = 0\n",
      "    for i in range(n):\n",
      "        sum1 = sum1 + pca.explained_variance_ratio_[i]\n",
      "        if sum1 > 0.99:\n",
      "            break\n",
      "    return i,pca.components_\n",
      "\n",
      "class MR_Weather_pca(MRJob):\n",
      "    def my_mapper1(self, _, line):\n",
      "        self.increment_counter('MrJob Counters','my_mapper1',1)\n",
      "        elements=line.split(',')\n",
      "        if elements[1]=='TMAX' or elements[1]=='TMIN':\n",
      "            ndays = sum([e!='' for e in elements[3:]])\n",
      "            measure = 1\n",
      "            yield (elements[0],elements[2]), (measure,ndays,elements[3:])\n",
      "            \n",
      "    def my_reducer1(self, key, measures):\n",
      "        self.increment_counter('MrJob Counters','my_reducer1',1)\n",
      "        sum1 = 0; sum2 = 0; min_max = []\n",
      "        for nmeasure,ndays,measure in measures:\n",
      "            sum1 = sum1 + nmeasure; sum2 = sum2 + ndays; min_max = min_max + measure\n",
      "        if sum1 == 2 and sum2>150:\n",
      "            yield key, (Dict[key[0]],min_max)\n",
      "            \n",
      "    def my_mapper2(self, key, measures):\n",
      "        self.increment_counter('MrJob Counters','my_mapper2',1)\n",
      "        value = []\n",
      "        for i in measures[1]:\n",
      "            if i == '':\n",
      "                value.append(np.nan)\n",
      "            else:\n",
      "                value.append(float(i))\n",
      "        filled = pd.Series(value);filled = filled.interpolate();filled = filled.fillna(filled.mean())\n",
      "        yield measures[0], list(filled)\n",
      "    \n",
      "    def my_reducer2(self, area, measures):\n",
      "        self.increment_counter('MrJob Counters','my_reducer2',1)\n",
      "        data = list(measures)\n",
      "        data = np.array(data)\n",
      "        n,eigenvectors = my_pca(data, data.shape[1])\n",
      "        yield area, n\n",
      "    def steps(self):\n",
      "        return [self.mr(mapper=self.my_mapper1, reducer=self.my_reducer1),\n",
      "                self.mr(mapper=self.my_mapper2,reducer=self.my_reducer2)]\n",
      "if __name__ == '__main__':\n",
      "    MR_Weather_pca.run()"
     ],
     "language": "python",
     "metadata": {},
     "outputs": [
      {
       "output_type": "stream",
       "stream": "stdout",
       "text": [
        "Writing mr_weather_PCA_merge.py\n"
       ]
      }
     ],
     "prompt_number": 123
    },
    {
     "cell_type": "code",
     "collapsed": false,
     "input": [
      "!python mr_weather_PCA_merge.py -r emr --emr-job-flow-id j-LTOJMJ14G840 --file stations_new_dictionary.pkl hdfs:/weather/weather.csv > PCA_merged_results"
     ],
     "language": "python",
     "metadata": {},
     "outputs": [
      {
       "output_type": "stream",
       "stream": "stdout",
       "text": [
        "using configs in /home/ubuntu/.mrjob.conf\r\n"
       ]
      },
      {
       "output_type": "stream",
       "stream": "stdout",
       "text": [
        "creating new scratch bucket mrjob-909373fc37c21513\r\n",
        "using s3://mrjob-909373fc37c21513/tmp/ as our scratch dir on S3\r\n"
       ]
      },
      {
       "output_type": "stream",
       "stream": "stdout",
       "text": [
        "creating tmp directory /tmp/mr_weather_PCA_merge.ubuntu.20140527.060948.219871\r\n"
       ]
      },
      {
       "output_type": "stream",
       "stream": "stdout",
       "text": [
        "creating S3 bucket 'mrjob-909373fc37c21513' to use as scratch space\r\n"
       ]
      },
      {
       "output_type": "stream",
       "stream": "stdout",
       "text": [
        "Copying non-input files into s3://mrjob-909373fc37c21513/tmp/mr_weather_PCA_merge.ubuntu.20140527.060948.219871/files/\r\n"
       ]
      },
      {
       "output_type": "stream",
       "stream": "stdout",
       "text": [
        "Adding our job to existing job flow j-LTOJMJ14G840\r\n"
       ]
      },
      {
       "output_type": "stream",
       "stream": "stdout",
       "text": [
        "Job launched 31.2s ago, status RUNNING: Running step (mr_weather_PCA_merge.ubuntu.20140527.060948.219871: Step 1 of 2)\r\n"
       ]
      },
      {
       "output_type": "stream",
       "stream": "stdout",
       "text": [
        "Job launched 62.6s ago, status RUNNING: Running step (mr_weather_PCA_merge.ubuntu.20140527.060948.219871: Step 1 of 2)\r\n"
       ]
      },
      {
       "output_type": "stream",
       "stream": "stdout",
       "text": [
        "Job launched 93.7s ago, status RUNNING: Running step (mr_weather_PCA_merge.ubuntu.20140527.060948.219871: Step 1 of 2)\r\n"
       ]
      },
      {
       "output_type": "stream",
       "stream": "stdout",
       "text": [
        "Got retriable error: EmrResponseError: 400 Bad Request\r\n",
        "<ErrorResponse xmlns=\"http://elasticmapreduce.amazonaws.com/doc/2009-03-31\">\r\n",
        "  <Error>\r\n",
        "    <Type>Sender</Type>\r\n",
        "    <Code>Throttling</Code>\r\n",
        "    <Message>Rate exceeded</Message>\r\n",
        "  </Error>\r\n",
        "  <RequestId>cf6be8ad-e565-11e3-aa87-172672d76e00</RequestId>\r\n",
        "</ErrorResponse>\r\n",
        "\r\n",
        "Backing off for 20.0 seconds\r\n"
       ]
      },
      {
       "output_type": "stream",
       "stream": "stdout",
       "text": [
        "Got retriable error: EmrResponseError: 400 Bad Request\r\n",
        "<ErrorResponse xmlns=\"http://elasticmapreduce.amazonaws.com/doc/2009-03-31\">\r\n",
        "  <Error>\r\n",
        "    <Type>Sender</Type>\r\n",
        "    <Code>Throttling</Code>\r\n",
        "    <Message>Rate exceeded</Message>\r\n",
        "  </Error>\r\n",
        "  <RequestId>db5c3f05-e565-11e3-955c-1fb30f4201c5</RequestId>\r\n",
        "</ErrorResponse>\r\n",
        "\r\n",
        "Backing off for 30.0 seconds\r\n"
       ]
      },
      {
       "output_type": "stream",
       "stream": "stdout",
       "text": [
        "Got retriable error: EmrResponseError: 400 Bad Request\r\n",
        "<ErrorResponse xmlns=\"http://elasticmapreduce.amazonaws.com/doc/2009-03-31\">\r\n",
        "  <Error>\r\n",
        "    <Type>Sender</Type>\r\n",
        "    <Code>Throttling</Code>\r\n",
        "    <Message>Rate exceeded</Message>\r\n",
        "  </Error>\r\n",
        "  <RequestId>ed44232d-e565-11e3-9077-5114ea9dc6a3</RequestId>\r\n",
        "</ErrorResponse>\r\n",
        "\r\n",
        "Backing off for 45.0 seconds\r\n"
       ]
      },
      {
       "output_type": "stream",
       "stream": "stdout",
       "text": [
        "Got retriable error: EmrResponseError: 400 Bad Request\r\n",
        "<ErrorResponse xmlns=\"http://elasticmapreduce.amazonaws.com/doc/2009-03-31\">\r\n",
        "  <Error>\r\n",
        "    <Type>Sender</Type>\r\n",
        "    <Code>Throttling</Code>\r\n",
        "    <Message>Rate exceeded</Message>\r\n",
        "  </Error>\r\n",
        "  <RequestId>081f49e1-e566-11e3-955c-1fb30f4201c5</RequestId>\r\n",
        "</ErrorResponse>\r\n",
        "\r\n",
        "Backing off for 67.5 seconds\r\n"
       ]
      },
      {
       "output_type": "stream",
       "stream": "stdout",
       "text": [
        "Job launched 287.8s ago, status RUNNING: Running step (mr_weather_PCA_merge.ubuntu.20140527.060948.219871: Step 2 of 2)\r\n"
       ]
      },
      {
       "output_type": "stream",
       "stream": "stdout",
       "text": [
        "Job launched 319.1s ago, status RUNNING: Running step (mr_weather_PCA_merge.ubuntu.20140527.060948.219871: Step 2 of 2)\r\n"
       ]
      },
      {
       "output_type": "stream",
       "stream": "stdout",
       "text": [
        "Got retriable error: EmrResponseError: 400 Bad Request\r\n",
        "<ErrorResponse xmlns=\"http://elasticmapreduce.amazonaws.com/doc/2009-03-31\">\r\n",
        "  <Error>\r\n",
        "    <Type>Sender</Type>\r\n",
        "    <Code>Throttling</Code>\r\n",
        "    <Message>Rate exceeded</Message>\r\n",
        "  </Error>\r\n",
        "  <RequestId>55c8e198-e566-11e3-aa87-172672d76e00</RequestId>\r\n",
        "</ErrorResponse>\r\n",
        "\r\n",
        "Backing off for 20.0 seconds\r\n"
       ]
      },
      {
       "output_type": "stream",
       "stream": "stdout",
       "text": [
        "Job launched 370.4s ago, status RUNNING: Running step (mr_weather_PCA_merge.ubuntu.20140527.060948.219871: Step 2 of 2)\r\n"
       ]
      },
      {
       "output_type": "stream",
       "stream": "stdout",
       "text": [
        "Got retriable error: EmrResponseError: 400 Bad Request\r\n",
        "<ErrorResponse xmlns=\"http://elasticmapreduce.amazonaws.com/doc/2009-03-31\">\r\n",
        "  <Error>\r\n",
        "    <Type>Sender</Type>\r\n",
        "    <Code>Throttling</Code>\r\n",
        "    <Message>Rate exceeded</Message>\r\n",
        "  </Error>\r\n",
        "  <RequestId>745ccb19-e566-11e3-aa87-172672d76e00</RequestId>\r\n",
        "</ErrorResponse>\r\n",
        "\r\n",
        "Backing off for 20.0 seconds\r\n"
       ]
      },
      {
       "output_type": "stream",
       "stream": "stdout",
       "text": [
        "Got retriable error: EmrResponseError: 400 Bad Request\r\n",
        "<ErrorResponse xmlns=\"http://elasticmapreduce.amazonaws.com/doc/2009-03-31\">\r\n",
        "  <Error>\r\n",
        "    <Type>Sender</Type>\r\n",
        "    <Code>Throttling</Code>\r\n",
        "    <Message>Rate exceeded</Message>\r\n",
        "  </Error>\r\n",
        "  <RequestId>804d6f90-e566-11e3-aa87-172672d76e00</RequestId>\r\n",
        "</ErrorResponse>\r\n",
        "\r\n",
        "Backing off for 30.0 seconds\r\n"
       ]
      },
      {
       "output_type": "stream",
       "stream": "stdout",
       "text": [
        "Job launched 451.6s ago, status RUNNING: Running step (mr_weather_PCA_merge.ubuntu.20140527.060948.219871: Step 2 of 2)\r\n"
       ]
      },
      {
       "output_type": "stream",
       "stream": "stdout",
       "text": [
        "Job launched 483.0s ago, status RUNNING: Running step (mr_weather_PCA_merge.ubuntu.20140527.060948.219871: Step 2 of 2)\r\n"
       ]
      },
      {
       "output_type": "stream",
       "stream": "stdout",
       "text": [
        "Job launched 514.3s ago, status RUNNING: Running step (mr_weather_PCA_merge.ubuntu.20140527.060948.219871: Step 2 of 2)\r\n"
       ]
      },
      {
       "output_type": "stream",
       "stream": "stdout",
       "text": [
        "Job launched 545.4s ago, status RUNNING: Running step (mr_weather_PCA_merge.ubuntu.20140527.060948.219871: Step 2 of 2)\r\n"
       ]
      },
      {
       "output_type": "stream",
       "stream": "stdout",
       "text": [
        "Got retriable error: EmrResponseError: 400 Bad Request\r\n",
        "<ErrorResponse xmlns=\"http://elasticmapreduce.amazonaws.com/doc/2009-03-31\">\r\n",
        "  <Error>\r\n",
        "    <Type>Sender</Type>\r\n",
        "    <Code>Throttling</Code>\r\n",
        "    <Message>Rate exceeded</Message>\r\n",
        "  </Error>\r\n",
        "  <RequestId>dcb21521-e566-11e3-aa87-172672d76e00</RequestId>\r\n",
        "</ErrorResponse>\r\n",
        "\r\n",
        "Backing off for 20.0 seconds\r\n"
       ]
      },
      {
       "output_type": "stream",
       "stream": "stdout",
       "text": [
        "Job launched 596.7s ago, status RUNNING: Running step (mr_weather_PCA_merge.ubuntu.20140527.060948.219871: Step 2 of 2)\r\n"
       ]
      },
      {
       "output_type": "stream",
       "stream": "stdout",
       "text": [
        "Job launched 628.0s ago, status RUNNING: Running step (mr_weather_PCA_merge.ubuntu.20140527.060948.219871: Step 2 of 2)\r\n"
       ]
      },
      {
       "output_type": "stream",
       "stream": "stdout",
       "text": [
        "Job launched 659.2s ago, status RUNNING: Running step (mr_weather_PCA_merge.ubuntu.20140527.060948.219871: Step 2 of 2)\r\n"
       ]
      },
      {
       "output_type": "stream",
       "stream": "stdout",
       "text": [
        "Job launched 690.6s ago, status RUNNING: Running step (mr_weather_PCA_merge.ubuntu.20140527.060948.219871: Step 2 of 2)\r\n"
       ]
      },
      {
       "output_type": "stream",
       "stream": "stdout",
       "text": [
        "Job launched 721.9s ago, status RUNNING: Running step (mr_weather_PCA_merge.ubuntu.20140527.060948.219871: Step 2 of 2)\r\n"
       ]
      },
      {
       "output_type": "stream",
       "stream": "stdout",
       "text": [
        "Job launched 753.2s ago, status RUNNING: Running step (mr_weather_PCA_merge.ubuntu.20140527.060948.219871: Step 2 of 2)\r\n"
       ]
      },
      {
       "output_type": "stream",
       "stream": "stdout",
       "text": [
        "Job launched 784.4s ago, status RUNNING: Running step (mr_weather_PCA_merge.ubuntu.20140527.060948.219871: Step 2 of 2)\r\n"
       ]
      },
      {
       "output_type": "stream",
       "stream": "stdout",
       "text": [
        "Got retriable error: EmrResponseError: 400 Bad Request\r\n",
        "<ErrorResponse xmlns=\"http://elasticmapreduce.amazonaws.com/doc/2009-03-31\">\r\n",
        "  <Error>\r\n",
        "    <Type>Sender</Type>\r\n",
        "    <Code>Throttling</Code>\r\n",
        "    <Message>Rate exceeded</Message>\r\n",
        "  </Error>\r\n",
        "  <RequestId>6b1fdfc9-e567-11e3-a94d-e755ea6b183b</RequestId>\r\n",
        "</ErrorResponse>\r\n",
        "\r\n",
        "Backing off for 20.0 seconds\r\n"
       ]
      },
      {
       "output_type": "stream",
       "stream": "stdout",
       "text": [
        "Got retriable error: EmrResponseError: 400 Bad Request\r\n",
        "<ErrorResponse xmlns=\"http://elasticmapreduce.amazonaws.com/doc/2009-03-31\">\r\n",
        "  <Error>\r\n",
        "    <Type>Sender</Type>\r\n",
        "    <Code>Throttling</Code>\r\n",
        "    <Message>Rate exceeded</Message>\r\n",
        "  </Error>\r\n",
        "  <RequestId>77103627-e567-11e3-a94d-e755ea6b183b</RequestId>\r\n",
        "</ErrorResponse>\r\n",
        "\r\n",
        "Backing off for 30.0 seconds\r\n"
       ]
      },
      {
       "output_type": "stream",
       "stream": "stdout",
       "text": [
        "Job completed.\r\n",
        "Running time was 804.0s (not counting time spent waiting for the EC2 instances)\r\n",
        "ec2_key_pair_file not specified, going to S3\r\n",
        "Fetching counters from S3...\r\n",
        "Waiting 5.0s for S3 eventual consistency\r\n"
       ]
      },
      {
       "output_type": "stream",
       "stream": "stdout",
       "text": [
        "Got retriable error: EmrResponseError: 400 Bad Request\r\n",
        "<ErrorResponse xmlns=\"http://elasticmapreduce.amazonaws.com/doc/2009-03-31\">\r\n",
        "  <Error>\r\n",
        "    <Type>Sender</Type>\r\n",
        "    <Code>Throttling</Code>\r\n",
        "    <Message>Rate exceeded</Message>\r\n",
        "  </Error>\r\n",
        "  <RequestId>8cf0083f-e567-11e3-abd6-21155152508b</RequestId>\r\n",
        "</ErrorResponse>\r\n",
        "\r\n",
        "Backing off for 20.0 seconds\r\n"
       ]
      },
      {
       "output_type": "stream",
       "stream": "stdout",
       "text": [
        "Got retriable error: EmrResponseError: 400 Bad Request\r\n",
        "<ErrorResponse xmlns=\"http://elasticmapreduce.amazonaws.com/doc/2009-03-31\">\r\n",
        "  <Error>\r\n",
        "    <Type>Sender</Type>\r\n",
        "    <Code>Throttling</Code>\r\n",
        "    <Message>Rate exceeded</Message>\r\n",
        "  </Error>\r\n",
        "  <RequestId>98e0acb0-e567-11e3-abd6-21155152508b</RequestId>\r\n",
        "</ErrorResponse>\r\n",
        "\r\n",
        "Backing off for 30.0 seconds\r\n"
       ]
      },
      {
       "output_type": "stream",
       "stream": "stdout",
       "text": [
        "Got retriable error: EmrResponseError: 400 Bad Request\r\n",
        "<ErrorResponse xmlns=\"http://elasticmapreduce.amazonaws.com/doc/2009-03-31\">\r\n",
        "  <Error>\r\n",
        "    <Type>Sender</Type>\r\n",
        "    <Code>Throttling</Code>\r\n",
        "    <Message>Rate exceeded</Message>\r\n",
        "  </Error>\r\n",
        "  <RequestId>aac8df1c-e567-11e3-abd6-21155152508b</RequestId>\r\n",
        "</ErrorResponse>\r\n",
        "\r\n",
        "Backing off for 45.0 seconds\r\n"
       ]
      },
      {
       "output_type": "stream",
       "stream": "stdout",
       "text": [
        "Got retriable error: EmrResponseError: 400 Bad Request\r\n",
        "<ErrorResponse xmlns=\"http://elasticmapreduce.amazonaws.com/doc/2009-03-31\">\r\n",
        "  <Error>\r\n",
        "    <Type>Sender</Type>\r\n",
        "    <Code>Throttling</Code>\r\n",
        "    <Message>Rate exceeded</Message>\r\n",
        "  </Error>\r\n",
        "  <RequestId>c5a405e2-e567-11e3-abd6-21155152508b</RequestId>\r\n",
        "</ErrorResponse>\r\n",
        "\r\n",
        "Backing off for 67.5 seconds\r\n"
       ]
      },
      {
       "output_type": "stream",
       "stream": "stdout",
       "text": [
        "Counters may not have been uploaded to S3 yet. Try again in 5 minutes with: mrjob fetch-logs --counters j-LTOJMJ14G840\r\n"
       ]
      },
      {
       "output_type": "stream",
       "stream": "stdout",
       "text": [
        "Counters from step 1:\r\n",
        "  (no counters found)\r\n",
        "Counters from step 2:\r\n",
        "  (no counters found)\r\n",
        "Streaming final output from s3://mrjob-909373fc37c21513/tmp/mr_weather_PCA_merge.ubuntu.20140527.060948.219871/output/\r\n"
       ]
      },
      {
       "output_type": "stream",
       "stream": "stdout",
       "text": [
        "removing tmp directory /tmp/mr_weather_PCA_merge.ubuntu.20140527.060948.219871\r\n",
        "Removing all files in s3://mrjob-909373fc37c21513/tmp/mr_weather_PCA_merge.ubuntu.20140527.060948.219871/\r\n"
       ]
      }
     ],
     "prompt_number": 128
    },
    {
     "cell_type": "code",
     "collapsed": false,
     "input": [
      "length_merge = []; area_merge=[]\n",
      "for line in open('PCA_merged_results','r').readlines():\n",
      "    line=line.split()\n",
      "    length_merge.append(numpy.int(line[1]))\n",
      "    temp_area = numpy.float(line[0])\n",
      "    area_merge.append(int(temp_area))\n",
      "print mean(length_merge)"
     ],
     "language": "python",
     "metadata": {},
     "outputs": [
      {
       "output_type": "stream",
       "stream": "stdout",
       "text": [
        "462.890625\n"
       ]
      }
     ],
     "prompt_number": 135
    },
    {
     "cell_type": "markdown",
     "metadata": {},
     "source": [
      "Now we have the descript length of PCA before and after merge. Then use the criterion described in  http://seed.ucsd.edu/mediawiki/index.php/BigDataHW2#Suggested_Steps to see whether each merge should or shoulndn't happen."
     ]
    },
    {
     "cell_type": "code",
     "collapsed": false,
     "input": [
      "def merge_criterion(n1,k1,n2,k2,k3):\n",
      "    n3 = n1+n2\n",
      "    left = n1*k1+(k1+1)*(2*365)+n2*k2+(k2+1)*(2*365)\n",
      "    right = n3*k3+(k3+1)*(2*365)\n",
      "    merge = left>right\n",
      "    return merge"
     ],
     "language": "python",
     "metadata": {},
     "outputs": [],
     "prompt_number": 136
    },
    {
     "cell_type": "code",
     "collapsed": false,
     "input": [
      "before_merge = numpy.asarray([area, length])\n",
      "after_merge = numpy.asarray([area_merge, length_merge])\n",
      "before_merge =  before_merge[:,np.argsort(before_merge[0,:])].transpose()\n",
      "after_merge =  after_merge[:,np.argsort(after_merge[0,:])].transpose()"
     ],
     "language": "python",
     "metadata": {},
     "outputs": [],
     "prompt_number": 146
    },
    {
     "cell_type": "code",
     "collapsed": false,
     "input": [
      "after_merge.shape"
     ],
     "language": "python",
     "metadata": {},
     "outputs": [
      {
       "metadata": {},
       "output_type": "pyout",
       "prompt_number": 149,
       "text": [
        "(128, 2)"
       ]
      }
     ],
     "prompt_number": 149
    },
    {
     "cell_type": "code",
     "collapsed": false,
     "input": [
      "for i in xrange(after_merge.shape[0]):\n",
      "    \n",
      "    \n",
      "    "
     ],
     "language": "python",
     "metadata": {},
     "outputs": []
    },
    {
     "cell_type": "markdown",
     "metadata": {},
     "source": [
      "### Summary ###\n",
      "You did some nice work on both the weighting and the partitioning. In the PCA section you seem not to care about the actual PCA Vectors. You did not get to do anything meaningful in terms of merging.\n",
      "\n",
      "**Grade:** 85"
     ]
    },
    {
     "cell_type": "code",
     "collapsed": false,
     "input": [],
     "language": "python",
     "metadata": {},
     "outputs": []
    }
   ],
   "metadata": {}
  }
 ]
}