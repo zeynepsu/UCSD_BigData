{
 "metadata": {
  "name": "",
  "signature": "sha256:44c1fbeda3eaee3064df39c2860d4b024018ff1903225b6b8f63b73093569810"
 },
 "nbformat": 3,
 "nbformat_minor": 0,
 "worksheets": [
  {
   "cells": [
    {
     "cell_type": "code",
     "collapsed": false,
     "input": [
      "import pickle\n",
      "with open('grouexplVarWrdping2.pkl', 'rb') as infile:\n",
      "    new = pickle.load( infile)\n",
      "    print len(new)\n"
     ],
     "language": "python",
     "metadata": {},
     "outputs": [
      {
       "output_type": "stream",
       "stream": "stdout",
       "text": [
        "84\n"
       ]
      }
     ],
     "prompt_number": 3
    },
    {
     "cell_type": "code",
     "collapsed": false,
     "input": [
      "type(new)"
     ],
     "language": "python",
     "metadata": {},
     "outputs": [
      {
       "metadata": {},
       "output_type": "pyout",
       "prompt_number": 4,
       "text": [
        "collections.defaultdict"
       ]
      }
     ],
     "prompt_number": 4
    },
    {
     "cell_type": "code",
     "collapsed": false,
     "input": [
      "for key in new.keys():\n",
      "    print key\n",
      "    plot(new[key])"
     ],
     "language": "python",
     "metadata": {},
     "outputs": [
      {
       "output_type": "stream",
       "stream": "stdout",
       "text": [
        "[u'Bosnia and Herzegovina']\n",
        "[u'French Guiana']\n",
        "[u'Slovenia']\n",
        "[u'Colombia']\n",
        "[u'South Africa']\n",
        "[u'Canada']\n",
        "[u'Central African Republic']"
       ]
      },
      {
       "output_type": "stream",
       "stream": "stdout",
       "text": [
        "\n",
        "[u'Armenia']\n",
        "[u'Kazakhstan']\n",
        "[u'Sudan']\n",
        "[u'Benin']\n",
        "[u'France']\n",
        "[u'Ukraine']\n",
        "[u'Romania']\n",
        "[u'Latvia']\n",
        "[u'Italy']\n",
        "[u'Denmark']\n",
        "[u'Argentina']\n",
        "[u'Zimbabwe']\n",
        "[u'Kyrgyzstan']\n",
        "[u'Palau']\n",
        "[u'Thailand']\n",
        "[u'Turkey']\n",
        "[u'Croatia']\n",
        "[u'Australia']\n",
        "[u'Mongolia']\n",
        "[u'Ethiopia']\n",
        "[u'Gabon']\n",
        "[u'None']\n",
        "[u'Uruguay']\n",
        "[u'China']\n",
        "[u'Puerto Rico']\n",
        "[u'Antarctica']\n",
        "[u'Syria']\n",
        "[u'Micronesia']\n",
        "[u'Netherlands']\n",
        "[u'Switzerland']\n",
        "[u'Caspian Sea']\n",
        "[u'Philippines']\n",
        "[u'Cuba']\n",
        "[u'Venezuela']\n",
        "[u'Republic of Congo']\n",
        "[u'Belarus']\n",
        "[u'Finland']\n",
        "[u'Mauritius']\n",
        "[u'Georgia']\n",
        "Bosnia and Herzegovina\n",
        "[u'Niger']\n",
        "[u\\C\\\\xf4te d'Ivoire\\\"]\n",
        "[u'Uzbekistan']\n",
        "[u'Guinea']\n",
        "[u'United Kingdom']\n",
        "[u'Lithuania']\n",
        "[u'Spain']\n",
        "[u'Norway']\n",
        "[u'Svalbard and Jan Mayen']\n",
        "[u'New Zealand']\n",
        "[u'Iran']"
       ]
      },
      {
       "output_type": "stream",
       "stream": "stdout",
       "text": [
        "\n",
        "[u'Morocco']\n",
        "[u'Austria']\n",
        "[u'Japan']\n",
        "[u'South Korea']\n",
        "[u'Czech Republic']\n",
        "[u'Israel']\n",
        "[u'Serbia']\n",
        "[u'Germany']\n",
        "[u'Greece']\n",
        "[u'New Caledonia']\n",
        "[u'Ireland']\n",
        "[u'Algeria']\n",
        "[u'Namibia']\n",
        "[u'Mauritania']\n",
        "[u'Burkina Faso']\n",
        "[u'United States']\n",
        "[u'Chad']\n",
        "[u'Slovakia']\n",
        "[u'Mexico']\n",
        "[u'Tajikistan']\n",
        "[u'Turkmenistan']\n",
        "[u'Mozambique']\n",
        "[u'Estonia']\n",
        "[u'Russia']\n",
        "[u'Sweden']\n",
        "[u'Iceland']\n",
        "[u'Portugal']\n"
       ]
      },
      {
       "metadata": {},
       "output_type": "display_data",
       "png": "[encoded data removed]",
       "text": [
        "<matplotlib.figure.Figure at 0x10802bb10>"
       ]
      }
     ],
     "prompt_number": 9
    },
    {
     "cell_type": "code",
     "collapsed": false,
     "input": [],
     "language": "python",
     "metadata": {},
     "outputs": []
    }
   ],
   "metadata": {}
  }
 ]
}