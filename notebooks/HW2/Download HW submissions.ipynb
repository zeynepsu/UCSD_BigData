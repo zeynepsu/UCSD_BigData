{
 "metadata": {
  "name": "",
  "signature": "sha256:cd7567e6fce01b27e0c0e9b2a411fea2cb2f33df34c9727430530441469507e0"
 },
 "nbformat": 3,
 "nbformat_minor": 0,
 "worksheets": [
  {
   "cells": [
    {
     "cell_type": "code",
     "collapsed": false,
     "input": [
      "import urllib2, re\n",
      "page=urllib2.urlopen(\"http://google.com\").read()"
     ],
     "language": "python",
     "metadata": {},
     "outputs": [],
     "prompt_number": 6
    },
    {
     "cell_type": "code",
     "collapsed": false,
     "input": [
      "dir='./notebooks'\n",
      "!mkdir $dir"
     ],
     "language": "python",
     "metadata": {},
     "outputs": [
      {
       "output_type": "stream",
       "stream": "stdout",
       "text": [
        "mkdir: ./notebooks: File exists\r\n"
       ]
      }
     ],
     "prompt_number": 30
    },
    {
     "cell_type": "code",
     "collapsed": false,
     "input": [
      "submissions=open('HW2Submissions.txt','r')\n",
      "Localized_submissions=open(dir+'/HW2Submissions.html','w')\n",
      "for line in submissions.readlines():\n",
      "        match=re.search(r'(http://nbviewer.ipython.org/github/)(\\S+)',line)\n",
      "        if match:\n",
      "            URL_raw='https://raw.githubusercontent.com/'+match.group(2)\n",
      "            URL=URL_raw.replace('/blob','')\n",
      "            filename=dir+'/'+match.group(2).replace('/','_').replace('%','-')\n",
      "            line=re.sub(r'(http://nbviewer.ipython.org/github/)(\\S+)',filename,line)\n",
      "            print URL,'\\n>>>',filename\n",
      "            try:\n",
      "                page=urllib2.urlopen(URL).read()\n",
      "                open(filename,'w').write(page)\n",
      "            except Exception as e:\n",
      "                print 'failed to download',URL\n",
      "                print e            \n",
      "        Localized_submissions.write(line)\n",
      "Localized_submissions.close()"
     ],
     "language": "python",
     "metadata": {},
     "outputs": [
      {
       "output_type": "stream",
       "stream": "stdout",
       "text": [
        "https://raw.githubusercontent.com/dennis910130/UCSD_BigData/master/notebooks/weather.mapreduce/Step1.Count%20valid%20years.ipynb \n",
        ">>> ./notebooks/dennis910130_UCSD_BigData_blob_master_notebooks_weather.mapreduce_Step1.Count-20valid-20years.ipynb\n",
        "https://raw.githubusercontent.com/dennis910130/UCSD_BigData/master/notebooks/weather.mapreduce/Step2.Partition.ipynb"
       ]
      },
      {
       "output_type": "stream",
       "stream": "stdout",
       "text": [
        " \n",
        ">>> ./notebooks/dennis910130_UCSD_BigData_blob_master_notebooks_weather.mapreduce_Step2.Partition.ipynb\n",
        "https://raw.githubusercontent.com/dennis910130/UCSD_BigData/master/notebooks/weather.mapreduce/Step3.PCA.ipynb"
       ]
      },
      {
       "output_type": "stream",
       "stream": "stdout",
       "text": [
        " \n",
        ">>> ./notebooks/dennis910130_UCSD_BigData_blob_master_notebooks_weather.mapreduce_Step3.PCA.ipynb\n",
        "https://raw.githubusercontent.com/lovinganfield/UCSD_BigData/master/notebooks/weather.mapreduce/Homework%202.ipynb"
       ]
      },
      {
       "output_type": "stream",
       "stream": "stdout",
       "text": [
        " \n",
        ">>> ./notebooks/lovinganfield_UCSD_BigData_blob_master_notebooks_weather.mapreduce_Homework-202.ipynb\n",
        "https://raw.githubusercontent.com/74s0nf/bigdata_hw2/master/hw2.ipynb"
       ]
      },
      {
       "output_type": "stream",
       "stream": "stdout",
       "text": [
        " \n",
        ">>> ./notebooks/74s0nf_bigdata_hw2_blob_master_hw2.ipynb\n",
        "https://raw.githubusercontent.com/lge88/UCSD_BigData/master/notebooks/lge-hw2/nb_mr_weather.ipynb"
       ]
      },
      {
       "output_type": "stream",
       "stream": "stdout",
       "text": [
        " \n",
        ">>> ./notebooks/lge88_UCSD_BigData_blob_master_notebooks_lge-hw2_nb_mr_weather.ipynb\n",
        "https://raw.githubusercontent.com/lvzaihefang/UCSD_BigData/master/notebooks/weather.mapreduce/Initial%20Analysis%20and%20Filtering%20of%20the%20Raw%20Weather%20Data.ipynb"
       ]
      },
      {
       "output_type": "stream",
       "stream": "stdout",
       "text": [
        " \n",
        ">>> ./notebooks/lvzaihefang_UCSD_BigData_blob_master_notebooks_weather.mapreduce_Initial-20Analysis-20and-20Filtering-20of-20the-20Raw-20Weather-20Data.ipynb\n",
        "https://raw.githubusercontent.com/lvzaihefang/UCSD_BigData/master/notebooks/weather.mapreduce/PCA%20Analysis%20and%20Group%20Merging.ipynb"
       ]
      },
      {
       "output_type": "stream",
       "stream": "stdout",
       "text": [
        " \n",
        ">>> ./notebooks/lvzaihefang_UCSD_BigData_blob_master_notebooks_weather.mapreduce_PCA-20Analysis-20and-20Group-20Merging.ipynb\n",
        "https://raw.githubusercontent.com/suvir/UCSD_BigData/master/notebooks/HW2/Exploratory%20Data%20Analysis.ipynb"
       ]
      },
      {
       "output_type": "stream",
       "stream": "stdout",
       "text": [
        " \n",
        ">>> ./notebooks/suvir_UCSD_BigData_blob_master_notebooks_HW2_Exploratory-20Data-20Analysis.ipynb\n",
        "https://raw.githubusercontent.com/suvir/UCSD_BigData/master/notebooks/HW2/Heirarchical%20Partitioning.ipynb"
       ]
      },
      {
       "output_type": "stream",
       "stream": "stdout",
       "text": [
        " \n",
        ">>> ./notebooks/suvir_UCSD_BigData_blob_master_notebooks_HW2_Heirarchical-20Partitioning.ipynb\n",
        "https://raw.githubusercontent.com/suvir/UCSD_BigData/master/notebooks/HW2/PCA.ipynb"
       ]
      },
      {
       "output_type": "stream",
       "stream": "stdout",
       "text": [
        " \n",
        ">>> ./notebooks/suvir_UCSD_BigData_blob_master_notebooks_HW2_PCA.ipynb\n",
        "https://raw.githubusercontent.com/woerns/UCSD_BigData/master/notebooks/weather.mapreduce/weather_analysis_mapreduce.ipynb"
       ]
      },
      {
       "output_type": "stream",
       "stream": "stdout",
       "text": [
        " \n",
        ">>> ./notebooks/woerns_UCSD_BigData_blob_master_notebooks_weather.mapreduce_weather_analysis_mapreduce.ipynb\n",
        "https://raw.githubusercontent.com/woerns/UCSD_BigData/master/notebooks/weather.mapreduce/weather_analysis_partitioning.ipynb"
       ]
      },
      {
       "output_type": "stream",
       "stream": "stdout",
       "text": [
        " \n",
        ">>> ./notebooks/woerns_UCSD_BigData_blob_master_notebooks_weather.mapreduce_weather_analysis_partitioning.ipynb\n",
        "https://raw.githubusercontent.com/woerns/UCSD_BigData/master/notebooks/weather.mapreduce/weather_analysis_pca.ipynb"
       ]
      },
      {
       "output_type": "stream",
       "stream": "stdout",
       "text": [
        " \n",
        ">>> ./notebooks/woerns_UCSD_BigData_blob_master_notebooks_weather.mapreduce_weather_analysis_pca.ipynb\n",
        "https://raw.githubusercontent.com/woerns/UCSD_BigData/master/notebooks/weather.mapreduce/weather_analysis_merging.ipynb"
       ]
      },
      {
       "output_type": "stream",
       "stream": "stdout",
       "text": [
        " \n",
        ">>> ./notebooks/woerns_UCSD_BigData_blob_master_notebooks_weather.mapreduce_weather_analysis_merging.ipynb\n",
        "https://raw.githubusercontent.com/intermilan/UCSD_BigData/master/notebooks/weather.mapreduce/01_Filter_Data.ipynb"
       ]
      },
      {
       "output_type": "stream",
       "stream": "stdout",
       "text": [
        " \n",
        ">>> ./notebooks/intermilan_UCSD_BigData_blob_master_notebooks_weather.mapreduce_01_Filter_Data.ipynb\n",
        "https://raw.githubusercontent.com/intermilan/UCSD_BigData/master/notebooks/weather.mapreduce/02_Weight_Partition.ipynb"
       ]
      },
      {
       "output_type": "stream",
       "stream": "stdout",
       "text": [
        " \n",
        ">>> ./notebooks/intermilan_UCSD_BigData_blob_master_notebooks_weather.mapreduce_02_Weight_Partition.ipynb\n",
        "https://raw.githubusercontent.com/intermilan/UCSD_BigData/master/notebooks/weather.mapreduce/03_PCA.ipynb"
       ]
      },
      {
       "output_type": "stream",
       "stream": "stdout",
       "text": [
        " \n",
        ">>> ./notebooks/intermilan_UCSD_BigData_blob_master_notebooks_weather.mapreduce_03_PCA.ipynb\n",
        "https://raw.githubusercontent.com/intermilan/UCSD_BigData/master/notebooks/weather.mapreduce/04_Merge.ipynb"
       ]
      },
      {
       "output_type": "stream",
       "stream": "stdout",
       "text": [
        " \n",
        ">>> ./notebooks/intermilan_UCSD_BigData_blob_master_notebooks_weather.mapreduce_04_Merge.ipynb\n",
        "https://raw.githubusercontent.com/stream101/UCSD_BigData/master/notebooks/weather.mapreduce/HW2-DataPartitioning.ipynb"
       ]
      },
      {
       "output_type": "stream",
       "stream": "stdout",
       "text": [
        " \n",
        ">>> ./notebooks/stream101_UCSD_BigData_blob_master_notebooks_weather.mapreduce_HW2-DataPartitioning.ipynb\n",
        "https://raw.githubusercontent.com/stream101/UCSD_BigData/master/notebooks/weather.mapreduce/HW2-MRjobPCA.ipynb"
       ]
      },
      {
       "output_type": "stream",
       "stream": "stdout",
       "text": [
        " \n",
        ">>> ./notebooks/stream101_UCSD_BigData_blob_master_notebooks_weather.mapreduce_HW2-MRjobPCA.ipynb\n",
        "https://raw.githubusercontent.com/mckgamer/UCSD_BigData/master/notebooks/weather.mapreduce/HW2%20Weather.ipynb#"
       ]
      },
      {
       "output_type": "stream",
       "stream": "stdout",
       "text": [
        " \n",
        ">>> ./notebooks/mckgamer_UCSD_BigData_blob_master_notebooks_weather.mapreduce_HW2-20Weather.ipynb#\n",
        "https://raw.githubusercontent.com/vineelpratap/UCSD_BigData/master/notebooks/weather_analysis.ipynb"
       ]
      },
      {
       "output_type": "stream",
       "stream": "stdout",
       "text": [
        " \n",
        ">>> ./notebooks/vineelpratap_UCSD_BigData_blob_master_notebooks_weather_analysis.ipynb\n",
        "failed to download"
       ]
      },
      {
       "output_type": "stream",
       "stream": "stdout",
       "text": [
        " https://raw.githubusercontent.com/vineelpratap/UCSD_BigData/master/notebooks/weather_analysis.ipynb\n",
        "HTTP Error 404: Not Found\n",
        "https://raw.githubusercontent.com/zeynepsu/UCSD_BigData/master/notebooks/weather.mapreduce/Prepare%20Weights.ipynb \n",
        ">>> ./notebooks/zeynepsu_UCSD_BigData_blob_master_notebooks_weather.mapreduce_Prepare-20Weights.ipynb\n",
        "https://raw.githubusercontent.com/zeynepsu/UCSD_BigData/master/notebooks/weather.mapreduce/Partition%20Stations.ipynb"
       ]
      },
      {
       "output_type": "stream",
       "stream": "stdout",
       "text": [
        " \n",
        ">>> ./notebooks/zeynepsu_UCSD_BigData_blob_master_notebooks_weather.mapreduce_Partition-20Stations.ipynb\n",
        "https://raw.githubusercontent.com/zeynepsu/UCSD_BigData/master/notebooks/weather.mapreduce/Computations%20on%20Data.ipynb"
       ]
      },
      {
       "output_type": "stream",
       "stream": "stdout",
       "text": [
        " \n",
        ">>> ./notebooks/zeynepsu_UCSD_BigData_blob_master_notebooks_weather.mapreduce_Computations-20on-20Data.ipynb\n",
        "https://raw.githubusercontent.com/dlisuk/UCSD_BigData/master/notebooks/hw2/HW2%20Main.ipynb"
       ]
      },
      {
       "output_type": "stream",
       "stream": "stdout",
       "text": [
        " \n",
        ">>> ./notebooks/dlisuk_UCSD_BigData_blob_master_notebooks_hw2_HW2-20Main.ipynb\n",
        "https://raw.githubusercontent.com/dlisuk/UCSD_BigData/master/notebooks/hw2/Map%20Reduce%20Jobs.ipynb"
       ]
      },
      {
       "output_type": "stream",
       "stream": "stdout",
       "text": [
        " \n",
        ">>> ./notebooks/dlisuk_UCSD_BigData_blob_master_notebooks_hw2_Map-20Reduce-20Jobs.ipynb\n",
        "https://raw.githubusercontent.com/nimning/UCSD_BigData/master/notebooks/weather.mapreduce/Description%20of%20Assignment.ipynb"
       ]
      },
      {
       "output_type": "stream",
       "stream": "stdout",
       "text": [
        " \n",
        ">>> ./notebooks/nimning_UCSD_BigData_blob_master_notebooks_weather.mapreduce_Description-20of-20Assignment.ipynb\n",
        "https://raw.githubusercontent.com/pranaykumarm/UCSD_BigData/master/notebooks/weather.mapreduce/Hierarchical%20Partitioning%20%26%20Analysis.ipynb"
       ]
      },
      {
       "output_type": "stream",
       "stream": "stdout",
       "text": [
        " \n",
        ">>> ./notebooks/pranaykumarm_UCSD_BigData_blob_master_notebooks_weather.mapreduce_Hierarchical-20Partitioning-20-26-20Analysis.ipynb\n",
        "https://raw.githubusercontent.com/shenzhimo/UCSD_BigData/master/notebooks/weather.mapreduce/assignment2.ipynb"
       ]
      },
      {
       "output_type": "stream",
       "stream": "stdout",
       "text": [
        " \n",
        ">>> ./notebooks/shenzhimo_UCSD_BigData_blob_master_notebooks_weather.mapreduce_assignment2.ipynb\n",
        "https://raw.githubusercontent.com/skritika/UCSD_BigData/master/notebooks/weather.mapreduce/HW2.ipynb"
       ]
      },
      {
       "output_type": "stream",
       "stream": "stdout",
       "text": [
        " \n",
        ">>> ./notebooks/skritika_UCSD_BigData_blob_master_notebooks_weather.mapreduce_HW2.ipynb\n",
        "https://raw.githubusercontent.com/skritika/UCSD_BigData/master/notebooks/weather.mapreduce/Hierarchical%20Partitioning.ipynb"
       ]
      },
      {
       "output_type": "stream",
       "stream": "stdout",
       "text": [
        " \n",
        ">>> ./notebooks/skritika_UCSD_BigData_blob_master_notebooks_weather.mapreduce_Hierarchical-20Partitioning.ipynb\n",
        "https://raw.githubusercontent.com/skritika/UCSD_BigData/master/notebooks/weather.mapreduce/Clustering.ipynb"
       ]
      },
      {
       "output_type": "stream",
       "stream": "stdout",
       "text": [
        " \n",
        ">>> ./notebooks/skritika_UCSD_BigData_blob_master_notebooks_weather.mapreduce_Clustering.ipynb\n",
        "https://raw.githubusercontent.com/nonlogic/UCSD_BigData/master/notebooks/weather.mapreduce/Homework%202.ipynb"
       ]
      },
      {
       "output_type": "stream",
       "stream": "stdout",
       "text": [
        " \n",
        ">>> ./notebooks/nonlogic_UCSD_BigData_blob_master_notebooks_weather.mapreduce_Homework-202.ipynb\n",
        "https://raw.githubusercontent.com/panagosg7/UCSD_BigData/master/notebooks/weather.mapreduce/00_Intro.ipynb"
       ]
      },
      {
       "output_type": "stream",
       "stream": "stdout",
       "text": [
        " \n",
        ">>> ./notebooks/panagosg7_UCSD_BigData_blob_master_notebooks_weather.mapreduce_00_Intro.ipynb\n",
        "https://raw.githubusercontent.com/panagosg7/UCSD_BigData/master/notebooks/weather.mapreduce/01_Station_Weights.ipynb"
       ]
      },
      {
       "output_type": "stream",
       "stream": "stdout",
       "text": [
        " \n",
        ">>> ./notebooks/panagosg7_UCSD_BigData_blob_master_notebooks_weather.mapreduce_01_Station_Weights.ipynb\n",
        "https://raw.githubusercontent.com/panagosg7/UCSD_BigData/master/notebooks/weather.mapreduce/02_Hierarchical_Indexing.ipynb"
       ]
      },
      {
       "output_type": "stream",
       "stream": "stdout",
       "text": [
        " \n",
        ">>> ./notebooks/panagosg7_UCSD_BigData_blob_master_notebooks_weather.mapreduce_02_Hierarchical_Indexing.ipynb\n",
        "https://raw.githubusercontent.com/panagosg7/UCSD_BigData/master/notebooks/weather.mapreduce/03_PCA.ipynb"
       ]
      },
      {
       "output_type": "stream",
       "stream": "stdout",
       "text": [
        " \n",
        ">>> ./notebooks/panagosg7_UCSD_BigData_blob_master_notebooks_weather.mapreduce_03_PCA.ipynb\n",
        "https://raw.githubusercontent.com/panagosg7/UCSD_BigData/master/notebooks/weather.mapreduce/04_Main.ipynb"
       ]
      },
      {
       "output_type": "stream",
       "stream": "stdout",
       "text": [
        " \n",
        ">>> ./notebooks/panagosg7_UCSD_BigData_blob_master_notebooks_weather.mapreduce_04_Main.ipynb\n",
        "https://raw.githubusercontent.com/wchuan/UCSD_BigData/master/notebooks/weather.mapreduce/%5BHW2%5D%20Weather%20Map%20reduce.ipynb"
       ]
      },
      {
       "output_type": "stream",
       "stream": "stdout",
       "text": [
        " \n",
        ">>> ./notebooks/wchuan_UCSD_BigData_blob_master_notebooks_weather.mapreduce_-5BHW2-5D-20Weather-20Map-20reduce.ipynb\n",
        "https://raw.githubusercontent.com/feiyu1990/UCSD_BigData/master/notebooks/weather.mapreduce/my_hw.ipynb"
       ]
      },
      {
       "output_type": "stream",
       "stream": "stdout",
       "text": [
        " \n",
        ">>> ./notebooks/feiyu1990_UCSD_BigData_blob_master_notebooks_weather.mapreduce_my_hw.ipynb\n",
        "https://raw.githubusercontent.com/feiyu1990/UCSD_BigData/master/notebooks/weather.mapreduce/my_hw2.ipynb"
       ]
      },
      {
       "output_type": "stream",
       "stream": "stdout",
       "text": [
        " \n",
        ">>> ./notebooks/feiyu1990_UCSD_BigData_blob_master_notebooks_weather.mapreduce_my_hw2.ipynb\n",
        "https://raw.githubusercontent.com/feiyu1990/UCSD_BigData/master/notebooks/weather.mapreduce/my_hw3.ipynb"
       ]
      },
      {
       "output_type": "stream",
       "stream": "stdout",
       "text": [
        " \n",
        ">>> ./notebooks/feiyu1990_UCSD_BigData_blob_master_notebooks_weather.mapreduce_my_hw3.ipynb\n",
        "https://raw.githubusercontent.com/w2wei/UCSD_BigData/master/notebooks/weather.mapreduce/Data%20preparation.ipynb"
       ]
      },
      {
       "output_type": "stream",
       "stream": "stdout",
       "text": [
        " \n",
        ">>> ./notebooks/w2wei_UCSD_BigData_blob_master_notebooks_weather.mapreduce_Data-20preparation.ipynb\n",
        "https://raw.githubusercontent.com/w2wei/UCSD_BigData/master/notebooks/weather.mapreduce/PCA.ipynb"
       ]
      },
      {
       "output_type": "stream",
       "stream": "stdout",
       "text": [
        " \n",
        ">>> ./notebooks/w2wei_UCSD_BigData_blob_master_notebooks_weather.mapreduce_PCA.ipynb\n",
        "https://raw.githubusercontent.com/w2wei/UCSD_BigData/master/notebooks/weather.mapreduce/MergingNodes.ipynb"
       ]
      },
      {
       "output_type": "stream",
       "stream": "stdout",
       "text": [
        " \n",
        ">>> ./notebooks/w2wei_UCSD_BigData_blob_master_notebooks_weather.mapreduce_MergingNodes.ipynb\n",
        "https://raw.githubusercontent.com/jwenth47/UCSD_BigData/master/notebooks/weather.mapreduce/Jiayi_Wen-Test_on_small_data.ipynb"
       ]
      },
      {
       "output_type": "stream",
       "stream": "stdout",
       "text": [
        " \n",
        ">>> ./notebooks/jwenth47_UCSD_BigData_blob_master_notebooks_weather.mapreduce_Jiayi_Wen-Test_on_small_data.ipynb\n",
        "https://raw.githubusercontent.com/jwenth47/UCSD_BigData/master/notebooks/weather.mapreduce/Jiayi_Wen_try_Large.ipynb"
       ]
      },
      {
       "output_type": "stream",
       "stream": "stdout",
       "text": [
        " \n",
        ">>> ./notebooks/jwenth47_UCSD_BigData_blob_master_notebooks_weather.mapreduce_Jiayi_Wen_try_Large.ipynb\n",
        "https://raw.githubusercontent.com/s9xie/291_HW2/master/homework2.ipynb"
       ]
      },
      {
       "output_type": "stream",
       "stream": "stdout",
       "text": [
        " \n",
        ">>> ./notebooks/s9xie_291_HW2_blob_master_homework2.ipynb\n",
        "https://raw.githubusercontent.com/semihyavuzz/UCSD_BigData/master/notebooks/weather.mapreduce/Station_Weights_Calculation.ipynb"
       ]
      },
      {
       "output_type": "stream",
       "stream": "stdout",
       "text": [
        " \n",
        ">>> ./notebooks/semihyavuzz_UCSD_BigData_blob_master_notebooks_weather.mapreduce_Station_Weights_Calculation.ipynb\n",
        "https://raw.githubusercontent.com/semihyavuzz/UCSD_BigData/master/notebooks/weather.mapreduce/Stations_Data_with_Weights.ipynb"
       ]
      },
      {
       "output_type": "stream",
       "stream": "stdout",
       "text": [
        " \n",
        ">>> ./notebooks/semihyavuzz_UCSD_BigData_blob_master_notebooks_weather.mapreduce_Stations_Data_with_Weights.ipynb\n",
        "https://raw.githubusercontent.com/semihyavuzz/UCSD_BigData/master/notebooks/weather.mapreduce/Hierarchical_Partitioning.ipynb"
       ]
      },
      {
       "output_type": "stream",
       "stream": "stdout",
       "text": [
        " \n",
        ">>> ./notebooks/semihyavuzz_UCSD_BigData_blob_master_notebooks_weather.mapreduce_Hierarchical_Partitioning.ipynb\n",
        "https://raw.githubusercontent.com/yejingxin/UCSD_BigData/master/homework/hw2/0.Background.ipynb"
       ]
      },
      {
       "output_type": "stream",
       "stream": "stdout",
       "text": [
        " \n",
        ">>> ./notebooks/yejingxin_UCSD_BigData_blob_master_homework_hw2_0.Background.ipynb\n",
        "https://raw.githubusercontent.com/yejingxin/UCSD_BigData/master/homework/hw2/1.Count_measurement.ipynb"
       ]
      },
      {
       "output_type": "stream",
       "stream": "stdout",
       "text": [
        " \n",
        ">>> ./notebooks/yejingxin_UCSD_BigData_blob_master_homework_hw2_1.Count_measurement.ipynb\n",
        "https://raw.githubusercontent.com/yejingxin/UCSD_BigData/master/homework/hw2/2.Dist2coast.ipynb"
       ]
      },
      {
       "output_type": "stream",
       "stream": "stdout",
       "text": [
        " \n",
        ">>> ./notebooks/yejingxin_UCSD_BigData_blob_master_homework_hw2_2.Dist2coast.ipynb\n",
        "https://raw.githubusercontent.com/yejingxin/UCSD_BigData/master/homework/hw2/3.Partition.ipynb"
       ]
      },
      {
       "output_type": "stream",
       "stream": "stdout",
       "text": [
        " \n",
        ">>> ./notebooks/yejingxin_UCSD_BigData_blob_master_homework_hw2_3.Partition.ipynb\n",
        "https://raw.githubusercontent.com/yejingxin/UCSD_BigData/master/homework/hw2/4.PCA.ipynb"
       ]
      },
      {
       "output_type": "stream",
       "stream": "stdout",
       "text": [
        " \n",
        ">>> ./notebooks/yejingxin_UCSD_BigData_blob_master_homework_hw2_4.PCA.ipynb\n",
        "https://raw.githubusercontent.com/czarifis/UCSD_BigData/master/notebooks/weather.mapreduce/HWPart1.ipynb"
       ]
      },
      {
       "output_type": "stream",
       "stream": "stdout",
       "text": [
        " \n",
        ">>> ./notebooks/czarifis_UCSD_BigData_blob_master_notebooks_weather.mapreduce_HWPart1.ipynb\n",
        "https://raw.githubusercontent.com/czarifis/UCSD_BigData/master/notebooks/weather.mapreduce/HWPart2.ipynb"
       ]
      },
      {
       "output_type": "stream",
       "stream": "stdout",
       "text": [
        " \n",
        ">>> ./notebooks/czarifis_UCSD_BigData_blob_master_notebooks_weather.mapreduce_HWPart2.ipynb\n",
        "https://raw.githubusercontent.com/czarifis/UCSD_BigData/master/notebooks/weather.mapreduce/HWPart2UsingShapefiles.ipynb"
       ]
      },
      {
       "output_type": "stream",
       "stream": "stdout",
       "text": [
        " \n",
        ">>> ./notebooks/czarifis_UCSD_BigData_blob_master_notebooks_weather.mapreduce_HWPart2UsingShapefiles.ipynb\n",
        "https://raw.githubusercontent.com/czarifis/UCSD_BigData/master/notebooks/weather.mapreduce/HWPart2GroupByElevation.ipynb"
       ]
      },
      {
       "output_type": "stream",
       "stream": "stdout",
       "text": [
        " \n",
        ">>> ./notebooks/czarifis_UCSD_BigData_blob_master_notebooks_weather.mapreduce_HWPart2GroupByElevation.ipynb\n",
        "https://raw.githubusercontent.com/zhpSweden/data/master/Intro_Analysis.ipynb"
       ]
      },
      {
       "output_type": "stream",
       "stream": "stdout",
       "text": [
        " \n",
        ">>> ./notebooks/zhpSweden_data_blob_master_Intro_Analysis.ipynb\n",
        "https://raw.githubusercontent.com/zhpSweden/data/master/Main%20Analysis.ipynb"
       ]
      },
      {
       "output_type": "stream",
       "stream": "stdout",
       "text": [
        " \n",
        ">>> ./notebooks/zhpSweden_data_blob_master_Main-20Analysis.ipynb\n",
        "https://raw.githubusercontent.com/zhpSweden/data/master/Branch_Just_Filter_Data.ipynb"
       ]
      },
      {
       "output_type": "stream",
       "stream": "stdout",
       "text": [
        " \n",
        ">>> ./notebooks/zhpSweden_data_blob_master_Branch_Just_Filter_Data.ipynb\n",
        "https://raw.githubusercontent.com/JiapengZhang/UCSD_BigData/master/notebooks/weather.mapreduce/Test_on_big_data.ipynb?create=1"
       ]
      },
      {
       "output_type": "stream",
       "stream": "stdout",
       "text": [
        " \n",
        ">>> ./notebooks/JiapengZhang_UCSD_BigData_blob_master_notebooks_weather.mapreduce_Test_on_big_data.ipynb?create=1\n",
        "https://raw.githubusercontent.com/JiapengZhang/UCSD_BigData/master/notebooks/weather.mapreduce/Test_on_small_data.ipynb?create=1"
       ]
      },
      {
       "output_type": "stream",
       "stream": "stdout",
       "text": [
        " \n",
        ">>> ./notebooks/JiapengZhang_UCSD_BigData_blob_master_notebooks_weather.mapreduce_Test_on_small_data.ipynb?create=1\n",
        "https://raw.githubusercontent.com/elgehelge/UCSD_BigData/master/notebooks/weather.mapreduce/HW2/Modelling%20geospatial%20weather%20data%20using%20MapReduce%20-%20291%20Big%20Data%20Analysis%20-%20HW2%20-%20Helge%20Munk%20Jacobsen.ipynb"
       ]
      },
      {
       "output_type": "stream",
       "stream": "stdout",
       "text": [
        " \n",
        ">>> ./notebooks/elgehelge_UCSD_BigData_blob_master_notebooks_weather.mapreduce_HW2_Modelling-20geospatial-20weather-20data-20using-20MapReduce-20--20291-20Big-20Data-20Analysis-20--20HW2-20--20Helge-20Munk-20Jacobsen.ipynb\n"
       ]
      }
     ],
     "prompt_number": 54
    },
    {
     "cell_type": "code",
     "collapsed": false,
     "input": [
      "import os\n",
      "os.getcwd()"
     ],
     "language": "python",
     "metadata": {},
     "outputs": [
      {
       "metadata": {},
       "output_type": "pyout",
       "prompt_number": 41,
       "text": [
        "'/Users/yoavfreund/academic.papers/Courses/BigDataAnalytics/HWs&Projects/2014.HW2'"
       ]
      }
     ],
     "prompt_number": 41
    },
    {
     "cell_type": "code",
     "collapsed": false,
     "input": [
      "!ls notebooks/"
     ],
     "language": "python",
     "metadata": {},
     "outputs": [
      {
       "output_type": "stream",
       "stream": "stdout",
       "text": [
        "HW2Submissions.html\r\n",
        "_dennis910130_UCSD_BigData_blob_master_notebooks_weather.mapreduce_Step1.Count-20valid-20years.ipynb\r\n",
        "dennis910130_UCSD_BigData_blob_master_notebooks_weather.mapreduce_Step1.Count-20valid-20years.ipynb\r\n"
       ]
      }
     ],
     "prompt_number": 49
    },
    {
     "cell_type": "code",
     "collapsed": false,
     "input": [
      "!ls notebooks"
     ],
     "language": "python",
     "metadata": {},
     "outputs": [
      {
       "output_type": "stream",
       "stream": "stdout",
       "text": [
        "_dennis910130_UCSD_BigData_blob_master_notebooks_weather.mapreduce_Step1.Count-20valid-20years.ipynb\r\n",
        "dennis910130_UCSD_BigData_blob_master_notebooks_weather.mapreduce_Step1.Count-20valid-20years.ipynb\r\n"
       ]
      }
     ],
     "prompt_number": 43
    },
    {
     "cell_type": "code",
     "collapsed": false,
     "input": [
      "filename"
     ],
     "language": "python",
     "metadata": {},
     "outputs": [
      {
       "metadata": {},
       "output_type": "pyout",
       "prompt_number": 32,
       "text": [
        "'./notebooks/dennis910130/UCSD_BigData/blob/master/notebooks/weather.mapreduce/Step1.Count%20valid%20years.ipynb'"
       ]
      }
     ],
     "prompt_number": 32
    },
    {
     "cell_type": "code",
     "collapsed": false,
     "input": [
      "filename.replace('/','_').replace('%','-')"
     ],
     "language": "python",
     "metadata": {},
     "outputs": [
      {
       "metadata": {},
       "output_type": "pyout",
       "prompt_number": 34,
       "text": [
        "'._notebooks_dennis910130_UCSD_BigData_blob_master_notebooks_weather.mapreduce_Step1.Count-20valid-20years.ipynb'"
       ]
      }
     ],
     "prompt_number": 34
    },
    {
     "cell_type": "code",
     "collapsed": false,
     "input": [
      "good='https://raw.githubusercontent.com/dennis910130/UCSD_BigData/master/notebooks/weather.mapreduce/Step1.Count%20valid%20years.ipynb'\n",
      "bad='https://raw.githubusercontent.com/dennis910130/UCSD_BigData/blob/master/notebooks/weather.mapreduce/Step1.Count%20valid%20years.ipynb' "
     ],
     "language": "python",
     "metadata": {},
     "outputs": []
    }
   ],
   "metadata": {}
  }
 ]
}