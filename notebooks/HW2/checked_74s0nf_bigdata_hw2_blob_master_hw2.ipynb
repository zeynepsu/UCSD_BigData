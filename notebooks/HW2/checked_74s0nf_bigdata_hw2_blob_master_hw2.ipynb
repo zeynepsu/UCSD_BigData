{
 "metadata": {
  "name": "",
  "signature": "sha256:2f588d849599d9daa03443c69bcf3f653019270e7d6328a1be4720c5521afcc2"
 },
 "nbformat": 3,
 "nbformat_minor": 0,
 "worksheets": [
  {
   "cells": [
    {
     "cell_type": "code",
     "collapsed": false,
     "input": [
      "import pandas as pd\n",
      "import numpy as np\n",
      "import sklearn as sk\n",
      "import pickle\n",
      "print 'pandas version: ',pd.__version__\n",
      "print 'numpy version:',np.__version__\n",
      "print 'sklearn version:',sk.__version__"
     ],
     "language": "python",
     "metadata": {},
     "outputs": [
      {
       "output_type": "stream",
       "stream": "stdout",
       "text": [
        "pandas version:  0.13.1\n",
        "numpy version: 1.8.1\n",
        "sklearn version: 0.14.1\n"
       ]
      }
     ],
     "prompt_number": 4
    },
    {
     "cell_type": "code",
     "collapsed": false,
     "input": [
      "import sys\n",
      "home_dir='/home/ubuntu/UCSD_BigData'\n",
      "sys.path.append(home_dir+'/utils')\n",
      "\n",
      "from find_waiting_flow import *\n",
      "from AWS_keypair_management import *\n",
      "\n",
      "!pwd"
     ],
     "language": "python",
     "metadata": {},
     "outputs": [
      {
       "output_type": "stream",
       "stream": "stdout",
       "text": [
        "/home/ubuntu/UCSD_BigData/notebooks/weather.mapreduce\r\n"
       ]
      }
     ],
     "prompt_number": 5
    },
    {
     "cell_type": "markdown",
     "metadata": {},
     "source": [
      "## managing AWS Credentials ##\n",
      "It can get confusing with the AWS credentials. So I created a few new scripts that should make the\n",
      "process easier and error-free.\n",
      "\n",
      "Before continuing, you need to get the credentials from AWS by using the IAM console.\n",
      "\n",
      "The credentials are downloaded into files with names such as credentials.csv, credentials (2).csv etc.\n",
      "\n",
      "The LaunchNotebookServer.py script has a command that can help you get these files to your EC2 instance,\n",
      "the option you need is -A and it is used as\n",
      "* `LaunchNotebookServer.py -A ~/Downloads/credentials\\*.csv`\n",
      "\n",
      "The `\\*`, rather than `*` is intentional.\n",
      "\n",
      "The files will be copied through `scp` to the directory `\\home\\ubuntu\\Vault ` on your ec2 instance.\n",
      "\n",
      "You can then run the following command that will read through the files and check which of the credentials is active. It will then\n",
      "generate a dictionary `Cred` that holds all of the key pairs that are currently active.\n",
      "\n",
      "In the following cells all of your secret pairs are printed out. Make sure that the cell output is deleted before you commit it to version to github."
     ]
    },
    {
     "cell_type": "heading",
     "level": 4,
     "metadata": {},
     "source": [
      "comment out on purpose"
     ]
    },
    {
     "cell_type": "code",
     "collapsed": false,
     "input": [
      "# creds = pickle.load(open('/home/ubuntu/Vault/Creds.pkl'))\n",
      "# config = creds['mrjob']\n",
      "\n",
      "# key_id = config['key_id']\n",
      "# secret_key = config['secret_key']\n",
      "# s3_bucket = config['s3_logs']\n",
      "# s3_scratch= config['s3_scratch']\n",
      "\n",
      "# print config\n",
      "# print key_id\n",
      "# print secret_key\n",
      "# print s3_bucket\n",
      "# print s3_scratch"
     ],
     "language": "python",
     "metadata": {},
     "outputs": [],
     "prompt_number": 41
    },
    {
     "cell_type": "code",
     "collapsed": false,
     "input": [
      "def get_job_flow_id():\n",
      "    job_flow_id=find_waiting_flow(key_id,secret_key)\n",
      "    return job_flow_id\n",
      "\n",
      "# get_job_flow_id()\n",
      "DEBUG = True # if debug == true, remove all existing files, and regenerate"
     ],
     "language": "python",
     "metadata": {},
     "outputs": [],
     "prompt_number": 8
    },
    {
     "cell_type": "markdown",
     "metadata": {},
     "source": [
      "## using map-reduce to calculate the total number of measurements for each station, later use this as weight##"
     ]
    },
    {
     "cell_type": "code",
     "collapsed": false,
     "input": [
      "%%writefile totalNumber.py\n",
      "\n",
      "from mrjob.job import MRJob\n",
      "\n",
      "class totalNumberOfStations(MRJob):\n",
      "    def mapper(self, _, line):\n",
      "        self.increment_counter('MrJob Counters','mapper',1)\n",
      "        elements=line.split(',')\n",
      "        if len(elements) != 368:\n",
      "            yield 'corrupted data', 1\n",
      "        else:\n",
      "            yield 'useful data', 1\n",
      "            yield(elements[0],1)\n",
      "            \n",
      "    def combiner(self, key, counts):\n",
      "        self.increment_counter('MrJob Counters','combiner',1)\n",
      "        yield key, sum(counts)\n",
      "\n",
      "    def reducer(self, key, counts):\n",
      "        self.increment_counter('MrJob Counters','reducer',1)\n",
      "        yield key, sum(counts)\n",
      "\n",
      "if __name__ == '__main__':\n",
      "    totalNumberOfStations.run()"
     ],
     "language": "python",
     "metadata": {},
     "outputs": [
      {
       "output_type": "stream",
       "stream": "stdout",
       "text": [
        "Overwriting totalNumber.py\n"
       ]
      }
     ],
     "prompt_number": 9
    },
    {
     "cell_type": "code",
     "collapsed": false,
     "input": [
      "# try to run this job on local machien\n",
      "import os\n",
      "if not os.path.exists(\"all_station_count\"):\n",
      "    !python totalNumber.py -r emr --emr-job-flow-id=$job_flow_id hdfs:/weather/weather.csv > all_station_count"
     ],
     "language": "python",
     "metadata": {},
     "outputs": [],
     "prompt_number": 11
    },
    {
     "cell_type": "code",
     "collapsed": false,
     "input": [
      "!head -10 all_station_count"
     ],
     "language": "python",
     "metadata": {},
     "outputs": [
      {
       "output_type": "stream",
       "stream": "stdout",
       "text": [
        "\"AJ000037668\"\t28\r\n",
        "\"AJ000037679\"\t29\r\n",
        "\"AJ000037734\"\t56\r\n",
        "\"AJ000037756\"\t105\r\n",
        "\"AJ000037844\"\t110\r\n",
        "\"AJ000037866\"\t85\r\n",
        "\"AJ000037888\"\t27\r\n",
        "\"AJ000037899\"\t94\r\n",
        "\"AJ000037907\"\t154\r\n",
        "\"AM000037627\"\t52\r\n"
       ]
      }
     ],
     "prompt_number": 8
    },
    {
     "cell_type": "code",
     "collapsed": false,
     "input": [
      "import os,sys,re,pickle,coding\n",
      "from numpy import *\n",
      "\n",
      "!gunzip stations.pkl.gz\n",
      "stations=pickle.load(open(\"stations.pkl\", 'rb'))\n",
      "!gzip stations.pkl\n",
      "\n",
      "stations.shape\n",
      "type(stations)"
     ],
     "language": "python",
     "metadata": {},
     "outputs": [
      {
       "metadata": {},
       "output_type": "pyout",
       "prompt_number": 21,
       "text": [
        "pandas.core.frame.DataFrame"
       ]
      }
     ],
     "prompt_number": 21
    },
    {
     "cell_type": "code",
     "collapsed": false,
     "input": [
      "stations.head()"
     ],
     "language": "python",
     "metadata": {},
     "outputs": [
      {
       "html": [
        "<div style=\"max-height:1000px;max-width:1500px;overflow:auto;\">\n",
        "<table border=\"1\" class=\"dataframe\">\n",
        "  <thead>\n",
        "    <tr style=\"text-align: right;\">\n",
        "      <th></th>\n",
        "      <th>latitude</th>\n",
        "      <th>longitude</th>\n",
        "      <th>elevation</th>\n",
        "      <th>state</th>\n",
        "      <th>name</th>\n",
        "      <th>GSNFLAG</th>\n",
        "      <th>HCNFLAG</th>\n",
        "      <th>WMOID</th>\n",
        "    </tr>\n",
        "  </thead>\n",
        "  <tbody>\n",
        "    <tr>\n",
        "      <th>ACW00011604</th>\n",
        "      <td> 17.1167</td>\n",
        "      <td>-61.7833</td>\n",
        "      <td>   10.1</td>\n",
        "      <td> NaN</td>\n",
        "      <td> ST JOHNS COOLIDGE FLD</td>\n",
        "      <td> NaN</td>\n",
        "      <td> NaN</td>\n",
        "      <td>   NaN</td>\n",
        "    </tr>\n",
        "    <tr>\n",
        "      <th>ACW00011647</th>\n",
        "      <td> 17.1333</td>\n",
        "      <td>-61.7833</td>\n",
        "      <td>   19.2</td>\n",
        "      <td> NaN</td>\n",
        "      <td>              ST JOHNS</td>\n",
        "      <td> NaN</td>\n",
        "      <td> NaN</td>\n",
        "      <td>   NaN</td>\n",
        "    </tr>\n",
        "    <tr>\n",
        "      <th>AE000041196</th>\n",
        "      <td> 25.3330</td>\n",
        "      <td> 55.5170</td>\n",
        "      <td>   34.0</td>\n",
        "      <td> NaN</td>\n",
        "      <td>   SHARJAH INTER. AIRP</td>\n",
        "      <td> GSN</td>\n",
        "      <td> NaN</td>\n",
        "      <td> 41196</td>\n",
        "    </tr>\n",
        "    <tr>\n",
        "      <th>AF000040930</th>\n",
        "      <td> 35.3170</td>\n",
        "      <td> 69.0170</td>\n",
        "      <td> 3366.0</td>\n",
        "      <td> NaN</td>\n",
        "      <td>          NORTH-SALANG</td>\n",
        "      <td> GSN</td>\n",
        "      <td> NaN</td>\n",
        "      <td> 40930</td>\n",
        "    </tr>\n",
        "    <tr>\n",
        "      <th>AG000060390</th>\n",
        "      <td> 36.7167</td>\n",
        "      <td>  3.2500</td>\n",
        "      <td>   24.0</td>\n",
        "      <td> NaN</td>\n",
        "      <td>    ALGER-DAR EL BEIDA</td>\n",
        "      <td> GSN</td>\n",
        "      <td> NaN</td>\n",
        "      <td> 60390</td>\n",
        "    </tr>\n",
        "  </tbody>\n",
        "</table>\n",
        "<p>5 rows \u00d7 8 columns</p>\n",
        "</div>"
       ],
       "metadata": {},
       "output_type": "pyout",
       "prompt_number": 22,
       "text": [
        "             latitude  longitude  elevation state                   name  \\\n",
        "ACW00011604   17.1167   -61.7833       10.1   NaN  ST JOHNS COOLIDGE FLD   \n",
        "ACW00011647   17.1333   -61.7833       19.2   NaN               ST JOHNS   \n",
        "AE000041196   25.3330    55.5170       34.0   NaN    SHARJAH INTER. AIRP   \n",
        "AF000040930   35.3170    69.0170     3366.0   NaN           NORTH-SALANG   \n",
        "AG000060390   36.7167     3.2500       24.0   NaN     ALGER-DAR EL BEIDA   \n",
        "\n",
        "            GSNFLAG HCNFLAG  WMOID  \n",
        "ACW00011604     NaN     NaN    NaN  \n",
        "ACW00011647     NaN     NaN    NaN  \n",
        "AE000041196     GSN     NaN  41196  \n",
        "AF000040930     GSN     NaN  40930  \n",
        "AG000060390     GSN     NaN  60390  \n",
        "\n",
        "[5 rows x 8 columns]"
       ]
      }
     ],
     "prompt_number": 22
    },
    {
     "cell_type": "code",
     "collapsed": false,
     "input": [
      "print stations.shape"
     ],
     "language": "python",
     "metadata": {},
     "outputs": [
      {
       "output_type": "stream",
       "stream": "stdout",
       "text": [
        "(85284, 8)\n"
       ]
      }
     ],
     "prompt_number": 23
    },
    {
     "cell_type": "code",
     "collapsed": false,
     "input": [
      "# experiment: how to get a single row from stations\n",
      "stations.loc['ACW00011604']\n",
      "\n",
      "var = 'ACW00011604'\n",
      "if var in stations: \n",
      "    print True\n",
      "else:\n",
      "    print False"
     ],
     "language": "python",
     "metadata": {},
     "outputs": [
      {
       "output_type": "stream",
       "stream": "stdout",
       "text": [
        "False\n"
       ]
      }
     ],
     "prompt_number": 24
    },
    {
     "cell_type": "code",
     "collapsed": false,
     "input": [
      "# now correlate the count of stations with the station table\n",
      "from pandas import DataFrame\n",
      "\n",
      "source = {} # create a dictionary for later use\n",
      "ins =  open(\"all_station_count\", \"r\")\n",
      "for line in ins:\n",
      "    line = line.strip().split('\\t')\n",
      "    name= line[0][1:-1]\n",
      "    count= line[1]\n",
      "    if name != \"useful data\":\n",
      "        source[name] = count\n",
      "\n",
      "record_count = DataFrame.from_dict(source, orient=\"index\").rename(columns={0:'count'})\n",
      "record_count.head()"
     ],
     "language": "python",
     "metadata": {},
     "outputs": [
      {
       "html": [
        "<div style=\"max-height:1000px;max-width:1500px;overflow:auto;\">\n",
        "<table border=\"1\" class=\"dataframe\">\n",
        "  <thead>\n",
        "    <tr style=\"text-align: right;\">\n",
        "      <th></th>\n",
        "      <th>count</th>\n",
        "    </tr>\n",
        "  </thead>\n",
        "  <tbody>\n",
        "    <tr>\n",
        "      <th>CA004035200</th>\n",
        "      <td>   87</td>\n",
        "    </tr>\n",
        "    <tr>\n",
        "      <th>USS0006H19S</th>\n",
        "      <td>  134</td>\n",
        "    </tr>\n",
        "    <tr>\n",
        "      <th>USC00390043</th>\n",
        "      <td> 1061</td>\n",
        "    </tr>\n",
        "    <tr>\n",
        "      <th>UY000001086</th>\n",
        "      <td>   20</td>\n",
        "    </tr>\n",
        "    <tr>\n",
        "      <th>UY000001084</th>\n",
        "      <td>   20</td>\n",
        "    </tr>\n",
        "  </tbody>\n",
        "</table>\n",
        "<p>5 rows \u00d7 1 columns</p>\n",
        "</div>"
       ],
       "metadata": {},
       "output_type": "pyout",
       "prompt_number": 25,
       "text": [
        "            count\n",
        "CA004035200    87\n",
        "USS0006H19S   134\n",
        "USC00390043  1061\n",
        "UY000001086    20\n",
        "UY000001084    20\n",
        "\n",
        "[5 rows x 1 columns]"
       ]
      }
     ],
     "prompt_number": 25
    },
    {
     "cell_type": "code",
     "collapsed": false,
     "input": [
      "#now join the station table and record_count table\n",
      "all_record = record_count.join(other=stations, how=\"left\", lsuffix=\"lf\", rsuffix=\"rf\").rename(columns={ 0:'count'})"
     ],
     "language": "python",
     "metadata": {},
     "outputs": [],
     "prompt_number": 26
    },
    {
     "cell_type": "code",
     "collapsed": false,
     "input": [
      "# # then we can perform the partitioning work\n",
      "# all_record = all_record.sort(columns='latitude')\n",
      "all_record.head()"
     ],
     "language": "python",
     "metadata": {},
     "outputs": [
      {
       "html": [
        "<div style=\"max-height:1000px;max-width:1500px;overflow:auto;\">\n",
        "<table border=\"1\" class=\"dataframe\">\n",
        "  <thead>\n",
        "    <tr style=\"text-align: right;\">\n",
        "      <th></th>\n",
        "      <th>count</th>\n",
        "      <th>latitude</th>\n",
        "      <th>longitude</th>\n",
        "      <th>elevation</th>\n",
        "      <th>state</th>\n",
        "      <th>name</th>\n",
        "      <th>GSNFLAG</th>\n",
        "      <th>HCNFLAG</th>\n",
        "      <th>WMOID</th>\n",
        "    </tr>\n",
        "  </thead>\n",
        "  <tbody>\n",
        "    <tr>\n",
        "      <th>CA004035200</th>\n",
        "      <td>   87</td>\n",
        "      <td> 49.1700</td>\n",
        "      <td>-104.5800</td>\n",
        "      <td>  695.0</td>\n",
        "      <td> NaN</td>\n",
        "      <td>            MINTON</td>\n",
        "      <td> NaN</td>\n",
        "      <td> NaN</td>\n",
        "      <td>NaN</td>\n",
        "    </tr>\n",
        "    <tr>\n",
        "      <th>USS0006H19S</th>\n",
        "      <td>  134</td>\n",
        "      <td> 41.3333</td>\n",
        "      <td>-106.5000</td>\n",
        "      <td> 2572.5</td>\n",
        "      <td>   Y</td>\n",
        "      <td> SOUTH BRUSH CREEK</td>\n",
        "      <td> NaN</td>\n",
        "      <td> NaN</td>\n",
        "      <td>NaN</td>\n",
        "    </tr>\n",
        "    <tr>\n",
        "      <th>USC00390043</th>\n",
        "      <td> 1061</td>\n",
        "      <td> 43.4892</td>\n",
        "      <td> -99.0631</td>\n",
        "      <td>  512.1</td>\n",
        "      <td>   D</td>\n",
        "      <td>       ACADEMY 2NE</td>\n",
        "      <td> NaN</td>\n",
        "      <td> HCN</td>\n",
        "      <td>NaN</td>\n",
        "    </tr>\n",
        "    <tr>\n",
        "      <th>UY000001086</th>\n",
        "      <td>   20</td>\n",
        "      <td>-30.6500</td>\n",
        "      <td> -56.1700</td>\n",
        "      <td>   70.0</td>\n",
        "      <td> NaN</td>\n",
        "      <td>        CHARQUEADA</td>\n",
        "      <td> NaN</td>\n",
        "      <td> NaN</td>\n",
        "      <td>NaN</td>\n",
        "    </tr>\n",
        "    <tr>\n",
        "      <th>UY000001084</th>\n",
        "      <td>   20</td>\n",
        "      <td>-30.6500</td>\n",
        "      <td> -56.3800</td>\n",
        "      <td>  190.0</td>\n",
        "      <td> NaN</td>\n",
        "      <td>         GUAYUBIRA</td>\n",
        "      <td> NaN</td>\n",
        "      <td> NaN</td>\n",
        "      <td>NaN</td>\n",
        "    </tr>\n",
        "  </tbody>\n",
        "</table>\n",
        "<p>5 rows \u00d7 9 columns</p>\n",
        "</div>"
       ],
       "metadata": {},
       "output_type": "pyout",
       "prompt_number": 27,
       "text": [
        "            count  latitude  longitude  elevation state               name  \\\n",
        "CA004035200    87   49.1700  -104.5800      695.0   NaN             MINTON   \n",
        "USS0006H19S   134   41.3333  -106.5000     2572.5     Y  SOUTH BRUSH CREEK   \n",
        "USC00390043  1061   43.4892   -99.0631      512.1     D        ACADEMY 2NE   \n",
        "UY000001086    20  -30.6500   -56.1700       70.0   NaN         CHARQUEADA   \n",
        "UY000001084    20  -30.6500   -56.3800      190.0   NaN          GUAYUBIRA   \n",
        "\n",
        "            GSNFLAG HCNFLAG  WMOID  \n",
        "CA004035200     NaN     NaN    NaN  \n",
        "USS0006H19S     NaN     NaN    NaN  \n",
        "USC00390043     NaN     HCN    NaN  \n",
        "UY000001086     NaN     NaN    NaN  \n",
        "UY000001084     NaN     NaN    NaN  \n",
        "\n",
        "[5 rows x 9 columns]"
       ]
      }
     ],
     "prompt_number": 27
    },
    {
     "cell_type": "code",
     "collapsed": false,
     "input": [
      "print all_record.shape[0]"
     ],
     "language": "python",
     "metadata": {},
     "outputs": [
      {
       "output_type": "stream",
       "stream": "stdout",
       "text": [
        "85284\n"
       ]
      }
     ],
     "prompt_number": 28
    },
    {
     "cell_type": "markdown",
     "metadata": {},
     "source": [
      "## using the joined table for weight-based partition ##"
     ]
    },
    {
     "cell_type": "code",
     "collapsed": false,
     "input": [
      "# create the treenode class\n",
      "class TreeNode:\n",
      "    #ALL_RECORD_TEST = DataFrame(randn(33, 3), columns=['latitude', 'longitude', 'dummy_val'])\n",
      "    STATION_LIMIT = 100 # determine the number of stations in the leaf\n",
      "    \n",
      "    def __init__(self, _parent=None):\n",
      "        self.parent = _parent\n",
      "        self.leftChild = None\n",
      "        self.rightChild = None\n",
      "        self.stationList = None\n",
      "        self.isLeaf = False\n",
      "        self.color = None\n",
      "        \n",
      "        # pca related data\n",
      "        self.id = None\n",
      "        self.k = -1\n",
      "        self.compare = None"
     ],
     "language": "python",
     "metadata": {},
     "outputs": [],
     "prompt_number": 29
    },
    {
     "cell_type": "code",
     "collapsed": false,
     "input": [
      "partition_data = all_record.loc[:, ['latitude','longitude','count']]\n",
      "partition_data.head()"
     ],
     "language": "python",
     "metadata": {},
     "outputs": [
      {
       "html": [
        "<div style=\"max-height:1000px;max-width:1500px;overflow:auto;\">\n",
        "<table border=\"1\" class=\"dataframe\">\n",
        "  <thead>\n",
        "    <tr style=\"text-align: right;\">\n",
        "      <th></th>\n",
        "      <th>latitude</th>\n",
        "      <th>longitude</th>\n",
        "      <th>count</th>\n",
        "    </tr>\n",
        "  </thead>\n",
        "  <tbody>\n",
        "    <tr>\n",
        "      <th>CA004035200</th>\n",
        "      <td> 49.1700</td>\n",
        "      <td>-104.5800</td>\n",
        "      <td>   87</td>\n",
        "    </tr>\n",
        "    <tr>\n",
        "      <th>USS0006H19S</th>\n",
        "      <td> 41.3333</td>\n",
        "      <td>-106.5000</td>\n",
        "      <td>  134</td>\n",
        "    </tr>\n",
        "    <tr>\n",
        "      <th>USC00390043</th>\n",
        "      <td> 43.4892</td>\n",
        "      <td> -99.0631</td>\n",
        "      <td> 1061</td>\n",
        "    </tr>\n",
        "    <tr>\n",
        "      <th>UY000001086</th>\n",
        "      <td>-30.6500</td>\n",
        "      <td> -56.1700</td>\n",
        "      <td>   20</td>\n",
        "    </tr>\n",
        "    <tr>\n",
        "      <th>UY000001084</th>\n",
        "      <td>-30.6500</td>\n",
        "      <td> -56.3800</td>\n",
        "      <td>   20</td>\n",
        "    </tr>\n",
        "  </tbody>\n",
        "</table>\n",
        "<p>5 rows \u00d7 3 columns</p>\n",
        "</div>"
       ],
       "metadata": {},
       "output_type": "pyout",
       "prompt_number": 30,
       "text": [
        "             latitude  longitude count\n",
        "CA004035200   49.1700  -104.5800    87\n",
        "USS0006H19S   41.3333  -106.5000   134\n",
        "USC00390043   43.4892   -99.0631  1061\n",
        "UY000001086  -30.6500   -56.1700    20\n",
        "UY000001084  -30.6500   -56.3800    20\n",
        "\n",
        "[5 rows x 3 columns]"
       ]
      }
     ],
     "prompt_number": 30
    },
    {
     "cell_type": "code",
     "collapsed": false,
     "input": [
      "print partition_data.shape"
     ],
     "language": "python",
     "metadata": {},
     "outputs": [
      {
       "output_type": "stream",
       "stream": "stdout",
       "text": [
        "(85284, 3)\n"
       ]
      }
     ],
     "prompt_number": 31
    },
    {
     "cell_type": "markdown",
     "metadata": {},
     "source": [
      "**Yoav:** What is the goal of the following cell?"
     ]
    },
    {
     "cell_type": "code",
     "collapsed": false,
     "input": [
      "# # try to extract rows, and it works\n",
      "# test = stations[0:3]\n",
      "# test.shape[0]\n",
      "count = partition_data.sum(axis=0)['latitude'] # demo usage \n",
      "print dtype(count)\n",
      "\n",
      "tmp = partition_data.iloc[1]['latitude']\n",
      "print tmp\n",
      "\n",
      "print partition_data.sum(axis=0)['count']"
     ],
     "language": "python",
     "metadata": {},
     "outputs": [
      {
       "output_type": "stream",
       "stream": "stdout",
       "text": [
        "float64\n",
        "41.3333\n",
        "inf"
       ]
      },
      {
       "output_type": "stream",
       "stream": "stdout",
       "text": [
        "\n"
       ]
      }
     ],
     "prompt_number": 32
    },
    {
     "cell_type": "markdown",
     "metadata": {},
     "source": [
      "**Yoav:** What does the code in the next cells do? How do you know whether it does what it is supposed to do correctly?"
     ]
    },
    {
     "cell_type": "code",
     "collapsed": false,
     "input": [
      "# this implementation might be buggy, check the logic\n",
      "def partition(df_local, leafList, direction=\"lat\", _parent=None):\n",
      "    \n",
      "    if df_local.shape[0] <= TreeNode.STATION_LIMIT:\n",
      "        stations = []\n",
      "        for index, row in df_local.iterrows():\n",
      "            stations.append(index)\n",
      "        \n",
      "        curNode = TreeNode()\n",
      "        curNode.stationList = stations\n",
      "        curNode.parent = _parent\n",
      "        curNode.isLeaf = True\n",
      "        leafList.append(curNode)\n",
      "        return curNode\n",
      "    \n",
      "    elif direction == \"lat\":\n",
      "        \n",
      "        df_local = df_local.sort(columns='latitude')\n",
      "        startRowIndex = 0\n",
      "        endRowIndex = df_local.shape[0] - 1\n",
      "\n",
      "        # the weight-based partition\n",
      "        start = startRowIndex - 1\n",
      "        end   = endRowIndex + 1\n",
      "        left = 0\n",
      "        right= 0\n",
      "        while start < end:\n",
      "            if left == right:\n",
      "                start += 1\n",
      "                end   -= 1\n",
      "                left = int(df_local.iloc[start]['count'])\n",
      "                right= int(df_local.iloc[end]['count'])\n",
      "\n",
      "            elif left < right:\n",
      "                start +=1\n",
      "                end = end\n",
      "\n",
      "                right = right - left\n",
      "                left = int(df_local.iloc[start]['count'])\n",
      "            else: # left > right\n",
      "                start = start\n",
      "                end -= 1\n",
      "\n",
      "                left  = left - right\n",
      "        right = int(df_local.iloc[end]['count'])\n",
      "        \n",
      "        midRowIndex = start\n",
      "        # make it into a binary tree\n",
      "        curNode = TreeNode()\n",
      "        curNode.leftChild  = partition(df_local[startRowIndex: midRowIndex+1], leafList, direction=\"long\", _parent = curNode)\n",
      "        curNode.rightChild = partition(df_local[midRowIndex+1: endRowIndex+1], leafList, direction=\"long\", _parent = curNode)\n",
      "        curNode.parent = _parent\n",
      "        return curNode\n",
      "        \n",
      "    else: # for 'long' direction\n",
      "        df_local = df_local.sort(columns='longitude')\n",
      "        startRowIndex = 0\n",
      "        endRowIndex = df_local.shape[0] - 1\n",
      "\n",
      "        # the weight-based partition\n",
      "        start = startRowIndex - 1\n",
      "        end   = endRowIndex + 1\n",
      "        left = 0\n",
      "        right= 0\n",
      "        while start < end:\n",
      "            if left == right:\n",
      "                start += 1\n",
      "                end   -= 1\n",
      "                left = int(df_local.iloc[start]['count'])\n",
      "                right= int(df_local.iloc[end]['count'])\n",
      "\n",
      "            elif left < right:\n",
      "                start +=1\n",
      "                end = end\n",
      "\n",
      "                right = right - left\n",
      "                left = int(df_local.iloc[start]['count'])\n",
      "            else: # left > right\n",
      "                start = start\n",
      "                end -= 1\n",
      "\n",
      "                left  = left - right\n",
      "                right = int(df_local.iloc[end]['count'])\n",
      "        \n",
      "        midRowIndex = start\n",
      "        \n",
      "        # create the partition\n",
      "        curNode = TreeNode()\n",
      "        curNode.leftChild  = partition(df_local[startRowIndex: midRowIndex+1], leafList, direction=\"lat\", _parent = curNode)\n",
      "        curNode.rightChild = partition(df_local[midRowIndex+1: endRowIndex+1], leafList, direction=\"lat\", _parent = curNode)\n",
      "        curNode.parent = _parent\n",
      "        return curNode"
     ],
     "language": "python",
     "metadata": {},
     "outputs": [],
     "prompt_number": 34
    },
    {
     "cell_type": "code",
     "collapsed": false,
     "input": [
      "print os.path.exists(\"partition_yue.pkl\")"
     ],
     "language": "python",
     "metadata": {},
     "outputs": [
      {
       "output_type": "stream",
       "stream": "stdout",
       "text": [
        "True\n"
       ]
      }
     ],
     "prompt_number": 35
    },
    {
     "cell_type": "code",
     "collapsed": false,
     "input": [
      "def get_all_leaves(root):\n",
      "    retList = []\n",
      "    \n",
      "    # using level order traversal\n",
      "    curLevel = [root]\n",
      "    nextLevel = []\n",
      "    while len(curLevel) != 0:\n",
      "        for node in curLevel:\n",
      "            if node.leftChild != None:\n",
      "                nextLevel.append(node.leftChild)\n",
      "            if node.rightChild != None:\n",
      "                nextLevel.append(node.rightChild)\n",
      "            \n",
      "            if node.leftChild == None and node.rightChild == None:\n",
      "                retList.append(node)\n",
      "        # prepare for next iteration\n",
      "        curLevel = nextLevel[:]\n",
      "        nextLevel = []\n",
      "    \n",
      "    return retList"
     ],
     "language": "python",
     "metadata": {},
     "outputs": [],
     "prompt_number": 36
    },
    {
     "cell_type": "code",
     "collapsed": false,
     "input": [
      "leaf_list = []\n",
      "global_root = None\n",
      "\n",
      "if os.path.exists(\"partition_yue.pkl\"): # should name it with pkl extension actually\n",
      "    print \"loading partition\"\n",
      "    global_root = pickle.load(open(\"partition_yue.pkl\", \"rb\"))\n",
      "    print \"populating leaf list\"\n",
      "    leaf_list = get_all_leaves(global_root)\n",
      "    \n",
      "else:    \n",
      "    print \"regenerating partition\"\n",
      "    global_root = partition(partition_data, leaf_list)\n",
      "    # verify that the leaf_list is storing all the leaves--> done\n",
      "    partition_success = True\n",
      "    for itr in leaf_list:\n",
      "        if itr.isLeaf !=  True: \n",
      "            partition_success = False\n",
      "\n",
      "    # store the partition upon success\n",
      "    # does this writing preserve the entire tree?\n",
      "    if partition_success == True:\n",
      "        print \"writing partition to file\" \n",
      "        pickle.dump(global_root, open(\"partition_yue.pkl\",\"wb\"))"
     ],
     "language": "python",
     "metadata": {},
     "outputs": [
      {
       "output_type": "stream",
       "stream": "stdout",
       "text": [
        "loading partition\n",
        "populating leaf list"
       ]
      },
      {
       "output_type": "stream",
       "stream": "stdout",
       "text": [
        "\n"
       ]
      }
     ],
     "prompt_number": 37
    },
    {
     "cell_type": "code",
     "collapsed": false,
     "input": [
      "stations.loc['AYW00090001']['latitude']"
     ],
     "language": "python",
     "metadata": {},
     "outputs": [
      {
       "metadata": {},
       "output_type": "pyout",
       "prompt_number": 38,
       "text": [
        "-90.0"
       ]
      }
     ],
     "prompt_number": 38
    },
    {
     "cell_type": "markdown",
     "metadata": {},
     "source": [
      "## now we could draw the world map before merging ##"
     ]
    },
    {
     "cell_type": "markdown",
     "metadata": {},
     "source": [
      "**Yoav:** The map below looks bad. The regions tend to be tall and narrow. Probably a bug in the code above."
     ]
    },
    {
     "cell_type": "code",
     "collapsed": false,
     "input": [
      "from mpl_toolkits.basemap import Basemap\n",
      "import matplotlib.pyplot as plt\n",
      "\n",
      "lonmin=-180;lonmax=180;latsmin=-80;latsmax=80;\n",
      "plt.figure(figsize=(15,10),dpi=300)\n",
      "m = Basemap(projection='merc',llcrnrlat=latsmin,urcrnrlat=latsmax,\\\n",
      "            llcrnrlon=lonmin,urcrnrlon=lonmax,lat_ts=20,resolution='i')\n",
      "m.drawcoastlines(linewidth=0.5)\n",
      "\n",
      "# draw parallels and meridians.\n",
      "parallels = np.arange(-80,81,10.)\n",
      "m.drawparallels(parallels,labels=[False,True,True,False])\n",
      "meridians = np.arange(10.,351.,20.)\n",
      "m.drawmeridians(meridians,labels=[True,False,False,True])\n",
      "\n",
      "lat_list = []\n",
      "log_list = []\n",
      "count_list = []\n",
      "\n",
      "for node in leaf_list:\n",
      "    for station in node.stationList:\n",
      "        try:\n",
      "            entry = stations.loc[station] # using the name\n",
      "            lat = entry['latitude']\n",
      "            log = entry['longitude']\n",
      "            log_list.append(log)\n",
      "            lat_list.append(lat)\n",
      "            count_list.append(len(node.stationList))\n",
      "        except Exception:\n",
      "            a = 1 \n",
      "\n",
      "x, y = m(log_list,lat_list)\n",
      "m.scatter(x, y, c=count_list, s=20, cmap=plt.cm.jet, edgecolors='None', alpha=0.75)\n",
      "cbar = plt.colorbar()\n",
      "plt.title('partition visual')\n",
      "plt.show()"
     ],
     "language": "python",
     "metadata": {},
     "outputs": [
      {
       "metadata": {},
       "output_type": "display_data",
       "png": "[encoded data removed]",
       "text": [
        "<matplotlib.figure.Figure at 0x99a8c90>"
       ]
      }
     ],
     "prompt_number": 40
    },
    {
     "cell_type": "markdown",
     "metadata": {},
     "source": [
      "##PCA ON EACH NODE##\n",
      "\n",
      "step1: extract the max-min concatenated vector for each station </br>\n",
      "\n",
      "step2: perform the pca on each node and determine k. (this step works on small sets of data locally and on cluster, but when feeding in large data it fails.\n",
      "i tried to make the mapper and reducer perform cell-wise add in a naive way to save memory, but still got the code 137 error.\n",
      ")"
     ]
    },
    {
     "cell_type": "code",
     "collapsed": false,
     "input": [
      "# we need some serialize/de- to turn list into string, notice this is not pickle\n",
      "def serialize(inputList):\n",
      "    ret_string = \"\"\n",
      "    for i in inputList:\n",
      "        ret_string = ret_string + \",\" + str(i)\n",
      "    return ret_string[1:]\n",
      "\n",
      "def deserialize(line):\n",
      "    ret_array_string = line[1:-1].strip().split(\",\")\n",
      "    ret_array_val = [None] * len(ret_array_string)\n",
      "    \n",
      "    for i in range(0, len(ret_array_string)):\n",
      "        ret_array_val[i] = int(ret_array_string[i])\n",
      "\n",
      "    return ret_array_val"
     ],
     "language": "python",
     "metadata": {},
     "outputs": [],
     "prompt_number": 38
    },
    {
     "cell_type": "markdown",
     "metadata": {},
     "source": [
      "**Yoav:** Again, not enough documentation."
     ]
    },
    {
     "cell_type": "code",
     "collapsed": false,
     "input": [
      "%%writefile max_min_collector.py\n",
      "\n",
      "from mrjob.job import MRJob\n",
      "\n",
      "class max_min(MRJob):\n",
      "    # helper - linear insertion\n",
      "    # the return value is always [] + boolean, with the boolean indicating the linear insertion is successful or not\n",
      "    # in the rare case that it fails, the original list is completely useless\n",
      "    def sanitize(self, inputList, target):\n",
      "        lastIndex = -1\n",
      "        i = 0\n",
      "        while i < len(inputList):\n",
      "            if inputList[i] == target: \n",
      "                i = i + 1\n",
      "            else:\n",
      "                # set the thing in between\n",
      "                if lastIndex == -1:\n",
      "                    # set everything in between to be input[i]\n",
      "                    set_to = inputList[i]\n",
      "                    for j in range(lastIndex + 1, i):\n",
      "                        inputList[j] = set_to\n",
      "                else:\n",
      "                    slope = (inputList[i] - inputList[lastIndex]) / (i-1 - lastIndex + 1)\n",
      "                    base_val = inputList[lastIndex]\n",
      "                    for j in range(lastIndex + 1, i):\n",
      "                        inputList[j] = base_val + slope * (j - lastIndex)           \n",
      "                \n",
      "                # find the next \n",
      "                j = i + 1\n",
      "                for j in range(i + 1, len(inputList)):\n",
      "                    if inputList[j] == target: break\n",
      "                    else: j += 1\n",
      "                \n",
      "                if j == len(inputList): \n",
      "                    i = len(inputList)\n",
      "                else: \n",
      "                    lastIndex = j - 1\n",
      "                    i = j\n",
      "\n",
      "        # it is possible that last sequence is not set\n",
      "        if inputList[-1] != target:\n",
      "            return inputList\n",
      "        elif inputList[-1] == target and lastIndex != -1:\n",
      "            set_to = inputList[lastIndex]\n",
      "            for i in range(lastIndex + 1, len(inputList)):\n",
      "                inputList[i] = set_to\n",
      "            return inputList\n",
      "        else:\n",
      "            return []\n",
      "    \n",
      "    # helper function: serialize a list of numbers into a comma separated string\n",
      "    def serialize(self, inputList):\n",
      "        ret_string = \"\"\n",
      "        for i in inputList:\n",
      "            ret_string = ret_string + \",\" + str(i)\n",
      "        return ret_string[1:]\n",
      "    \n",
      "    \n",
      "    # the standard workflow for map-reduce\n",
      "    def mapper(self, _, line):\n",
      "        elements=line.split(',')\n",
      "        if len(elements) != 368:\n",
      "            dummy = 1\n",
      "        elif elements[1]=='TMAX' or elements[1]=='TMIN': # only collectingor temperatures\n",
      "            one_year = elements[3:]\n",
      "            yield elements[0], (elements[1], one_year) # yielding in the format:  station -> (max/min, reading for 365 days) \n",
      "            \n",
      "    def combiner(self, key, value):# value is a list\n",
      "        max_value = [-10000] * 365\n",
      "        min_value = [+10000] * 365\n",
      "        for value_itr in value:\n",
      "            if value_itr[0] == 'TMAX': # updating the max_value array\n",
      "                data_array = value_itr[1]\n",
      "                for i in range(0, 365):\n",
      "                    if data_array[i] == '': continue\n",
      "                    else:\n",
      "                        if int(data_array[i]) > max_value[i]: max_value[i] = int(data_array[i])\n",
      "            else: # == 'TMIN', updating the min_value array\n",
      "                data_array = value_itr[1]\n",
      "                for i in range(0, 365):\n",
      "                    if data_array[i] == '': continue\n",
      "                    else:\n",
      "                        if int(data_array[i]) < min_value[i]: min_value[i] = int(data_array[i])\n",
      "        \n",
      "        yield key, ('TMAX', max_value)\n",
      "        yield key, ('TMIN', min_value)\n",
      "\n",
      "    def reducer(self, key, value):\n",
      "        max_value = [-10000] * 365\n",
      "        min_value = [+10000] * 365\n",
      "        for value_itr in value:\n",
      "            if value_itr[0] == 'TMAX': # updating the max_value array\n",
      "                data_array = value_itr[1]\n",
      "                for i in range(0, 365):\n",
      "                    if data_array[i] == '': continue\n",
      "                    else:\n",
      "                        if int(data_array[i]) > max_value[i]: max_value[i] = int(data_array[i])\n",
      "            else: # == 'TMIN', updating the min_value array\n",
      "                data_array = value_itr[1]\n",
      "                for i in range(0, 365):\n",
      "                    if data_array[i] == '': continue\n",
      "                    else:\n",
      "                        if int(data_array[i]) < min_value[i]: min_value[i] = int(data_array[i])\n",
      "        \n",
      "        # get rid of corrupted data points, by linear inseration\n",
      "        max_value = self.sanitize(max_value, -10000)\n",
      "        min_value = self.sanitize(min_value, +10000)\n",
      "        \n",
      "        if max_value == [] or min_value == []: \n",
      "            dummy = 1\n",
      "        else:\n",
      "            # yielding to the stdout, construct a 365 * 1 * 2 list by appending min readings to max readings\n",
      "            output_string = self.serialize(max_value + min_value)\n",
      "            yield key, output_string\n",
      "        \n",
      "if __name__ == '__main__':\n",
      "    max_min.run()"
     ],
     "language": "python",
     "metadata": {},
     "outputs": [
      {
       "output_type": "stream",
       "stream": "stdout",
       "text": [
        "Overwriting max_min_collector.py\n"
       ]
      }
     ],
     "prompt_number": 63
    },
    {
     "cell_type": "code",
     "collapsed": false,
     "input": [
      "#!rm mapping.txt"
     ],
     "language": "python",
     "metadata": {},
     "outputs": [],
     "prompt_number": 65
    },
    {
     "cell_type": "code",
     "collapsed": false,
     "input": [
      "# execute the map-reduce work flow and write to a file called mapping.txt\n",
      "if os.path.exists(\"mapping.txt\") == True:\n",
      "    print \"mapping.txt already exists! Do nothing!\"\n",
      "else:\n",
      "    job_flow_id = get_job_flow_id()\n",
      "    #!python totalNumber.py -r emr --emr-job-flow-id=$job_flow_id hdfs:/weather/weather.csv > all_station_count # working reference\n",
      "    !python max_min_collector.py -r emr --emr-job-flow-id=$job_flow_id hdfs:/weather/weather.csv > mapping.txt"
     ],
     "language": "python",
     "metadata": {},
     "outputs": [
      {
       "output_type": "stream",
       "stream": "stdout",
       "text": [
        "<boto.emr.emrobject.JobFlow object at 0xa3dc8d0> no_script.yoavfreund.20140517.080731.371759 j-2EFV3O64LF1U2 WAITING\n",
        "<boto.emr.emrobject.JobFlow object at 0xa33df10> no_script.yoavfreund.20140525.174308.746673 j-LTOJMJ14G840 WAITING\n"
       ]
      },
      {
       "output_type": "stream",
       "stream": "stdout",
       "text": [
        "using configs in /home/ubuntu/.mrjob.conf\r\n"
       ]
      },
      {
       "output_type": "stream",
       "stream": "stdout",
       "text": [
        "creating tmp directory /tmp/max_min_collector.ubuntu.20140525.221302.218896\r\n"
       ]
      },
      {
       "output_type": "stream",
       "stream": "stdout",
       "text": [
        "Copying non-input files into s3://yuf/scratch/max_min_collector.ubuntu.20140525.221302.218896/files/\r\n"
       ]
      },
      {
       "output_type": "stream",
       "stream": "stdout",
       "text": [
        "Adding our job to existing job flow j-LTOJMJ14G840\r\n"
       ]
      },
      {
       "output_type": "stream",
       "stream": "stdout",
       "text": [
        "Job launched 30.5s ago, status RUNNING: Running step (max_min_collector.ubuntu.20140525.221302.218896: Step 1 of 1)\r\n"
       ]
      },
      {
       "output_type": "stream",
       "stream": "stdout",
       "text": [
        "Job launched 61.0s ago, status RUNNING: Running step (max_min_collector.ubuntu.20140525.221302.218896: Step 1 of 1)\r\n"
       ]
      },
      {
       "output_type": "stream",
       "stream": "stdout",
       "text": [
        "Job launched 91.6s ago, status RUNNING: Running step (max_min_collector.ubuntu.20140525.221302.218896: Step 1 of 1)\r\n"
       ]
      },
      {
       "output_type": "stream",
       "stream": "stdout",
       "text": [
        "Job launched 122.2s ago, status RUNNING: Running step (max_min_collector.ubuntu.20140525.221302.218896: Step 1 of 1)\r\n"
       ]
      },
      {
       "output_type": "stream",
       "stream": "stdout",
       "text": [
        "Job launched 152.9s ago, status RUNNING: Running step (max_min_collector.ubuntu.20140525.221302.218896: Step 1 of 1)\r\n"
       ]
      },
      {
       "output_type": "stream",
       "stream": "stdout",
       "text": [
        "Job launched 183.3s ago, status RUNNING: Running step (max_min_collector.ubuntu.20140525.221302.218896: Step 1 of 1)\r\n"
       ]
      },
      {
       "output_type": "stream",
       "stream": "stdout",
       "text": [
        "Job completed.\r\n",
        "Running time was 166.0s (not counting time spent waiting for the EC2 instances)\r\n",
        "ec2_key_pair_file not specified, going to S3\r\n",
        "Fetching counters from S3...\r\n",
        "Waiting 5.0s for S3 eventual consistency\r\n"
       ]
      },
      {
       "output_type": "stream",
       "stream": "stdout",
       "text": [
        "Counters may not have been uploaded to S3 yet. Try again in 5 minutes with: mrjob fetch-logs --counters j-LTOJMJ14G840\r\n"
       ]
      },
      {
       "output_type": "stream",
       "stream": "stdout",
       "text": [
        "Counters from step 1:\r\n",
        "  (no counters found)\r\n",
        "Streaming final output from s3://yuf/scratch/max_min_collector.ubuntu.20140525.221302.218896/output/\r\n"
       ]
      },
      {
       "output_type": "stream",
       "stream": "stdout",
       "text": [
        "removing tmp directory /tmp/max_min_collector.ubuntu.20140525.221302.218896\r\n",
        "Removing all files in s3://yuf/scratch/max_min_collector.ubuntu.20140525.221302.218896/\r\n"
       ]
      }
     ],
     "prompt_number": 66
    },
    {
     "cell_type": "code",
     "collapsed": false,
     "input": [
      "!ls -al | grep \"mapping*\""
     ],
     "language": "python",
     "metadata": {},
     "outputs": [
      {
       "output_type": "stream",
       "stream": "stdout",
       "text": [
        "-rw-rw-r--  1 ubuntu ubuntu  83409067 May 25 22:16 mapping.txt\r\n"
       ]
      }
     ],
     "prompt_number": 68
    },
    {
     "cell_type": "code",
     "collapsed": false,
     "input": [
      "!rm station_2_data.pkl"
     ],
     "language": "python",
     "metadata": {},
     "outputs": [],
     "prompt_number": 69
    },
    {
     "cell_type": "code",
     "collapsed": false,
     "input": [
      "# the suggested way of reading file: with clause handles opening and closing file, with exception being throwed propoerly\n",
      "station_2_data = {}\n",
      "\n",
      "if os.path.exists(\"station_2_data.pkl\"):\n",
      "    station_2_data = pickle.load(open(\"station_2_data.pkl\", \"rb\"))\n",
      "else:\n",
      "    with open(\"mapping.txt\") as f:\n",
      "        for line in f:\n",
      "            line = line.strip()\n",
      "            if line == '': continue\n",
      "            else:\n",
      "                key_value = line.split() # split on consequtive whitespaces\n",
      "                #print key_value[0]\n",
      "                station_2_data[key_value[0]] = deserialize(key_value[1])\n",
      "\n",
      "    # backing up the dictionary structure in a file\n",
      "    pickle.dump(station_2_data, open(\"station_2_data.pkl\", \"wb\") )"
     ],
     "language": "python",
     "metadata": {},
     "outputs": [],
     "prompt_number": 31
    },
    {
     "cell_type": "code",
     "collapsed": false,
     "input": [
      "print len(station_2_data.keys())\n",
      "print station_2_data.keys()[0][1:-1]\n",
      "print global_root.id\n",
      "print len(station_2_data[station_2_data.keys()[0]])"
     ],
     "language": "python",
     "metadata": {},
     "outputs": [
      {
       "output_type": "stream",
       "stream": "stdout",
       "text": [
        "29088\n",
        "USC00085973\n",
        "None\n",
        "730\n"
       ]
      }
     ],
     "prompt_number": 32
    },
    {
     "cell_type": "markdown",
     "metadata": {},
     "source": [
      "**Yoav: ** Why are you keeping these commented out cells around?"
     ]
    },
    {
     "cell_type": "code",
     "collapsed": false,
     "input": [
      "# # assign ids to nodes, starting from the global_root, and put the id-> node instance mapping into a dictionary\n",
      "# def assign_id(curNode):\n",
      "    \n",
      "#     id_counter = 0\n",
      "#     id_2_node = {}\n",
      "    \n",
      "#     # using level order traversal\n",
      "#     curLevel = [curNode]\n",
      "#     nextLevel = []\n",
      "#     while len(curLevel) != 0:\n",
      "#         for node in curLevel:\n",
      "#             node.id = \"NODE_\" + str(id_counter) # set the id field in the node!\n",
      "#             id_2_node[node.id] = node\n",
      "            \n",
      "#             id_counter = id_counter + 1\n",
      "#             if node.leftChild != None:\n",
      "#                 nextLevel.append(node.leftChild)\n",
      "#             if node.rightChild != None:\n",
      "#                 nextLevel.append(node.rightChild)\n",
      "        \n",
      "#         curLevel = nextLevel[:]\n",
      "#         nextLevel = []\n",
      "    \n",
      "#     return id_2_node\n",
      "\n",
      "# # now get the mapping from id to node in a dictionary\n",
      "# id_2_node = assign_id(global_root)"
     ],
     "language": "python",
     "metadata": {},
     "outputs": [],
     "prompt_number": 33
    },
    {
     "cell_type": "code",
     "collapsed": false,
     "input": [
      "#leaf_list = get_all_leaves(global_root)\n",
      "print len(leaf_list)\n",
      "print leaf_list[:10]\n",
      "\n",
      "for i in range(0, len(leaf_list)):\n",
      "    node = leaf_list[i]\n",
      "    node.id = 'LEAF_' + str(i)\n",
      "print leaf_list[10].id"
     ],
     "language": "python",
     "metadata": {},
     "outputs": [
      {
       "output_type": "stream",
       "stream": "stdout",
       "text": [
        "1764\n",
        "[<__main__.TreeNode instance at 0x7a97cb0>, <__main__.TreeNode instance at 0x7a2c5a8>, <__main__.TreeNode instance at 0x7a2c560>, <__main__.TreeNode instance at 0x7a97c20>, <__main__.TreeNode instance at 0x7a84dd0>, <__main__.TreeNode instance at 0x7a2c440>, <__main__.TreeNode instance at 0x7a049e0>, <__main__.TreeNode instance at 0x8a13ea8>, <__main__.TreeNode instance at 0x8a13248>, <__main__.TreeNode instance at 0x6464cf8>]\n",
        "LEAF_10\n"
       ]
      }
     ],
     "prompt_number": 68
    },
    {
     "cell_type": "code",
     "collapsed": false,
     "input": [
      "!heat -10 leaf_to_count"
     ],
     "language": "python",
     "metadata": {},
     "outputs": [
      {
       "output_type": "stream",
       "stream": "stdout",
       "text": [
        "LEAF_10\n"
       ]
      }
     ],
     "prompt_number": 88
    },
    {
     "cell_type": "code",
     "collapsed": false,
     "input": [
      "leaf_station_count = {}\n",
      "\n",
      "for leaf in leaf_list:\n",
      "    leaf_station_count[leaf.id] = len(leaf.stationList)\n",
      "\n",
      "pickle.dump(leaf_station_count, open(\"leaf_station_count.pkl\", \"wb\"))"
     ],
     "language": "python",
     "metadata": {},
     "outputs": [],
     "prompt_number": 76
    },
    {
     "cell_type": "code",
     "collapsed": false,
     "input": [
      "%%writefile dict_wrapper_class.py\n",
      "\n",
      "class Lookup:\n",
      "    \n",
      "    "
     ],
     "language": "python",
     "metadata": {},
     "outputs": []
    },
    {
     "cell_type": "code",
     "collapsed": false,
     "input": [
      "# here we should overwrite the pickle for the tree structure\n",
      "# this time, with dedicated node_id for the leaves\n",
      "if not os.path.exists('partition_with_leaf_id.pkl'):\n",
      "    pickle.dump(global_root, open(\"partition_with_leaf_id.pkl\", \"wb\"))"
     ],
     "language": "python",
     "metadata": {},
     "outputs": [],
     "prompt_number": 35
    },
    {
     "cell_type": "code",
     "collapsed": false,
     "input": [
      "!ls -al partition*"
     ],
     "language": "python",
     "metadata": {},
     "outputs": [
      {
       "output_type": "stream",
       "stream": "stdout",
       "text": [
        "-rw-rw-r-- 1 ubuntu ubuntu 28858529 May 25 23:08 partition_with_leaf_id.pkl\r\n",
        "-rw-rw-r-- 1 ubuntu ubuntu  2327396 May 25 19:46 partition_yue.pkl\r\n"
       ]
      }
     ],
     "prompt_number": 87
    },
    {
     "cell_type": "code",
     "collapsed": false,
     "input": [
      "!rm all_leaf_info.txt"
     ],
     "language": "python",
     "metadata": {},
     "outputs": [],
     "prompt_number": 89
    },
    {
     "cell_type": "code",
     "collapsed": false,
     "input": [
      "# now writing all the station info (subtracted mean from every station in each node) to a file\n",
      "# each line is a record for a station, not for a node, but the key is the node id, instead of station name\n",
      "\n",
      "if os.path.exists('all_leaf_info.txt'):\n",
      "    print \"file already there. no need to regenerate\"\n",
      "else:\n",
      "    with open(\"all_leaf_info.txt\", \"wb\") as f:\n",
      "        count = 0\n",
      "        for child in leaf_list: \n",
      "            child_station_list = child.stationList\n",
      "\n",
      "            # create the 2d array to work on\n",
      "            list_of_list = []\n",
      "            for station in child_station_list:\n",
      "                station = \"\\\"\" + station + \"\\\"\" # station names stored in nodes do not have double quotes around them\n",
      "                if station in station_2_data:\n",
      "                    li = station_2_data[station] # look-up the list from the dictionary\n",
      "                    list_of_list.append(li)\n",
      "                else:\n",
      "                    #print station\n",
      "                    count += 1\n",
      "\n",
      "            if len(list_of_list) == 0:\n",
      "                #print child.id + \" has no valid data\"\n",
      "                continue\n",
      "            else:\n",
      "                value = np.array(list_of_list)\n",
      "                # calculate the mean value, and store it in both node and file\n",
      "                MEAN = np.mean(value, axis=0)\n",
      "                child.mean = MEAN\n",
      "\n",
      "                # subtract mean from every row in value matrix\n",
      "                for i in range(0, value.shape[0]):\n",
      "                    value[i][:] = value[i][:] - MEAN\n",
      "                    value_str = serialize(value[i][:])\n",
      "                    f.write(child.id + \" \" + value_str + \"\\n\")\n",
      "\n",
      "        print \"cannot find the record for:\" + str(count)"
     ],
     "language": "python",
     "metadata": {},
     "outputs": [
      {
       "output_type": "stream",
       "stream": "stdout",
       "text": [
        "file already there. no need to regenerate\n"
       ]
      }
     ],
     "prompt_number": 91
    },
    {
     "cell_type": "code",
     "collapsed": false,
     "input": [
      "# create a subset of data for testing locally\n",
      "!rm test_all_leaf_info.txt\n",
      "!head -3000 all_leaf_info.txt > test_all_leaf_info.txt"
     ],
     "language": "python",
     "metadata": {},
     "outputs": []
    },
    {
     "cell_type": "code",
     "collapsed": false,
     "input": [
      "# this is the reference implementation of commputing mean, and cov for a single node.\n",
      "# # but now we need to make it work using map-reduce\n",
      "\n",
      "# M=Dout.loc[:,1:365].transpose()\n",
      "# M=M.dropna(axis=1)\n",
      "# (columns,rows)=shape(M)\n",
      "# Mean=mean(M, axis=1).values\n",
      "\n",
      "# print (columns,rows), shape(Mean)\n",
      "# C=np.zeros([columns,columns])   # Sum\n",
      "# N=np.zeros([columns,columns])   # Counter of non-nan entries\n",
      "\n",
      "# for i in range(rows):\n",
      "#     if i % 1000==0: \n",
      "#         print i\n",
      "#     row=M.iloc[:,i]-Mean;\n",
      "#     outer=np.outer(row,row)\n",
      "#     valid=isnan(outer)==False\n",
      "#     C[valid]=C[valid]+outer[valid]  # update C with the valid location in outer\n",
      "#     N[valid]=N[valid]+1\n",
      "# valid_outer=np.multiply(1-isnan(N),N>0)\n",
      "# cov=np.divide(C,N)"
     ],
     "language": "python",
     "metadata": {},
     "outputs": [],
     "prompt_number": 95
    },
    {
     "cell_type": "code",
     "collapsed": false,
     "input": [
      "%%writefile new_coding.py\n",
      "\n",
      "import base64,pickle,zlib,sys\n",
      "import pdb\n",
      "\n",
      "# define the new helper function\n",
      "def load(line):\n",
      "    (key,eVal)=line.split('\\t')\n",
      "    Value=pickle.loads(zlib.decompress(base64.b64decode(eVal)))\n",
      "    return(key,Value)\n",
      "    \n",
      "def dump(key,Value,out=sys.stdout):\n",
      "    out.write(\"%s\\t%s\\n\" % (key, base64.b64encode(zlib.compress(pickle.dumps(Value),9))))\n",
      "   \n",
      "def encode(Value):\n",
      "    return base64.b64encode(zlib.compress(pickle.dumps(Value),9))\n",
      "\n",
      "def decode(line):\n",
      "    return pickle.loads(zlib.decompress(base64.b64decode(line)))"
     ],
     "language": "python",
     "metadata": {},
     "outputs": [
      {
       "output_type": "stream",
       "stream": "stdout",
       "text": [
        "Overwriting new_coding.py\n"
       ]
      }
     ],
     "prompt_number": 96
    },
    {
     "cell_type": "heading",
     "level": 3,
     "metadata": {},
     "source": [
      "this is the script to calculate k(top k eigen-vectors) for each node"
     ]
    },
    {
     "cell_type": "code",
     "collapsed": false,
     "input": [
      "%%writefile compute_stats.py\n",
      "from mrjob.job import MRJob\n",
      "from mrjob.protocol import JSONProtocol, JSONProtocol, PickleProtocol, RawValueProtocol, RawProtocol\n",
      "import pickle\n",
      "import numpy as np\n",
      "import os\n",
      "\n",
      "class per_node_calc(MRJob):\n",
      "\n",
      "    INPUT_PROTOCOL = RawValueProtocol\n",
      "    INTERNAL_PROTOCOL = PickleProtocol\n",
      "    OUTPUT_PROTOCOL = JSONProtocol\n",
      "        \n",
      "    # helper function\n",
      "    def deserialize(self, line):\n",
      "        arr_str = line.split(\",\")\n",
      "        arr_val = [None] * len(arr_str)\n",
      "        for i in range(0, len(arr_str)):\n",
      "            arr_val[i] = int(arr_str[i])\n",
      "        return arr_val\n",
      "    \n",
      "    # helper function, for associating id to node and put them in a dict\n",
      "    def load_id(self, root):\n",
      "        id_2_node = {}\n",
      "        \n",
      "        curLevel = [root]\n",
      "        nextLevel = []\n",
      "        while len(curLevel) != 0:\n",
      "            for node in curLevel:\n",
      "                if node.leftChild != None:\n",
      "                    nextLevel.append(node.leftChild)\n",
      "                if node.rightChild != None:\n",
      "                    nextLevel.append(node.rightChild)\n",
      "\n",
      "                if node.leftChild == None and node.rightChild == None:\n",
      "                    id_2_node[node.id] = node\n",
      "            \n",
      "            # prepare for next iteration\n",
      "            curLevel = nextLevel[:]\n",
      "            nextLevel = []\n",
      "        \n",
      "        return id_2_node\n",
      "    \n",
      "    # if we import:\n",
      "    # 1. the tree structure\n",
      "    # 2. the node.id -> node mapping\n",
      "    # we could use a multi-step function to perform svd, on each of the node we have\n",
      "    \n",
      "    # tested\n",
      "    def mapper_sum(self, _, line):\n",
      "        line = line.strip()\n",
      "        if line != '':\n",
      "            arr = line.split()       \n",
      "            try:\n",
      "                key = arr[0]\n",
      "                vec = np.multiply(self.deserialize(arr[1]), 0.01)\n",
      "                value = np.outer(vec, vec) # scaling the data so that we don't get overflow\n",
      "                yield key, value\n",
      "            except Exception:\n",
      "                self.increment_counter('group', 'mapper_exception', 1)\n",
      "\n",
      "    def combiner_sum(self, key, values):\n",
      "        local_sum = np.zeros([730,730])\n",
      "        \n",
      "        # a memory efficient way of adding\n",
      "        for mat in values:\n",
      "            for i in range(0, mat.shape[0]):\n",
      "                for j in range(0, mat.shape[1]):\n",
      "                    local_sum[i][j] += mat[i][j]\n",
      "        yield key, local_sum\n",
      "           \n",
      "    def reducer_sum(self, key, values):\n",
      "        local_sum = np.zeros([730,730])\n",
      "        \n",
      "        # a memory efficient way\n",
      "        for mat in values:\n",
      "            for i in range(0, mat.shape[0]):\n",
      "                for j in range(0, mat.shape[1]):\n",
      "                    local_sum[i][j] += mat[i][j]\n",
      "        yield key, local_sum\n",
      " \n",
      " \n",
      "    # for each key, the values only have a list, which is a singleton    \n",
      "    def reducer_svd(self, key, values):\n",
      "        \n",
      "        leaf_to_count = pickle.load(open(\"leaf_station_count.pkl\", \"rb\"))\n",
      "        \n",
      "        total_sum = np.zeros([730, 730])\n",
      "        for mat in values:\n",
      "            total_sum += mat\n",
      "        \n",
      "        if key in leaf_to_count:\n",
      "            count = leaf_to_count[key]\n",
      "            cov = total_sum / count\n",
      "\n",
      "            # now perform svd and assign the values to node\n",
      "            U, D, V = np.linalg.svd(cov)\n",
      "\n",
      "            # need to scale the D array\n",
      "            D_scale = np.multiply(D[:], 0.1)\n",
      "\n",
      "            try:\n",
      "                acc_sum = np.cumsum(D_scale[:])\n",
      "                acc = np.divide(acc_sum, sum(D_scale))\n",
      "\n",
      "                REQUIREMENT = 0.95\n",
      "                i = 0\n",
      "                for i in range(0, len(acc)):\n",
      "                    if acc[i] >= REQUIREMENT: break \n",
      "\n",
      "                yield key, i\n",
      "            except Exception:\n",
      "                yield key, -1 # -1 is the error flag\n",
      "\n",
      "        else:\n",
      "            yield \"no_such_id_\", 1\n",
      "\n",
      "    def steps(self):\n",
      "        return [self.mr(mapper=self.mapper_sum,\n",
      "                        combiner=self.combiner_sum,\n",
      "                        reducer=self.reducer_sum),\n",
      "                self.mr(reducer=self.reducer_svd)]\n",
      "\n",
      "# entry point of program\n",
      "if __name__ == '__main__':\n",
      "    \n",
      "    per_node_calc.run()"
     ],
     "language": "python",
     "metadata": {},
     "outputs": [
      {
       "output_type": "stream",
       "stream": "stdout",
       "text": [
        "Overwriting compute_stats.py\n"
       ]
      }
     ],
     "prompt_number": 36
    },
    {
     "cell_type": "markdown",
     "metadata": {},
     "source": [
      "## the job failed on the entire set of data ##"
     ]
    },
    {
     "cell_type": "code",
     "collapsed": false,
     "input": [
      "# running the job \n",
      "#job_flow_id = get_job_flow_id()\n",
      "job_flow_id1= 'j-LTOJMJ14G840'\n",
      "\n",
      "!rm this_is_a_test\n",
      "#!python compute_stats.py -r emr --emr-job-flow-id $job_flow_id1 < test_all_leaf_info.txt > this_is_a_test #is submitting\n",
      "\n",
      "!python compute_stats.py -r emr --emr-job-flow-id $job_flow_id1 \\\n",
      "                         --file ./leaf_station_count.pkl  \\\n",
      "                         < all_leaf_info.txt > pca_result.txt #is submitting\n",
      "\n",
      "# !python compute_stats.py -r local \\\n",
      "#                          --file ./leaf_station_count.pkl  \\\n",
      "#                           < test_all_leaf_info.txt > this_is_a_test #is submitting"
     ],
     "language": "python",
     "metadata": {},
     "outputs": [
      {
       "output_type": "stream",
       "stream": "stdout",
       "text": [
        "using configs in /home/ubuntu/.mrjob.conf\r\n"
       ]
      },
      {
       "output_type": "stream",
       "stream": "stdout",
       "text": [
        "creating tmp directory /tmp/compute_stats.ubuntu.20140526.222143.423830\r\n"
       ]
      },
      {
       "output_type": "stream",
       "stream": "stdout",
       "text": [
        "reading from STDIN\r\n"
       ]
      },
      {
       "output_type": "stream",
       "stream": "stdout",
       "text": [
        "Copying non-input files into s3://yuf/scratch/compute_stats.ubuntu.20140526.222143.423830/files/\r\n"
       ]
      },
      {
       "output_type": "stream",
       "stream": "stdout",
       "text": [
        "Adding our job to existing job flow j-LTOJMJ14G840\r\n"
       ]
      },
      {
       "output_type": "stream",
       "stream": "stdout",
       "text": [
        "Job launched 31.1s ago, status RUNNING: Running step (compute_stats.ubuntu.20140526.222143.423830: Step 1 of 2)\r\n"
       ]
      },
      {
       "output_type": "stream",
       "stream": "stdout",
       "text": [
        "Job launched 62.4s ago, status RUNNING: Running step (compute_stats.ubuntu.20140526.222143.423830: Step 1 of 2)\r\n"
       ]
      },
      {
       "output_type": "stream",
       "stream": "stdout",
       "text": [
        "Job launched 93.4s ago, status RUNNING: Running step (compute_stats.ubuntu.20140526.222143.423830: Step 1 of 2)\r\n"
       ]
      },
      {
       "output_type": "stream",
       "stream": "stdout",
       "text": [
        "Job launched 124.5s ago, status RUNNING: Running step (compute_stats.ubuntu.20140526.222143.423830: Step 1 of 2)\r\n"
       ]
      },
      {
       "output_type": "stream",
       "stream": "stdout",
       "text": [
        "Job launched 155.5s ago, status RUNNING: Running step (compute_stats.ubuntu.20140526.222143.423830: Step 1 of 2)\r\n"
       ]
      },
      {
       "output_type": "stream",
       "stream": "stdout",
       "text": [
        "Job launched 186.9s ago, status RUNNING: Running step (compute_stats.ubuntu.20140526.222143.423830: Step 1 of 2)\r\n"
       ]
      },
      {
       "output_type": "stream",
       "stream": "stdout",
       "text": [
        "Job launched 218.1s ago, status RUNNING: Running step (compute_stats.ubuntu.20140526.222143.423830: Step 1 of 2)\r\n"
       ]
      },
      {
       "output_type": "stream",
       "stream": "stdout",
       "text": [
        "Job launched 249.3s ago, status RUNNING: Running step (compute_stats.ubuntu.20140526.222143.423830: Step 1 of 2)\r\n"
       ]
      },
      {
       "output_type": "stream",
       "stream": "stdout",
       "text": [
        "Job launched 280.4s ago, status RUNNING: Running step (compute_stats.ubuntu.20140526.222143.423830: Step 1 of 2)\r\n"
       ]
      },
      {
       "output_type": "stream",
       "stream": "stdout",
       "text": [
        "Job launched 311.6s ago, status RUNNING: Running step (compute_stats.ubuntu.20140526.222143.423830: Step 1 of 2)\r\n"
       ]
      },
      {
       "output_type": "stream",
       "stream": "stdout",
       "text": [
        "Job launched 342.8s ago, status RUNNING: Running step (compute_stats.ubuntu.20140526.222143.423830: Step 1 of 2)\r\n"
       ]
      },
      {
       "output_type": "stream",
       "stream": "stdout",
       "text": [
        "Job launched 374.0s ago, status RUNNING: Running step (compute_stats.ubuntu.20140526.222143.423830: Step 1 of 2)\r\n"
       ]
      },
      {
       "output_type": "stream",
       "stream": "stdout",
       "text": [
        "Job launched 405.2s ago, status RUNNING: Running step (compute_stats.ubuntu.20140526.222143.423830: Step 1 of 2)\r\n"
       ]
      },
      {
       "output_type": "stream",
       "stream": "stdout",
       "text": [
        "Job launched 436.3s ago, status RUNNING: Running step (compute_stats.ubuntu.20140526.222143.423830: Step 1 of 2)\r\n"
       ]
      },
      {
       "output_type": "stream",
       "stream": "stdout",
       "text": [
        "Job launched 467.4s ago, status RUNNING: Running step (compute_stats.ubuntu.20140526.222143.423830: Step 1 of 2)\r\n"
       ]
      },
      {
       "output_type": "stream",
       "stream": "stdout",
       "text": [
        "Job launched 498.7s ago, status RUNNING: Running step (compute_stats.ubuntu.20140526.222143.423830: Step 1 of 2)\r\n"
       ]
      },
      {
       "output_type": "stream",
       "stream": "stdout",
       "text": [
        "Job launched 529.9s ago, status RUNNING: Running step (compute_stats.ubuntu.20140526.222143.423830: Step 1 of 2)\r\n"
       ]
      },
      {
       "output_type": "stream",
       "stream": "stdout",
       "text": [
        "Job launched 561.2s ago, status RUNNING: Running step (compute_stats.ubuntu.20140526.222143.423830: Step 1 of 2)\r\n"
       ]
      },
      {
       "output_type": "stream",
       "stream": "stdout",
       "text": [
        "Job launched 592.5s ago, status RUNNING: Running step (compute_stats.ubuntu.20140526.222143.423830: Step 1 of 2)\r\n"
       ]
      },
      {
       "output_type": "stream",
       "stream": "stdout",
       "text": [
        "Job launched 623.6s ago, status RUNNING: Running step (compute_stats.ubuntu.20140526.222143.423830: Step 1 of 2)\r\n"
       ]
      },
      {
       "output_type": "stream",
       "stream": "stdout",
       "text": [
        "Job launched 654.8s ago, status RUNNING: Running step (compute_stats.ubuntu.20140526.222143.423830: Step 1 of 2)\r\n"
       ]
      },
      {
       "output_type": "stream",
       "stream": "stdout",
       "text": [
        "Job launched 685.9s ago, status RUNNING: Running step (compute_stats.ubuntu.20140526.222143.423830: Step 1 of 2)\r\n"
       ]
      },
      {
       "output_type": "stream",
       "stream": "stdout",
       "text": [
        "Job launched 717.1s ago, status RUNNING: Running step (compute_stats.ubuntu.20140526.222143.423830: Step 1 of 2)\r\n"
       ]
      },
      {
       "output_type": "stream",
       "stream": "stdout",
       "text": [
        "Job launched 748.2s ago, status RUNNING: Running step (compute_stats.ubuntu.20140526.222143.423830: Step 1 of 2)\r\n"
       ]
      },
      {
       "output_type": "stream",
       "stream": "stdout",
       "text": [
        "Job launched 779.5s ago, status RUNNING: Running step (compute_stats.ubuntu.20140526.222143.423830: Step 1 of 2)\r\n"
       ]
      },
      {
       "output_type": "stream",
       "stream": "stdout",
       "text": [
        "Job launched 810.7s ago, status RUNNING: Running step (compute_stats.ubuntu.20140526.222143.423830: Step 1 of 2)\r\n"
       ]
      },
      {
       "output_type": "stream",
       "stream": "stdout",
       "text": [
        "Job launched 841.9s ago, status RUNNING: Running step (compute_stats.ubuntu.20140526.222143.423830: Step 1 of 2)\r\n"
       ]
      },
      {
       "output_type": "stream",
       "stream": "stdout",
       "text": [
        "Job launched 873.1s ago, status RUNNING: Running step (compute_stats.ubuntu.20140526.222143.423830: Step 1 of 2)\r\n"
       ]
      },
      {
       "output_type": "stream",
       "stream": "stdout",
       "text": [
        "Job launched 904.1s ago, status RUNNING: Running step (compute_stats.ubuntu.20140526.222143.423830: Step 1 of 2)\r\n"
       ]
      },
      {
       "output_type": "stream",
       "stream": "stdout",
       "text": [
        "Job launched 935.2s ago, status RUNNING: Running step (compute_stats.ubuntu.20140526.222143.423830: Step 1 of 2)\r\n"
       ]
      },
      {
       "output_type": "stream",
       "stream": "stdout",
       "text": [
        "Job launched 966.3s ago, status RUNNING: Running step (compute_stats.ubuntu.20140526.222143.423830: Step 1 of 2)\r\n"
       ]
      },
      {
       "output_type": "stream",
       "stream": "stdout",
       "text": [
        "Job launched 997.4s ago, status RUNNING: Running step (compute_stats.ubuntu.20140526.222143.423830: Step 1 of 2)\r\n"
       ]
      },
      {
       "output_type": "stream",
       "stream": "stdout",
       "text": [
        "Job launched 1028.4s ago, status RUNNING: Running step (compute_stats.ubuntu.20140526.222143.423830: Step 1 of 2)\r\n"
       ]
      },
      {
       "output_type": "stream",
       "stream": "stdout",
       "text": [
        "Job launched 1059.6s ago, status RUNNING: Running step (compute_stats.ubuntu.20140526.222143.423830: Step 1 of 2)\r\n"
       ]
      },
      {
       "output_type": "stream",
       "stream": "stdout",
       "text": [
        "Job launched 1090.9s ago, status RUNNING: Running step (compute_stats.ubuntu.20140526.222143.423830: Step 1 of 2)\r\n"
       ]
      },
      {
       "output_type": "stream",
       "stream": "stdout",
       "text": [
        "Job launched 1122.1s ago, status RUNNING: Running step (compute_stats.ubuntu.20140526.222143.423830: Step 1 of 2)\r\n"
       ]
      },
      {
       "output_type": "stream",
       "stream": "stdout",
       "text": [
        "Job launched 1153.4s ago, status RUNNING: Running step (compute_stats.ubuntu.20140526.222143.423830: Step 1 of 2)\r\n"
       ]
      },
      {
       "output_type": "stream",
       "stream": "stdout",
       "text": [
        "Job launched 1184.6s ago, status RUNNING: Running step (compute_stats.ubuntu.20140526.222143.423830: Step 1 of 2)\r\n"
       ]
      },
      {
       "output_type": "stream",
       "stream": "stdout",
       "text": [
        "Job launched 1215.8s ago, status RUNNING: Running step (compute_stats.ubuntu.20140526.222143.423830: Step 1 of 2)\r\n"
       ]
      },
      {
       "output_type": "stream",
       "stream": "stdout",
       "text": [
        "Job launched 1247.1s ago, status RUNNING: Running step (compute_stats.ubuntu.20140526.222143.423830: Step 1 of 2)\r\n"
       ]
      },
      {
       "output_type": "stream",
       "stream": "stdout",
       "text": [
        "Job launched 1278.4s ago, status RUNNING: Running step (compute_stats.ubuntu.20140526.222143.423830: Step 1 of 2)\r\n"
       ]
      },
      {
       "output_type": "stream",
       "stream": "stdout",
       "text": [
        "Job launched 1309.6s ago, status RUNNING: Running step (compute_stats.ubuntu.20140526.222143.423830: Step 1 of 2)\r\n"
       ]
      },
      {
       "output_type": "stream",
       "stream": "stdout",
       "text": [
        "Job launched 1340.7s ago, status RUNNING: Running step (compute_stats.ubuntu.20140526.222143.423830: Step 1 of 2)\r\n"
       ]
      },
      {
       "output_type": "stream",
       "stream": "stdout",
       "text": [
        "Job launched 1371.9s ago, status RUNNING: Running step (compute_stats.ubuntu.20140526.222143.423830: Step 1 of 2)\r\n"
       ]
      },
      {
       "output_type": "stream",
       "stream": "stdout",
       "text": [
        "Job launched 1403.1s ago, status RUNNING: Running step (compute_stats.ubuntu.20140526.222143.423830: Step 1 of 2)\r\n"
       ]
      },
      {
       "output_type": "stream",
       "stream": "stdout",
       "text": [
        "Job launched 1434.1s ago, status RUNNING: Running step (compute_stats.ubuntu.20140526.222143.423830: Step 1 of 2)\r\n"
       ]
      },
      {
       "output_type": "stream",
       "stream": "stdout",
       "text": [
        "Job launched 1465.2s ago, status RUNNING: Running step (compute_stats.ubuntu.20140526.222143.423830: Step 1 of 2)\r\n"
       ]
      },
      {
       "output_type": "stream",
       "stream": "stdout",
       "text": [
        "Job launched 1496.3s ago, status RUNNING: Running step (compute_stats.ubuntu.20140526.222143.423830: Step 1 of 2)\r\n"
       ]
      },
      {
       "output_type": "stream",
       "stream": "stdout",
       "text": [
        "Job launched 1527.6s ago, status RUNNING: Running step (compute_stats.ubuntu.20140526.222143.423830: Step 1 of 2)\r\n"
       ]
      },
      {
       "output_type": "stream",
       "stream": "stdout",
       "text": [
        "Job launched 1558.6s ago, status RUNNING: Running step (compute_stats.ubuntu.20140526.222143.423830: Step 1 of 2)\r\n"
       ]
      },
      {
       "output_type": "stream",
       "stream": "stdout",
       "text": [
        "Job launched 1589.7s ago, status RUNNING: Running step (compute_stats.ubuntu.20140526.222143.423830: Step 1 of 2)\r\n"
       ]
      },
      {
       "output_type": "stream",
       "stream": "stdout",
       "text": [
        "Job launched 1620.7s ago, status RUNNING: Running step (compute_stats.ubuntu.20140526.222143.423830: Step 1 of 2)\r\n"
       ]
      },
      {
       "output_type": "stream",
       "stream": "stdout",
       "text": [
        "Job launched 1651.8s ago, status RUNNING: Running step (compute_stats.ubuntu.20140526.222143.423830: Step 1 of 2)\r\n"
       ]
      },
      {
       "output_type": "stream",
       "stream": "stdout",
       "text": [
        "Job launched 1682.9s ago, status RUNNING: Running step (compute_stats.ubuntu.20140526.222143.423830: Step 1 of 2)\r\n"
       ]
      },
      {
       "output_type": "stream",
       "stream": "stdout",
       "text": [
        "Job launched 1714.1s ago, status RUNNING: Running step (compute_stats.ubuntu.20140526.222143.423830: Step 1 of 2)\r\n"
       ]
      },
      {
       "output_type": "stream",
       "stream": "stdout",
       "text": [
        "Job launched 1745.3s ago, status RUNNING: Running step (compute_stats.ubuntu.20140526.222143.423830: Step 1 of 2)\r\n"
       ]
      },
      {
       "output_type": "stream",
       "stream": "stdout",
       "text": [
        "Job on job flow j-LTOJMJ14G840 failed with status WAITING: Waiting after step failed\r\n",
        "Logs are in s3://yoav.hadoop/log/j-LTOJMJ14G840/\r\n",
        "ec2_key_pair_file not specified, going to S3\r\n",
        "Scanning S3 logs for probable cause of failure\r\n",
        "Waiting 5.0s for S3 eventual consistency\r\n"
       ]
      },
      {
       "output_type": "stream",
       "stream": "stdout",
       "text": [
        "Attempting to terminate job...\r\n"
       ]
      },
      {
       "output_type": "stream",
       "stream": "stdout",
       "text": [
        "Traceback (most recent call last):\r\n",
        "  File \"compute_stats.py\", line 118, in <module>\r\n",
        "    per_node_calc.run()\r\n",
        "  File \"/usr/local/lib/python2.7/dist-packages/mrjob/job.py\", line 494, in run\r\n",
        "    mr_job.execute()\r\n",
        "  File \"/usr/local/lib/python2.7/dist-packages/mrjob/job.py\", line 512, in execute\r\n",
        "    super(MRJob, self).execute()\r\n",
        "  File \"/usr/local/lib/python2.7/dist-packages/mrjob/launch.py\", line 147, in execute\r\n",
        "    self.run_job()\r\n",
        "  File \"/usr/local/lib/python2.7/dist-packages/mrjob/launch.py\", line 213, in run_job\r\n",
        "    self.stdout.flush()\r\n",
        "  File \"/usr/local/lib/python2.7/dist-packages/mrjob/runner.py\", line 614, in __exit__\r\n",
        "    self.cleanup()\r\n",
        "  File \"/usr/local/lib/python2.7/dist-packages/mrjob/emr.py\", line 1010, in cleanup\r\n",
        "    super(EMRJobRunner, self).cleanup(mode=mode)\r\n",
        "  File \"/usr/local/lib/python2.7/dist-packages/mrjob/runner.py\", line 560, in cleanup\r\n",
        "    self._cleanup_job()\r\n",
        "  File \"/usr/local/lib/python2.7/dist-packages/mrjob/emr.py\", line 1084, in _cleanup_job\r\n",
        "    self._opts['ec2_key_pair_file'])\r\n",
        "  File \"/usr/local/lib/python2.7/dist-packages/mrjob/ssh.py\", line 200, in ssh_terminate_single_job\r\n",
        "    ssh_bin, address, ec2_key_pair_file, ['hadoop', 'job', '-list']))\r\n",
        "  File \"/usr/local/lib/python2.7/dist-packages/mrjob/ssh.py\", line 82, in ssh_run\r\n",
        "    p = Popen(args, stdout=PIPE, stderr=PIPE, stdin=PIPE)\r\n",
        "  File \"/home/ubuntu/anaconda/lib/python2.7/subprocess.py\", line 709, in __init__\r\n",
        "    errread, errwrite)\r\n",
        "  File \"/home/ubuntu/anaconda/lib/python2.7/subprocess.py\", line 1326, in _execute_child\r\n",
        "    raise child_exception\r\n",
        "TypeError: execv() arg 2 must contain only strings\r\n"
       ]
      }
     ],
     "prompt_number": 144
    },
    {
     "cell_type": "markdown",
     "metadata": {},
     "source": [
      "**Yoav:** Did you try to figure out the problem from the stderr files?"
     ]
    },
    {
     "cell_type": "markdown",
     "metadata": {},
     "source": [
      "## try half of the data ##"
     ]
    },
    {
     "cell_type": "code",
     "collapsed": false,
     "input": [
      "# running the job \n",
      "#job_flow_id = get_job_flow_id()\n",
      "job_flow_id1= 'j-6T8VIKMY8RHX'\n",
      "\n",
      "#!python compute_stats.py -r emr --emr-job-flow-id $job_flow_id1 < test_all_leaf_info.txt > this_is_a_test #is submitting\n",
      "\n",
      "!python compute_stats.py -r emr --emr-job-flow-id $job_flow_id1 \\\n",
      "                         --file ./leaf_station_count.pkl  \\\n",
      "                         < test_all_leaf_info.txt > pca_result.txt\n",
      "\n",
      "# !python compute_stats.py -r local \\\n",
      "#                          --file ./leaf_station_count.pkl  \\\n",
      "#                           < test_all_leaf_info.txt > this_is_a_test #is submitting"
     ],
     "language": "python",
     "metadata": {},
     "outputs": [
      {
       "output_type": "stream",
       "stream": "stdout",
       "text": [
        "using configs in /home/ubuntu/.mrjob.conf\r\n"
       ]
      },
      {
       "output_type": "stream",
       "stream": "stdout",
       "text": [
        "creating tmp directory /tmp/compute_stats.ubuntu.20140527.005916.908620\r\n"
       ]
      },
      {
       "output_type": "stream",
       "stream": "stdout",
       "text": [
        "reading from STDIN\r\n"
       ]
      },
      {
       "output_type": "stream",
       "stream": "stdout",
       "text": [
        "Copying non-input files into s3://yuf/scratch/compute_stats.ubuntu.20140527.005916.908620/files/\r\n"
       ]
      },
      {
       "output_type": "stream",
       "stream": "stdout",
       "text": [
        "Adding our job to existing job flow j-6T8VIKMY8RHX\r\n"
       ]
      },
      {
       "output_type": "stream",
       "stream": "stdout",
       "text": [
        "Job launched 30.7s ago, status RUNNING: Running step\r\n"
       ]
      },
      {
       "output_type": "stream",
       "stream": "stdout",
       "text": [
        "Job launched 61.3s ago, status RUNNING: Running step\r\n"
       ]
      },
      {
       "output_type": "stream",
       "stream": "stdout",
       "text": [
        "Job launched 92.0s ago, status RUNNING: Running step (compute_stats.ubuntu.20140527.005916.908620: Step 1 of 2)\r\n"
       ]
      },
      {
       "output_type": "stream",
       "stream": "stdout",
       "text": [
        "Job launched 122.6s ago, status RUNNING: Running step (compute_stats.ubuntu.20140527.005916.908620: Step 1 of 2)\r\n"
       ]
      },
      {
       "output_type": "stream",
       "stream": "stdout",
       "text": [
        "Got retriable error: EmrResponseError: 400 Bad Request\r\n",
        "<ErrorResponse xmlns=\"http://elasticmapreduce.amazonaws.com/doc/2009-03-31\">\r\n",
        "  <Error>\r\n",
        "    <Type>Sender</Type>\r\n",
        "    <Code>Throttling</Code>\r\n",
        "    <Message>Rate exceeded</Message>\r\n",
        "  </Error>\r\n",
        "  <RequestId>8aff5612-e53a-11e3-a94d-e755ea6b183b</RequestId>\r\n",
        "</ErrorResponse>\r\n",
        "\r\n",
        "Backing off for 20.0 seconds\r\n"
       ]
      },
      {
       "output_type": "stream",
       "stream": "stdout",
       "text": [
        "Job launched 173.2s ago, status RUNNING: Running step (compute_stats.ubuntu.20140527.005916.908620: Step 1 of 2)\r\n"
       ]
      },
      {
       "output_type": "stream",
       "stream": "stdout",
       "text": [
        "Job launched 203.9s ago, status RUNNING: Running step (compute_stats.ubuntu.20140527.005916.908620: Step 1 of 2)\r\n"
       ]
      },
      {
       "output_type": "stream",
       "stream": "stdout",
       "text": [
        "Got retriable error: EmrResponseError: 400 Bad Request\r\n",
        "<ErrorResponse xmlns=\"http://elasticmapreduce.amazonaws.com/doc/2009-03-31\">\r\n",
        "  <Error>\r\n",
        "    <Type>Sender</Type>\r\n",
        "    <Code>Throttling</Code>\r\n",
        "    <Message>Rate exceeded</Message>\r\n",
        "  </Error>\r\n",
        "  <RequestId>bb715f18-e53a-11e3-a7f3-054eed488613</RequestId>\r\n",
        "</ErrorResponse>\r\n",
        "\r\n",
        "Backing off for 20.0 seconds\r\n"
       ]
      },
      {
       "output_type": "stream",
       "stream": "stdout",
       "text": [
        "Job launched 254.5s ago, status RUNNING: Running step (compute_stats.ubuntu.20140527.005916.908620: Step 1 of 2)\r\n"
       ]
      },
      {
       "output_type": "stream",
       "stream": "stdout",
       "text": [
        "Job launched 285.1s ago, status RUNNING: Running step (compute_stats.ubuntu.20140527.005916.908620: Step 1 of 2)\r\n"
       ]
      },
      {
       "output_type": "stream",
       "stream": "stdout",
       "text": [
        "Job launched 315.6s ago, status RUNNING: Running step (compute_stats.ubuntu.20140527.005916.908620: Step 1 of 2)\r\n"
       ]
      },
      {
       "output_type": "stream",
       "stream": "stdout",
       "text": [
        "Job launched 346.3s ago, status RUNNING: Running step (compute_stats.ubuntu.20140527.005916.908620: Step 1 of 2)\r\n"
       ]
      },
      {
       "output_type": "stream",
       "stream": "stdout",
       "text": [
        "Job launched 376.9s ago, status RUNNING: Running step (compute_stats.ubuntu.20140527.005916.908620: Step 1 of 2)\r\n"
       ]
      },
      {
       "output_type": "stream",
       "stream": "stdout",
       "text": [
        "Job launched 407.6s ago, status RUNNING: Running step (compute_stats.ubuntu.20140527.005916.908620: Step 1 of 2)\r\n"
       ]
      },
      {
       "output_type": "stream",
       "stream": "stdout",
       "text": [
        "Job launched 438.1s ago, status RUNNING: Running step (compute_stats.ubuntu.20140527.005916.908620: Step 1 of 2)\r\n"
       ]
      },
      {
       "output_type": "stream",
       "stream": "stdout",
       "text": [
        "Job launched 468.7s ago, status RUNNING: Running step (compute_stats.ubuntu.20140527.005916.908620: Step 1 of 2)\r\n"
       ]
      },
      {
       "output_type": "stream",
       "stream": "stdout",
       "text": [
        "Got retriable error: EmrResponseError: 400 Bad Request\r\n",
        "<ErrorResponse xmlns=\"http://elasticmapreduce.amazonaws.com/doc/2009-03-31\">\r\n",
        "  <Error>\r\n",
        "    <Type>Sender</Type>\r\n",
        "    <Code>Throttling</Code>\r\n",
        "    <Message>Rate exceeded</Message>\r\n",
        "  </Error>\r\n",
        "  <RequestId>594fa616-e53b-11e3-b43a-872b56d6dfca</RequestId>\r\n",
        "</ErrorResponse>\r\n",
        "\r\n",
        "Backing off for 20.0 seconds\r\n"
       ]
      },
      {
       "output_type": "stream",
       "stream": "stdout",
       "text": [
        "Job launched 519.4s ago, status RUNNING: Running step (compute_stats.ubuntu.20140527.005916.908620: Step 1 of 2)\r\n"
       ]
      },
      {
       "output_type": "stream",
       "stream": "stdout",
       "text": [
        "Got retriable error: EmrResponseError: 400 Bad Request\r\n",
        "<ErrorResponse xmlns=\"http://elasticmapreduce.amazonaws.com/doc/2009-03-31\">\r\n",
        "  <Error>\r\n",
        "    <Type>Sender</Type>\r\n",
        "    <Code>Throttling</Code>\r\n",
        "    <Message>Rate exceeded</Message>\r\n",
        "  </Error>\r\n",
        "  <RequestId>77831fb5-e53b-11e3-b332-21d671b574dc</RequestId>\r\n",
        "</ErrorResponse>\r\n",
        "\r\n",
        "Backing off for 20.0 seconds\r\n"
       ]
      },
      {
       "output_type": "stream",
       "stream": "stdout",
       "text": [
        "Job launched 570.0s ago, status RUNNING: Running step (compute_stats.ubuntu.20140527.005916.908620: Step 1 of 2)\r\n"
       ]
      },
      {
       "output_type": "stream",
       "stream": "stdout",
       "text": [
        "Job launched 600.6s ago, status RUNNING: Running step (compute_stats.ubuntu.20140527.005916.908620: Step 1 of 2)\r\n"
       ]
      },
      {
       "output_type": "stream",
       "stream": "stdout",
       "text": [
        "Job launched 631.2s ago, status RUNNING: Running step (compute_stats.ubuntu.20140527.005916.908620: Step 1 of 2)\r\n"
       ]
      },
      {
       "output_type": "stream",
       "stream": "stdout",
       "text": [
        "Job launched 661.8s ago, status RUNNING: Running step (compute_stats.ubuntu.20140527.005916.908620: Step 1 of 2)\r\n"
       ]
      },
      {
       "output_type": "stream",
       "stream": "stdout",
       "text": [
        "Job launched 692.4s ago, status RUNNING: Running step (compute_stats.ubuntu.20140527.005916.908620: Step 1 of 2)\r\n"
       ]
      },
      {
       "output_type": "stream",
       "stream": "stdout",
       "text": [
        "Job launched 723.1s ago, status RUNNING: Running step (compute_stats.ubuntu.20140527.005916.908620: Step 1 of 2)\r\n"
       ]
      },
      {
       "output_type": "stream",
       "stream": "stdout",
       "text": [
        "Job launched 753.7s ago, status RUNNING: Running step (compute_stats.ubuntu.20140527.005916.908620: Step 1 of 2)\r\n"
       ]
      },
      {
       "output_type": "stream",
       "stream": "stdout",
       "text": [
        "Job launched 784.3s ago, status RUNNING: Running step (compute_stats.ubuntu.20140527.005916.908620: Step 1 of 2)\r\n"
       ]
      },
      {
       "output_type": "stream",
       "stream": "stdout",
       "text": [
        "Job launched 814.9s ago, status RUNNING: Running step (compute_stats.ubuntu.20140527.005916.908620: Step 1 of 2)\r\n"
       ]
      },
      {
       "output_type": "stream",
       "stream": "stdout",
       "text": [
        "Job launched 845.5s ago, status RUNNING: Running step (compute_stats.ubuntu.20140527.005916.908620: Step 1 of 2)\r\n"
       ]
      },
      {
       "output_type": "stream",
       "stream": "stdout",
       "text": [
        "Job launched 876.2s ago, status RUNNING: Running step (compute_stats.ubuntu.20140527.005916.908620: Step 1 of 2)\r\n"
       ]
      },
      {
       "output_type": "stream",
       "stream": "stdout",
       "text": [
        "Job launched 907.0s ago, status RUNNING: Running step (compute_stats.ubuntu.20140527.005916.908620: Step 1 of 2)\r\n"
       ]
      },
      {
       "output_type": "stream",
       "stream": "stdout",
       "text": [
        "Job launched 937.6s ago, status RUNNING: Running step (compute_stats.ubuntu.20140527.005916.908620: Step 1 of 2)\r\n"
       ]
      },
      {
       "output_type": "stream",
       "stream": "stdout",
       "text": [
        "Job launched 968.3s ago, status RUNNING: Running step (compute_stats.ubuntu.20140527.005916.908620: Step 1 of 2)\r\n"
       ]
      },
      {
       "output_type": "stream",
       "stream": "stdout",
       "text": [
        "Job launched 999.0s ago, status RUNNING: Running step (compute_stats.ubuntu.20140527.005916.908620: Step 1 of 2)\r\n"
       ]
      },
      {
       "output_type": "stream",
       "stream": "stdout",
       "text": [
        "Got retriable error: EmrResponseError: 400 Bad Request\r\n",
        "<ErrorResponse xmlns=\"http://elasticmapreduce.amazonaws.com/doc/2009-03-31\">\r\n",
        "  <Error>\r\n",
        "    <Type>Sender</Type>\r\n",
        "    <Code>Throttling</Code>\r\n",
        "    <Message>Rate exceeded</Message>\r\n",
        "  </Error>\r\n",
        "  <RequestId>95613190-e53c-11e3-9077-5114ea9dc6a3</RequestId>\r\n",
        "</ErrorResponse>\r\n",
        "\r\n",
        "Backing off for 20.0 seconds\r\n"
       ]
      },
      {
       "output_type": "stream",
       "stream": "stdout",
       "text": [
        "Job launched 1049.6s ago, status RUNNING: Running step (compute_stats.ubuntu.20140527.005916.908620: Step 1 of 2)\r\n"
       ]
      },
      {
       "output_type": "stream",
       "stream": "stdout",
       "text": [
        "Got retriable error: EmrResponseError: 400 Bad Request\r\n",
        "<ErrorResponse xmlns=\"http://elasticmapreduce.amazonaws.com/doc/2009-03-31\">\r\n",
        "  <Error>\r\n",
        "    <Type>Sender</Type>\r\n",
        "    <Code>Throttling</Code>\r\n",
        "    <Message>Rate exceeded</Message>\r\n",
        "  </Error>\r\n",
        "  <RequestId>b389fc6a-e53c-11e3-aa87-172672d76e00</RequestId>\r\n",
        "</ErrorResponse>\r\n",
        "\r\n",
        "Backing off for 20.0 seconds\r\n"
       ]
      },
      {
       "output_type": "stream",
       "stream": "stdout",
       "text": [
        "Job launched 1100.2s ago, status RUNNING: Running step (compute_stats.ubuntu.20140527.005916.908620: Step 1 of 2)\r\n"
       ]
      },
      {
       "output_type": "stream",
       "stream": "stdout",
       "text": [
        "Job launched 1130.8s ago, status RUNNING: Running step (compute_stats.ubuntu.20140527.005916.908620: Step 1 of 2)\r\n"
       ]
      },
      {
       "output_type": "stream",
       "stream": "stdout",
       "text": [
        "Job launched 1161.4s ago, status RUNNING: Running step (compute_stats.ubuntu.20140527.005916.908620: Step 1 of 2)\r\n"
       ]
      },
      {
       "output_type": "stream",
       "stream": "stdout",
       "text": [
        "Job launched 1192.1s ago, status RUNNING: Running step (compute_stats.ubuntu.20140527.005916.908620: Step 1 of 2)\r\n"
       ]
      },
      {
       "output_type": "stream",
       "stream": "stdout",
       "text": [
        "Job launched 1222.7s ago, status RUNNING: Running step (compute_stats.ubuntu.20140527.005916.908620: Step 1 of 2)\r\n"
       ]
      },
      {
       "output_type": "stream",
       "stream": "stdout",
       "text": [
        "Job launched 1253.3s ago, status RUNNING: Running step (compute_stats.ubuntu.20140527.005916.908620: Step 1 of 2)\r\n"
       ]
      },
      {
       "output_type": "stream",
       "stream": "stdout",
       "text": [
        "Job launched 1283.9s ago, status RUNNING: Running step (compute_stats.ubuntu.20140527.005916.908620: Step 1 of 2)\r\n"
       ]
      },
      {
       "output_type": "stream",
       "stream": "stdout",
       "text": [
        "Job launched 1314.5s ago, status RUNNING: Running step (compute_stats.ubuntu.20140527.005916.908620: Step 1 of 2)\r\n"
       ]
      },
      {
       "output_type": "stream",
       "stream": "stdout",
       "text": [
        "Job launched 1345.2s ago, status RUNNING: Running step (compute_stats.ubuntu.20140527.005916.908620: Step 1 of 2)\r\n"
       ]
      },
      {
       "output_type": "stream",
       "stream": "stdout",
       "text": [
        "Job launched 1375.9s ago, status RUNNING: Running step (compute_stats.ubuntu.20140527.005916.908620: Step 1 of 2)\r\n"
       ]
      },
      {
       "output_type": "stream",
       "stream": "stdout",
       "text": [
        "Job launched 1406.5s ago, status RUNNING: Running step (compute_stats.ubuntu.20140527.005916.908620: Step 1 of 2)\r\n"
       ]
      },
      {
       "output_type": "stream",
       "stream": "stdout",
       "text": [
        "Job launched 1437.1s ago, status RUNNING: Running step (compute_stats.ubuntu.20140527.005916.908620: Step 1 of 2)\r\n"
       ]
      },
      {
       "output_type": "stream",
       "stream": "stdout",
       "text": [
        "Job launched 1467.7s ago, status RUNNING: Running step (compute_stats.ubuntu.20140527.005916.908620: Step 1 of 2)\r\n"
       ]
      },
      {
       "output_type": "stream",
       "stream": "stdout",
       "text": [
        "Job launched 1498.4s ago, status RUNNING: Running step (compute_stats.ubuntu.20140527.005916.908620: Step 1 of 2)\r\n"
       ]
      },
      {
       "output_type": "stream",
       "stream": "stdout",
       "text": [
        "Job launched 1529.2s ago, status RUNNING: Running step (compute_stats.ubuntu.20140527.005916.908620: Step 1 of 2)\r\n"
       ]
      },
      {
       "output_type": "stream",
       "stream": "stdout",
       "text": [
        "Job launched 1559.8s ago, status RUNNING: Running step (compute_stats.ubuntu.20140527.005916.908620: Step 1 of 2)\r\n"
       ]
      },
      {
       "output_type": "stream",
       "stream": "stdout",
       "text": [
        "Job launched 1590.5s ago, status RUNNING: Running step (compute_stats.ubuntu.20140527.005916.908620: Step 1 of 2)\r\n"
       ]
      },
      {
       "output_type": "stream",
       "stream": "stdout",
       "text": [
        "Job launched 1621.2s ago, status RUNNING: Running step (compute_stats.ubuntu.20140527.005916.908620: Step 1 of 2)\r\n"
       ]
      },
      {
       "output_type": "stream",
       "stream": "stdout",
       "text": [
        "Job launched 1651.9s ago, status RUNNING: Running step (compute_stats.ubuntu.20140527.005916.908620: Step 1 of 2)\r\n"
       ]
      },
      {
       "output_type": "stream",
       "stream": "stdout",
       "text": [
        "Job launched 1682.5s ago, status RUNNING: Running step (compute_stats.ubuntu.20140527.005916.908620: Step 1 of 2)\r\n"
       ]
      },
      {
       "output_type": "stream",
       "stream": "stdout",
       "text": [
        "Job launched 1713.1s ago, status RUNNING: Running step (compute_stats.ubuntu.20140527.005916.908620: Step 1 of 2)\r\n"
       ]
      },
      {
       "output_type": "stream",
       "stream": "stdout",
       "text": [
        "Got retriable error: EmrResponseError: 400 Bad Request\r\n",
        "<ErrorResponse xmlns=\"http://elasticmapreduce.amazonaws.com/doc/2009-03-31\">\r\n",
        "  <Error>\r\n",
        "    <Type>Sender</Type>\r\n",
        "    <Code>Throttling</Code>\r\n",
        "    <Message>Rate exceeded</Message>\r\n",
        "  </Error>\r\n",
        "  <RequestId>3f091689-e53e-11e3-9fde-05f53a330f8a</RequestId>\r\n",
        "</ErrorResponse>\r\n",
        "\r\n",
        "Backing off for 20.0 seconds\r\n"
       ]
      },
      {
       "output_type": "stream",
       "stream": "stdout",
       "text": [
        "Job launched 1763.8s ago, status RUNNING: Running step (compute_stats.ubuntu.20140527.005916.908620: Step 1 of 2)\r\n"
       ]
      },
      {
       "output_type": "stream",
       "stream": "stdout",
       "text": [
        "Got retriable error: EmrResponseError: 400 Bad Request\r\n",
        "<ErrorResponse xmlns=\"http://elasticmapreduce.amazonaws.com/doc/2009-03-31\">\r\n",
        "  <Error>\r\n",
        "    <Type>Sender</Type>\r\n",
        "    <Code>Throttling</Code>\r\n",
        "    <Message>Rate exceeded</Message>\r\n",
        "  </Error>\r\n",
        "  <RequestId>5d40af6c-e53e-11e3-9fde-05f53a330f8a</RequestId>\r\n",
        "</ErrorResponse>\r\n",
        "\r\n",
        "Backing off for 20.0 seconds\r\n"
       ]
      },
      {
       "output_type": "stream",
       "stream": "stdout",
       "text": [
        "Job launched 1814.5s ago, status RUNNING: Running step (compute_stats.ubuntu.20140527.005916.908620: Step 1 of 2)\r\n"
       ]
      },
      {
       "output_type": "stream",
       "stream": "stdout",
       "text": [
        "Job launched 1845.1s ago, status RUNNING: Running step (compute_stats.ubuntu.20140527.005916.908620: Step 1 of 2)\r\n"
       ]
      },
      {
       "output_type": "stream",
       "stream": "stdout",
       "text": [
        "Job launched 1875.7s ago, status RUNNING: Running step (compute_stats.ubuntu.20140527.005916.908620: Step 1 of 2)\r\n"
       ]
      },
      {
       "output_type": "stream",
       "stream": "stdout",
       "text": [
        "Job launched 1906.3s ago, status RUNNING: Running step (compute_stats.ubuntu.20140527.005916.908620: Step 1 of 2)\r\n"
       ]
      },
      {
       "output_type": "stream",
       "stream": "stdout",
       "text": [
        "Job launched 1936.9s ago, status RUNNING: Running step (compute_stats.ubuntu.20140527.005916.908620: Step 1 of 2)\r\n"
       ]
      },
      {
       "output_type": "stream",
       "stream": "stdout",
       "text": [
        "Job launched 1967.6s ago, status RUNNING: Running step (compute_stats.ubuntu.20140527.005916.908620: Step 1 of 2)\r\n"
       ]
      },
      {
       "output_type": "stream",
       "stream": "stdout",
       "text": [
        "Job launched 1998.4s ago, status RUNNING: Running step (compute_stats.ubuntu.20140527.005916.908620: Step 1 of 2)\r\n"
       ]
      },
      {
       "output_type": "stream",
       "stream": "stdout",
       "text": [
        "Job launched 2029.1s ago, status RUNNING: Running step (compute_stats.ubuntu.20140527.005916.908620: Step 1 of 2)\r\n"
       ]
      },
      {
       "output_type": "stream",
       "stream": "stdout",
       "text": [
        "Job launched 2059.7s ago, status RUNNING: Running step (compute_stats.ubuntu.20140527.005916.908620: Step 1 of 2)\r\n"
       ]
      },
      {
       "output_type": "stream",
       "stream": "stdout",
       "text": [
        "Job launched 2090.2s ago, status RUNNING: Running step (compute_stats.ubuntu.20140527.005916.908620: Step 1 of 2)\r\n"
       ]
      },
      {
       "output_type": "stream",
       "stream": "stdout",
       "text": [
        "Job launched 2121.0s ago, status RUNNING: Running step (compute_stats.ubuntu.20140527.005916.908620: Step 1 of 2)\r\n"
       ]
      },
      {
       "output_type": "stream",
       "stream": "stdout",
       "text": [
        "Job launched 2151.8s ago, status RUNNING: Running step (compute_stats.ubuntu.20140527.005916.908620: Step 1 of 2)\r\n"
       ]
      },
      {
       "output_type": "stream",
       "stream": "stdout",
       "text": [
        "Job launched 2182.5s ago, status RUNNING: Running step (compute_stats.ubuntu.20140527.005916.908620: Step 1 of 2)\r\n"
       ]
      },
      {
       "output_type": "stream",
       "stream": "stdout",
       "text": [
        "Job launched 2213.1s ago, status RUNNING: Running step (compute_stats.ubuntu.20140527.005916.908620: Step 1 of 2)\r\n"
       ]
      },
      {
       "output_type": "stream",
       "stream": "stdout",
       "text": [
        "Job launched 2243.8s ago, status RUNNING: Running step (compute_stats.ubuntu.20140527.005916.908620: Step 1 of 2)\r\n"
       ]
      },
      {
       "output_type": "stream",
       "stream": "stdout",
       "text": [
        "Got retriable error: EmrResponseError: 400 Bad Request\r\n",
        "<ErrorResponse xmlns=\"http://elasticmapreduce.amazonaws.com/doc/2009-03-31\">\r\n",
        "  <Error>\r\n",
        "    <Type>Sender</Type>\r\n",
        "    <Code>Throttling</Code>\r\n",
        "    <Message>Rate exceeded</Message>\r\n",
        "  </Error>\r\n",
        "  <RequestId>7b5b05d1-e53f-11e3-af71-7d8b78bb4770</RequestId>\r\n",
        "</ErrorResponse>\r\n",
        "\r\n",
        "Backing off for 20.0 seconds\r\n"
       ]
      },
      {
       "output_type": "stream",
       "stream": "stdout",
       "text": [
        "Got retriable error: EmrResponseError: 400 Bad Request\r\n",
        "<ErrorResponse xmlns=\"http://elasticmapreduce.amazonaws.com/doc/2009-03-31\">\r\n",
        "  <Error>\r\n",
        "    <Type>Sender</Type>\r\n",
        "    <Code>Throttling</Code>\r\n",
        "    <Message>Rate exceeded</Message>\r\n",
        "  </Error>\r\n",
        "  <RequestId>874baa3d-e53f-11e3-af71-7d8b78bb4770</RequestId>\r\n",
        "</ErrorResponse>\r\n",
        "\r\n",
        "Backing off for 30.0 seconds\r\n"
       ]
      },
      {
       "output_type": "stream",
       "stream": "stdout",
       "text": [
        "Job launched 2324.5s ago, status RUNNING: Running step (compute_stats.ubuntu.20140527.005916.908620: Step 1 of 2)\r\n"
       ]
      },
      {
       "output_type": "stream",
       "stream": "stdout",
       "text": [
        "Job launched 2355.0s ago, status RUNNING: Running step (compute_stats.ubuntu.20140527.005916.908620: Step 1 of 2)\r\n"
       ]
      },
      {
       "output_type": "stream",
       "stream": "stdout",
       "text": [
        "Got retriable error: EmrResponseError: 400 Bad Request\r\n",
        "<ErrorResponse xmlns=\"http://elasticmapreduce.amazonaws.com/doc/2009-03-31\">\r\n",
        "  <Error>\r\n",
        "    <Type>Sender</Type>\r\n",
        "    <Code>Throttling</Code>\r\n",
        "    <Message>Rate exceeded</Message>\r\n",
        "  </Error>\r\n",
        "  <RequestId>bda8c01c-e53f-11e3-80e8-ff6cff06198c</RequestId>\r\n",
        "</ErrorResponse>\r\n",
        "\r\n",
        "Backing off for 20.0 seconds\r\n"
       ]
      },
      {
       "output_type": "stream",
       "stream": "stdout",
       "text": [
        "Job launched 2405.7s ago, status RUNNING: Running step (compute_stats.ubuntu.20140527.005916.908620: Step 1 of 2)\r\n"
       ]
      },
      {
       "output_type": "stream",
       "stream": "stdout",
       "text": [
        "Got retriable error: EmrResponseError: 400 Bad Request\r\n",
        "<ErrorResponse xmlns=\"http://elasticmapreduce.amazonaws.com/doc/2009-03-31\">\r\n",
        "  <Error>\r\n",
        "    <Type>Sender</Type>\r\n",
        "    <Code>Throttling</Code>\r\n",
        "    <Message>Rate exceeded</Message>\r\n",
        "  </Error>\r\n",
        "  <RequestId>dbe0a5f0-e53f-11e3-bea8-dbf80bac8b69</RequestId>\r\n",
        "</ErrorResponse>\r\n",
        "\r\n",
        "Backing off for 20.0 seconds\r\n"
       ]
      },
      {
       "output_type": "stream",
       "stream": "stdout",
       "text": [
        "Job launched 2456.3s ago, status RUNNING: Running step (compute_stats.ubuntu.20140527.005916.908620: Step 1 of 2)\r\n"
       ]
      },
      {
       "output_type": "stream",
       "stream": "stdout",
       "text": [
        "Job launched 2486.9s ago, status RUNNING: Running step (compute_stats.ubuntu.20140527.005916.908620: Step 1 of 2)\r\n"
       ]
      },
      {
       "output_type": "stream",
       "stream": "stdout",
       "text": [
        "Job launched 2517.6s ago, status RUNNING: Running step (compute_stats.ubuntu.20140527.005916.908620: Step 1 of 2)\r\n"
       ]
      },
      {
       "output_type": "stream",
       "stream": "stdout",
       "text": [
        "Got retriable error: EmrResponseError: 400 Bad Request\r\n",
        "<ErrorResponse xmlns=\"http://elasticmapreduce.amazonaws.com/doc/2009-03-31\">\r\n",
        "  <Error>\r\n",
        "    <Type>Sender</Type>\r\n",
        "    <Code>Throttling</Code>\r\n",
        "    <Message>Rate exceeded</Message>\r\n",
        "  </Error>\r\n",
        "  <RequestId>1e8ad7de-e540-11e3-bea8-dbf80bac8b69</RequestId>\r\n",
        "</ErrorResponse>\r\n",
        "\r\n",
        "Backing off for 20.0 seconds\r\n"
       ]
      },
      {
       "output_type": "stream",
       "stream": "stdout",
       "text": [
        "Job launched 2568.3s ago, status RUNNING: Running step (compute_stats.ubuntu.20140527.005916.908620: Step 1 of 2)\r\n"
       ]
      },
      {
       "output_type": "stream",
       "stream": "stdout",
       "text": [
        "Job launched 2598.9s ago, status RUNNING: Running step (compute_stats.ubuntu.20140527.005916.908620: Step 1 of 2)\r\n"
       ]
      },
      {
       "output_type": "stream",
       "stream": "stdout",
       "text": [
        "Job launched 2629.4s ago, status RUNNING: Running step (compute_stats.ubuntu.20140527.005916.908620: Step 1 of 2)\r\n"
       ]
      },
      {
       "output_type": "stream",
       "stream": "stdout",
       "text": [
        "Job launched 2660.2s ago, status RUNNING: Running step (compute_stats.ubuntu.20140527.005916.908620: Step 1 of 2)\r\n"
       ]
      },
      {
       "output_type": "stream",
       "stream": "stdout",
       "text": [
        "Job launched 2690.8s ago, status RUNNING: Running step (compute_stats.ubuntu.20140527.005916.908620: Step 1 of 2)\r\n"
       ]
      },
      {
       "output_type": "stream",
       "stream": "stdout",
       "text": [
        "Job launched 2721.5s ago, status RUNNING: Running step (compute_stats.ubuntu.20140527.005916.908620: Step 1 of 2)\r\n"
       ]
      },
      {
       "output_type": "stream",
       "stream": "stdout",
       "text": [
        "Got retriable error: EmrResponseError: 400 Bad Request\r\n",
        "<ErrorResponse xmlns=\"http://elasticmapreduce.amazonaws.com/doc/2009-03-31\">\r\n",
        "  <Error>\r\n",
        "    <Type>Sender</Type>\r\n",
        "    <Code>Throttling</Code>\r\n",
        "    <Message>Rate exceeded</Message>\r\n",
        "  </Error>\r\n",
        "  <RequestId>9815f3f1-e540-11e3-8362-0f887c06ae20</RequestId>\r\n",
        "</ErrorResponse>\r\n",
        "\r\n",
        "Backing off for 20.0 seconds\r\n"
       ]
      },
      {
       "output_type": "stream",
       "stream": "stdout",
       "text": [
        "Job launched 2772.1s ago, status RUNNING: Running step (compute_stats.ubuntu.20140527.005916.908620: Step 1 of 2)\r\n"
       ]
      },
      {
       "output_type": "stream",
       "stream": "stdout",
       "text": [
        "Job launched 2802.8s ago, status RUNNING: Running step (compute_stats.ubuntu.20140527.005916.908620: Step 1 of 2)\r\n"
       ]
      },
      {
       "output_type": "stream",
       "stream": "stdout",
       "text": [
        "Job launched 2833.4s ago, status RUNNING: Running step (compute_stats.ubuntu.20140527.005916.908620: Step 1 of 2)\r\n"
       ]
      },
      {
       "output_type": "stream",
       "stream": "stdout",
       "text": [
        "Got retriable error: EmrResponseError: 400 Bad Request\r\n",
        "<ErrorResponse xmlns=\"http://elasticmapreduce.amazonaws.com/doc/2009-03-31\">\r\n",
        "  <Error>\r\n",
        "    <Type>Sender</Type>\r\n",
        "    <Code>Throttling</Code>\r\n",
        "    <Message>Rate exceeded</Message>\r\n",
        "  </Error>\r\n",
        "  <RequestId>dad0523e-e540-11e3-8362-0f887c06ae20</RequestId>\r\n",
        "</ErrorResponse>\r\n",
        "\r\n",
        "Backing off for 20.0 seconds\r\n"
       ]
      },
      {
       "output_type": "stream",
       "stream": "stdout",
       "text": [
        "Job launched 2884.1s ago, status RUNNING: Running step (compute_stats.ubuntu.20140527.005916.908620: Step 1 of 2)\r\n"
       ]
      },
      {
       "output_type": "stream",
       "stream": "stdout",
       "text": [
        "Job launched 2914.8s ago, status RUNNING: Running step (compute_stats.ubuntu.20140527.005916.908620: Step 1 of 2)\r\n"
       ]
      },
      {
       "output_type": "stream",
       "stream": "stdout",
       "text": [
        "Got retriable error: EmrResponseError: 400 Bad Request\r\n",
        "<ErrorResponse xmlns=\"http://elasticmapreduce.amazonaws.com/doc/2009-03-31\">\r\n",
        "  <Error>\r\n",
        "    <Type>Sender</Type>\r\n",
        "    <Code>Throttling</Code>\r\n",
        "    <Message>Rate exceeded</Message>\r\n",
        "  </Error>\r\n",
        "  <RequestId>0b540f11-e541-11e3-8362-0f887c06ae20</RequestId>\r\n",
        "</ErrorResponse>\r\n",
        "\r\n",
        "Backing off for 20.0 seconds\r\n"
       ]
      },
      {
       "output_type": "stream",
       "stream": "stdout",
       "text": [
        "Job launched 2965.6s ago, status RUNNING: Running step (compute_stats.ubuntu.20140527.005916.908620: Step 1 of 2)\r\n"
       ]
      },
      {
       "output_type": "stream",
       "stream": "stdout",
       "text": [
        "Got retriable error: EmrResponseError: 400 Bad Request\r\n",
        "<ErrorResponse xmlns=\"http://elasticmapreduce.amazonaws.com/doc/2009-03-31\">\r\n",
        "  <Error>\r\n",
        "    <Type>Sender</Type>\r\n",
        "    <Code>Throttling</Code>\r\n",
        "    <Message>Rate exceeded</Message>\r\n",
        "  </Error>\r\n",
        "  <RequestId>299592c3-e541-11e3-af71-7d8b78bb4770</RequestId>\r\n",
        "</ErrorResponse>\r\n",
        "\r\n",
        "Backing off for 20.0 seconds\r\n"
       ]
      },
      {
       "output_type": "stream",
       "stream": "stdout",
       "text": [
        "Job launched 3016.4s ago, status RUNNING: Running step (compute_stats.ubuntu.20140527.005916.908620: Step 1 of 2)\r\n"
       ]
      },
      {
       "output_type": "stream",
       "stream": "stdout",
       "text": [
        "Job launched 3047.0s ago, status RUNNING: Running step (compute_stats.ubuntu.20140527.005916.908620: Step 1 of 2)\r\n"
       ]
      },
      {
       "output_type": "stream",
       "stream": "stdout",
       "text": [
        "Job launched 3077.7s ago, status RUNNING: Running step (compute_stats.ubuntu.20140527.005916.908620: Step 1 of 2)\r\n"
       ]
      },
      {
       "output_type": "stream",
       "stream": "stdout",
       "text": [
        "Job launched 3108.4s ago, status RUNNING: Running step (compute_stats.ubuntu.20140527.005916.908620: Step 1 of 2)\r\n"
       ]
      },
      {
       "output_type": "stream",
       "stream": "stdout",
       "text": [
        "Job launched 3139.1s ago, status RUNNING: Running step (compute_stats.ubuntu.20140527.005916.908620: Step 1 of 2)\r\n"
       ]
      },
      {
       "output_type": "stream",
       "stream": "stdout",
       "text": [
        "Job launched 3169.8s ago, status RUNNING: Running step (compute_stats.ubuntu.20140527.005916.908620: Step 1 of 2)\r\n"
       ]
      },
      {
       "output_type": "stream",
       "stream": "stdout",
       "text": [
        "Got retriable error: EmrResponseError: 400 Bad Request\r\n",
        "<ErrorResponse xmlns=\"http://elasticmapreduce.amazonaws.com/doc/2009-03-31\">\r\n",
        "  <Error>\r\n",
        "    <Type>Sender</Type>\r\n",
        "    <Code>Throttling</Code>\r\n",
        "    <Message>Rate exceeded</Message>\r\n",
        "  </Error>\r\n",
        "  <RequestId>a3494601-e541-11e3-acfe-a31808eb12d5</RequestId>\r\n",
        "</ErrorResponse>\r\n",
        "\r\n",
        "Backing off for 20.0 seconds\r\n"
       ]
      },
      {
       "output_type": "stream",
       "stream": "stdout",
       "text": [
        "Got retriable error: EmrResponseError: 400 Bad Request\r\n",
        "<ErrorResponse xmlns=\"http://elasticmapreduce.amazonaws.com/doc/2009-03-31\">\r\n",
        "  <Error>\r\n",
        "    <Type>Sender</Type>\r\n",
        "    <Code>Throttling</Code>\r\n",
        "    <Message>Rate exceeded</Message>\r\n",
        "  </Error>\r\n",
        "  <RequestId>af3a3816-e541-11e3-a7f3-054eed488613</RequestId>\r\n",
        "</ErrorResponse>\r\n",
        "\r\n",
        "Backing off for 30.0 seconds\r\n"
       ]
      },
      {
       "output_type": "stream",
       "stream": "stdout",
       "text": [
        "Job launched 3250.4s ago, status RUNNING: Running step (compute_stats.ubuntu.20140527.005916.908620: Step 1 of 2)\r\n"
       ]
      },
      {
       "output_type": "stream",
       "stream": "stdout",
       "text": [
        "Got retriable error: EmrResponseError: 400 Bad Request\r\n",
        "<ErrorResponse xmlns=\"http://elasticmapreduce.amazonaws.com/doc/2009-03-31\">\r\n",
        "  <Error>\r\n",
        "    <Type>Sender</Type>\r\n",
        "    <Code>Throttling</Code>\r\n",
        "    <Message>Rate exceeded</Message>\r\n",
        "  </Error>\r\n",
        "  <RequestId>d360fb76-e541-11e3-a7f3-054eed488613</RequestId>\r\n",
        "</ErrorResponse>\r\n",
        "\r\n",
        "Backing off for 20.0 seconds\r\n"
       ]
      },
      {
       "output_type": "stream",
       "stream": "stdout",
       "text": [
        "Job launched 3301.1s ago, status RUNNING: Running step (compute_stats.ubuntu.20140527.005916.908620: Step 1 of 2)\r\n"
       ]
      },
      {
       "output_type": "stream",
       "stream": "stdout",
       "text": [
        "Job launched 3331.7s ago, status RUNNING: Running step (compute_stats.ubuntu.20140527.005916.908620: Step 1 of 2)\r\n"
       ]
      },
      {
       "output_type": "stream",
       "stream": "stdout",
       "text": [
        "Job launched 3362.4s ago, status RUNNING: Running step (compute_stats.ubuntu.20140527.005916.908620: Step 1 of 2)\r\n"
       ]
      },
      {
       "output_type": "stream",
       "stream": "stdout",
       "text": [
        "Job launched 3393.0s ago, status RUNNING: Running step (compute_stats.ubuntu.20140527.005916.908620: Step 1 of 2)\r\n"
       ]
      },
      {
       "output_type": "stream",
       "stream": "stdout",
       "text": [
        "Job launched 3423.5s ago, status RUNNING: Running step (compute_stats.ubuntu.20140527.005916.908620: Step 1 of 2)\r\n"
       ]
      },
      {
       "output_type": "stream",
       "stream": "stdout",
       "text": [
        "Got retriable error: EmrResponseError: 400 Bad Request\r\n",
        "<ErrorResponse xmlns=\"http://elasticmapreduce.amazonaws.com/doc/2009-03-31\">\r\n",
        "  <Error>\r\n",
        "    <Type>Sender</Type>\r\n",
        "    <Code>Throttling</Code>\r\n",
        "    <Message>Rate exceeded</Message>\r\n",
        "  </Error>\r\n",
        "  <RequestId>3a8eb4dc-e542-11e3-9fde-05f53a330f8a</RequestId>\r\n",
        "</ErrorResponse>\r\n",
        "\r\n",
        "Backing off for 20.0 seconds\r\n"
       ]
      },
      {
       "output_type": "stream",
       "stream": "stdout",
       "text": [
        "Got retriable error: EmrResponseError: 400 Bad Request\r\n",
        "<ErrorResponse xmlns=\"http://elasticmapreduce.amazonaws.com/doc/2009-03-31\">\r\n",
        "  <Error>\r\n",
        "    <Type>Sender</Type>\r\n",
        "    <Code>Throttling</Code>\r\n",
        "    <Message>Rate exceeded</Message>\r\n",
        "  </Error>\r\n",
        "  <RequestId>46806aa4-e542-11e3-9fde-05f53a330f8a</RequestId>\r\n",
        "</ErrorResponse>\r\n",
        "\r\n",
        "Backing off for 30.0 seconds\r\n"
       ]
      },
      {
       "output_type": "stream",
       "stream": "stdout",
       "text": [
        "Job launched 3504.2s ago, status RUNNING: Running step (compute_stats.ubuntu.20140527.005916.908620: Step 1 of 2)\r\n"
       ]
      },
      {
       "output_type": "stream",
       "stream": "stdout",
       "text": [
        "Job launched 3534.9s ago, status RUNNING: Running step (compute_stats.ubuntu.20140527.005916.908620: Step 1 of 2)\r\n"
       ]
      },
      {
       "output_type": "stream",
       "stream": "stdout",
       "text": [
        "Job launched 3565.5s ago, status RUNNING: Running step (compute_stats.ubuntu.20140527.005916.908620: Step 1 of 2)\r\n"
       ]
      },
      {
       "output_type": "stream",
       "stream": "stdout",
       "text": [
        "Job launched 3596.1s ago, status RUNNING: Running step (compute_stats.ubuntu.20140527.005916.908620: Step 1 of 2)\r\n"
       ]
      },
      {
       "output_type": "stream",
       "stream": "stdout",
       "text": [
        "Job launched 3626.8s ago, status RUNNING: Running step (compute_stats.ubuntu.20140527.005916.908620: Step 1 of 2)\r\n"
       ]
      },
      {
       "output_type": "stream",
       "stream": "stdout",
       "text": [
        "Job launched 3657.5s ago, status RUNNING: Running step (compute_stats.ubuntu.20140527.005916.908620: Step 1 of 2)\r\n"
       ]
      },
      {
       "output_type": "stream",
       "stream": "stdout",
       "text": [
        "Job launched 3688.0s ago, status RUNNING: Running step (compute_stats.ubuntu.20140527.005916.908620: Step 1 of 2)\r\n"
       ]
      },
      {
       "output_type": "stream",
       "stream": "stdout",
       "text": [
        "Got retriable error: EmrResponseError: 400 Bad Request\r\n",
        "<ErrorResponse xmlns=\"http://elasticmapreduce.amazonaws.com/doc/2009-03-31\">\r\n",
        "  <Error>\r\n",
        "    <Type>Sender</Type>\r\n",
        "    <Code>Throttling</Code>\r\n",
        "    <Message>Rate exceeded</Message>\r\n",
        "  </Error>\r\n",
        "  <RequestId>d831ee6c-e542-11e3-b635-b92af58569e9</RequestId>\r\n",
        "</ErrorResponse>\r\n",
        "\r\n",
        "Backing off for 20.0 seconds\r\n"
       ]
      },
      {
       "output_type": "stream",
       "stream": "stdout",
       "text": [
        "Job launched 3738.7s ago, status RUNNING: Running step (compute_stats.ubuntu.20140527.005916.908620: Step 1 of 2)\r\n"
       ]
      },
      {
       "output_type": "stream",
       "stream": "stdout",
       "text": [
        "Job launched 3769.4s ago, status RUNNING: Running step (compute_stats.ubuntu.20140527.005916.908620: Step 1 of 2)\r\n"
       ]
      },
      {
       "output_type": "stream",
       "stream": "stdout",
       "text": [
        "Job on job flow j-6T8VIKMY8RHX failed with status WAITING: Waiting after step failed\r\n",
        "Logs are in s3://yoav.hadoop/log/j-6T8VIKMY8RHX/\r\n",
        "ec2_key_pair_file not specified, going to S3\r\n",
        "Scanning S3 logs for probable cause of failure\r\n",
        "Waiting 5.0s for S3 eventual consistency\r\n"
       ]
      },
      {
       "output_type": "stream",
       "stream": "stdout",
       "text": [
        "Attempting to terminate job...\r\n"
       ]
      },
      {
       "output_type": "stream",
       "stream": "stdout",
       "text": [
        "Traceback (most recent call last):\r\n",
        "  File \"compute_stats.py\", line 126, in <module>\r\n",
        "    per_node_calc.run()\r\n",
        "  File \"/usr/local/lib/python2.7/dist-packages/mrjob/job.py\", line 494, in run\r\n",
        "    mr_job.execute()\r\n",
        "  File \"/usr/local/lib/python2.7/dist-packages/mrjob/job.py\", line 512, in execute\r\n",
        "    super(MRJob, self).execute()\r\n",
        "  File \"/usr/local/lib/python2.7/dist-packages/mrjob/launch.py\", line 147, in execute\r\n",
        "    self.run_job()\r\n",
        "  File \"/usr/local/lib/python2.7/dist-packages/mrjob/launch.py\", line 213, in run_job\r\n",
        "    self.stdout.flush()\r\n",
        "  File \"/usr/local/lib/python2.7/dist-packages/mrjob/runner.py\", line 614, in __exit__\r\n",
        "    self.cleanup()\r\n",
        "  File \"/usr/local/lib/python2.7/dist-packages/mrjob/emr.py\", line 1010, in cleanup\r\n",
        "    super(EMRJobRunner, self).cleanup(mode=mode)\r\n",
        "  File \"/usr/local/lib/python2.7/dist-packages/mrjob/runner.py\", line 560, in cleanup\r\n",
        "    self._cleanup_job()\r\n",
        "  File \"/usr/local/lib/python2.7/dist-packages/mrjob/emr.py\", line 1084, in _cleanup_job\r\n",
        "    self._opts['ec2_key_pair_file'])\r\n",
        "  File \"/usr/local/lib/python2.7/dist-packages/mrjob/ssh.py\", line 200, in ssh_terminate_single_job\r\n",
        "    ssh_bin, address, ec2_key_pair_file, ['hadoop', 'job', '-list']))\r\n",
        "  File \"/usr/local/lib/python2.7/dist-packages/mrjob/ssh.py\", line 82, in ssh_run\r\n",
        "    p = Popen(args, stdout=PIPE, stderr=PIPE, stdin=PIPE)\r\n",
        "  File \"/home/ubuntu/anaconda/lib/python2.7/subprocess.py\", line 709, in __init__\r\n",
        "    errread, errwrite)\r\n",
        "  File \"/home/ubuntu/anaconda/lib/python2.7/subprocess.py\", line 1326, in _execute_child\r\n",
        "    raise child_exception\r\n",
        "TypeError: execv() arg 2 must contain only strings\r\n"
       ]
      }
     ]
    },
    {
     "cell_type": "code",
     "collapsed": false,
     "input": [
      "!ls -alh all_leaf_info*\n",
      "!ls -alh leaf_station*"
     ],
     "language": "python",
     "metadata": {},
     "outputs": [
      {
       "output_type": "stream",
       "stream": "stdout",
       "text": [
        "-rw-rw-r-- 1 ubuntu ubuntu 70M May 26 05:34 all_leaf_info.txt\r\n"
       ]
      },
      {
       "output_type": "stream",
       "stream": "stdout",
       "text": [
        "-rw-rw-r-- 1 ubuntu ubuntu 39K May 26 20:51 leaf_station_count.pkl\r\n"
       ]
      }
     ],
     "prompt_number": 147
    },
    {
     "cell_type": "code",
     "collapsed": false,
     "input": [
      "!head -100 pca_result.txt"
     ],
     "language": "python",
     "metadata": {},
     "outputs": [
      {
       "output_type": "stream",
       "stream": "stdout",
       "text": [
        "\"LEAF_0\"\t1\r\n"
       ]
      }
     ],
     "prompt_number": 140
    },
    {
     "cell_type": "markdown",
     "metadata": {},
     "source": [
      "##do some basic merging on the last level, and plot##"
     ]
    },
    {
     "cell_type": "code",
     "collapsed": false,
     "input": [
      "# function for determining merge or not\n",
      "def should_merge(child1, child2, parent):\n",
      "    parent.stationList = child1.stationList + child2.stationList\n",
      "    \n",
      "    # write the station data to file, just like mapping\n",
      "    parent_station_list = parent.stationList\n",
      "    with open(\"naive_merge.txt\", \"wb\") as f:\n",
      "        for station in parent_station_list:\n",
      "            if station not in station_2_data: continue\n",
      "            else:\n",
      "                data = station_2_data[station]\n",
      "                data_serial = serialize(data)\n",
      "                f.write('dummy_const_key' + ',' + data_serial)\n",
      "    \n",
      "    # perform pca on the file\n",
      "    #!python pca_analysis_merge.py -r local naive_merge.txt > naive_merge_result.txt\n",
      "    \n",
      "    # read from the output, and parse the k\n",
      "    new_k = -1\n",
      "    with open('naive_merge_result.txt') as f:\n",
      "        for line in f:\n",
      "            line = line.strip()\n",
      "            if line == '': continue\n",
      "            arr = line.split(',')\n",
      "            assert(len(arr) == 2)\n",
      "            if arr[0] == 'new_k': new_k = arr[1]\n",
      "    \n",
      "    # using all three nodes to return a boolean result\n",
      "    child1_metric = len(child1.stationList) * child1.k + (child1.k+1)*2*365\n",
      "    child2_metric = len(child2.stationList) * child2.k + (child2.k+1)*2*365\n",
      "    parent_metric = len(parent.stationList) * new_k    + (new_k + 1)*2*365\n",
      "    \n",
      "    if child1_metric + child2_metric > parent_metric: return False\n",
      "    else: return True"
     ],
     "language": "python",
     "metadata": {},
     "outputs": []
    },
    {
     "cell_type": "code",
     "collapsed": false,
     "input": [
      "# naive merging on neighboring pairs\n",
      "i = 0\n",
      "while i < len(leaf_list):\n",
      "    if i + 1 < len(leaf_list):\n",
      "        this_node = leaf_list[i]\n",
      "        next_node = leaf_list[i+1]\n",
      "        \n",
      "        if this_node.parent == next_node.parent:\n",
      "            if should_merge(this_node, next_node, this_node.parent) == True:\n",
      "                parent = this_node.parent\n",
      "                parent.leftChild = None\n",
      "                parent.rightChild = None\n",
      "            \n",
      "            # move on to next pair    \n",
      "            i += 2\n",
      "        else:\n",
      "            i += 1\n",
      "    else: \n",
      "        break\n",
      "\n",
      "merged_leaf_list = []\n",
      "find_all_leaves(root, merged_leaf_list)\n",
      "draw_the_map(merged_leaf_list)"
     ],
     "language": "python",
     "metadata": {},
     "outputs": []
    },
    {
     "cell_type": "markdown",
     "metadata": {},
     "source": [
      "##Grade##\n",
      "\n",
      "The main problem with this notebook is that it contains almost only code, it does not contain enough:\n",
      "\n",
      "1. Markdown cells with explanations\n",
      "1. Comments inside the code\n",
      "1. Figures / maps\n",
      "1. Tests that prove that the code does what it is supposed to do.\n",
      "\n",
      "For the one map that does exist the results are clearly incorrect because the regions are very elongated.\n",
      "\n",
      "Overall Grade 70"
     ]
    },
    {
     "cell_type": "code",
     "collapsed": false,
     "input": [],
     "language": "python",
     "metadata": {},
     "outputs": []
    }
   ],
   "metadata": {}
  }
 ]
}