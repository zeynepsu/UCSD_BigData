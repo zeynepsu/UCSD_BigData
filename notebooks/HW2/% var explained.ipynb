{
 "metadata": {
  "name": "",
  "signature": "sha256:58028ef3f34c9efbb7b9c72c15f14bc1d766457a6128eb865eeeebc1d2d2c6fb"
 },
 "nbformat": 3,
 "nbformat_minor": 0,
 "worksheets": [
  {
   "cells": [
    {
     "cell_type": "code",
     "collapsed": false,
     "input": [
      "import pickle\n",
      "with open('grouexplVarWrdping2.pkl', 'rb') as infile:\n",
      "    new = pickle.load( infile)\n",
      "    print len(new)\n"
     ],
     "language": "python",
     "metadata": {},
     "outputs": [
      {
       "output_type": "stream",
       "stream": "stdout",
       "text": [
        "84\n"
       ]
      }
     ],
     "prompt_number": 10
    },
    {
     "cell_type": "code",
     "collapsed": false,
     "input": [
      "type(new)"
     ],
     "language": "python",
     "metadata": {},
     "outputs": [
      {
       "metadata": {},
       "output_type": "pyout",
       "prompt_number": 11,
       "text": [
        "collections.defaultdict"
       ]
      }
     ],
     "prompt_number": 11
    },
    {
     "cell_type": "code",
     "collapsed": false,
     "input": [
      "count=0\n",
      "C=zeros(len(new))\n",
      "for key in new.keys():    \n",
      "    P=cumsum(new[key])\n",
      "    P=P/P[-1]\n",
      "    C[count]=min([i for i in range(len(P)) if P[i]>0.99])\n",
      "    #plot(P/P[-1],label=key)\n",
      "    count+=1\n",
      "    #if count>6: break\n",
      "#legend()"
     ],
     "language": "python",
     "metadata": {},
     "outputs": [],
     "prompt_number": 29
    },
    {
     "cell_type": "code",
     "collapsed": false,
     "input": [
      "C.sort()\n",
      "C"
     ],
     "language": "python",
     "metadata": {},
     "outputs": [
      {
       "metadata": {},
       "output_type": "pyout",
       "prompt_number": 30,
       "text": [
        "array([   0.,    0.,    0.,    0.,    0.,    0.,    0.,    0.,    0.,\n",
        "          0.,    0.,    0.,    0.,    1.,    1.,    1.,    1.,    1.,\n",
        "          1.,    1.,    1.,    2.,    2.,    2.,    2.,    2.,    2.,\n",
        "          2.,    2.,    2.,    2.,    2.,    2.,    2.,    2.,    2.,\n",
        "          3.,    3.,    3.,    3.,    4.,    4.,    4.,    4.,    5.,\n",
        "          5.,    6.,    6.,    6.,    6.,    6.,    7.,    8.,    8.,\n",
        "          8.,    9.,    9.,    9.,   10.,   10.,   13.,   13.,   14.,\n",
        "         15.,   18.,   20.,   32.,   33.,   33.,   34.,   34.,   35.,\n",
        "         37.,   57.,   81.,   85.,   87.,   92.,  101.,  108.,  169.,\n",
        "        204.,  281.,  288.])"
       ]
      }
     ],
     "prompt_number": 30
    },
    {
     "cell_type": "code",
     "collapsed": false,
     "input": [],
     "language": "python",
     "metadata": {},
     "outputs": []
    }
   ],
   "metadata": {}
  }
 ]
}