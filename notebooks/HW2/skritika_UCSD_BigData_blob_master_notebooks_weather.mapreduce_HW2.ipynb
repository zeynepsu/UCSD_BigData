{
 "metadata": {
  "name": "",
  "signature": "sha256:a6c41db0bf06586fb734f5b19fe87bf6b68529def3d8b408afcb6116766b2ca2"
 },
 "nbformat": 3,
 "nbformat_minor": 0,
 "worksheets": [
  {
   "cells": [
    {
     "cell_type": "markdown",
     "metadata": {},
     "source": [
      "It is divided into 2 notebooks - Hierarchichal Partitioning.ipynb and Clustering.ipynb\n"
     ]
    }
   ],
   "metadata": {}
  }
 ]
}
