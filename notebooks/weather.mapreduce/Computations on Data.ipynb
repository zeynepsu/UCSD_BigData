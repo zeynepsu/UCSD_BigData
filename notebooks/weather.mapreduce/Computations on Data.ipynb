{
 "metadata": {
  "name": "",
  "signature": "sha256:3a423e83d4657731d654e2574dcc7b6f13bf0c45bc33e9bc5d2a4238833a4e26"
 },
 "nbformat": 3,
 "nbformat_minor": 0,
 "worksheets": [
  {
   "cells": [
    {
     "cell_type": "code",
     "collapsed": false,
     "input": [
      "Hello"
     ],
     "language": "python",
     "metadata": {},
     "outputs": []
    }
   ],
   "metadata": {}
  }
 ]
}