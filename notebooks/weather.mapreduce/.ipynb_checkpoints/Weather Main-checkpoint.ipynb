{
 "metadata": {
  "name": "",
  "signature": "sha256:7aa4a8d89c298eb5f2c3dc4096925a4a0b8e3feb351ff86b6d2ccd7852f2d955"
 },
 "nbformat": 3,
 "nbformat_minor": 0,
 "worksheets": []
}